{
 "cells": [
  {
   "cell_type": "markdown",
   "metadata": {},
   "source": [
    "# Functionality of this notebook: \n",
    "\n",
    "1. calculate the ciCOH for normal and mild LFP data in beta1 and beta2 band\n",
    "\n",
    "2. stk is short for single target kluver\n"
   ]
  },
  {
   "cell_type": "code",
   "execution_count": 1,
   "metadata": {},
   "outputs": [
    {
     "name": "stdout",
     "output_type": "stream",
     "text": [
      "importing Jupyter notebook from /home/lingling/yang7003@umn.edu/NMRC_umn/Codes/FCAnalysis/connAnalyTool/synchronization_indices.ipynb\n",
      "importing Jupyter notebook from /home/lingling/yang7003@umn.edu/NMRC_umn/Codes/FCAnalysis/util/folder_extract.ipynb\n"
     ]
    }
   ],
   "source": [
    "import os, sys\n",
    "import scipy.io as sio\n",
    "import glob\n",
    "import numpy as np\n",
    "import matplotlib.pyplot as plt\n",
    "%matplotlib inline\n",
    "\n",
    "\"\"\" \n",
    "    user defined module\n",
    "\"\"\"\n",
    "\n",
    "# import_nbmodule used for import package in .ipynb\n",
    "import import_nbmodule\n",
    "\n",
    "# add path '../'\n",
    "sys.path.append(os.path.abspath(os.path.join('..')))\n",
    "\n",
    "# import ciCoherence_overtime in ../connAnalyTool/synchronization_indices.ipynb\n",
    "from connAnalyTool.synchronization_indices import ciCoherence_acrosstrials\n",
    "from connAnalyTool.synchronization_indices import ciCoherence_overtime\n",
    "\n",
    "\n",
    "# import animal_folder in ../util/folder_extract.pynb \n",
    "from util.folder_extract import animal_folder"
   ]
  },
  {
   "cell_type": "markdown",
   "metadata": {},
   "source": [
    "## calculate ciCOH"
   ]
  },
  {
   "cell_type": "markdown",
   "metadata": {},
   "source": [
    "### function ciCOH_lfp <a id='funcciCOH_lfp'></a>\n",
    "\n",
    "1. calculate ciCOH of each pair of channels in return phase from lfp data\n",
    "\n",
    "2. only analyze the return phase whose duration is longer than 500ms and shorter than 1s"
   ]
  },
  {
   "cell_type": "code",
   "execution_count": 2,
   "metadata": {
    "code_folding": []
   },
   "outputs": [],
   "source": [
    "def ciCOH_lfp(lfp, fs, idxevent, idxevent_varNames, tdur_min = 0.5, tdur_max = 1):\n",
    "    \n",
    "    \"\"\"\n",
    "        return the ciCOH in the return phase for all the trials extracted from lfp data\n",
    "        \n",
    "        Args:\n",
    "        \n",
    "            lfp: local field potential data (nchns * ntemporals * ntrials)\n",
    "            \n",
    "            fs: sample rate\n",
    "            \n",
    "            idxevent: event indices array (ntrials *5)\n",
    "            \n",
    "            idxevent_varNames: event names array ['TargetTime' 'ReachTimeix' 'TouchTimeix' 'ReturnTimeix' 'MouthTimeix']\n",
    "            \n",
    "            tdur_min, tdur_max: minimal and maximal duration for return phase\n",
    "            \n",
    "        Return:\n",
    "            ciCOH_alltrials: ciCOH values for all trials extracted from lfp data (nchns * nchns * ntrials)\n",
    "    \"\"\"\n",
    "\n",
    "\n",
    "    #####################################################################\n",
    "    #\n",
    "    #    extract column index for event return [ReturnTimeix MouthTimeix]\n",
    "    #\n",
    "    #####################################################################\n",
    "\n",
    "    # column index for event return\n",
    "    coli_return = [i for i, s in enumerate(idxevent_varNames) if 'ReturnTimeix' in s]\n",
    "\n",
    "    # column index for event Touch\n",
    "    coli_mouth = [i for i, s in enumerate(idxevent_varNames) if 'MouthTimeix' in s]\n",
    "\n",
    "    # column indices of return phase \n",
    "    cols_phasereturn = coli_return + coli_mouth\n",
    "\n",
    "    cols = cols_phasereturn\n",
    "\n",
    "\n",
    "\n",
    "    ###################################################\n",
    "    #\n",
    "    #    extract lfp data of return phase for each trial\n",
    "    #\n",
    "    ###################################################\n",
    "\n",
    "    # idxdur_min, idxdur_max\n",
    "    idxdur_min, idxdur_max = int(np.round(tdur_min * fs)), int(np.round(tdur_max * fs))\n",
    "\n",
    "    nchns,_ ,ntrials = lfp.shape\n",
    "    \n",
    "    # initial ciCOH_alltrials array for all trials\n",
    "    ciCOH_alltrials = np.zeros((nchns, nchns, ntrials))\n",
    "\n",
    "    for triali in range(ntrials):\n",
    "\n",
    "        ### extract the extract lfp data of return phase for each trial, only extract that last longer than 500ms ###\n",
    "\n",
    "        # start and end indices over time of specific phase for triali \n",
    "        idxtime_str, idxtime_end = int(idxevent[triali, cols[0]]), int(idxevent[triali, cols[1]])\n",
    "\n",
    "        # remove trials of return phase longer than tdur_max and shorter than tdur_min\n",
    "        if idxtime_end - idxtime_str < idxdur_min or idxtime_end - idxtime_str > idxdur_max:\n",
    "            continue;\n",
    "\n",
    "        # extract lfp data in specific phase of one trial (n_chns * n_times)\n",
    "        lfp_1trial = lfp[:, idxtime_str:idxtime_end, triali]\n",
    "\n",
    "\n",
    "        ### calculate ciCOH between each pair of channels ###\n",
    "\n",
    "        for chni in range(nchns-1):\n",
    "\n",
    "            # signal of channel chni\n",
    "            signal1 = lfp_1trial[chni, :]\n",
    "\n",
    "            for chnj in range(chni+1, nchns):\n",
    "\n",
    "                # signal of channel chnij\n",
    "                signal2 = lfp_1trial[chnj, :]\n",
    "\n",
    "                # ciCOH_alltrials assignment\n",
    "                ciCOH_alltrials[chni, chnj, triali] =  ciCoherence_overtime(signal1, signal2)\n",
    "                \n",
    "                # symmetrical\n",
    "                ciCOH_alltrials[chnj, chni, triali] = ciCOH_alltrials[chni, chnj, triali]\n",
    "\n",
    "                del signal2\n",
    "            del signal1\n",
    "\n",
    "        del idxtime_str, idxtime_end, lfp_1trial\n",
    "\n",
    "\n",
    "    # return\n",
    "    return ciCOH_alltrials"
   ]
  },
  {
   "cell_type": "markdown",
   "metadata": {},
   "source": [
    "### function ciCOH1file <a id = 'func_ciCOH1file'></a>\n",
    "1. calculate ciCOH of each pair of channels in return phase for one file\n",
    "\n",
    "2. call the function [ciCOH_lfp](#funcciCOH_lfp)"
   ]
  },
  {
   "cell_type": "code",
   "execution_count": 3,
   "metadata": {
    "code_folding": []
   },
   "outputs": [],
   "source": [
    "def ciCOH_1file(file):\n",
    "    \n",
    "    \"\"\"\n",
    "        ciCOH values of beta1 and beta2 band in the return pahse for 1 file\n",
    "        \n",
    "        Args:\n",
    "        \n",
    "        file: file name \n",
    "        \n",
    "        Returns:\n",
    "        \n",
    "            ciCOH_beta1_1file: \n",
    "                beta1 band corrected imaginary coherence value of all pairs of channels for all trials in file \n",
    "                (nchns * nchns * ntrials)\n",
    "                         \n",
    "            ciCOH_beta2_1file: \n",
    "                beta2 band corrected imaginary coherence value of all pairs of channels for all trials in file \n",
    "                (nchns * nchns * ntrials)\n",
    "    \"\"\"\n",
    "    \n",
    "\n",
    "    ######################################\n",
    "    #\n",
    "    #    extract data of lfp, idxevent, fs\n",
    "    #\n",
    "    ######################################\n",
    "    \n",
    "    # load the stk trial data in beta1/beta2 band with idxevent, idxevent_varNames, fs\n",
    "    matdat = sio.loadmat(file, variable_names = ['lfptrial_beta1', 'lfptrial_beta2', 'idxevent', 'idxevent_varNames', 'fs'], struct_as_record = False, squeeze_me = True)\n",
    "\n",
    "    # fs: sample rate\n",
    "    fs = matdat['fs'] \n",
    "\n",
    "    # idxevent (n_trials * 5): indices for targetonset, reachonset, reach, return and mouth\n",
    "    idxevent, idxevent_varNames = matdat['idxevent'], matdat['idxevent_varNames']\n",
    "        \n",
    "    # lfp_beta1, and lfp_beta2\n",
    "    lfp_beta1, lfp_beta2 = matdat['lfptrial_beta1'], matdat['lfptrial_beta2'],\n",
    "    \n",
    "    # ciCOH values of beta1 band in the return pahse for 1 file\n",
    "    ciCOH_beta1_1file = ciCOH_lfp(lfp_beta1, fs, idxevent, idxevent_varNames, tdur_min = 0.5, tdur_max = 1)\n",
    "    \n",
    "    # ciCOH values of beta2 band in the return pahse for 1 file\n",
    "    ciCOH_beta2_1file = ciCOH_lfp(lfp_beta2, fs, idxevent, idxevent_varNames, tdur_min = 0.5, tdur_max = 1)\n",
    "        \n",
    "        \n",
    "    # return\n",
    "    return ciCOH_beta1_1file, ciCOH_beta2_1file"
   ]
  },
  {
   "cell_type": "markdown",
   "metadata": {},
   "source": [
    "### function ciCOH_allfiles\n",
    "\n",
    "1. return a ciCOH dictionary result containing concatenated ciCOH values from all normal and mild files individually\n",
    "   in beta1 and beta2 bands\n",
    "\n",
    "2. call function [ciCOH_1file(file)](#func_ciCOH1file)"
   ]
  },
  {
   "cell_type": "code",
   "execution_count": 4,
   "metadata": {
    "code_folding": []
   },
   "outputs": [],
   "source": [
    "def ciCOH_allfiles(files):\n",
    "    \n",
    "    \"\"\"\n",
    "        return a ciCOH dictionary result containing concatenated ciCOH values from all normal and mild files individually\n",
    "        in beta1 and beta2 bands \n",
    "        \n",
    "        \n",
    "        Return:\n",
    "            dic_ciCOH: a ciCOH dictionary result \n",
    "                       dic_ciCOH.keys() = ['ciCOH_beta1_normal', 'ciCOH_beta1_mild', 'ciCOH_beta2_normal', 'ciCOH_beta2_mild']\n",
    "    \"\"\"\n",
    "    \n",
    "    \n",
    "\n",
    "    # delete ciCOH_beta1_normal if exist inside this function\n",
    "    if 'ciCOH_beta1_normal' in locals():\n",
    "        del ciCOH_beta1_normal\n",
    "        \n",
    "    # delete ciCOH_beta1_mild if exist inside this function\n",
    "    if 'ciCOH_beta1_mild' in locals():\n",
    "        del ciCOH_beta1_mild\n",
    "        \n",
    "        \n",
    "    # delete ciCOH_beta2_normal if exist inside this function\n",
    "    if 'ciCOH_beta2_normal' in locals():\n",
    "        del ciCOH_beta2_normal\n",
    "        \n",
    "    # delete ciCOH_beta2_mild if exist inside this function\n",
    "    if 'ciCOH_beta2_mild' in locals():\n",
    "        del ciCOH_beta2_mild\n",
    "    \n",
    "    # concatenate ciCOH values from all files\n",
    "    for file in files:\n",
    "        \n",
    "        print(\"dealing \" + file)\n",
    "\n",
    "        # ciCOH value of all pairs of channels for all trials in one file (nchns * nchns * ntrials)\n",
    "        ciCOH_beta1_1file, ciCOH_beta2_1file = ciCOH_1file(file)\n",
    "\n",
    "        # normal case\n",
    "        if 'normal' in file and 'mild' not in file:\n",
    "            \n",
    "            # beta1 normal\n",
    "            if 'ciCOH_beta1_normal' not in locals():\n",
    "                # first normal file\n",
    "                ciCOH_beta1_normal = ciCOH_beta1_1file\n",
    "            else:\n",
    "                # append normal file\n",
    "                ciCOH_beta1_normal = np.concatenate((ciCOH_beta1_normal, ciCOH_beta1_1file), axis=2)\n",
    "                \n",
    "            # beta2 normal\n",
    "            if 'ciCOH_beta2_normal' not in locals():\n",
    "                # first normal file\n",
    "                ciCOH_beta2_normal = ciCOH_beta2_1file\n",
    "            else:\n",
    "                # append normal file\n",
    "                ciCOH_beta2_normal = np.concatenate((ciCOH_beta2_normal, ciCOH_beta2_1file), axis=2)\n",
    "\n",
    "        # mild case\n",
    "        if 'mild' in file and 'normal' not in file:\n",
    "            \n",
    "            # beta1 mild\n",
    "            if 'ciCOH_beta1_mild' not in locals():\n",
    "                # first mild file\n",
    "                ciCOH_beta1_mild = ciCOH_beta1_1file\n",
    "            else:\n",
    "                # append mild file\n",
    "                ciCOH_beta1_mild = np.concatenate((ciCOH_beta1_mild, ciCOH_beta1_1file), axis=2)\n",
    "                \n",
    "            # beta2 mild\n",
    "            if 'ciCOH_beta2_mild' not in locals():\n",
    "                # first mild file\n",
    "                ciCOH_beta2_mild = ciCOH_beta2_1file\n",
    "            else:\n",
    "                # append mild file\n",
    "                ciCOH_beta2_mild = np.concatenate((ciCOH_beta2_mild, ciCOH_beta2_1file), axis=2)\n",
    "\n",
    "        del ciCOH_beta1_1file, ciCOH_beta2_1file\n",
    "        \n",
    "    \n",
    "    # create ciCOH results dictionary\n",
    "    dic_ciCOH = {\"ciCOH_beta1_normal\": ciCOH_beta1_normal, \"ciCOH_beta1_mild\": ciCOH_beta1_mild,\n",
    "                 \"ciCOH_beta2_normal\": ciCOH_beta2_normal, \"ciCOH_beta2_mild\": ciCOH_beta2_mild} \n",
    "    \n",
    "    return dic_ciCOH"
   ]
  },
  {
   "cell_type": "markdown",
   "metadata": {},
   "source": [
    "## save ciCOH\n",
    "\n",
    "func ciCOH_save: save calculated ciCOH to aniresfolder/res_ciCOH.pickle"
   ]
  },
  {
   "cell_type": "code",
   "execution_count": 5,
   "metadata": {},
   "outputs": [],
   "source": [
    "import pickle\n",
    "\n",
    "def ciCOH_save (dic_ciCOH, aniresfolder, savefilename):\n",
    "    \"\"\"\n",
    "        save dic_ciCOH to aniresfolder/res_ciCOH.pickle\n",
    "    \"\"\"\n",
    "\n",
    "    # file storing the ciCOH results\n",
    "    ciCOHfile = os.path.join(aniresfolder, savefilename)\n",
    "\n",
    "    pickle.dump(dic_ciCOH, open(ciCOHfile, \"wb\" ) )"
   ]
  },
  {
   "cell_type": "markdown",
   "metadata": {},
   "source": [
    "## main function"
   ]
  },
  {
   "cell_type": "code",
   "execution_count": 6,
   "metadata": {
    "code_folding": []
   },
   "outputs": [],
   "source": [
    "def main(animal):\n",
    "    # extract the data, result and metainf folder of animal\n",
    "    anidatfolder, aniresfolder, animetafolder = animal_folder(animal = animal)\n",
    "\n",
    "    # load data folder\n",
    "    loaddatafolder = os.path.join(anidatfolder, 'epochs_filtered', 'betaBand')\n",
    "\n",
    "    # glob all .mat files (both mild and normal files)\n",
    "    files = glob.glob(os.path.join(loaddatafolder, '*.mat'))\n",
    "\n",
    "    #  a ciCOH dictionary containing concatenated ciCOH values from all normal and mild files \n",
    "    # individually in beta1 and beta2 bands\n",
    "    print(\"calculating ciCOH values in beta1 and beta2 bands for normal and mild individually.....\")\n",
    "    dic_ciCOH = ciCOH_allfiles(files)\n",
    "\n",
    "    # save dic_ciCOH\n",
    "    savefilename = 'res_ciCOH_beta.pickle'\n",
    "    ciCOH_save (dic_ciCOH, aniresfolder, savefilename)"
   ]
  },
  {
   "cell_type": "code",
   "execution_count": 7,
   "metadata": {},
   "outputs": [
    {
     "name": "stdout",
     "output_type": "stream",
     "text": [
      "calculating ciCOH values in beta1 and beta2 bands for normal and mild individually.....\n",
      "dealing /home/lingling/yang7003@umn.edu/NMRC_umn/Projects/FCAnalysis/data/Pinky/epochs_filtered/betaBand/Pinky_lfptrial_normal_042017_bktdt5.mat\n",
      "dealing /home/lingling/yang7003@umn.edu/NMRC_umn/Projects/FCAnalysis/data/Pinky/epochs_filtered/betaBand/Pinky_lfptrial_mild_101117_bktdt1.mat\n",
      "dealing /home/lingling/yang7003@umn.edu/NMRC_umn/Projects/FCAnalysis/data/Pinky/epochs_filtered/betaBand/Pinky_lfptrial_normal_012417_bktdt2.mat\n",
      "dealing /home/lingling/yang7003@umn.edu/NMRC_umn/Projects/FCAnalysis/data/Pinky/epochs_filtered/betaBand/Pinky_lfptrial_normal_020217_bktdt9.mat\n",
      "dealing /home/lingling/yang7003@umn.edu/NMRC_umn/Projects/FCAnalysis/data/Pinky/epochs_filtered/betaBand/Pinky_lfptrial_normal_012617_bktdt2.mat\n",
      "dealing /home/lingling/yang7003@umn.edu/NMRC_umn/Projects/FCAnalysis/data/Pinky/epochs_filtered/betaBand/Pinky_lfptrial_normal_020917_bktdt5.mat\n",
      "dealing /home/lingling/yang7003@umn.edu/NMRC_umn/Projects/FCAnalysis/data/Pinky/epochs_filtered/betaBand/Pinky_lfptrial_mild_110917_bktdt2.mat\n",
      "dealing /home/lingling/yang7003@umn.edu/NMRC_umn/Projects/FCAnalysis/data/Pinky/epochs_filtered/betaBand/Pinky_lfptrial_mild_112017_bktdt4.mat\n",
      "dealing /home/lingling/yang7003@umn.edu/NMRC_umn/Projects/FCAnalysis/data/Pinky/epochs_filtered/betaBand/Pinky_lfptrial_mild_101617_bktdt4.mat\n",
      "dealing /home/lingling/yang7003@umn.edu/NMRC_umn/Projects/FCAnalysis/data/Pinky/epochs_filtered/betaBand/Pinky_lfptrial_mild_102717_bktdt3.mat\n",
      "dealing /home/lingling/yang7003@umn.edu/NMRC_umn/Projects/FCAnalysis/data/Pinky/epochs_filtered/betaBand/Pinky_lfptrial_normal_040717_bktdt3.mat\n",
      "dealing /home/lingling/yang7003@umn.edu/NMRC_umn/Projects/FCAnalysis/data/Pinky/epochs_filtered/betaBand/Pinky_lfptrial_mild_101217_bktdt3.mat\n",
      "dealing /home/lingling/yang7003@umn.edu/NMRC_umn/Projects/FCAnalysis/data/Pinky/epochs_filtered/betaBand/Pinky_lfptrial_normal_041417_bktdt3.mat\n",
      "dealing /home/lingling/yang7003@umn.edu/NMRC_umn/Projects/FCAnalysis/data/Pinky/epochs_filtered/betaBand/Pinky_lfptrial_mild_101917_bktdt4.mat\n",
      "dealing /home/lingling/yang7003@umn.edu/NMRC_umn/Projects/FCAnalysis/data/Pinky/epochs_filtered/betaBand/Pinky_lfptrial_mild_102417_bktdt3.mat\n",
      "dealing /home/lingling/yang7003@umn.edu/NMRC_umn/Projects/FCAnalysis/data/Pinky/epochs_filtered/betaBand/Pinky_lfptrial_normal_042117_bktdt4.mat\n",
      "dealing /home/lingling/yang7003@umn.edu/NMRC_umn/Projects/FCAnalysis/data/Pinky/epochs_filtered/betaBand/Pinky_lfptrial_normal_012717_bktdt7.mat\n",
      "dealing /home/lingling/yang7003@umn.edu/NMRC_umn/Projects/FCAnalysis/data/Pinky/epochs_filtered/betaBand/Pinky_lfptrial_mild_101317_bktdt2.mat\n",
      "dealing /home/lingling/yang7003@umn.edu/NMRC_umn/Projects/FCAnalysis/data/Pinky/epochs_filtered/betaBand/Pinky_lfptrial_normal_041917_bktdt1.mat\n",
      "dealing /home/lingling/yang7003@umn.edu/NMRC_umn/Projects/FCAnalysis/data/Pinky/epochs_filtered/betaBand/Pinky_lfptrial_normal_041117_bktdt1.mat\n",
      "dealing /home/lingling/yang7003@umn.edu/NMRC_umn/Projects/FCAnalysis/data/Pinky/epochs_filtered/betaBand/Pinky_lfptrial_normal_041217_bktdt3.mat\n",
      "dealing /home/lingling/yang7003@umn.edu/NMRC_umn/Projects/FCAnalysis/data/Pinky/epochs_filtered/betaBand/Pinky_lfptrial_normal_042517_bktdt4.mat\n"
     ]
    }
   ],
   "source": [
    "animal = 'Pinky'\n",
    "main(animal)"
   ]
  },
  {
   "cell_type": "markdown",
   "metadata": {},
   "source": [
    "## plot section"
   ]
  },
  {
   "cell_type": "code",
   "execution_count": null,
   "metadata": {},
   "outputs": [],
   "source": [
    "plt.imshow(np.mean(ciCOH_mild, axis = 2));\n",
    "plt.colorbar()\n",
    "plt.title('mild')\n",
    "plt.show()"
   ]
  },
  {
   "cell_type": "code",
   "execution_count": null,
   "metadata": {},
   "outputs": [],
   "source": [
    "plt.imshow(np.mean(ciCOH_normal, axis = 2))\n",
    "plt.title('normal')\n",
    "plt.colorbar()\n",
    "plt.show()"
   ]
  },
  {
   "cell_type": "code",
   "execution_count": null,
   "metadata": {},
   "outputs": [],
   "source": [
    "print(np.mean(ciCOH_normal, axis = 2))"
   ]
  },
  {
   "cell_type": "code",
   "execution_count": null,
   "metadata": {},
   "outputs": [],
   "source": [
    "print(np.mean(ciCOH_mild, axis = 2))"
   ]
  },
  {
   "cell_type": "markdown",
   "metadata": {},
   "source": [
    "## Test section"
   ]
  }
 ],
 "metadata": {
  "kernelspec": {
   "display_name": "Python 3",
   "language": "python",
   "name": "python3"
  },
  "language_info": {
   "codemirror_mode": {
    "name": "ipython",
    "version": 3
   },
   "file_extension": ".py",
   "mimetype": "text/x-python",
   "name": "python",
   "nbconvert_exporter": "python",
   "pygments_lexer": "ipython3",
   "version": "3.6.8"
  },
  "toc": {
   "base_numbering": 1,
   "nav_menu": {
    "height": "307px",
    "width": "324px"
   },
   "number_sections": true,
   "sideBar": true,
   "skip_h1_title": false,
   "title_cell": "Table of Contents",
   "title_sidebar": "Contents",
   "toc_cell": false,
   "toc_position": {
    "height": "calc(100% - 180px)",
    "left": "10px",
    "top": "150px",
    "width": "252.6px"
   },
   "toc_section_display": true,
   "toc_window_display": true
  }
 },
 "nbformat": 4,
 "nbformat_minor": 2
}
