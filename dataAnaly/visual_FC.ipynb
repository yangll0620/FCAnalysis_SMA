{
 "cells": [
  {
   "cell_type": "markdown",
   "metadata": {},
   "source": [
    "## Functionality: visualization of functional connectivity\n",
    "\n",
    "<ul>\n",
    "    <li>142 channels = 1-96 channels (M1) + 97-100(not used) + 101-132(ThaSMA) + 133-146 (GP/STN)</li>\n",
    "    <li>load animetafolder/pinky_locThaSMA.csv for the details of ThaSMA </li>\n",
    "</ul>"
   ]
  },
  {
   "cell_type": "markdown",
   "metadata": {},
   "source": [
    "## Import Packages "
   ]
  },
  {
   "cell_type": "code",
   "execution_count": 1,
   "metadata": {},
   "outputs": [
    {
     "name": "stdout",
     "output_type": "stream",
     "text": [
      "importing Jupyter notebook from /home/lingling/yang7003@umn.edu/NMRC_umn/Codes/FCAnalysis/util/folder_extract.ipynb\n",
      "importing Jupyter notebook from /home/lingling/yang7003@umn.edu/NMRC_umn/Codes/FCAnalysis/connAnalyTool/graphVisual.ipynb\n"
     ]
    }
   ],
   "source": [
    "import os, sys\n",
    "import numpy as np\n",
    "\n",
    "import pickle\n",
    "\n",
    "# import_nbmodule used for import package in .ipynb\n",
    "import import_nbmodule\n",
    "\n",
    "# add path '../'\n",
    "sys.path.append(os.path.abspath(os.path.join('..')))\n",
    "\n",
    "# import animal_folder in ../util/folder_extract.pynb \n",
    "from util.folder_extract import animal_folder\n",
    "\n",
    "\n",
    "# import graphVisual in ../connAnalyTool/graphVisual.pynb \n",
    "from connAnalyTool import graphVisual\n",
    "\n",
    "\n",
    "from igraph.drawing.text import TextDrawer\n",
    "import cairo"
   ]
  },
  {
   "cell_type": "markdown",
   "metadata": {},
   "source": [
    "## load the ciCOH matrix"
   ]
  },
  {
   "cell_type": "markdown",
   "metadata": {},
   "source": [
    "### Load Beta band ciCOH\n",
    "1. dic_ciCOH.keys() = ['ciCOH_beta1_normal', 'ciCOH_beta1_mild', 'ciCOH_beta2_normal', 'ciCOH_beta2_mild']"
   ]
  },
  {
   "cell_type": "code",
   "execution_count": 2,
   "metadata": {},
   "outputs": [],
   "source": [
    "def ciCOHBetabandLoad(aniresfolder):\n",
    "    \"\"\"\n",
    "        load beta band ciCOH\n",
    "        \n",
    "        \n",
    "        @return ciCOH_beta1_normal, ciCOH_beta1_mild: bata1 band ciCOH values in normal and mild conditions\n",
    "                                                      (ndarray: nchns * nchns * ntrials)\n",
    "        \n",
    "        @return ciCOH_beta2_normal, ciCOH_beta2_mild: bata2 band ciCOH values in normal and mild conditions \n",
    "                                                      (ndarray: nchns * nchns * ntrials)\n",
    "        \n",
    "    \"\"\"\n",
    "\n",
    "    # file storing the ciCOH results\n",
    "    ciCOHfile = os.path.join(aniresfolder, 'res_ciCOH_beta.pickle')\n",
    "\n",
    "    # load res_ciCOH\n",
    "    res_ciCOH_beta = pickle.load(open(ciCOHfile, \"rb\" ))\n",
    "\n",
    "    # ciCOH_beta1_normal, ciCOH_beta1_mild\n",
    "    ciCOH_beta1_normal, ciCOH_beta1_mild = res_ciCOH_beta['ciCOH_beta1_normal'], res_ciCOH_beta['ciCOH_beta1_mild']\n",
    "\n",
    "    # ciCOH_beta2_normal, ciCOH_beta2_mild\n",
    "    ciCOH_beta2_normal, ciCOH_beta2_mild = res_ciCOH_beta['ciCOH_beta2_normal'], res_ciCOH_beta['ciCOH_beta2_mild']\n",
    "    \n",
    "    # return\n",
    "    return ciCOH_beta1_normal, ciCOH_beta1_mild, ciCOH_beta2_normal, ciCOH_beta2_mild"
   ]
  },
  {
   "cell_type": "markdown",
   "metadata": {},
   "source": [
    "### Load alpha band ciCOH\n",
    "1. dic_ciCOH.keys() = ['ciCOH_alpha_normal', 'ciCOH_alpha_mild']"
   ]
  },
  {
   "cell_type": "code",
   "execution_count": 3,
   "metadata": {},
   "outputs": [],
   "source": [
    "def ciCOHAlphabandLoad(aniresfolder):\n",
    "    \"\"\"\n",
    "        load alpha band ciCOH\n",
    "        \n",
    "        @return ciCOH_alpha_normal,  ciCOH_alpha_mild: alpha band ciCOH values in normal and mild \n",
    "                                                       (ndarray: nchns * nchns * ntrials) \n",
    "    \"\"\"\n",
    "\n",
    "    # file storing the ciCOH results\n",
    "    ciCOHfile = os.path.join(aniresfolder, 'res_ciCOH_alpha.pickle')\n",
    "\n",
    "    # load res_ciCOH_alpha\n",
    "    res_ciCOH_alpha = pickle.load(open(ciCOHfile, \"rb\" ))\n",
    "\n",
    "    # ciCOH_alpha_normal, ciCOH_alpha_mild\n",
    "    ciCOH_alpha_normal, ciCOH_alpha_mild = res_ciCOH_alpha['ciCOH_alpha_normal'], res_ciCOH_alpha['ciCOH_alpha_mild']\n",
    "    \n",
    "    # return\n",
    "    return ciCOH_alpha_normal,  ciCOH_alpha_mild"
   ]
  },
  {
   "cell_type": "markdown",
   "metadata": {},
   "source": [
    "### Load simulated coordinates"
   ]
  },
  {
   "cell_type": "code",
   "execution_count": 4,
   "metadata": {},
   "outputs": [],
   "source": [
    "def simcoordLoad(animetafolder):\n",
    "    \"\"\"\n",
    "        load simulated coordinates of areas\n",
    "        \n",
    "        @return coord_area: simulated x, y coordinates in areas (dict, e.g. coord_area[\"M1\"]: ndarray nchns * 2)\n",
    "        \n",
    "    \"\"\"\n",
    "    # file storing the simulated coordinates\n",
    "    coordfile = os.path.join(animetafolder, 'coord_simulated.pickle')\n",
    "\n",
    "    # load simulated coordinates\n",
    "    coord_area = pickle.load(open(coordfile, \"rb\" ))\n",
    "    \n",
    "    # return\n",
    "    return coord_area"
   ]
  },
  {
   "cell_type": "markdown",
   "metadata": {},
   "source": [
    "### Set area and coordinates of all electrodes "
   ]
  },
  {
   "cell_type": "code",
   "execution_count": 5,
   "metadata": {},
   "outputs": [],
   "source": [
    "def setAreaPosofElec(coord_area):\n",
    "    \"\"\"\n",
    "        set the area and coordinates of all electrodes\n",
    "        \n",
    "        @param coord_area: x, y coordinates in areas (dict, e.g. coord_area[\"M1\"]: ndarray nchns * 2)\n",
    "        \n",
    "        \n",
    "        \n",
    "        @return elec_area: brain area of all electrodes ()\n",
    "        \n",
    "        @return elec_coord: coordinates of all electrodes ()\n",
    "        \n",
    "    \"\"\"\n",
    "    \n",
    "    # coordinates of all electrodes\n",
    "    elec_coord = np.empty((0,2))\n",
    "    # area of all electrodes\n",
    "    elec_area = []\n",
    "    for key in coord_area.keys():\n",
    "        if 'coord_' in key:\n",
    "\n",
    "            # coordinates of key\n",
    "            coord_key = coord_area[key]\n",
    "\n",
    "            # area sequence: M1 * 96, ThaSMA *32, STN * 7 and GP * 7\n",
    "            elec_area = elec_area + [key[len('coord_'):]] * len(coord_key)\n",
    "\n",
    "            # append to coordinates of electrodes elec_coord\n",
    "            elec_coord = np.append(elec_coord, coord_key, axis = 0)\n",
    "\n",
    "            # del\n",
    "            del coord_key\n",
    "            \n",
    "    return elec_area, elec_coord"
   ]
  },
  {
   "cell_type": "markdown",
   "metadata": {},
   "source": [
    "### set plot text"
   ]
  },
  {
   "cell_type": "code",
   "execution_count": 6,
   "metadata": {},
   "outputs": [],
   "source": [
    "def plottexts(fontsize_area = 20):\n",
    "    \"\"\"\n",
    "        @param fontsize_area: font size for ploting the text \n",
    "        \n",
    "        @return texts_area: a dictionary with key is the text, key value is the [x, y, fontsize]\n",
    "    \"\"\"\n",
    "    # coordinates of plot area text (e.g \"M1\")\n",
    "    texts_area = dict()\n",
    "    texts_area[\"M1\"],  texts_area[\"ThaSMA\"] = [0, 180], [325, 180]\n",
    "    texts_area[\"STN\"], texts_area[\"GP\"] = [15, 530], [275,530] \n",
    "\n",
    "    # add fontsize to each key\n",
    "    for key in texts_area:\n",
    "        texts_area[key] =  texts_area[key] + [fontsize_area]\n",
    "        \n",
    "        \n",
    "    return texts_area"
   ]
  },
  {
   "cell_type": "markdown",
   "metadata": {},
   "source": [
    "## visualFC function"
   ]
  },
  {
   "cell_type": "code",
   "execution_count": null,
   "metadata": {},
   "outputs": [],
   "source": [
    "def visualFC(weight, elec_area, elec_coord, lowweight = 0.1, texts = None):\n",
    "    \n",
    "    \"\"\"\n",
    "        @param weight: functional connectivity matrix (nchns * nchns)\n",
    "        \n",
    "        @param elec_area: a list storing the area for each electrode (len(elec_area) = nchns)\n",
    "        \n",
    "        @param elec_coord: the 2d coordinates of all electrodes (numpy.ndarray, nchns * 2)\n",
    "        \n",
    "        @param texts: a dictionary storing the text to be printed with text[key]: [x,y, fontsize]\n",
    "        e.g texts[\"M1\"] = [0, 180, 30]\n",
    "        \n",
    "        \n",
    "        @return igplot: an igraph.drawing.Plot object\n",
    "        \n",
    "    \"\"\"\n",
    "    \n",
    "\n",
    "    # weight > 0.1 as \n",
    "    weight[np.where(weight<lowweight)] =0\n",
    "    \n",
    "    # create graph\n",
    "    graph = graphVisual.graph_create(weight, vsarea = elec_area, vscoord = elec_coord)\n",
    "\n",
    "    # set graph visualization style\n",
    "    visual_style = graphVisual.graph_style(graph)\n",
    "    \n",
    "    \n",
    "    igplot = graphVisual.graph_plot(graph, visual_style, texts)\n",
    "    \n",
    "    return igplot"
   ]
  },
  {
   "cell_type": "code",
   "execution_count": null,
   "metadata": {},
   "outputs": [],
   "source": [
    "def bandciCOHVisulaSave(bandciCOH, bandname, condition, savefolder, elec_area, elec_coord, texts_area=None):\n",
    "    \"\"\"\n",
    "        @param bandciCOH: ciCOH weight (nchns * nchns * ntrials)\n",
    "        \n",
    "        @param bandname: 'beta1', 'beta2' or 'alpha'\n",
    "        \n",
    "        @param condition: 'normal' or 'mild'\n",
    "        \n",
    "        @param savefolder:\n",
    "        \n",
    "        @param elec_area: \n",
    "        \n",
    "    \"\"\"\n",
    "    \n",
    "    weight = abs(np.mean(bandciCOH, axis = 2))\n",
    "    \n",
    "    if texts_area is not None:\n",
    "        # copy the texts_area\n",
    "        texts = texts_area.copy()\n",
    "    else:\n",
    "        texts = dict()\n",
    "        \n",
    "    # add key title with [x, y, fontsize]\n",
    "    fontsize_title = 30\n",
    "    texts[bandname + \":\" + condition] = [175, 25, fontsize_title]\n",
    "     \n",
    "        \n",
    "    # plot FC in beta1:normal\n",
    "    igplot = visualFC(weight, elec_area, elec_coord, lowweight = 0.1, texts = texts)\n",
    "    \n",
    "    \n",
    "    # savefile\n",
    "    savefile = os.path.join(savefolder, 'ciCOH_' + bandname + condition + '.png')\n",
    "    \n",
    "    # save\n",
    "    igplot.save(savefile)\n",
    "    \n",
    "    # show graph\n",
    "    return igplot"
   ]
  },
  {
   "cell_type": "markdown",
   "metadata": {},
   "source": [
    "## Main Function"
   ]
  },
  {
   "cell_type": "code",
   "execution_count": 7,
   "metadata": {},
   "outputs": [],
   "source": [
    "anidatfolder, aniresfolder, animetafolder = animal_folder(animal = 'Pinky')\n",
    "\n",
    "# load simulated coordinates of areas\n",
    "coord_area = simcoordLoad(animetafolder)\n",
    "\n",
    "elec_area, elec_coord = setAreaPosofElec(coord_area)"
   ]
  },
  {
   "cell_type": "code",
   "execution_count": 24,
   "metadata": {},
   "outputs": [
    {
     "name": "stdout",
     "output_type": "stream",
     "text": [
      "/home/lingling/yang7003@umn.edu/NMRC_umn/Projects/FCAnalysis/metainf/Pinky\n",
      "['lSMA1', 'lSMA2', 'lSMA3', 'lSMA4', 'rSMA1', 'rSMA2', 'rSMA3', 'rSMA4', 'lMC1', 'lMC2', 'lVA1', 'lVA2', 'lVA3', 'rVA1', 'rVA2', 'lVLo1', 'lVLo2', 'rVLo1', 'rVLo2', 'lVPLo1', 'lVPLo2', 'lVPLo3', 'rVPLo1', 'rVPLo2', 'rVPLo3', 'rCd1', 'rCd2']\n"
     ]
    }
   ],
   "source": [
    "print(animetafolder)\n",
    "coordfile = os.path.join(animetafolder, 'coord_simulated.pickle')\n",
    "\n",
    "# load simulated coordinates\n",
    "coord_area = pickle.load(open(coordfile, \"rb\" ))\n",
    "\n",
    "print(coord_area['labels_ThaSMA'])"
   ]
  },
  {
   "cell_type": "code",
   "execution_count": 44,
   "metadata": {},
   "outputs": [
    {
     "name": "stdout",
     "output_type": "stream",
     "text": [
      "[ 0.  1.  2.  3.  4.  5.  6.  7.  8.  9. 10. 11. 12. 13. 14. 15. 16. 17.\n",
      " 18. 19. 20. 21. 22. 23. 24. 25. 26. 27. 28. 29. 30. 31. 32. 33. 34. 35.\n",
      " 36. 37. 38. 39. 40. 41. 42. 43. 44. 45. 46. 47. 48. 49. 50. 51. 52. 53.\n",
      " 54. 55. 56. 57. 58. 59. 60. 61. 62. 63. 64. 65. 66. 67. 68. 69. 70. 71.\n",
      " 72. 73. 74. 75. 76. 77. 78. 79. 80. 81. 82. 83. 84. 85. 86. 87. 88. 89.\n",
      " 90. 91. 92. 93. 94. 95.]\n"
     ]
    }
   ],
   "source": [
    "chns_M1 = np.linspace(0,95, num=96)\n",
    "chns_"
   ]
  },
  {
   "cell_type": "code",
   "execution_count": null,
   "metadata": {},
   "outputs": [],
   "source": [
    "ciCOH_M1M1 = ciCOH_beta1_normal"
   ]
  },
  {
   "cell_type": "code",
   "execution_count": 41,
   "metadata": {},
   "outputs": [
    {
     "data": {
      "image/png": "[encoded data removed]",
      "text/plain": [
       "<Figure size 432x288 with 1 Axes>"
      ]
     },
     "metadata": {
      "needs_background": "light"
     },
     "output_type": "display_data"
    }
   ],
   "source": [
    "import matplotlib.pyplot as plt\n",
    "fig, ax = plt.subplots()\n",
    "\n",
    "for key in coord_area:\n",
    "    \n",
    "    if \"coord\" in key:\n",
    "        ax.scatter(coord_area[key][:,0], coord_area[key][:,1])\n",
    "        \n",
    "ax.set_aspect('equal')"
   ]
  },
  {
   "cell_type": "code",
   "execution_count": null,
   "metadata": {},
   "outputs": [],
   "source": [
    "# extract animal folder\n",
    "anidatfolder, aniresfolder, animetafolder = animal_folder(animal = 'Pinky')\n",
    "\n",
    "# load simulated coordinates of areas\n",
    "coord_area = simcoordLoad(animetafolder)\n",
    "\n",
    "# set the area and coordinates of all electrodes\n",
    "elec_area, elec_coord = setAreaPosofElec(coord_area)\n",
    "\n",
    "# save folder for FC visualization\n",
    "savefolder_fcvisual = os.path.join(aniresfolder, 'FCVisual')\n",
    "\n",
    "# load texts_area\n",
    "texts_area = plottexts(fontsize_area = 20)"
   ]
  },
  {
   "cell_type": "markdown",
   "metadata": {},
   "source": [
    "### Beta band FC Visualization"
   ]
  },
  {
   "cell_type": "code",
   "execution_count": 37,
   "metadata": {},
   "outputs": [],
   "source": [
    "# load beta1/beta2 ciCOH in normal and mild conditions\n",
    "ciCOH_beta1_normal, ciCOH_beta1_mild, ciCOH_beta2_normal, ciCOH_beta2_mild = ciCOHBetabandLoad(aniresfolder)"
   ]
  },
  {
   "cell_type": "code",
   "execution_count": 36,
   "metadata": {},
   "outputs": [
    {
     "name": "stdout",
     "output_type": "stream",
     "text": [
      "{'lSMA': '117, 122, 127, 128', 'rSMA': '101, 102, 107, 112', 'lMC': '118, 123', 'lVA': '124, 130, 131', 'rVA': '103, 104', 'lVLo': '119, 120', 'rVLo': '110, 115', 'lVPLo': '121, 126, 132', 'rVPLo': '106, 111, 116', 'rCd1': '108, 113'}\n"
     ]
    }
   ],
   "source": [
    "import pandas as pd\n",
    "df = pd.read_csv(os.path.join(animetafolder, 'pinky_locations.csv'), header = None)\n",
    "\n",
    "areachns = dict()\n",
    "\n",
    "for i, key in enumerate(df[0]):\n",
    "    areachns[key] = df[1][i]\n",
    "\n",
    "\n",
    "print(areachns)"
   ]
  },
  {
   "cell_type": "code",
   "execution_count": 38,
   "metadata": {},
   "outputs": [
    {
     "name": "stdout",
     "output_type": "stream",
     "text": [
      "(142, 142, 374)\n"
     ]
    }
   ],
   "source": [
    "print(ciCOH_beta1_normal.shape)"
   ]
  },
  {
   "cell_type": "code",
   "execution_count": null,
   "metadata": {},
   "outputs": [],
   "source": [
    "# beta1 normal\n",
    "bandciCOHVisulaSave(ciCOH_beta1_normal, \n",
    "                    bandname = \"beta1\", condition = \"normal\", \n",
    "                    savefolder = savefolder_fcvisual, \n",
    "                    elec_area = elec_area, elec_coord = elec_coord, \n",
    "                    texts_area = texts_area)\n",
    "\n",
    "# beta1 mild\n",
    "bandciCOHVisulaSave(ciCOH_beta1_mild, \n",
    "                    bandname = \"beta1\", condition = \"mild\", \n",
    "                    savefolder = savefolder_fcvisual, \n",
    "                    elec_area = elec_area, elec_coord = elec_coord, \n",
    "                    texts_area = texts_area)"
   ]
  },
  {
   "cell_type": "code",
   "execution_count": null,
   "metadata": {},
   "outputs": [],
   "source": [
    "# beta2 normal\n",
    "bandciCOHVisulaSave(ciCOH_beta2_normal, \n",
    "                    bandname = \"beta2\", condition = \"normal\", \n",
    "                    savefolder = savefolder_fcvisual, \n",
    "                    elec_area = elec_area, elec_coord = elec_coord, \n",
    "                    texts_area = texts_area)\n",
    "\n",
    "# beta2 mild\n",
    "bandciCOHVisulaSave(ciCOH_beta2_mild, \n",
    "                    bandname = \"beta2\", condition = \"mild\", \n",
    "                    savefolder = savefolder_fcvisual, \n",
    "                    elec_area = elec_area, elec_coord = elec_coord, \n",
    "                    texts_area = texts_area)"
   ]
  },
  {
   "cell_type": "markdown",
   "metadata": {},
   "source": [
    "### Alpha band FC Visualization"
   ]
  },
  {
   "cell_type": "code",
   "execution_count": null,
   "metadata": {},
   "outputs": [],
   "source": [
    "# load beta1/beta2 ciCOH in normal and mild conditions\n",
    "ciCOH_alpha_normal,  ciCOH_alpha_mild = ciCOHAlphabandLoad(aniresfolder)"
   ]
  },
  {
   "cell_type": "code",
   "execution_count": null,
   "metadata": {},
   "outputs": [],
   "source": [
    "# alpha normal\n",
    "bandciCOHVisulaSave(ciCOH_alpha_normal, \n",
    "                    bandname = \"alpha\", condition = \"normal\", \n",
    "                    savefolder = savefolder_fcvisual, \n",
    "                    elec_area = elec_area, elec_coord = elec_coord, \n",
    "                    texts_area = texts_area)\n",
    "\n",
    "# beta2 mild\n",
    "bandciCOHVisulaSave(ciCOH_alpha_mild, \n",
    "                    bandname = \"alpha\", condition = \"mild\", \n",
    "                    savefolder = savefolder_fcvisual, \n",
    "                    elec_area = elec_area, elec_coord = elec_coord, \n",
    "                    texts_area = texts_area)"
   ]
  },
  {
   "cell_type": "code",
   "execution_count": null,
   "metadata": {},
   "outputs": [],
   "source": []
  }
 ],
 "metadata": {
  "kernelspec": {
   "display_name": "Python 3",
   "language": "python",
   "name": "python3"
  },
  "language_info": {
   "codemirror_mode": {
    "name": "ipython",
    "version": 3
   },
   "file_extension": ".py",
   "mimetype": "text/x-python",
   "name": "python",
   "nbconvert_exporter": "python",
   "pygments_lexer": "ipython3",
   "version": "3.6.8"
  },
  "toc": {
   "base_numbering": 1,
   "nav_menu": {
    "height": "248px",
    "width": "255px"
   },
   "number_sections": false,
   "sideBar": true,
   "skip_h1_title": true,
   "title_cell": "Table of Contents",
   "title_sidebar": "",
   "toc_cell": false,
   "toc_position": {
    "height": "calc(100% - 180px)",
    "left": "10px",
    "top": "150px",
    "width": "286.6px"
   },
   "toc_section_display": true,
   "toc_window_display": true
  }
 },
 "nbformat": 4,
 "nbformat_minor": 2
}
