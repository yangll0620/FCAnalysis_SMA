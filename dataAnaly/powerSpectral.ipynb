{
 "cells": [
  {
   "cell_type": "markdown",
   "metadata": {},
   "source": [
    "# Functionality:"
   ]
  },
  {
   "cell_type": "markdown",
   "metadata": {},
   "source": [
    "## Import Packages "
   ]
  },
  {
   "cell_type": "code",
   "execution_count": 1,
   "metadata": {},
   "outputs": [
    {
     "name": "stdout",
     "output_type": "stream",
     "text": [
      "importing Jupyter notebook from /home/lingling/yang7003@umn.edu/NMRC_umn/Codes/FCAnalysis/util/folder_extract.ipynb\n"
     ]
    }
   ],
   "source": [
    "import os, sys\n",
    "import numpy as np\n",
    "import glob\n",
    "import scipy.io as sio\n",
    "\n",
    "from numpy.fft import fft, fftfreq\n",
    "\n",
    "# import_nbmodule used for import package in .ipynb\n",
    "import import_nbmodule\n",
    "\n",
    "# add path '../'\n",
    "sys.path.append(os.path.abspath(os.path.join('..')))\n",
    "\n",
    "# import animal_folder in ../util/folder_extract.pynb \n",
    "from util.folder_extract import animal_folder"
   ]
  },
  {
   "cell_type": "markdown",
   "metadata": {},
   "source": [
    "## Power Calculation"
   ]
  },
  {
   "cell_type": "markdown",
   "metadata": {},
   "source": [
    "### power_return_1file()"
   ]
  },
  {
   "cell_type": "code",
   "execution_count": 2,
   "metadata": {
    "code_folding": []
   },
   "outputs": [],
   "source": [
    "def power_return_1file(filename, chns, freqs_all, tdur_min = 0.5, tdur_max = 0.75):\n",
    "    \"\"\" \n",
    "    \n",
    "        calculate the power of one file in return phase\n",
    "        \n",
    "        Args:\n",
    "        \n",
    "            filename: file name \n",
    "            \n",
    "            chns: channel number, <class 'numpy.ndarray'>, shape = (nchns, )\n",
    "            \n",
    "            freqs_all: frequencies at which power will be calcualted, <class 'numpy.ndarray'>, shape = (nfreqs, )\n",
    "            \n",
    "            tdur_min, tdur_max: minimal and maximal duration for return phase\n",
    "            \n",
    "        Return:\n",
    "            powers_freqs: calculated powers at freqs_all, shape = (nfreqs, )\n",
    "            \n",
    "    \"\"\"\n",
    "    \n",
    "    ###  load data ###\n",
    "    dat = sio.loadmat(filename, \n",
    "                  variable_names = ['idxevent', 'fs', 'lfptrial', 'idxevent_varNames'], \n",
    "                  squeeze_me = True,\n",
    "                  mat_dtype = True)\n",
    "    \n",
    "    \n",
    "    # extract idxevent: numpy.ndarray(shape = (ntrials, 5)), idxevent_varNames: numpy.ndarray(nshape = (5,))\n",
    "    idxevent, idxevent_varNames = dat['idxevent'], dat['idxevent_varNames']\n",
    "\n",
    "    # extract fs\n",
    "    fs = dat['fs']\n",
    "\n",
    "    # extract lfp trial: nchns * ntemporals * ntrials\n",
    "    lfptrial = dat['lfptrial']\n",
    "\n",
    "    # column index for event return\n",
    "    coli_return = [i for i, s in enumerate(idxevent_varNames) if 'ReturnTimeix' in s]\n",
    "\n",
    "    # column index for event Touch\n",
    "    coli_mouth = [i for i, s in enumerate(idxevent_varNames) if 'MouthTimeix' in s]\n",
    "\n",
    "\n",
    "    # column indices of return phase \n",
    "    cols_phasereturn = coli_return + coli_mouth\n",
    "\n",
    "    cols = cols_phasereturn\n",
    "    \n",
    "    \n",
    "    # minimal and maximal duration for return phase\n",
    "\n",
    "\n",
    "    # idxdur_min, idxdur_max\n",
    "    idxdur_min, idxdur_max = int(np.round(tdur_min * fs)), int(np.round(tdur_max * fs))\n",
    "\n",
    "    \n",
    "    ntrials, _= idxevent.shape\n",
    "\n",
    "    # dictionary powers_dict for storing power of each frequency\n",
    "    powers_dict = dict()\n",
    "\n",
    "    ### calculate the power of each frequency in freqs_all from all the trials ###\n",
    "    for triali in range(ntrials):\n",
    "\n",
    "        ### data extraction part ###\n",
    "\n",
    "        # start and end indices over time of specific phase for triali \n",
    "        idxtime_str, idxtime_end = int(idxevent[triali, cols[0]]), int(idxevent[triali, cols[1]])\n",
    "\n",
    "\n",
    "        # remove trials of return phase longer than tdur_max and shorter than tdur_min\n",
    "        if idxtime_end - idxtime_str < idxdur_min or idxtime_end - idxtime_str > idxdur_max:\n",
    "            continue;\n",
    "\n",
    "\n",
    "        # extract lfp data of chns in return phase for triali: shape = (nchns, ntemporals)\n",
    "        lfp_return = lfptrial[chns, idxtime_str:idxtime_end, triali]\n",
    "\n",
    "        # average across all the channels: shape = (ntemporals,)\n",
    "        avglfp_return = np.mean(lfp_return, axis = 0)\n",
    "\n",
    "\n",
    "        ### power calculation part ###\n",
    "\n",
    "        # fft number\n",
    "        nfft = len(avglfp_return)\n",
    "\n",
    "        # Discrete Fourier Transform sample frequencies\n",
    "        freqs = fftfreq(nfft, 1/fs)\n",
    "\n",
    "        # ignore the negative frequencies\n",
    "        idx_f = freqs >0\n",
    "        freqs = freqs[idx_f]\n",
    "\n",
    "\n",
    "        # compute the one-dimensional discrete Fourier transform\n",
    "        fft_lfp = fft(avglfp_return)\n",
    "\n",
    "        # power\n",
    "        power_lfp = np.square(np.abs(fft_lfp))/nfft\n",
    "        power_lfp = power_lfp[idx_f]\n",
    "\n",
    "\n",
    "        ### round power to the nearest frequency in freqs_all ### \n",
    "\n",
    "        # index of the nearest frequency for all the frequency in freqs\n",
    "        idx_round = [np.abs(freqs_all - freq).argmin() for freq in freqs if freq <= freqs_all[-1] + 0.5]\n",
    "\n",
    "        # add power of each nearest frequency into dictionary powers_dict\n",
    "        for i in idx_round:\n",
    "            if i in powers_dict.keys():\n",
    "                powers_dict[i] = powers_dict[i] + [power_lfp[i]]\n",
    "            else:\n",
    "                powers_dict[i] = [power_lfp[i]]\n",
    "\n",
    "        ### delete temporal variables ###\n",
    "\n",
    "        del idxtime_str, idxtime_end, lfp_return, avglfp_return\n",
    "        del nfft, freqs, idx_f, fft_lfp, power_lfp\n",
    "        del idx_round,i \n",
    "\n",
    "\n",
    "    # average across all trials\n",
    "    powers_freqs = np.empty(shape=[0,])\n",
    "    for freq in freqs_all:\n",
    "\n",
    "        if freq in powers_dict.keys():\n",
    "\n",
    "            # calculate the mean power\n",
    "            power = np.mean(powers_dict[freq])\n",
    "        \n",
    "        else:\n",
    "            # no power for freq\n",
    "            power = -1\n",
    "\n",
    "        # add to powers_freqs\n",
    "        powers_freqs = np.append(powers_freqs, np.array([power]), axis = 0)\n",
    "\n",
    "        del power\n",
    "            \n",
    "\n",
    "    powers_freqs = np.asarray(powers_freqs)\n",
    "    \n",
    "    return powers_freqs"
   ]
  },
  {
   "cell_type": "markdown",
   "metadata": {},
   "source": [
    "### power_allfiles()"
   ]
  },
  {
   "cell_type": "code",
   "execution_count": 3,
   "metadata": {},
   "outputs": [],
   "source": [
    "def power_allfiles(anidatfolder, condition, freqs_all, chns):\n",
    "    \n",
    "    \"\"\" \n",
    "    \n",
    "        return the mean power of all file in one condition\n",
    "        \n",
    "        Args:\n",
    "        \n",
    "            anidatfolder: animal data folder\n",
    "            \n",
    "            condition: 'mild' or 'normal'\n",
    "            \n",
    "            freqs_all: frequencies at which power will be calcualted, <class 'numpy.ndarray'>, shape = (nfreqs, )\n",
    "            \n",
    "        Return:\n",
    "            powers_freqs_allfiles: calculated powers at freqs_all \n",
    "            shape = (nfreqs, 2), first col: freq, second col: power\n",
    "            \n",
    "    \n",
    "    \n",
    "    \"\"\"\n",
    "    \n",
    "    # epoch folder\n",
    "    epochfolder = os.path.join(anidatfolder, 'epochs')\n",
    "\n",
    "    # normal file pattern\n",
    "    filepatt = os.path.join(epochfolder, \"*\" + condition + \"*.mat\") \n",
    "\n",
    "    # extract all .mat files in normal in epoch folder\n",
    "    files = glob.glob(filepatt)\n",
    "    \n",
    "    nfreqs, nfiles = len(freqs_all), len(files)\n",
    "    \n",
    "    # powers_freqs_allfiles store the powers of all files, shape = (nfreqs, nfiles) \n",
    "    powers_freqs_allfiles = np.zeros((nfreqs, nfiles))\n",
    "    \n",
    "    # add power_freq of each file into powers_freqs_allfiles\n",
    "    for filei, filename in enumerate(files):\n",
    "        \n",
    "        # the power of one file in return phase\n",
    "        powers_freqs = power_return_1file(filename, chns, freqs_all, tdur_min = 0.5, tdur_max = 0.75)  \n",
    "        \n",
    "        # \n",
    "        powers_freqs_allfiles[:, filei] = powers_freqs\n",
    "        \n",
    "        del powers_freqs\n",
    "     \n",
    "    \n",
    "    # average across all files\n",
    "    avgpower_freqs_allfiles = np.zeros((nfreqs))\n",
    "    for freqi in range(nfreqs):\n",
    "        \n",
    "        powers = powers_freqs_allfiles[freqi]\n",
    "        \n",
    "        # ignore the power of value -1\n",
    "        powers = powers[powers != -1]\n",
    "        \n",
    "        \n",
    "        avgpower_freqs_allfiles[freqi] = np.mean(powers) \n",
    "        \n",
    "        del powers\n",
    "    \n",
    "    # return\n",
    "    return powers_freqs_allfiles, avgpower_freqs_allfiles"
   ]
  },
  {
   "cell_type": "markdown",
   "metadata": {},
   "source": [
    "## Main Function"
   ]
  },
  {
   "cell_type": "code",
   "execution_count": 4,
   "metadata": {},
   "outputs": [
    {
     "name": "stderr",
     "output_type": "stream",
     "text": [
      "/home/lingling/anaconda3/envs/general/lib/python3.6/site-packages/numpy/core/fromnumeric.py:3118: RuntimeWarning: Mean of empty slice.\n",
      "  out=out, **kwargs)\n",
      "/home/lingling/anaconda3/envs/general/lib/python3.6/site-packages/numpy/core/_methods.py:85: RuntimeWarning: invalid value encountered in double_scalars\n",
      "  ret = ret.dtype.type(ret / rcount)\n"
     ]
    }
   ],
   "source": [
    "# extract animal folder\n",
    "anidatfolder, aniresfolder, animetafolder = animal_folder(animal = 'Pinky')\n",
    "\n",
    "freqs_all = np.asarray([i for i in range(1, 51)])\n",
    "\n",
    "# channel numbers in M1\n",
    "chns_M1 = np.asarray([i for i in range(96)])"
   ]
  },
  {
   "cell_type": "code",
   "execution_count": 23,
   "metadata": {},
   "outputs": [
    {
     "name": "stderr",
     "output_type": "stream",
     "text": [
      "/home/lingling/anaconda3/envs/general/lib/python3.6/site-packages/numpy/core/fromnumeric.py:3118: RuntimeWarning: Mean of empty slice.\n",
      "  out=out, **kwargs)\n",
      "/home/lingling/anaconda3/envs/general/lib/python3.6/site-packages/numpy/core/_methods.py:85: RuntimeWarning: invalid value encountered in double_scalars\n",
      "  ret = ret.dtype.type(ret / rcount)\n"
     ]
    }
   ],
   "source": [
    "powers_freqs_normal, avgpower_freqs_normal = power_allfiles(anidatfolder, 'normal', freqs_all, chns_M1)\n",
    "powers_freqs_mild, avgpower_freqs_mild = power_allfiles(anidatfolder, 'mild', freqs_all, chns_M1)"
   ]
  },
  {
   "cell_type": "markdown",
   "metadata": {},
   "source": [
    "### Plot"
   ]
  },
  {
   "cell_type": "code",
   "execution_count": 36,
   "metadata": {},
   "outputs": [
    {
     "ename": "IndexError",
     "evalue": "index 9 is out of bounds for axis 1 with size 9",
     "output_type": "error",
     "traceback": [
      "\u001b[0;31m---------------------------------------------------------------------------\u001b[0m",
      "\u001b[0;31mIndexError\u001b[0m                                Traceback (most recent call last)",
      "\u001b[0;32m<ipython-input-36-46c2be995945>\u001b[0m in \u001b[0;36m<module>\u001b[0;34m\u001b[0m\n\u001b[1;32m      1\u001b[0m \u001b[0;32mimport\u001b[0m \u001b[0mmatplotlib\u001b[0m\u001b[0;34m.\u001b[0m\u001b[0mpyplot\u001b[0m \u001b[0;32mas\u001b[0m \u001b[0mplt\u001b[0m\u001b[0;34m\u001b[0m\u001b[0;34m\u001b[0m\u001b[0m\n\u001b[1;32m      2\u001b[0m \u001b[0mget_ipython\u001b[0m\u001b[0;34m(\u001b[0m\u001b[0;34m)\u001b[0m\u001b[0;34m.\u001b[0m\u001b[0mrun_line_magic\u001b[0m\u001b[0;34m(\u001b[0m\u001b[0;34m'matplotlib'\u001b[0m\u001b[0;34m,\u001b[0m \u001b[0;34m'inline'\u001b[0m\u001b[0;34m)\u001b[0m\u001b[0;34m\u001b[0m\u001b[0;34m\u001b[0m\u001b[0m\n\u001b[0;32m----> 3\u001b[0;31m \u001b[0mplt\u001b[0m\u001b[0;34m.\u001b[0m\u001b[0mplot\u001b[0m\u001b[0;34m(\u001b[0m\u001b[0mfreqs_all\u001b[0m\u001b[0;34m[\u001b[0m\u001b[0;36m8\u001b[0m\u001b[0;34m:\u001b[0m\u001b[0;34m-\u001b[0m\u001b[0;36m1\u001b[0m\u001b[0;34m]\u001b[0m\u001b[0;34m,\u001b[0m \u001b[0mpowers_freqs_mild\u001b[0m\u001b[0;34m[\u001b[0m\u001b[0;36m8\u001b[0m\u001b[0;34m:\u001b[0m\u001b[0;34m-\u001b[0m\u001b[0;36m1\u001b[0m\u001b[0;34m,\u001b[0m\u001b[0;36m9\u001b[0m\u001b[0;34m]\u001b[0m\u001b[0;34m)\u001b[0m\u001b[0;34m\u001b[0m\u001b[0;34m\u001b[0m\u001b[0m\n\u001b[0m\u001b[1;32m      4\u001b[0m \u001b[0mplt\u001b[0m\u001b[0;34m.\u001b[0m\u001b[0mshow\u001b[0m\u001b[0;34m(\u001b[0m\u001b[0;34m)\u001b[0m\u001b[0;34m\u001b[0m\u001b[0;34m\u001b[0m\u001b[0m\n",
      "\u001b[0;31mIndexError\u001b[0m: index 9 is out of bounds for axis 1 with size 9"
     ]
    }
   ],
   "source": [
    "import matplotlib.pyplot as plt\n",
    "%matplotlib inline\n",
    "plt.plot(freqs_all[8:-1], powers_freqs_mild[8:-1,9])\n",
    "plt.show()"
   ]
  },
  {
   "cell_type": "code",
   "execution_count": 35,
   "metadata": {},
   "outputs": [
    {
     "name": "stdout",
     "output_type": "stream",
     "text": [
      "['/home/lingling/yang7003@umn.edu/NMRC_umn/Projects/FCAnalysis/data/Pinky/epochs/Pinky_lfptrial_mild_101117_bktdt1.mat', '/home/lingling/yang7003@umn.edu/NMRC_umn/Projects/FCAnalysis/data/Pinky/epochs/Pinky_lfptrial_mild_110917_bktdt2.mat', '/home/lingling/yang7003@umn.edu/NMRC_umn/Projects/FCAnalysis/data/Pinky/epochs/Pinky_lfptrial_mild_112017_bktdt4.mat', '/home/lingling/yang7003@umn.edu/NMRC_umn/Projects/FCAnalysis/data/Pinky/epochs/Pinky_lfptrial_mild_101617_bktdt4.mat', '/home/lingling/yang7003@umn.edu/NMRC_umn/Projects/FCAnalysis/data/Pinky/epochs/Pinky_lfptrial_mild_102717_bktdt3.mat', '/home/lingling/yang7003@umn.edu/NMRC_umn/Projects/FCAnalysis/data/Pinky/epochs/Pinky_lfptrial_mild_101217_bktdt3.mat', '/home/lingling/yang7003@umn.edu/NMRC_umn/Projects/FCAnalysis/data/Pinky/epochs/Pinky_lfptrial_mild_101917_bktdt4.mat', '/home/lingling/yang7003@umn.edu/NMRC_umn/Projects/FCAnalysis/data/Pinky/epochs/Pinky_lfptrial_mild_102417_bktdt3.mat', '/home/lingling/yang7003@umn.edu/NMRC_umn/Projects/FCAnalysis/data/Pinky/epochs/Pinky_lfptrial_mild_101317_bktdt2.mat']\n"
     ]
    }
   ],
   "source": [
    "condition = 'mild'\n",
    "\n",
    "epochfolder = os.path.join(anidatfolder, 'epochs')\n",
    "\n",
    "# normal file pattern\n",
    "filepatt = os.path.join(epochfolder, \"*\" + condition + \"*.mat\") \n",
    "\n",
    "# extract all .mat files in normal in epoch folder\n",
    "files = glob.glob(filepatt)\n",
    "\n",
    "print(files)"
   ]
  },
  {
   "cell_type": "code",
   "execution_count": 136,
   "metadata": {},
   "outputs": [
    {
     "name": "stdout",
     "output_type": "stream",
     "text": [
      "/home/lingling/yang7003@umn.edu/NMRC_umn/Projects/FCAnalysis/data/Pinky/epochs/Pinky_lfptrial_mild_102417_bktdt3.mat\n"
     ]
    },
    {
     "data": {
      "image/png": "[encoded data removed]",
      "text/plain": [
       "<Figure size 432x288 with 1 Axes>"
      ]
     },
     "metadata": {
      "needs_background": "light"
     },
     "output_type": "display_data"
    }
   ],
   "source": [
    "filename = files[7]\n",
    "print(filename)\n",
    "\n",
    "\n",
    "dat = sio.loadmat(filename, \n",
    "              variable_names = ['idxevent', 'fs', 'lfptrial', 'idxevent_varNames'], \n",
    "              squeeze_me = True,\n",
    "              mat_dtype = True)\n",
    "\n",
    "\n",
    "# extract idxevent: numpy.ndarray(shape = (ntrials, 5)), idxevent_varNames: numpy.ndarray(nshape = (5,))\n",
    "idxevent, idxevent_varNames = dat['idxevent'], dat['idxevent_varNames']\n",
    "\n",
    "# extract fs\n",
    "fs = dat['fs']\n",
    "\n",
    "# extract lfp trial: nchns * ntemporals * ntrials\n",
    "lfptrial = dat['lfptrial']\n",
    "dat = sio.loadmat(filename, \n",
    "              variable_names = ['idxevent', 'fs', 'lfptrial', 'idxevent_varNames'], \n",
    "              squeeze_me = True,\n",
    "              mat_dtype = True)\n",
    "\n",
    "\n",
    "# extract idxevent: numpy.ndarray(shape = (ntrials, 5)), idxevent_varNames: numpy.ndarray(nshape = (5,))\n",
    "idxevent, idxevent_varNames = dat['idxevent'], dat['idxevent_varNames']\n",
    "\n",
    "# extract fs\n",
    "fs = dat['fs']\n",
    "\n",
    "# extract lfp trial: nchns * ntemporals * ntrials\n",
    "lfptrial = dat['lfptrial']\n",
    "\n",
    "\n",
    "\n",
    "\n",
    "# column index for event return\n",
    "coli_return = [i for i, s in enumerate(idxevent_varNames) if 'ReturnTimeix' in s]\n",
    "\n",
    "# column index for event Touch\n",
    "coli_mouth = [i for i, s in enumerate(idxevent_varNames) if 'MouthTimeix' in s]\n",
    "\n",
    "\n",
    "# column indices of return phase \n",
    "cols_phasereturn = coli_return + coli_mouth\n",
    "\n",
    "cols = cols_phasereturn\n",
    "\n",
    "\n",
    "# minimal and maximal duration for return phase\n",
    "\n",
    "\n",
    "# idxdur_min, idxdur_max\n",
    "idxdur_min, idxdur_max = int(np.round(tdur_min * fs)), int(np.round(tdur_max * fs))\n",
    "\n",
    "\n",
    "ntrials, _= idxevent.shape\n",
    "\n",
    "# dictionary powers_dict for storing power of each frequency\n",
    "powers_dict = dict()\n",
    "\n",
    "### calculate the power of each frequency in freqs_all from all the trials ###\n",
    "for triali in range(ntrials):\n",
    "\n",
    "    ### data extraction part ###\n",
    "\n",
    "    # start and end indices over time of specific phase for triali \n",
    "    idxtime_str, idxtime_end = int(idxevent[triali, cols[0]]), int(idxevent[triali, cols[1]])\n",
    "\n",
    "\n",
    "    # remove trials of return phase longer than tdur_max and shorter than tdur_min\n",
    "    if idxtime_end - idxtime_str < idxdur_min or idxtime_end - idxtime_str > idxdur_max:\n",
    "        continue;\n",
    "\n",
    "\n",
    "    # extract lfp data of chns in return phase for triali: shape = (nchns, ntemporals)\n",
    "    lfp_return = lfptrial[chns, idxtime_str:idxtime_end, triali]\n",
    "\n",
    "    # average across all the channels: shape = (ntemporals,)\n",
    "    avglfp_return = np.mean(lfp_return, axis = 0)\n",
    "\n",
    "\n",
    "    ### power calculation part ###\n",
    "\n",
    "    # fft number\n",
    "    nfft = len(avglfp_return)\n",
    "\n",
    "    # Discrete Fourier Transform sample frequencies\n",
    "    freqs = fftfreq(nfft, 1/fs)\n",
    "\n",
    "    # ignore the negative frequencies\n",
    "    idx_f = freqs >0\n",
    "    freqs = freqs[idx_f]\n",
    "\n",
    "\n",
    "    # compute the one-dimensional discrete Fourier transform\n",
    "    fft_lfp = fft(avglfp_return)\n",
    "\n",
    "    # power\n",
    "    power_lfp = np.square(np.abs(fft_lfp))/nfft\n",
    "    power_lfp = power_lfp[idx_f]\n",
    "\n",
    "\n",
    "    ### round power to the nearest frequency in freqs_all ### \n",
    "\n",
    "    # index of the nearest frequency for all the frequency in freqs\n",
    "    idx_round = [np.abs(freqs_all - freq).argmin() for freq in freqs if freq <= freqs_all[-1] + 0.5]\n",
    "\n",
    "    # add power of each nearest frequency into dictionary powers_dict\n",
    "    for i in idx_round:\n",
    "        if i in powers_dict.keys():\n",
    "            powers_dict[i] = powers_dict[i] + [power_lfp[i]]\n",
    "        else:\n",
    "            powers_dict[i] = [power_lfp[i]]\n",
    "\n",
    "    ### delete temporal variables ###\n",
    "\n",
    "    del idxtime_str, idxtime_end, lfp_return, avglfp_return\n",
    "    del nfft, freqs, idx_f, fft_lfp, power_lfp\n",
    "    del idx_round,i \n",
    "    \n",
    "    \n",
    "tdur_min, tdur_max = 0.5, 0.7\n",
    "\n",
    "chns = chns_M1\n",
    "\n",
    "chns = np.asarray([i for i in range(1,6)])\n",
    "lfp_return = np.mean(lfptrial[chns,:, 3], axis = 0)\n",
    "\n",
    "chni = 0\n",
    "lpf_1chn = lfptrial[chni,:, 3]\n",
    "plt.plot(lfp_return)\n",
    "plt.show()"
   ]
  },
  {
   "cell_type": "code",
   "execution_count": 135,
   "metadata": {},
   "outputs": [
    {
     "name": "stdout",
     "output_type": "stream",
     "text": [
      "/home/lingling/yang7003@umn.edu/NMRC_umn/Projects/FCAnalysis/data/Pinky/epochs/Pinky_lfptrial_mild_101117_bktdt1.mat\n",
      "/home/lingling/yang7003@umn.edu/NMRC_umn/Projects/FCAnalysis/data/Pinky/epochs/Pinky_lfptrial_mild_110917_bktdt2.mat\n",
      "/home/lingling/yang7003@umn.edu/NMRC_umn/Projects/FCAnalysis/data/Pinky/epochs/Pinky_lfptrial_mild_112017_bktdt4.mat\n",
      "/home/lingling/yang7003@umn.edu/NMRC_umn/Projects/FCAnalysis/data/Pinky/epochs/Pinky_lfptrial_mild_101617_bktdt4.mat\n",
      "/home/lingling/yang7003@umn.edu/NMRC_umn/Projects/FCAnalysis/data/Pinky/epochs/Pinky_lfptrial_mild_102717_bktdt3.mat\n",
      "/home/lingling/yang7003@umn.edu/NMRC_umn/Projects/FCAnalysis/data/Pinky/epochs/Pinky_lfptrial_mild_101217_bktdt3.mat\n",
      "/home/lingling/yang7003@umn.edu/NMRC_umn/Projects/FCAnalysis/data/Pinky/epochs/Pinky_lfptrial_mild_101917_bktdt4.mat\n",
      "/home/lingling/yang7003@umn.edu/NMRC_umn/Projects/FCAnalysis/data/Pinky/epochs/Pinky_lfptrial_mild_102417_bktdt3.mat\n",
      "/home/lingling/yang7003@umn.edu/NMRC_umn/Projects/FCAnalysis/data/Pinky/epochs/Pinky_lfptrial_mild_101317_bktdt2.mat\n"
     ]
    }
   ],
   "source": [
    "for i in range(len(files)):\n",
    "    print(files[i])"
   ]
  },
  {
   "cell_type": "code",
   "execution_count": null,
   "metadata": {},
   "outputs": [],
   "source": []
  }
 ],
 "metadata": {
  "kernelspec": {
   "display_name": "Python 2",
   "language": "python",
   "name": "python2"
  },
  "language_info": {
   "codemirror_mode": {
    "name": "ipython",
    "version": 3
   },
   "file_extension": ".py",
   "mimetype": "text/x-python",
   "name": "python",
   "nbconvert_exporter": "python",
   "pygments_lexer": "ipython3",
   "version": "3.6.8"
  },
  "toc": {
   "base_numbering": 1,
   "nav_menu": {},
   "number_sections": false,
   "sideBar": true,
   "skip_h1_title": true,
   "title_cell": "Table of Contents",
   "title_sidebar": "",
   "toc_cell": false,
   "toc_position": {},
   "toc_section_display": true,
   "toc_window_display": true
  }
 },
 "nbformat": 4,
 "nbformat_minor": 2
}
