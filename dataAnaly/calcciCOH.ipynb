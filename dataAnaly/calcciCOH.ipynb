{
 "cells": [
  {
   "cell_type": "code",
   "execution_count": 62,
   "metadata": {},
   "outputs": [],
   "source": [
    "import os, sys\n",
    "import scipy.io as sio\n",
    "import glob\n",
    "import numpy as np\n",
    "\n",
    "modulefolder = os.path.abspath(os.path.join('..','connAnalyTool'))\n",
    "sys.path.append(modulefolder)"
   ]
  },
  {
   "cell_type": "code",
   "execution_count": 113,
   "metadata": {},
   "outputs": [],
   "source": [
    "# user defined module\n",
    "from synchronization_index import ciCoherence "
   ]
  },
  {
   "cell_type": "code",
   "execution_count": 6,
   "metadata": {},
   "outputs": [
    {
     "name": "stdout",
     "output_type": "stream",
     "text": [
      "/home/lingling/yang7003@umn.edu/NMRC_umn/Projects/FCAnalysis/data/Pinky\n"
     ]
    }
   ],
   "source": [
    "animal = 'Pinky'\n",
    "NMRCfolder = os.path.abspath(os.path.join('..','..','..'))\n",
    "datafolder = os.path.join(NMRCfolder,'Projects', 'FCAnalysis', 'data', animal)\n",
    "\n",
    "filepatt = os.path.join(datafolder , \"*_mild_*.mat\") # all the mild files\n",
    "files = glob.glob(filepatt)\n",
    "for file in files:\n",
    "    matdat = sio.loadmat(file, variable_names = ['lfptrial_cortical', 'lfptrial_dbs'])\n",
    "    lfp_cortical = matdat['lfptrial_cortical'] # nchns * n_times * n_trials\n",
    "    lfp_dbs = matdat['lfptrial_dbs'] # nchns * n_times * n_trials\n",
    "    \n",
    "    del lfp_cortical lfp_dbs matdat"
   ]
  },
  {
   "cell_type": "code",
   "execution_count": 114,
   "metadata": {},
   "outputs": [],
   "source": [
    "file = files[0]\n",
    "matdat = sio.loadmat(file, variable_names = ['lfptrial_cortical', 'lfptrial_dbs'])\n",
    "lfp_cortical = matdat['lfptrial_cortical'] # nchns * n_times * n_trials\n",
    "lfp_dbs = matdat['lfptrial_dbs'] # nchns * n_times * n_trials\n",
    "lfp = np.concatenate((lfp_cortical,lfp_dbs), axis=0)\n",
    "del lfp_cortical, lfp_dbs, matdat"
   ]
  },
  {
   "cell_type": "code",
   "execution_count": 116,
   "metadata": {},
   "outputs": [
    {
     "ename": "ValueError",
     "evalue": "setting an array element with a sequence.",
     "output_type": "error",
     "traceback": [
      "\u001b[0;31m---------------------------------------------------------------------------\u001b[0m",
      "\u001b[0;31mValueError\u001b[0m                                Traceback (most recent call last)",
      "\u001b[0;32m<ipython-input-116-f815979f238a>\u001b[0m in \u001b[0;36m<module>\u001b[0;34m\u001b[0m\n\u001b[1;32m      7\u001b[0m         \u001b[0msignal2\u001b[0m \u001b[0;34m=\u001b[0m \u001b[0mlfp\u001b[0m\u001b[0;34m[\u001b[0m\u001b[0mchnj\u001b[0m\u001b[0;34m,\u001b[0m \u001b[0;34m:\u001b[0m\u001b[0;34m,\u001b[0m \u001b[0;34m:\u001b[0m\u001b[0;34m]\u001b[0m\u001b[0;34m\u001b[0m\u001b[0;34m\u001b[0m\u001b[0m\n\u001b[1;32m      8\u001b[0m         \u001b[0msignal2\u001b[0m \u001b[0;34m=\u001b[0m \u001b[0msignal2\u001b[0m\u001b[0;34m.\u001b[0m\u001b[0mtranspose\u001b[0m\u001b[0;34m(\u001b[0m\u001b[0;34m)\u001b[0m\u001b[0;34m\u001b[0m\u001b[0;34m\u001b[0m\u001b[0m\n\u001b[0;32m----> 9\u001b[0;31m         \u001b[0mciCOH\u001b[0m\u001b[0;34m[\u001b[0m\u001b[0mchni\u001b[0m\u001b[0;34m,\u001b[0m \u001b[0mchnj\u001b[0m\u001b[0;34m]\u001b[0m \u001b[0;34m=\u001b[0m  \u001b[0mciCoherence\u001b[0m\u001b[0;34m(\u001b[0m\u001b[0msignal1\u001b[0m\u001b[0;34m,\u001b[0m \u001b[0msignal2\u001b[0m\u001b[0;34m)\u001b[0m\u001b[0;34m\u001b[0m\u001b[0;34m\u001b[0m\u001b[0m\n\u001b[0m\u001b[1;32m     10\u001b[0m \u001b[0;34m\u001b[0m\u001b[0m\n",
      "\u001b[0;31mValueError\u001b[0m: setting an array element with a sequence."
     ]
    }
   ],
   "source": [
    "chns = lfp.shape[0]\n",
    "ciCOH = np.zeros((chns, chns))\n",
    "for chni in range(chns-1):\n",
    "    signal1 = lfp[chni, :, :]\n",
    "    signal1 = signal1.transpose()\n",
    "    for chnj in range(chni+1, chns):\n",
    "        signal2 = lfp[chnj, :, :]\n",
    "        signal2 = signal2.transpose()\n",
    "        ciCOH[chni, chnj, :] =  ciCoherence(signal1, signal2)\n",
    "    "
   ]
  },
  {
   "cell_type": "code",
   "execution_count": null,
   "metadata": {},
   "outputs": [],
   "source": []
  }
 ],
 "metadata": {
  "kernelspec": {
   "display_name": "Python 3",
   "language": "python",
   "name": "python3"
  },
  "language_info": {
   "codemirror_mode": {
    "name": "ipython",
    "version": 3
   },
   "file_extension": ".py",
   "mimetype": "text/x-python",
   "name": "python",
   "nbconvert_exporter": "python",
   "pygments_lexer": "ipython3",
   "version": "3.7.3"
  }
 },
 "nbformat": 4,
 "nbformat_minor": 2
}
