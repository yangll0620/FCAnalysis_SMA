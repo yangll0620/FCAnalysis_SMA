{
 "cells": [
  {
   "cell_type": "markdown",
   "metadata": {},
   "source": [
    "# Functionality of this notebook\n",
    "\n",
    "1. stk is short for single target kluver"
   ]
  },
  {
   "cell_type": "code",
   "execution_count": 1,
   "metadata": {},
   "outputs": [
    {
     "name": "stdout",
     "output_type": "stream",
     "text": [
      "importing Jupyter notebook from /home/lingling/yang7003@umn.edu/NMRC_umn/Codes/FCAnalysis/connAnalyTool/synchronization_indices.ipynb\n",
      "importing Jupyter notebook from /home/lingling/yang7003@umn.edu/NMRC_umn/Codes/FCAnalysis/util/folder_extract.ipynb\n"
     ]
    }
   ],
   "source": [
    "import os, sys\n",
    "import scipy.io as sio\n",
    "import glob\n",
    "import numpy as np\n",
    "import matplotlib.pyplot as plt\n",
    "%matplotlib inline\n",
    "\n",
    "\"\"\" \n",
    "    user defined module\n",
    "\"\"\"\n",
    "\n",
    "# import_nbmodule used for import package in .ipynb\n",
    "import import_nbmodule\n",
    "\n",
    "# add path '../'\n",
    "sys.path.append(os.path.abspath(os.path.join('..')))\n",
    "\n",
    "# import ciCoherence_overtime in ../connAnalyTool/synchronization_indices.ipynb\n",
    "from connAnalyTool.synchronization_indices import ciCoherence_acrosstrials\n",
    "from connAnalyTool.synchronization_indices import ciCoherence_overtime\n",
    "\n",
    "\n",
    "# import animal_folder in ../util/folder_extract.pynb \n",
    "from util.folder_extract import animal_folder"
   ]
  },
  {
   "cell_type": "code",
   "execution_count": 2,
   "metadata": {},
   "outputs": [],
   "source": [
    "animal = 'Pinky'"
   ]
  },
  {
   "cell_type": "markdown",
   "metadata": {},
   "source": [
    "### function ciCOH1file \n",
    "1. calculate ciCOH of each pair of channels in return phase for one file\n",
    "\n",
    "2. only analyze the return phase whose duration is longer than 500ms and shorter than 1s"
   ]
  },
  {
   "cell_type": "code",
   "execution_count": 3,
   "metadata": {},
   "outputs": [],
   "source": [
    "def ciCOH1file(file):\n",
    "    \n",
    "    \"\"\"\n",
    "        return the ciCOH in the return phase for a file containing a few trials\n",
    "        \n",
    "        Returns:\n",
    "            ciCOH_1file: corrected imaginary coherence value of all pairs of channels for all trials in file \n",
    "                         (nchns * nchns * ntrials)\n",
    "    \"\"\"\n",
    "    \n",
    "\n",
    "    ######################################\n",
    "    #\n",
    "    #    extract data of lfp, idxevent, fs\n",
    "    #\n",
    "    ######################################\n",
    "    \n",
    "    # load the stk trial data in beta1 band with idxevent, idxevent_varNames, fs\n",
    "    matdat = sio.loadmat(file, variable_names = ['lfptrial_beta1', 'idxevent', 'idxevent_varNames', 'fs'], \n",
    "                         struct_as_record = False, squeeze_me = True)\n",
    "\n",
    "    # lfp trial data: nchns * n_times * n_trials, fs: sample rate\n",
    "    lfp, fs = matdat['lfptrial_beta1'], matdat['fs'] \n",
    "\n",
    "    # idxevent (n_trials * 5): indices for targetonset, reachonset, reach, return and mouth\n",
    "    idxevent, idxevent_varNames = matdat['idxevent'], matdat['idxevent_varNames']\n",
    "\n",
    "\n",
    "\n",
    "    #####################################################################\n",
    "    #\n",
    "    #    extract column index for event return [ReturnTimeix MouthTimeix]\n",
    "    #\n",
    "    #####################################################################\n",
    "    \n",
    "    # column index for event return\n",
    "    coli_return = [i for i, s in enumerate(idxevent_varNames) if 'ReturnTimeix' in s]\n",
    "\n",
    "    # column index for event Touch\n",
    "    coli_mouth = [i for i, s in enumerate(idxevent_varNames) if 'MouthTimeix' in s]\n",
    "\n",
    "    # column indices of return phase \n",
    "    cols_phasereturn = coli_return + coli_mouth\n",
    "\n",
    "    cols = cols_phasereturn\n",
    "\n",
    "\n",
    "\n",
    "    ###################################################\n",
    "    #\n",
    "    #    extract lfp data of return phase for each trial\n",
    "    #\n",
    "    ###################################################\n",
    "    \n",
    "    # minimal and maximal duration for return phase\n",
    "    tdur_min, tdur_max = 0.5, 1\n",
    "    idxdur_min, idxdur_max = int(np.round(tdur_min * fs)), int(np.round(tdur_max * fs))\n",
    "\n",
    "    # initial ciCOH array for all trials\n",
    "    nchns,_ ,ntrials = lfp.shape\n",
    "    ciCOH_1file = np.zeros((nchns, nchns, ntrials))\n",
    "\n",
    "    for triali in range(ntrials):\n",
    "\n",
    "        ### extract the extract lfp data of return phase for each trial, only extract that last longer than 500ms ###\n",
    "        \n",
    "        # start and end indices over time of specific phase for triali \n",
    "        idxtime_str, idxtime_end = int(idxevent[triali, cols[0]]), int(idxevent[triali, cols[1]])\n",
    "\n",
    "        # remove trials of return phase longer than tdur_max and shorter than tdur_min\n",
    "        if idxtime_end - idxtime_str < idxdur_min or idxtime_end - idxtime_str > idxdur_max:\n",
    "            continue;\n",
    "\n",
    "        # extract lfp data in specific phase of one trial (n_chns * n_times)\n",
    "        lfp_1trial = lfp[:, idxtime_str:idxtime_end, triali]\n",
    "\n",
    "\n",
    "        ### calculate ciCOH between each pair of channels ###\n",
    "        \n",
    "        for chni in range(nchns-1):\n",
    "\n",
    "            # signal of channel chni\n",
    "            signal1 = lfp_1trial[chni, :]\n",
    "\n",
    "            for chnj in range(chni+1, nchns):\n",
    "\n",
    "                # signal of channel chnij\n",
    "                signal2 = lfp_1trial[chnj, :]\n",
    "\n",
    "                # ciCOH_1file assignment\n",
    "                ciCOH_1file[chni, chnj, triali] =  ciCoherence_overtime(signal1, signal2)\n",
    "\n",
    "                del signal2\n",
    "            del signal1\n",
    "\n",
    "        del idxtime_str, idxtime_end, lfp_1trial\n",
    "        \n",
    "        \n",
    "    # return\n",
    "    return ciCOH_1file"
   ]
  },
  {
   "cell_type": "markdown",
   "metadata": {},
   "source": [
    "### load path of stk trial data in beta band "
   ]
  },
  {
   "cell_type": "code",
   "execution_count": 4,
   "metadata": {},
   "outputs": [],
   "source": [
    "# extract the data, result and metainf folder of animal\n",
    "anidatfolder, aniresfolder, animetafolder = animal_folder(animal = animal)\n",
    "\n",
    "# load data folder\n",
    "loaddatafolder = os.path.join(anidatfolder, 'epochs_filtered', 'betaBand')\n",
    "\n",
    "# glob all .mat files (both mild and normal files)\n",
    "files = glob.glob(os.path.join(loaddatafolder, '*.mat'))"
   ]
  },
  {
   "cell_type": "markdown",
   "metadata": {},
   "source": [
    "### extract ciCOH_normal and ciCOH_mild from all files"
   ]
  },
  {
   "cell_type": "code",
   "execution_count": 5,
   "metadata": {},
   "outputs": [],
   "source": [
    "# delete ciCOH_mild if exist\n",
    "if 'ciCOH_mild' in locals():\n",
    "    del ciCOH_mild\n",
    "\n",
    "# delete ciCOH_normal if exist\n",
    "if 'ciCOH_normal' in locals():\n",
    "    del ciCOH_normal\n",
    "    \n",
    "for file in files:\n",
    "\n",
    "    # ciCOH value of all pairs of channels for all trials in one file (nchns * nchns * ntrials)\n",
    "    ciCOH_1file = ciCOH1file(file)\n",
    "    \n",
    "    # normal case\n",
    "    if 'normal' in file and 'mild' not in file:\n",
    "        if 'ciCOH_normal' not in locals():\n",
    "            # first normal file\n",
    "            ciCOH_normal = ciCOH_1file\n",
    "        else:\n",
    "            # append normal file\n",
    "            ciCOH_normal = np.concatenate((ciCOH_normal, ciCOH_1file), axis=2)\n",
    "    \n",
    "    \n",
    "    # mild case\n",
    "    if 'mild' in file and 'normal' not in file:\n",
    "        if 'ciCOH_mild' not in locals():\n",
    "            # first mild file\n",
    "            ciCOH_mild = ciCOH_1file\n",
    "        else:\n",
    "            # append mild file\n",
    "            ciCOH_mild = np.concatenate((ciCOH_mild, ciCOH_1file), axis=2)\n",
    "            \n",
    "    del ciCOH_1file"
   ]
  },
  {
   "cell_type": "markdown",
   "metadata": {},
   "source": [
    "### save calculated ciCOH"
   ]
  },
  {
   "cell_type": "code",
   "execution_count": null,
   "metadata": {},
   "outputs": [],
   "source": [
    "import pickle\n",
    "\n",
    "# store ciCOH_normal and ciCOH_mild into dict res_ciCOH\n",
    "res_ciCOH['normal'], res_ciCOH['mild'] = ciCOH_normal, ciCOH_mild\n",
    "\n",
    "# file storing the ciCOH results\n",
    "ciCOHfile = os.path.join(aniresfolder, 'res_ciCOH.pickle')\n",
    "\n",
    "pickle.dump(res_ciCOH, open(ciCOHfile, \"wb\" ) )"
   ]
  },
  {
   "cell_type": "markdown",
   "metadata": {},
   "source": [
    "### plot section"
   ]
  },
  {
   "cell_type": "code",
   "execution_count": null,
   "metadata": {},
   "outputs": [],
   "source": [
    "plt.imshow(np.mean(ciCOH_mild, axis = 2));\n",
    "plt.colorbar()\n",
    "plt.title('mild')\n",
    "plt.show()"
   ]
  },
  {
   "cell_type": "code",
   "execution_count": null,
   "metadata": {},
   "outputs": [],
   "source": [
    "plt.imshow(np.mean(ciCOH_normal, axis = 2))\n",
    "plt.title('normal')\n",
    "plt.colorbar()\n",
    "plt.show()"
   ]
  },
  {
   "cell_type": "code",
   "execution_count": null,
   "metadata": {},
   "outputs": [],
   "source": [
    "print(np.mean(ciCOH_normal, axis = 2))"
   ]
  },
  {
   "cell_type": "code",
   "execution_count": null,
   "metadata": {},
   "outputs": [],
   "source": [
    "print(np.mean(ciCOH_mild, axis = 2))"
   ]
  }
 ],
 "metadata": {
  "kernelspec": {
   "display_name": "Python 3",
   "language": "python",
   "name": "python3"
  },
  "language_info": {
   "codemirror_mode": {
    "name": "ipython",
    "version": 3
   },
   "file_extension": ".py",
   "mimetype": "text/x-python",
   "name": "python",
   "nbconvert_exporter": "python",
   "pygments_lexer": "ipython3",
   "version": "3.6.8"
  }
 },
 "nbformat": 4,
 "nbformat_minor": 2
}
