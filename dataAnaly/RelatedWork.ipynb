{
 "cells": [
  {
   "cell_type": "markdown",
   "metadata": {},
   "source": [
    "### Functional connectivity disruptions correlate with cognitive phenotypes in Parkinson's disease (Hassan et.al 2017)\n",
    "\n",
    "1. Our results showed a tendency to decreasing in the global topological graph features from G1 to G3 but without any significant differences between the groups. \n",
    "\n",
    "\n",
    "2. Previous studies have reported loss in network efficiency and hubs in the EEG alpha frequency bands in patients with Lewy bodies dementia in comparison with healthy controls and Alzheimer's disease patients (van Dellen et al., 2015). In a four-year follow-up study of Parkinson's disease patients with MEG recording, reduced node clustering for all frequencies and loss of global network efficiency in alpha frequency band were repor"
   ]
  },
  {
   "cell_type": "code",
   "execution_count": null,
   "metadata": {},
   "outputs": [],
   "source": []
  }
 ],
 "metadata": {
  "kernelspec": {
   "display_name": "Python 3",
   "language": "python",
   "name": "python3"
  },
  "language_info": {
   "codemirror_mode": {
    "name": "ipython",
    "version": 3
   },
   "file_extension": ".py",
   "mimetype": "text/x-python",
   "name": "python",
   "nbconvert_exporter": "python",
   "pygments_lexer": "ipython3",
   "version": "3.6.8"
  }
 },
 "nbformat": 4,
 "nbformat_minor": 2
}
