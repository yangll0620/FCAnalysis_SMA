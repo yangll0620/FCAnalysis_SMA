{
 "cells": [
  {
   "cell_type": "code",
   "execution_count": 105,
   "metadata": {},
   "outputs": [],
   "source": [
    "import numpy as np\n",
    "import sys, os\n",
    "import pandas as pd\n",
    "from datetime import datetime\n",
    "import scipy.io as sio\n",
    "\n",
    "# statistical analysis \n",
    "from scipy import stats\n",
    "\n",
    "# user defined module in .ipynb\n",
    "import import_nbmodule\n",
    "sys.path.append(os.path.join('..'))\n",
    "from util.folder_extract import animal_folder"
   ]
  },
  {
   "cell_type": "code",
   "execution_count": 106,
   "metadata": {},
   "outputs": [],
   "source": [
    "animal = 'Pinky'\n",
    "\n",
    "# extract the metainf folder of animal\n",
    "_, _, animetafolder = animal_folder(animal = animal)\n",
    "\n",
    "# read the skb information in pinky_skbinf.csv file\n",
    "skbinf = pd.read_csv(os.path.join(animetafolder, 'pinky_skbinf.csv')) \n",
    "\n",
    "# row numbers that the event time of the corresponing skb trials has been extracted\n",
    "idx_eventtimeextracted = np.where(skbinf['eventtimeextracted'] == 'Yes')"
   ]
  },
  {
   "cell_type": "code",
   "execution_count": 108,
   "metadata": {},
   "outputs": [],
   "source": [
    "drive = 'Y:';\n",
    "drivefolder = os.path.join(drive, 'Animals2', animal, 'Recording', 'Processed', 'DataDatabase')\n",
    "tevents_normal = []\n",
    "tevents_mild = []\n",
    "for idx in idx_eventtimeextracted[0]:\n",
    "    if skbinf['YingUsed'][idx] == 'Y':\n",
    "        dateexp = datetime.strptime(str(skbinf['dateexp'][idx]), '%y%m%d')\n",
    "        bkma = skbinf['bkma'][idx]\n",
    "        bktdt = skbinf['bktdt'][idx]\n",
    "        pdcon = skbinf['PDCondition'][idx]\n",
    "\n",
    "        loadfolder = os.path.join(drivefolder, animal + '_' + datetime.strftime(dateexp, '%m%d%y'), 'Block-' + str(bktdt))\n",
    "        loadfile = 'MASKBeventtime_' + animal + '_' + datetime.strftime(dateexp, '%Y%m%d') + '_mabk' + str(bkma) + '_tdtbk' + str(bktdt) + '.mat'\n",
    "\n",
    "        # load the event time in .mat file\n",
    "        dat = sio.loadmat(os.path.join(loadfolder, loadfile), variable_names = ['t_target', 't_reachonset', 't_touch', 't_return', 't_mouth'])\n",
    "\n",
    "        # combine all the event time into one matrix tevent\n",
    "        tevent = np.concatenate((dat['t_target'], dat['t_reachonset'], dat['t_touch'], dat['t_return'], dat['t_mouth']), axis = 1)\n",
    "        if pdcon == 'normal':\n",
    "            if len(tevents_normal) == 0:\n",
    "                tevents_normal = tevent\n",
    "            else:\n",
    "                tevents_normal = np.concatenate((tevents_normal, tevent), axis = 0)\n",
    "        elif pdcon == 'mild':\n",
    "            if len(tevents_mild) == 0:\n",
    "                tevents_mild = tevent\n",
    "            else:\n",
    "                tevents_mild = np.concatenate((tevents_mild, tevent), axis = 0)\n",
    "    "
   ]
  },
  {
   "cell_type": "code",
   "execution_count": 122,
   "metadata": {},
   "outputs": [
    {
     "name": "stdout",
     "output_type": "stream",
     "text": [
      "0.00202888972040924\n",
      "0.2946\n",
      "0.2371\n"
     ]
    }
   ],
   "source": [
    "col_target, col_reachonset, col_touch, col_return, col_mouth = 0, 1, 2, 3, 4\n",
    "cols = [col_target] + [col_reachonset]\n",
    "t_mild = np.squeeze((tevents_mild[:,cols[1]] - tevents_mild[:,cols[0]]));\n",
    "t_normal = np.squeeze((tevents_normal[:,cols[1]] - tevents_normal[:,cols[0]]));\n",
    "print(stats.ttest_ind(t_mild, t_normal)[1])\n",
    "print(round(np.mean(t_mild),4))\n",
    "print(round(np.mean(t_normal),4))"
   ]
  },
  {
   "cell_type": "code",
   "execution_count": 121,
   "metadata": {},
   "outputs": [
    {
     "data": {
      "image/png": "[encoded data removed]",
      "text/plain": [
       "<Figure size 432x288 with 1 Axes>"
      ]
     },
     "metadata": {
      "needs_background": "light"
     },
     "output_type": "display_data"
    }
   ],
   "source": [
    "import matplotlib.pyplot as plt\n",
    "fig = plt.figure()\n",
    "plt.plot(t_mild[np.intersect1d(np.where(t_mild<0.6)[0], np.where(t_mild>0.15)[0]) ],'.r', label = 'mild')\n",
    "plt.plot(t_normal[np.intersect1d(np.where(t_normal<0.6)[0], np.where(t_normal>0.15)[0]) ],'.g', label = 'normal')\n",
    "plt.show()\n"
   ]
  },
  {
   "cell_type": "code",
   "execution_count": 99,
   "metadata": {},
   "outputs": [
    {
     "name": "stdout",
     "output_type": "stream",
     "text": [
      "[0.36 0.47 0.47 0.29 0.31 0.37 0.36 0.33 0.33 0.36 0.34 0.34 0.43 0.44\n",
      " 0.38 0.35 0.36 0.2  0.37 0.47 0.35 0.34 0.33 0.43 0.32 0.32 0.33 0.36\n",
      " 0.31 0.37 0.36 0.33 0.33 0.36 0.34 0.34 0.43 0.44 0.38 0.35 0.36 0.2\n",
      " 0.37 0.47 0.35 0.34 0.33 0.43 0.32 0.32 0.33 0.36 0.35 0.33 0.32 0.32\n",
      " 0.29 0.48 0.37 0.34 0.48 0.3  0.43 0.37 0.36 0.32 0.39 0.35 0.49 0.33\n",
      " 0.37 0.38 0.35 0.43 0.4  0.42 0.3  0.36 0.41 0.38 0.32 0.35 0.38 0.4\n",
      " 0.36 0.48 0.32 0.35 0.12 0.38 0.42 0.35 0.35 0.38 0.44 0.42 0.39 0.42\n",
      " 0.33 0.37 0.34 0.34 0.2  0.48 0.34 0.04 0.31 0.19 0.19 0.46 0.22 0.23\n",
      " 0.43 0.15 0.14 0.2  0.3  0.04 0.19 0.09 0.08 0.26 0.21 0.29 0.28 0.35\n",
      " 0.2  0.31 0.3  0.47 0.47 0.44 0.44 0.33 0.34 0.29 0.35 0.45 0.29 0.07\n",
      " 0.4  0.34 0.33 0.37 0.33 0.39 0.32 0.4  0.33 0.41 0.49 0.43 0.45 0.45\n",
      " 0.35 0.4  0.48 0.46 0.42 0.41 0.42 0.43 0.38 0.42 0.45 0.43 0.44 0.31\n",
      " 0.47 0.49 0.38 0.44 0.45 0.4  0.47 0.39 0.43 0.38 0.43 0.48 0.47 0.47\n",
      " 0.47 0.34 0.27 0.39 0.34 0.44 0.42 0.33 0.32 0.33 0.31 0.47 0.41 0.35\n",
      " 0.05 0.37 0.29 0.34 0.34 0.31 0.35 0.31 0.43 0.32 0.37 0.32 0.22 0.23\n",
      " 0.32 0.37 0.4  0.44 0.35 0.49 0.47 0.37 0.36 0.46 0.46 0.4  0.36 0.4\n",
      " 0.38 0.34 0.36 0.39 0.36 0.34 0.41 0.36 0.34 0.44 0.35 0.35 0.44 0.45\n",
      " 0.32 0.49 0.32 0.34 0.34 0.33 0.37 0.37 0.46 0.45 0.48 0.49 0.41 0.38\n",
      " 0.4  0.41 0.38 0.35 0.38 0.35 0.35 0.34 0.36 0.33 0.33 0.47 0.34 0.37\n",
      " 0.34 0.45 0.31 0.27 0.41 0.29 0.38 0.34 0.32 0.35 0.46 0.32 0.38 0.46\n",
      " 0.42 0.38 0.33 0.32 0.34 0.39 0.33 0.32 0.29 0.33 0.45 0.33 0.39 0.47\n",
      " 0.33 0.35 0.16 0.35 0.34 0.33 0.33 0.46 0.48 0.46 0.36 0.39 0.33 0.16\n",
      " 0.49 0.32 0.34 0.47 0.41 0.36 0.37 0.3  0.44 0.11 0.49 0.31 0.37 0.36\n",
      " 0.11 0.35 0.36 0.2  0.39 0.36 0.3  0.38 0.46]\n"
     ]
    }
   ],
   "source": [
    "idx = np.where(t_mild<0.5)[0]\n",
    "print(t_mild[idx])"
   ]
  },
  {
   "cell_type": "code",
   "execution_count": null,
   "metadata": {},
   "outputs": [],
   "source": [
    "import cv2\n",
    "import numpy as np\n",
    "from threading import Thread, Lock\n",
    "\n",
    "import tkinter as tk\n",
    "from tkinter import filedialog\n",
    "import os\n",
    "import time\n",
    "import datetime\n",
    "import csv\n",
    "import sys, getopt\n",
    "\n",
    "videoCap = cv2.VideoCapture(self.camID)"
   ]
  }
 ],
 "metadata": {
  "kernelspec": {
   "display_name": "Python 3",
   "language": "python",
   "name": "python3"
  },
  "language_info": {
   "codemirror_mode": {
    "name": "ipython",
    "version": 3
   },
   "file_extension": ".py",
   "mimetype": "text/x-python",
   "name": "python",
   "nbconvert_exporter": "python",
   "pygments_lexer": "ipython3",
   "version": "3.6.8"
  }
 },
 "nbformat": 4,
 "nbformat_minor": 2
}
