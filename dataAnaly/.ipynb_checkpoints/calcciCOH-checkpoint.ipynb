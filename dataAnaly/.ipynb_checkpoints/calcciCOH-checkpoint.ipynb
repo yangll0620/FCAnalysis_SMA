{
 "cells": [
  {
   "cell_type": "code",
   "execution_count": 62,
   "metadata": {},
   "outputs": [],
   "source": [
    "import os, sys\n",
    "import scipy.io as sio\n",
    "import glob\n",
    "import numpy as np\n",
    "\n",
    "modulefolder = os.path.abspath(os.path.join('..','connAnalyTool'))\n",
    "sys.path.append(modulefolder)"
   ]
  },
  {
   "cell_type": "code",
   "execution_count": 64,
   "metadata": {},
   "outputs": [],
   "source": [
    "from synchronization_index import ciCoherence "
   ]
  },
  {
   "cell_type": "code",
   "execution_count": 6,
   "metadata": {},
   "outputs": [
    {
     "name": "stdout",
     "output_type": "stream",
     "text": [
      "/home/lingling/yang7003@umn.edu/NMRC_umn/Projects/FCAnalysis/data/Pinky\n"
     ]
    }
   ],
   "source": [
    "animal = 'Pinky'\n",
    "NMRCfolder = os.path.abspath(os.path.join('..','..','..'))\n",
    "datafolder = os.path.join(NMRCfolder,'Projects', 'FCAnalysis', 'data', animal)\n",
    "\n",
    "filepatt = os.path.join(datafolder , \"*_mild_*.mat\") # all the mild files\n",
    "files = glob.glob(filepatt)\n",
    "for file in files:\n",
    "    "
   ]
  },
  {
   "cell_type": "code",
   "execution_count": 41,
   "metadata": {},
   "outputs": [],
   "source": [
    "matdat = sio.loadmat(file, variable_names = ['lfptrial_cortical', 'lfptrial_dbs'])\n",
    "lfp_cortical = matdat['lfptrial_cortical'] # nchns * n_times * n_trials\n",
    "lfp_dbs = matdat['lfptrial_dbs'] # nchns * n_times * n_trials"
   ]
  },
  {
   "cell_type": "code",
   "execution_count": 70,
   "metadata": {},
   "outputs": [
    {
     "name": "stdout",
     "output_type": "stream",
     "text": [
      "[1. 1. 1. ... 1. 1. 1.]\n"
     ]
    }
   ],
   "source": [
    "print(iCOH)"
   ]
  },
  {
   "cell_type": "code",
   "execution_count": 68,
   "metadata": {},
   "outputs": [],
   "source": [
    "signal2 = np.random.random_sample((1,13819))"
   ]
  },
  {
   "cell_type": "code",
   "execution_count": 52,
   "metadata": {},
   "outputs": [],
   "source": [
    "chni = 1\n",
    "chnj = 1\n",
    "triali = 1\n",
    "signal1 = lfp_cortical[chni,:,:]\n",
    "signal2 = lfp_dbs[chnj,:,:]\n",
    "signal1 = np.reshape(signal1, (1, -1))\n",
    "signal2 = np.reshape(signal2, (1, -1))"
   ]
  },
  {
   "cell_type": "code",
   "execution_count": 69,
   "metadata": {},
   "outputs": [],
   "source": [
    "iCOH = ciCoherence(signal1, signal2)"
   ]
  },
  {
   "cell_type": "code",
   "execution_count": null,
   "metadata": {},
   "outputs": [],
   "source": []
  },
  {
   "cell_type": "code",
   "execution_count": 80,
   "metadata": {},
   "outputs": [
    {
     "name": "stdout",
     "output_type": "stream",
     "text": [
      "[[-0.03914374  0.3532566  -0.43930915 ...  1.56575153  0.47874089\n",
      "  -0.69639751]]\n",
      "[[1.77707462 1.87132101 2.00912626 ... 1.93289529 1.91927213 1.99852461]]\n"
     ]
    }
   ],
   "source": [
    "print(phase2_instant)\n",
    "print(phase1_instant)"
   ]
  },
  {
   "cell_type": "code",
   "execution_count": 86,
   "metadata": {},
   "outputs": [
    {
     "name": "stdout",
     "output_type": "stream",
     "text": [
      "[[-0.24296574+0.97003487j  0.05270748+0.99860999j -0.76923247+0.63896902j\n",
      "  ...  0.9333564 +0.35895101j  0.12989699+0.99152749j\n",
      "  -0.90189032+0.43196511j]]\n"
     ]
    }
   ],
   "source": [
    "print(exp_phase)"
   ]
  },
  {
   "cell_type": "code",
   "execution_count": 73,
   "metadata": {},
   "outputs": [],
   "source": []
  },
  {
   "cell_type": "code",
   "execution_count": 85,
   "metadata": {},
   "outputs": [],
   "source": [
    "exp_phase = np.exp(1j * delta_phase);"
   ]
  },
  {
   "cell_type": "code",
   "execution_count": null,
   "metadata": {},
   "outputs": [],
   "source": [
    "from scipy.signal import hilbert\n",
    "    analytic_s1 = hilbert(signal1, axis = 1) # analytic_s1: : n_epochs * n_times\n",
    "\tanalytic_s2 = hilbert(signal2, axis = 1) # analytic_s2: : n_epochs * n_times\n",
    "\n",
    "\tphase1_instant = np.angle(analytic_s1) # phase1_instant: : n_epochs * n_times\n",
    "\tphase2_instant = np.angle(analytic_s2) # phase2_instant: : n_epochs * n_times\n",
    "\tdelta_phase = phase1_instant - phase2_instant # delta_phase2: : n_epochs * n_times\n",
    "\tA1 = np.abs(analytic_s1) # A1: : n_epochs * n_times\n",
    "\tA2 = np.abs(analytic_s2) # A2: : n_epochs * n_times\n",
    "\n",
    "\texp_phase = np.exp(1j * delta_phase);\n",
    "\tG_12 = np.mean(np.multiply(np.multiply(A1,A2), exp_phase),axis =0) # numerator : 1 * n_times\n",
    "\tG_11 = np.mean(np.square(A1), axis = 0) # expect_A1Square : 1 * n_times\n",
    "\tG_22 = np.mean(np.square(A2), axis = 0) # expect_A2Square : 1 * n_times\n",
    "\n",
    "\tC = np.divide(G_12, np.sqrt(np.multiply(G_11, G_22)))\n",
    "    iCOH = np.imag(C)\n",
    "\tciCOH = np.divide(np.imag(C), np.sqrt(1-np.square(np.real(C))))"
   ]
  }
 ],
 "metadata": {
  "kernelspec": {
   "display_name": "Python 3",
   "language": "python",
   "name": "python3"
  },
  "language_info": {
   "codemirror_mode": {
    "name": "ipython",
    "version": 3
   },
   "file_extension": ".py",
   "mimetype": "text/x-python",
   "name": "python",
   "nbconvert_exporter": "python",
   "pygments_lexer": "ipython3",
   "version": "3.7.3"
  }
 },
 "nbformat": 4,
 "nbformat_minor": 2
}
