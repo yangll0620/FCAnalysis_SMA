{
 "cells": [
  {
   "cell_type": "code",
   "execution_count": 1,
   "metadata": {},
   "outputs": [
    {
     "name": "stderr",
     "output_type": "stream",
     "text": [
      "/home/lingling/anaconda3/envs/general/lib/python3.6/site-packages/vispy/visuals/isocurve.py:22: UserWarning: VisPy is not yet compatible with matplotlib 2.2+\n",
      "  warnings.warn(\"VisPy is not yet compatible with matplotlib 2.2+\")\n"
     ]
    }
   ],
   "source": [
    "import numpy as np\n",
    "\n",
    "from visbrain.objects import ConnectObj, SceneObj, SourceObj, BrainObj\n",
    "from visbrain.io import download_file"
   ]
  },
  {
   "cell_type": "code",
   "execution_count": 2,
   "metadata": {},
   "outputs": [
    {
     "name": "stderr",
     "output_type": "stream",
     "text": [
      "File already dowloaded (/home/lingling/visbrain_data/example_data/phase_sync_delta.npz).\n"
     ]
    }
   ],
   "source": [
    "# Download data\n",
    "arch = np.load(download_file('phase_sync_delta.npz', astype='example_data'))\n",
    "nodes, edges = arch['nodes'], arch['edges']\n"
   ]
  },
  {
   "cell_type": "code",
   "execution_count": 3,
   "metadata": {},
   "outputs": [
    {
     "name": "stderr",
     "output_type": "stream",
     "text": [
      "Creation of a scene\n",
      "ConnectObj(name='default') created\n",
      "    104 nodes detected\n",
      "    strength coloring method for connectivity\n",
      "    174 connectivity links displayed\n",
      "SourceObj(name='sources') created\n",
      "    104 sources detected\n",
      "    ConnectObj(name='default') added to the scene\n",
      "    SourceObj(name='sources') added to the scene\n",
      "BrainObj(name='B3') created\n",
      "    BrainObj(name='B3') added to the scene\n"
     ]
    }
   ],
   "source": [
    "# Create the scene with a black background\n",
    "sc = SceneObj(size=(1500, 600))\n",
    "\n",
    "\n",
    "# Coloring method\n",
    "color_by = 'strength'\n",
    "# Because we don't want to plot every connections, we only keep connections\n",
    "# above .7\n",
    "select = edges > .7\n",
    "# Define the connectivity object\n",
    "c_default = ConnectObj('default', nodes, edges, select=select, line_width=2.,\n",
    "                       cmap='Spectral_r', color_by=color_by)\n",
    "# Then, we define the sources\n",
    "s_obj = SourceObj('sources', nodes, color='#ab4642', radius_min=15.)\n",
    "sc.add_to_subplot(c_default, title='Color by connectivity strength')\n",
    "# And add connect, source and brain objects to the scene\n",
    "sc.add_to_subplot(s_obj)\n",
    "sc.add_to_subplot(BrainObj('B3'), use_this_cam=True)"
   ]
  },
  {
   "cell_type": "code",
   "execution_count": 4,
   "metadata": {},
   "outputs": [],
   "source": [
    "# Finally, display the scene\n",
    "sc.preview()"
   ]
  },
  {
   "cell_type": "code",
   "execution_count": null,
   "metadata": {},
   "outputs": [],
   "source": []
  }
 ],
 "metadata": {
  "kernelspec": {
   "display_name": "Python 3",
   "language": "python",
   "name": "python3"
  },
  "language_info": {
   "codemirror_mode": {
    "name": "ipython",
    "version": 3
   },
   "file_extension": ".py",
   "mimetype": "text/x-python",
   "name": "python",
   "nbconvert_exporter": "python",
   "pygments_lexer": "ipython3",
   "version": "3.6.8"
  }
 },
 "nbformat": 4,
 "nbformat_minor": 2
}
