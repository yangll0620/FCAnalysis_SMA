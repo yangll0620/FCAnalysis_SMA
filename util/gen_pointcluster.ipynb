{
 "cells": [
  {
   "cell_type": "code",
   "execution_count": 7,
   "metadata": {},
   "outputs": [],
   "source": [
    "import numpy as np\n",
    "from math import pi"
   ]
  },
  {
   "cell_type": "markdown",
   "metadata": {},
   "source": [
    "## function genpointcluster_circle"
   ]
  },
  {
   "cell_type": "code",
   "execution_count": 17,
   "metadata": {},
   "outputs": [],
   "source": [
    "def genpointcluster_circle(rs, ns, center = [0,0]):\n",
    "    \"\"\"\n",
    "        generate a point cluster in which points are evenly distrubted in and inside a circle\n",
    "        \n",
    "        Args:\n",
    "            \n",
    "            rs (list): list of radius of each circle (e.g r = [0.02, 0.04, 0.06, 0.08])\n",
    "            \n",
    "            ns (list): list of number on each circle (e.g n = [3, 17, 31, 45])\n",
    "            \n",
    "            center (list of 2 numbers): representing the x, y coordinates of the center of the circle\n",
    "            \n",
    "        \n",
    "        Returns:\n",
    "            \n",
    "            coord_points (numpy.ndarray): x, y coordinates of points, shape = (npoints, 2),  npoints = sum(n)\n",
    "\n",
    "            \n",
    "    \"\"\"\n",
    "    \n",
    "    coord_points = np.empty(shape=[0,2])\n",
    "    for r, n in zip(rs, ns):\n",
    "        # evenly spaced t over a [0 2*pi]\n",
    "        t = np.linspace(0, 2*pi, n + 1)\n",
    "        \n",
    "        # x, y coordinates\n",
    "        x = r * np.cos(t) + center[0]\n",
    "        y = r * np.sin(t) + center[1]\n",
    "        coord = np.stack((x[:-1], y[:-1]), axis = -1)\n",
    "        \n",
    "        coord_points = np.append(coord_points, coord, axis = 0)\n",
    "        \n",
    "    return coord_points"
   ]
  },
  {
   "cell_type": "code",
   "execution_count": 25,
   "metadata": {},
   "outputs": [],
   "source": [
    "def genpointcluster_less4(npoints, xy_lefttop, space_x = 0.02, space_y = 0.02):\n",
    "    \"\"\"\n",
    "        generate cluster points for points less than four from lefttop to rightbottom\n",
    "        \n",
    "        Args:\n",
    "            xy_lefttop (tupe): (x, y) coordinates of the left top point (i.e xy_leftop = (1,2))\n",
    "            \n",
    "            npoints (int): the number of points (should <=4)\n",
    "            \n",
    "            space_x, space_y: spaces between two points in x and y axis\n",
    "            \n",
    "            \n",
    "        Return:\n",
    "            coord_points (numpy.ndarray): x, y coordinates of points, shape = (npoints, 2)\n",
    "            \n",
    "    \"\"\"\n",
    "    \n",
    "    if npoints > 4:\n",
    "        print(\"The generated point cluster will not be pretty, Suggest trying a different method!\")\n",
    "    \n",
    "    # the x, y coordinates of the first point\n",
    "    x_init, y_init = xy_lefttop[0], xy_lefttop[1]\n",
    "\n",
    "    # number of points each line\n",
    "    nx = 2\n",
    "\n",
    "    # extract x, y coordinates of each point\n",
    "    coord_points = np.empty(shape=[0,2])\n",
    "    for i in range(npoints):\n",
    "\n",
    "        # steps from the first point in x and y axis\n",
    "        step_x, step_y = i%nx, i//nx\n",
    "\n",
    "        # x, y coordinates\n",
    "        x, y = x_init + step_x * space_x, y_init - step_y * space_y\n",
    "\n",
    "        coord_points = np.append(coord_points, np.expand_dims([x, y], axis = 0), axis = 0)\n",
    "\n",
    "    \n",
    "    if npoints == 3:\n",
    "        \"if there are 3 points, adjust the last to be a triangular\"\n",
    "        \n",
    "        coord_points[2][0] = (coord_points[0][0] + coord_points[1][0])/2\n",
    "    \n",
    "    # solve the float problem: -0.05+0.02 = -0.030000000000000002\n",
    "    points = np.round(coord_points * 100) /100\n",
    "\n",
    "    return coord_points"
   ]
  }
 ],
 "metadata": {
  "kernelspec": {
   "display_name": "Python 3",
   "language": "python",
   "name": "python3"
  },
  "language_info": {
   "codemirror_mode": {
    "name": "ipython",
    "version": 3
   },
   "file_extension": ".py",
   "mimetype": "text/x-python",
   "name": "python",
   "nbconvert_exporter": "python",
   "pygments_lexer": "ipython3",
   "version": "3.6.8"
  },
  "toc": {
   "base_numbering": 1,
   "nav_menu": {},
   "number_sections": false,
   "sideBar": true,
   "skip_h1_title": true,
   "title_cell": "Table of Contents",
   "title_sidebar": "",
   "toc_cell": false,
   "toc_position": {},
   "toc_section_display": true,
   "toc_window_display": true
  }
 },
 "nbformat": 4,
 "nbformat_minor": 2
}
