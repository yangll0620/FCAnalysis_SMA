{
 "cells": [
  {
   "cell_type": "markdown",
   "metadata": {},
   "source": [
    "# parsePDCondition return the pd condition for  the animal in one particular date\n"
   ]
  },
  {
   "cell_type": "code",
   "execution_count": 3,
   "metadata": {},
   "outputs": [],
   "source": [
    "from datetime import datetime"
   ]
  },
  {
   "cell_type": "markdown",
   "metadata": {},
   "source": [
    "### parsePDCondition_Pinky"
   ]
  },
  {
   "cell_type": "code",
   "execution_count": 8,
   "metadata": {
    "code_folding": [
     0
    ]
   },
   "outputs": [],
   "source": [
    "def parsePDCondition_Pinky(dateofexp):\n",
    "    \"\"\" \n",
    "    \n",
    "    parsePDCondition_Pinky return Pinky pd state of the input dateofexp\n",
    "    \n",
    "\n",
    "    Args:\n",
    "        dateofexp (datetime object): one date.\n",
    "\n",
    "    Return:\n",
    "        pd condition (str) in that date (one of 'normal', 'mild', 'moderate', 'tomild' 'tomoderate')\n",
    "        \n",
    "    Example:\n",
    "        pdcondition = parsePDCondition_Pinky(datetime(2017,2,14))\n",
    "        \n",
    "    \"\"\"\n",
    "    \n",
    "    \n",
    "    \"\"\"\n",
    "        periods of normal, mild and moderate\n",
    "    \"\"\"   \n",
    "    # normal period\n",
    "    period_normal = [datetime(2017,1,13),  datetime(2017,4,28)]\n",
    "\n",
    "    # mild period\n",
    "    period_mild = [datetime(2017,9,12),  datetime(2017,11,27)]\n",
    "\n",
    "    # moderate period\n",
    "    period_moderate = [datetime(2018,5,18),  datetime(2018,12,5)]\n",
    "    \n",
    "    \n",
    "    \n",
    "    \"\"\"\n",
    "        compare and return the pd condition\n",
    "    \"\"\" \n",
    "    # normal condition\n",
    "    if dateofexp <= period_normal[1]:\n",
    "        return 'normal'\n",
    "    \n",
    "    # mild condition\n",
    "    if period_mild[0] <= dateofexp <= period_mild[1]:\n",
    "        return 'mild'\n",
    "    \n",
    "    # moderate condition\n",
    "    if period_moderate[0] <= dateofexp <= period_moderate[1]:\n",
    "        return 'moderate'\n",
    "    \n",
    "    \n",
    "    # mild condition\n",
    "    if period_normal[1] < dateofexp < period_mild[0]:\n",
    "        return 'tomild'\n",
    "    \n",
    "    # moderate condition\n",
    "    if period_mild[1] < dateofexp < period_moderate[0]:\n",
    "        return 'tomoderate'"
   ]
  },
  {
   "cell_type": "markdown",
   "metadata": {},
   "source": [
    "### parsePDCondition_Bug"
   ]
  },
  {
   "cell_type": "code",
   "execution_count": null,
   "metadata": {},
   "outputs": [],
   "source": [
    "def parsePDCondition_Bug(dateofexp):\n",
    "    \"\"\" \n",
    "    parsePDCondition_Bug return Bug pd state of the input dateofexp\n",
    "\n",
    "\n",
    "    Args:\n",
    "        dateofexp (datetime object): one date.\n",
    "\n",
    "    Return:\n",
    "        pd condition (str) in that date (one of 'normal', 'mild', 'moderate', 'tomild' 'tomoderate')\n",
    "        \n",
    "    Example:\n",
    "        pdcondition = parsePDCondition_Bug(datetime(2018,12,13))\n",
    "        \n",
    "    \"\"\"\n",
    "    \n",
    "    \n",
    "    \"\"\"\n",
    "        periods of normal, mild and moderate\n",
    "    \"\"\"   \n",
    "    \n",
    "    # normal period\n",
    "    period_normal = [datetime(2017,7,18),  datetime(2018,12,13)]\n",
    "\n",
    "    # mild period\n",
    "    period_mild = [datetime(2019,1,25),  datetime(2019,9,5)]\n",
    "\n",
    "    # moderate period\n",
    "    period_moderate = [datetime(2019,11,21), datetime.now()]\n",
    "    \n",
    "    \n",
    "    \n",
    "    \"\"\"\n",
    "        compare and return the pd condition\n",
    "    \"\"\" \n",
    "    # normal condition\n",
    "    if dateofexp <= period_normal[-1]:\n",
    "        return 'normal'\n",
    "    \n",
    "    # mild condition\n",
    "    if period_mild[0] <= dateofexp <= period_mild[-1]:\n",
    "        return 'mild'\n",
    "    \n",
    "    # moderate condition\n",
    "    if period_moderate[0] <= dateofexp <= period_moderate[-1]:\n",
    "        return 'moderate'\n",
    "    \n",
    "    \n",
    "    # mild condition\n",
    "    if period_normal[-1] < dateofexp < period_mild[0]:\n",
    "        return 'tomild'\n",
    "    \n",
    "    # moderate condition\n",
    "    if period_mild[-1] < dateofexp < period_moderate[0]:\n",
    "        return 'tomoderate'"
   ]
  }
 ],
 "metadata": {
  "kernelspec": {
   "display_name": "Python 3",
   "language": "python",
   "name": "python3"
  },
  "language_info": {
   "codemirror_mode": {
    "name": "ipython",
    "version": 3
   },
   "file_extension": ".py",
   "mimetype": "text/x-python",
   "name": "python",
   "nbconvert_exporter": "python",
   "pygments_lexer": "ipython3",
   "version": "3.6.9"
  },
  "toc": {
   "base_numbering": 1,
   "nav_menu": {},
   "number_sections": false,
   "sideBar": true,
   "skip_h1_title": true,
   "title_cell": "Table of Contents",
   "title_sidebar": "",
   "toc_cell": false,
   "toc_position": {},
   "toc_section_display": true,
   "toc_window_display": true
  }
 },
 "nbformat": 4,
 "nbformat_minor": 2
}
