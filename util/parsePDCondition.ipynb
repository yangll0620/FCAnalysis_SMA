{
 "cells": [
  {
   "cell_type": "markdown",
   "metadata": {},
   "source": [
    "# parsePDCondition return the pd condition for  the animal in one particular date\n"
   ]
  },
  {
   "cell_type": "code",
   "execution_count": 1,
   "metadata": {},
   "outputs": [],
   "source": [
    "from datetime import datetime"
   ]
  },
  {
   "cell_type": "markdown",
   "metadata": {},
   "source": [
    "### Function return pd condition"
   ]
  },
  {
   "cell_type": "code",
   "execution_count": 26,
   "metadata": {},
   "outputs": [],
   "source": [
    "def parsePDCondition_Pinky(dateofexp):\n",
    "    \"\"\" animal_folder return data, result and metainf folders\n",
    "\n",
    "    Args:\n",
    "        dateofexp (datetime object): one date.\n",
    "\n",
    "    Return:\n",
    "        pd condition in that date (one of 'normal', 'mild', 'moderate', 'tomild' 'tomoderate')\n",
    "        \n",
    "    Example:\n",
    "        pdcondition = parsePDCondition_Pinky(datetime(2017,2,14))\n",
    "        \n",
    "    \"\"\"\n",
    "    \n",
    "    \n",
    "    \"\"\"\n",
    "        periods of normal, mild and moderate\n",
    "    \"\"\"   \n",
    "    # normal period\n",
    "    period_normal = [datetime(2017,1,13),  datetime(2017,4,28)]\n",
    "\n",
    "    # mild period\n",
    "    period_mild = [datetime(2017,9,12),  datetime(2017,11,27)]\n",
    "\n",
    "    # moderate period\n",
    "    period_moderate = [datetime(2018,5,18),  datetime(2018,12,5)]\n",
    "    \n",
    "    \n",
    "    \n",
    "    \"\"\"\n",
    "        compare and return the pd condition\n",
    "    \"\"\" \n",
    "    # normal condition\n",
    "    if dateofexp <= period_normal[1]:\n",
    "        return 'normal'\n",
    "    \n",
    "    # mild condition\n",
    "    if period_mild[0] <= dateofexp <= period_mild[1]:\n",
    "        return 'mild'\n",
    "    \n",
    "    # moderate condition\n",
    "    if period_moderate[0] <= dateofexp <= period_moderate[1]:\n",
    "        return 'moderate'\n",
    "    \n",
    "    \n",
    "    # mild condition\n",
    "    if period_normal[1] < dateofexp < period_mild[0]:\n",
    "        return 'tomild'\n",
    "    \n",
    "    # moderate condition\n",
    "    if period_mild[1] < dateofexp < period_moderate[0]:\n",
    "        return 'tomoderate'"
   ]
  }
 ],
 "metadata": {
  "kernelspec": {
   "display_name": "Python 3",
   "language": "python",
   "name": "python3"
  },
  "language_info": {
   "codemirror_mode": {
    "name": "ipython",
    "version": 3
   },
   "file_extension": ".py",
   "mimetype": "text/x-python",
   "name": "python",
   "nbconvert_exporter": "python",
   "pygments_lexer": "ipython3",
   "version": "3.6.8"
  }
 },
 "nbformat": 4,
 "nbformat_minor": 2
}
