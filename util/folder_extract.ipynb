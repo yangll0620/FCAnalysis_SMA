{
 "cells": [
  {
   "cell_type": "markdown",
   "metadata": {},
   "source": [
    "# folder extraction return absoluate folder path\n"
   ]
  },
  {
   "cell_type": "code",
   "execution_count": 1,
   "metadata": {},
   "outputs": [],
   "source": [
    "import os\n",
    "\n",
    "def animal_folder(animal = 'Pinky'): \n",
    "    \"\"\" animal_folder return data, result and metainf folders\n",
    "\n",
    "    Args:\n",
    "        animal (str): animal name.\n",
    "\n",
    "    Returns:\n",
    "        anidatfolder: data folder for animal\n",
    "        \n",
    "        aniresfolder: result folder for animal\n",
    "        \n",
    "        animetafolder: metainf folder for animal\n",
    "\n",
    "    \"\"\"\n",
    "    \n",
    "    NMRCfolder = os.path.abspath(os.path.join('..','..','..'))\n",
    "    \n",
    "    # data folder for animal\n",
    "    anidatfolder = os.path.join(NMRCfolder,'Projects', 'FCAnalysis', 'data', animal)\n",
    "    \n",
    "    # results folder for animal\n",
    "    aniresfolder = os.path.join(NMRCfolder,'Projects', 'FCAnalysis', 'results', animal)\n",
    "    \n",
    "    # metainf folder for animal\n",
    "    animetafolder = os.path.join(NMRCfolder,'Projects', 'FCAnalysis', 'metainf', animal)\n",
    "    \n",
    "    return anidatfolder, aniresfolder, animetafolder"
   ]
  }
 ],
 "metadata": {
  "kernelspec": {
   "display_name": "Python 3",
   "language": "python",
   "name": "python3"
  },
  "language_info": {
   "codemirror_mode": {
    "name": "ipython",
    "version": 3
   },
   "file_extension": ".py",
   "mimetype": "text/x-python",
   "name": "python",
   "nbconvert_exporter": "python",
   "pygments_lexer": "ipython3",
   "version": "3.6.8"
  }
 },
 "nbformat": 4,
 "nbformat_minor": 2
}
