{
 "cells": [
  {
   "cell_type": "markdown",
   "metadata": {},
   "source": [
    "# folder extraction return absoluate folder path\n",
    "\n",
    "* exp_subfolders(): return datafolder, codefolder, pipelinefolder, outputfolder\n",
    "\n",
    "* code_corresfolder(): return the corresponding folder for codefolder/codefile,  create the corresponding folder and/or the'out' and 'store' subfolders"
   ]
  },
  {
   "cell_type": "code",
   "execution_count": null,
   "metadata": {},
   "outputs": [],
   "source": [
    "import os"
   ]
  },
  {
   "cell_type": "markdown",
   "metadata": {},
   "source": [
    "## exp_subfolders()"
   ]
  },
  {
   "cell_type": "code",
   "execution_count": 1,
   "metadata": {},
   "outputs": [],
   "source": [
    "def exp_subfolders(): \n",
    "    \"\"\" \n",
    "        exp_subfolders return datafolder, codefolder, pipelinefolder, outputfolder\n",
    "        \n",
    "    Usage:\n",
    "        \n",
    "        datafolder, codefolder, pipelinefolder, outputfolder = exp_subfolders()\n",
    "\n",
    "    Returns:\n",
    "        datafolder: data folder \n",
    "        \n",
    "        codefolder: code folder \n",
    "        \n",
    "        pipelinefolder: pipeline folder\n",
    "        \n",
    "        outputfolder: output folder\n",
    "\n",
    "    \"\"\"\n",
    "    \n",
    "    currfolder = os.getcwd()\n",
    "    \n",
    "    # the exp folder path\n",
    "    expfolder = currfolder[0 : currfolder.find('exp')+len('exp')]\n",
    "    \n",
    "    # data folder\n",
    "    datafolder = os.path.join(expfolder, 'data')\n",
    "    \n",
    "    # code folder\n",
    "    codefolder = os.path.join(expfolder, 'code')\n",
    "    \n",
    "    # pipeline folder\n",
    "    pipelinefolder = os.path.join(expfolder, 'pipeline')\n",
    "    \n",
    "    # output folder\n",
    "    outputfolder = os.path.join(expfolder, 'output')\n",
    "    \n",
    "    \n",
    "    return datafolder, codefolder, pipelinefolder, outputfolder"
   ]
  },
  {
   "cell_type": "markdown",
   "metadata": {},
   "source": [
    "## code_corresfolder()"
   ]
  },
  {
   "cell_type": "code",
   "execution_count": 1,
   "metadata": {},
   "outputs": [],
   "source": [
    "def code_corresfolder(codefolder, codefile, makefolder = True, makesubfolder = False):\n",
    "    \"\"\"\n",
    "        code_corresfolder \n",
    "            return the corresponding folder for codefolder/codefile\n",
    "            \n",
    "            create the corresponding folder if not exist (makefolder = True)\n",
    "                   ,and the out and store subfolders of the corresponding folder (makesubfolder = True) \n",
    "            \n",
    "        args:\n",
    "        \n",
    "            codefolder: the folder for the codefile\n",
    "            \n",
    "            codefile: code file name without suffix (i.e codefile = examplecode for examplecode.ipynb)\n",
    "            \n",
    "            makefolder: tag for creating codefolder (default True)\n",
    "            \n",
    "            makesubfolder: tag for creating the 'out' and 'store' subfolders of codefolder (default False)\n",
    "            \n",
    "        \n",
    "        return:\n",
    "            codecorresfolder: the corresponding folder for codefolder/codefile\n",
    "            \n",
    "            codecorresparentfolder: the corresponding parent folder for codefolder/codefile\n",
    "    \"\"\"\n",
    "    \n",
    "\n",
    "    # extract the substring of codefolder after 'code'\n",
    "    subfolder = codefolder[codefolder.find('code') + len('code'):]\n",
    "    \n",
    "    # delete the first character if the first one is '/'\n",
    "    if subfolder[0] == '/':\n",
    "        subfolder = subfolder[1:]\n",
    "\n",
    "        \n",
    "    _, _, pipelinefolder, _ = exp_subfolders()\n",
    "    \n",
    "    # return the corresponding folder in pipeline folder\n",
    "    codecorresfolder = os.path.join(pipelinefolder, subfolder, codefile)\n",
    "    codecorresparentfolder = os.path.join(pipelinefolder, subfolder)\n",
    "    \n",
    "    # make folder if needed\n",
    "    if makefolder == True and os.path.isdir(codecorresfolder) == False:\n",
    "        os.makedirs(codecorresfolder)\n",
    "        \n",
    "    # make folder if needed\n",
    "    if makesubfolder == True: \n",
    "        \n",
    "        storefolder = os.path.join(codecorresfolder, 'store') \n",
    "        if os.path.isdir(storefolder) == False:\n",
    "            os.makedirs(storefolder)\n",
    "\n",
    "            \n",
    "        outfolder = os.path.join(codecorresfolder, 'out') \n",
    "        if os.path.isdir(outfolder) == False:\n",
    "            os.makedirs(outfolder)\n",
    "        \n",
    "    return codecorresfolder, codecorresparentfolder"
   ]
  }
 ],
 "metadata": {
  "kernelspec": {
   "display_name": "Python 3",
   "language": "python",
   "name": "python3"
  },
  "language_info": {
   "codemirror_mode": {
    "name": "ipython",
    "version": 3
   },
   "file_extension": ".py",
   "mimetype": "text/x-python",
   "name": "python",
   "nbconvert_exporter": "python",
   "pygments_lexer": "ipython3",
   "version": "3.6.10"
  },
  "toc": {
   "base_numbering": 1,
   "nav_menu": {},
   "number_sections": false,
   "sideBar": true,
   "skip_h1_title": true,
   "title_cell": "Table of Contents",
   "title_sidebar": "",
   "toc_cell": false,
   "toc_position": {
    "height": "calc(100% - 180px)",
    "left": "10px",
    "top": "150px",
    "width": "384px"
   },
   "toc_section_display": true,
   "toc_window_display": true
  }
 },
 "nbformat": 4,
 "nbformat_minor": 2
}
