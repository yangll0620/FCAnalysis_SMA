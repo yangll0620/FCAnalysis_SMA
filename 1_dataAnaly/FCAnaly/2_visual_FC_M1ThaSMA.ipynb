{
 "cells": [
  {
   "cell_type": "markdown",
   "metadata": {},
   "source": [
    "## Functionality: visualization of functional connectivity\n",
    "\n",
    "<ul>\n",
    "    <li>142 channels = 1-96 channels (M1) + 97-100(not used) + 101-132(ThaSMA) + 133-146 (GP/STN)</li>\n",
    "    <li>load animetafolder/pinky_locThaSMA.csv for the details of ThaSMA </li>\n",
    "</ul>"
   ]
  },
  {
   "cell_type": "markdown",
   "metadata": {},
   "source": [
    "## Import Packages "
   ]
  },
  {
   "cell_type": "code",
   "execution_count": 1,
   "metadata": {},
   "outputs": [],
   "source": [
    "import os, sys\n",
    "import numpy as np\n",
    "import pandas as pd\n",
    "\n",
    "import pickle\n",
    "\n",
    "from igraph.drawing.text import TextDrawer\n",
    "import cairo"
   ]
  },
  {
   "cell_type": "code",
   "execution_count": 2,
   "metadata": {},
   "outputs": [
    {
     "name": "stdout",
     "output_type": "stream",
     "text": [
      "importing Jupyter notebook from /home/lingling/yang7003@umn.edu/NMRC_umn/Projects/FCAnalysis/exp/code/util/folder_extract.ipynb\n",
      "importing Jupyter notebook from /home/lingling/yang7003@umn.edu/NMRC_umn/Projects/FCAnalysis/exp/code/connAnalyTool/graphVisual.ipynb\n"
     ]
    }
   ],
   "source": [
    "# import_nbmodule used for import package in .ipynb\n",
    "import import_nbmodule\n",
    "\n",
    "# extract the exp folder path\n",
    "currfolder = os.getcwd()\n",
    "codefolder = currfolder[0 : currfolder.find('code')+len('code')]\n",
    "\n",
    "# add path the exp folder\n",
    "sys.path.append(codefolder)\n",
    "\n",
    "\n",
    "# import animal_folder function in util/folder_extract.pynb \n",
    "from util.folder_extract import exp_subfolders, code_corresfolder\n",
    "\n",
    "# import graphVisual in connAnalyTool/graphVisual.pynb \n",
    "from connAnalyTool import graphVisual"
   ]
  },
  {
   "cell_type": "markdown",
   "metadata": {},
   "source": [
    "## exp subfolders"
   ]
  },
  {
   "cell_type": "code",
   "execution_count": 3,
   "metadata": {},
   "outputs": [],
   "source": [
    "datafolder, _, pipelinefolder, _ = exp_subfolders()"
   ]
  },
  {
   "cell_type": "markdown",
   "metadata": {},
   "source": [
    "## nb_name"
   ]
  },
  {
   "cell_type": "code",
   "execution_count": 4,
   "metadata": {},
   "outputs": [
    {
     "data": {
      "application/javascript": [
       "IPython.notebook.kernel.execute('nb_name = \"' + IPython.notebook.notebook_name + '\"')\n"
      ],
      "text/plain": [
       "<IPython.core.display.Javascript object>"
      ]
     },
     "metadata": {},
     "output_type": "display_data"
    }
   ],
   "source": [
    "%%javascript\n",
    "IPython.notebook.kernel.execute('nb_name = \"' + IPython.notebook.notebook_name + '\"')"
   ]
  },
  {
   "cell_type": "code",
   "execution_count": 5,
   "metadata": {},
   "outputs": [],
   "source": [
    "nb_name = nb_name[0: nb_name.find('.ipynb')]"
   ]
  },
  {
   "cell_type": "markdown",
   "metadata": {},
   "source": [
    "## load the ciCOH matrix"
   ]
  },
  {
   "cell_type": "markdown",
   "metadata": {},
   "source": [
    "### Load Beta band ciCOH\n",
    "1. dic_ciCOH.keys() = ['ciCOH_beta1_normal', 'ciCOH_beta1_mild', 'ciCOH_beta2_normal', 'ciCOH_beta2_mild']"
   ]
  },
  {
   "cell_type": "code",
   "execution_count": 6,
   "metadata": {},
   "outputs": [],
   "source": [
    "def ciCOHBetabandLoad(betaciCOHfilefolder):\n",
    "    \"\"\"\n",
    "        load beta band ciCOH\n",
    "        \n",
    "        \n",
    "        @return ciCOH_beta1_normal, ciCOH_beta1_mild: bata1 band ciCOH values in normal and mild conditions\n",
    "                                                      (ndarray: nchns * nchns * ntrials)\n",
    "        \n",
    "        @return ciCOH_beta2_normal, ciCOH_beta2_mild: bata2 band ciCOH values in normal and mild conditions \n",
    "                                                      (ndarray: nchns * nchns * ntrials)\n",
    "        \n",
    "    \"\"\"\n",
    "\n",
    "    # file storing the ciCOH results\n",
    "    ciCOHfile = os.path.join(betaciCOHfilefolder, 'res_ciCOH_beta.pickle')\n",
    "\n",
    "    # load res_ciCOH\n",
    "    res_ciCOH_beta = pickle.load(open(ciCOHfile, \"rb\" ))\n",
    "\n",
    "    # ciCOH_beta1_normal, ciCOH_beta1_mild\n",
    "    ciCOH_beta1_normal, ciCOH_beta1_mild = res_ciCOH_beta['ciCOH_beta1_normal'], res_ciCOH_beta['ciCOH_beta1_mild']\n",
    "\n",
    "    # ciCOH_beta2_normal, ciCOH_beta2_mild\n",
    "    ciCOH_beta2_normal, ciCOH_beta2_mild = res_ciCOH_beta['ciCOH_beta2_normal'], res_ciCOH_beta['ciCOH_beta2_mild']\n",
    "    \n",
    "    # return\n",
    "    return ciCOH_beta1_normal, ciCOH_beta1_mild, ciCOH_beta2_normal, ciCOH_beta2_mild"
   ]
  },
  {
   "cell_type": "code",
   "execution_count": 7,
   "metadata": {},
   "outputs": [],
   "source": [
    "betaciCOHfilefolder = os.path.join(pipelinefolder, '1_dataAnaly', 'FCAnaly', '0_calcciCOH_beta', 'out')\n",
    "\n",
    "# load beta1/beta2 ciCOH in normal and mild conditions\n",
    "ciCOH_beta1_normal, ciCOH_beta1_mild, ciCOH_beta2_normal, ciCOH_beta2_mild = ciCOHBetabandLoad(betaciCOHfilefolder)"
   ]
  },
  {
   "cell_type": "markdown",
   "metadata": {},
   "source": [
    "### Load alpha band ciCOH\n",
    "1. dic_ciCOH.keys() = ['ciCOH_alpha_normal', 'ciCOH_alpha_mild']"
   ]
  },
  {
   "cell_type": "code",
   "execution_count": 8,
   "metadata": {},
   "outputs": [],
   "source": [
    "def ciCOHAlphabandLoad(alphaciCOHfilefolder):\n",
    "    \"\"\"\n",
    "        load alpha band ciCOH\n",
    "        \n",
    "        @return ciCOH_alpha_normal,  ciCOH_alpha_mild: alpha band ciCOH values in normal and mild \n",
    "                                                       (ndarray: nchns * nchns * ntrials) \n",
    "    \"\"\"\n",
    "\n",
    "    # file storing the ciCOH results\n",
    "    ciCOHfile = os.path.join(alphaciCOHfilefolder, 'res_ciCOH_alpha.pickle')\n",
    "\n",
    "    # load res_ciCOH_alpha\n",
    "    res_ciCOH_alpha = pickle.load(open(ciCOHfile, \"rb\" ))\n",
    "\n",
    "    # ciCOH_alpha_normal, ciCOH_alpha_mild\n",
    "    ciCOH_alpha_normal, ciCOH_alpha_mild = res_ciCOH_alpha['ciCOH_alpha_normal'], res_ciCOH_alpha['ciCOH_alpha_mild']\n",
    "    \n",
    "    # return\n",
    "    return ciCOH_alpha_normal,  ciCOH_alpha_mild"
   ]
  },
  {
   "cell_type": "code",
   "execution_count": 9,
   "metadata": {},
   "outputs": [],
   "source": [
    "alphaciCOHfilefolder = os.path.join(pipelinefolder, '1_dataAnaly', 'FCAnaly', '0_calcciCOH_alpha', 'out')\n",
    "\n",
    "# load alpha ciCOH in normal and mild conditions\n",
    "ciCOH_alpha_normal,  ciCOH_alpha_mild = ciCOHAlphabandLoad(alphaciCOHfilefolder)"
   ]
  },
  {
   "cell_type": "markdown",
   "metadata": {},
   "source": [
    "## extract Channel Information\n",
    "\n",
    "load channel information from pipeline/1_dataAnaly/FCAnaly/1_simulatedLocs"
   ]
  },
  {
   "cell_type": "code",
   "execution_count": 10,
   "metadata": {},
   "outputs": [],
   "source": [
    "## load channel information ##\n",
    "chnInf_folder = os.path.join(pipelinefolder, '1_dataAnaly', 'FCAnaly', '1_simulatedLocs_M1ThaSMA')\n",
    "\n",
    "chnInf_file = os.path.join(chnInf_folder, 'chn_brainArea_simCoord_M1ThaSMA.csv')\n",
    "\n",
    "df = pd.read_csv(chnInf_file, header = 0)"
   ]
  },
  {
   "cell_type": "code",
   "execution_count": 11,
   "metadata": {},
   "outputs": [],
   "source": [
    "# channel matchni and recording chni \n",
    "chnInf_matchni, chnInf_recchni = df['mat_chni'], df['recording_chni']\n",
    "\n",
    "chnInf_brainarea = df['brainarea']\n",
    "\n",
    "x, y = df['simulated_x'].to_numpy(), df['simulated_y'].to_numpy()\n",
    "chnInf_coord = np.concatenate((np.expand_dims(x, axis = 1), np.expand_dims(y, axis = 1)), axis = 1)\n",
    "\n",
    "#########################  \n",
    "# Remove nonused channels \n",
    "#########################\n",
    "\n",
    "# extract the indices in which the corresponding channels are not used\n",
    "idx_mask = ~chnInf_brainarea.isnull()\n",
    "idx_notused = [i for i, isnan in enumerate(idx_mask) if isnan == False]\n",
    "\n",
    "chnInf_recchni = chnInf_recchni[idx_mask].to_numpy()\n",
    "\n",
    "chnInf_brainarea = chnInf_brainarea[idx_mask].tolist()\n",
    "\n",
    "chnInf_coord = chnInf_coord[idx_mask]"
   ]
  },
  {
   "cell_type": "markdown",
   "metadata": {},
   "source": [
    "## Alpha/Beta Visual"
   ]
  },
  {
   "cell_type": "code",
   "execution_count": 12,
   "metadata": {},
   "outputs": [],
   "source": [
    "texts_area = dict()\n",
    "\n",
    "texts_area['right Caudate'] = [250, 30, 20]\n",
    "texts_area['VPLo'] = [0, 100, 20]\n",
    "\n",
    "texts_area['VLo'] = [0, 155, 20]\n",
    "\n",
    "texts_area['VA'] = [0, 225, 20]\n",
    "\n",
    "texts_area['left MC'] = [-0, 275, 20]\n",
    "\n",
    "texts_area['SMA'] = [0, 345, 20]\n",
    "\n",
    "texts_area['M1'] = [-10, 510, 20]"
   ]
  },
  {
   "cell_type": "code",
   "execution_count": 13,
   "metadata": {},
   "outputs": [],
   "source": [
    "lowweight = 0.1\n",
    "\n",
    "savepath = code_corresfolder(os.getcwd(), nb_name)"
   ]
  },
  {
   "cell_type": "code",
   "execution_count": 18,
   "metadata": {},
   "outputs": [],
   "source": [
    "def bandciCOH_visual_save(bandciCOH, chn_area, chn_coord, lowweight, savefile, texts):\n",
    "    \"\"\"\n",
    "        \n",
    "        Args:\n",
    "            \n",
    "            bandciCOH (np.sdarray): ciCOH Tensor for each trial (nchns, nchns, ntrials)\n",
    "            \n",
    "            chn_area (list): a list of string representing brain area for each channel, len(chn_area) = nchns\n",
    "            \n",
    "            chn_coord (numpy.ndarray): x, y coordinates for each channel, shape = (nchns, 2)\n",
    "            \n",
    "            lowweight:\n",
    "            \n",
    "            savefile:\n",
    "            \n",
    "            texts:\n",
    "            \n",
    "    \"\"\"\n",
    "    \n",
    "    weight = abs(np.mean(bandciCOH, axis = 2))\n",
    "\n",
    "    # weight > lowweight\n",
    "    weight[np.where(weight<lowweight)] =0\n",
    "    \n",
    "    graph = graphVisual.graph_create(weight, vsarea = chn_area, vscoord = chn_coord)\n",
    "\n",
    "    # set graph visualization style\n",
    "    visual_style = graphVisual.graph_style(graph)\n",
    "    \n",
    "\n",
    "    igplot = graphVisual.graph_plot(graph, visual_style, texts = texts)\n",
    "    \n",
    "    igplot.save(savefile)\n",
    "    \n",
    "    return igplot"
   ]
  },
  {
   "cell_type": "markdown",
   "metadata": {},
   "source": [
    "### Alpha Visual"
   ]
  },
  {
   "cell_type": "markdown",
   "metadata": {},
   "source": [
    "#### normal"
   ]
  },
  {
   "cell_type": "code",
   "execution_count": 36,
   "metadata": {},
   "outputs": [
    {
     "name": "stdout",
     "output_type": "stream",
     "text": [
      "Figure saved to /home/lingling/yang7003@umn.edu/NMRC_umn/Projects/FCAnalysis/exp/pipeline/1_dataAnaly/FCAnaly/2_visual_FC_M1SMA/ciCOH_alpha_normal.png\n"
     ]
    }
   ],
   "source": [
    "# extract the first 128 channels for M1 and ThaSMA areas\n",
    "bandciCOH = ciCOH_alpha_normal[0:128, 0:128, :]\n",
    "\n",
    "# delete the unused channels in weight\n",
    "bandciCOH = np.delete(bandciCOH, idx_notused, axis=0)\n",
    "bandciCOH = np.delete(bandciCOH, idx_notused, axis=1)\n",
    "\n",
    "\n",
    "# save file config\n",
    "savefilename = 'ciCOH_alpha_normal' + '.png'\n",
    "savefile = os.path.join(savepath, savefilename)\n",
    "\n",
    "# printed text config\n",
    "texts = texts_area.copy()\n",
    "title = 'Alpha normal'\n",
    "texts[title] = [300, 225, 25]\n",
    "\n",
    "# visualize and save\n",
    "igplot = bandciCOH_visual_save(bandciCOH, chn_area = chnInf_brainarea, \n",
    "                      chn_coord = chnInf_coord, lowweight = lowweight,  \n",
    "                      savefile = savefile, texts = texts)\n",
    "\n",
    "igplot.show()\n",
    "\n",
    "print(\"Figure saved to \" + savefile)\n",
    "\n",
    "# del \n",
    "del bandciCOH, savefile, texts, title"
   ]
  },
  {
   "cell_type": "markdown",
   "metadata": {},
   "source": [
    "#### mild"
   ]
  },
  {
   "cell_type": "code",
   "execution_count": 21,
   "metadata": {},
   "outputs": [],
   "source": [
    "# extract the first 128 channels for M1 and ThaSMA areas\n",
    "bandciCOH = ciCOH_alpha_mild[0:128, 0:128, :]\n",
    "\n",
    "# delete the unused channels in weight\n",
    "bandciCOH = np.delete(bandciCOH, idx_notused, axis=0)\n",
    "bandciCOH = np.delete(bandciCOH, idx_notused, axis=1)\n",
    "\n",
    "\n",
    "# save file config\n",
    "savefilename = 'ciCOH_alpha_mild' + '.png'\n",
    "savefile = os.path.join(savepath, savefilename)\n",
    "\n",
    "# printed text config\n",
    "texts = texts_area.copy()\n",
    "title = 'Alpha mild'\n",
    "texts[title] = [300, 225, 25]\n",
    "\n",
    "# visualize and save\n",
    "igplot = bandciCOH_visual_save(bandciCOH, chn_area = chnInf_brainarea, \n",
    "                      chn_coord = chnInf_coord, lowweight = lowweight,  \n",
    "                      savefile = savefile, texts = texts)\n",
    "\n",
    "igplot.show()\n",
    "\n",
    "print(\"Figure saved to \" + savefile)\n",
    "\n",
    "# del \n",
    "del bandciCOH, savefile, texts, title"
   ]
  },
  {
   "cell_type": "markdown",
   "metadata": {},
   "source": [
    "## Beta Visual"
   ]
  },
  {
   "cell_type": "markdown",
   "metadata": {},
   "source": [
    "###  beta1"
   ]
  },
  {
   "cell_type": "markdown",
   "metadata": {},
   "source": [
    "#### normal"
   ]
  },
  {
   "cell_type": "code",
   "execution_count": 37,
   "metadata": {},
   "outputs": [
    {
     "name": "stdout",
     "output_type": "stream",
     "text": [
      "Figure saved to /home/lingling/yang7003@umn.edu/NMRC_umn/Projects/FCAnalysis/exp/pipeline/1_dataAnaly/FCAnaly/2_visual_FC_M1SMA/ciCOH_beta1_normal.png\n"
     ]
    }
   ],
   "source": [
    "# extract the first 128 channels for M1 and ThaSMA areas\n",
    "bandciCOH = ciCOH_beta1_normal[0:128, 0:128, :]\n",
    "\n",
    "# delete the unused channels in weight\n",
    "bandciCOH = np.delete(bandciCOH, idx_notused, axis=0)\n",
    "bandciCOH = np.delete(bandciCOH, idx_notused, axis=1)\n",
    "\n",
    "\n",
    "# save file config\n",
    "savefilename = 'ciCOH_beta1_normal' + '.png'\n",
    "savefile = os.path.join(savepath, savefilename)\n",
    "\n",
    "# printed text config\n",
    "texts = texts_area.copy()\n",
    "title = 'Beta1 normal'\n",
    "texts[title] = [300, 225, 25]\n",
    "\n",
    "# visualize and save\n",
    "igplot = bandciCOH_visual_save(bandciCOH, chn_area = chnInf_brainarea, \n",
    "                      chn_coord = chnInf_coord, lowweight = lowweight,  \n",
    "                      savefile = savefile, texts = texts)\n",
    "\n",
    "igplot.show()\n",
    "\n",
    "print(\"Figure saved to \" + savefile)\n",
    "\n",
    "# del \n",
    "del bandciCOH, savefile, texts, title"
   ]
  },
  {
   "cell_type": "markdown",
   "metadata": {},
   "source": [
    "#### mild"
   ]
  },
  {
   "cell_type": "code",
   "execution_count": 31,
   "metadata": {},
   "outputs": [
    {
     "data": {
      "image/svg+xml": [
       "<?xml version=\"1.0\" encoding=\"UTF-8\"?>\n",
       "<svg xmlns=\"http://www.w3.org/2000/svg\" xmlns:xlink=\"http://www.w3.org/1999/xlink\" width=\"600pt\" height=\"600pt\" viewBox=\"0 0 600 600\" version=\"1.1\">\n",
       "<g id=\"surface171\">\n",
       "<rect x=\"0\" y=\"0\" width=\"600\" height=\"600\" style=\"fill:rgb(100%,100%,100%);fill-opacity:1;stroke:none;\"/>\n",
       "<path style=\"fill:none;stroke-width:0.11327;stroke-linecap:butt;stroke-linejoin:miter;stroke:rgb(26.666667%,26.666667%,26.666667%);stroke-opacity:1;stroke-miterlimit:10;\" d=\"M 360.871094 479.117188 L 312.175781 320.769531 \"/>\n",
       "<path style=\"fill:none;stroke-width:0.127259;stroke-linecap:butt;stroke-linejoin:miter;stroke:rgb(26.666667%,26.666667%,26.666667%);stroke-opacity:1;stroke-miterlimit:10;\" d=\"M 457.191406 525.027344 L 312.175781 320.769531 \"/>\n",
       "<path style=\"fill:none;stroke-width:0.115451;stroke-linecap:butt;stroke-linejoin:miter;stroke:rgb(26.666667%,26.666667%,26.666667%);stroke-opacity:1;stroke-miterlimit:10;\" d=\"M 358.566406 536.980469 L 563.160156 530.828125 \"/>\n",
       "<path style=\"fill:none;stroke-width:0.102691;stroke-linecap:butt;stroke-linejoin:miter;stroke:rgb(26.666667%,26.666667%,26.666667%);stroke-opacity:1;stroke-miterlimit:10;\" d=\"M 358.566406 536.980469 L 312.175781 20 \"/>\n",
       "<path style=\"fill:none;stroke-width:0.10574;stroke-linecap:butt;stroke-linejoin:miter;stroke:rgb(26.666667%,26.666667%,26.666667%);stroke-opacity:1;stroke-miterlimit:10;\" d=\"M 289.484375 504.703125 L 312.175781 320.769531 \"/>\n",
       "<path style=\"fill:none;stroke-width:0.101572;stroke-linecap:butt;stroke-linejoin:miter;stroke:rgb(26.666667%,26.666667%,26.666667%);stroke-opacity:1;stroke-miterlimit:10;\" d=\"M 289.484375 504.703125 L 312.175781 20 \"/>\n",
       "<path style=\"fill:none;stroke-width:0.104047;stroke-linecap:butt;stroke-linejoin:miter;stroke:rgb(26.666667%,26.666667%,26.666667%);stroke-opacity:1;stroke-miterlimit:10;\" d=\"M 289.484375 489.457031 L 312.175781 320.769531 \"/>\n",
       "<path style=\"fill:none;stroke-width:0.104544;stroke-linecap:butt;stroke-linejoin:miter;stroke:rgb(26.666667%,26.666667%,26.666667%);stroke-opacity:1;stroke-miterlimit:10;\" d=\"M 289.484375 489.457031 L 312.175781 20 \"/>\n",
       "<path style=\"fill:none;stroke-width:0.106705;stroke-linecap:butt;stroke-linejoin:miter;stroke:rgb(26.666667%,26.666667%,26.666667%);stroke-opacity:1;stroke-miterlimit:10;\" d=\"M 302.414062 475.242188 L 312.175781 320.769531 \"/>\n",
       "<path style=\"fill:none;stroke-width:0.101309;stroke-linecap:butt;stroke-linejoin:miter;stroke:rgb(26.666667%,26.666667%,26.666667%);stroke-opacity:1;stroke-miterlimit:10;\" d=\"M 302.414062 475.242188 L 312.175781 20 \"/>\n",
       "<path style=\"fill:none;stroke-width:0.104396;stroke-linecap:butt;stroke-linejoin:miter;stroke:rgb(26.666667%,26.666667%,26.666667%);stroke-opacity:1;stroke-miterlimit:10;\" d=\"M 358.566406 457.179688 L 312.175781 20 \"/>\n",
       "<path style=\"fill:none;stroke-width:0.101848;stroke-linecap:butt;stroke-linejoin:miter;stroke:rgb(26.666667%,26.666667%,26.666667%);stroke-opacity:1;stroke-miterlimit:10;\" d=\"M 428.628906 459.945312 L 312.175781 320.769531 \"/>\n",
       "<path style=\"fill:none;stroke-width:0.100675;stroke-linecap:butt;stroke-linejoin:miter;stroke:rgb(26.666667%,26.666667%,26.666667%);stroke-opacity:1;stroke-miterlimit:10;\" d=\"M 476.03125 482.09375 L 419.042969 415.371094 \"/>\n",
       "<path style=\"fill:none;stroke-width:0.106899;stroke-linecap:butt;stroke-linejoin:miter;stroke:rgb(26.666667%,26.666667%,26.666667%);stroke-opacity:1;stroke-miterlimit:10;\" d=\"M 531.304688 497.082031 L 312.175781 320.769531 \"/>\n",
       "<path style=\"fill:none;stroke-width:0.107572;stroke-linecap:butt;stroke-linejoin:miter;stroke:rgb(26.666667%,26.666667%,26.666667%);stroke-opacity:1;stroke-miterlimit:10;\" d=\"M 528.3125 509.605469 L 312.175781 20 \"/>\n",
       "<path style=\"fill:none;stroke-width:0.104624;stroke-linecap:butt;stroke-linejoin:miter;stroke:rgb(26.666667%,26.666667%,26.666667%);stroke-opacity:1;stroke-miterlimit:10;\" d=\"M 505.121094 532.628906 L 312.175781 320.769531 \"/>\n",
       "<path style=\"fill:none;stroke-width:0.109883;stroke-linecap:butt;stroke-linejoin:miter;stroke:rgb(26.666667%,26.666667%,26.666667%);stroke-opacity:1;stroke-miterlimit:10;\" d=\"M 505.121094 532.628906 L 312.175781 20 \"/>\n",
       "<path style=\"fill:none;stroke-width:0.100468;stroke-linecap:butt;stroke-linejoin:miter;stroke:rgb(26.666667%,26.666667%,26.666667%);stroke-opacity:1;stroke-miterlimit:10;\" d=\"M 407.339844 558.589844 L 312.175781 320.769531 \"/>\n",
       "<path style=\"fill:none;stroke-width:0.107461;stroke-linecap:butt;stroke-linejoin:miter;stroke:rgb(26.666667%,26.666667%,26.666667%);stroke-opacity:1;stroke-miterlimit:10;\" d=\"M 407.339844 558.589844 L 312.175781 20 \"/>\n",
       "<path style=\"fill:none;stroke-width:0.101719;stroke-linecap:butt;stroke-linejoin:miter;stroke:rgb(26.666667%,26.666667%,26.666667%);stroke-opacity:1;stroke-miterlimit:10;\" d=\"M 377.816406 559.226562 L 312.175781 320.769531 \"/>\n",
       "<path style=\"fill:none;stroke-width:0.108895;stroke-linecap:butt;stroke-linejoin:miter;stroke:rgb(26.666667%,26.666667%,26.666667%);stroke-opacity:1;stroke-miterlimit:10;\" d=\"M 377.816406 559.226562 L 312.175781 20 \"/>\n",
       "<path style=\"fill:none;stroke-width:0.112396;stroke-linecap:butt;stroke-linejoin:miter;stroke:rgb(26.666667%,26.666667%,26.666667%);stroke-opacity:1;stroke-miterlimit:10;\" d=\"M 348.601562 557.320312 L 312.175781 320.769531 \"/>\n",
       "<path style=\"fill:none;stroke-width:0.104258;stroke-linecap:butt;stroke-linejoin:miter;stroke:rgb(26.666667%,26.666667%,26.666667%);stroke-opacity:1;stroke-miterlimit:10;\" d=\"M 348.601562 557.320312 L 312.175781 20 \"/>\n",
       "<path style=\"fill:none;stroke-width:0.106015;stroke-linecap:butt;stroke-linejoin:miter;stroke:rgb(26.666667%,26.666667%,26.666667%);stroke-opacity:1;stroke-miterlimit:10;\" d=\"M 320.882812 552.949219 L 312.175781 320.769531 \"/>\n",
       "<path style=\"fill:none;stroke-width:0.10409;stroke-linecap:butt;stroke-linejoin:miter;stroke:rgb(26.666667%,26.666667%,26.666667%);stroke-opacity:1;stroke-miterlimit:10;\" d=\"M 320.882812 552.949219 L 312.175781 20 \"/>\n",
       "<path style=\"fill:none;stroke-width:0.109345;stroke-linecap:butt;stroke-linejoin:miter;stroke:rgb(26.666667%,26.666667%,26.666667%);stroke-opacity:1;stroke-miterlimit:10;\" d=\"M 274.371094 537.613281 L 312.175781 20 \"/>\n",
       "<path style=\"fill:none;stroke-width:0.107573;stroke-linecap:butt;stroke-linejoin:miter;stroke:rgb(26.666667%,26.666667%,26.666667%);stroke-opacity:1;stroke-miterlimit:10;\" d=\"M 245.832031 515.707031 L 312.175781 20 \"/>\n",
       "<path style=\"fill:none;stroke-width:0.109864;stroke-linecap:butt;stroke-linejoin:miter;stroke:rgb(26.666667%,26.666667%,26.666667%);stroke-opacity:1;stroke-miterlimit:10;\" d=\"M 239.878906 503.375 L 312.175781 20 \"/>\n",
       "<path style=\"fill:none;stroke-width:0.100871;stroke-linecap:butt;stroke-linejoin:miter;stroke:rgb(26.666667%,26.666667%,26.666667%);stroke-opacity:1;stroke-miterlimit:10;\" d=\"M 239.878906 490.785156 L 312.175781 320.769531 \"/>\n",
       "<path style=\"fill:none;stroke-width:0.102185;stroke-linecap:butt;stroke-linejoin:miter;stroke:rgb(26.666667%,26.666667%,26.666667%);stroke-opacity:1;stroke-miterlimit:10;\" d=\"M 245.832031 478.453125 L 419.042969 415.371094 \"/>\n",
       "<path style=\"fill:none;stroke-width:0.102863;stroke-linecap:butt;stroke-linejoin:miter;stroke:rgb(26.666667%,26.666667%,26.666667%);stroke-opacity:1;stroke-miterlimit:10;\" d=\"M 245.832031 478.453125 L 312.175781 20 \"/>\n",
       "<path style=\"fill:none;stroke-width:0.105603;stroke-linecap:butt;stroke-linejoin:miter;stroke:rgb(26.666667%,26.666667%,26.666667%);stroke-opacity:1;stroke-miterlimit:10;\" d=\"M 274.371094 456.546875 L 312.175781 320.769531 \"/>\n",
       "<path style=\"fill:none;stroke-width:0.107899;stroke-linecap:butt;stroke-linejoin:miter;stroke:rgb(26.666667%,26.666667%,26.666667%);stroke-opacity:1;stroke-miterlimit:10;\" d=\"M 274.371094 456.546875 L 312.175781 20 \"/>\n",
       "<path style=\"fill:none;stroke-width:0.104806;stroke-linecap:butt;stroke-linejoin:miter;stroke:rgb(26.666667%,26.666667%,26.666667%);stroke-opacity:1;stroke-miterlimit:10;\" d=\"M 320.882812 441.210938 L 312.175781 320.769531 \"/>\n",
       "<path style=\"fill:none;stroke-width:0.116464;stroke-linecap:butt;stroke-linejoin:miter;stroke:rgb(26.666667%,26.666667%,26.666667%);stroke-opacity:1;stroke-miterlimit:10;\" d=\"M 435.953125 438.726562 L 419.042969 415.371094 \"/>\n",
       "<path style=\"fill:none;stroke-width:0.101347;stroke-linecap:butt;stroke-linejoin:miter;stroke:rgb(26.666667%,26.666667%,26.666667%);stroke-opacity:1;stroke-miterlimit:10;\" d=\"M 435.953125 438.726562 L 312.175781 320.769531 \"/>\n",
       "<path style=\"fill:none;stroke-width:0.100219;stroke-linecap:butt;stroke-linejoin:miter;stroke:rgb(26.666667%,26.666667%,26.666667%);stroke-opacity:1;stroke-miterlimit:10;\" d=\"M 435.953125 438.726562 L 312.175781 20 \"/>\n",
       "<path style=\"fill:none;stroke-width:0.10237;stroke-linecap:butt;stroke-linejoin:miter;stroke:rgb(26.666667%,26.666667%,26.666667%);stroke-opacity:1;stroke-miterlimit:10;\" d=\"M 485.867188 451.976562 L 312.175781 320.769531 \"/>\n",
       "<path style=\"fill:none;stroke-width:0.10927;stroke-linecap:butt;stroke-linejoin:miter;stroke:rgb(26.666667%,26.666667%,26.666667%);stroke-opacity:1;stroke-miterlimit:10;\" d=\"M 485.867188 451.976562 L 312.175781 20 \"/>\n",
       "<path style=\"fill:none;stroke-width:0.116951;stroke-linecap:butt;stroke-linejoin:miter;stroke:rgb(26.666667%,26.666667%,26.666667%);stroke-opacity:1;stroke-miterlimit:10;\" d=\"M 505.121094 461.53125 L 312.175781 320.769531 \"/>\n",
       "<path style=\"fill:none;stroke-width:0.102921;stroke-linecap:butt;stroke-linejoin:miter;stroke:rgb(26.666667%,26.666667%,26.666667%);stroke-opacity:1;stroke-miterlimit:10;\" d=\"M 528.3125 484.554688 L 312.175781 320.769531 \"/>\n",
       "<path style=\"fill:none;stroke-width:0.108275;stroke-linecap:butt;stroke-linejoin:miter;stroke:rgb(26.666667%,26.666667%,26.666667%);stroke-opacity:1;stroke-miterlimit:10;\" d=\"M 528.3125 484.554688 L 312.175781 20 \"/>\n",
       "<path style=\"fill:none;stroke-width:0.106585;stroke-linecap:butt;stroke-linejoin:miter;stroke:rgb(26.666667%,26.666667%,26.666667%);stroke-opacity:1;stroke-miterlimit:10;\" d=\"M 578.105469 508.628906 L 312.175781 320.769531 \"/>\n",
       "<path style=\"fill:none;stroke-width:0.106977;stroke-linecap:butt;stroke-linejoin:miter;stroke:rgb(26.666667%,26.666667%,26.666667%);stroke-opacity:1;stroke-miterlimit:10;\" d=\"M 578.105469 508.628906 L 312.175781 20 \"/>\n",
       "<path style=\"fill:none;stroke-width:0.113373;stroke-linecap:butt;stroke-linejoin:miter;stroke:rgb(26.666667%,26.666667%,26.666667%);stroke-opacity:1;stroke-miterlimit:10;\" d=\"M 572.453125 519.949219 L 312.175781 320.769531 \"/>\n",
       "<path style=\"fill:none;stroke-width:0.104166;stroke-linecap:butt;stroke-linejoin:miter;stroke:rgb(26.666667%,26.666667%,26.666667%);stroke-opacity:1;stroke-miterlimit:10;\" d=\"M 563.160156 530.828125 L 419.042969 415.371094 \"/>\n",
       "<path style=\"fill:none;stroke-width:0.116681;stroke-linecap:butt;stroke-linejoin:miter;stroke:rgb(26.666667%,26.666667%,26.666667%);stroke-opacity:1;stroke-miterlimit:10;\" d=\"M 563.160156 530.828125 L 572.453125 474.210938 \"/>\n",
       "<path style=\"fill:none;stroke-width:0.103484;stroke-linecap:butt;stroke-linejoin:miter;stroke:rgb(26.666667%,26.666667%,26.666667%);stroke-opacity:1;stroke-miterlimit:10;\" d=\"M 563.160156 530.828125 L 312.175781 20 \"/>\n",
       "<path style=\"fill:none;stroke-width:0.101733;stroke-linecap:butt;stroke-linejoin:miter;stroke:rgb(26.666667%,26.666667%,26.666667%);stroke-opacity:1;stroke-miterlimit:10;\" d=\"M 515.550781 558.738281 L 312.175781 320.769531 \"/>\n",
       "<path style=\"fill:none;stroke-width:0.104976;stroke-linecap:butt;stroke-linejoin:miter;stroke:rgb(26.666667%,26.666667%,26.666667%);stroke-opacity:1;stroke-miterlimit:10;\" d=\"M 515.550781 558.738281 L 312.175781 20 \"/>\n",
       "<path style=\"fill:none;stroke-width:0.113026;stroke-linecap:butt;stroke-linejoin:miter;stroke:rgb(26.666667%,26.666667%,26.666667%);stroke-opacity:1;stroke-miterlimit:10;\" d=\"M 470.605469 571.652344 L 312.175781 320.769531 \"/>\n",
       "<path style=\"fill:none;stroke-width:0.110526;stroke-linecap:butt;stroke-linejoin:miter;stroke:rgb(26.666667%,26.666667%,26.666667%);stroke-opacity:1;stroke-miterlimit:10;\" d=\"M 470.605469 571.652344 L 312.175781 20 \"/>\n",
       "<path style=\"fill:none;stroke-width:0.104585;stroke-linecap:butt;stroke-linejoin:miter;stroke:rgb(26.666667%,26.666667%,26.666667%);stroke-opacity:1;stroke-miterlimit:10;\" d=\"M 419.042969 578.789062 L 312.175781 320.769531 \"/>\n",
       "<path style=\"fill:none;stroke-width:0.106677;stroke-linecap:butt;stroke-linejoin:miter;stroke:rgb(26.666667%,26.666667%,26.666667%);stroke-opacity:1;stroke-miterlimit:10;\" d=\"M 392.015625 580 L 312.175781 320.769531 \"/>\n",
       "<path style=\"fill:none;stroke-width:0.109745;stroke-linecap:butt;stroke-linejoin:miter;stroke:rgb(26.666667%,26.666667%,26.666667%);stroke-opacity:1;stroke-miterlimit:10;\" d=\"M 364.855469 579.597656 L 312.175781 320.769531 \"/>\n",
       "<path style=\"fill:none;stroke-width:0.106689;stroke-linecap:butt;stroke-linejoin:miter;stroke:rgb(26.666667%,26.666667%,26.666667%);stroke-opacity:1;stroke-miterlimit:10;\" d=\"M 364.855469 579.597656 L 312.175781 20 \"/>\n",
       "<path style=\"fill:none;stroke-width:0.107024;stroke-linecap:butt;stroke-linejoin:miter;stroke:rgb(26.666667%,26.666667%,26.666667%);stroke-opacity:1;stroke-miterlimit:10;\" d=\"M 312.25 574.007812 L 202.179688 525.457031 \"/>\n",
       "<path style=\"fill:none;stroke-width:0.104078;stroke-linecap:butt;stroke-linejoin:miter;stroke:rgb(26.666667%,26.666667%,26.666667%);stroke-opacity:1;stroke-miterlimit:10;\" d=\"M 312.25 574.007812 L 419.042969 415.371094 \"/>\n",
       "<path style=\"fill:none;stroke-width:0.106344;stroke-linecap:butt;stroke-linejoin:miter;stroke:rgb(26.666667%,26.666667%,26.666667%);stroke-opacity:1;stroke-miterlimit:10;\" d=\"M 312.25 574.007812 L 494.136719 428.292969 \"/>\n",
       "<path style=\"fill:none;stroke-width:0.102691;stroke-linecap:butt;stroke-linejoin:miter;stroke:rgb(26.666667%,26.666667%,26.666667%);stroke-opacity:1;stroke-miterlimit:10;\" d=\"M 312.25 574.007812 L 312.175781 20 \"/>\n",
       "<path style=\"fill:none;stroke-width:0.104511;stroke-linecap:butt;stroke-linejoin:miter;stroke:rgb(26.666667%,26.666667%,26.666667%);stroke-opacity:1;stroke-miterlimit:10;\" d=\"M 287.824219 568.933594 L 312.175781 320.769531 \"/>\n",
       "<path style=\"fill:none;stroke-width:0.104401;stroke-linecap:butt;stroke-linejoin:miter;stroke:rgb(26.666667%,26.666667%,26.666667%);stroke-opacity:1;stroke-miterlimit:10;\" d=\"M 287.824219 568.933594 L 312.175781 20 \"/>\n",
       "<path style=\"fill:none;stroke-width:0.105471;stroke-linecap:butt;stroke-linejoin:miter;stroke:rgb(26.666667%,26.666667%,26.666667%);stroke-opacity:1;stroke-miterlimit:10;\" d=\"M 265.296875 562.460938 L 312.175781 320.769531 \"/>\n",
       "<path style=\"fill:none;stroke-width:0.106866;stroke-linecap:butt;stroke-linejoin:miter;stroke:rgb(26.666667%,26.666667%,26.666667%);stroke-opacity:1;stroke-miterlimit:10;\" d=\"M 265.296875 562.460938 L 312.175781 20 \"/>\n",
       "<path style=\"fill:none;stroke-width:0.107152;stroke-linecap:butt;stroke-linejoin:miter;stroke:rgb(26.666667%,26.666667%,26.666667%);stroke-opacity:1;stroke-miterlimit:10;\" d=\"M 245.101562 554.714844 L 312.175781 20 \"/>\n",
       "<path style=\"fill:none;stroke-width:0.111011;stroke-linecap:butt;stroke-linejoin:miter;stroke:rgb(26.666667%,26.666667%,26.666667%);stroke-opacity:1;stroke-miterlimit:10;\" d=\"M 227.636719 545.847656 L 312.175781 320.769531 \"/>\n",
       "<path style=\"fill:none;stroke-width:0.1029;stroke-linecap:butt;stroke-linejoin:miter;stroke:rgb(26.666667%,26.666667%,26.666667%);stroke-opacity:1;stroke-miterlimit:10;\" d=\"M 227.636719 545.847656 L 312.175781 20 \"/>\n",
       "<path style=\"fill:none;stroke-width:0.108202;stroke-linecap:butt;stroke-linejoin:miter;stroke:rgb(26.666667%,26.666667%,26.666667%);stroke-opacity:1;stroke-miterlimit:10;\" d=\"M 202.179688 525.457031 L 312.175781 320.769531 \"/>\n",
       "<path style=\"fill:none;stroke-width:0.100214;stroke-linecap:butt;stroke-linejoin:miter;stroke:rgb(26.666667%,26.666667%,26.666667%);stroke-opacity:1;stroke-miterlimit:10;\" d=\"M 194.691406 514.332031 L 312.175781 20 \"/>\n",
       "<path style=\"fill:none;stroke-width:0.104004;stroke-linecap:butt;stroke-linejoin:miter;stroke:rgb(26.666667%,26.666667%,26.666667%);stroke-opacity:1;stroke-miterlimit:10;\" d=\"M 190.910156 491.292969 L 312.175781 320.769531 \"/>\n",
       "<path style=\"fill:none;stroke-width:0.101478;stroke-linecap:butt;stroke-linejoin:miter;stroke:rgb(26.666667%,26.666667%,26.666667%);stroke-opacity:1;stroke-miterlimit:10;\" d=\"M 194.691406 479.828125 L 312.175781 320.769531 \"/>\n",
       "<path style=\"fill:none;stroke-width:0.100434;stroke-linecap:butt;stroke-linejoin:miter;stroke:rgb(26.666667%,26.666667%,26.666667%);stroke-opacity:1;stroke-miterlimit:10;\" d=\"M 194.691406 479.828125 L 312.175781 20 \"/>\n",
       "<path style=\"fill:none;stroke-width:0.104725;stroke-linecap:butt;stroke-linejoin:miter;stroke:rgb(26.666667%,26.666667%,26.666667%);stroke-opacity:1;stroke-miterlimit:10;\" d=\"M 202.179688 468.703125 L 312.175781 320.769531 \"/>\n",
       "<path style=\"fill:none;stroke-width:0.102126;stroke-linecap:butt;stroke-linejoin:miter;stroke:rgb(26.666667%,26.666667%,26.666667%);stroke-opacity:1;stroke-miterlimit:10;\" d=\"M 202.179688 468.703125 L 312.175781 20 \"/>\n",
       "<path style=\"fill:none;stroke-width:0.112052;stroke-linecap:butt;stroke-linejoin:miter;stroke:rgb(26.666667%,26.666667%,26.666667%);stroke-opacity:1;stroke-miterlimit:10;\" d=\"M 213.234375 458.128906 L 312.175781 320.769531 \"/>\n",
       "<path style=\"fill:none;stroke-width:0.107749;stroke-linecap:butt;stroke-linejoin:miter;stroke:rgb(26.666667%,26.666667%,26.666667%);stroke-opacity:1;stroke-miterlimit:10;\" d=\"M 213.234375 458.128906 L 312.175781 20 \"/>\n",
       "<path style=\"fill:none;stroke-width:0.106862;stroke-linecap:butt;stroke-linejoin:miter;stroke:rgb(26.666667%,26.666667%,26.666667%);stroke-opacity:1;stroke-miterlimit:10;\" d=\"M 227.636719 448.3125 L 312.175781 320.769531 \"/>\n",
       "<path style=\"fill:none;stroke-width:0.110474;stroke-linecap:butt;stroke-linejoin:miter;stroke:rgb(26.666667%,26.666667%,26.666667%);stroke-opacity:1;stroke-miterlimit:10;\" d=\"M 227.636719 448.3125 L 312.175781 20 \"/>\n",
       "<path style=\"fill:none;stroke-width:0.105617;stroke-linecap:butt;stroke-linejoin:miter;stroke:rgb(26.666667%,26.666667%,26.666667%);stroke-opacity:1;stroke-miterlimit:10;\" d=\"M 265.296875 431.699219 L 312.175781 320.769531 \"/>\n",
       "<path style=\"fill:none;stroke-width:0.105764;stroke-linecap:butt;stroke-linejoin:miter;stroke:rgb(26.666667%,26.666667%,26.666667%);stroke-opacity:1;stroke-miterlimit:10;\" d=\"M 287.824219 425.226562 L 312.175781 320.769531 \"/>\n",
       "<path style=\"fill:none;stroke-width:0.104254;stroke-linecap:butt;stroke-linejoin:miter;stroke:rgb(26.666667%,26.666667%,26.666667%);stroke-opacity:1;stroke-miterlimit:10;\" d=\"M 312.25 420.152344 L 312.175781 320.769531 \"/>\n",
       "<path style=\"fill:none;stroke-width:0.101039;stroke-linecap:butt;stroke-linejoin:miter;stroke:rgb(26.666667%,26.666667%,26.666667%);stroke-opacity:1;stroke-miterlimit:10;\" d=\"M 392.015625 414.160156 L 312.175781 320.769531 \"/>\n",
       "<path style=\"fill:none;stroke-width:0.108296;stroke-linecap:butt;stroke-linejoin:miter;stroke:rgb(26.666667%,26.666667%,26.666667%);stroke-opacity:1;stroke-miterlimit:10;\" d=\"M 392.015625 414.160156 L 312.175781 20 \"/>\n",
       "<path style=\"fill:none;stroke-width:0.106463;stroke-linecap:butt;stroke-linejoin:miter;stroke:rgb(26.666667%,26.666667%,26.666667%);stroke-opacity:1;stroke-miterlimit:10;\" d=\"M 419.042969 415.371094 L 550.402344 453.113281 \"/>\n",
       "<path style=\"fill:none;stroke-width:0.103843;stroke-linecap:butt;stroke-linejoin:miter;stroke:rgb(26.666667%,26.666667%,26.666667%);stroke-opacity:1;stroke-miterlimit:10;\" d=\"M 419.042969 415.371094 L 312.175781 320.769531 \"/>\n",
       "<path style=\"fill:none;stroke-width:0.105736;stroke-linecap:butt;stroke-linejoin:miter;stroke:rgb(26.666667%,26.666667%,26.666667%);stroke-opacity:1;stroke-miterlimit:10;\" d=\"M 419.042969 415.371094 L 312.175781 20 \"/>\n",
       "<path style=\"fill:none;stroke-width:0.108669;stroke-linecap:butt;stroke-linejoin:miter;stroke:rgb(26.666667%,26.666667%,26.666667%);stroke-opacity:1;stroke-miterlimit:10;\" d=\"M 445.410156 418.171875 L 312.175781 320.769531 \"/>\n",
       "<path style=\"fill:none;stroke-width:0.106589;stroke-linecap:butt;stroke-linejoin:miter;stroke:rgb(26.666667%,26.666667%,26.666667%);stroke-opacity:1;stroke-miterlimit:10;\" d=\"M 445.410156 418.171875 L 312.175781 20 \"/>\n",
       "<path style=\"fill:none;stroke-width:0.119216;stroke-linecap:butt;stroke-linejoin:miter;stroke:rgb(26.666667%,26.666667%,26.666667%);stroke-opacity:1;stroke-miterlimit:10;\" d=\"M 470.605469 422.507812 L 312.175781 320.769531 \"/>\n",
       "<path style=\"fill:none;stroke-width:0.102121;stroke-linecap:butt;stroke-linejoin:miter;stroke:rgb(26.666667%,26.666667%,26.666667%);stroke-opacity:1;stroke-miterlimit:10;\" d=\"M 470.605469 422.507812 L 312.175781 20 \"/>\n",
       "<path style=\"fill:none;stroke-width:0.107376;stroke-linecap:butt;stroke-linejoin:miter;stroke:rgb(26.666667%,26.666667%,26.666667%);stroke-opacity:1;stroke-miterlimit:10;\" d=\"M 494.136719 428.292969 L 312.175781 320.769531 \"/>\n",
       "<path style=\"fill:none;stroke-width:0.118935;stroke-linecap:butt;stroke-linejoin:miter;stroke:rgb(26.666667%,26.666667%,26.666667%);stroke-opacity:1;stroke-miterlimit:10;\" d=\"M 550.402344 453.113281 L 572.453125 474.210938 \"/>\n",
       "<path style=\"fill:none;stroke-width:0.103514;stroke-linecap:butt;stroke-linejoin:miter;stroke:rgb(26.666667%,26.666667%,26.666667%);stroke-opacity:1;stroke-miterlimit:10;\" d=\"M 550.402344 453.113281 L 312.175781 320.769531 \"/>\n",
       "<path style=\"fill:none;stroke-width:0.101367;stroke-linecap:butt;stroke-linejoin:miter;stroke:rgb(26.666667%,26.666667%,26.666667%);stroke-opacity:1;stroke-miterlimit:10;\" d=\"M 550.402344 453.113281 L 312.175781 20 \"/>\n",
       "<path style=\"fill:none;stroke-width:0.116695;stroke-linecap:butt;stroke-linejoin:miter;stroke:rgb(26.666667%,26.666667%,26.666667%);stroke-opacity:1;stroke-miterlimit:10;\" d=\"M 563.160156 463.332031 L 312.175781 320.769531 \"/>\n",
       "<path style=\"fill:none;stroke-width:0.1047;stroke-linecap:butt;stroke-linejoin:miter;stroke:rgb(26.666667%,26.666667%,26.666667%);stroke-opacity:1;stroke-miterlimit:10;\" d=\"M 563.160156 463.332031 L 312.175781 20 \"/>\n",
       "<path style=\"fill:none;stroke-width:0.107852;stroke-linecap:butt;stroke-linejoin:miter;stroke:rgb(26.666667%,26.666667%,26.666667%);stroke-opacity:1;stroke-miterlimit:10;\" d=\"M 578.105469 485.53125 L 312.175781 320.769531 \"/>\n",
       "<path style=\"fill:none;stroke-width:0.116361;stroke-linecap:butt;stroke-linejoin:miter;stroke:rgb(26.666667%,26.666667%,26.666667%);stroke-opacity:1;stroke-miterlimit:10;\" d=\"M 263.476562 341.511719 L 263.476562 92.597656 \"/>\n",
       "<path style=\"fill:none;stroke-width:0.130898;stroke-linecap:butt;stroke-linejoin:miter;stroke:rgb(26.666667%,26.666667%,26.666667%);stroke-opacity:1;stroke-miterlimit:10;\" d=\"M 263.476562 341.511719 L 263.476562 20 \"/>\n",
       "<path style=\"fill:none;stroke-width:0.118597;stroke-linecap:butt;stroke-linejoin:miter;stroke:rgb(26.666667%,26.666667%,26.666667%);stroke-opacity:1;stroke-miterlimit:10;\" d=\"M 263.476562 341.511719 L 263.476562 144.457031 \"/>\n",
       "<path style=\"fill:none;stroke-width:0.118343;stroke-linecap:butt;stroke-linejoin:miter;stroke:rgb(26.666667%,26.666667%,26.666667%);stroke-opacity:1;stroke-miterlimit:10;\" d=\"M 263.476562 341.511719 L 312.175781 92.597656 \"/>\n",
       "<path style=\"fill:none;stroke-width:0.172341;stroke-linecap:butt;stroke-linejoin:miter;stroke:rgb(26.666667%,26.666667%,26.666667%);stroke-opacity:1;stroke-miterlimit:10;\" d=\"M 263.476562 341.511719 L 312.175781 320.769531 \"/>\n",
       "<path style=\"fill:none;stroke-width:0.104593;stroke-linecap:butt;stroke-linejoin:miter;stroke:rgb(26.666667%,26.666667%,26.666667%);stroke-opacity:1;stroke-miterlimit:10;\" d=\"M 263.476562 341.511719 L 312.175781 20 \"/>\n",
       "<path style=\"fill:none;stroke-width:0.105536;stroke-linecap:butt;stroke-linejoin:miter;stroke:rgb(26.666667%,26.666667%,26.666667%);stroke-opacity:1;stroke-miterlimit:10;\" d=\"M 263.476562 341.511719 L 287.824219 71.855469 \"/>\n",
       "<path style=\"fill:none;stroke-width:0.129005;stroke-linecap:butt;stroke-linejoin:miter;stroke:rgb(26.666667%,26.666667%,26.666667%);stroke-opacity:1;stroke-miterlimit:10;\" d=\"M 263.476562 341.511719 L 20 144.457031 \"/>\n",
       "<path style=\"fill:none;stroke-width:0.122573;stroke-linecap:butt;stroke-linejoin:miter;stroke:rgb(26.666667%,26.666667%,26.666667%);stroke-opacity:1;stroke-miterlimit:10;\" d=\"M 312.175781 341.511719 L 312.175781 320.769531 \"/>\n",
       "<path style=\"fill-rule:nonzero;fill:rgb(0%,100%,100%);fill-opacity:1;stroke-width:1;stroke-linecap:butt;stroke-linejoin:miter;stroke:rgb(0%,0%,0%);stroke-opacity:1;stroke-miterlimit:10;\" d=\"M 436.414062 497.082031 C 436.414062 500.414062 431.414062 500.414062 431.414062 497.082031 C 431.414062 493.746094 436.414062 493.746094 436.414062 497.082031 \"/>\n",
       "<path style=\"fill-rule:nonzero;fill:rgb(0%,100%,100%);fill-opacity:1;stroke-width:1;stroke-linecap:butt;stroke-linejoin:miter;stroke:rgb(0%,0%,0%);stroke-opacity:1;stroke-miterlimit:10;\" d=\"M 363.371094 515.042969 C 363.371094 518.378906 358.371094 518.378906 358.371094 515.042969 C 358.371094 511.710938 363.371094 511.710938 363.371094 515.042969 \"/>\n",
       "<path style=\"fill-rule:nonzero;fill:rgb(0%,100%,100%);fill-opacity:1;stroke-width:1;stroke-linecap:butt;stroke-linejoin:miter;stroke:rgb(0%,0%,0%);stroke-opacity:1;stroke-miterlimit:10;\" d=\"M 363.472656 479.117188 C 363.472656 482.589844 358.265625 482.589844 358.265625 479.117188 C 358.265625 475.644531 363.472656 475.644531 363.472656 479.117188 \"/>\n",
       "<path style=\"fill-rule:nonzero;fill:rgb(0%,100%,100%);fill-opacity:1;stroke-width:1;stroke-linecap:butt;stroke-linejoin:miter;stroke:rgb(0%,0%,0%);stroke-opacity:1;stroke-miterlimit:10;\" d=\"M 485.109375 497.082031 C 485.109375 500.414062 480.109375 500.414062 480.109375 497.082031 C 480.109375 493.746094 485.109375 493.746094 485.109375 497.082031 \"/>\n",
       "<path style=\"fill-rule:nonzero;fill:rgb(0%,100%,100%);fill-opacity:1;stroke-width:1;stroke-linecap:butt;stroke-linejoin:miter;stroke:rgb(0%,0%,0%);stroke-opacity:1;stroke-miterlimit:10;\" d=\"M 478.53125 512.066406 C 478.53125 515.398438 473.53125 515.398438 473.53125 512.066406 C 473.53125 508.734375 478.53125 508.734375 478.53125 512.066406 \"/>\n",
       "<path style=\"fill-rule:nonzero;fill:rgb(0%,100%,100%);fill-opacity:1;stroke-width:1;stroke-linecap:butt;stroke-linejoin:miter;stroke:rgb(0%,0%,0%);stroke-opacity:1;stroke-miterlimit:10;\" d=\"M 459.792969 525.027344 C 459.792969 528.5 454.585938 528.5 454.585938 525.027344 C 454.585938 521.554688 459.792969 521.554688 459.792969 525.027344 \"/>\n",
       "<path style=\"fill-rule:nonzero;fill:rgb(0%,100%,100%);fill-opacity:1;stroke-width:1;stroke-linecap:butt;stroke-linejoin:miter;stroke:rgb(0%,0%,0%);stroke-opacity:1;stroke-miterlimit:10;\" d=\"M 431.128906 534.214844 C 431.128906 537.550781 426.128906 537.550781 426.128906 534.214844 C 426.128906 530.882812 431.128906 530.882812 431.128906 534.214844 \"/>\n",
       "<path style=\"fill-rule:nonzero;fill:rgb(0%,100%,100%);fill-opacity:1;stroke-width:1;stroke-linecap:butt;stroke-linejoin:miter;stroke:rgb(0%,0%,0%);stroke-opacity:1;stroke-miterlimit:10;\" d=\"M 396.703125 538.386719 C 396.703125 541.722656 391.703125 541.722656 391.703125 538.386719 C 391.703125 535.054688 396.703125 535.054688 396.703125 538.386719 \"/>\n",
       "<path style=\"fill-rule:nonzero;fill:rgb(0%,100%,100%);fill-opacity:1;stroke-width:1;stroke-linecap:butt;stroke-linejoin:miter;stroke:rgb(0%,0%,0%);stroke-opacity:1;stroke-miterlimit:10;\" d=\"M 361.273438 536.980469 C 361.273438 540.59375 355.855469 540.59375 355.855469 536.980469 C 355.855469 533.371094 361.273438 533.371094 361.273438 536.980469 \"/>\n",
       "<path style=\"fill-rule:nonzero;fill:rgb(0%,100%,100%);fill-opacity:1;stroke-width:1;stroke-linecap:butt;stroke-linejoin:miter;stroke:rgb(0%,0%,0%);stroke-opacity:1;stroke-miterlimit:10;\" d=\"M 329.027344 530.1875 C 329.027344 533.519531 324.027344 533.519531 324.027344 530.1875 C 324.027344 526.851562 329.027344 526.851562 329.027344 530.1875 \"/>\n",
       "<path style=\"fill-rule:nonzero;fill:rgb(0%,100%,100%);fill-opacity:1;stroke-width:1;stroke-linecap:butt;stroke-linejoin:miter;stroke:rgb(0%,0%,0%);stroke-opacity:1;stroke-miterlimit:10;\" d=\"M 304.914062 518.917969 C 304.914062 522.253906 299.914062 522.253906 299.914062 518.917969 C 299.914062 515.585938 304.914062 515.585938 304.914062 518.917969 \"/>\n",
       "<path style=\"fill-rule:nonzero;fill:rgb(0%,100%,100%);fill-opacity:1;stroke-width:1;stroke-linecap:butt;stroke-linejoin:miter;stroke:rgb(0%,0%,0%);stroke-opacity:1;stroke-miterlimit:10;\" d=\"M 292.191406 504.703125 C 292.191406 508.3125 286.777344 508.3125 286.777344 504.703125 C 286.777344 501.09375 292.191406 501.09375 292.191406 504.703125 \"/>\n",
       "<path style=\"fill-rule:nonzero;fill:rgb(0%,100%,100%);fill-opacity:1;stroke-width:1;stroke-linecap:butt;stroke-linejoin:miter;stroke:rgb(0%,0%,0%);stroke-opacity:1;stroke-miterlimit:10;\" d=\"M 292.191406 489.457031 C 292.191406 493.066406 286.777344 493.066406 286.777344 489.457031 C 286.777344 485.847656 292.191406 485.847656 292.191406 489.457031 \"/>\n",
       "<path style=\"fill-rule:nonzero;fill:rgb(0%,100%,100%);fill-opacity:1;stroke-width:1;stroke-linecap:butt;stroke-linejoin:miter;stroke:rgb(0%,0%,0%);stroke-opacity:1;stroke-miterlimit:10;\" d=\"M 305.121094 475.242188 C 305.121094 478.851562 299.707031 478.851562 299.707031 475.242188 C 299.707031 471.628906 305.121094 471.628906 305.121094 475.242188 \"/>\n",
       "<path style=\"fill-rule:nonzero;fill:rgb(0%,100%,100%);fill-opacity:1;stroke-width:1;stroke-linecap:butt;stroke-linejoin:miter;stroke:rgb(0%,0%,0%);stroke-opacity:1;stroke-miterlimit:10;\" d=\"M 329.027344 463.972656 C 329.027344 467.308594 324.027344 467.308594 324.027344 463.972656 C 324.027344 460.640625 329.027344 460.640625 329.027344 463.972656 \"/>\n",
       "<path style=\"fill-rule:nonzero;fill:rgb(0%,100%,100%);fill-opacity:1;stroke-width:1;stroke-linecap:butt;stroke-linejoin:miter;stroke:rgb(0%,0%,0%);stroke-opacity:1;stroke-miterlimit:10;\" d=\"M 361.167969 457.179688 C 361.167969 460.652344 355.960938 460.652344 355.960938 457.179688 C 355.960938 453.707031 361.167969 453.707031 361.167969 457.179688 \"/>\n",
       "<path style=\"fill-rule:nonzero;fill:rgb(0%,100%,100%);fill-opacity:1;stroke-width:1;stroke-linecap:butt;stroke-linejoin:miter;stroke:rgb(0%,0%,0%);stroke-opacity:1;stroke-miterlimit:10;\" d=\"M 396.703125 455.773438 C 396.703125 459.105469 391.703125 459.105469 391.703125 455.773438 C 391.703125 452.4375 396.703125 452.4375 396.703125 455.773438 \"/>\n",
       "<path style=\"fill-rule:nonzero;fill:rgb(0%,100%,100%);fill-opacity:1;stroke-width:1;stroke-linecap:butt;stroke-linejoin:miter;stroke:rgb(0%,0%,0%);stroke-opacity:1;stroke-miterlimit:10;\" d=\"M 431.234375 459.945312 C 431.234375 463.417969 426.023438 463.417969 426.023438 459.945312 C 426.023438 456.472656 431.234375 456.472656 431.234375 459.945312 \"/>\n",
       "<path style=\"fill-rule:nonzero;fill:rgb(0%,100%,100%);fill-opacity:1;stroke-width:1;stroke-linecap:butt;stroke-linejoin:miter;stroke:rgb(0%,0%,0%);stroke-opacity:1;stroke-miterlimit:10;\" d=\"M 459.691406 469.132812 C 459.691406 472.464844 454.691406 472.464844 454.691406 469.132812 C 454.691406 465.796875 459.691406 465.796875 459.691406 469.132812 \"/>\n",
       "<path style=\"fill-rule:nonzero;fill:rgb(0%,100%,100%);fill-opacity:1;stroke-width:1;stroke-linecap:butt;stroke-linejoin:miter;stroke:rgb(0%,0%,0%);stroke-opacity:1;stroke-miterlimit:10;\" d=\"M 478.636719 482.09375 C 478.636719 485.566406 473.429688 485.566406 473.429688 482.09375 C 473.429688 478.621094 478.636719 478.621094 478.636719 482.09375 \"/>\n",
       "<path style=\"fill-rule:nonzero;fill:rgb(0%,100%,100%);fill-opacity:1;stroke-width:1;stroke-linecap:butt;stroke-linejoin:miter;stroke:rgb(0%,0%,0%);stroke-opacity:1;stroke-miterlimit:10;\" d=\"M 533.910156 497.082031 C 533.910156 500.550781 528.699219 500.550781 528.699219 497.082031 C 528.699219 493.609375 533.910156 493.609375 533.910156 497.082031 \"/>\n",
       "<path style=\"fill-rule:nonzero;fill:rgb(0%,100%,100%);fill-opacity:1;stroke-width:1;stroke-linecap:butt;stroke-linejoin:miter;stroke:rgb(0%,0%,0%);stroke-opacity:1;stroke-miterlimit:10;\" d=\"M 530.917969 509.605469 C 530.917969 513.078125 525.710938 513.078125 525.710938 509.605469 C 525.710938 506.132812 530.917969 506.132812 530.917969 509.605469 \"/>\n",
       "<path style=\"fill-rule:nonzero;fill:rgb(0%,100%,100%);fill-opacity:1;stroke-width:1;stroke-linecap:butt;stroke-linejoin:miter;stroke:rgb(0%,0%,0%);stroke-opacity:1;stroke-miterlimit:10;\" d=\"M 521.964844 521.621094 C 521.964844 524.953125 516.964844 524.953125 516.964844 521.621094 C 516.964844 518.285156 521.964844 518.285156 521.964844 521.621094 \"/>\n",
       "<path style=\"fill-rule:nonzero;fill:rgb(0%,100%,100%);fill-opacity:1;stroke-width:1;stroke-linecap:butt;stroke-linejoin:miter;stroke:rgb(0%,0%,0%);stroke-opacity:1;stroke-miterlimit:10;\" d=\"M 507.828125 532.628906 C 507.828125 536.238281 502.410156 536.238281 502.410156 532.628906 C 502.410156 529.019531 507.828125 529.019531 507.828125 532.628906 \"/>\n",
       "<path style=\"fill-rule:nonzero;fill:rgb(0%,100%,100%);fill-opacity:1;stroke-width:1;stroke-linecap:butt;stroke-linejoin:miter;stroke:rgb(0%,0%,0%);stroke-opacity:1;stroke-miterlimit:10;\" d=\"M 488.367188 542.183594 C 488.367188 545.515625 483.367188 545.515625 483.367188 542.183594 C 483.367188 538.847656 488.367188 538.847656 488.367188 542.183594 \"/>\n",
       "<path style=\"fill-rule:nonzero;fill:rgb(0%,100%,100%);fill-opacity:1;stroke-width:1;stroke-linecap:butt;stroke-linejoin:miter;stroke:rgb(0%,0%,0%);stroke-opacity:1;stroke-miterlimit:10;\" d=\"M 464.992188 549.890625 C 464.992188 553.222656 459.992188 553.222656 459.992188 549.890625 C 459.992188 546.554688 464.992188 546.554688 464.992188 549.890625 \"/>\n",
       "<path style=\"fill-rule:nonzero;fill:rgb(0%,100%,100%);fill-opacity:1;stroke-width:1;stroke-linecap:butt;stroke-linejoin:miter;stroke:rgb(0%,0%,0%);stroke-opacity:1;stroke-miterlimit:10;\" d=\"M 438.453125 555.433594 C 438.453125 558.769531 433.453125 558.769531 433.453125 555.433594 C 433.453125 552.101562 438.453125 552.101562 438.453125 555.433594 \"/>\n",
       "<path style=\"fill-rule:nonzero;fill:rgb(0%,100%,100%);fill-opacity:1;stroke-width:1;stroke-linecap:butt;stroke-linejoin:miter;stroke:rgb(0%,0%,0%);stroke-opacity:1;stroke-miterlimit:10;\" d=\"M 410.046875 558.589844 C 410.046875 562.203125 404.628906 562.203125 404.628906 558.589844 C 404.628906 554.980469 410.046875 554.980469 410.046875 558.589844 \"/>\n",
       "<path style=\"fill-rule:nonzero;fill:rgb(0%,100%,100%);fill-opacity:1;stroke-width:1;stroke-linecap:butt;stroke-linejoin:miter;stroke:rgb(0%,0%,0%);stroke-opacity:1;stroke-miterlimit:10;\" d=\"M 380.527344 559.226562 C 380.527344 562.839844 375.109375 562.839844 375.109375 559.226562 C 375.109375 555.617188 380.527344 555.617188 380.527344 559.226562 \"/>\n",
       "<path style=\"fill-rule:nonzero;fill:rgb(0%,100%,100%);fill-opacity:1;stroke-width:1;stroke-linecap:butt;stroke-linejoin:miter;stroke:rgb(0%,0%,0%);stroke-opacity:1;stroke-miterlimit:10;\" d=\"M 351.308594 557.320312 C 351.308594 560.933594 345.890625 560.933594 345.890625 557.320312 C 345.890625 553.710938 351.308594 553.710938 351.308594 557.320312 \"/>\n",
       "<path style=\"fill-rule:nonzero;fill:rgb(0%,100%,100%);fill-opacity:1;stroke-width:1;stroke-linecap:butt;stroke-linejoin:miter;stroke:rgb(0%,0%,0%);stroke-opacity:1;stroke-miterlimit:10;\" d=\"M 323.589844 552.949219 C 323.589844 556.558594 318.171875 556.558594 318.171875 552.949219 C 318.171875 549.335938 323.589844 549.335938 323.589844 552.949219 \"/>\n",
       "<path style=\"fill-rule:nonzero;fill:rgb(0%,100%,100%);fill-opacity:1;stroke-width:1;stroke-linecap:butt;stroke-linejoin:miter;stroke:rgb(0%,0%,0%);stroke-opacity:1;stroke-miterlimit:10;\" d=\"M 298.296875 546.289062 C 298.296875 549.621094 293.296875 549.621094 293.296875 546.289062 C 293.296875 542.953125 298.296875 542.953125 298.296875 546.289062 \"/>\n",
       "<path style=\"fill-rule:nonzero;fill:rgb(0%,100%,100%);fill-opacity:1;stroke-width:1;stroke-linecap:butt;stroke-linejoin:miter;stroke:rgb(0%,0%,0%);stroke-opacity:1;stroke-miterlimit:10;\" d=\"M 276.976562 537.613281 C 276.976562 541.085938 271.769531 541.085938 271.769531 537.613281 C 271.769531 534.140625 276.976562 534.140625 276.976562 537.613281 \"/>\n",
       "<path style=\"fill-rule:nonzero;fill:rgb(0%,100%,100%);fill-opacity:1;stroke-width:1;stroke-linecap:butt;stroke-linejoin:miter;stroke:rgb(0%,0%,0%);stroke-opacity:1;stroke-miterlimit:10;\" d=\"M 259.988281 527.28125 C 259.988281 530.613281 254.988281 530.613281 254.988281 527.28125 C 254.988281 523.945312 259.988281 523.945312 259.988281 527.28125 \"/>\n",
       "<path style=\"fill-rule:nonzero;fill:rgb(0%,100%,100%);fill-opacity:1;stroke-width:1;stroke-linecap:butt;stroke-linejoin:miter;stroke:rgb(0%,0%,0%);stroke-opacity:1;stroke-miterlimit:10;\" d=\"M 248.433594 515.707031 C 248.433594 519.179688 243.226562 519.179688 243.226562 515.707031 C 243.226562 512.238281 248.433594 512.238281 248.433594 515.707031 \"/>\n",
       "<path style=\"fill-rule:nonzero;fill:rgb(0%,100%,100%);fill-opacity:1;stroke-width:1;stroke-linecap:butt;stroke-linejoin:miter;stroke:rgb(0%,0%,0%);stroke-opacity:1;stroke-miterlimit:10;\" d=\"M 242.484375 503.375 C 242.484375 506.847656 237.277344 506.847656 237.277344 503.375 C 237.277344 499.902344 242.484375 499.902344 242.484375 503.375 \"/>\n",
       "<path style=\"fill-rule:nonzero;fill:rgb(0%,100%,100%);fill-opacity:1;stroke-width:1;stroke-linecap:butt;stroke-linejoin:miter;stroke:rgb(0%,0%,0%);stroke-opacity:1;stroke-miterlimit:10;\" d=\"M 242.484375 490.785156 C 242.484375 494.257812 237.277344 494.257812 237.277344 490.785156 C 237.277344 487.3125 242.484375 487.3125 242.484375 490.785156 \"/>\n",
       "<path style=\"fill-rule:nonzero;fill:rgb(0%,100%,100%);fill-opacity:1;stroke-width:1;stroke-linecap:butt;stroke-linejoin:miter;stroke:rgb(0%,0%,0%);stroke-opacity:1;stroke-miterlimit:10;\" d=\"M 248.539062 478.453125 C 248.539062 482.0625 243.121094 482.0625 243.121094 478.453125 C 243.121094 474.839844 248.539062 474.839844 248.539062 478.453125 \"/>\n",
       "<path style=\"fill-rule:nonzero;fill:rgb(0%,100%,100%);fill-opacity:1;stroke-width:1;stroke-linecap:butt;stroke-linejoin:miter;stroke:rgb(0%,0%,0%);stroke-opacity:1;stroke-miterlimit:10;\" d=\"M 259.988281 466.878906 C 259.988281 470.214844 254.988281 470.214844 254.988281 466.878906 C 254.988281 463.546875 259.988281 463.546875 259.988281 466.878906 \"/>\n",
       "<path style=\"fill-rule:nonzero;fill:rgb(0%,100%,100%);fill-opacity:1;stroke-width:1;stroke-linecap:butt;stroke-linejoin:miter;stroke:rgb(0%,0%,0%);stroke-opacity:1;stroke-miterlimit:10;\" d=\"M 277.082031 456.546875 C 277.082031 460.15625 271.664062 460.15625 271.664062 456.546875 C 271.664062 452.933594 277.082031 452.933594 277.082031 456.546875 \"/>\n",
       "<path style=\"fill-rule:nonzero;fill:rgb(0%,100%,100%);fill-opacity:1;stroke-width:1;stroke-linecap:butt;stroke-linejoin:miter;stroke:rgb(0%,0%,0%);stroke-opacity:1;stroke-miterlimit:10;\" d=\"M 298.296875 447.871094 C 298.296875 451.207031 293.296875 451.207031 293.296875 447.871094 C 293.296875 444.539062 298.296875 444.539062 298.296875 447.871094 \"/>\n",
       "<path style=\"fill-rule:nonzero;fill:rgb(0%,100%,100%);fill-opacity:1;stroke-width:1;stroke-linecap:butt;stroke-linejoin:miter;stroke:rgb(0%,0%,0%);stroke-opacity:1;stroke-miterlimit:10;\" d=\"M 323.484375 441.210938 C 323.484375 444.683594 318.277344 444.683594 318.277344 441.210938 C 318.277344 437.738281 323.484375 437.738281 323.484375 441.210938 \"/>\n",
       "<path style=\"fill-rule:nonzero;fill:rgb(0%,100%,100%);fill-opacity:1;stroke-width:1;stroke-linecap:butt;stroke-linejoin:miter;stroke:rgb(0%,0%,0%);stroke-opacity:1;stroke-miterlimit:10;\" d=\"M 351.101562 436.839844 C 351.101562 440.171875 346.101562 440.171875 346.101562 436.839844 C 346.101562 433.503906 351.101562 433.503906 351.101562 436.839844 \"/>\n",
       "<path style=\"fill-rule:nonzero;fill:rgb(0%,100%,100%);fill-opacity:1;stroke-width:1;stroke-linecap:butt;stroke-linejoin:miter;stroke:rgb(0%,0%,0%);stroke-opacity:1;stroke-miterlimit:10;\" d=\"M 380.316406 434.933594 C 380.316406 438.265625 375.316406 438.265625 375.316406 434.933594 C 375.316406 431.597656 380.316406 431.597656 380.316406 434.933594 \"/>\n",
       "<path style=\"fill-rule:nonzero;fill:rgb(0%,100%,100%);fill-opacity:1;stroke-width:1;stroke-linecap:butt;stroke-linejoin:miter;stroke:rgb(0%,0%,0%);stroke-opacity:1;stroke-miterlimit:10;\" d=\"M 409.839844 435.570312 C 409.839844 438.902344 404.839844 438.902344 404.839844 435.570312 C 404.839844 432.238281 409.839844 432.238281 409.839844 435.570312 \"/>\n",
       "<path style=\"fill-rule:nonzero;fill:rgb(0%,100%,100%);fill-opacity:1;stroke-width:1;stroke-linecap:butt;stroke-linejoin:miter;stroke:rgb(0%,0%,0%);stroke-opacity:1;stroke-miterlimit:10;\" d=\"M 438.765625 438.726562 C 438.765625 442.476562 433.140625 442.476562 433.140625 438.726562 C 433.140625 434.976562 438.765625 434.976562 438.765625 438.726562 \"/>\n",
       "<path style=\"fill-rule:nonzero;fill:rgb(0%,100%,100%);fill-opacity:1;stroke-width:1;stroke-linecap:butt;stroke-linejoin:miter;stroke:rgb(0%,0%,0%);stroke-opacity:1;stroke-miterlimit:10;\" d=\"M 464.992188 444.269531 C 464.992188 447.605469 459.992188 447.605469 459.992188 444.269531 C 459.992188 440.9375 464.992188 440.9375 464.992188 444.269531 \"/>\n",
       "<path style=\"fill-rule:nonzero;fill:rgb(0%,100%,100%);fill-opacity:1;stroke-width:1;stroke-linecap:butt;stroke-linejoin:miter;stroke:rgb(0%,0%,0%);stroke-opacity:1;stroke-miterlimit:10;\" d=\"M 488.574219 451.976562 C 488.574219 455.589844 483.15625 455.589844 483.15625 451.976562 C 483.15625 448.367188 488.574219 448.367188 488.574219 451.976562 \"/>\n",
       "<path style=\"fill-rule:nonzero;fill:rgb(0%,100%,100%);fill-opacity:1;stroke-width:1;stroke-linecap:butt;stroke-linejoin:miter;stroke:rgb(0%,0%,0%);stroke-opacity:1;stroke-miterlimit:10;\" d=\"M 507.722656 461.53125 C 507.722656 465.003906 502.515625 465.003906 502.515625 461.53125 C 502.515625 458.058594 507.722656 458.058594 507.722656 461.53125 \"/>\n",
       "<path style=\"fill-rule:nonzero;fill:rgb(0%,100%,100%);fill-opacity:1;stroke-width:1;stroke-linecap:butt;stroke-linejoin:miter;stroke:rgb(0%,0%,0%);stroke-opacity:1;stroke-miterlimit:10;\" d=\"M 521.964844 472.539062 C 521.964844 475.875 516.964844 475.875 516.964844 472.539062 C 516.964844 469.207031 521.964844 469.207031 521.964844 472.539062 \"/>\n",
       "<path style=\"fill-rule:nonzero;fill:rgb(0%,100%,100%);fill-opacity:1;stroke-width:1;stroke-linecap:butt;stroke-linejoin:miter;stroke:rgb(0%,0%,0%);stroke-opacity:1;stroke-miterlimit:10;\" d=\"M 531.023438 484.554688 C 531.023438 488.164062 525.605469 488.164062 525.605469 484.554688 C 525.605469 480.941406 531.023438 480.941406 531.023438 484.554688 \"/>\n",
       "<path style=\"fill-rule:nonzero;fill:rgb(0%,100%,100%);fill-opacity:1;stroke-width:1;stroke-linecap:butt;stroke-linejoin:miter;stroke:rgb(0%,0%,0%);stroke-opacity:1;stroke-miterlimit:10;\" d=\"M 582.5 497.082031 C 582.5 500.414062 577.5 500.414062 577.5 497.082031 C 577.5 493.746094 582.5 493.746094 582.5 497.082031 \"/>\n",
       "<path style=\"fill-rule:nonzero;fill:rgb(0%,100%,100%);fill-opacity:1;stroke-width:1;stroke-linecap:butt;stroke-linejoin:miter;stroke:rgb(0%,0%,0%);stroke-opacity:1;stroke-miterlimit:10;\" d=\"M 580.8125 508.628906 C 580.8125 512.238281 575.394531 512.238281 575.394531 508.628906 C 575.394531 505.015625 580.8125 505.015625 580.8125 508.628906 \"/>\n",
       "<path style=\"fill-rule:nonzero;fill:rgb(0%,100%,100%);fill-opacity:1;stroke-width:1;stroke-linecap:butt;stroke-linejoin:miter;stroke:rgb(0%,0%,0%);stroke-opacity:1;stroke-miterlimit:10;\" d=\"M 575.058594 519.949219 C 575.058594 523.421875 569.851562 523.421875 569.851562 519.949219 C 569.851562 516.476562 575.058594 516.476562 575.058594 519.949219 \"/>\n",
       "<path style=\"fill-rule:nonzero;fill:rgb(0%,100%,100%);fill-opacity:1;stroke-width:1;stroke-linecap:butt;stroke-linejoin:miter;stroke:rgb(0%,0%,0%);stroke-opacity:1;stroke-miterlimit:10;\" d=\"M 566.078125 530.828125 C 566.078125 534.714844 560.242188 534.714844 560.242188 530.828125 C 560.242188 526.9375 566.078125 526.9375 566.078125 530.828125 \"/>\n",
       "<path style=\"fill-rule:nonzero;fill:rgb(0%,100%,100%);fill-opacity:1;stroke-width:1;stroke-linecap:butt;stroke-linejoin:miter;stroke:rgb(0%,0%,0%);stroke-opacity:1;stroke-miterlimit:10;\" d=\"M 552.902344 541.046875 C 552.902344 544.382812 547.902344 544.382812 547.902344 541.046875 C 547.902344 537.714844 552.902344 537.714844 552.902344 541.046875 \"/>\n",
       "<path style=\"fill-rule:nonzero;fill:rgb(0%,100%,100%);fill-opacity:1;stroke-width:1;stroke-linecap:butt;stroke-linejoin:miter;stroke:rgb(0%,0%,0%);stroke-opacity:1;stroke-miterlimit:10;\" d=\"M 536.929688 550.414062 C 536.929688 553.746094 531.929688 553.746094 531.929688 550.414062 C 531.929688 547.078125 536.929688 547.078125 536.929688 550.414062 \"/>\n",
       "<path style=\"fill-rule:nonzero;fill:rgb(0%,100%,100%);fill-opacity:1;stroke-width:1;stroke-linecap:butt;stroke-linejoin:miter;stroke:rgb(0%,0%,0%);stroke-opacity:1;stroke-miterlimit:10;\" d=\"M 518.261719 558.738281 C 518.261719 562.351562 512.84375 562.351562 512.84375 558.738281 C 512.84375 555.128906 518.261719 555.128906 518.261719 558.738281 \"/>\n",
       "<path style=\"fill-rule:nonzero;fill:rgb(0%,100%,100%);fill-opacity:1;stroke-width:1;stroke-linecap:butt;stroke-linejoin:miter;stroke:rgb(0%,0%,0%);stroke-opacity:1;stroke-miterlimit:10;\" d=\"M 496.636719 565.867188 C 496.636719 569.199219 491.636719 569.199219 491.636719 565.867188 C 491.636719 562.53125 496.636719 562.53125 496.636719 565.867188 \"/>\n",
       "<path style=\"fill-rule:nonzero;fill:rgb(0%,100%,100%);fill-opacity:1;stroke-width:1;stroke-linecap:butt;stroke-linejoin:miter;stroke:rgb(0%,0%,0%);stroke-opacity:1;stroke-miterlimit:10;\" d=\"M 473.3125 571.652344 C 473.3125 575.265625 467.894531 575.265625 467.894531 571.652344 C 467.894531 568.042969 473.3125 568.042969 473.3125 571.652344 \"/>\n",
       "<path style=\"fill-rule:nonzero;fill:rgb(0%,100%,100%);fill-opacity:1;stroke-width:1;stroke-linecap:butt;stroke-linejoin:miter;stroke:rgb(0%,0%,0%);stroke-opacity:1;stroke-miterlimit:10;\" d=\"M 447.910156 575.988281 C 447.910156 579.324219 442.910156 579.324219 442.910156 575.988281 C 442.910156 572.65625 447.910156 572.65625 447.910156 575.988281 \"/>\n",
       "<path style=\"fill-rule:nonzero;fill:rgb(0%,100%,100%);fill-opacity:1;stroke-width:1;stroke-linecap:butt;stroke-linejoin:miter;stroke:rgb(0%,0%,0%);stroke-opacity:1;stroke-miterlimit:10;\" d=\"M 421.644531 578.789062 C 421.644531 582.261719 416.4375 582.261719 416.4375 578.789062 C 416.4375 575.316406 421.644531 575.316406 421.644531 578.789062 \"/>\n",
       "<path style=\"fill-rule:nonzero;fill:rgb(0%,100%,100%);fill-opacity:1;stroke-width:1;stroke-linecap:butt;stroke-linejoin:miter;stroke:rgb(0%,0%,0%);stroke-opacity:1;stroke-miterlimit:10;\" d=\"M 394.621094 580 C 394.621094 583.472656 389.410156 583.472656 389.410156 580 C 389.410156 576.527344 394.621094 576.527344 394.621094 580 \"/>\n",
       "<path style=\"fill-rule:nonzero;fill:rgb(0%,100%,100%);fill-opacity:1;stroke-width:1;stroke-linecap:butt;stroke-linejoin:miter;stroke:rgb(0%,0%,0%);stroke-opacity:1;stroke-miterlimit:10;\" d=\"M 367.566406 579.597656 C 367.566406 583.207031 362.148438 583.207031 362.148438 579.597656 C 362.148438 575.984375 367.566406 575.984375 367.566406 579.597656 \"/>\n",
       "<path style=\"fill-rule:nonzero;fill:rgb(0%,100%,100%);fill-opacity:1;stroke-width:1;stroke-linecap:butt;stroke-linejoin:miter;stroke:rgb(0%,0%,0%);stroke-opacity:1;stroke-miterlimit:10;\" d=\"M 340.59375 577.585938 C 340.59375 580.917969 335.59375 580.917969 335.59375 577.585938 C 335.59375 574.253906 340.59375 574.253906 340.59375 577.585938 \"/>\n",
       "<path style=\"fill-rule:nonzero;fill:rgb(0%,100%,100%);fill-opacity:1;stroke-width:1;stroke-linecap:butt;stroke-linejoin:miter;stroke:rgb(0%,0%,0%);stroke-opacity:1;stroke-miterlimit:10;\" d=\"M 315.167969 574.007812 C 315.167969 577.898438 309.332031 577.898438 309.332031 574.007812 C 309.332031 570.121094 315.167969 570.121094 315.167969 574.007812 \"/>\n",
       "<path style=\"fill-rule:nonzero;fill:rgb(0%,100%,100%);fill-opacity:1;stroke-width:1;stroke-linecap:butt;stroke-linejoin:miter;stroke:rgb(0%,0%,0%);stroke-opacity:1;stroke-miterlimit:10;\" d=\"M 290.535156 568.933594 C 290.535156 572.546875 285.117188 572.546875 285.117188 568.933594 C 285.117188 565.324219 290.535156 565.324219 290.535156 568.933594 \"/>\n",
       "<path style=\"fill-rule:nonzero;fill:rgb(0%,100%,100%);fill-opacity:1;stroke-width:1;stroke-linecap:butt;stroke-linejoin:miter;stroke:rgb(0%,0%,0%);stroke-opacity:1;stroke-miterlimit:10;\" d=\"M 268.003906 562.460938 C 268.003906 566.074219 262.589844 566.074219 262.589844 562.460938 C 262.589844 558.851562 268.003906 558.851562 268.003906 562.460938 \"/>\n",
       "<path style=\"fill-rule:nonzero;fill:rgb(0%,100%,100%);fill-opacity:1;stroke-width:1;stroke-linecap:butt;stroke-linejoin:miter;stroke:rgb(0%,0%,0%);stroke-opacity:1;stroke-miterlimit:10;\" d=\"M 247.707031 554.714844 C 247.707031 558.1875 242.5 558.1875 242.5 554.714844 C 242.5 551.242188 247.707031 551.242188 247.707031 554.714844 \"/>\n",
       "<path style=\"fill-rule:nonzero;fill:rgb(0%,100%,100%);fill-opacity:1;stroke-width:1;stroke-linecap:butt;stroke-linejoin:miter;stroke:rgb(0%,0%,0%);stroke-opacity:1;stroke-miterlimit:10;\" d=\"M 230.34375 545.847656 C 230.34375 549.460938 224.925781 549.460938 224.925781 545.847656 C 224.925781 542.238281 230.34375 542.238281 230.34375 545.847656 \"/>\n",
       "<path style=\"fill-rule:nonzero;fill:rgb(0%,100%,100%);fill-opacity:1;stroke-width:1;stroke-linecap:butt;stroke-linejoin:miter;stroke:rgb(0%,0%,0%);stroke-opacity:1;stroke-miterlimit:10;\" d=\"M 215.734375 536.03125 C 215.734375 539.367188 210.734375 539.367188 210.734375 536.03125 C 210.734375 532.699219 215.734375 532.699219 215.734375 536.03125 \"/>\n",
       "<path style=\"fill-rule:nonzero;fill:rgb(0%,100%,100%);fill-opacity:1;stroke-width:1;stroke-linecap:butt;stroke-linejoin:miter;stroke:rgb(0%,0%,0%);stroke-opacity:1;stroke-miterlimit:10;\" d=\"M 204.890625 525.457031 C 204.890625 529.070312 199.472656 529.070312 199.472656 525.457031 C 199.472656 521.847656 204.890625 521.847656 204.890625 525.457031 \"/>\n",
       "<path style=\"fill-rule:nonzero;fill:rgb(0%,100%,100%);fill-opacity:1;stroke-width:1;stroke-linecap:butt;stroke-linejoin:miter;stroke:rgb(0%,0%,0%);stroke-opacity:1;stroke-miterlimit:10;\" d=\"M 197.296875 514.332031 C 197.296875 517.804688 192.085938 517.804688 192.085938 514.332031 C 192.085938 510.859375 197.296875 510.859375 197.296875 514.332031 \"/>\n",
       "<path style=\"fill-rule:nonzero;fill:rgb(0%,100%,100%);fill-opacity:1;stroke-width:1;stroke-linecap:butt;stroke-linejoin:miter;stroke:rgb(0%,0%,0%);stroke-opacity:1;stroke-miterlimit:10;\" d=\"M 193.410156 502.867188 C 193.410156 506.199219 188.410156 506.199219 188.410156 502.867188 C 188.410156 499.535156 193.410156 499.535156 193.410156 502.867188 \"/>\n",
       "<path style=\"fill-rule:nonzero;fill:rgb(0%,100%,100%);fill-opacity:1;stroke-width:1;stroke-linecap:butt;stroke-linejoin:miter;stroke:rgb(0%,0%,0%);stroke-opacity:1;stroke-miterlimit:10;\" d=\"M 193.511719 491.292969 C 193.511719 494.765625 188.304688 494.765625 188.304688 491.292969 C 188.304688 487.820312 193.511719 487.820312 193.511719 491.292969 \"/>\n",
       "<path style=\"fill-rule:nonzero;fill:rgb(0%,100%,100%);fill-opacity:1;stroke-width:1;stroke-linecap:butt;stroke-linejoin:miter;stroke:rgb(0%,0%,0%);stroke-opacity:1;stroke-miterlimit:10;\" d=\"M 197.398438 479.828125 C 197.398438 483.441406 191.984375 483.441406 191.984375 479.828125 C 191.984375 476.21875 197.398438 476.21875 197.398438 479.828125 \"/>\n",
       "<path style=\"fill-rule:nonzero;fill:rgb(0%,100%,100%);fill-opacity:1;stroke-width:1;stroke-linecap:butt;stroke-linejoin:miter;stroke:rgb(0%,0%,0%);stroke-opacity:1;stroke-miterlimit:10;\" d=\"M 204.890625 468.703125 C 204.890625 472.3125 199.472656 472.3125 199.472656 468.703125 C 199.472656 465.089844 204.890625 465.089844 204.890625 468.703125 \"/>\n",
       "<path style=\"fill-rule:nonzero;fill:rgb(0%,100%,100%);fill-opacity:1;stroke-width:1;stroke-linecap:butt;stroke-linejoin:miter;stroke:rgb(0%,0%,0%);stroke-opacity:1;stroke-miterlimit:10;\" d=\"M 215.941406 458.128906 C 215.941406 461.738281 210.527344 461.738281 210.527344 458.128906 C 210.527344 454.515625 215.941406 454.515625 215.941406 458.128906 \"/>\n",
       "<path style=\"fill-rule:nonzero;fill:rgb(0%,100%,100%);fill-opacity:1;stroke-width:1;stroke-linecap:butt;stroke-linejoin:miter;stroke:rgb(0%,0%,0%);stroke-opacity:1;stroke-miterlimit:10;\" d=\"M 230.34375 448.3125 C 230.34375 451.921875 224.925781 451.921875 224.925781 448.3125 C 224.925781 444.699219 230.34375 444.699219 230.34375 448.3125 \"/>\n",
       "<path style=\"fill-rule:nonzero;fill:rgb(0%,100%,100%);fill-opacity:1;stroke-width:1;stroke-linecap:butt;stroke-linejoin:miter;stroke:rgb(0%,0%,0%);stroke-opacity:1;stroke-miterlimit:10;\" d=\"M 247.601562 439.445312 C 247.601562 442.777344 242.601562 442.777344 242.601562 439.445312 C 242.601562 436.109375 247.601562 436.109375 247.601562 439.445312 \"/>\n",
       "<path style=\"fill-rule:nonzero;fill:rgb(0%,100%,100%);fill-opacity:1;stroke-width:1;stroke-linecap:butt;stroke-linejoin:miter;stroke:rgb(0%,0%,0%);stroke-opacity:1;stroke-miterlimit:10;\" d=\"M 267.902344 431.699219 C 267.902344 435.171875 262.691406 435.171875 262.691406 431.699219 C 262.691406 428.226562 267.902344 428.226562 267.902344 431.699219 \"/>\n",
       "<path style=\"fill-rule:nonzero;fill:rgb(0%,100%,100%);fill-opacity:1;stroke-width:1;stroke-linecap:butt;stroke-linejoin:miter;stroke:rgb(0%,0%,0%);stroke-opacity:1;stroke-miterlimit:10;\" d=\"M 290.429688 425.226562 C 290.429688 428.699219 285.222656 428.699219 285.222656 425.226562 C 285.222656 421.753906 290.429688 421.753906 290.429688 425.226562 \"/>\n",
       "<path style=\"fill-rule:nonzero;fill:rgb(0%,100%,100%);fill-opacity:1;stroke-width:1;stroke-linecap:butt;stroke-linejoin:miter;stroke:rgb(0%,0%,0%);stroke-opacity:1;stroke-miterlimit:10;\" d=\"M 314.855469 420.152344 C 314.855469 423.625 309.644531 423.625 309.644531 420.152344 C 309.644531 416.679688 314.855469 416.679688 314.855469 420.152344 \"/>\n",
       "<path style=\"fill-rule:nonzero;fill:rgb(0%,100%,100%);fill-opacity:1;stroke-width:1;stroke-linecap:butt;stroke-linejoin:miter;stroke:rgb(0%,0%,0%);stroke-opacity:1;stroke-miterlimit:10;\" d=\"M 340.59375 416.574219 C 340.59375 419.90625 335.59375 419.90625 335.59375 416.574219 C 335.59375 413.242188 340.59375 413.242188 340.59375 416.574219 \"/>\n",
       "<path style=\"fill-rule:nonzero;fill:rgb(0%,100%,100%);fill-opacity:1;stroke-width:1;stroke-linecap:butt;stroke-linejoin:miter;stroke:rgb(0%,0%,0%);stroke-opacity:1;stroke-miterlimit:10;\" d=\"M 367.355469 414.5625 C 367.355469 417.898438 362.355469 417.898438 362.355469 414.5625 C 362.355469 411.230469 367.355469 411.230469 367.355469 414.5625 \"/>\n",
       "<path style=\"fill-rule:nonzero;fill:rgb(0%,100%,100%);fill-opacity:1;stroke-width:1;stroke-linecap:butt;stroke-linejoin:miter;stroke:rgb(0%,0%,0%);stroke-opacity:1;stroke-miterlimit:10;\" d=\"M 394.722656 414.160156 C 394.722656 417.769531 389.308594 417.769531 389.308594 414.160156 C 389.308594 410.550781 394.722656 410.550781 394.722656 414.160156 \"/>\n",
       "<path style=\"fill-rule:nonzero;fill:rgb(0%,100%,100%);fill-opacity:1;stroke-width:1;stroke-linecap:butt;stroke-linejoin:miter;stroke:rgb(0%,0%,0%);stroke-opacity:1;stroke-miterlimit:10;\" d=\"M 422.375 415.371094 C 422.375 419.816406 415.707031 419.816406 415.707031 415.371094 C 415.707031 410.925781 422.375 410.925781 422.375 415.371094 \"/>\n",
       "<path style=\"fill-rule:nonzero;fill:rgb(0%,100%,100%);fill-opacity:1;stroke-width:1;stroke-linecap:butt;stroke-linejoin:miter;stroke:rgb(0%,0%,0%);stroke-opacity:1;stroke-miterlimit:10;\" d=\"M 448.117188 418.171875 C 448.117188 421.78125 442.699219 421.78125 442.699219 418.171875 C 442.699219 414.558594 448.117188 414.558594 448.117188 418.171875 \"/>\n",
       "<path style=\"fill-rule:nonzero;fill:rgb(0%,100%,100%);fill-opacity:1;stroke-width:1;stroke-linecap:butt;stroke-linejoin:miter;stroke:rgb(0%,0%,0%);stroke-opacity:1;stroke-miterlimit:10;\" d=\"M 473.3125 422.507812 C 473.3125 426.117188 467.894531 426.117188 467.894531 422.507812 C 467.894531 418.894531 473.3125 418.894531 473.3125 422.507812 \"/>\n",
       "<path style=\"fill-rule:nonzero;fill:rgb(0%,100%,100%);fill-opacity:1;stroke-width:1;stroke-linecap:butt;stroke-linejoin:miter;stroke:rgb(0%,0%,0%);stroke-opacity:1;stroke-miterlimit:10;\" d=\"M 496.847656 428.292969 C 496.847656 431.90625 491.429688 431.90625 491.429688 428.292969 C 491.429688 424.683594 496.847656 424.683594 496.847656 428.292969 \"/>\n",
       "<path style=\"fill-rule:nonzero;fill:rgb(0%,100%,100%);fill-opacity:1;stroke-width:1;stroke-linecap:butt;stroke-linejoin:miter;stroke:rgb(0%,0%,0%);stroke-opacity:1;stroke-miterlimit:10;\" d=\"M 518.050781 435.421875 C 518.050781 438.753906 513.050781 438.753906 513.050781 435.421875 C 513.050781 432.085938 518.050781 432.085938 518.050781 435.421875 \"/>\n",
       "<path style=\"fill-rule:nonzero;fill:rgb(0%,100%,100%);fill-opacity:1;stroke-width:1;stroke-linecap:butt;stroke-linejoin:miter;stroke:rgb(0%,0%,0%);stroke-opacity:1;stroke-miterlimit:10;\" d=\"M 536.929688 443.746094 C 536.929688 447.082031 531.929688 447.082031 531.929688 443.746094 C 531.929688 440.414062 536.929688 440.414062 536.929688 443.746094 \"/>\n",
       "<path style=\"fill-rule:nonzero;fill:rgb(0%,100%,100%);fill-opacity:1;stroke-width:1;stroke-linecap:butt;stroke-linejoin:miter;stroke:rgb(0%,0%,0%);stroke-opacity:1;stroke-miterlimit:10;\" d=\"M 553.320312 453.113281 C 553.320312 457 547.484375 457 547.484375 453.113281 C 547.484375 449.222656 553.320312 449.222656 553.320312 453.113281 \"/>\n",
       "<path style=\"fill-rule:nonzero;fill:rgb(0%,100%,100%);fill-opacity:1;stroke-width:1;stroke-linecap:butt;stroke-linejoin:miter;stroke:rgb(0%,0%,0%);stroke-opacity:1;stroke-miterlimit:10;\" d=\"M 565.867188 463.332031 C 565.867188 466.945312 560.453125 466.945312 560.453125 463.332031 C 560.453125 459.722656 565.867188 459.722656 565.867188 463.332031 \"/>\n",
       "<path style=\"fill-rule:nonzero;fill:rgb(0%,100%,100%);fill-opacity:1;stroke-width:1;stroke-linecap:butt;stroke-linejoin:miter;stroke:rgb(0%,0%,0%);stroke-opacity:1;stroke-miterlimit:10;\" d=\"M 575.164062 474.210938 C 575.164062 477.820312 569.746094 477.820312 569.746094 474.210938 C 569.746094 470.597656 575.164062 470.597656 575.164062 474.210938 \"/>\n",
       "<path style=\"fill-rule:nonzero;fill:rgb(0%,100%,100%);fill-opacity:1;stroke-width:1;stroke-linecap:butt;stroke-linejoin:miter;stroke:rgb(0%,0%,0%);stroke-opacity:1;stroke-miterlimit:10;\" d=\"M 580.707031 485.53125 C 580.707031 489.003906 575.5 489.003906 575.5 485.53125 C 575.5 482.0625 580.707031 482.0625 580.707031 485.53125 \"/>\n",
       "<path style=\"fill-rule:nonzero;fill:rgb(100%,0%,0%);fill-opacity:1;stroke-width:1;stroke-linecap:butt;stroke-linejoin:miter;stroke:rgb(0%,0%,0%);stroke-opacity:1;stroke-miterlimit:10;\" d=\"M 266.8125 341.511719 C 266.8125 345.953125 260.144531 345.953125 260.144531 341.511719 C 260.144531 337.066406 266.8125 337.066406 266.8125 341.511719 \"/>\n",
       "<path style=\"fill-rule:nonzero;fill:rgb(100%,0%,0%);fill-opacity:1;stroke-width:1;stroke-linecap:butt;stroke-linejoin:miter;stroke:rgb(0%,0%,0%);stroke-opacity:1;stroke-miterlimit:10;\" d=\"M 314.777344 341.511719 C 314.777344 344.984375 309.570312 344.984375 309.570312 341.511719 C 309.570312 338.039062 314.777344 338.039062 314.777344 341.511719 \"/>\n",
       "<path style=\"fill-rule:nonzero;fill:rgb(50%,50%,0%);fill-opacity:1;stroke-width:1;stroke-linecap:butt;stroke-linejoin:miter;stroke:rgb(0%,0%,0%);stroke-opacity:1;stroke-miterlimit:10;\" d=\"M 265.976562 217.054688 C 265.976562 220.386719 260.976562 220.386719 260.976562 217.054688 C 260.976562 213.722656 265.976562 213.722656 265.976562 217.054688 \"/>\n",
       "<path style=\"fill-rule:nonzero;fill:rgb(50%,50%,0%);fill-opacity:1;stroke-width:1;stroke-linecap:butt;stroke-linejoin:miter;stroke:rgb(0%,0%,0%);stroke-opacity:1;stroke-miterlimit:10;\" d=\"M 314.675781 217.054688 C 314.675781 220.386719 309.675781 220.386719 309.675781 217.054688 C 309.675781 213.722656 314.675781 213.722656 314.675781 217.054688 \"/>\n",
       "<path style=\"fill-rule:nonzero;fill:rgb(100%,100%,0%);fill-opacity:1;stroke-width:1;stroke-linecap:butt;stroke-linejoin:miter;stroke:rgb(0%,0%,0%);stroke-opacity:1;stroke-miterlimit:10;\" d=\"M 266.082031 92.597656 C 266.082031 96.070312 260.875 96.070312 260.875 92.597656 C 260.875 89.125 266.082031 89.125 266.082031 92.597656 \"/>\n",
       "<path style=\"fill-rule:nonzero;fill:rgb(100%,0%,0%);fill-opacity:1;stroke-width:1;stroke-linecap:butt;stroke-linejoin:miter;stroke:rgb(0%,0%,0%);stroke-opacity:1;stroke-miterlimit:10;\" d=\"M 265.976562 320.769531 C 265.976562 324.101562 260.976562 324.101562 260.976562 320.769531 C 260.976562 317.433594 265.976562 317.433594 265.976562 320.769531 \"/>\n",
       "<path style=\"fill-rule:nonzero;fill:rgb(100%,0%,100%);fill-opacity:1;stroke-width:1;stroke-linecap:butt;stroke-linejoin:miter;stroke:rgb(0%,0%,0%);stroke-opacity:1;stroke-miterlimit:10;\" d=\"M 266.082031 20 C 266.082031 23.472656 260.875 23.472656 260.875 20 C 260.875 16.527344 266.082031 16.527344 266.082031 20 \"/>\n",
       "<path style=\"fill-rule:nonzero;fill:rgb(50%,0%,0%);fill-opacity:1;stroke-width:1;stroke-linecap:butt;stroke-linejoin:miter;stroke:rgb(0%,0%,0%);stroke-opacity:1;stroke-miterlimit:10;\" d=\"M 266.082031 144.457031 C 266.082031 147.929688 260.875 147.929688 260.875 144.457031 C 260.875 140.984375 266.082031 140.984375 266.082031 144.457031 \"/>\n",
       "<path style=\"fill-rule:nonzero;fill:rgb(100%,100%,0%);fill-opacity:1;stroke-width:1;stroke-linecap:butt;stroke-linejoin:miter;stroke:rgb(0%,0%,0%);stroke-opacity:1;stroke-miterlimit:10;\" d=\"M 314.777344 92.597656 C 314.777344 96.070312 309.570312 96.070312 309.570312 92.597656 C 309.570312 89.125 314.777344 89.125 314.777344 92.597656 \"/>\n",
       "<path style=\"fill-rule:nonzero;fill:rgb(100%,0%,0%);fill-opacity:1;stroke-width:1;stroke-linecap:butt;stroke-linejoin:miter;stroke:rgb(0%,0%,0%);stroke-opacity:1;stroke-miterlimit:10;\" d=\"M 319.675781 320.769531 C 319.675781 324.910156 316.316406 328.269531 312.175781 328.269531 C 308.03125 328.269531 304.675781 324.910156 304.675781 320.769531 C 304.675781 316.625 308.03125 313.269531 312.175781 313.269531 C 316.316406 313.269531 319.675781 316.625 319.675781 320.769531 \"/>\n",
       "<path style=\"fill-rule:nonzero;fill:rgb(100%,0%,100%);fill-opacity:1;stroke-width:1;stroke-linecap:butt;stroke-linejoin:miter;stroke:rgb(0%,0%,0%);stroke-opacity:1;stroke-miterlimit:10;\" d=\"M 318.945312 20 C 318.945312 23.738281 315.914062 26.769531 312.175781 26.769531 C 308.433594 26.769531 305.402344 23.738281 305.402344 20 C 305.402344 16.261719 308.433594 13.230469 312.175781 13.230469 C 315.914062 13.230469 318.945312 16.261719 318.945312 20 \"/>\n",
       "<path style=\"fill-rule:nonzero;fill:rgb(50%,0%,0%);fill-opacity:1;stroke-width:1;stroke-linecap:butt;stroke-linejoin:miter;stroke:rgb(0%,0%,0%);stroke-opacity:1;stroke-miterlimit:10;\" d=\"M 314.675781 144.457031 C 314.675781 147.789062 309.675781 147.789062 309.675781 144.457031 C 309.675781 141.121094 314.675781 141.121094 314.675781 144.457031 \"/>\n",
       "<path style=\"fill-rule:nonzero;fill:rgb(100%,100%,0%);fill-opacity:1;stroke-width:1;stroke-linecap:butt;stroke-linejoin:miter;stroke:rgb(0%,0%,0%);stroke-opacity:1;stroke-miterlimit:10;\" d=\"M 290.429688 71.855469 C 290.429688 75.328125 285.222656 75.328125 285.222656 71.855469 C 285.222656 68.382812 290.429688 68.382812 290.429688 71.855469 \"/>\n",
       "<path style=\"fill-rule:nonzero;fill:rgb(0%,0%,100%);fill-opacity:1;stroke-width:1;stroke-linecap:butt;stroke-linejoin:miter;stroke:rgb(0%,0%,0%);stroke-opacity:1;stroke-miterlimit:10;\" d=\"M 22.5 341.511719 C 22.5 344.84375 17.5 344.84375 17.5 341.511719 C 17.5 338.175781 22.5 338.175781 22.5 341.511719 \"/>\n",
       "<path style=\"fill-rule:nonzero;fill:rgb(0%,100%,0%);fill-opacity:1;stroke-width:1;stroke-linecap:butt;stroke-linejoin:miter;stroke:rgb(0%,0%,0%);stroke-opacity:1;stroke-miterlimit:10;\" d=\"M 22.5 268.910156 C 22.5 272.246094 17.5 272.246094 17.5 268.910156 C 17.5 265.578125 22.5 265.578125 22.5 268.910156 \"/>\n",
       "<path style=\"fill-rule:nonzero;fill:rgb(0%,50%,0%);fill-opacity:1;stroke-width:1;stroke-linecap:butt;stroke-linejoin:miter;stroke:rgb(0%,0%,0%);stroke-opacity:1;stroke-miterlimit:10;\" d=\"M 22.605469 144.457031 C 22.605469 147.929688 17.394531 147.929688 17.394531 144.457031 C 17.394531 140.984375 22.605469 140.984375 22.605469 144.457031 \"/>\n",
       "<path style=\"fill-rule:nonzero;fill:rgb(0%,50%,0%);fill-opacity:1;stroke-width:1;stroke-linecap:butt;stroke-linejoin:miter;stroke:rgb(0%,0%,0%);stroke-opacity:1;stroke-miterlimit:10;\" d=\"M 71.195312 144.457031 C 71.195312 147.789062 66.195312 147.789062 66.195312 144.457031 C 66.195312 141.121094 71.195312 141.121094 71.195312 144.457031 \"/>\n",
       "<path style=\"fill-rule:nonzero;fill:rgb(50.196078%,50.196078%,50.196078%);fill-opacity:1;stroke-width:1;stroke-linecap:butt;stroke-linejoin:miter;stroke:rgb(0%,0%,0%);stroke-opacity:1;stroke-miterlimit:10;\" d=\"M 22.5 92.597656 C 22.5 95.933594 17.5 95.933594 17.5 92.597656 C 17.5 89.265625 22.5 89.265625 22.5 92.597656 \"/>\n",
       "<path style=\"fill-rule:nonzero;fill:rgb(0%,0%,100%);fill-opacity:1;stroke-width:1;stroke-linecap:butt;stroke-linejoin:miter;stroke:rgb(0%,0%,0%);stroke-opacity:1;stroke-miterlimit:10;\" d=\"M 71.195312 341.511719 C 71.195312 344.84375 66.195312 344.84375 66.195312 341.511719 C 66.195312 338.175781 71.195312 338.175781 71.195312 341.511719 \"/>\n",
       "<path style=\"fill-rule:nonzero;fill:rgb(0%,100%,0%);fill-opacity:1;stroke-width:1;stroke-linecap:butt;stroke-linejoin:miter;stroke:rgb(0%,0%,0%);stroke-opacity:1;stroke-miterlimit:10;\" d=\"M 71.195312 268.910156 C 71.195312 272.246094 66.195312 272.246094 66.195312 268.910156 C 66.195312 265.578125 71.195312 265.578125 71.195312 268.910156 \"/>\n",
       "<path style=\"fill-rule:nonzero;fill:rgb(0%,0%,50%);fill-opacity:1;stroke-width:1;stroke-linecap:butt;stroke-linejoin:miter;stroke:rgb(0%,0%,0%);stroke-opacity:1;stroke-miterlimit:10;\" d=\"M 22.5 217.054688 C 22.5 220.386719 17.5 220.386719 17.5 217.054688 C 17.5 213.722656 22.5 213.722656 22.5 217.054688 \"/>\n",
       "<path style=\"fill-rule:nonzero;fill:rgb(50.196078%,50.196078%,50.196078%);fill-opacity:1;stroke-width:1;stroke-linecap:butt;stroke-linejoin:miter;stroke:rgb(0%,0%,0%);stroke-opacity:1;stroke-miterlimit:10;\" d=\"M 71.195312 92.597656 C 71.195312 95.933594 66.195312 95.933594 66.195312 92.597656 C 66.195312 89.265625 71.195312 89.265625 71.195312 92.597656 \"/>\n",
       "<path style=\"fill-rule:nonzero;fill:rgb(0%,0%,100%);fill-opacity:1;stroke-width:1;stroke-linecap:butt;stroke-linejoin:miter;stroke:rgb(0%,0%,0%);stroke-opacity:1;stroke-miterlimit:10;\" d=\"M 22.5 320.769531 C 22.5 324.101562 17.5 324.101562 17.5 320.769531 C 17.5 317.433594 22.5 317.433594 22.5 320.769531 \"/>\n",
       "<path style=\"fill-rule:nonzero;fill:rgb(0%,0%,100%);fill-opacity:1;stroke-width:1;stroke-linecap:butt;stroke-linejoin:miter;stroke:rgb(0%,0%,0%);stroke-opacity:1;stroke-miterlimit:10;\" d=\"M 71.195312 320.769531 C 71.195312 324.101562 66.195312 324.101562 66.195312 320.769531 C 66.195312 317.433594 71.195312 317.433594 71.195312 320.769531 \"/>\n",
       "<path style=\"fill-rule:nonzero;fill:rgb(0%,0%,50%);fill-opacity:1;stroke-width:1;stroke-linecap:butt;stroke-linejoin:miter;stroke:rgb(0%,0%,0%);stroke-opacity:1;stroke-miterlimit:10;\" d=\"M 71.195312 217.054688 C 71.195312 220.386719 66.195312 220.386719 66.195312 217.054688 C 66.195312 213.722656 71.195312 213.722656 71.195312 217.054688 \"/>\n",
       "<path style=\"fill-rule:nonzero;fill:rgb(0%,0%,50%);fill-opacity:1;stroke-width:1;stroke-linecap:butt;stroke-linejoin:miter;stroke:rgb(0%,0%,0%);stroke-opacity:1;stroke-miterlimit:10;\" d=\"M 46.847656 196.3125 C 46.847656 199.644531 41.847656 199.644531 41.847656 196.3125 C 41.847656 192.980469 46.847656 192.980469 46.847656 196.3125 \"/>\n",
       "<path style=\"fill-rule:nonzero;fill:rgb(50.196078%,50.196078%,50.196078%);fill-opacity:1;stroke-width:1;stroke-linecap:butt;stroke-linejoin:miter;stroke:rgb(0%,0%,0%);stroke-opacity:1;stroke-miterlimit:10;\" d=\"M 46.847656 71.855469 C 46.847656 75.191406 41.847656 75.191406 41.847656 71.855469 C 41.847656 68.523438 46.847656 68.523438 46.847656 71.855469 \"/>\n",
       "</g>\n",
       "</svg>\n"
      ],
      "text/plain": [
       "<igraph.drawing.Plot at 0x7f45210c3470>"
      ]
     },
     "execution_count": 31,
     "metadata": {},
     "output_type": "execute_result"
    }
   ],
   "source": [
    "# extract the first 128 channels for M1 and ThaSMA areas\n",
    "bandciCOH = ciCOH_beta1_mild[0:128, 0:128, :]\n",
    "\n",
    "# delete the unused channels in weight\n",
    "bandciCOH = np.delete(bandciCOH, idx_notused, axis=0)\n",
    "bandciCOH = np.delete(bandciCOH, idx_notused, axis=1)\n",
    "\n",
    "\n",
    "# save file config\n",
    "savefilename = 'ciCOH_beta1_mild' + '.png'\n",
    "savefile = os.path.join(savepath, savefilename)\n",
    "\n",
    "# printed text config\n",
    "texts = texts_area.copy()\n",
    "title = 'Beta1 mild'\n",
    "texts[title] = [300, 225, 25]\n",
    "\n",
    "# visualize and save\n",
    "igplot = bandciCOH_visual_save(bandciCOH, chn_area = chnInf_brainarea, \n",
    "                      chn_coord = chnInf_coord, lowweight = lowweight,  \n",
    "                      savefile = savefile, texts = texts)\n",
    "\n",
    "igplot.show()\n",
    "\n",
    "print(\"Figure saved to \" + savefile)\n",
    "\n",
    "# del \n",
    "del bandciCOH, savefile, texts, title"
   ]
  },
  {
   "cell_type": "markdown",
   "metadata": {},
   "source": [
    "### beta2"
   ]
  },
  {
   "cell_type": "markdown",
   "metadata": {},
   "source": [
    "#### normal"
   ]
  },
  {
   "cell_type": "code",
   "execution_count": 38,
   "metadata": {},
   "outputs": [
    {
     "name": "stdout",
     "output_type": "stream",
     "text": [
      "Figure saved to /home/lingling/yang7003@umn.edu/NMRC_umn/Projects/FCAnalysis/exp/pipeline/1_dataAnaly/FCAnaly/2_visual_FC_M1SMA/ciCOH_beta2_normal.png\n"
     ]
    }
   ],
   "source": [
    "# extract the first 128 channels for M1 and ThaSMA areas\n",
    "bandciCOH = ciCOH_beta2_normal[0:128, 0:128, :]\n",
    "\n",
    "# delete the unused channels in weight\n",
    "bandciCOH = np.delete(bandciCOH, idx_notused, axis=0)\n",
    "bandciCOH = np.delete(bandciCOH, idx_notused, axis=1)\n",
    "\n",
    "\n",
    "# save file config\n",
    "savefilename = 'ciCOH_beta2_normal' + '.png'\n",
    "savefile = os.path.join(savepath, savefilename)\n",
    "\n",
    "# printed text config\n",
    "texts = texts_area.copy()\n",
    "title = 'Beta2 normal'\n",
    "texts[title] = [300, 225, 25]\n",
    "\n",
    "# visualize and save\n",
    "igplot = bandciCOH_visual_save(bandciCOH, chn_area = chnInf_brainarea, \n",
    "                      chn_coord = chnInf_coord, lowweight = lowweight,  \n",
    "                      savefile = savefile, texts = texts)\n",
    "\n",
    "igplot.show()\n",
    "\n",
    "print(\"Figure saved to \" + savefile)\n",
    "\n",
    "# del \n",
    "del bandciCOH, savefile, texts, title"
   ]
  },
  {
   "cell_type": "markdown",
   "metadata": {},
   "source": [
    "#### mild"
   ]
  },
  {
   "cell_type": "code",
   "execution_count": 39,
   "metadata": {},
   "outputs": [
    {
     "name": "stdout",
     "output_type": "stream",
     "text": [
      "Figure saved to /home/lingling/yang7003@umn.edu/NMRC_umn/Projects/FCAnalysis/exp/pipeline/1_dataAnaly/FCAnaly/2_visual_FC_M1SMA/ciCOH_beta2_mild.png\n"
     ]
    }
   ],
   "source": [
    "# extract the first 128 channels for M1 and ThaSMA areas\n",
    "bandciCOH = ciCOH_beta2_mild[0:128, 0:128, :]\n",
    "\n",
    "# delete the unused channels in weight\n",
    "bandciCOH = np.delete(bandciCOH, idx_notused, axis=0)\n",
    "bandciCOH = np.delete(bandciCOH, idx_notused, axis=1)\n",
    "\n",
    "\n",
    "# save file config\n",
    "savefilename = 'ciCOH_beta2_mild' + '.png'\n",
    "savefile = os.path.join(savepath, savefilename)\n",
    "\n",
    "# printed text config\n",
    "texts = texts_area.copy()\n",
    "title = 'Beta2 mild'\n",
    "texts[title] = [300, 225, 25]\n",
    "\n",
    "# visualize and save\n",
    "igplot = bandciCOH_visual_save(bandciCOH, chn_area = chnInf_brainarea, \n",
    "                      chn_coord = chnInf_coord, lowweight = lowweight,  \n",
    "                      savefile = savefile, texts = texts)\n",
    "igplot.show()\n",
    "\n",
    "print(\"Figure saved to \" + savefile)\n",
    "\n",
    "# del \n",
    "del bandciCOH, savefile, texts, title"
   ]
  }
 ],
 "metadata": {
  "kernelspec": {
   "display_name": "Python 3",
   "language": "python",
   "name": "python3"
  },
  "language_info": {
   "codemirror_mode": {
    "name": "ipython",
    "version": 3
   },
   "file_extension": ".py",
   "mimetype": "text/x-python",
   "name": "python",
   "nbconvert_exporter": "python",
   "pygments_lexer": "ipython3",
   "version": "3.6.8"
  },
  "toc": {
   "base_numbering": 1,
   "nav_menu": {
    "height": "248px",
    "width": "255px"
   },
   "number_sections": false,
   "sideBar": true,
   "skip_h1_title": true,
   "title_cell": "Table of Contents",
   "title_sidebar": "",
   "toc_cell": false,
   "toc_position": {
    "height": "calc(100% - 180px)",
    "left": "10px",
    "top": "150px",
    "width": "286.6px"
   },
   "toc_section_display": true,
   "toc_window_display": true
  }
 },
 "nbformat": 4,
 "nbformat_minor": 2
}
