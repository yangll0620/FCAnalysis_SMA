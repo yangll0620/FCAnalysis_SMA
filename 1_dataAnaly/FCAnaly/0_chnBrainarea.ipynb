{
 "cells": [
  {
   "cell_type": "markdown",
   "metadata": {},
   "source": [
    "# Functionality: extract the brain area information for each channel \n",
    "\n",
    " <ul>\n",
    "  <li>M1: 96 channels</li>\n",
    "  <li> ThaSMA: base on the channel information in \n",
    "       <a href = \"../../../data/pinky_chnInfThaSMA.csv\">data\\pinky_chnInfThaSMA.csv</a>\n",
    "  </li>\n",
    "    \n",
    "  <li>save to chn_brainArea.csv in corresponding folder (5 channels were not used, filled with empty)</li>\n",
    "</ul> \n",
    "\n",
    "Note: nb_name extraction in Javascript can not run successfully use 'run all' or 'run above', but can run using Run (Shift+ Enter, Ctrl + Enter)"
   ]
  },
  {
   "cell_type": "markdown",
   "metadata": {},
   "source": [
    "## Import Packages "
   ]
  },
  {
   "cell_type": "code",
   "execution_count": 1,
   "metadata": {},
   "outputs": [
    {
     "name": "stdout",
     "output_type": "stream",
     "text": [
      "importing Jupyter notebook from /home/lingling/yang7003@umn.edu/NMRC_umn/Projects/FCAnalysis/exp/code/util/folder_extract.ipynb\n"
     ]
    }
   ],
   "source": [
    "import pandas as pd\n",
    "import numpy as np\n",
    "import IPython\n",
    "\n",
    "import os, sys\n",
    "\n",
    "\n",
    "### \n",
    "#    user defined packages \n",
    "###\n",
    "\n",
    "# import_nbmodule used for import package in .ipynb\n",
    "import import_nbmodule\n",
    "\n",
    "# extract the exp folder path\n",
    "currfolder = os.getcwd()\n",
    "codefolder = currfolder[0 : currfolder.find('code')+len('code')]\n",
    "\n",
    "# add path the exp folder\n",
    "sys.path.append(codefolder)\n",
    "\n",
    "# import animal_folder function in util/folder_extract.pynb \n",
    "from util.folder_extract import exp_subfolders, code_corresfolder"
   ]
  },
  {
   "cell_type": "markdown",
   "metadata": {},
   "source": [
    "## exp subfolders"
   ]
  },
  {
   "cell_type": "code",
   "execution_count": 2,
   "metadata": {},
   "outputs": [],
   "source": [
    "datafolder, codefolder, pipelinefolder, _= exp_subfolders()"
   ]
  },
  {
   "cell_type": "markdown",
   "metadata": {},
   "source": [
    "## nb_name"
   ]
  },
  {
   "cell_type": "code",
   "execution_count": 3,
   "metadata": {},
   "outputs": [
    {
     "data": {
      "application/javascript": [
       "IPython.notebook.kernel.execute('nb_name = \"' + IPython.notebook.notebook_name + '\"')\n"
      ],
      "text/plain": [
       "<IPython.core.display.Javascript object>"
      ]
     },
     "metadata": {},
     "output_type": "display_data"
    }
   ],
   "source": [
    "%%javascript\n",
    "IPython.notebook.kernel.execute('nb_name = \"' + IPython.notebook.notebook_name + '\"')"
   ]
  },
  {
   "cell_type": "code",
   "execution_count": 4,
   "metadata": {},
   "outputs": [],
   "source": [
    "nb_name = nb_name[0: nb_name.find('.ipynb')]"
   ]
  },
  {
   "cell_type": "markdown",
   "metadata": {},
   "source": [
    "## Channel information of ThaSMA \n",
    "\n",
    "Information from pinky_chnInfThaSMA.csv"
   ]
  },
  {
   "cell_type": "code",
   "execution_count": 5,
   "metadata": {},
   "outputs": [],
   "source": [
    "filename = 'pinky_chnInfThaSMA.csv';\n",
    "\n",
    "readfile = os.path.join(datafolder, filename)\n",
    "\n",
    "df = pd.read_csv(readfile, header = 0)"
   ]
  },
  {
   "cell_type": "code",
   "execution_count": 6,
   "metadata": {},
   "outputs": [],
   "source": [
    "brainareas, channels = df['brainarea'], df['channels']"
   ]
  },
  {
   "cell_type": "code",
   "execution_count": 7,
   "metadata": {},
   "outputs": [],
   "source": [
    "# start channal index of ThaSMA\n",
    "strchi_ThaSMA = 101\n",
    "\n",
    "# total channel number of ThaSMA\n",
    "nchns_ThaSMA = 32\n",
    "\n",
    "# chni information during recording\n",
    "chnThaSMA_recchni = np.linspace(strchi_ThaSMA, strchi_ThaSMA + nchns_ThaSMA - 1, num = nchns_ThaSMA, dtype = np.uint8)"
   ]
  },
  {
   "cell_type": "code",
   "execution_count": 8,
   "metadata": {},
   "outputs": [],
   "source": [
    "chnThaSMA_brainarea = [''] * nchns_ThaSMA\n",
    "\n",
    "# brain area information for each chni in ThaSMA\n",
    "for i in range(len(brainareas)):\n",
    "    \n",
    "    area, strchns = brainareas[i], channels[i]\n",
    "    \n",
    "    # split df[1][i] using , and transfer to int\n",
    "    chns = [int(strchn) for strchn in strchns.split(\",\")]\n",
    "    \n",
    "    for chi in chns:\n",
    "        \n",
    "        idx = np.squeeze(np.argwhere(chnThaSMA_recchni == chi))\n",
    "\n",
    "        chnThaSMA_brainarea[idx] = area"
   ]
  },
  {
   "cell_type": "markdown",
   "metadata": {},
   "source": [
    "## combine ThaSMA and M1\n"
   ]
  },
  {
   "cell_type": "markdown",
   "metadata": {},
   "source": [
    "M1 Information"
   ]
  },
  {
   "cell_type": "code",
   "execution_count": 9,
   "metadata": {},
   "outputs": [],
   "source": [
    "\"\"\" M1 Information \"\"\" \n",
    "\n",
    "# start channal index of M1\n",
    "strchi_M1 = 1\n",
    "\n",
    "# total channel number of M1\n",
    "nchns_M1 = 96\n",
    "\n",
    "# chni information of M1\n",
    "chnM1_recchni = np.linspace(strchi_M1, strchi_M1 + nchns_M1 - 1, num = nchns_M1, dtype = np.uint8)\n",
    "\n",
    "# brain area information for each chni in M1\n",
    "chnM1_brainarea = ['M1'] * nchns_M1"
   ]
  },
  {
   "cell_type": "markdown",
   "metadata": {},
   "source": [
    "Combine"
   ]
  },
  {
   "cell_type": "code",
   "execution_count": 10,
   "metadata": {},
   "outputs": [],
   "source": [
    "# chni information of M1+ThaSMA for recording\n",
    "chnInf_recchni = np.concatenate((chnM1_recchni, chnThaSMA_recchni), axis = 0)\n",
    "\n",
    "chnInf_brainarea = chnM1_brainarea + chnThaSMA_brainarea"
   ]
  },
  {
   "cell_type": "markdown",
   "metadata": {},
   "source": [
    "## save"
   ]
  },
  {
   "cell_type": "code",
   "execution_count": 11,
   "metadata": {},
   "outputs": [],
   "source": [
    "savefolder = code_corresfolder(os.getcwd(), nb_name)\n",
    "\n",
    "filename = 'chn_brainArea.csv'\n",
    "\n",
    "savefile = os.path.join(savefolder, filename)"
   ]
  },
  {
   "cell_type": "code",
   "execution_count": 12,
   "metadata": {},
   "outputs": [],
   "source": [
    "chnInf = {'recording_chni': chnInf_recchni,\n",
    "           'brainarea': chnInf_brainarea}\n",
    "\n",
    "df = pd.DataFrame(chnInf)"
   ]
  },
  {
   "cell_type": "code",
   "execution_count": 13,
   "metadata": {},
   "outputs": [],
   "source": [
    "df.to_csv(savefile, index = False)"
   ]
  }
 ],
 "metadata": {
  "kernelspec": {
   "display_name": "Python 3",
   "language": "python",
   "name": "python3"
  },
  "language_info": {
   "codemirror_mode": {
    "name": "ipython",
    "version": 3
   },
   "file_extension": ".py",
   "mimetype": "text/x-python",
   "name": "python",
   "nbconvert_exporter": "python",
   "pygments_lexer": "ipython3",
   "version": "3.6.8"
  },
  "toc": {
   "base_numbering": 1,
   "nav_menu": {},
   "number_sections": false,
   "sideBar": true,
   "skip_h1_title": true,
   "title_cell": "Table of Contents",
   "title_sidebar": "",
   "toc_cell": false,
   "toc_position": {
    "height": "calc(100% - 180px)",
    "left": "10px",
    "top": "150px",
    "width": "370.6px"
   },
   "toc_section_display": true,
   "toc_window_display": true
  }
 },
 "nbformat": 4,
 "nbformat_minor": 2
}
