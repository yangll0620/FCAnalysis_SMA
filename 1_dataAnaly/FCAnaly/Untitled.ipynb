{
 "cells": [
  {
   "cell_type": "markdown",
   "metadata": {},
   "source": [
    "## Packages Import"
   ]
  },
  {
   "cell_type": "code",
   "execution_count": 20,
   "metadata": {},
   "outputs": [],
   "source": [
    "import os, sys\n",
    "import numpy as np\n",
    "import pandas as pd\n",
    "\n",
    "import pickle\n",
    "\n",
    "# import_nbmodule used for import package in .ipynb\n",
    "import import_nbmodule\n",
    "\n",
    "# extract the exp folder path\n",
    "currfolder = os.getcwd()\n",
    "codefolder = currfolder[0 : currfolder.find('code')+len('code')]\n",
    "\n",
    "# add path the exp folder\n",
    "sys.path.append(codefolder)\n",
    "\n",
    "# import animal_folder function in util/folder_extract.pynb \n",
    "from util.folder_extract import exp_subfolders"
   ]
  },
  {
   "cell_type": "markdown",
   "metadata": {},
   "source": [
    "## exp subfolders"
   ]
  },
  {
   "cell_type": "code",
   "execution_count": 21,
   "metadata": {},
   "outputs": [],
   "source": [
    "datafolder, _, pipelinefolder, _ = exp_subfolders()"
   ]
  },
  {
   "cell_type": "markdown",
   "metadata": {},
   "source": [
    "## Load simulated coordinates"
   ]
  },
  {
   "cell_type": "code",
   "execution_count": 13,
   "metadata": {},
   "outputs": [],
   "source": [
    "def simcoordLoad(simcoordfilefolder):\n",
    "    \"\"\"\n",
    "        load simulated coordinates of areas\n",
    "        \n",
    "        @return coord_area: simulated x, y coordinates in areas (dict, e.g. coord_area[\"M1\"]: ndarray nchns * 2)\n",
    "        \n",
    "    \"\"\"\n",
    "    # file storing the simulated coordinates\n",
    "    coordfile = os.path.join(simcoordfilefolder, 'coord_simulated.pickle')\n",
    "\n",
    "    # load simulated coordinates\n",
    "    coord_area = pickle.load(open(coordfile, \"rb\" ))\n",
    "    \n",
    "    # return\n",
    "    return coord_area"
   ]
  },
  {
   "cell_type": "code",
   "execution_count": 14,
   "metadata": {},
   "outputs": [],
   "source": [
    "simcoordfilefolder = os.path.join(pipelinefolder, '1_dataAnaly', 'FCAnaly', '0_simulatedLocs', 'out')\n",
    "\n",
    "simcoordLoad(simcoordfilefolder)\n",
    "\n",
    "coord_area = simcoordLoad(simcoordfilefolder)"
   ]
  },
  {
   "cell_type": "markdown",
   "metadata": {},
   "source": [
    "## working"
   ]
  },
  {
   "cell_type": "code",
   "execution_count": null,
   "metadata": {},
   "outputs": [],
   "source": [
    "# M1\n",
    "nM1 = 96\n",
    "\n",
    "chni = np.linspace(1, nM1, num = nM1, dtype = np.uint8)\n",
    "\n",
    "brainarea = ['M1'] * nM1\n",
    "\n",
    "coordinates = coord_area['coord_M1']\n",
    "\n",
    "# ThaSMA\n",
    "\n",
    "# read the channel information for ThaSMA\n",
    "df = pd.read_csv(os.path.join(datafolder, 'pinky_chnInfThaSMA.csv'), header = None)\n",
    "\n",
    "nThaSMA = 32\n",
    "\n",
    "brainarea = brainarea + [''] * nThaSMA\n",
    "\n",
    "coordinates = np.append(coordinates, np.empty((nThaSMA, 2)), axis = 0)"
   ]
  },
  {
   "cell_type": "code",
   "execution_count": 84,
   "metadata": {
    "code_folding": []
   },
   "outputs": [
    {
     "name": "stdout",
     "output_type": "stream",
     "text": [
      "lSMA\n",
      "[113, 118, 123, 124]\n",
      "rSMA\n",
      "[97, 98, 103, 108]\n",
      "lMC\n",
      "[114, 119]\n",
      "lVA\n",
      "[120, 126, 127]\n",
      "rVA\n",
      "[99, 100]\n",
      "lVLo\n",
      "[115, 116]\n",
      "rVLo\n",
      "[106, 111]\n",
      "lVPLo\n",
      "[117, 122, 128]\n",
      "rVPLo\n",
      "[102, 107, 112]\n",
      "rCd1\n",
      "[104, 109]\n"
     ]
    }
   ],
   "source": [
    "# start chni of ThaSMA\n",
    "chnistr_ThaSMA = 96\n",
    "\n",
    "# all the chni of ThaSMA if all channels are used\n",
    "chnsnotused_ThaSMA = np.linspace(chnistr_ThaSMA, chnistr_ThaSMA + nThaSMA - 1, num = nThaSMA, dtype = np.uint8)\n",
    "\n",
    "for keyi, key in enumerate(df[0]):\n",
    "    \n",
    "    # split df[1][i] using , transfer to int and 97 - 128 corresponding to 101-132\n",
    "    listchns = [int(strchn) - 4 for strchn in df[1][keyi].split(\",\")]\n",
    "    \n",
    "    print(key)\n",
    "    print(listchns)"
   ]
  },
  {
   "cell_type": "code",
   "execution_count": 94,
   "metadata": {},
   "outputs": [],
   "source": [
    "df = pd.read_csv(os.path.join(datafolder, 'pinky_chnInf.csv'))"
   ]
  },
  {
   "cell_type": "code",
   "execution_count": 95,
   "metadata": {},
   "outputs": [
    {
     "name": "stdout",
     "output_type": "stream",
     "text": [
      "     chni brainarea         x         y\n",
      "0       1        M1  0.020000  0.000000\n",
      "1       2        M1 -0.010000  0.017321\n",
      "2       3        M1 -0.010000 -0.017321\n",
      "3       4        M1  0.040000  0.000000\n",
      "4       5        M1  0.037299  0.014450\n",
      "5       6        M1  0.029560  0.026948\n",
      "6       7        M1  0.017830  0.035807\n",
      "7       8        M1  0.003691  0.039829\n",
      "8       9        M1 -0.010947  0.038473\n",
      "9      10        M1 -0.024105  0.031921\n",
      "10     11        M1 -0.034009  0.021057\n",
      "11     12        M1 -0.039319  0.007350\n",
      "12     13        M1 -0.039319 -0.007350\n",
      "13     14        M1 -0.034009 -0.021057\n",
      "14     15        M1 -0.024105 -0.031921\n",
      "15     16        M1 -0.010947 -0.038473\n",
      "16     17        M1  0.003691 -0.039829\n",
      "17     18        M1  0.017830 -0.035807\n",
      "18     19        M1  0.029560 -0.026948\n",
      "19     20        M1  0.037299 -0.014450\n",
      "20     21        M1  0.060000  0.000000\n",
      "21     22        M1  0.058772  0.012078\n",
      "22     23        M1  0.055137  0.023661\n",
      "23     24        M1  0.049246  0.034276\n",
      "24     25        M1  0.041338  0.043488\n",
      "25     26        M1  0.031738  0.050919\n",
      "26     27        M1  0.020838  0.056265\n",
      "27     28        M1  0.009086  0.059308\n",
      "28     29        M1 -0.003039  0.059923\n",
      "29     30        M1 -0.015039  0.058085\n",
      "..    ...       ...       ...       ...\n",
      "98     99       rVA -0.050000 -0.270000\n",
      "99    100       rVA -0.030000 -0.270000\n",
      "100   101       NaN       NaN       NaN\n",
      "101   102     rVPLo -0.050000 -0.390000\n",
      "102   103      rSMA -0.050000 -0.170000\n",
      "103   104       rCd -0.050000 -0.460000\n",
      "104   105       NaN       NaN       NaN\n",
      "105   106      rVLo -0.050000 -0.340000\n",
      "106   107     rVPLo -0.030000 -0.390000\n",
      "107   108      rSMA -0.030000 -0.170000\n",
      "108   109       rCd -0.030000 -0.460000\n",
      "109   110       NaN       NaN       NaN\n",
      "110   111      rVLo -0.030000 -0.340000\n",
      "111   112     rVPLo -0.040000 -0.410000\n",
      "112   113      lSMA -0.150000 -0.150000\n",
      "113   114       lMC -0.150000 -0.220000\n",
      "114   115      lVLo -0.150000 -0.340000\n",
      "115   116      lVLo -0.130000 -0.340000\n",
      "116   117     lVPLo -0.150000 -0.390000\n",
      "117   118      lSMA -0.130000 -0.150000\n",
      "118   119       lMC -0.130000 -0.220000\n",
      "119   120       lVA -0.150000 -0.270000\n",
      "120   121       NaN       NaN       NaN\n",
      "121   122     lVPLo -0.130000 -0.390000\n",
      "122   123      lSMA -0.150000 -0.170000\n",
      "123   124      lSMA -0.130000 -0.170000\n",
      "124   125       NaN       NaN       NaN\n",
      "125   126       lVA -0.130000 -0.270000\n",
      "126   127       lVA -0.140000 -0.290000\n",
      "127   128     lVPLo -0.140000 -0.410000\n",
      "\n",
      "[128 rows x 4 columns]\n"
     ]
    }
   ],
   "source": [
    "print(df)"
   ]
  },
  {
   "cell_type": "code",
   "execution_count": null,
   "metadata": {},
   "outputs": [],
   "source": []
  }
 ],
 "metadata": {
  "kernelspec": {
   "display_name": "Python 3",
   "language": "python",
   "name": "python3"
  },
  "language_info": {
   "codemirror_mode": {
    "name": "ipython",
    "version": 3
   },
   "file_extension": ".py",
   "mimetype": "text/x-python",
   "name": "python",
   "nbconvert_exporter": "python",
   "pygments_lexer": "ipython3",
   "version": "3.6.8"
  },
  "toc": {
   "base_numbering": 1,
   "nav_menu": {},
   "number_sections": false,
   "sideBar": true,
   "skip_h1_title": true,
   "title_cell": "Table of Contents",
   "title_sidebar": "",
   "toc_cell": false,
   "toc_position": {},
   "toc_section_display": true,
   "toc_window_display": true
  }
 },
 "nbformat": 4,
 "nbformat_minor": 2
}
