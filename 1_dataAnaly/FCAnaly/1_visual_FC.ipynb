{
 "cells": [
  {
   "cell_type": "markdown",
   "metadata": {},
   "source": [
    "## Functionality: visualization of functional connectivity\n",
    "\n",
    "<ul>\n",
    "    <li>142 channels = 1-96 channels (M1) + 97-100(not used) + 101-132(ThaSMA) + 133-146 (GP/STN)</li>\n",
    "    <li>load animetafolder/pinky_locThaSMA.csv for the details of ThaSMA </li>\n",
    "</ul>"
   ]
  },
  {
   "cell_type": "markdown",
   "metadata": {},
   "source": [
    "## Import Packages "
   ]
  },
  {
   "cell_type": "code",
   "execution_count": 1,
   "metadata": {},
   "outputs": [
    {
     "name": "stdout",
     "output_type": "stream",
     "text": [
      "importing Jupyter notebook from /home/lingling/yang7003@umn.edu/NMRC_umn/Projects/FCAnalysis/exp/code/util/folder_extract.ipynb\n",
      "importing Jupyter notebook from /home/lingling/yang7003@umn.edu/NMRC_umn/Projects/FCAnalysis/exp/code/connAnalyTool/graphVisual.ipynb\n"
     ]
    }
   ],
   "source": [
    "import os, sys\n",
    "import numpy as np\n",
    "import pandas as pd\n",
    "\n",
    "import pickle\n",
    "\n",
    "# import_nbmodule used for import package in .ipynb\n",
    "import import_nbmodule\n",
    "\n",
    "# extract the exp folder path\n",
    "currfolder = os.getcwd()\n",
    "codefolder = currfolder[0 : currfolder.find('code')+len('code')]\n",
    "\n",
    "# add path the exp folder\n",
    "sys.path.append(codefolder)\n",
    "\n",
    "# import animal_folder function in util/folder_extract.pynb \n",
    "from util.folder_extract import exp_subfolders\n",
    "\n",
    "\n",
    "# import graphVisual in connAnalyTool/graphVisual.pynb \n",
    "from connAnalyTool import graphVisual\n",
    "\n",
    "\n",
    "from igraph.drawing.text import TextDrawer\n",
    "import cairo"
   ]
  },
  {
   "cell_type": "markdown",
   "metadata": {},
   "source": [
    "## exp subfolders"
   ]
  },
  {
   "cell_type": "code",
   "execution_count": 2,
   "metadata": {},
   "outputs": [],
   "source": [
    "datafolder, _, pipelinefolder, _ = exp_subfolders()"
   ]
  },
  {
   "cell_type": "markdown",
   "metadata": {},
   "source": [
    "## load the ciCOH matrix"
   ]
  },
  {
   "cell_type": "markdown",
   "metadata": {},
   "source": [
    "### Load Beta band ciCOH\n",
    "1. dic_ciCOH.keys() = ['ciCOH_beta1_normal', 'ciCOH_beta1_mild', 'ciCOH_beta2_normal', 'ciCOH_beta2_mild']"
   ]
  },
  {
   "cell_type": "code",
   "execution_count": 3,
   "metadata": {},
   "outputs": [],
   "source": [
    "def ciCOHBetabandLoad(betaciCOHfilefolder):\n",
    "    \"\"\"\n",
    "        load beta band ciCOH\n",
    "        \n",
    "        \n",
    "        @return ciCOH_beta1_normal, ciCOH_beta1_mild: bata1 band ciCOH values in normal and mild conditions\n",
    "                                                      (ndarray: nchns * nchns * ntrials)\n",
    "        \n",
    "        @return ciCOH_beta2_normal, ciCOH_beta2_mild: bata2 band ciCOH values in normal and mild conditions \n",
    "                                                      (ndarray: nchns * nchns * ntrials)\n",
    "        \n",
    "    \"\"\"\n",
    "\n",
    "    # file storing the ciCOH results\n",
    "    ciCOHfile = os.path.join(betaciCOHfilefolder, 'res_ciCOH_beta.pickle')\n",
    "\n",
    "    # load res_ciCOH\n",
    "    res_ciCOH_beta = pickle.load(open(ciCOHfile, \"rb\" ))\n",
    "\n",
    "    # ciCOH_beta1_normal, ciCOH_beta1_mild\n",
    "    ciCOH_beta1_normal, ciCOH_beta1_mild = res_ciCOH_beta['ciCOH_beta1_normal'], res_ciCOH_beta['ciCOH_beta1_mild']\n",
    "\n",
    "    # ciCOH_beta2_normal, ciCOH_beta2_mild\n",
    "    ciCOH_beta2_normal, ciCOH_beta2_mild = res_ciCOH_beta['ciCOH_beta2_normal'], res_ciCOH_beta['ciCOH_beta2_mild']\n",
    "    \n",
    "    # return\n",
    "    return ciCOH_beta1_normal, ciCOH_beta1_mild, ciCOH_beta2_normal, ciCOH_beta2_mild"
   ]
  },
  {
   "cell_type": "code",
   "execution_count": 4,
   "metadata": {},
   "outputs": [],
   "source": [
    "betaciCOHfilefolder = os.path.join(pipelinefolder, '1_dataAnaly', 'FCAnaly', '0_calcciCOH_beta', 'out')\n",
    "\n",
    "# load beta1/beta2 ciCOH in normal and mild conditions\n",
    "ciCOH_beta1_normal, ciCOH_beta1_mild, ciCOH_beta2_normal, ciCOH_beta2_mild = ciCOHBetabandLoad(betaciCOHfilefolder)"
   ]
  },
  {
   "cell_type": "markdown",
   "metadata": {},
   "source": [
    "### Load alpha band ciCOH\n",
    "1. dic_ciCOH.keys() = ['ciCOH_alpha_normal', 'ciCOH_alpha_mild']"
   ]
  },
  {
   "cell_type": "code",
   "execution_count": 5,
   "metadata": {},
   "outputs": [],
   "source": [
    "def ciCOHAlphabandLoad(alphaciCOHfilefolder):\n",
    "    \"\"\"\n",
    "        load alpha band ciCOH\n",
    "        \n",
    "        @return ciCOH_alpha_normal,  ciCOH_alpha_mild: alpha band ciCOH values in normal and mild \n",
    "                                                       (ndarray: nchns * nchns * ntrials) \n",
    "    \"\"\"\n",
    "\n",
    "    # file storing the ciCOH results\n",
    "    ciCOHfile = os.path.join(alphaciCOHfilefolder, 'res_ciCOH_alpha.pickle')\n",
    "\n",
    "    # load res_ciCOH_alpha\n",
    "    res_ciCOH_alpha = pickle.load(open(ciCOHfile, \"rb\" ))\n",
    "\n",
    "    # ciCOH_alpha_normal, ciCOH_alpha_mild\n",
    "    ciCOH_alpha_normal, ciCOH_alpha_mild = res_ciCOH_alpha['ciCOH_alpha_normal'], res_ciCOH_alpha['ciCOH_alpha_mild']\n",
    "    \n",
    "    # return\n",
    "    return ciCOH_alpha_normal,  ciCOH_alpha_mild"
   ]
  },
  {
   "cell_type": "code",
   "execution_count": 6,
   "metadata": {},
   "outputs": [],
   "source": [
    "alphaciCOHfilefolder = os.path.join(pipelinefolder, '1_dataAnaly', 'FCAnaly', '0_calcciCOH_alpha', 'out')\n",
    "\n",
    "# load alpha ciCOH in normal and mild conditions\n",
    "ciCOH_alpha_normal,  ciCOH_alpha_mild = ciCOHAlphabandLoad(alphaciCOHfilefolder)"
   ]
  },
  {
   "cell_type": "markdown",
   "metadata": {},
   "source": [
    "## Load Channel Information\n",
    "\n",
    "load channel information from datafolder/pinky_chnInf.csv"
   ]
  },
  {
   "cell_type": "code",
   "execution_count": 7,
   "metadata": {},
   "outputs": [],
   "source": [
    "df = pd.read_csv(os.path.join(datafolder, 'pinky_chnInf.csv'))\n",
    "\n",
    "idx_notused = [100, 104, 109, 120, 124]\n",
    "\n",
    "# brain area\n",
    "elec_area = list(df['brainarea'])\n",
    "\n",
    "\n",
    "# delete the unused channels in elec_area\n",
    "for idx in reversed(idx_notused):\n",
    "    \n",
    "    del elec_area[idx]"
   ]
  },
  {
   "cell_type": "code",
   "execution_count": 8,
   "metadata": {},
   "outputs": [],
   "source": [
    "x, y = np.asarray(df['x']), np.asarray(df['y'])\n",
    "\n",
    "# coordinates of all channel\n",
    "elec_coord = np.concatenate((np.expand_dims(x, axis=1), np.expand_dims(y, axis=1)), axis = 1)\n",
    "    \n",
    "# delete the unused channels in elec_coord\n",
    "elec_coord = np.delete(elec_coord, idx_notused, axis=0)"
   ]
  },
  {
   "cell_type": "markdown",
   "metadata": {},
   "source": [
    "## Alpha Visual"
   ]
  },
  {
   "cell_type": "code",
   "execution_count": 65,
   "metadata": {},
   "outputs": [],
   "source": [
    "texts = dict()\n",
    "\n",
    "texts['right Caudate'] = [250, 30, 20]\n",
    "texts['VPLo'] = [0, 100, 20]\n",
    "\n",
    "texts['VLo'] = [0, 155, 20]\n",
    "\n",
    "texts['VA'] = [0, 225, 20]\n",
    "\n",
    "texts['left MC'] = [-0, 275, 20]\n",
    "\n",
    "texts['SMA'] = [0, 345, 20]\n",
    "\n",
    "texts['M1'] = [-10, 510, 20]"
   ]
  },
  {
   "cell_type": "code",
   "execution_count": 9,
   "metadata": {},
   "outputs": [],
   "source": [
    "lowweight = 0.1\n",
    "\n",
    "savepath = os.path.join(pipelinefolder, '1_dataAnaly', 'FCAnalys', '1_visual_FC', 'out')"
   ]
  },
  {
   "cell_type": "markdown",
   "metadata": {},
   "source": [
    "### normal"
   ]
  },
  {
   "cell_type": "code",
   "execution_count": 94,
   "metadata": {},
   "outputs": [],
   "source": [
    "del bandciCOH\n",
    "\n",
    "bandciCOH = ciCOH_alpha_normal[0:128, 0:128, :]\n",
    "\n",
    "filename = 'ciCOH_alpha_normal' + '.png'\n",
    "\n",
    "savefile = os.path.join(savepath, filename)"
   ]
  },
  {
   "cell_type": "code",
   "execution_count": 95,
   "metadata": {},
   "outputs": [],
   "source": [
    "# delete the unused channels in weight\n",
    "bandciCOH = np.delete(bandciCOH, idx_notused, axis=0)\n",
    "bandciCOH = np.delete(bandciCOH, idx_notused, axis=1)\n",
    "\n",
    "weight = abs(np.mean(bandciCOH, axis = 2))\n",
    "\n",
    "# weight > 0.1 as \n",
    "weight[np.where(weight<lowweight)] =0"
   ]
  },
  {
   "cell_type": "code",
   "execution_count": 96,
   "metadata": {},
   "outputs": [],
   "source": [
    "graph = graphVisual.graph_create(weight, vsarea = elec_area, vscoord = elec_coord)\n",
    "\n",
    "# set graph visualization style\n",
    "visual_style = graphVisual.graph_style(graph)"
   ]
  },
  {
   "cell_type": "code",
   "execution_count": 97,
   "metadata": {},
   "outputs": [],
   "source": [
    "title = 'Alpha normal'\n",
    "texts[title] = [300, 225, 25]\n",
    "\n",
    "igplot = graphVisual.graph_plot(graph, visual_style, texts = texts)\n",
    "\n",
    "igplot.show()\n",
    "\n",
    "if 'title' in locals():\n",
    "    del texts[title], title"
   ]
  },
  {
   "cell_type": "markdown",
   "metadata": {},
   "source": [
    "### mild"
   ]
  },
  {
   "cell_type": "code",
   "execution_count": 98,
   "metadata": {},
   "outputs": [],
   "source": [
    "lowweight = 0.1\n",
    "bandciCOH = ciCOH_alpha_mild[0:128, 0:128, :]\n",
    "\n",
    "filename = 'ciCOH_alpha_mild' + '.png'\n",
    "\n",
    "savefile = os.path.join(savepath, filename)"
   ]
  },
  {
   "cell_type": "code",
   "execution_count": 99,
   "metadata": {},
   "outputs": [],
   "source": [
    "# delete the unused channels in weight\n",
    "bandciCOH = np.delete(bandciCOH, idx_notused, axis=0)\n",
    "bandciCOH = np.delete(bandciCOH, idx_notused, axis=1)\n",
    "\n",
    "weight = abs(np.mean(bandciCOH, axis = 2))\n",
    "\n",
    "# weight > 0.1 as \n",
    "weight[np.where(weight<lowweight)] =0"
   ]
  },
  {
   "cell_type": "code",
   "execution_count": 100,
   "metadata": {},
   "outputs": [],
   "source": [
    "graph = graphVisual.graph_create(weight, vsarea = elec_area, vscoord = elec_coord)\n",
    "\n",
    "# set graph visualization style\n",
    "visual_style = graphVisual.graph_style(graph)\n"
   ]
  },
  {
   "cell_type": "code",
   "execution_count": 101,
   "metadata": {},
   "outputs": [],
   "source": [
    "title = 'Alpha mild'\n",
    "texts[title] = [335, 225, 25]\n",
    "\n",
    "igplot = graphVisual.graph_plot(graph, visual_style, texts = texts)\n",
    "igplot.show()\n",
    "\n",
    "if 'title' in locals():\n",
    "    del texts[title], title"
   ]
  },
  {
   "cell_type": "markdown",
   "metadata": {},
   "source": [
    "## Beta Visual"
   ]
  },
  {
   "cell_type": "markdown",
   "metadata": {},
   "source": [
    "###  beta1"
   ]
  },
  {
   "cell_type": "markdown",
   "metadata": {},
   "source": [
    "#### normal"
   ]
  },
  {
   "cell_type": "code",
   "execution_count": 102,
   "metadata": {},
   "outputs": [],
   "source": [
    "del bandciCOH\n",
    "\n",
    "bandciCOH = ciCOH_beta1_normal[0:128, 0:128, :]\n",
    "\n",
    "filename = 'ciCOH_beta1_normal' + '.png'\n",
    "\n",
    "savefile = os.path.join(savepath, filename)\n",
    "\n",
    "# delete the unused channels in weight\n",
    "bandciCOH = np.delete(bandciCOH, idx_notused, axis=0)\n",
    "bandciCOH = np.delete(bandciCOH, idx_notused, axis=1)"
   ]
  },
  {
   "cell_type": "code",
   "execution_count": 103,
   "metadata": {},
   "outputs": [],
   "source": [
    "weight = abs(np.mean(bandciCOH, axis = 2))\n",
    "\n",
    "# weight > 0.1 as \n",
    "weight[np.where(weight<lowweight)] =0"
   ]
  },
  {
   "cell_type": "code",
   "execution_count": 104,
   "metadata": {},
   "outputs": [],
   "source": [
    "graph = graphVisual.graph_create(weight, vsarea = elec_area, vscoord = elec_coord)\n",
    "\n",
    "# set graph visualization style\n",
    "visual_style = graphVisual.graph_style(graph)"
   ]
  },
  {
   "cell_type": "code",
   "execution_count": 105,
   "metadata": {},
   "outputs": [],
   "source": [
    "title = 'Beta1 normal'\n",
    "texts[title] = [335, 225, 25]\n",
    "\n",
    "igplot = graphVisual.graph_plot(graph, visual_style, texts = texts)\n",
    "igplot.show()\n",
    "\n",
    "if 'title' in locals():\n",
    "    del texts[title], title"
   ]
  },
  {
   "cell_type": "markdown",
   "metadata": {},
   "source": [
    "#### mild"
   ]
  },
  {
   "cell_type": "code",
   "execution_count": 106,
   "metadata": {},
   "outputs": [],
   "source": [
    "del bandciCOH\n",
    "\n",
    "lowweight = 0.1\n",
    "bandciCOH = ciCOH_beta1_mild[0:128, 0:128, :]\n",
    "\n",
    "filename = 'ciCOH_beta1_mild' + '.png'\n",
    "\n",
    "savefile = os.path.join(savepath, filename)\n",
    "\n",
    "# delete the unused channels in weight\n",
    "bandciCOH = np.delete(bandciCOH, idx_notused, axis=0)\n",
    "bandciCOH = np.delete(bandciCOH, idx_notused, axis=1)"
   ]
  },
  {
   "cell_type": "code",
   "execution_count": 107,
   "metadata": {},
   "outputs": [],
   "source": [
    "weight = abs(np.mean(bandciCOH, axis = 2))\n",
    "\n",
    "# weight > 0.1 as \n",
    "weight[np.where(weight<lowweight)] =0"
   ]
  },
  {
   "cell_type": "code",
   "execution_count": 108,
   "metadata": {},
   "outputs": [],
   "source": [
    "graph = graphVisual.graph_create(weight, vsarea = elec_area, vscoord = elec_coord)\n",
    "\n",
    "# set graph visualization style\n",
    "visual_style = graphVisual.graph_style(graph)"
   ]
  },
  {
   "cell_type": "code",
   "execution_count": 109,
   "metadata": {},
   "outputs": [],
   "source": [
    "title = 'Beta1 mild'\n",
    "texts[title] = [335, 225, 25]\n",
    "\n",
    "igplot = graphVisual.graph_plot(graph, visual_style, texts = texts)\n",
    "igplot.show()\n",
    "\n",
    "if 'title' in locals():\n",
    "    del texts[title], title"
   ]
  },
  {
   "cell_type": "markdown",
   "metadata": {},
   "source": [
    "### beta2"
   ]
  },
  {
   "cell_type": "markdown",
   "metadata": {},
   "source": [
    "#### normal"
   ]
  },
  {
   "cell_type": "code",
   "execution_count": 110,
   "metadata": {},
   "outputs": [],
   "source": [
    "del bandciCOH\n",
    "\n",
    "bandciCOH = ciCOH_beta2_normal[0:128, 0:128, :]\n",
    "\n",
    "filename = 'ciCOH_beta2_normal' + '.png'\n",
    "\n",
    "savefile = os.path.join(savepath, filename)\n",
    "\n",
    "# delete the unused channels in weight\n",
    "bandciCOH = np.delete(bandciCOH, idx_notused, axis=0)\n",
    "bandciCOH = np.delete(bandciCOH, idx_notused, axis=1)"
   ]
  },
  {
   "cell_type": "code",
   "execution_count": 111,
   "metadata": {},
   "outputs": [],
   "source": [
    "weight = abs(np.mean(bandciCOH, axis = 2))\n",
    "\n",
    "# weight > 0.1 as \n",
    "weight[np.where(weight<lowweight)] =0"
   ]
  },
  {
   "cell_type": "code",
   "execution_count": 112,
   "metadata": {},
   "outputs": [],
   "source": [
    "graph = graphVisual.graph_create(weight, vsarea = elec_area, vscoord = elec_coord)\n",
    "\n",
    "# set graph visualization style\n",
    "visual_style = graphVisual.graph_style(graph)"
   ]
  },
  {
   "cell_type": "code",
   "execution_count": 113,
   "metadata": {},
   "outputs": [],
   "source": [
    "title = 'Beta2 normal'\n",
    "texts[title] = [335, 225, 25]\n",
    "\n",
    "igplot = graphVisual.graph_plot(graph, visual_style, texts = texts)\n",
    "igplot.show()\n",
    "\n",
    "if 'title' in locals():\n",
    "    del texts[title], title"
   ]
  },
  {
   "cell_type": "markdown",
   "metadata": {},
   "source": [
    "#### mild"
   ]
  },
  {
   "cell_type": "code",
   "execution_count": 114,
   "metadata": {},
   "outputs": [],
   "source": [
    "if 'bandciCOH' in locals():\n",
    "    del bandciCOH\n",
    "\n",
    "bandciCOH = ciCOH_beta2_mild[0:128, 0:128, :]\n",
    "\n",
    "if 'filename' in locals():\n",
    "    del filename\n",
    "\n",
    "filename = 'ciCOH_beta2_mild' + '.png'\n",
    "\n",
    "savefile = os.path.join(savepath, filename)\n",
    "\n",
    "# delete the unused channels in weight\n",
    "bandciCOH = np.delete(bandciCOH, idx_notused, axis=0)\n",
    "bandciCOH = np.delete(bandciCOH, idx_notused, axis=1)"
   ]
  },
  {
   "cell_type": "code",
   "execution_count": 115,
   "metadata": {},
   "outputs": [],
   "source": [
    "weight = abs(np.mean(bandciCOH, axis = 2))\n",
    "\n",
    "# weight > 0.1 as \n",
    "weight[np.where(weight<lowweight)] =0"
   ]
  },
  {
   "cell_type": "code",
   "execution_count": 116,
   "metadata": {},
   "outputs": [],
   "source": [
    "graph = graphVisual.graph_create(weight, vsarea = elec_area, vscoord = elec_coord)\n",
    "\n",
    "# set graph visualization style\n",
    "visual_style = graphVisual.graph_style(graph)"
   ]
  },
  {
   "cell_type": "code",
   "execution_count": 117,
   "metadata": {},
   "outputs": [],
   "source": [
    "title = 'Beta2 mild'\n",
    "texts[title] = [335, 225, 25]\n",
    "\n",
    "igplot = graphVisual.graph_plot(graph, visual_style, texts = texts)\n",
    "igplot.show()\n",
    "\n",
    "if 'title' in locals():\n",
    "    del texts[title], title"
   ]
  },
  {
   "cell_type": "code",
   "execution_count": null,
   "metadata": {},
   "outputs": [],
   "source": []
  }
 ],
 "metadata": {
  "kernelspec": {
   "display_name": "Python 3",
   "language": "python",
   "name": "python3"
  },
  "language_info": {
   "codemirror_mode": {
    "name": "ipython",
    "version": 3
   },
   "file_extension": ".py",
   "mimetype": "text/x-python",
   "name": "python",
   "nbconvert_exporter": "python",
   "pygments_lexer": "ipython3",
   "version": "3.6.8"
  },
  "toc": {
   "base_numbering": 1,
   "nav_menu": {
    "height": "248px",
    "width": "255px"
   },
   "number_sections": false,
   "sideBar": true,
   "skip_h1_title": true,
   "title_cell": "Table of Contents",
   "title_sidebar": "",
   "toc_cell": false,
   "toc_position": {
    "height": "calc(100% - 180px)",
    "left": "10px",
    "top": "150px",
    "width": "286.6px"
   },
   "toc_section_display": true,
   "toc_window_display": true
  }
 },
 "nbformat": 4,
 "nbformat_minor": 2
}
