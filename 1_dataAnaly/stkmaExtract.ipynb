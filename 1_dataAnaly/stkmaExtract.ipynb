{
 "cells": [
  {
   "cell_type": "markdown",
   "metadata": {},
   "source": [
    "# SingleTargetKluverMAData Extraction\n",
    "1. This notebook reads the SingleTargetKluverMAData struct in _cleaned_MA_SingleTargetKluver_Analyze2.mat\n",
    "\n",
    "2. stk(STK) is short for single Target Kluver \n",
    "\n"
   ]
  },
  {
   "cell_type": "code",
   "execution_count": 2,
   "metadata": {},
   "outputs": [
    {
     "name": "stdout",
     "output_type": "stream",
     "text": [
      "importing Jupyter notebook from ../util/folder_extract.ipynb\n"
     ]
    }
   ],
   "source": [
    "import numpy as np\n",
    "import sys, os\n",
    "import pandas as pd\n",
    "from datetime import datetime\n",
    "import scipy.io as sio\n",
    "\n",
    "# statistical analysis package\n",
    "from scipy import stats\n",
    "\n",
    "# user defined module in .ipynb\n",
    "import import_nbmodule\n",
    "sys.path.append(os.path.join('..'))\n",
    "from util.folder_extract import animal_folder"
   ]
  },
  {
   "cell_type": "markdown",
   "metadata": {},
   "source": [
    "### animal variable"
   ]
  },
  {
   "cell_type": "code",
   "execution_count": 3,
   "metadata": {},
   "outputs": [],
   "source": [
    "animal = 'Pinky'"
   ]
  },
  {
   "cell_type": "markdown",
   "metadata": {},
   "source": [
    "# Read STK information in /Projects/FCAnalysis/metainf/pinky_skbinf.csv"
   ]
  },
  {
   "cell_type": "code",
   "execution_count": 4,
   "metadata": {},
   "outputs": [],
   "source": [
    "# extract the metainf folder of animal\n",
    "_, _, animetafolder = animal_folder(animal = animal)\n",
    "\n",
    "# read the skb information in pinky_skbinf.csv file\n",
    "skbinf = pd.read_csv(os.path.join(animetafolder, 'pinky_skbinf.csv')) \n",
    "\n",
    "# row numbers that the event time of the corresponing skb trials has been extracted\n",
    "idx_eventtimeextracted = np.where(skbinf['eventtimeextracted'] == 'Yes')"
   ]
  },
  {
   "cell_type": "markdown",
   "metadata": {},
   "source": [
    "### Extract the row numbers that representing Ying Used dataset"
   ]
  },
  {
   "cell_type": "code",
   "execution_count": 5,
   "metadata": {},
   "outputs": [],
   "source": [
    "idx_YingUsed = np.where(skbinf['YingUsed'] == 'Yes')"
   ]
  },
  {
   "cell_type": "markdown",
   "metadata": {},
   "source": [
    "# Load normal and mild data individually"
   ]
  },
  {
   "cell_type": "markdown",
   "metadata": {},
   "source": [
    "### get files folder that store the event time"
   ]
  },
  {
   "cell_type": "code",
   "execution_count": 6,
   "metadata": {},
   "outputs": [],
   "source": [
    "import platform\n",
    "if platform.system() == 'Linux':\n",
    "    drive = '/home/lingling/root2';\n",
    "\n",
    "if platform.system() == 'Windows':\n",
    "    drive = 'Y:\\root2';\n",
    "\n",
    "filefolder = os.path.join(drive, 'Animals2', animal, 'Recording', 'Processed', 'DataDatabase')"
   ]
  },
  {
   "cell_type": "markdown",
   "metadata": {},
   "source": [
    "### Function reading the SingleTargetKluverMAData struct  in _cleaned_MA_SingleTargetKluver_Analyze2.mat"
   ]
  },
  {
   "cell_type": "code",
   "execution_count": 67,
   "metadata": {},
   "outputs": [],
   "source": [
    "def readstkAnalyze2(maanalyze2file):\n",
    "    \n",
    "    # load ma analyzed2 file\n",
    "    dat = sio.loadmat(maanalyze2file, struct_as_record = False, squeeze_me = True)\n",
    "    \n",
    "    # extract the SingleTargetKluverMAData struct\n",
    "    SingleTargetKluverMAData = dat['SingleTargetKluverMAData']"
   ]
  },
  {
   "cell_type": "markdown",
   "metadata": {},
   "source": [
    "### load normal and mild data"
   ]
  },
  {
   "cell_type": "code",
   "execution_count": null,
   "metadata": {},
   "outputs": [],
   "source": [
    "for idx in idx_YingUsed[0]:\n",
    "    \n",
    "    # date of experiment\n",
    "    str_dateofexp = str(skbinf['dateofexp'][idx])\n",
    "    year, month, day = int(str_dateofexp[0:2]) + 2000, int(str_dateofexp[2:4]), int(str_dateofexp[4:]) \n",
    "    dateofexp = datetime(year, month, day)\n",
    "    # tdt block number\n",
    "    bktdt = skbinf['bktdt'][idx]\n",
    "    # ma block number\n",
    "    bkma = skbinf['bkma'][idx]\n",
    "    # pd condition, 'normal' or 'mild'\n",
    "    pdcon = skbinf['PDCondition'][idx]\n",
    "    \n",
    "    \n",
    "    # load folder\n",
    "    loadfolder = os.path.join(filefolder, animal + '_' + datetime.strftime(dateofexp, '%m%d%y'), 'Block-' + str(bktdt))\n",
    "    # load file\n",
    "    loadfile = animal.lower() + '_' + datetime.strftime(dateofexp, '%Y%m%d') + '_' + str(bkma) + '_cleaned_MA_SingleTargetKluver_Analyze2.mat'\n",
    "    \n",
    "    \n",
    "    # reading the SingleTargetKluverMAData struct\n",
    "    SingleTargetKluverMAData = readstkAnalyze2(os.path.join(loadfolder, loadfile))\n",
    "    \n",
    "    del dateofexp, bktdt, bkma, pdcon"
   ]
  }
 ],
 "metadata": {
  "kernelspec": {
   "display_name": "Python 3",
   "language": "python",
   "name": "python3"
  },
  "language_info": {
   "codemirror_mode": {
    "name": "ipython",
    "version": 3
   },
   "file_extension": ".py",
   "mimetype": "text/x-python",
   "name": "python",
   "nbconvert_exporter": "python",
   "pygments_lexer": "ipython3",
   "version": "3.6.8"
  }
 },
 "nbformat": 4,
 "nbformat_minor": 2
}
