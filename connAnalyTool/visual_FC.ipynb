{
 "cells": [
  {
   "cell_type": "markdown",
   "metadata": {},
   "source": [
    "# Functionality: visualization of functional connectivity"
   ]
  },
  {
   "cell_type": "code",
   "execution_count": null,
   "metadata": {},
   "outputs": [],
   "source": [
    "import igraph as ig\n",
    "import numpy as np"
   ]
  },
  {
   "cell_type": "markdown",
   "metadata": {},
   "source": [
    "### randomly generate the weight matrix"
   ]
  },
  {
   "cell_type": "code",
   "execution_count": null,
   "metadata": {},
   "outputs": [],
   "source": [
    "# randomly generate weights matrix\n",
    "weights = np.random.rand(64, 64)\n",
    "\n",
    "# fill diagonal values to be zeroo\n",
    "np.fill_diagonal(weights, 0)"
   ]
  },
  {
   "cell_type": "markdown",
   "metadata": {},
   "source": [
    "## generate graph"
   ]
  },
  {
   "cell_type": "markdown",
   "metadata": {},
   "source": [
    "#### generate a graph from its adjacency matrix"
   ]
  },
  {
   "cell_type": "code",
   "execution_count": null,
   "metadata": {},
   "outputs": [],
   "source": [
    "#  adjacency matrix\n",
    "adjmatrix = (weights>0).tolist()\n",
    "\n",
    "tagdirected = False\n",
    "\n",
    "if not tagdirected:\n",
    "    \"\"\" undirected graph \"\"\"\n",
    "    \n",
    "    # generate a undirected graph from its adjacency matrix (weights>0)\n",
    "    graph = ig.Graph.Adjacency(adjmatrix, \"UNDIRECTED\")\n",
    "    \n",
    "    # weights for the undirected graph, lower triangular \n",
    "    wght = np.tril(weights)\n",
    "\n",
    "else:\n",
    "    \"\"\" directed graph \"\"\"\n",
    "    \n",
    "    # generate a undirected graph from its adjacency matrix (weights>0)\n",
    "    graph = ig.Graph.Adjacency(adjmatrix, \"DIRECTED\")\n",
    "    \n",
    "    # weights for the directed graph\n",
    "    wght = weights"
   ]
  },
  {
   "cell_type": "markdown",
   "metadata": {},
   "source": [
    "#### set the vs attributes"
   ]
  },
  {
   "cell_type": "code",
   "execution_count": null,
   "metadata": {},
   "outputs": [],
   "source": [
    "graph.vs[\"area\"] = [\"M1\"]*40 + [\"ThaSMA\"] * 24"
   ]
  },
  {
   "cell_type": "markdown",
   "metadata": {},
   "source": [
    "#### set the es attributes"
   ]
  },
  {
   "cell_type": "code",
   "execution_count": null,
   "metadata": {},
   "outputs": [],
   "source": [
    "# set the attribute of weight for graph element es\n",
    "graph.es[\"weight\"] = wght[wght.nonzero()]\n",
    "\n",
    "\n",
    "# set the attribute of width for graph element es\n",
    "graph.es[\"width\"] = wght[wght.nonzero()]"
   ]
  },
  {
   "cell_type": "markdown",
   "metadata": {},
   "source": [
    "## set graph visulization style"
   ]
  },
  {
   "cell_type": "code",
   "execution_count": null,
   "metadata": {},
   "outputs": [],
   "source": [
    "color_dict = {\"M1\": \"blue\", \"ThaSMA\": \"pink\"}\n",
    "\n",
    "visual_style = dict()\n",
    "\n",
    "# vertex color\n",
    "visual_style['vertex_color'] = [color_dict[area] for area in graph.vs[\"area\"]]\n",
    "\n",
    "# vertex label size\n",
    "visual_style['vertex_label_size'] = 2\n",
    "\n",
    "# vertex label distance\n",
    "visual_style['vertex_label_dist'] = 2\n",
    "\n",
    "# vertex label color\n",
    "visual_style['vertex_label_color'] = 'black'\n",
    "\n",
    "# the outdegree for each vertex\n",
    "outdegree = graph.outdegree()\n",
    "\n",
    "visual_style[\"vertex_size\"] = [x/max(outdegree)*10+5 for x in outdegree]\n",
    "\n",
    "# edge width\n",
    "visual_style['edge_width'] = graph.es['weight']\n",
    "\n",
    "# # layout\n",
    "# visual_style['layout'] = ig.Layout()"
   ]
  },
  {
   "cell_type": "markdown",
   "metadata": {},
   "source": [
    "## actual plot"
   ]
  },
  {
   "cell_type": "code",
   "execution_count": null,
   "metadata": {},
   "outputs": [],
   "source": [
    "ig.plot(graph, **visual_style)"
   ]
  },
  {
   "cell_type": "code",
   "execution_count": null,
   "metadata": {},
   "outputs": [],
   "source": [
    "import igraph as ig\n",
    "ig.plot(ig.Graph.Full(3), vertex_label=['a', 'b', 'c'], bbox=(100, 100))\n",
    "ig.plot(ig.Graph.Full(6), vertex_label=range(1, 7), bbox=(100, 100))"
   ]
  },
  {
   "cell_type": "code",
   "execution_count": null,
   "metadata": {},
   "outputs": [],
   "source": []
  }
 ],
 "metadata": {
  "kernelspec": {
   "display_name": "Python 3",
   "language": "python",
   "name": "python3"
  },
  "language_info": {
   "codemirror_mode": {
    "name": "ipython",
    "version": 3
   },
   "file_extension": ".py",
   "mimetype": "text/x-python",
   "name": "python",
   "nbconvert_exporter": "python",
   "pygments_lexer": "ipython3",
   "version": "3.6.8"
  }
 },
 "nbformat": 4,
 "nbformat_minor": 2
}
