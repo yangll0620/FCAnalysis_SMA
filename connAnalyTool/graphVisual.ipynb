{
 "cells": [
  {
   "cell_type": "markdown",
   "metadata": {},
   "source": [
    "# Functionality:  visualization of graph"
   ]
  },
  {
   "cell_type": "markdown",
   "metadata": {},
   "source": [
    "## Import Packages"
   ]
  },
  {
   "cell_type": "code",
   "execution_count": 2,
   "metadata": {},
   "outputs": [],
   "source": [
    "import igraph as ig\n",
    "import igraph.drawing.colors as igcolors\n",
    "from igraph.drawing.text import TextDrawer\n",
    "import cairo\n",
    "\n",
    "import numpy as np"
   ]
  },
  {
   "cell_type": "markdown",
   "metadata": {},
   "source": [
    "## Random Matrix"
   ]
  },
  {
   "cell_type": "code",
   "execution_count": 3,
   "metadata": {},
   "outputs": [],
   "source": [
    "def randweight_sysmetric(nchns=64):\n",
    "    w = np.random.rand(nchns, nchns)\n",
    "    \n",
    "    weight = (w + w.T)/2\n",
    "    \n",
    "    return weight"
   ]
  },
  {
   "cell_type": "markdown",
   "metadata": {},
   "source": [
    "## Create Graph"
   ]
  },
  {
   "cell_type": "markdown",
   "metadata": {},
   "source": [
    "### generate a graph from its adjacency matrix"
   ]
  },
  {
   "cell_type": "code",
   "execution_count": 4,
   "metadata": {},
   "outputs": [],
   "source": [
    "def graph_create(weight, tagdirected = False, vsarea = None, vscoord = None, vschni = None):\n",
    "    \"\"\"\n",
    "        Create graph based on weight matrix\n",
    "        \n",
    "        Args:\n",
    "            \n",
    "            weight: weight matrix (should be symmetrics if indirected graph)\n",
    "            \n",
    "            tagdirected: tag for if directed (True) or indirected (False, default)\n",
    "            \n",
    "            vsarea: a list of string representing vertex area\n",
    "            \n",
    "        return:\n",
    "            graph: the generated graph\n",
    "            \n",
    "    \"\"\"\n",
    "\n",
    "    #  adjacency matrix\n",
    "    adjmatrix = (weight>0).tolist()\n",
    "\n",
    "    # create graph from adjacency matrix\n",
    "    if not tagdirected:\n",
    "        \"\"\" undirected graph \"\"\"\n",
    "\n",
    "        # check the symmetric of weights matrix\n",
    "        if not np.allclose(weight, weight.T, rtol=1e-05, atol=1e-08):\n",
    "            print(\"weight matrix is not symmetric\")\n",
    "            return []\n",
    "        \n",
    "        \n",
    "        # generate a undirected graph from its adjacency matrix (weights>0)\n",
    "        graph = ig.Graph.Adjacency(adjmatrix, \"UNDIRECTED\")\n",
    "        \n",
    "\n",
    "\n",
    "        # weights for the undirected graph, lower triangular \n",
    "        wght = np.triu(weight)\n",
    "\n",
    "    else:\n",
    "        \"\"\" directed graph \"\"\"\n",
    "\n",
    "        # generate a undirected graph from its adjacency matrix (weights>0)\n",
    "        graph = ig.Graph.Adjacency(adjmatrix, \"DIRECTED\")\n",
    "\n",
    "        # weights for the directed graph\n",
    "        wght = weight\n",
    "        \n",
    "    \n",
    "    \n",
    "    \n",
    "    # set the vs attributes area\n",
    "    if vsarea is not None:\n",
    "        graph.vs[\"area\"] = vsarea\n",
    "    \n",
    "    # set the vs position\n",
    "    if vscoord is not None:\n",
    "        graph.vs[\"coord\"] = vscoord\n",
    "    \n",
    "    if vschni is not None:\n",
    "        graph.vs['name'] = vschni\n",
    "    \n",
    "    # set the attribute of weight for graph element es\n",
    "    graph.es[\"weight\"] = wght[wght.nonzero()]\n",
    "    \n",
    "    return graph"
   ]
  },
  {
   "cell_type": "markdown",
   "metadata": {},
   "source": [
    "## Graph Visulization"
   ]
  },
  {
   "cell_type": "markdown",
   "metadata": {},
   "source": [
    "### Set visulization style"
   ]
  },
  {
   "cell_type": "code",
   "execution_count": 5,
   "metadata": {},
   "outputs": [],
   "source": [
    "def graph_style(graph):\n",
    "    \"\"\"\n",
    "    \n",
    "        args:\n",
    "            graph: graph\n",
    "            \n",
    "        return:\n",
    "            visual_style: a dictionary containing the visualization style\n",
    "    \"\"\"\n",
    "\n",
    "    visual_style = dict()\n",
    "\n",
    "    # vertex color\n",
    "    try:\n",
    "        \"set vertex  color based on vs attribute area\"\n",
    "        \n",
    "        # unique areas\n",
    "        uniqarea = list(set(graph.vs[\"area\"]))\n",
    "        \n",
    "        # set palette\n",
    "        palette = igcolors.ClusterColoringPalette(len(uniqarea))\n",
    "        \n",
    "        # set vertex color\n",
    "        visual_style['vertex_color'] = [palette[uniqarea.index(area)] for area in graph.vs[\"area\"]]\n",
    "    \n",
    "    except KeyError:\n",
    "        \n",
    "        visual_style['vertex_color'] = \"black\"\n",
    "        \n",
    "    \n",
    "    # vertex size\n",
    "    outdegree = graph.outdegree()\n",
    "    if max(outdegree) > 0:\n",
    "        visual_style[\"vertex_size\"] = [x/max(outdegree)*10+5 for x in outdegree]\n",
    "    \n",
    "    # vertex label size\n",
    "    visual_style['vertex_label_size'] = 2\n",
    "\n",
    "    # vertex label distance\n",
    "    visual_style['vertex_label_dist'] = 2\n",
    "\n",
    "    # vertex label color\n",
    "    visual_style['vertex_label_color'] = 'black'\n",
    "    \n",
    "    # vertex label name\n",
    "    visual_style[\"vertex_label\"] = graph.vs['name']\n",
    "    \n",
    "    visual_style[\"vertex_label_size\"] = 10\n",
    "\n",
    "    # the outdegree for each vertex\n",
    "    outdegree = graph.outdegree()\n",
    "\n",
    "    \n",
    "\n",
    "    # edge width\n",
    "    visual_style['edge_width'] = graph.es['weight']\n",
    "\n",
    "    # layout\n",
    "    try:\n",
    "        \"set vertex  layout based on vs attribute coordinate coord\"\n",
    "        visual_style['layout'] = ig.Layout(graph.vs[\"coord\"])\n",
    "    \n",
    "    except KeyError:\n",
    "        print(\"Does not have a user defined layout, use the default.\")\n",
    "    \n",
    "    return visual_style"
   ]
  },
  {
   "cell_type": "markdown",
   "metadata": {},
   "source": [
    "### Actual Plot"
   ]
  },
  {
   "cell_type": "code",
   "execution_count": 14,
   "metadata": {},
   "outputs": [],
   "source": [
    "def graph_plot(graph, visual_style, texts = None):\n",
    "    \"\"\"\n",
    "        @param graph:\n",
    "        \n",
    "        @param visual_style:\n",
    "        \n",
    "        @param texts: a dictionary storing the text to be printed with text[key]: [x,y, fontsize]\n",
    "        e.g texts[\"M1\"] = [0, 180, 30]\n",
    "        \n",
    "        @return igplot: an igraph.drawing.Plot object\n",
    "    \"\"\"\n",
    "    \n",
    "    # an igraph.drawing.Plot object\n",
    "    igplot = ig.plot(graph, **visual_style)\n",
    "    \n",
    "    # plot text\n",
    "    if texts is not None:\n",
    "        \n",
    "        igplot.redraw()\n",
    "            \n",
    "        # Context object\n",
    "        ctx = cairo.Context(igplot.surface)\n",
    "        \n",
    "        \n",
    "        # draw each text in ig.plot\n",
    "        for text in texts:\n",
    "            val = texts[text]\n",
    "            \n",
    "            # fontsize\n",
    "            try:\n",
    "                fontsize = val[2]\n",
    "            \n",
    "            except IndexError:\n",
    "                fontsize = 20\n",
    "            \n",
    "            \n",
    "            # set the font size\n",
    "            ctx.set_font_size(fontsize)\n",
    "            \n",
    "            # TextDrawer Object\n",
    "            drawer = TextDrawer(ctx, text, halign=TextDrawer.CENTER)\n",
    "            \n",
    "            # draw the text at the coordinates coord\n",
    "            drawer.draw_at(x=val[0], y=val[1], width=300)\n",
    "            \n",
    "    return igplot"
   ]
  },
  {
   "cell_type": "markdown",
   "metadata": {},
   "source": [
    "## Test Section"
   ]
  },
  {
   "cell_type": "code",
   "execution_count": 7,
   "metadata": {},
   "outputs": [],
   "source": [
    "weight = randweight_sysmetric(nchns=15)\n",
    "graph = graph_create(weight)"
   ]
  }
 ],
 "metadata": {
  "kernelspec": {
   "display_name": "Python 3",
   "language": "python",
   "name": "python3"
  },
  "language_info": {
   "codemirror_mode": {
    "name": "ipython",
    "version": 3
   },
   "file_extension": ".py",
   "mimetype": "text/x-python",
   "name": "python",
   "nbconvert_exporter": "python",
   "pygments_lexer": "ipython3",
   "version": "3.6.8"
  },
  "toc": {
   "base_numbering": 1,
   "nav_menu": {},
   "number_sections": false,
   "sideBar": true,
   "skip_h1_title": true,
   "title_cell": "Table of Contents",
   "title_sidebar": "",
   "toc_cell": false,
   "toc_position": {
    "height": "calc(100% - 180px)",
    "left": "10px",
    "top": "150px",
    "width": "370.6px"
   },
   "toc_section_display": true,
   "toc_window_display": true
  }
 },
 "nbformat": 4,
 "nbformat_minor": 2
}
