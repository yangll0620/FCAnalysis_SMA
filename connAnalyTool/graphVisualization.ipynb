{
 "cells": [
  {
   "cell_type": "markdown",
   "metadata": {},
   "source": [
    "# Functionality: Visuliation of graph"
   ]
  },
  {
   "cell_type": "markdown",
   "metadata": {},
   "source": [
    "### function rescale_minmax: rescale data\n",
    "\n",
    "$$\n",
    "    data_{minsubs} = data - min(data)\n",
    "$$\n",
    "\n",
    "\n",
    "$$\n",
    "    data_{rescaled} = (\\frac{data_{minsubs}}{max(data_{minsubs}) - min(data_{minsubs})} + min_{scale}) * int_{len} \\\\\n",
    "    default: min_{scale} = 0, int_{len} = 1\n",
    "$$\n",
    "\n",
    "<font color='red'> Not quite clear why using $min_{scale}$ and $int_{len}$ </font>"
   ]
  },
  {
   "cell_type": "code",
   "execution_count": null,
   "metadata": {},
   "outputs": [],
   "source": [
    "def rescale_minmax(data, min_scale=0, int_len=1):\n",
    "    \"\"\"\n",
    "        rescale data \n",
    "    \"\"\"\n",
    "    \n",
    "    data -= np.min(np.array(data).flatten())\n",
    "    data /= (np.max(data.flatten()) - np.min(data.flatten()))\n",
    "\n",
    "    data += min_scale\n",
    "    data *= int_len\n",
    "    return data"
   ]
  },
  {
   "cell_type": "markdown",
   "metadata": {},
   "source": [
    "### function checkSymmetric"
   ]
  },
  {
   "cell_type": "code",
   "execution_count": null,
   "metadata": {},
   "outputs": [],
   "source": [
    "def checkSymmetric(w, diagfill=0, tol=1e-8):\n",
    "    def checkSymmetric2D(w_sin, diagfill=0, tol=1e-8):\n",
    "        flag = np.allclose(w_sin, w_sin.transpose(), atol=tol)\n",
    "        if not flag:\n",
    "            w_sin *= np.tri(*w_sin.shape)\n",
    "            w_sin = w_sin + w_sin.T\n",
    "            np.fill_diagonal(w_sin, diagfill)\n",
    "        return flag, w_sin\n",
    "\n",
    "    flag = True\n",
    "    if len(w.shape) > 2:\n",
    "        for i in range(w.shape[2]):\n",
    "            flag_sin, w[:, :, i] = checkSymmetric2D(w[:, :, i], diagfill=diagfill, tol=tol)\n",
    "            if not flag_sin:\n",
    "                flag = flag_sin\n",
    "    else:\n",
    "        flag, w = checkSymmetric2D(w, diagfill=diagfill, tol=tol)\n",
    "\n",
    "    return flag, w"
   ]
  },
  {
   "cell_type": "markdown",
   "metadata": {},
   "source": [
    "### function create_graph"
   ]
  },
  {
   "cell_type": "code",
   "execution_count": null,
   "metadata": {},
   "outputs": [],
   "source": [
    "def create_graph(weights, labels=None, selfloop=False, directed = False, rescale=True, lowbnd=0, wmin=0, wlen=1):\n",
    "    \"\"\"\n",
    "        \n",
    "        \n",
    "        Args:\n",
    "            weights: the edge weight\n",
    "            \n",
    "            labels\n",
    "            \n",
    "            selfloop:\n",
    "            \n",
    "            tagdirected: if directed (True) or not (False)\n",
    "            \n",
    "            rescale:\n",
    "            \n",
    "            lowbnd: lower boundary to show (i.e only show the edges with weight larger than lowbnd)\n",
    "        \n",
    "    \"\"\"\n",
    "    \n",
    "    # set 0 if weights < lowbnd\n",
    "    w = np.multiply(weights, weights > lowbnd)\n",
    "    \n",
    "    # rescale to minmax \n",
    "    if rescale:\n",
    "        w = rescale_minmax(w, min_scale=wmin, int_len=wlen)\n",
    "    \n",
    "    flag, w = checkSymmetric(w, diagfill=selfloop)\n",
    "    \n",
    "    # generate a graph from its adjacency matrix\n",
    "    g = ig.Graph.Adjacency((w>0).tolist())\n",
    "    \n",
    "    \n",
    "    if not directed:\n",
    "        # return an undirected copy of this graph\n",
    "        g = g.as_undirected()\n",
    "        \n",
    "        wght = w * np.tri(* w.shape)\n",
    "    else:\n",
    "        wght = w\n",
    "    \n",
    "    g.es['weight'] = wght[wght.nonzero()]\n",
    "    g.es['width'] = wght[wght.nonzero()]\n",
    "    \n",
    "    if labels is not None:\n",
    "        g.vs['name'] = labels\n",
    "        g.vs['label'] = labels\n",
    "\n",
    "    return g, w"
   ]
  },
  {
   "cell_type": "code",
   "execution_count": null,
   "metadata": {},
   "outputs": [],
   "source": [
    "def graph_style(g, layout, labels=None):\n",
    "    \"\"\"\n",
    "        define the visual style of the graph\n",
    "        \n",
    "        Args:\n",
    "            g\n",
    "        \n",
    "    \"\"\"\n",
    "    # define the visual style\n",
    "    visual_style = dict()\n",
    "    visual_style['vertex_color'] = 'black'\n",
    "    visual_style['vertex_label_size'] = 10\n",
    "    visual_style['vertex_label_dist'] = 2\n",
    "    visual_style['vertex_label_color'] = 'black'\n",
    "    \n",
    "    try:\n",
    "        visual_style['vertex_label'] = g.vs['label']\n",
    "    except KeyError:\n",
    "        if labels is not None:\n",
    "            if type(labels) is np.ndarray:\n",
    "                labels = labels.tolist()\n",
    "            \n",
    "            visual_style['vertex_label'] = labels\n",
    "            \n",
    "    visual_style['edge_width'] = g.es['weight']\n",
    "    visual_style['layout'] = layout\n",
    "    outdegree = g.outdegree()\n",
    "    visual_style[\"vertex_size\"] = [x/max(outdegree)*10+5 for x in outdegree]\n",
    "    \n",
    "    return visual_style    "
   ]
  },
  {
   "cell_type": "code",
   "execution_count": null,
   "metadata": {},
   "outputs": [],
   "source": [
    "def graph_plot(g, layout, clustering=None, savename = 'network.png'):\n",
    "    visual_style = graph_style(g,layout)\n",
    "    if clustering is not None:\n",
    "        cluster_idx = find_comty(g,clustering)\n",
    "        palette = palettes.ClusterColoringPalette(len(np.unique(cluster_idx)))\n",
    "        g.vs['color'] = [palette[cluster_idx[x]] for x in range(len(cluster_idx))]\n",
    "        visual_style['vertex_color'] = g.vs['color']\n",
    "    else:\n",
    "        visual_style['vertex_color'] = 'black' \n",
    "    \n",
    "    visual_style['bbox'] = [500, 500]     \n",
    "    visual_style['margin'] = np.array([10,10,10,30]).tolist()  \n",
    "    return ig.plot(g,savename ,**visual_style)"
   ]
  }
 ],
 "metadata": {
  "kernelspec": {
   "display_name": "Python 3",
   "language": "python",
   "name": "python3"
  },
  "language_info": {
   "codemirror_mode": {
    "name": "ipython",
    "version": 3
   },
   "file_extension": ".py",
   "mimetype": "text/x-python",
   "name": "python",
   "nbconvert_exporter": "python",
   "pygments_lexer": "ipython3",
   "version": "3.6.8"
  }
 },
 "nbformat": 4,
 "nbformat_minor": 2
}
