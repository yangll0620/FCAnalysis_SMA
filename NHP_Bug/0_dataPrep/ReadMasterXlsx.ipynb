{
 "cells": [
  {
   "cell_type": "markdown",
   "metadata": {},
   "source": [
    "## Import Packages"
   ]
  },
  {
   "cell_type": "code",
   "execution_count": 1,
   "metadata": {},
   "outputs": [],
   "source": [
    "import os, sys\n",
    "import pandas as pd\n",
    "import numpy as np\n",
    "from math import isnan"
   ]
  },
  {
   "cell_type": "code",
   "execution_count": 2,
   "metadata": {},
   "outputs": [
    {
     "name": "stdout",
     "output_type": "stream",
     "text": [
      "importing Jupyter notebook from /home/lingling/yang7003@umn.edu/NMRC_umn/Projects/FCAnalysis/exp/code/util/folder_extract.ipynb\n",
      "importing Jupyter notebook from /home/lingling/yang7003@umn.edu/NMRC_umn/Projects/FCAnalysis/exp/code/util/parsePDCondition.ipynb\n"
     ]
    }
   ],
   "source": [
    "# extract the exp folder path\n",
    "currfolder = os.getcwd()\n",
    "codefolder = currfolder[0 : currfolder.find('code')+len('code')]\n",
    "\n",
    "# add path the exp folder\n",
    "sys.path.append(codefolder)\n",
    "\n",
    "# import_nbmodule used for import package in .ipynb\n",
    "import import_nbmodule\n",
    "\n",
    "# import functions in util folder\n",
    "from util.folder_extract import exp_subfolders, code_corresfolder\n",
    "from util.parsePDCondition import parsePDCondition_Bug"
   ]
  },
  {
   "cell_type": "markdown",
   "metadata": {},
   "source": [
    "## exp subfolders"
   ]
  },
  {
   "cell_type": "code",
   "execution_count": 3,
   "metadata": {},
   "outputs": [],
   "source": [
    "datafolder, _, pipelinefolder, _ = exp_subfolders()"
   ]
  },
  {
   "cell_type": "markdown",
   "metadata": {},
   "source": [
    "## code_corresfolder"
   ]
  },
  {
   "cell_type": "code",
   "execution_count": 4,
   "metadata": {},
   "outputs": [
    {
     "data": {
      "application/javascript": [
       "IPython.notebook.kernel.execute('nb_name = \"' + IPython.notebook.notebook_name + '\"')\n"
      ],
      "text/plain": [
       "<IPython.core.display.Javascript object>"
      ]
     },
     "metadata": {},
     "output_type": "display_data"
    }
   ],
   "source": [
    "%%javascript\n",
    "IPython.notebook.kernel.execute('nb_name = \"' + IPython.notebook.notebook_name + '\"')"
   ]
  },
  {
   "cell_type": "code",
   "execution_count": 5,
   "metadata": {},
   "outputs": [],
   "source": [
    "nb_name = nb_name[0: nb_name.find('.ipynb')]\n",
    "\n",
    "# corresfolder\n",
    "corresfolder = code_corresfolder(os.getcwd(), nb_name)"
   ]
  },
  {
   "cell_type": "markdown",
   "metadata": {},
   "source": [
    "## global parameter"
   ]
  },
  {
   "cell_type": "code",
   "execution_count": 6,
   "metadata": {},
   "outputs": [],
   "source": [
    "animal = 'Bug'"
   ]
  },
  {
   "cell_type": "markdown",
   "metadata": {},
   "source": [
    "## input setup"
   ]
  },
  {
   "cell_type": "code",
   "execution_count": 7,
   "metadata": {},
   "outputs": [],
   "source": [
    "folder_input = datafolder\n",
    "filename = 'BugMasterDatabase.xlsx'"
   ]
  },
  {
   "cell_type": "code",
   "execution_count": 8,
   "metadata": {},
   "outputs": [],
   "source": [
    "inputfile_master = os.path.join(folder_input, filename)"
   ]
  },
  {
   "cell_type": "markdown",
   "metadata": {},
   "source": [
    "## save setup"
   ]
  },
  {
   "cell_type": "code",
   "execution_count": null,
   "metadata": {},
   "outputs": [],
   "source": [
    "savefolder = corresfolder\n",
    "savefilename = animal + '_restinf.csv'\n",
    "savefile = os.path.join(savefolder, savefilename)"
   ]
  },
  {
   "cell_type": "markdown",
   "metadata": {},
   "source": [
    "## Start Here"
   ]
  },
  {
   "cell_type": "code",
   "execution_count": 9,
   "metadata": {},
   "outputs": [],
   "source": [
    "df_milddepth = pd.read_excel(inputfile_master, \"Depth of GM array_Mild Channels\")"
   ]
  },
  {
   "cell_type": "code",
   "execution_count": 18,
   "metadata": {},
   "outputs": [
    {
     "name": "stdout",
     "output_type": "stream",
     "text": [
      "     Unnamed: 0  Unnamed: 1 Unnamed: 2 Unnamed: 3 Unnamed: 4 Unnamed: 5  \\\n",
      "0  Target areas  VA/VLo/STN        NaN        NaN        NaN         VA   \n",
      "\n",
      "  Unnamed: 6 Unnamed: 7 Unnamed: 8 Unnamed: 9  ...    Unnamed: 84 Unnamed: 85  \\\n",
      "0        NaN        NaN       VPLo        NaN  ...  Sensory Motor         NaN   \n",
      "\n",
      "  Unnamed: 86 Unnamed: 87 Unnamed: 88 Unnamed: 89 Unnamed: 90 Unnamed: 91  \\\n",
      "0         NaN         NaN         NaN         NaN         NaN         NaN   \n",
      "\n",
      "  Unnamed: 92 Unnamed: 93  \n",
      "0         NaN         NaN  \n",
      "\n",
      "[1 rows x 94 columns]\n"
     ]
    }
   ],
   "source": [
    "print(df_milddepth[:1])"
   ]
  },
  {
   "cell_type": "code",
   "execution_count": 10,
   "metadata": {},
   "outputs": [],
   "source": [
    "target_areas = df_milddepth.get(\"Unnamed: 0\")"
   ]
  },
  {
   "cell_type": "code",
   "execution_count": 11,
   "metadata": {},
   "outputs": [
    {
     "name": "stderr",
     "output_type": "stream",
     "text": [
      "/home/lingling/anaconda3/envs/general/lib/python3.6/site-packages/ipykernel_launcher.py:3: SettingWithCopyWarning: \n",
      "A value is trying to be set on a copy of a slice from a DataFrame\n",
      "\n",
      "See the caveats in the documentation: http://pandas.pydata.org/pandas-docs/stable/user_guide/indexing.html#returning-a-view-versus-a-copy\n",
      "  This is separate from the ipykernel package so we can avoid doing imports until\n"
     ]
    }
   ],
   "source": [
    "for i in range(1, target_area.size):\n",
    "    if(isinstance(target_area[i], float) and isnan(target_area[i])):\n",
    "        target_area[i] = target_area[i-1];"
   ]
  },
  {
   "cell_type": "code",
   "execution_count": 13,
   "metadata": {},
   "outputs": [
    {
     "name": "stdout",
     "output_type": "stream",
     "text": [
      "                             Unnamed: 0  Unnamed: 1 Unnamed: 2 Unnamed: 3  \\\n",
      "0                          Target areas  VA/VLo/STN        NaN        NaN   \n",
      "1                         Dates Channel           4         91          3   \n",
      "2  Begining depth before Nrml recording         146        122       0.25   \n",
      "3           Depth before Mild recording     257.625     228.25     122.25   \n",
      "4      Final depth after Nrml recording     257.625     228.25       0.25   \n",
      "5         Estimated depth (- up/+ down)    -111.625    -106.25         50   \n",
      "6                   2019-02-27 00:00:00         NaN        NaN        NaN   \n",
      "7                   2019-02-27 00:00:00         NaN        NaN        NaN   \n",
      "8                   2019-03-05 00:00:00         NaN        NaN        NaN   \n",
      "9                   2019-03-05 00:00:00         NaN        NaN        NaN   \n",
      "\n",
      "  Unnamed: 4 Unnamed: 5 Unnamed: 6 Unnamed: 7 Unnamed: 8 Unnamed: 9  ...  \\\n",
      "0        NaN         VA        NaN        NaN       VPLo        NaN  ...   \n",
      "1          6          1          7         12         94         95  ...   \n",
      "2          0        126      0.375       2.25        151        153  ...   \n",
      "3        142    225.125    146.375       2.25      227.5    209.875  ...   \n",
      "4          0    225.125      0.375       2.25      227.5    209.875  ...   \n",
      "5         36    -99.125         24         44      -76.5    -56.875  ...   \n",
      "6        NaN        NaN        NaN        NaN        NaN        NaN  ...   \n",
      "7        NaN        NaN        NaN        NaN        NaN        NaN  ...   \n",
      "8        NaN        NaN        NaN        NaN        NaN        NaN  ...   \n",
      "9        NaN        NaN        NaN        NaN        NaN        NaN  ...   \n",
      "\n",
      "     Unnamed: 84 Unnamed: 85 Unnamed: 86 Unnamed: 87 Unnamed: 88 Unnamed: 89  \\\n",
      "0  Sensory Motor         NaN         NaN         NaN         NaN         NaN   \n",
      "1             68          86          90          82          74          78   \n",
      "2              0           0           0           0           0           0   \n",
      "3          27.75       25.75      28.875           0           0           0   \n",
      "4          27.75       25.75      28.875           0           0           0   \n",
      "5         -27.75      -25.75     -28.875          32          32          32   \n",
      "6            NaN         NaN         NaN         NaN         NaN         NaN   \n",
      "7            NaN         NaN         NaN         NaN         NaN         NaN   \n",
      "8            NaN         NaN         NaN         NaN         NaN         NaN   \n",
      "9            NaN         NaN         NaN         NaN         NaN         NaN   \n",
      "\n",
      "  Unnamed: 90        Unnamed: 91 Unnamed: 92 Unnamed: 93  \n",
      "0         NaN                NaN         NaN         NaN  \n",
      "1          71                 64          66         NaN  \n",
      "2           0                  0           0         0.0  \n",
      "3           0                  0           0         NaN  \n",
      "4           0                  0           0         NaN  \n",
      "5          32                 32          32         NaN  \n",
      "6         NaN                NaN         NaN         NaN  \n",
      "7         NaN                NaN         NaN         NaN  \n",
      "8       1.875                  3         NaN         NaN  \n",
      "9       SU+MU  MU, noisy channel         NaN         NaN  \n",
      "\n",
      "[10 rows x 94 columns]\n"
     ]
    }
   ],
   "source": [
    "print(df_milddepth.head(10))"
   ]
  },
  {
   "cell_type": "code",
   "execution_count": null,
   "metadata": {},
   "outputs": [],
   "source": [
    "df = pd.DataFrame({'x':[1,2,3]})"
   ]
  },
  {
   "cell_type": "code",
   "execution_count": null,
   "metadata": {},
   "outputs": [],
   "source": [
    "df"
   ]
  },
  {
   "cell_type": "code",
   "execution_count": null,
   "metadata": {},
   "outputs": [],
   "source": [
    "df0 = df[df.x>2]\n",
    "df0"
   ]
  },
  {
   "cell_type": "code",
   "execution_count": null,
   "metadata": {},
   "outputs": [],
   "source": [
    "df0['foo'] = 'bar'"
   ]
  },
  {
   "cell_type": "code",
   "execution_count": null,
   "metadata": {},
   "outputs": [],
   "source": [
    "slice"
   ]
  },
  {
   "cell_type": "code",
   "execution_count": null,
   "metadata": {},
   "outputs": [],
   "source": [
    "inspect.getmembers(slice_copy)"
   ]
  },
  {
   "cell_type": "code",
   "execution_count": null,
   "metadata": {},
   "outputs": [],
   "source": [
    "import inspect\n",
    "slice= df[df.x>2]\n",
    "slice_copy = df[df.x>2].copy(deep=False)\n",
    "inspect.getmembers(slice)\n",
    "inspect.getmembers(slice_copy)"
   ]
  }
 ],
 "metadata": {
  "kernelspec": {
   "display_name": "Python 3",
   "language": "python",
   "name": "python3"
  },
  "language_info": {
   "codemirror_mode": {
    "name": "ipython",
    "version": 3
   },
   "file_extension": ".py",
   "mimetype": "text/x-python",
   "name": "python",
   "nbconvert_exporter": "python",
   "pygments_lexer": "ipython3",
   "version": "3.6.6"
  },
  "toc": {
   "base_numbering": 1,
   "nav_menu": {},
   "number_sections": false,
   "sideBar": true,
   "skip_h1_title": false,
   "title_cell": "Table of Contents",
   "title_sidebar": "",
   "toc_cell": false,
   "toc_position": {},
   "toc_section_display": true,
   "toc_window_display": true
  }
 },
 "nbformat": 4,
 "nbformat_minor": 2
}
