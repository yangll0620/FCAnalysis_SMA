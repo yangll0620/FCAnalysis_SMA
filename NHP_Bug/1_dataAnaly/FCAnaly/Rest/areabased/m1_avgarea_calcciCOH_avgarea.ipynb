{
 "cells": [
  {
   "cell_type": "markdown",
   "metadata": {},
   "source": [
    "# Functionality of this notebook: \n",
    "\n",
    "* calculate the ciCOH for normal and mild LFP data in rest"
   ]
  },
  {
   "cell_type": "markdown",
   "metadata": {},
   "source": [
    "## Import Packages"
   ]
  },
  {
   "cell_type": "code",
   "execution_count": 1,
   "metadata": {},
   "outputs": [],
   "source": [
    "import os, sys\n",
    "import scipy.io as sio\n",
    "import glob\n",
    "import numpy as np\n",
    "import matplotlib.pyplot as plt\n",
    "import pickle \n",
    "import math\n",
    "import pandas as pd\n",
    "%matplotlib inline"
   ]
  },
  {
   "cell_type": "code",
   "execution_count": 2,
   "metadata": {},
   "outputs": [
    {
     "name": "stdout",
     "output_type": "stream",
     "text": [
      "importing Jupyter notebook from /home/lingling/Insync/yang7003@umn.edu/NMRC_umn/Projects/FCAnalysis/exp/code/util/folder_extract.ipynb\n",
      "importing Jupyter notebook from /home/lingling/Insync/yang7003@umn.edu/NMRC_umn/Projects/FCAnalysis/exp/code/connAnalyTool/synchronization_indices.ipynb\n"
     ]
    }
   ],
   "source": [
    "# extract the exp folder path\n",
    "currfolder = os.getcwd()\n",
    "codefolder = currfolder[0 : currfolder.find('code')+len('code')]\n",
    "\n",
    "# add path the exp folder\n",
    "sys.path.append(codefolder)\n",
    "\n",
    "# import_nbmodule used for import package in .ipynb\n",
    "import import_nbmodule\n",
    "\n",
    "# import util/folder_extract.pynb \n",
    "from util.folder_extract import exp_subfolders, code_corresfolder\n",
    "\n",
    "# import ciCoherence_overtime in connAnalyTool/synchronization_indices.ipynb\n",
    "from connAnalyTool.synchronization_indices import ciCoherence_acrosstrials\n",
    "from connAnalyTool.synchronization_indices import ciCoherence_overtime"
   ]
  },
  {
   "cell_type": "markdown",
   "metadata": {},
   "source": [
    "## exp subfolders & code_corresfolder"
   ]
  },
  {
   "cell_type": "code",
   "execution_count": 3,
   "metadata": {},
   "outputs": [],
   "source": [
    "_, _, pipelinefolder, _= exp_subfolders()"
   ]
  },
  {
   "cell_type": "code",
   "execution_count": 4,
   "metadata": {},
   "outputs": [
    {
     "data": {
      "application/javascript": [
       "IPython.notebook.kernel.execute('nb_name = \"' + IPython.notebook.notebook_name + '\"')\n"
      ],
      "text/plain": [
       "<IPython.core.display.Javascript object>"
      ]
     },
     "metadata": {},
     "output_type": "display_data"
    }
   ],
   "source": [
    "%%javascript\n",
    "IPython.notebook.kernel.execute('nb_name = \"' + IPython.notebook.notebook_name + '\"')"
   ]
  },
  {
   "cell_type": "code",
   "execution_count": 5,
   "metadata": {},
   "outputs": [],
   "source": [
    "nb_name = nb_name[0: nb_name.find('.ipynb')]\n",
    "\n",
    "# corresfolder\n",
    "corresfolder, correparentfolder = code_corresfolder(os.getcwd(), nb_name)"
   ]
  },
  {
   "cell_type": "markdown",
   "metadata": {},
   "source": [
    "## global parameters"
   ]
  },
  {
   "cell_type": "code",
   "execution_count": 10,
   "metadata": {},
   "outputs": [],
   "source": [
    "freq = [11, 13]"
   ]
  },
  {
   "cell_type": "markdown",
   "metadata": {},
   "source": [
    "## input setup"
   ]
  },
  {
   "cell_type": "code",
   "execution_count": 14,
   "metadata": {},
   "outputs": [],
   "source": [
    "inputfolder = os.path.join(pipelinefolder, 'NHP_Bug', '0_dataPrep', 'Rest', 'm6_restData_narrowfiltered11_13')"
   ]
  },
  {
   "cell_type": "code",
   "execution_count": 22,
   "metadata": {},
   "outputs": [],
   "source": [
    "variablesinLoadfile = ['lfpdata', 'fs', 'chnAreas']"
   ]
  },
  {
   "cell_type": "code",
   "execution_count": 28,
   "metadata": {},
   "outputs": [],
   "source": [
    "chnInf_folder = os.path.join(pipelinefolder, 'NHP_Bug', '1_dataAnaly', 'FCAnaly','Rest')\n",
    "chnInf_file = os.path.join(chnInf_folder, 'chn_brainArea_simCoord_BrainArea.csv')"
   ]
  },
  {
   "cell_type": "markdown",
   "metadata": {},
   "source": [
    "## Save Setup"
   ]
  },
  {
   "cell_type": "code",
   "execution_count": 11,
   "metadata": {},
   "outputs": [],
   "source": [
    "savefolder = corresfolder\n",
    "savefilename =  'ciCOH_rest' + '_freq' + str(freq[0]) + '_' + str(freq[1])"
   ]
  },
  {
   "cell_type": "markdown",
   "metadata": {},
   "source": [
    "## extract lfp"
   ]
  },
  {
   "cell_type": "code",
   "execution_count": 23,
   "metadata": {},
   "outputs": [],
   "source": [
    "def lfpallfiles_extract(files):\n",
    "    if 'lfpdata' in locals():\n",
    "        del lfpdata\n",
    "    \n",
    "    for i, file in enumerate(files):\n",
    "        \n",
    "        ### load data\n",
    "        matdat = sio.loadmat(file, variable_names = variablesinLoadfile, \n",
    "                             struct_as_record = False, squeeze_me = True) \n",
    "    \n",
    "             \n",
    "        \n",
    "\n",
    "        ### dealing lfp data\n",
    "        \n",
    "        # lfp (np.ndarray): ntemporal * nchns * ntrials\n",
    "        lfpdata_1file = matdat['lfpdata']\n",
    "        \n",
    "        # concatenate to lfpdata for all files\n",
    "        if 'lfpdata' not in locals():\n",
    "            lfpdata = lfpdata_1file\n",
    "        else:\n",
    "            lfpdata = np.concatenate((lfpdata, lfpdata_1file), axis = 2)\n",
    "          \n",
    "    \n",
    "    return lfpdata"
   ]
  },
  {
   "cell_type": "code",
   "execution_count": 15,
   "metadata": {},
   "outputs": [],
   "source": [
    "files_normal = glob.glob(os.path.join(inputfolder, '*_normal_*'))\n",
    "files_mild = glob.glob(os.path.join(inputfolder, '*_mild_*'))"
   ]
  },
  {
   "cell_type": "code",
   "execution_count": 16,
   "metadata": {},
   "outputs": [
    {
     "name": "stdout",
     "output_type": "stream",
     "text": [
      "14\n",
      "7\n"
     ]
    }
   ],
   "source": [
    "print(len(files_normal))\n",
    "print(len(files_mild))"
   ]
  },
  {
   "cell_type": "code",
   "execution_count": 24,
   "metadata": {},
   "outputs": [],
   "source": [
    "lfpwins_normal = lfpallfiles_extract(files_normal)\n",
    "lfpwins_mild = lfpallfiles_extract(files_mild)"
   ]
  },
  {
   "cell_type": "code",
   "execution_count": 25,
   "metadata": {},
   "outputs": [
    {
     "name": "stdout",
     "output_type": "stream",
     "text": [
      "(1000, 19, 783)\n",
      "(1000, 19, 611)\n"
     ]
    }
   ],
   "source": [
    "print(lfpwins_normal.shape)\n",
    "print(lfpwins_mild.shape)"
   ]
  },
  {
   "cell_type": "markdown",
   "metadata": {},
   "source": [
    "## Assign the xy coord of each chnArea"
   ]
  },
  {
   "cell_type": "code",
   "execution_count": 50,
   "metadata": {},
   "outputs": [],
   "source": [
    "chnAreas = [\"SMA\", \"Sensory Motor\", \"VA\", \"Vlo\", \"VPLo\", \n",
    "           \"stn0-1\", \"stn1-2\", \"stn2-3\", \"stn3-4\", \"stn4-5\", \"stn5-6\", \"stn6-7\",\n",
    "        \"gp0-1\", \"gp1-2\", \"gp2-3\", \"gp3-4\", \"gp4-5\", \"gp5-6\", \"gp6-7\"]\n",
    "\n",
    "\n",
    "# load channel coord from chnInf_file\n",
    "df = pd.read_csv(chnInf_file, header = 0)\n",
    "\n",
    "# fill in the x,y coordinates of each area in chnAreas based on the values in df_chninf\n",
    "coord_x, coord_y = np.zeros(shape = [len(chnAreas), ]), np.zeros(shape = [len(chnAreas), ])\n",
    "for i, chnArea in enumerate(chnAreas):\n",
    "    \n",
    "    mask_area = (chnArea == df['brainarea'])\n",
    "\n",
    "    x, y = df['simulated_x'][mask_area].to_numpy(), df['simulated_y'][mask_area].to_numpy()\n",
    "\n",
    "    coord_x[i], coord_y[i] = x, y\n",
    "    \n",
    "    del mask_area, x, y\n",
    "\n",
    "df_chninf = pd.DataFrame(data = {'chnAreas': chnAreas, 'coord_x': coord_x, 'coord_y': coord_y})\n",
    "    \n",
    "del df, coord_x, coord_y"
   ]
  },
  {
   "cell_type": "markdown",
   "metadata": {},
   "source": [
    "## Calculate ciCOH"
   ]
  },
  {
   "cell_type": "markdown",
   "metadata": {},
   "source": [
    "### balance mild and normal trials"
   ]
  },
  {
   "cell_type": "code",
   "execution_count": 52,
   "metadata": {},
   "outputs": [],
   "source": [
    "# select the smaller trial number\n",
    "ntrials_normal, ntrials_mild = lfpwins_normal.shape[2], lfpwins_mild.shape[2]\n",
    "\n",
    "ntrials = min([ntrials_normal, ntrials_mild])\n",
    "\n",
    "# balance trials by randomly selecting ntrials\n",
    "idx_ntrials = np.random.randint(ntrials_normal, size = ntrials)\n",
    "lfpwins_normal = lfpwins_normal[:,:,idx_ntrials]\n",
    "\n",
    "idx_ntrials = np.random.randint(ntrials_mild, size = ntrials)\n",
    "lfpwins_mild = lfpwins_mild[:,:,idx_ntrials]"
   ]
  },
  {
   "cell_type": "markdown",
   "metadata": {},
   "source": [
    "###  normal ciCOH"
   ]
  },
  {
   "cell_type": "code",
   "execution_count": 53,
   "metadata": {},
   "outputs": [
    {
     "name": "stdout",
     "output_type": "stream",
     "text": [
      "wini = 0/611\n",
      "wini = 100/611\n",
      "wini = 200/611\n",
      "wini = 300/611\n",
      "wini = 400/611\n",
      "wini = 500/611\n",
      "wini = 600/611\n",
      "ciCOH calculated!!\n"
     ]
    }
   ],
   "source": [
    "lfpwins_allfiles = lfpwins_normal\n",
    "\n",
    "### calculate ciCOH\n",
    "ntempo, nchns, nwins = lfpwins_allfiles.shape\n",
    "ciCOH_allWins = np.zeros((nchns, nchns, nwins))\n",
    "for wini in range(nwins):\n",
    "    \n",
    "    if wini % 100 == 0:\n",
    "        print(\"wini = \" + str(wini) + \"/\" + str(nwins))\n",
    "    \n",
    "    for chni in range(nchns -1):\n",
    "        signal1 = lfpwins_allfiles[:, chni, wini]\n",
    "        \n",
    "        for chnj in range(chni+1, nchns):\n",
    "            signal2 = lfpwins_allfiles[:, chnj, wini]\n",
    "            \n",
    "            # ciCOH_allWins assignment\n",
    "            ciCOH_allWins[chni, chnj, wini] = ciCoherence_overtime(signal1, signal2)\n",
    "            \n",
    "            # symmetrical\n",
    "            ciCOH_allWins[chnj, chni, wini] = ciCOH_allWins[chni, chnj, wini]\n",
    "            \n",
    "            del signal2\n",
    "        del signal1\n",
    "        \n",
    "print(\"ciCOH calculated!!\")"
   ]
  },
  {
   "cell_type": "code",
   "execution_count": 54,
   "metadata": {},
   "outputs": [],
   "source": [
    "ciCOH = np.mean(ciCOH_allWins, axis = 2)\n",
    "ciCOH_normal = ciCOH\n",
    "del ciCOH, ciCOH_allWins"
   ]
  },
  {
   "cell_type": "markdown",
   "metadata": {},
   "source": [
    "### mild ciCOH"
   ]
  },
  {
   "cell_type": "code",
   "execution_count": 55,
   "metadata": {},
   "outputs": [
    {
     "name": "stdout",
     "output_type": "stream",
     "text": [
      "wini = 0/611\n",
      "wini = 100/611\n",
      "wini = 200/611\n",
      "wini = 300/611\n",
      "wini = 400/611\n",
      "wini = 500/611\n",
      "wini = 600/611\n",
      "ciCOH calculated!!\n"
     ]
    }
   ],
   "source": [
    "lfpwins_allfiles = lfpwins_mild\n",
    "\n",
    "### calculate ciCOH\n",
    "ntempo, nchns, nwins = lfpwins_allfiles.shape\n",
    "ciCOH_allWins = np.zeros((nchns, nchns, nwins))\n",
    "for wini in range(nwins):\n",
    "    \n",
    "    if wini%100 ==0:\n",
    "        print(\"wini = \" + str(wini) + \"/\" + str(nwins))\n",
    "        \n",
    "    for chni in range(nchns -1):\n",
    "        signal1 = lfpwins_allfiles[:, chni, wini]\n",
    "        \n",
    "        for chnj in range(chni+1, nchns):\n",
    "            signal2 = lfpwins_allfiles[:, chnj, wini]\n",
    "            \n",
    "            # ciCOH_allWins assignment\n",
    "            ciCOH_allWins[chni, chnj, wini] = ciCoherence_overtime(signal1, signal2)\n",
    "            \n",
    "            # symmetrical\n",
    "            ciCOH_allWins[chnj, chni, wini] = ciCOH_allWins[chni, chnj, wini]\n",
    "            \n",
    "            del signal2\n",
    "        del signal1\n",
    "print(\"ciCOH calculated!!\")"
   ]
  },
  {
   "cell_type": "code",
   "execution_count": 56,
   "metadata": {},
   "outputs": [],
   "source": [
    "ciCOH = np.mean(ciCOH_allWins, axis = 2)\n",
    "ciCOH_mild = ciCOH\n",
    "del ciCOH, ciCOH_allWins"
   ]
  },
  {
   "cell_type": "markdown",
   "metadata": {},
   "source": [
    "## save ciCOH"
   ]
  },
  {
   "cell_type": "code",
   "execution_count": 57,
   "metadata": {},
   "outputs": [],
   "source": [
    "ciCOH = dict()\n",
    "ciCOH['normal'], ciCOH['mild']  = ciCOH_normal, ciCOH_mild, \n",
    "\n",
    "\n",
    "fc = dict()\n",
    "fc['ciCOH'] = ciCOH\n",
    "fc['chnInf'] = df_chninf\n",
    "fc['ntrials'] = ntrials"
   ]
  },
  {
   "cell_type": "code",
   "execution_count": 58,
   "metadata": {},
   "outputs": [],
   "source": [
    "with open(os.path.join(savefolder, savefilename + '.pickle'), 'wb') as fp:\n",
    "    pickle.dump(fc, fp, protocol=pickle.HIGHEST_PROTOCOL)"
   ]
  },
  {
   "cell_type": "code",
   "execution_count": 59,
   "metadata": {},
   "outputs": [
    {
     "data": {
      "text/plain": [
       "'/home/lingling/Insync/yang7003@umn.edu/NMRC_umn/Projects/FCAnalysis/exp/pipeline/NHP_Bug/1_dataAnaly/FCAnaly/Rest/areabased/m1_avgarea_calcciCOH_avgarea/ciCOH_rest_freq11_13'"
      ]
     },
     "execution_count": 59,
     "metadata": {},
     "output_type": "execute_result"
    }
   ],
   "source": [
    "os.path.join(savefolder, savefilename)"
   ]
  },
  {
   "cell_type": "code",
   "execution_count": null,
   "metadata": {},
   "outputs": [],
   "source": []
  }
 ],
 "metadata": {
  "kernelspec": {
   "display_name": "Python 3",
   "language": "python",
   "name": "python3"
  },
  "language_info": {
   "codemirror_mode": {
    "name": "ipython",
    "version": 3
   },
   "file_extension": ".py",
   "mimetype": "text/x-python",
   "name": "python",
   "nbconvert_exporter": "python",
   "pygments_lexer": "ipython3",
   "version": "3.8.1"
  },
  "toc": {
   "base_numbering": 1,
   "nav_menu": {
    "height": "238px",
    "width": "482px"
   },
   "number_sections": false,
   "sideBar": true,
   "skip_h1_title": true,
   "title_cell": "Table of Contents",
   "title_sidebar": "",
   "toc_cell": false,
   "toc_position": {
    "height": "calc(100% - 180px)",
    "left": "10px",
    "top": "150px",
    "width": "165px"
   },
   "toc_section_display": true,
   "toc_window_display": false
  }
 },
 "nbformat": 4,
 "nbformat_minor": 2
}
