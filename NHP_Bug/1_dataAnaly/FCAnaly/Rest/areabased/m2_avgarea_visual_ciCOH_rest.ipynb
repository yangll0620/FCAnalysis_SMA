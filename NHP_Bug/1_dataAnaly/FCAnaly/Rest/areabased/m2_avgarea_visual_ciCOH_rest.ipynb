{
 "cells": [
  {
   "cell_type": "markdown",
   "metadata": {},
   "source": [
    "# Functionality: visualization of functional connectivity\n",
    "\n",
    "<ul>\n",
    "    <li>visualize the ciCOH in mild and normal state</li>\n",
    "</ul>"
   ]
  },
  {
   "cell_type": "markdown",
   "metadata": {},
   "source": [
    "## Import Packages "
   ]
  },
  {
   "cell_type": "code",
   "execution_count": 1,
   "metadata": {
    "scrolled": true
   },
   "outputs": [],
   "source": [
    "import os, sys\n",
    "import numpy as np\n",
    "import pandas as pd\n",
    "\n",
    "import pickle\n",
    "\n",
    "from igraph.drawing.text import TextDrawer\n",
    "import cairo"
   ]
  },
  {
   "cell_type": "code",
   "execution_count": 2,
   "metadata": {},
   "outputs": [
    {
     "name": "stdout",
     "output_type": "stream",
     "text": [
      "importing Jupyter notebook from /home/lingling/Insync/yang7003@umn.edu/NMRC_umn/Projects/FCAnalysis/exp/code/connAnalyTool/graphVisual.ipynb\n",
      "importing Jupyter notebook from /home/lingling/Insync/yang7003@umn.edu/NMRC_umn/Projects/FCAnalysis/exp/code/simulated/ciCOH_threshold.ipynb\n",
      "importing Jupyter notebook from /home/lingling/Insync/yang7003@umn.edu/NMRC_umn/Projects/FCAnalysis/exp/code/simulated/simulated_timeseries.ipynb\n",
      "importing Jupyter notebook from /home/lingling/Insync/yang7003@umn.edu/NMRC_umn/Projects/FCAnalysis/exp/code/simulated/addnoise.ipynb\n"
     ]
    }
   ],
   "source": [
    "# import_nbmodule used for import package in .ipynb\n",
    "import import_nbmodule\n",
    "\n",
    "# extract the exp folder path\n",
    "currfolder = os.getcwd()\n",
    "codefolder = currfolder[0 : currfolder.find('code')+len('code')]\n",
    "\n",
    "# add path the exp folder\n",
    "sys.path.append(codefolder)\n",
    "\n",
    "\n",
    "# import animal_folder function in util/folder_extract.pynb \n",
    "from util.folder_extract import exp_subfolders, code_corresfolder\n",
    "\n",
    "# import graphVisual in connAnalyTool/graphVisual.pynb \n",
    "from connAnalyTool import graphVisual\n",
    "\n",
    "\n",
    "from simulated.ciCOH_threshold import threshold_ciCOH_sin, corr_threshold_ciCOH_sin_BH"
   ]
  },
  {
   "cell_type": "markdown",
   "metadata": {},
   "source": [
    "## Preparison"
   ]
  },
  {
   "cell_type": "markdown",
   "metadata": {},
   "source": [
    "### exp subfolders & code_corresfolder"
   ]
  },
  {
   "cell_type": "code",
   "execution_count": 3,
   "metadata": {},
   "outputs": [
    {
     "data": {
      "application/javascript": [
       "IPython.notebook.kernel.execute('nb_name = \"' + IPython.notebook.notebook_name + '\"')\n"
      ],
      "text/plain": [
       "<IPython.core.display.Javascript object>"
      ]
     },
     "metadata": {},
     "output_type": "display_data"
    }
   ],
   "source": [
    "%%javascript\n",
    "IPython.notebook.kernel.execute('nb_name = \"' + IPython.notebook.notebook_name + '\"')"
   ]
  },
  {
   "cell_type": "code",
   "execution_count": 4,
   "metadata": {},
   "outputs": [],
   "source": [
    "nb_name = nb_name[0: nb_name.find('.ipynb')]\n",
    "\n",
    "# corresfolder\n",
    "corresfolder,correparentfolder = code_corresfolder(os.getcwd(), nb_name)"
   ]
  },
  {
   "cell_type": "markdown",
   "metadata": {},
   "source": [
    "### global parameters"
   ]
  },
  {
   "cell_type": "code",
   "execution_count": 5,
   "metadata": {},
   "outputs": [],
   "source": [
    "# frequency\n",
    "freq = [11, 13]\n",
    "strfreq = 'freq' + str(freq[0]) + '_' + str(freq[1])\n",
    "f = (freq[0] + freq[1])//2\n",
    "\n",
    "# eventphase\n",
    "event = 'rest'\n"
   ]
  },
  {
   "cell_type": "code",
   "execution_count": 6,
   "metadata": {},
   "outputs": [],
   "source": [
    "### text setup for brain areas ###\n",
    "texts_area = dict()\n",
    "\n",
    "texts_area['VPLo'] = [-90, 145, 20]\n",
    "\n",
    "texts_area['VLo'] = [-90, 180, 20]\n",
    "\n",
    "texts_area['VA'] = [-90, 215, 20]\n",
    "\n",
    "texts_area['SMA'] = [100, 530, 20]\n",
    "\n",
    "texts_area['Sensory Motor'] = [50, 590, 20]\n",
    "\n",
    "texts_area['STN'] = [330, 120, 20]\n",
    "\n",
    "texts_area['GP'] = [430, 220, 20]\n",
    "\n",
    "pos_text_title = [-40, 60, 30]\n",
    "\n",
    "pos_text_thred = [-40, 70, 10]"
   ]
  },
  {
   "cell_type": "code",
   "execution_count": 7,
   "metadata": {},
   "outputs": [],
   "source": [
    "nfault_thresholdBH = 2"
   ]
  },
  {
   "cell_type": "markdown",
   "metadata": {},
   "source": [
    "### input setup"
   ]
  },
  {
   "cell_type": "code",
   "execution_count": 8,
   "metadata": {},
   "outputs": [],
   "source": [
    "inputfolder = os.path.join(correparentfolder, 'm1_avgarea_calcciCOH_avgarea')\n",
    "filename =  'ciCOH_rest' + '_freq' + str(freq[0]) + '_' + str(freq[1])\n",
    "\n",
    "file = os.path.join(inputfolder, filename + '.pickle')"
   ]
  },
  {
   "cell_type": "markdown",
   "metadata": {},
   "source": [
    "### save setup"
   ]
  },
  {
   "cell_type": "code",
   "execution_count": 9,
   "metadata": {},
   "outputs": [],
   "source": [
    "savefolder = corresfolder\n",
    "savefile_fcgraph_prefix = 'ciCOH_' + event + '_' + strfreq\n",
    "\n",
    "savefile_hist_prefix = 'hist_' + event + '_' + strfreq\n",
    "    "
   ]
  },
  {
   "cell_type": "code",
   "execution_count": 10,
   "metadata": {},
   "outputs": [],
   "source": [
    "filename_threshold = 'threshold' \n",
    "savefolder_threshold = os.path.join(savefolder, '..')\n",
    "file_threshold = os.path.join(savefolder_threshold, filename_threshold + '.pickle')"
   ]
  },
  {
   "cell_type": "markdown",
   "metadata": {},
   "source": [
    "## pre-visual "
   ]
  },
  {
   "cell_type": "markdown",
   "metadata": {},
   "source": [
    "### load ciCOH and Channel"
   ]
  },
  {
   "cell_type": "code",
   "execution_count": 11,
   "metadata": {},
   "outputs": [],
   "source": [
    "fp = open(file, 'rb')\n",
    "fc = pickle.load(fp)\n",
    "\n",
    "\n",
    "# ciCOH_normal, ciCOH_mild: numpy.ndarray(nchns * nchns)\n",
    "ciCOH_normal, ciCOH_mild  = fc['ciCOH']['normal'], fc['ciCOH']['mild']\n",
    "ciCOH_moderate  = fc['ciCOH']['moderate']\n",
    "\n",
    "# channel information chnInf: pandas.core.frame.DataFrame(nchns * 3)\n",
    "chnInf = fc['chnInf']\n",
    "\n",
    "\n",
    "ntrials = fc['ntrials']"
   ]
  },
  {
   "cell_type": "code",
   "execution_count": 12,
   "metadata": {},
   "outputs": [
    {
     "data": {
      "text/html": [
       "<div>\n",
       "<style scoped>\n",
       "    .dataframe tbody tr th:only-of-type {\n",
       "        vertical-align: middle;\n",
       "    }\n",
       "\n",
       "    .dataframe tbody tr th {\n",
       "        vertical-align: top;\n",
       "    }\n",
       "\n",
       "    .dataframe thead th {\n",
       "        text-align: right;\n",
       "    }\n",
       "</style>\n",
       "<table border=\"1\" class=\"dataframe\">\n",
       "  <thead>\n",
       "    <tr style=\"text-align: right;\">\n",
       "      <th></th>\n",
       "      <th>chnAreas</th>\n",
       "      <th>coord_x</th>\n",
       "      <th>coord_y</th>\n",
       "    </tr>\n",
       "  </thead>\n",
       "  <tbody>\n",
       "    <tr>\n",
       "      <th>0</th>\n",
       "      <td>gp0-1</td>\n",
       "      <td>0.2</td>\n",
       "      <td>-0.10</td>\n",
       "    </tr>\n",
       "    <tr>\n",
       "      <th>1</th>\n",
       "      <td>gp1-2</td>\n",
       "      <td>0.2</td>\n",
       "      <td>-0.12</td>\n",
       "    </tr>\n",
       "    <tr>\n",
       "      <th>2</th>\n",
       "      <td>gp2-3</td>\n",
       "      <td>0.2</td>\n",
       "      <td>-0.14</td>\n",
       "    </tr>\n",
       "    <tr>\n",
       "      <th>3</th>\n",
       "      <td>gp3-4</td>\n",
       "      <td>0.2</td>\n",
       "      <td>-0.16</td>\n",
       "    </tr>\n",
       "    <tr>\n",
       "      <th>4</th>\n",
       "      <td>gp4-5</td>\n",
       "      <td>0.2</td>\n",
       "      <td>-0.18</td>\n",
       "    </tr>\n",
       "    <tr>\n",
       "      <th>5</th>\n",
       "      <td>gp5-6</td>\n",
       "      <td>0.2</td>\n",
       "      <td>-0.20</td>\n",
       "    </tr>\n",
       "    <tr>\n",
       "      <th>6</th>\n",
       "      <td>gp6-7</td>\n",
       "      <td>0.2</td>\n",
       "      <td>-0.22</td>\n",
       "    </tr>\n",
       "    <tr>\n",
       "      <th>7</th>\n",
       "      <td>SMA</td>\n",
       "      <td>0.0</td>\n",
       "      <td>-0.04</td>\n",
       "    </tr>\n",
       "    <tr>\n",
       "      <th>8</th>\n",
       "      <td>stn0-1</td>\n",
       "      <td>0.1</td>\n",
       "      <td>-0.24</td>\n",
       "    </tr>\n",
       "    <tr>\n",
       "      <th>9</th>\n",
       "      <td>stn1-2</td>\n",
       "      <td>0.1</td>\n",
       "      <td>-0.26</td>\n",
       "    </tr>\n",
       "    <tr>\n",
       "      <th>10</th>\n",
       "      <td>stn2-3</td>\n",
       "      <td>0.1</td>\n",
       "      <td>-0.28</td>\n",
       "    </tr>\n",
       "    <tr>\n",
       "      <th>11</th>\n",
       "      <td>stn3-4</td>\n",
       "      <td>0.1</td>\n",
       "      <td>-0.30</td>\n",
       "    </tr>\n",
       "    <tr>\n",
       "      <th>12</th>\n",
       "      <td>stn4-5</td>\n",
       "      <td>0.1</td>\n",
       "      <td>-0.32</td>\n",
       "    </tr>\n",
       "    <tr>\n",
       "      <th>13</th>\n",
       "      <td>stn5-6</td>\n",
       "      <td>0.1</td>\n",
       "      <td>-0.34</td>\n",
       "    </tr>\n",
       "    <tr>\n",
       "      <th>14</th>\n",
       "      <td>stn6-7</td>\n",
       "      <td>0.1</td>\n",
       "      <td>-0.36</td>\n",
       "    </tr>\n",
       "    <tr>\n",
       "      <th>15</th>\n",
       "      <td>Sensory Motor</td>\n",
       "      <td>0.0</td>\n",
       "      <td>0.00</td>\n",
       "    </tr>\n",
       "    <tr>\n",
       "      <th>16</th>\n",
       "      <td>VA</td>\n",
       "      <td>-0.2</td>\n",
       "      <td>-0.24</td>\n",
       "    </tr>\n",
       "    <tr>\n",
       "      <th>17</th>\n",
       "      <td>VLo</td>\n",
       "      <td>-0.2</td>\n",
       "      <td>-0.26</td>\n",
       "    </tr>\n",
       "    <tr>\n",
       "      <th>18</th>\n",
       "      <td>VPLo</td>\n",
       "      <td>-0.2</td>\n",
       "      <td>-0.28</td>\n",
       "    </tr>\n",
       "  </tbody>\n",
       "</table>\n",
       "</div>"
      ],
      "text/plain": [
       "         chnAreas  coord_x  coord_y\n",
       "0           gp0-1      0.2    -0.10\n",
       "1           gp1-2      0.2    -0.12\n",
       "2           gp2-3      0.2    -0.14\n",
       "3           gp3-4      0.2    -0.16\n",
       "4           gp4-5      0.2    -0.18\n",
       "5           gp5-6      0.2    -0.20\n",
       "6           gp6-7      0.2    -0.22\n",
       "7             SMA      0.0    -0.04\n",
       "8          stn0-1      0.1    -0.24\n",
       "9          stn1-2      0.1    -0.26\n",
       "10         stn2-3      0.1    -0.28\n",
       "11         stn3-4      0.1    -0.30\n",
       "12         stn4-5      0.1    -0.32\n",
       "13         stn5-6      0.1    -0.34\n",
       "14         stn6-7      0.1    -0.36\n",
       "15  Sensory Motor      0.0     0.00\n",
       "16             VA     -0.2    -0.24\n",
       "17            VLo     -0.2    -0.26\n",
       "18           VPLo     -0.2    -0.28"
      ]
     },
     "execution_count": 12,
     "metadata": {},
     "output_type": "execute_result"
    }
   ],
   "source": [
    "chnInf"
   ]
  },
  {
   "cell_type": "markdown",
   "metadata": {},
   "source": [
    "### extract chnInf_brainarea "
   ]
  },
  {
   "cell_type": "code",
   "execution_count": 13,
   "metadata": {},
   "outputs": [],
   "source": [
    "### Extract chnInf_brainarea ##\n",
    "\n",
    "# chnInf_brainarea\n",
    "chnInf_brainarea = chnInf['chnAreas'].to_list()\n",
    "\n",
    "\n",
    "# chnInf_coord\n",
    "x, y = chnInf['coord_x'].to_numpy(), chnInf['coord_y'].to_numpy()\n",
    "x, y = np.expand_dims(x, axis = 1), np.expand_dims(y, axis = 1)\n",
    "chnInf_coord = np.concatenate((x, y), axis = 1)\n",
    "\n",
    "\n",
    "# chnInf_brainarea and chnInf_recchni\n",
    "chnInf_brainarea = list()\n",
    "chnInf_recchni = list()\n",
    "\n",
    "for chnArea in chnInf['chnAreas'].to_list():\n",
    "    \n",
    "    if 'stn' in chnArea:\n",
    "        chnInf_brainarea.append('STN')\n",
    "        chnInf_recchni.append(chnArea[3:])\n",
    "        \n",
    "    elif 'gp' in chnArea:\n",
    "        chnInf_brainarea.append('GP')\n",
    "        \n",
    "        chnInf_recchni.append(chnArea[2:])\n",
    "    else:\n",
    "        if chnArea[0] == 'l' or chnArea[0] == 'r': \n",
    "            chnInf_brainarea.append(chnArea[1:])\n",
    "        else:\n",
    "            chnInf_brainarea.append(chnArea)\n",
    "        \n",
    "        chnInf_recchni.append('')"
   ]
  },
  {
   "cell_type": "markdown",
   "metadata": {},
   "source": [
    "### calucalte threshold "
   ]
  },
  {
   "cell_type": "code",
   "execution_count": 14,
   "metadata": {},
   "outputs": [],
   "source": [
    "ntimes = ciCOH_mild.shape[0] *  ciCOH_mild.shape[1]"
   ]
  },
  {
   "cell_type": "code",
   "execution_count": 15,
   "metadata": {},
   "outputs": [
    {
     "name": "stdout",
     "output_type": "stream",
     "text": [
      "identifying the ciCOH threshold using sinc.....\n",
      "run the sinc simulation at timei = 0/361\n",
      "run the sinc simulation at timei = 100/361\n",
      "run the sinc simulation at timei = 200/361\n",
      "run the sinc simulation at timei = 300/361\n"
     ]
    },
    {
     "data": {
      "image/png": "[encoded data removed]",
      "text/plain": [
       "<Figure size 432x288 with 1 Axes>"
      ]
     },
     "metadata": {
      "needs_background": "light"
     },
     "output_type": "display_data"
    },
    {
     "name": "stdout",
     "output_type": "stream",
     "text": [
      "threshold = 0.06, mu = -0.0004600825564330279, std = 0.031328786207402606\n"
     ]
    }
   ],
   "source": [
    "## read or calcualte threshold, mu, std ##\n",
    "\n",
    "\n",
    "df = pd.DataFrame(columns = ['ntimes', 'ntrials', 'f','threshold', 'mu', 'std'])\n",
    "\n",
    "record_exist = False\n",
    "if(os.path.exists(file_threshold)):\n",
    "    # file_threshold exists\n",
    "    \n",
    "    # read \n",
    "    df = pd.read_pickle(file_threshold)\n",
    "    \n",
    "    \n",
    "    # check if threshold under the ntimes and f exist \n",
    "    mask = (df['ntimes'] == ntimes) & (df['ntrials'] == ntrials) & (df['f'] == f)\n",
    "    \n",
    "    \n",
    "    if(df.loc[mask].shape[0] == 1): # record exist\n",
    "        \n",
    "        record_exist = True\n",
    "        \n",
    "        df1 = df.loc[mask]\n",
    "\n",
    "        threshold = df1['threshold'].to_numpy()\n",
    "        mu, std = df1['mu'].to_numpy(), df1['std'].to_numpy()\n",
    "\n",
    "        del df1\n",
    "        \n",
    "if not record_exist: # run threshold_ciCOH_sin if record not exist\n",
    "    threshold, mu, std = threshold_ciCOH_sin(ntimes = ntimes, ntrials = ntrials, ntemp = 1000, f = f)\n",
    "    \n",
    "    \n",
    "    # store the new record\n",
    "    thred_sets = dict()\n",
    "    thred_sets['ntimes'],  thred_sets['ntrials'], thred_sets['f'] = ntimes, ntrials, f\n",
    "    thred_sets['mu'], thred_sets['std'] = mu, std\n",
    "    thred_sets['threshold'] = threshold\n",
    "\n",
    "    df = df.append(thred_sets, ignore_index = True)\n",
    "\n",
    "    # write to file_threshold\n",
    "    df.to_pickle(file_threshold)"
   ]
  },
  {
   "cell_type": "code",
   "execution_count": 16,
   "metadata": {},
   "outputs": [
    {
     "name": "stdout",
     "output_type": "stream",
     "text": [
      "nfalse number = 2, false rate = 0.00554016620498615\n",
      "identifying the ciCOH corrected threshold using sinc and Benjamini-Hochberg procedure....\n",
      "corrected threshold = 0.09669560423101285\n"
     ]
    }
   ],
   "source": [
    "## correct threshold using BH method ##\n",
    "\n",
    "\n",
    "# extract ciCOHs_actual as a np.ndarray(nchns * (nchns -1)/2)\n",
    "nchns = ciCOH_normal.shape[0]\n",
    "ciCOHs_actual = list()\n",
    "for chni in range(nchns -1):\n",
    "    for chnj in range(chni+1, nchns):\n",
    "        ciCOHs_actual.append(ciCOH_normal[chni][chnj])\n",
    "        \n",
    "for chni in range(nchns -1):\n",
    "    for chnj in range(chni+1, nchns):\n",
    "        ciCOHs_actual.append(ciCOH_mild[chni][chnj])\n",
    "        \n",
    "ciCOHs_actual = np.asarray(ciCOHs_actual)\n",
    "\n",
    "\n",
    "# false_rate\n",
    "false_rate = nfault_thresholdBH / ntimes\n",
    "print(\"nfalse number = \"  + str(nfault_thresholdBH)+ \", false rate = \" + str(false_rate))\n",
    "\n",
    "\n",
    "\n",
    "# corrected threshold using BH method\n",
    "threshold_BH, _, _ = corr_threshold_ciCOH_sin_BH(ciCOHs_actual = ciCOHs_actual, ntimes = ntimes, ntrials = ntrials, \n",
    "                            ntemp = 1000, mu = mu, std = std, f = f, t = 1, false_rate = false_rate)"
   ]
  },
  {
   "cell_type": "markdown",
   "metadata": {},
   "source": [
    "## FC Graph"
   ]
  },
  {
   "cell_type": "code",
   "execution_count": 17,
   "metadata": {},
   "outputs": [],
   "source": [
    "def ciCOH_visual_save(ciCOH, chn_area, chn_coord, str_recchnishow, lowweight, tobesavedfile, texts, threds = None):\n",
    "    \"\"\"\n",
    "        \n",
    "        Args:\n",
    "            \n",
    "            ciCOH (np.sdarray): ciCOH matrix (nchns, nchns)\n",
    "            \n",
    "            chn_area (list): a list of string representing brain area for each channel, len(chn_area) = nchns\n",
    "            \n",
    "            chn_coord (numpy.ndarray): x, y coordinates for each channel, shape = (nchns, 2)\n",
    "            \n",
    "            chn_recchni(list): showed recording chni for each channel, shape = (nchns, )\n",
    "            \n",
    "            lowweight: the threshold lowweight, only weight>lowweight is treated as connection\n",
    "            \n",
    "            tobesavedfile: file to save the visualized figure\n",
    "            \n",
    "            texts:\n",
    "            \n",
    "        Output:\n",
    "            the visualizaton of ciCOH is saved in tobesavedfile\n",
    "            \n",
    "    \"\"\"\n",
    "    \n",
    "    weight = abs(ciCOH)\n",
    "\n",
    "    # weight > lowweight\n",
    "    weight[np.where(weight<lowweight)] =0\n",
    "    \n",
    "    \n",
    "    # create new graph\n",
    "    graph = graphVisual.graph_create(weight, vsarea = chn_area, vscoord = chn_coord, vschni = str_recchnishow)\n",
    "\n",
    "    \n",
    "    # set graph visualization style\n",
    "    visual_style = dict()\n",
    "    if threds is not None:\n",
    "        colors_opt = ['gray', 'blue' ,'green','red']\n",
    "        \n",
    "        colors = ['black'] * len(graph.es['weight'])\n",
    "        for i, w in enumerate(graph.es['weight']):\n",
    "            if w > threds[2]: \n",
    "                colors[i] = colors_opt[3]\n",
    "            elif w > threds[1]:\n",
    "                colors[i] = colors_opt[2]\n",
    "            elif w > threds[0]:\n",
    "                colors[i] = colors_opt[1]\n",
    "                \n",
    "        visual_style['edge_color'] = colors\n",
    "\n",
    "    visual_style = graphVisual.graph_style(graph, visual_style)\n",
    "    \n",
    "\n",
    "     # plot graph\n",
    "    igplot = graphVisual.graph_plot(graph, visual_style, texts = texts)\n",
    "    \n",
    "    # save graph\n",
    "    igplot.save(tobesavedfile)\n",
    "    \n",
    "    return igplot"
   ]
  },
  {
   "cell_type": "code",
   "execution_count": 18,
   "metadata": {},
   "outputs": [],
   "source": [
    "# threshold lowweight\n",
    "lowweight = np.round(threshold_BH, decimals = 2)\n",
    "\n",
    "if lowweight < threshold_BH:\n",
    "    lowweight  = np.around(lowweight + 0.01, decimals = 2)"
   ]
  },
  {
   "cell_type": "code",
   "execution_count": 19,
   "metadata": {},
   "outputs": [],
   "source": [
    "xmax = max(np.amax(abs(ciCOH_normal)), np.amax(abs(ciCOH_mild)))\n",
    "threds = [lowweight, lowweight + (xmax - lowweight)/3, lowweight + (xmax - lowweight) * 2/3]\n",
    "threds = np.around(threds, decimals=2)"
   ]
  },
  {
   "cell_type": "markdown",
   "metadata": {},
   "source": [
    "### normal"
   ]
  },
  {
   "cell_type": "code",
   "execution_count": 20,
   "metadata": {},
   "outputs": [
    {
     "name": "stdout",
     "output_type": "stream",
     "text": [
      "Figure saved to /home/lingling/Insync/yang7003@umn.edu/NMRC_umn/Projects/FCAnalysis/exp/pipeline/NHP_Bug/1_dataAnaly/FCAnaly/Rest/areabased/m2_avgarea_visual_ciCOH_rest/ciCOH_rest_freq11_13_lowweight0.1_normal.png\n"
     ]
    }
   ],
   "source": [
    "\"\"\"\n",
    "    normal condition\n",
    "\"\"\"\n",
    "\n",
    "\n",
    "\n",
    "condition = 'normal'\n",
    "\n",
    "\n",
    "# save file config\n",
    "savefilename = savefile_fcgraph_prefix + '_lowweight' + str(lowweight) + '_' + condition + '.png'\n",
    "savefile = os.path.join(savefolder, savefilename)\n",
    "\n",
    "# printed text config\n",
    "texts = texts_area.copy()\n",
    "\n",
    "# add condition text\n",
    "texts[condition] = pos_text_title\n",
    "\n",
    "\n",
    "text_thred = 'thred = ' + str(lowweight)\n",
    "texts[text_thred] = pos_text_thred\n",
    "\n",
    "# visualize and save\n",
    "igplot = ciCOH_visual_save(ciCOH_normal, \n",
    "                           chn_area = chnInf_brainarea, \n",
    "                           chn_coord = chnInf_coord,\n",
    "                           str_recchnishow = chnInf_recchni,\n",
    "                           lowweight = lowweight,  \n",
    "                           tobesavedfile = savefile, \n",
    "                           texts = texts,\n",
    "                           threds = threds)\n",
    "\n",
    "igplot.show()\n",
    "\n",
    "print(\"Figure saved to \" + savefile)\n",
    "\n",
    "del condition, savefilename, savefile, texts, igplot"
   ]
  },
  {
   "cell_type": "markdown",
   "metadata": {},
   "source": [
    "### mild"
   ]
  },
  {
   "cell_type": "code",
   "execution_count": 21,
   "metadata": {},
   "outputs": [
    {
     "name": "stdout",
     "output_type": "stream",
     "text": [
      "Figure saved to /home/lingling/Insync/yang7003@umn.edu/NMRC_umn/Projects/FCAnalysis/exp/pipeline/NHP_Bug/1_dataAnaly/FCAnaly/Rest/areabased/m2_avgarea_visual_ciCOH_rest/ciCOH_rest_freq11_13_lowweight0.1_mild.png\n"
     ]
    }
   ],
   "source": [
    "\"\"\"\n",
    "    mild condition\n",
    "\"\"\"\n",
    "\n",
    "\n",
    "condition = 'mild'\n",
    "\n",
    "\n",
    "# save file config\n",
    "savefilename = savefile_fcgraph_prefix + '_lowweight' + str(lowweight) + '_' + condition + '.png'\n",
    "savefile = os.path.join(savefolder, savefilename)\n",
    "\n",
    "# printed text config\n",
    "texts = texts_area.copy()\n",
    "\n",
    "# add condition text\n",
    "texts[condition] = pos_text_title\n",
    "\n",
    "\n",
    "text_thred = 'thred = ' + str(lowweight)\n",
    "texts[text_thred] = pos_text_thred\n",
    "\n",
    "# visualize and save\n",
    "igplot = ciCOH_visual_save(ciCOH_mild, \n",
    "                           chn_area = chnInf_brainarea, \n",
    "                           chn_coord = chnInf_coord,\n",
    "                           str_recchnishow = chnInf_recchni,\n",
    "                           lowweight = lowweight,  \n",
    "                           tobesavedfile = savefile, \n",
    "                           texts = texts,\n",
    "                           threds = threds)\n",
    "\n",
    "igplot.show()\n",
    "\n",
    "print(\"Figure saved to \" + savefile)\n",
    "\n",
    "del condition, savefilename, savefile, texts, igplot"
   ]
  },
  {
   "cell_type": "markdown",
   "metadata": {},
   "source": [
    "### moderate"
   ]
  },
  {
   "cell_type": "code",
   "execution_count": 22,
   "metadata": {},
   "outputs": [
    {
     "name": "stdout",
     "output_type": "stream",
     "text": [
      "Figure saved to /home/lingling/Insync/yang7003@umn.edu/NMRC_umn/Projects/FCAnalysis/exp/pipeline/NHP_Bug/1_dataAnaly/FCAnaly/Rest/areabased/m2_avgarea_visual_ciCOH_rest/ciCOH_rest_freq11_13_lowweight0.1_moderate.png\n"
     ]
    }
   ],
   "source": [
    "\"\"\"\n",
    "    moderate condition\n",
    "\"\"\"\n",
    "\n",
    "\n",
    "condition = 'moderate'\n",
    "\n",
    "\n",
    "# save file config\n",
    "savefilename = savefile_fcgraph_prefix + '_lowweight' + str(lowweight) + '_' + condition + '.png'\n",
    "savefile = os.path.join(savefolder, savefilename)\n",
    "\n",
    "# printed text config\n",
    "texts = texts_area.copy()\n",
    "\n",
    "# add condition text\n",
    "texts[condition] = pos_text_title\n",
    "\n",
    "\n",
    "text_thred = 'thred = ' + str(lowweight)\n",
    "texts[text_thred] = pos_text_thred\n",
    "\n",
    "# visualize and save\n",
    "igplot = ciCOH_visual_save(ciCOH_moderate, \n",
    "                           chn_area = chnInf_brainarea, \n",
    "                           chn_coord = chnInf_coord,\n",
    "                           str_recchnishow = chnInf_recchni,\n",
    "                           lowweight = lowweight,  \n",
    "                           tobesavedfile = savefile, \n",
    "                           texts = texts,\n",
    "                           threds = threds)\n",
    "\n",
    "igplot.show()\n",
    "\n",
    "print(\"Figure saved to \" + savefile)\n",
    "\n",
    "del condition, savefilename, savefile, texts, igplot"
   ]
  },
  {
   "cell_type": "markdown",
   "metadata": {},
   "source": [
    "## Hist "
   ]
  },
  {
   "cell_type": "code",
   "execution_count": 23,
   "metadata": {},
   "outputs": [
    {
     "data": {
      "image/png": "[encoded data removed]",
      "text/plain": [
       "<Figure size 432x288 with 3 Axes>"
      ]
     },
     "metadata": {
      "needs_background": "light"
     },
     "output_type": "display_data"
    }
   ],
   "source": [
    "import matplotlib.pyplot as plt\n",
    "\n",
    "x_normal = np.reshape(ciCOH_normal, (-1))\n",
    "x_mild = np.reshape(ciCOH_mild, (-1))\n",
    "x_moderate = np.reshape(ciCOH_moderate, (-1))\n",
    "\n",
    "colors = ['gray', 'blue' ,'green','red']\n",
    "labels = ['no sig', 'lower 1/3', 'middle 1/3', 'higher 1/3']\n",
    "\n",
    "\n",
    "\n",
    "xmax = max(max(abs(x_normal)), max(abs(x_mild)))\n",
    "xmax = np.around(xmax, decimals=2)\n",
    "thred0, thred1, thred2 = lowweight, lowweight + (xmax - lowweight)/3, lowweight + (xmax - lowweight) * 2/3\n",
    "\n",
    "\n",
    "\n",
    "\n",
    "n_bins = 20\n",
    "\n",
    "fig, axs = plt.subplots(3, 1,  sharex = True, sharey = True)\n",
    "\n",
    "\n",
    "### normal part ###\n",
    "\n",
    "N, bins, patches = axs[0].hist(x_normal, bins=n_bins, label = 'normal')\n",
    "\n",
    "\n",
    "# no  sig part\n",
    "idx_nosig = np.where(abs(bins)< thred0)[0]\n",
    "for i in range(len(idx_nosig)):\n",
    "    \n",
    "    # len(bins) = len(patches) + 1\n",
    "    if idx_nosig[i] == len(patches):\n",
    "        continue\n",
    "    patches[idx_nosig[i]].set_facecolor(colors[0])\n",
    "\n",
    "        \n",
    "# sig part1 \n",
    "idx_sig = np.where((abs(bins)>=thred0) & (abs(bins)<thred1))[0]\n",
    "for i in range(len(idx_sig)):\n",
    "    \n",
    "    # len(bins) = len(patches) + 1\n",
    "    if idx_sig[i] == len(patches):\n",
    "        continue\n",
    "    patches[idx_sig[i]].set_facecolor(colors[1])\n",
    "    \n",
    "    \n",
    "# sig part2 \n",
    "idx_sig = np.where((abs(bins)>=thred1) & (abs(bins)<thred2))[0]\n",
    "for i in range(len(idx_sig)):\n",
    "    \n",
    "    # len(bins) = len(patches) + 1\n",
    "    if idx_sig[i] == len(patches):\n",
    "        continue\n",
    "    patches[idx_sig[i]].set_facecolor(colors[2])\n",
    "    \n",
    "    \n",
    "    \n",
    "# sig part3 \n",
    "idx_sig = np.where(abs(bins)>=thred2)[0]\n",
    "for i in range(len(idx_sig)):\n",
    "    \n",
    "    # len(bins) = len(patches) + 1\n",
    "    if idx_sig[i] == len(patches):\n",
    "        continue\n",
    "    patches[idx_sig[i]].set_facecolor(colors[3])\n",
    "\n",
    "\n",
    "\n",
    "xmin, xmax = axs[0].get_xlim() \n",
    "ymin, ymax = axs[0].get_ylim()    \n",
    "axs[0].text(xmin + (xmax - xmin) * 2/3, ymin + (ymax - ymin) * 2/3, 'normal', {'fontsize': 12}, va=\"top\") \n",
    "   \n",
    "    \n",
    "\n",
    "\n",
    "### mild part ###\n",
    "\n",
    "N, bins, patches = axs[1].hist(x_mild, bins=n_bins, label = 'mild')\n",
    "\n",
    "\n",
    "# no  sig part\n",
    "idx_nosig = np.where(abs(bins)< thred0)[0]\n",
    "for i in range(len(idx_nosig)):\n",
    "    \n",
    "    # len(bins) = len(patches) + 1\n",
    "    if idx_nosig[i] == len(patches):\n",
    "        continue\n",
    "    patches[idx_nosig[i]].set_facecolor(colors[0])\n",
    "\n",
    "        \n",
    "# sig part1 \n",
    "idx_sig = np.where((abs(bins)>=thred0) & (abs(bins)<thred1))[0]\n",
    "for i in range(len(idx_sig)):\n",
    "    \n",
    "    # len(bins) = len(patches) + 1\n",
    "    if idx_sig[i] == len(patches):\n",
    "        continue\n",
    "    patches[idx_sig[i]].set_facecolor(colors[1])\n",
    "    \n",
    "    \n",
    "# sig part2 \n",
    "idx_sig = np.where((abs(bins)>=thred1) & (abs(bins)<thred2))[0]\n",
    "for i in range(len(idx_sig)):\n",
    "    \n",
    "    # len(bins) = len(patches) + 1\n",
    "    if idx_sig[i] == len(patches):\n",
    "        continue\n",
    "    patches[idx_sig[i]].set_facecolor(colors[2])\n",
    "    \n",
    "    \n",
    "    \n",
    "# sig part3 \n",
    "idx_sig = np.where(abs(bins)>=thred2)[0]\n",
    "for i in range(len(idx_sig)):\n",
    "    \n",
    "    # len(bins) = len(patches) + 1\n",
    "    if idx_sig[i] == len(patches):\n",
    "        continue\n",
    "    patches[idx_sig[i]].set_facecolor(colors[3])\n",
    "\n",
    "\n",
    "\n",
    "    \n",
    "xmin, xmax = axs[1].get_xlim() \n",
    "ymin, ymax = axs[1].get_ylim()    \n",
    "axs[1].text(xmin + (xmax - xmin) * 2/3, ymin + (ymax - ymin) * 2/3, 'mild', {'fontsize': 12}, va=\"top\") \n",
    "\n",
    "\n",
    "\n",
    "\n",
    "### moderate part ###\n",
    "\n",
    "N, bins, patches = axs[2].hist(x_moderate, bins=n_bins, label = 'moderate')\n",
    "\n",
    "\n",
    "# no  sig part\n",
    "idx_nosig = np.where(abs(bins)< thred0)[0]\n",
    "for i in range(len(idx_nosig)):\n",
    "    \n",
    "    # len(bins) = len(patches) + 1\n",
    "    if idx_nosig[i] == len(patches):\n",
    "        continue\n",
    "    patches[idx_nosig[i]].set_facecolor(colors[0])\n",
    "\n",
    "        \n",
    "# sig part1 \n",
    "idx_sig = np.where((abs(bins)>=thred0) & (abs(bins)<thred1))[0]\n",
    "for i in range(len(idx_sig)):\n",
    "    \n",
    "    # len(bins) = len(patches) + 1\n",
    "    if idx_sig[i] == len(patches):\n",
    "        continue\n",
    "    patches[idx_sig[i]].set_facecolor(colors[1])\n",
    "    \n",
    "    \n",
    "# sig part2 \n",
    "idx_sig = np.where((abs(bins)>=thred1) & (abs(bins)<thred2))[0]\n",
    "for i in range(len(idx_sig)):\n",
    "    \n",
    "    # len(bins) = len(patches) + 1\n",
    "    if idx_sig[i] == len(patches):\n",
    "        continue\n",
    "    patches[idx_sig[i]].set_facecolor(colors[2])\n",
    "    \n",
    "    \n",
    "    \n",
    "# sig part3 \n",
    "idx_sig = np.where(abs(bins)>=thred2)[0]\n",
    "for i in range(len(idx_sig)):\n",
    "    \n",
    "    # len(bins) = len(patches) + 1\n",
    "    if idx_sig[i] == len(patches):\n",
    "        continue\n",
    "    patches[idx_sig[i]].set_facecolor(colors[3])\n",
    "\n",
    "\n",
    "\n",
    "    \n",
    "xmin, xmax = axs[1].get_xlim() \n",
    "ymin, ymax = axs[1].get_ylim()    \n",
    "axs[2].text(xmin + (xmax - xmin) * 2/3, ymin + (ymax - ymin) * 2/3, 'moderate', {'fontsize': 12}, va=\"top\") \n",
    "\n",
    "\n",
    "\n",
    "\n",
    "### all figure text part ###\n",
    "\n",
    "title = 'Histogram of ciCOH Values' \n",
    "fig.suptitle(title, x = 0.55, y= 0.95, weight = 'bold')\n",
    "\n",
    "\n",
    "plt.savefig(os.path.join(savefolder, savefile_hist_prefix + title + '.png'))"
   ]
  }
 ],
 "metadata": {
  "kernelspec": {
   "display_name": "Python 3",
   "language": "python",
   "name": "python3"
  },
  "language_info": {
   "codemirror_mode": {
    "name": "ipython",
    "version": 3
   },
   "file_extension": ".py",
   "mimetype": "text/x-python",
   "name": "python",
   "nbconvert_exporter": "python",
   "pygments_lexer": "ipython3",
   "version": "3.8.1"
  },
  "toc": {
   "base_numbering": 1,
   "nav_menu": {
    "height": "248px",
    "width": "255px"
   },
   "number_sections": false,
   "sideBar": true,
   "skip_h1_title": true,
   "title_cell": "Table of Contents",
   "title_sidebar": "",
   "toc_cell": false,
   "toc_position": {
    "height": "calc(100% - 180px)",
    "left": "10px",
    "top": "150px",
    "width": "293px"
   },
   "toc_section_display": true,
   "toc_window_display": true
  }
 },
 "nbformat": 4,
 "nbformat_minor": 2
}
