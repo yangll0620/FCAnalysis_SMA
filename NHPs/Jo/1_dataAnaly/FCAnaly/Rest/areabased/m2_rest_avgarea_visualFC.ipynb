{
 "cells": [
  {
   "cell_type": "markdown",
   "metadata": {},
   "source": [
    "# Functionality: visualization of functional connectivity\n",
    "\n",
    "<ul>\n",
    "    <li>visualize the ciCOH in mild and normal state</li>\n",
    "</ul>"
   ]
  },
  {
   "cell_type": "markdown",
   "metadata": {},
   "source": [
    "## Import Packages "
   ]
  },
  {
   "cell_type": "code",
   "execution_count": 1,
   "metadata": {
    "scrolled": true
   },
   "outputs": [],
   "source": [
    "import os, sys\n",
    "import numpy as np\n",
    "import pandas as pd\n",
    "import matplotlib \n",
    "import matplotlib.pyplot as plt\n",
    "\n",
    "import pickle\n",
    "import glob\n",
    "from igraph.drawing.text import TextDrawer\n",
    "import cairo"
   ]
  },
  {
   "cell_type": "code",
   "execution_count": 2,
   "metadata": {},
   "outputs": [
    {
     "name": "stdout",
     "output_type": "stream",
     "text": [
      "importing Jupyter notebook from /home/lingling/Insync/yang7003@umn.edu/NMRC_umn/Projects/FCAnalysis/exp/code/connAnalyTool/graphVisual.ipynb\n",
      "importing Jupyter notebook from /home/lingling/Insync/yang7003@umn.edu/NMRC_umn/Projects/FCAnalysis/exp/code/simulated/ciCOH_threshold.ipynb\n",
      "importing Jupyter notebook from /home/lingling/Insync/yang7003@umn.edu/NMRC_umn/Projects/FCAnalysis/exp/code/simulated/simulated_timeseries.ipynb\n",
      "importing Jupyter notebook from /home/lingling/Insync/yang7003@umn.edu/NMRC_umn/Projects/FCAnalysis/exp/code/simulated/addnoise.ipynb\n"
     ]
    }
   ],
   "source": [
    "# import_nbmodule used for import package in .ipynb\n",
    "import import_nbmodule\n",
    "\n",
    "# extract the exp folder path\n",
    "currfolder = os.getcwd()\n",
    "codefolder = currfolder[0 : currfolder.find('code')+len('code')]\n",
    "\n",
    "# add path the exp folder\n",
    "sys.path.append(codefolder)\n",
    "\n",
    "\n",
    "# import animal_folder function in util/folder_extract.pynb \n",
    "from util.folder_extract import exp_subfolders, code_corresfolder\n",
    "\n",
    "# import graphVisual in connAnalyTool/graphVisual.pynb \n",
    "from connAnalyTool import graphVisual\n",
    "\n",
    "\n",
    "from simulated.ciCOH_threshold import threshold_ciCOH_sin, corr_threshold_ciCOH_sin_BH"
   ]
  },
  {
   "cell_type": "markdown",
   "metadata": {},
   "source": [
    "## Preparison"
   ]
  },
  {
   "cell_type": "markdown",
   "metadata": {},
   "source": [
    "### exp subfolders & code_corresfolder"
   ]
  },
  {
   "cell_type": "code",
   "execution_count": 3,
   "metadata": {},
   "outputs": [
    {
     "data": {
      "application/javascript": [
       "IPython.notebook.kernel.execute('nb_name = \"' + IPython.notebook.notebook_name + '\"')\n"
      ],
      "text/plain": [
       "<IPython.core.display.Javascript object>"
      ]
     },
     "metadata": {},
     "output_type": "display_data"
    }
   ],
   "source": [
    "%%javascript\n",
    "IPython.notebook.kernel.execute('nb_name = \"' + IPython.notebook.notebook_name + '\"')"
   ]
  },
  {
   "cell_type": "code",
   "execution_count": 4,
   "metadata": {},
   "outputs": [],
   "source": [
    "nb_name = nb_name[0: nb_name.find('.ipynb')]\n",
    "\n",
    "# corresfolder\n",
    "corresfolder,correparentfolder = code_corresfolder(os.getcwd(), nb_name)"
   ]
  },
  {
   "cell_type": "markdown",
   "metadata": {},
   "source": [
    "### global parameters"
   ]
  },
  {
   "cell_type": "code",
   "execution_count": 5,
   "metadata": {},
   "outputs": [],
   "source": [
    "# frequency\n",
    "freq = [24,26]\n",
    "strfreq = 'freq' + str(freq[0]) + '_' + str(freq[1])\n",
    "f = (freq[0] + freq[1])//2\n",
    "\n",
    "# eventphase\n",
    "event = 'rest'\n",
    "\n",
    "animal = 'Jo'"
   ]
  },
  {
   "cell_type": "code",
   "execution_count": 6,
   "metadata": {},
   "outputs": [],
   "source": [
    "### text setup for brain areas ###\n",
    "texts_area = dict()\n",
    "\n",
    "texts_area['M1'] = [-100, 595, 20]\n",
    "\n",
    "texts_area['STN'] = [150, 230, 20]\n",
    "\n",
    "texts_area['GP'] = [430, 220, 20]\n",
    "\n",
    "pos_text_title = [-80, 50, 30]\n",
    "\n",
    "pos_text_thred = [-80, 70, 10]"
   ]
  },
  {
   "cell_type": "code",
   "execution_count": 7,
   "metadata": {},
   "outputs": [],
   "source": [
    "nfault_thresholdBH = 1"
   ]
  },
  {
   "cell_type": "markdown",
   "metadata": {},
   "source": [
    "### input setup"
   ]
  },
  {
   "cell_type": "code",
   "execution_count": 8,
   "metadata": {},
   "outputs": [],
   "source": [
    "inputfolder = os.path.join(correparentfolder, 'm1_rest_avgarea_calcciCOH')\n",
    "filename =  'ciCOH_rest' + '_freq' + str(freq[0]) + '_' + str(freq[1])\n",
    "\n",
    "\n",
    "file = os.path.join(inputfolder, filename + '.pickle')"
   ]
  },
  {
   "cell_type": "markdown",
   "metadata": {},
   "source": [
    "### save setup"
   ]
  },
  {
   "cell_type": "code",
   "execution_count": 9,
   "metadata": {},
   "outputs": [],
   "source": [
    "savefolder = corresfolder\n",
    "savefile_fcgraph_prefix = 'ciCOH_' + event + '_' + strfreq\n",
    "\n",
    "savefile_hist_prefix = 'hist_' + event + '_' + strfreq\n",
    "    "
   ]
  },
  {
   "cell_type": "code",
   "execution_count": 10,
   "metadata": {},
   "outputs": [],
   "source": [
    "filename_threshold = 'threshold' \n",
    "savefolder_threshold = os.path.join(savefolder, '..')\n",
    "file_threshold = os.path.join(savefolder_threshold, filename_threshold + '.pickle')"
   ]
  },
  {
   "cell_type": "markdown",
   "metadata": {},
   "source": [
    "## pre-visual "
   ]
  },
  {
   "cell_type": "markdown",
   "metadata": {},
   "source": [
    "### load ciCOH and Channel"
   ]
  },
  {
   "cell_type": "code",
   "execution_count": 11,
   "metadata": {},
   "outputs": [],
   "source": [
    "fp = open(file, 'rb')\n",
    "fc = pickle.load(fp)\n",
    "\n",
    "\n",
    "# ciCOH_normal, ciCOH_mild: numpy.ndarray(nchns * nchns)\n",
    "ciCOH_normal, ciCOH_mild  = fc['ciCOH']['normal'], fc['ciCOH']['mild']\n",
    "ciCOH_moderate  = fc['ciCOH']['moderate']\n",
    "\n",
    "# channel information chnInf: pandas.core.frame.DataFrame(nchns * 3)\n",
    "chnInf = fc['chnInf']\n",
    "\n",
    "\n",
    "ntrials = fc['ntrials']"
   ]
  },
  {
   "cell_type": "markdown",
   "metadata": {},
   "source": [
    "### extract chnInf_brainarea "
   ]
  },
  {
   "cell_type": "code",
   "execution_count": 12,
   "metadata": {},
   "outputs": [],
   "source": [
    "### Extract chnInf_brainarea ##\n",
    "\n",
    "# chnInf_brainarea\n",
    "chnInf_brainarea = chnInf['chnAreas'].to_list()\n",
    "\n",
    "\n",
    "# chnInf_coord\n",
    "x, y = chnInf['coord_x'].to_numpy(), chnInf['coord_y'].to_numpy()\n",
    "x, y = np.expand_dims(x, axis = 1), np.expand_dims(y, axis = 1)\n",
    "chnInf_coord = np.concatenate((x, y), axis = 1)\n",
    "\n",
    "\n",
    "# chnInf_brainarea and chnInf_recchni\n",
    "chnInf_brainarea = list()\n",
    "chnInf_recchni = list()\n",
    "\n",
    "for chnArea in chnInf['chnAreas'].to_list():\n",
    "    \n",
    "    if 'stn' in chnArea:\n",
    "        chnInf_brainarea.append('STN')\n",
    "        chnInf_recchni.append(chnArea[3:])\n",
    "        \n",
    "    elif 'gp' in chnArea:\n",
    "        chnInf_brainarea.append('GP')\n",
    "        \n",
    "        chnInf_recchni.append(chnArea[2:])\n",
    "    else:\n",
    "        if chnArea[0] == 'l' or chnArea[0] == 'r': \n",
    "            chnInf_brainarea.append(chnArea[1:])\n",
    "        else:\n",
    "            chnInf_brainarea.append(chnArea)\n",
    "        \n",
    "        chnInf_recchni.append('')"
   ]
  },
  {
   "cell_type": "markdown",
   "metadata": {},
   "source": [
    "### calucalte threshold "
   ]
  },
  {
   "cell_type": "code",
   "execution_count": 13,
   "metadata": {},
   "outputs": [
    {
     "name": "stdout",
     "output_type": "stream",
     "text": [
      "396\n"
     ]
    }
   ],
   "source": [
    "ntimes = ciCOH_mild.shape[0] *  ciCOH_mild.shape[1]\n",
    "\n",
    "print(ntrials)"
   ]
  },
  {
   "cell_type": "code",
   "execution_count": 14,
   "metadata": {},
   "outputs": [],
   "source": [
    "## read or calcualte threshold, mu, std ##\n",
    "\n",
    "\n",
    "df = pd.DataFrame(columns = ['ntimes', 'ntrials', 'f','threshold', 'mu', 'std'])\n",
    "\n",
    "record_exist = False\n",
    "if(os.path.exists(file_threshold)):\n",
    "    # file_threshold exists\n",
    "    \n",
    "    # read \n",
    "    df = pd.read_pickle(file_threshold)\n",
    "    \n",
    "    \n",
    "    # check if threshold under the ntimes and f exist \n",
    "    mask = (df['ntimes'] == ntimes) & (df['ntrials'] == ntrials) & (df['f'] == f)\n",
    "    \n",
    "    \n",
    "    if(df.loc[mask].shape[0] == 1): # record exist\n",
    "        \n",
    "        record_exist = True\n",
    "        \n",
    "        df1 = df.loc[mask]\n",
    "\n",
    "        threshold = df1['threshold'].to_numpy()\n",
    "        mu, std = df1['mu'].to_numpy(), df1['std'].to_numpy()\n",
    "\n",
    "        del df1\n",
    "        \n",
    "if not record_exist: # run threshold_ciCOH_sin if record not exist\n",
    "    threshold, mu, std = threshold_ciCOH_sin(ntimes = ntimes, ntrials = ntrials, ntemp = 1000, f = f)\n",
    "    \n",
    "    \n",
    "    # store the new record\n",
    "    thred_sets = dict()\n",
    "    thred_sets['ntimes'],  thred_sets['ntrials'], thred_sets['f'] = ntimes, ntrials, f\n",
    "    thred_sets['mu'], thred_sets['std'] = mu, std\n",
    "    thred_sets['threshold'] = threshold\n",
    "\n",
    "    df = df.append(thred_sets, ignore_index = True)\n",
    "\n",
    "    # write to file_threshold\n",
    "    df.to_pickle(file_threshold)"
   ]
  },
  {
   "cell_type": "code",
   "execution_count": 15,
   "metadata": {},
   "outputs": [
    {
     "name": "stdout",
     "output_type": "stream",
     "text": [
      "nfalse number = 1, false rate = 0.0044444444444444444\n",
      "identifying the ciCOH corrected threshold using sinc and Benjamini-Hochberg procedure....\n",
      "corrected threshold = 0.1520734888281189\n"
     ]
    }
   ],
   "source": [
    "## correct threshold using BH method ##\n",
    "\n",
    "\n",
    "# extract ciCOHs_actual as a np.ndarray(nchns * (nchns -1)/2)\n",
    "nchns = ciCOH_normal.shape[0]\n",
    "ciCOHs_actual = list()\n",
    "for chni in range(nchns -1):\n",
    "    for chnj in range(chni+1, nchns):\n",
    "        ciCOHs_actual.append(ciCOH_normal[chni][chnj])\n",
    "\n",
    "for chni in range(nchns -1):\n",
    "    for chnj in range(chni+1, nchns):\n",
    "        ciCOHs_actual.append(ciCOH_mild[chni][chnj])\n",
    "        \n",
    "for chni in range(nchns -1):\n",
    "    for chnj in range(chni+1, nchns):\n",
    "        ciCOHs_actual.append(ciCOH_moderate[chni][chnj])\n",
    "        \n",
    "ciCOHs_actual = np.asarray(ciCOHs_actual)\n",
    "\n",
    "\n",
    "# false_rate\n",
    "false_rate = nfault_thresholdBH / ntimes\n",
    "print(\"nfalse number = \"  + str(nfault_thresholdBH)+ \", false rate = \" + str(false_rate))\n",
    "\n",
    "\n",
    "\n",
    "# corrected threshold using BH method\n",
    "threshold_BH, _, _ = corr_threshold_ciCOH_sin_BH(ciCOHs_actual = ciCOHs_actual, ntimes = ntimes, ntrials = ntrials, \n",
    "                            ntemp = 1000, mu = mu, std = std, f = f, t = 1, false_rate = false_rate)"
   ]
  },
  {
   "cell_type": "markdown",
   "metadata": {},
   "source": [
    "## FC Graph"
   ]
  },
  {
   "cell_type": "code",
   "execution_count": 16,
   "metadata": {},
   "outputs": [],
   "source": [
    "def ciCOH_visual_save(ciCOH, chn_area, chn_coord, str_recchnishow, lowweight, tobesavedfile, texts, threds = None):\n",
    "    \"\"\"\n",
    "        \n",
    "        Args:\n",
    "            \n",
    "            ciCOH (np.sdarray): ciCOH matrix (nchns, nchns)\n",
    "            \n",
    "            chn_area (list): a list of string representing brain area for each channel, len(chn_area) = nchns\n",
    "            \n",
    "            chn_coord (numpy.ndarray): x, y coordinates for each channel, shape = (nchns, 2)\n",
    "            \n",
    "            chn_recchni(list): showed recording chni for each channel, shape = (nchns, )\n",
    "            \n",
    "            lowweight: the threshold lowweight, only weight>lowweight is treated as connection\n",
    "            \n",
    "            tobesavedfile: file to save the visualized figure\n",
    "            \n",
    "            texts:\n",
    "            \n",
    "        Output:\n",
    "            the visualizaton of ciCOH is saved in tobesavedfile\n",
    "            \n",
    "    \"\"\"\n",
    "    \n",
    "    weight = abs(ciCOH)\n",
    "\n",
    "    # weight > lowweight\n",
    "    weight[np.where(weight<lowweight)] =0\n",
    "    \n",
    "    \n",
    "    # create new graph\n",
    "    graph = graphVisual.graph_create(weight, vsarea = chn_area, vscoord = chn_coord, vschni = str_recchnishow)\n",
    "\n",
    "    \n",
    "    ### set graph visualization style ###\n",
    "    visual_style = dict()\n",
    "    \n",
    "    # set the edge color base one thred\n",
    "    if threds is not None:\n",
    "        edgecolors_opt = ['gray', 'blue' ,'green','red']\n",
    "        \n",
    "        ecolors = ['black'] * len(graph.es['weight'])\n",
    "        for i, w in enumerate(graph.es['weight']):\n",
    "            if w > threds[2]: \n",
    "                ecolors[i] = edgecolors_opt[3]\n",
    "            elif w > threds[1]:\n",
    "                ecolors[i] = edgecolors_opt[2]\n",
    "            elif w > threds[0]:\n",
    "                ecolors[i] = edgecolors_opt[1]\n",
    "                \n",
    "        visual_style['edge_color'] = ecolors\n",
    "        \n",
    "    # set the vertex color\n",
    "    vertexcolors_opt = ['red', 'blue', 'green' ,'yellow', 'purple', 'gray', 'magenta', 'cyan']\n",
    "\n",
    "    vcolors = ['black'] * len(graph.vs['area'])\n",
    "    uiqareas = list(set(graph.vs[\"area\"]))\n",
    "    uiqareas.sort()\n",
    "    for i, uiarea in enumerate(uiqareas):\n",
    "\n",
    "        # set the chn belong to the same area to be the same color \n",
    "        for vi, area in enumerate(graph.vs[\"area\"]):\n",
    "            if uiarea == area:\n",
    "                vcolors[vi] = vertexcolors_opt[i]\n",
    "    \n",
    "    visual_style['vertex_color'] = vcolors\n",
    "    \n",
    "        \n",
    "    # apply the set visual style   \n",
    "    visual_style = graphVisual.graph_style(graph, visual_style)\n",
    "    \n",
    "\n",
    "    ### plot graph\n",
    "    igplot = graphVisual.graph_plot(graph, visual_style, texts = texts)\n",
    "    \n",
    "    ### save graph\n",
    "    igplot.save(tobesavedfile)\n",
    "    \n",
    "    return igplot"
   ]
  },
  {
   "cell_type": "code",
   "execution_count": 17,
   "metadata": {},
   "outputs": [],
   "source": [
    "# threshold lowweight\n",
    "lowweight = np.around(threshold_BH, decimals = 2)\n",
    "\n",
    "if lowweight < threshold_BH:\n",
    "    lowweight  = np.around(lowweight, decimals = 2)"
   ]
  },
  {
   "cell_type": "code",
   "execution_count": 18,
   "metadata": {},
   "outputs": [],
   "source": [
    "xmax = max(np.amax(abs(ciCOH_normal)), np.amax(abs(ciCOH_mild)), np.amax(abs(ciCOH_moderate)))\n",
    "\n",
    "threds = [lowweight, lowweight + (xmax - lowweight)/3, lowweight + (xmax - lowweight) * 2/3]\n",
    "threds = np.around(threds, decimals=2)"
   ]
  },
  {
   "cell_type": "markdown",
   "metadata": {},
   "source": [
    "### normal"
   ]
  },
  {
   "cell_type": "code",
   "execution_count": null,
   "metadata": {},
   "outputs": [],
   "source": [
    "\"\"\"\n",
    "    normal condition\n",
    "\"\"\"\n",
    "\n",
    "\n",
    "condition = 'normal'\n",
    "\n",
    "# save file config\n",
    "savefilename = savefile_fcgraph_prefix + '_lowweight' + str(lowweight) + '_'  + condition + '.png'\n",
    "savefile = os.path.join(savefolder, savefilename)\n",
    "\n",
    "# printed text config\n",
    "texts = texts_area.copy()\n",
    "\n",
    "\n",
    "# add condition text\n",
    "texts[condition] = pos_text_title\n",
    "\n",
    "text_thred = 'thred = ' + str(lowweight) + ', [' + str(freq[0]) + ' ' + str(freq[1]) + ']Hz'\n",
    "texts[text_thred] = pos_text_thred\n",
    "\n",
    "# visualize and save\n",
    "igplot = ciCOH_visual_save(ciCOH_normal, \n",
    "                           chn_area = chnInf_brainarea, \n",
    "                           chn_coord = chnInf_coord,\n",
    "                           str_recchnishow = chnInf_recchni,\n",
    "                           lowweight = lowweight,  \n",
    "                           tobesavedfile = savefile, \n",
    "                           texts = texts,\n",
    "                           threds = threds)\n",
    "\n",
    "igplot.show()\n",
    "\n",
    "print(\"Figure saved to \" + savefile)\n",
    "\n",
    "del condition, savefilename, savefile, texts, igplot"
   ]
  },
  {
   "cell_type": "markdown",
   "metadata": {},
   "source": [
    "### mild"
   ]
  },
  {
   "cell_type": "code",
   "execution_count": null,
   "metadata": {},
   "outputs": [],
   "source": [
    "\"\"\"\n",
    "    mild condition\n",
    "\"\"\"\n",
    "\n",
    "\n",
    "\n",
    "condition = 'mild'\n",
    "\n",
    "\n",
    "# save file config\n",
    "savefilename = savefile_fcgraph_prefix + '_lowweight' + str(lowweight) + '_' + condition + '.png'\n",
    "savefile = os.path.join(savefolder, savefilename)\n",
    "\n",
    "# printed text config\n",
    "texts = texts_area.copy()\n",
    "\n",
    "# add condition text\n",
    "texts[condition] = pos_text_title\n",
    "\n",
    "\n",
    "text_thred = 'thred = ' + str(lowweight) + ', [' + str(freq[0]) + ' ' + str(freq[1]) + ']Hz'\n",
    "texts[text_thred] = pos_text_thred\n",
    "\n",
    "\n",
    "# visualize and save\n",
    "igplot = ciCOH_visual_save(ciCOH_mild, \n",
    "                           chn_area = chnInf_brainarea, \n",
    "                           chn_coord = chnInf_coord,\n",
    "                           str_recchnishow = chnInf_recchni,\n",
    "                           lowweight = lowweight,  \n",
    "                           tobesavedfile = savefile, \n",
    "                           texts = texts,\n",
    "                           threds = threds)\n",
    "\n",
    "igplot.show()\n",
    "\n",
    "print(\"Figure saved to \" + savefile)\n",
    "\n",
    "del condition, savefilename, savefile, texts, igplot"
   ]
  },
  {
   "cell_type": "markdown",
   "metadata": {},
   "source": [
    "### moderate"
   ]
  },
  {
   "cell_type": "code",
   "execution_count": null,
   "metadata": {
    "code_folding": []
   },
   "outputs": [],
   "source": [
    "\"\"\"\n",
    "    moderate condition\n",
    "\"\"\"\n",
    "\n",
    "\n",
    "\n",
    "condition = 'moderate'\n",
    "\n",
    "\n",
    "# save file config\n",
    "savefilename = savefile_fcgraph_prefix + '_lowweight' + str(lowweight) + '_' + condition + '.png'\n",
    "savefile = os.path.join(savefolder, savefilename)\n",
    "\n",
    "# printed text config\n",
    "texts = texts_area.copy()\n",
    "\n",
    "# add condition text\n",
    "texts[condition] = pos_text_title\n",
    "\n",
    "\n",
    "text_thred = 'thred = ' + str(lowweight) + ', [' + str(freq[0]) + ' ' + str(freq[1]) + ']Hz'\n",
    "texts[text_thred] = pos_text_thred\n",
    "\n",
    "\n",
    "# visualize and save\n",
    "igplot = ciCOH_visual_save(ciCOH_moderate, \n",
    "                           chn_area = chnInf_brainarea, \n",
    "                           chn_coord = chnInf_coord,\n",
    "                           str_recchnishow = chnInf_recchni,\n",
    "                           lowweight = lowweight,  \n",
    "                           tobesavedfile = savefile, \n",
    "                           texts = texts,\n",
    "                           threds = threds)\n",
    "\n",
    "igplot.show()\n",
    "\n",
    "print(\"Figure saved to \" + savefile)\n",
    "\n",
    "del condition, savefilename, savefile, texts, igplot"
   ]
  },
  {
   "cell_type": "markdown",
   "metadata": {},
   "source": [
    "### combine"
   ]
  },
  {
   "cell_type": "code",
   "execution_count": null,
   "metadata": {},
   "outputs": [],
   "source": [
    "import cv2 \n",
    "imgs = np.empty(shape=[600,0,3])\n",
    "for cond in ['normal', 'mild', 'moderate']:\n",
    "    file_fc = os.path.join(savefolder, \n",
    "                           savefile_fcgraph_prefix + '_lowweight' + str(lowweight) + '_' + cond + '.png')\n",
    "    \n",
    "    img = cv2.imread(file_fc)\n",
    "    imgs = np.concatenate((imgs, img), axis = 1)\n",
    "    \n",
    "    \n",
    "cv2.putText(img = imgs,text = animal + ':' + event + ',[' + str(freq[0]) + ' ' + str(freq[1]) + ']Hz', \n",
    "    org = (1500, 550), fontFace = cv2.FONT_HERSHEY_COMPLEX, \n",
    "    fontScale = 1, color = (0,0,0), lineType = 2, thickness = 2)\n",
    "\n",
    "    \n",
    "cv2.imwrite(os.path.join(savefolder, 'combined_' + strfreq+ '_lowweight' + str(lowweight) + '.png'), imgs)"
   ]
  },
  {
   "cell_type": "markdown",
   "metadata": {},
   "source": [
    "## Hist "
   ]
  },
  {
   "cell_type": "code",
   "execution_count": null,
   "metadata": {},
   "outputs": [],
   "source": [
    "plt.rc(\"text\", usetex=False)\n",
    "\n",
    "x_normal = np.reshape(ciCOH_normal, (-1))\n",
    "x_mild = np.reshape(ciCOH_mild, (-1))\n",
    "x_moderate = np.reshape(ciCOH_moderate, (-1))\n",
    "\n",
    "colors = ['gray', 'blue' ,'green','red']\n",
    "labels = ['no sig', 'lower 1/3', 'middle 1/3', 'higher 1/3']\n",
    "\n",
    "\n",
    "\n",
    "xmax = max(max(abs(x_normal)), max(abs(x_mild)), max(abs(x_moderate)))\n",
    "xmax = np.around(xmax, decimals=2)\n",
    "thred0, thred1, thred2 = lowweight, lowweight + (xmax - lowweight)/3, lowweight + (xmax - lowweight) * 2/3\n",
    "\n",
    "\n",
    "\n",
    "\n",
    "n_bins = 20\n",
    "\n",
    "fig, axs = plt.subplots(3, 1,  sharex = True, sharey = True)\n",
    "\n",
    "\n",
    "### normal part ###\n",
    "\n",
    "N, bins, patches = axs[0].hist(x_normal, bins=n_bins, label = 'normal')\n",
    "\n",
    "\n",
    "# no  sig part\n",
    "idx_nosig = np.where(abs(bins)< thred0)[0]\n",
    "for i in range(len(idx_nosig)):\n",
    "    \n",
    "    # len(bins) = len(patches) + 1\n",
    "    if idx_nosig[i] == len(patches):\n",
    "        continue\n",
    "    patches[idx_nosig[i]].set_facecolor(colors[0])\n",
    "\n",
    "        \n",
    "# sig part1 \n",
    "idx_sig = np.where((abs(bins)>=thred0) & (abs(bins)<thred1))[0]\n",
    "for i in range(len(idx_sig)):\n",
    "    \n",
    "    # len(bins) = len(patches) + 1\n",
    "    if idx_sig[i] == len(patches):\n",
    "        continue\n",
    "    patches[idx_sig[i]].set_facecolor(colors[1])\n",
    "    \n",
    "    \n",
    "# sig part2 \n",
    "idx_sig = np.where((abs(bins)>=thred1) & (abs(bins)<thred2))[0]\n",
    "for i in range(len(idx_sig)):\n",
    "    \n",
    "    # len(bins) = len(patches) + 1\n",
    "    if idx_sig[i] == len(patches):\n",
    "        continue\n",
    "    patches[idx_sig[i]].set_facecolor(colors[2])\n",
    "    \n",
    "    \n",
    "    \n",
    "# sig part3 \n",
    "idx_sig = np.where(abs(bins)>=thred2)[0]\n",
    "for i in range(len(idx_sig)):\n",
    "    \n",
    "    # len(bins) = len(patches) + 1\n",
    "    if idx_sig[i] == len(patches):\n",
    "        continue\n",
    "    patches[idx_sig[i]].set_facecolor(colors[3])\n",
    "\n",
    "\n",
    "\n",
    "xmin, xmax = axs[0].get_xlim() \n",
    "ymin, ymax = axs[0].get_ylim()    \n",
    "axs[0].text(xmin + (xmax - xmin) * 2/3, ymin + (ymax - ymin) * 2/3, 'normal', {'fontsize': 12}, va=\"top\") \n",
    "   \n",
    "    \n",
    "\n",
    "\n",
    "### mild part ###\n",
    "\n",
    "N, bins, patches = axs[1].hist(x_mild, bins=n_bins, label = 'mild')\n",
    "\n",
    "\n",
    "# no  sig part\n",
    "idx_nosig = np.where(abs(bins)< thred0)[0]\n",
    "for i in range(len(idx_nosig)):\n",
    "    \n",
    "    # len(bins) = len(patches) + 1\n",
    "    if idx_nosig[i] == len(patches):\n",
    "        continue\n",
    "    patches[idx_nosig[i]].set_facecolor(colors[0])\n",
    "\n",
    "        \n",
    "# sig part1 \n",
    "idx_sig = np.where((abs(bins)>=thred0) & (abs(bins)<thred1))[0]\n",
    "for i in range(len(idx_sig)):\n",
    "    \n",
    "    # len(bins) = len(patches) + 1\n",
    "    if idx_sig[i] == len(patches):\n",
    "        continue\n",
    "    patches[idx_sig[i]].set_facecolor(colors[1])\n",
    "    \n",
    "    \n",
    "# sig part2 \n",
    "idx_sig = np.where((abs(bins)>=thred1) & (abs(bins)<thred2))[0]\n",
    "for i in range(len(idx_sig)):\n",
    "    \n",
    "    # len(bins) = len(patches) + 1\n",
    "    if idx_sig[i] == len(patches):\n",
    "        continue\n",
    "    patches[idx_sig[i]].set_facecolor(colors[2])\n",
    "    \n",
    "    \n",
    "    \n",
    "# sig part3 \n",
    "idx_sig = np.where(abs(bins)>=thred2)[0]\n",
    "for i in range(len(idx_sig)):\n",
    "    \n",
    "    # len(bins) = len(patches) + 1\n",
    "    if idx_sig[i] == len(patches):\n",
    "        continue\n",
    "    patches[idx_sig[i]].set_facecolor(colors[3])\n",
    "\n",
    "\n",
    "\n",
    "    \n",
    "xmin, xmax = axs[1].get_xlim() \n",
    "ymin, ymax = axs[1].get_ylim()    \n",
    "axs[1].text(xmin + (xmax - xmin) * 2/3, ymin + (ymax - ymin) * 2/3, 'mild', {'fontsize': 12}, va=\"top\") \n",
    "\n",
    "\n",
    "\n",
    "\n",
    "\n",
    "### moderate part ###\n",
    "\n",
    "N, bins, patches = axs[2].hist(x_moderate, bins=n_bins, label = 'mild')\n",
    "\n",
    "\n",
    "# no  sig part\n",
    "idx_nosig = np.where(abs(bins)< thred0)[0]\n",
    "for i in range(len(idx_nosig)):\n",
    "    \n",
    "    # len(bins) = len(patches) + 1\n",
    "    if idx_nosig[i] == len(patches):\n",
    "        continue\n",
    "    patches[idx_nosig[i]].set_facecolor(colors[0])\n",
    "\n",
    "        \n",
    "# sig part1 \n",
    "idx_sig = np.where((abs(bins)>=thred0) & (abs(bins)<thred1))[0]\n",
    "for i in range(len(idx_sig)):\n",
    "    \n",
    "    # len(bins) = len(patches) + 1\n",
    "    if idx_sig[i] == len(patches):\n",
    "        continue\n",
    "    patches[idx_sig[i]].set_facecolor(colors[1])\n",
    "    \n",
    "    \n",
    "# sig part2 \n",
    "idx_sig = np.where((abs(bins)>=thred1) & (abs(bins)<thred2))[0]\n",
    "for i in range(len(idx_sig)):\n",
    "    \n",
    "    # len(bins) = len(patches) + 1\n",
    "    if idx_sig[i] == len(patches):\n",
    "        continue\n",
    "    patches[idx_sig[i]].set_facecolor(colors[2])\n",
    "    \n",
    "    \n",
    "    \n",
    "# sig part3 \n",
    "idx_sig = np.where(abs(bins)>=thred2)[0]\n",
    "for i in range(len(idx_sig)):\n",
    "    \n",
    "    # len(bins) = len(patches) + 1\n",
    "    if idx_sig[i] == len(patches):\n",
    "        continue\n",
    "    patches[idx_sig[i]].set_facecolor(colors[3])\n",
    "\n",
    "    \n",
    "xmin, xmax = axs[1].get_xlim() \n",
    "ymin, ymax = axs[1].get_ylim()    \n",
    "axs[2].text(xmin + (xmax - xmin) * 2/3, ymin + (ymax - ymin) * 2/3, 'moderate', {'fontsize': 12}, va=\"top\")\n",
    "\n",
    "\n",
    "\n",
    "\n",
    "### all figure text part ###\n",
    "\n",
    "title = 'Histogram of ciCOH Values' + ' in [' + str(freq[0]) + ' ' + str(freq[1]) + ']Hz'\n",
    "fig.suptitle(title, x = 0.55, y= 0.95, weight = 'bold')\n",
    "\n",
    "\n",
    "plt.savefig(os.path.join(savefolder, savefile_hist_prefix  + '.png'))"
   ]
  },
  {
   "cell_type": "code",
   "execution_count": null,
   "metadata": {},
   "outputs": [],
   "source": [
    "if False: \n",
    "    ## make legends ##\n",
    "\n",
    "    np.random.seed(19680801)\n",
    "\n",
    "    n_bins = 10\n",
    "    x = np.random.randn(1000, 4)\n",
    "\n",
    "\n",
    "    plt.hist(x, n_bins, density=True, histtype='bar', color=colors, label=colors)\n",
    "    plt.legend(loc = 1, labels = labels, ncol = 2, bbox_to_anchor=(0.7,0.95))\n",
    "\n",
    "    bottom, top = plt.ylim()\n",
    "    plt.ylim([bottom, top * 1.4])\n",
    "\n",
    "    left, right = plt.xlim()\n",
    "    plt.xlim([left * 2, right * 2])\n",
    "\n",
    "\n",
    "    plt.savefig(os.path.join(savefolder,  'legend.png'))"
   ]
  }
 ],
 "metadata": {
  "kernelspec": {
   "display_name": "Python 3",
   "language": "python",
   "name": "python3"
  },
  "language_info": {
   "codemirror_mode": {
    "name": "ipython",
    "version": 3
   },
   "file_extension": ".py",
   "mimetype": "text/x-python",
   "name": "python",
   "nbconvert_exporter": "python",
   "pygments_lexer": "ipython3",
   "version": "3.8.5"
  },
  "toc": {
   "base_numbering": 1,
   "nav_menu": {
    "height": "248px",
    "width": "255px"
   },
   "number_sections": false,
   "sideBar": true,
   "skip_h1_title": true,
   "title_cell": "Table of Contents",
   "title_sidebar": "",
   "toc_cell": false,
   "toc_position": {
    "height": "calc(100% - 180px)",
    "left": "10px",
    "top": "150px",
    "width": "293px"
   },
   "toc_section_display": true,
   "toc_window_display": true
  }
 },
 "nbformat": 4,
 "nbformat_minor": 2
}
