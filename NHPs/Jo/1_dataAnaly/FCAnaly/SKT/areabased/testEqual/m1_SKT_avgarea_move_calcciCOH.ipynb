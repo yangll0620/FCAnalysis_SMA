{
 "cells": [
  {
   "cell_type": "markdown",
   "metadata": {},
   "source": [
    "# Functionality of this notebook: \n",
    "\n",
    "* calculate the ciCOH for normal and mild LFP data in rest"
   ]
  },
  {
   "cell_type": "markdown",
   "metadata": {},
   "source": [
    "## Import Packages"
   ]
  },
  {
   "cell_type": "code",
   "execution_count": 1,
   "metadata": {},
   "outputs": [],
   "source": [
    "import os, sys\n",
    "import scipy.io as sio\n",
    "import glob\n",
    "import numpy as np\n",
    "import matplotlib.pyplot as plt\n",
    "import pickle \n",
    "import math\n",
    "import pandas as pd\n",
    "%matplotlib inline"
   ]
  },
  {
   "cell_type": "code",
   "execution_count": 2,
   "metadata": {},
   "outputs": [],
   "source": [
    "# extract the exp folder path\n",
    "currfolder = os.getcwd()\n",
    "codefolder = currfolder[0 : currfolder.find('code')+len('code')]\n",
    "\n",
    "# add path the exp folder\n",
    "sys.path.append(codefolder)\n",
    "\n",
    "# import_nbmodule used for import package in .ipynb\n",
    "import import_nbmodule\n",
    "\n",
    "# import util/folder_extract.pynb \n",
    "from util.folder_extract import exp_subfolders, code_corresfolder\n",
    "\n",
    "# import ciCoherence_overtime in connAnalyTool/synchronization_indices.ipynb\n",
    "from connAnalyTool.synchronization_indices import ciCoherence_acrosstrials\n",
    "from connAnalyTool.synchronization_indices import ciCoherence_overtime"
   ]
  },
  {
   "cell_type": "markdown",
   "metadata": {},
   "source": [
    "## exp subfolders & code_corresfolder"
   ]
  },
  {
   "cell_type": "code",
   "execution_count": 3,
   "metadata": {},
   "outputs": [],
   "source": [
    "_, _, pipelinefolder, _= exp_subfolders()"
   ]
  },
  {
   "cell_type": "code",
   "execution_count": 4,
   "metadata": {},
   "outputs": [
    {
     "data": {
      "application/javascript": [
       "IPython.notebook.kernel.execute('nb_name = \"' + IPython.notebook.notebook_name + '\"')\n"
      ],
      "text/plain": [
       "<IPython.core.display.Javascript object>"
      ]
     },
     "metadata": {},
     "output_type": "display_data"
    }
   ],
   "source": [
    "%%javascript\n",
    "IPython.notebook.kernel.execute('nb_name = \"' + IPython.notebook.notebook_name + '\"')"
   ]
  },
  {
   "cell_type": "code",
   "execution_count": 5,
   "metadata": {},
   "outputs": [],
   "source": [
    "nb_name = nb_name[0: nb_name.find('.ipynb')]\n",
    "\n",
    "# corresfolder\n",
    "corresfolder, correparentfolder = code_corresfolder(os.getcwd(), nb_name)"
   ]
  },
  {
   "cell_type": "markdown",
   "metadata": {},
   "source": [
    "## global parameters"
   ]
  },
  {
   "cell_type": "code",
   "execution_count": 6,
   "metadata": {},
   "outputs": [],
   "source": [
    "freq = [9, 11]\n",
    "\n",
    "phase = 'move'\n",
    "\n",
    "animal = 'Jo'\n",
    "\n",
    "fs = 500"
   ]
  },
  {
   "cell_type": "markdown",
   "metadata": {},
   "source": [
    "## input setup"
   ]
  },
  {
   "cell_type": "code",
   "execution_count": 7,
   "metadata": {},
   "outputs": [],
   "source": [
    "inputfolder = os.path.join(pipelinefolder, 'NHPs', animal, '0_dataPrep', 'SKT', \n",
    "                           'm2_STKData_narrowfiltered' + str(freq[0]) + '_' + str(freq[1]))"
   ]
  },
  {
   "cell_type": "code",
   "execution_count": 8,
   "metadata": {},
   "outputs": [],
   "source": [
    "variablesinLoadfile = ['lfpdata', 'fs', 'chnAreas']"
   ]
  },
  {
   "cell_type": "code",
   "execution_count": 9,
   "metadata": {},
   "outputs": [],
   "source": [
    "chnInf_folder = os.path.join(pipelinefolder, 'NHPs', animal, '1_dataAnaly', 'FCAnaly','SKT')\n",
    "chnInf_file = os.path.join(chnInf_folder, 'chn_brainArea_simCoord_BrainArea.csv')"
   ]
  },
  {
   "cell_type": "markdown",
   "metadata": {},
   "source": [
    "## Save Setup"
   ]
  },
  {
   "cell_type": "code",
   "execution_count": 10,
   "metadata": {},
   "outputs": [],
   "source": [
    "savefolder = corresfolder\n",
    "savefilename =  'ciCOH_SKT' + '_freq' + str(freq[0]) + '_' + str(freq[1])"
   ]
  },
  {
   "cell_type": "markdown",
   "metadata": {},
   "source": [
    "## extract lfp"
   ]
  },
  {
   "cell_type": "code",
   "execution_count": 11,
   "metadata": {},
   "outputs": [],
   "source": [
    "def lfpallfiles_extract(files):\n",
    "    if 'lfpdatas' in locals():\n",
    "        del lfpdata\n",
    "    \n",
    "    for i, file in enumerate(files):\n",
    "        \n",
    "        ### load data\n",
    "        matdat = sio.loadmat(file, variable_names = variablesinLoadfile, \n",
    "                             struct_as_record = False, squeeze_me = True) \n",
    "        \n",
    "        \n",
    "        ### extract the noused channels, only calculate once\n",
    "        if i == 0:\n",
    "            \n",
    "            # chnAreas\n",
    "            chnAreas = matdat['chnAreas'].tolist()\n",
    "            \n",
    "            # fs: sample rate\n",
    "            fs = matdat['fs'] \n",
    "             \n",
    "        \n",
    "\n",
    "        ### dealing lfp data\n",
    "        \n",
    "        # lfp (np.ndarray): ntemporal * nchns * ntrials\n",
    "        lfpdata_1file = matdat['lfpdata']\n",
    "        \n",
    "        # concatenate to lfpdata for all files\n",
    "        if 'lfpdatas' not in locals():\n",
    "            lfpdatas = lfpdata_1file\n",
    "        else:\n",
    "            lfpdatas = np.concatenate((lfpdatas, lfpdata_1file), axis = 2)\n",
    "          \n",
    "    \n",
    "    return lfpdatas, chnAreas"
   ]
  },
  {
   "cell_type": "code",
   "execution_count": 12,
   "metadata": {},
   "outputs": [
    {
     "name": "stdout",
     "output_type": "stream",
     "text": [
      "11\n",
      "13\n",
      "17\n"
     ]
    }
   ],
   "source": [
    "files_normal = glob.glob(os.path.join(inputfolder, '*_normal_*'))\n",
    "files_mild = glob.glob(os.path.join(inputfolder, '*_mild_*'))\n",
    "files_moderate = glob.glob(os.path.join(inputfolder, '*_moderate_*'))\n",
    "\n",
    "print(len(files_normal))\n",
    "print(len(files_mild))\n",
    "print(len(files_moderate))"
   ]
  },
  {
   "cell_type": "code",
   "execution_count": 13,
   "metadata": {},
   "outputs": [],
   "source": [
    "lfptrials_normal, chnAreas = lfpallfiles_extract(files_normal)\n",
    "lfptrials_mild, _ = lfpallfiles_extract(files_mild)\n",
    "lfptrials_moderate, _ = lfpallfiles_extract(files_moderate)"
   ]
  },
  {
   "cell_type": "code",
   "execution_count": 14,
   "metadata": {},
   "outputs": [
    {
     "name": "stdout",
     "output_type": "stream",
     "text": [
      "(448, 15, 447)\n",
      "(500, 15, 228)\n",
      "(500, 15, 205)\n",
      "['gp0-1', 'gp1-2', 'gp2-3', 'gp3-4', 'gp4-5', 'gp5-6', 'gp6-7', 'M1', 'stn0-1', 'stn1-2', 'stn2-3', 'stn3-4', 'stn4-5', 'stn5-6', 'stn6-7']\n"
     ]
    }
   ],
   "source": [
    "if phase == 'move':\n",
    "    lfptrials_normal = lfptrials_normal[500:1000, :, :]\n",
    "    lfptrials_mild = lfptrials_mild[500:1000, :, :]\n",
    "    lfptrials_moderate = lfptrials_moderate[500:1000, :, :]\n",
    "    \n",
    "if phase == 'base':\n",
    "    lfptrials_normal = lfptrials_normal[0:500, :, :]\n",
    "    lfptrials_mild = lfptrials_mild[0:500, :, :]\n",
    "    lfptrials_moderate = lfptrials_moderate[0:500:, :, :]\n",
    "    \n",
    "    \n",
    "print(lfptrials_normal.shape)\n",
    "print(lfptrials_mild.shape)\n",
    "print(lfptrials_moderate.shape)\n",
    "\n",
    "print(chnAreas)"
   ]
  },
  {
   "cell_type": "markdown",
   "metadata": {},
   "source": [
    "## Assign the xy coord of each chnArea"
   ]
  },
  {
   "cell_type": "code",
   "execution_count": 15,
   "metadata": {},
   "outputs": [
    {
     "data": {
      "text/html": [
       "<div>\n",
       "<style scoped>\n",
       "    .dataframe tbody tr th:only-of-type {\n",
       "        vertical-align: middle;\n",
       "    }\n",
       "\n",
       "    .dataframe tbody tr th {\n",
       "        vertical-align: top;\n",
       "    }\n",
       "\n",
       "    .dataframe thead th {\n",
       "        text-align: right;\n",
       "    }\n",
       "</style>\n",
       "<table border=\"1\" class=\"dataframe\">\n",
       "  <thead>\n",
       "    <tr style=\"text-align: right;\">\n",
       "      <th></th>\n",
       "      <th>chnAreas</th>\n",
       "      <th>coord_x</th>\n",
       "      <th>coord_y</th>\n",
       "    </tr>\n",
       "  </thead>\n",
       "  <tbody>\n",
       "    <tr>\n",
       "      <th>0</th>\n",
       "      <td>gp0-1</td>\n",
       "      <td>0.2</td>\n",
       "      <td>-0.10</td>\n",
       "    </tr>\n",
       "    <tr>\n",
       "      <th>1</th>\n",
       "      <td>gp1-2</td>\n",
       "      <td>0.2</td>\n",
       "      <td>-0.12</td>\n",
       "    </tr>\n",
       "    <tr>\n",
       "      <th>2</th>\n",
       "      <td>gp2-3</td>\n",
       "      <td>0.2</td>\n",
       "      <td>-0.14</td>\n",
       "    </tr>\n",
       "    <tr>\n",
       "      <th>3</th>\n",
       "      <td>gp3-4</td>\n",
       "      <td>0.2</td>\n",
       "      <td>-0.16</td>\n",
       "    </tr>\n",
       "    <tr>\n",
       "      <th>4</th>\n",
       "      <td>gp4-5</td>\n",
       "      <td>0.2</td>\n",
       "      <td>-0.18</td>\n",
       "    </tr>\n",
       "    <tr>\n",
       "      <th>5</th>\n",
       "      <td>gp5-6</td>\n",
       "      <td>0.2</td>\n",
       "      <td>-0.20</td>\n",
       "    </tr>\n",
       "    <tr>\n",
       "      <th>6</th>\n",
       "      <td>gp6-7</td>\n",
       "      <td>0.2</td>\n",
       "      <td>-0.22</td>\n",
       "    </tr>\n",
       "    <tr>\n",
       "      <th>7</th>\n",
       "      <td>M1</td>\n",
       "      <td>0.0</td>\n",
       "      <td>0.00</td>\n",
       "    </tr>\n",
       "    <tr>\n",
       "      <th>8</th>\n",
       "      <td>stn0-1</td>\n",
       "      <td>0.1</td>\n",
       "      <td>-0.24</td>\n",
       "    </tr>\n",
       "    <tr>\n",
       "      <th>9</th>\n",
       "      <td>stn1-2</td>\n",
       "      <td>0.1</td>\n",
       "      <td>-0.26</td>\n",
       "    </tr>\n",
       "    <tr>\n",
       "      <th>10</th>\n",
       "      <td>stn2-3</td>\n",
       "      <td>0.1</td>\n",
       "      <td>-0.28</td>\n",
       "    </tr>\n",
       "    <tr>\n",
       "      <th>11</th>\n",
       "      <td>stn3-4</td>\n",
       "      <td>0.1</td>\n",
       "      <td>-0.30</td>\n",
       "    </tr>\n",
       "    <tr>\n",
       "      <th>12</th>\n",
       "      <td>stn4-5</td>\n",
       "      <td>0.1</td>\n",
       "      <td>-0.32</td>\n",
       "    </tr>\n",
       "    <tr>\n",
       "      <th>13</th>\n",
       "      <td>stn5-6</td>\n",
       "      <td>0.1</td>\n",
       "      <td>-0.34</td>\n",
       "    </tr>\n",
       "    <tr>\n",
       "      <th>14</th>\n",
       "      <td>stn6-7</td>\n",
       "      <td>0.1</td>\n",
       "      <td>-0.36</td>\n",
       "    </tr>\n",
       "  </tbody>\n",
       "</table>\n",
       "</div>"
      ],
      "text/plain": [
       "   chnAreas  coord_x  coord_y\n",
       "0     gp0-1      0.2    -0.10\n",
       "1     gp1-2      0.2    -0.12\n",
       "2     gp2-3      0.2    -0.14\n",
       "3     gp3-4      0.2    -0.16\n",
       "4     gp4-5      0.2    -0.18\n",
       "5     gp5-6      0.2    -0.20\n",
       "6     gp6-7      0.2    -0.22\n",
       "7        M1      0.0     0.00\n",
       "8    stn0-1      0.1    -0.24\n",
       "9    stn1-2      0.1    -0.26\n",
       "10   stn2-3      0.1    -0.28\n",
       "11   stn3-4      0.1    -0.30\n",
       "12   stn4-5      0.1    -0.32\n",
       "13   stn5-6      0.1    -0.34\n",
       "14   stn6-7      0.1    -0.36"
      ]
     },
     "execution_count": 15,
     "metadata": {},
     "output_type": "execute_result"
    }
   ],
   "source": [
    "# load channel coord from chnInf_file\n",
    "df = pd.read_csv(chnInf_file, header = 0)\n",
    "\n",
    "# fill in the x,y coordinates of each area in chnAreas based on the values in df_chninf\n",
    "coord_x, coord_y = np.zeros(shape = [len(chnAreas), ]), np.zeros(shape = [len(chnAreas), ])\n",
    "for i, chnArea in enumerate(chnAreas):\n",
    "    \n",
    "    mask_area = (df['brainarea']==chnArea)\n",
    "\n",
    "    x, y = df['simulated_x'][mask_area].to_numpy(), df['simulated_y'][mask_area].to_numpy()\n",
    "\n",
    "    coord_x[i], coord_y[i] = x, y\n",
    "    \n",
    "    del mask_area, x, y\n",
    "\n",
    "df_chninf = pd.DataFrame(data = {'chnAreas': chnAreas, 'coord_x': coord_x, 'coord_y': coord_y})\n",
    "    \n",
    "del df, coord_x, coord_y\n",
    "\n",
    "df_chninf"
   ]
  },
  {
   "cell_type": "markdown",
   "metadata": {},
   "source": [
    "## Calculate ciCOH"
   ]
  },
  {
   "cell_type": "markdown",
   "metadata": {},
   "source": [
    "### balance mild, normal and moderate trials"
   ]
  },
  {
   "cell_type": "code",
   "execution_count": 16,
   "metadata": {},
   "outputs": [],
   "source": [
    "# # select the smaller trial number\n",
    "# ntrials_normal, ntrials_mild = lfpwins_normal.shape[2], lfpwins_mild.shape[2]\n",
    "# ntrials_moderate = lfpwins_moderate.shape[2]\n",
    "\n",
    "# ntrials = min([ntrials_normal, ntrials_mild, ntrials_moderate])\n",
    "\n",
    "# # balance trials by randomly selecting ntrials\n",
    "# idx_ntrials = np.random.randint(ntrials_normal, size = ntrials)\n",
    "# lfpwins_normal = lfpwins_normal[:,:,idx_ntrials]\n",
    "\n",
    "# idx_ntrials = np.random.randint(ntrials_mild, size = ntrials)\n",
    "# lfpwins_mild = lfpwins_mild[:,:,idx_ntrials]\n",
    "\n",
    "# idx_ntrials = np.random.randint(ntrials_moderate, size = ntrials)\n",
    "# lfpwins_moderate = lfpwins_moderate[:,:,idx_ntrials]"
   ]
  },
  {
   "cell_type": "markdown",
   "metadata": {},
   "source": [
    "###  normal ciCOH"
   ]
  },
  {
   "cell_type": "code",
   "execution_count": 17,
   "metadata": {},
   "outputs": [],
   "source": [
    "lfptrials_allfiles = lfptrials_normal\n",
    "\n",
    "### calculate ciCOH\n",
    "ntemp, nchns, ntrials = lfptrials_allfiles.shape\n",
    "\n",
    "ciCOH = np.zeros((nchns, nchns))\n",
    "for chni in range(nchns -1):\n",
    "    \n",
    "    sig1 = lfptrials_allfiles[:, chni, :] # sig1: ntemp * ntrials\n",
    "    sig1 = np.transpose(sig1) # sig1: ntrials * ntemp\n",
    "    \n",
    "    for chnj in range(chni+1, nchns):\n",
    "        \n",
    "        sig2 = lfptrials_allfiles[:, chnj, :]\n",
    "        sig2 = np.transpose(sig2) # sig2: ntrials * ntemp\n",
    "        \n",
    "        ciCOHs = ciCoherence_acrosstrials(sig1, sig2) # ciCOHs: 1 * ntemp\n",
    "        \n",
    "        # average across time\n",
    "        ciCOH[chni, chnj] = np.mean(ciCOHs)\n",
    "        \n",
    "        # symmetrical\n",
    "        ciCOH[chnj, chni] = ciCOH[chni, chnj]\n",
    "        \n",
    "        del sig2\n",
    "    del sig1\n",
    "    \n",
    "ciCOH_normal = ciCOH\n",
    "\n",
    "del ciCOH, lfptrials_allfiles"
   ]
  },
  {
   "cell_type": "markdown",
   "metadata": {},
   "source": [
    "### mild ciCOH"
   ]
  },
  {
   "cell_type": "code",
   "execution_count": 18,
   "metadata": {},
   "outputs": [],
   "source": [
    "lfptrials_allfiles = lfptrials_mild\n",
    "\n",
    "### calculate ciCOH\n",
    "ntemp, nchns, ntrials = lfptrials_allfiles.shape\n",
    "\n",
    "ciCOH = np.zeros((nchns, nchns))\n",
    "for chni in range(nchns -1):\n",
    "    \n",
    "    sig1 = lfptrials_allfiles[:, chni, :] # sig1: ntemp * ntrials\n",
    "    sig1 = np.transpose(sig1) # sig1: ntrials * ntemp\n",
    "    \n",
    "    for chnj in range(chni+1, nchns):\n",
    "        \n",
    "        sig2 = lfptrials_allfiles[:, chnj, :]\n",
    "        sig2 = np.transpose(sig2) # sig2: ntrials * ntemp\n",
    "        \n",
    "        ciCOHs = ciCoherence_acrosstrials(sig1, sig2) # ciCOHs: 1 * ntemp\n",
    "        \n",
    "        # average across time\n",
    "        ciCOH[chni, chnj] = np.mean(ciCOHs)\n",
    "        \n",
    "        # symmetrical\n",
    "        ciCOH[chnj, chni] = ciCOH[chni, chnj]\n",
    "        \n",
    "        del sig2\n",
    "    del sig1\n",
    "    \n",
    "ciCOH_mild = ciCOH\n",
    "\n",
    "del ciCOH, lfptrials_allfiles"
   ]
  },
  {
   "cell_type": "markdown",
   "metadata": {},
   "source": [
    "### moderate ciCOH"
   ]
  },
  {
   "cell_type": "code",
   "execution_count": 19,
   "metadata": {},
   "outputs": [],
   "source": [
    "lfptrials_allfiles = lfptrials_moderate\n",
    "\n",
    "### calculate ciCOH\n",
    "ntemp, nchns, ntrials = lfptrials_allfiles.shape\n",
    "\n",
    "ciCOH = np.zeros((nchns, nchns))\n",
    "for chni in range(nchns -1):\n",
    "    \n",
    "    sig1 = lfptrials_allfiles[:, chni, :] # sig1: ntemp * ntrials\n",
    "    sig1 = np.transpose(sig1) # sig1: ntrials * ntemp\n",
    "    \n",
    "    for chnj in range(chni+1, nchns):\n",
    "        \n",
    "        sig2 = lfptrials_allfiles[:, chnj, :]\n",
    "        sig2 = np.transpose(sig2) # sig2: ntrials * ntemp\n",
    "        \n",
    "        ciCOHs = ciCoherence_acrosstrials(sig1, sig2) # ciCOHs: 1 * ntemp\n",
    "        \n",
    "        # average across time\n",
    "        ciCOH[chni, chnj] = np.mean(ciCOHs)\n",
    "        \n",
    "        # symmetrical\n",
    "        ciCOH[chnj, chni] = ciCOH[chni, chnj]\n",
    "        \n",
    "        del sig2\n",
    "    del sig1\n",
    "    \n",
    "ciCOH_moderate = ciCOH\n",
    "\n",
    "del ciCOH, lfptrials_allfiles"
   ]
  },
  {
   "cell_type": "markdown",
   "metadata": {},
   "source": [
    "## save ciCOH"
   ]
  },
  {
   "cell_type": "code",
   "execution_count": 20,
   "metadata": {},
   "outputs": [],
   "source": [
    "ciCOH = dict()\n",
    "ciCOH['normal'], ciCOH['mild']  = ciCOH_normal, ciCOH_mild\n",
    "ciCOH['moderate']  = ciCOH_moderate\n",
    "\n",
    "\n",
    "setup = dict()\n",
    "setup['fs'] = fs\n",
    "\n",
    "setup['ntemp_normal'] = lfptrials_normal.shape[0]\n",
    "setup['ntemp_mild'] = lfptrials_mild.shape[0]\n",
    "setup['ntemp_moderate'] = lfptrials_moderate.shape[0]\n",
    "setup['ntrials_normal'] = lfptrials_normal.shape[2]\n",
    "setup['ntrials_mild'] = lfptrials_mild.shape[2]\n",
    "setup['ntrials_moderate'] = lfptrials_moderate.shape[2]\n",
    "\n",
    "fc = dict()\n",
    "fc['ciCOH'] = ciCOH\n",
    "fc['chnInf'] = df_chninf\n",
    "fc['setup']= setup"
   ]
  },
  {
   "cell_type": "code",
   "execution_count": 22,
   "metadata": {},
   "outputs": [
    {
     "data": {
      "text/plain": [
       "'/home/lingling/Insync/yang7003@umn.edu/NMRC_umn/Projects/FCAnalysis/exp/pipeline/NHPs/Jo/1_dataAnaly/FCAnaly/SKT/areabased/testEqual/m1_SKT_avgarea_move_calcciCOH/ciCOH_SKT_freq9_11'"
      ]
     },
     "execution_count": 22,
     "metadata": {},
     "output_type": "execute_result"
    }
   ],
   "source": [
    "with open(os.path.join(savefolder, savefilename + '.pickle'), 'wb') as fp:\n",
    "    pickle.dump(fc, fp, protocol=pickle.HIGHEST_PROTOCOL)\n",
    "    \n",
    "os.path.join(savefolder, savefilename)"
   ]
  }
 ],
 "metadata": {
  "kernelspec": {
   "display_name": "Python 3",
   "language": "python",
   "name": "python3"
  },
  "language_info": {
   "codemirror_mode": {
    "name": "ipython",
    "version": 3
   },
   "file_extension": ".py",
   "mimetype": "text/x-python",
   "name": "python",
   "nbconvert_exporter": "python",
   "pygments_lexer": "ipython3",
   "version": "3.8.5"
  },
  "toc": {
   "base_numbering": 1,
   "nav_menu": {
    "height": "238px",
    "width": "482px"
   },
   "number_sections": false,
   "sideBar": true,
   "skip_h1_title": true,
   "title_cell": "Table of Contents",
   "title_sidebar": "",
   "toc_cell": false,
   "toc_position": {
    "height": "calc(100% - 180px)",
    "left": "10px",
    "top": "150px",
    "width": "165px"
   },
   "toc_section_display": true,
   "toc_window_display": false
  }
 },
 "nbformat": 4,
 "nbformat_minor": 2
}
