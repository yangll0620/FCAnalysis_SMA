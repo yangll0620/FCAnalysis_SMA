{
 "cells": [
  {
   "cell_type": "markdown",
   "metadata": {},
   "source": [
    "# Functionality: visualization of ciCOH Hist"
   ]
  },
  {
   "cell_type": "markdown",
   "metadata": {},
   "source": [
    "## Import Packages "
   ]
  },
  {
   "cell_type": "code",
   "execution_count": 1,
   "metadata": {
    "scrolled": true
   },
   "outputs": [],
   "source": [
    "import os, sys\n",
    "import numpy as np\n",
    "import pandas as pd\n",
    "\n",
    "import pickle\n",
    "\n",
    "import matplotlib.pyplot as plt\n",
    "\n",
    "from igraph.drawing.text import TextDrawer\n",
    "import cairo"
   ]
  },
  {
   "cell_type": "code",
   "execution_count": 2,
   "metadata": {},
   "outputs": [
    {
     "name": "stdout",
     "output_type": "stream",
     "text": [
      "importing Jupyter notebook from /Users/linglingyang/yang7003@umn.edu/NMRC_umn/Projects/FCAnalysis/exp/code/util/folder_extract.ipynb\n",
      "importing Jupyter notebook from /Users/linglingyang/yang7003@umn.edu/NMRC_umn/Projects/FCAnalysis/exp/code/connAnalyTool/graphVisual.ipynb\n"
     ]
    }
   ],
   "source": [
    "# import_nbmodule used for import package in .ipynb\n",
    "import import_nbmodule\n",
    "\n",
    "# extract the exp folder path\n",
    "currfolder = os.getcwd()\n",
    "codefolder = currfolder[0 : currfolder.find('code')+len('code')]\n",
    "\n",
    "# add path the exp folder\n",
    "sys.path.append(codefolder)\n",
    "\n",
    "\n",
    "# import animal_folder function in util/folder_extract.pynb \n",
    "from util.folder_extract import exp_subfolders, code_corresfolder\n",
    "\n",
    "# import graphVisual in connAnalyTool/graphVisual.pynb \n",
    "from connAnalyTool import graphVisual"
   ]
  },
  {
   "cell_type": "markdown",
   "metadata": {},
   "source": [
    "## Preparasion"
   ]
  },
  {
   "cell_type": "markdown",
   "metadata": {},
   "source": [
    "### exp subfolders & code_corresfolder"
   ]
  },
  {
   "cell_type": "code",
   "execution_count": 3,
   "metadata": {},
   "outputs": [
    {
     "data": {
      "application/javascript": [
       "IPython.notebook.kernel.execute('nb_name = \"' + IPython.notebook.notebook_name + '\"')\n"
      ],
      "text/plain": [
       "<IPython.core.display.Javascript object>"
      ]
     },
     "metadata": {},
     "output_type": "display_data"
    }
   ],
   "source": [
    "%%javascript\n",
    "IPython.notebook.kernel.execute('nb_name = \"' + IPython.notebook.notebook_name + '\"')"
   ]
  },
  {
   "cell_type": "code",
   "execution_count": 4,
   "metadata": {},
   "outputs": [],
   "source": [
    "nb_name = nb_name[0: nb_name.find('.ipynb')]\n",
    "\n",
    "# corresfolder\n",
    "corresfolder,correparentfolder = code_corresfolder(os.getcwd(), nb_name)"
   ]
  },
  {
   "cell_type": "markdown",
   "metadata": {},
   "source": [
    "### global parameters"
   ]
  },
  {
   "cell_type": "code",
   "execution_count": 5,
   "metadata": {},
   "outputs": [],
   "source": [
    "# frequency\n",
    "freq = [19, 21]\n",
    "strfreq = 'freq' + str(freq[0]) + '_' + str(freq[1])\n",
    "\n",
    "samedays = False # same days data for rest and SKT data"
   ]
  },
  {
   "cell_type": "code",
   "execution_count": null,
   "metadata": {},
   "outputs": [],
   "source": [
    "### text setup for brain areas ###\n",
    "texts_area = dict()\n",
    "\n",
    "texts_area['VPLo'] = [20, 40, 20]\n",
    "\n",
    "texts_area['VLo'] = [20, 120, 20]\n",
    "\n",
    "texts_area['VA'] = [20, 200, 20]\n",
    "\n",
    "texts_area['SMA'] = [20, 320, 20]\n",
    "\n",
    "texts_area['M1'] = [20, 500, 20]\n",
    "\n",
    "texts_area['STN'] = [280, 140, 20]\n",
    "\n",
    "texts_area['GP'] = [360, 250, 20]"
   ]
  },
  {
   "cell_type": "code",
   "execution_count": null,
   "metadata": {},
   "outputs": [],
   "source": [
    "areas_unwanted = ['lCd','rMC']"
   ]
  },
  {
   "cell_type": "markdown",
   "metadata": {},
   "source": [
    "### input setup"
   ]
  },
  {
   "cell_type": "code",
   "execution_count": 6,
   "metadata": {},
   "outputs": [
    {
     "name": "stdout",
     "output_type": "stream",
     "text": [
      "/Users/linglingyang/yang7003@umn.edu/NMRC_umn/Projects/FCAnalysis/exp/pipeline/NHP_Bug/1_dataAnaly/FCAnaly/SKT/m1_SKT_calcciCOH_Fre19-21Hz_baseline/ciCOH_STK_freq_19_21_baseline.pickle\n",
      "/Users/linglingyang/yang7003@umn.edu/NMRC_umn/Projects/FCAnalysis/exp/pipeline/NHP_Bug/1_dataAnaly/FCAnaly/SKT/m1_SKT_calcciCOH_Fre19-21Hz_reach/ciCOH_STK_freq_19_21_reach.pickle\n",
      "/Users/linglingyang/yang7003@umn.edu/NMRC_umn/Projects/FCAnalysis/exp/pipeline/NHP_Bug/1_dataAnaly/FCAnaly/SKT/m1_SKT_calcciCOH_Fre19-21Hz_return/ciCOH_STK_freq_19_21_return.pickle\n"
     ]
    }
   ],
   "source": [
    "inputfolder_baseline = os.path.join(correparentfolder, 'm1_SKT_calcciCOH' \n",
    "                           + '_Fre' + str(freq[0]) + '-' + str(freq[1]) +'Hz' + '_baseline')\n",
    "inputfolder_reach = os.path.join(correparentfolder, 'm1_SKT_calcciCOH' \n",
    "                           + '_Fre' + str(freq[0]) + '-' + str(freq[1]) +'Hz' + '_reach')\n",
    "inputfolder_return = os.path.join(correparentfolder, 'm1_SKT_calcciCOH' \n",
    "                           + '_Fre' + str(freq[0]) + '-' + str(freq[1]) +'Hz' + '_return')\n",
    "\n",
    "filename_baseline = 'ciCOH_STK' + '_freq_' + str(freq[0]) + '_' + str(freq[1]) + '_baseline'\n",
    "filename_reach = 'ciCOH_STK' + '_freq_' + str(freq[0]) + '_' + str(freq[1]) + '_reach'\n",
    "filename_return = 'ciCOH_STK' + '_freq_' + str(freq[0]) + '_' + str(freq[1]) + '_return'\n",
    "\n",
    "if samedays:\n",
    "    filename_baseline = filename_baseline + '_sameday'\n",
    "    filename_reach = filename_reach + '_sameday'\n",
    "    filename_return = filename_return + '_sameday'\n",
    "\n",
    "file_baseline = os.path.join(inputfolder_baseline, filename_baseline + '.pickle')\n",
    "file_reach = os.path.join(inputfolder_reach, filename_reach + '.pickle')\n",
    "file_return = os.path.join(inputfolder_return, filename_return + '.pickle')\n",
    "\n",
    "print(file_baseline)\n",
    "print(file_reach)\n",
    "print(file_return)"
   ]
  },
  {
   "cell_type": "markdown",
   "metadata": {},
   "source": [
    "### save setup"
   ]
  },
  {
   "cell_type": "code",
   "execution_count": 7,
   "metadata": {},
   "outputs": [
    {
     "data": {
      "text/plain": [
       "'ciCOH_Hist_freq19_21'"
      ]
     },
     "execution_count": 7,
     "metadata": {},
     "output_type": "execute_result"
    }
   ],
   "source": [
    "savefolder = corresfolder\n",
    "savefile_prefix_origin = 'ciCOH_Hist' + '_' + strfreq \n",
    "if samedays:\n",
    "    savefile_prefix_origin  = savefile_prefix_origin + '_sameday'\n",
    "    \n",
    "savefile_prefix_origin"
   ]
  },
  {
   "cell_type": "markdown",
   "metadata": {},
   "source": [
    "## Load ciCOH and Channel"
   ]
  },
  {
   "cell_type": "code",
   "execution_count": 8,
   "metadata": {},
   "outputs": [],
   "source": [
    "fp = open(file_baseline, 'rb')\n",
    "ciCOH_baseline = pickle.load(fp)\n",
    "\n",
    "fp = open(file_reach, 'rb')\n",
    "ciCOH_reach = pickle.load(fp)\n",
    "\n",
    "fp = open(file_return, 'rb')\n",
    "ciCOH_return = pickle.load(fp)"
   ]
  },
  {
   "cell_type": "code",
   "execution_count": 11,
   "metadata": {},
   "outputs": [],
   "source": [
    "# ciCOH values\n",
    "ciCOH_normal_baseline, ciCOH_mild_baseline = ciCOH_baseline['normal'], ciCOH_baseline['mild']\n",
    "ciCOH_normal_reach, ciCOH_mild_reach = ciCOH_reach['normal'], ciCOH_reach['mild']\n",
    "ciCOH_normal_return, ciCOH_mild_return = ciCOH_return['normal'], ciCOH_return['mild']"
   ]
  },
  {
   "cell_type": "code",
   "execution_count": 14,
   "metadata": {},
   "outputs": [],
   "source": [
    "# channel information\n",
    "chnInf_normal = ciCOH_baseline['chnInf_normal']\n",
    "chnInf_recchni, chnInf_matchni = chnInf_normal['chnInf_recchni'], chnInf_normal['chnInf_matchni']\n",
    "chnInf_brainarea, chnInf_coord = chnInf_normal['chnInf_brainarea'], chnInf_normal['chnInf_coord']"
   ]
  },
  {
   "cell_type": "code",
   "execution_count": 16,
   "metadata": {},
   "outputs": [],
   "source": [
    "#### delete the mild channels those not in normal \n",
    "idx_MildChnsnotinNormal = [13, 18, 19, 21, 22, 25, 28]\n",
    "\n",
    "ciCOH = ciCOH_mild_baseline\n",
    "ciCOH = np.delete(ciCOH, idx_MildChnsnotinNormal, axis = 0)\n",
    "ciCOH = np.delete(ciCOH, idx_MildChnsnotinNormal, axis = 1)\n",
    "ciCOH_mild_baseline = ciCOH\n",
    "del ciCOH\n",
    "\n",
    "ciCOH = ciCOH_mild_reach\n",
    "ciCOH = np.delete(ciCOH, idx_MildChnsnotinNormal, axis = 0)\n",
    "ciCOH = np.delete(ciCOH, idx_MildChnsnotinNormal, axis = 1)\n",
    "ciCOH_mild_reach = ciCOH\n",
    "del ciCOH\n",
    "\n",
    "ciCOH = ciCOH_mild_return\n",
    "ciCOH = np.delete(ciCOH, idx_MildChnsnotinNormal, axis = 0)\n",
    "ciCOH = np.delete(ciCOH, idx_MildChnsnotinNormal, axis = 1)\n",
    "ciCOH_mild_return = ciCOH\n",
    "del ciCOH"
   ]
  },
  {
   "cell_type": "markdown",
   "metadata": {},
   "source": [
    "## Hist"
   ]
  },
  {
   "cell_type": "code",
   "execution_count": 17,
   "metadata": {},
   "outputs": [],
   "source": [
    "lowweight = 0.05"
   ]
  },
  {
   "cell_type": "markdown",
   "metadata": {},
   "source": [
    "### normal"
   ]
  },
  {
   "cell_type": "code",
   "execution_count": 18,
   "metadata": {},
   "outputs": [
    {
     "data": {
      "image/png": "[encoded data removed]",
      "text/plain": [
       "<Figure size 432x288 with 3 Axes>"
      ]
     },
     "metadata": {
      "needs_background": "light"
     },
     "output_type": "display_data"
    }
   ],
   "source": [
    "cond = 'normal'\n",
    "\n",
    "x_normal_baseline = np.reshape(ciCOH_normal_baseline, (-1))\n",
    "x_normal_reach = np.reshape(ciCOH_normal_reach, (-1))\n",
    "x_normal_return = np.reshape(ciCOH_normal_return, (-1))\n",
    "\n",
    "\n",
    "n_bins = 20\n",
    "\n",
    "fig, axs = plt.subplots(3, 1, tight_layout=True)\n",
    "\n",
    "# We can set the number of bins with the `bins` kwarg\n",
    "axs[0].hist(x_normal_baseline, bins=n_bins, label = 'baseline')\n",
    "axs[1].hist(x_normal_reach, bins=n_bins, label = 'reach')\n",
    "axs[2].hist(x_normal_return, bins=n_bins, label = 'return')\n",
    "\n",
    "\n",
    "axs[0].legend()\n",
    "axs[1].legend()\n",
    "axs[2].legend()\n",
    "\n",
    "left, right = axs[0].set_xlim()\n",
    "axs[1].set_xlim(left = left, right=right)\n",
    "axs[2].set_xlim(left = left, right=right)\n",
    "\n",
    "title = 'Hist ' + cond \n",
    "fig.suptitle(title, x = 0.55, y= 1,weight = 'bold')\n",
    "plt.savefig(os.path.join(savefolder, savefile_prefix_origin + title + '.png'))"
   ]
  },
  {
   "cell_type": "code",
   "execution_count": 19,
   "metadata": {},
   "outputs": [
    {
     "data": {
      "image/png": "[encoded data removed]",
      "text/plain": [
       "<Figure size 432x288 with 3 Axes>"
      ]
     },
     "metadata": {
      "needs_background": "light"
     },
     "output_type": "display_data"
    }
   ],
   "source": [
    "cond = 'normal'\n",
    "\n",
    "x_normal_baseline = np.reshape(ciCOH_normal_baseline, (-1))\n",
    "x_normal_reach = np.reshape(ciCOH_normal_reach, (-1))\n",
    "x_normal_return = np.reshape(ciCOH_normal_return, (-1))\n",
    "\n",
    "\n",
    "x_normal_baseline = x_normal_baseline[abs(x_normal_baseline)>=lowweight]\n",
    "x_normal_reach = x_normal_reach[abs(x_normal_reach)>=lowweight]\n",
    "x_normal_return = x_normal_return[abs(x_normal_return)>=lowweight]\n",
    "\n",
    "\n",
    "n_bins = 20\n",
    "\n",
    "fig, axs = plt.subplots(3, 1, tight_layout=True)\n",
    "\n",
    "# We can set the number of bins with the `bins` kwarg\n",
    "axs[0].hist(x_normal_baseline, bins=n_bins, label = 'baseline')\n",
    "axs[1].hist(x_normal_reach, bins=n_bins, label = 'reach')\n",
    "axs[2].hist(x_normal_return, bins=n_bins, label = 'return')\n",
    "\n",
    "\n",
    "axs[0].legend()\n",
    "axs[1].legend()\n",
    "axs[2].legend()\n",
    "\n",
    "left, right = axs[0].set_xlim()\n",
    "axs[1].set_xlim(left = left, right=right)\n",
    "axs[2].set_xlim(left = left, right=right)\n",
    "\n",
    "\n",
    "title = 'Hist ' + cond + '>' + str(lowweight)\n",
    "fig.suptitle(title, x = 0.55, y= 1,weight = 'bold')\n",
    "plt.savefig(os.path.join(savefolder, savefile_prefix_origin + title + '.png'))"
   ]
  },
  {
   "cell_type": "code",
   "execution_count": 20,
   "metadata": {},
   "outputs": [
    {
     "data": {
      "image/png": "[encoded data removed]",
      "text/plain": [
       "<Figure size 432x288 with 3 Axes>"
      ]
     },
     "metadata": {
      "needs_background": "light"
     },
     "output_type": "display_data"
    }
   ],
   "source": [
    "cond = 'normal'\n",
    "\n",
    "x_normal_baseline = np.reshape(abs(ciCOH_normal_baseline), (-1))\n",
    "x_normal_reach = np.reshape(abs(ciCOH_normal_reach), (-1))\n",
    "x_normal_return = np.reshape(abs(ciCOH_normal_return), (-1))\n",
    "\n",
    "\n",
    "x_normal_baseline = x_normal_baseline[abs(x_normal_baseline)>=lowweight]\n",
    "x_normal_reach = x_normal_reach[abs(x_normal_reach)>=lowweight]\n",
    "x_normal_return = x_normal_return[abs(x_normal_return)>=lowweight]\n",
    "\n",
    "\n",
    "n_bins = 20\n",
    "\n",
    "fig, axs = plt.subplots(3, 1, tight_layout=True)\n",
    "\n",
    "# We can set the number of bins with the `bins` kwarg\n",
    "axs[0].hist(x_normal_baseline, bins=n_bins, label = 'baseline')\n",
    "axs[1].hist(x_normal_reach, bins=n_bins, label = 'reach')\n",
    "axs[2].hist(x_normal_return, bins=n_bins, label = 'return')\n",
    "\n",
    "\n",
    "axs[0].legend()\n",
    "axs[1].legend()\n",
    "axs[2].legend()\n",
    "\n",
    "left, right = axs[0].set_xlim()\n",
    "axs[1].set_xlim(left = left, right=right)\n",
    "axs[2].set_xlim(left = left, right=right)\n",
    "\n",
    "\n",
    "title = 'Hist abs of ' + cond + '>' + str(lowweight)\n",
    "fig.suptitle(title, x = 0.55, y= 1,weight = 'bold')\n",
    "plt.savefig(os.path.join(savefolder, savefile_prefix_origin + title + '.png'))"
   ]
  },
  {
   "cell_type": "markdown",
   "metadata": {},
   "source": [
    "### mild"
   ]
  },
  {
   "cell_type": "code",
   "execution_count": 21,
   "metadata": {},
   "outputs": [
    {
     "data": {
      "image/png": "[encoded data removed]",
      "text/plain": [
       "<Figure size 432x288 with 3 Axes>"
      ]
     },
     "metadata": {
      "needs_background": "light"
     },
     "output_type": "display_data"
    }
   ],
   "source": [
    "cond = 'mild'\n",
    "\n",
    "x_mild_baseline = np.reshape(ciCOH_mild_baseline, (-1))\n",
    "x_mild_reach = np.reshape(ciCOH_mild_reach, (-1))\n",
    "x_mild_return = np.reshape(ciCOH_mild_return, (-1))\n",
    "\n",
    "\n",
    "n_bins = 20\n",
    "\n",
    "fig, axs = plt.subplots(3, 1, tight_layout=True)\n",
    "\n",
    "# We can set the number of bins with the `bins` kwarg\n",
    "axs[0].hist(x_mild_baseline, bins=n_bins, label = 'baseline')\n",
    "axs[1].hist(x_mild_reach, bins=n_bins, label = 'reach')\n",
    "axs[2].hist(x_mild_return, bins=n_bins, label = 'return')\n",
    "\n",
    "\n",
    "axs[0].legend()\n",
    "axs[1].legend()\n",
    "axs[2].legend()\n",
    "\n",
    "left, right = axs[0].set_xlim()\n",
    "axs[1].set_xlim(left = left, right=right)\n",
    "axs[2].set_xlim(left = left, right=right)\n",
    "\n",
    "title = 'Hist ' + cond \n",
    "fig.suptitle(title, x = 0.55, y= 1,weight = 'bold')\n",
    "plt.savefig(os.path.join(savefolder, savefile_prefix_origin + title + '.png'))"
   ]
  },
  {
   "cell_type": "code",
   "execution_count": 22,
   "metadata": {},
   "outputs": [
    {
     "data": {
      "image/png": "[encoded data removed]",
      "text/plain": [
       "<Figure size 432x288 with 3 Axes>"
      ]
     },
     "metadata": {
      "needs_background": "light"
     },
     "output_type": "display_data"
    }
   ],
   "source": [
    "cond = 'mild'\n",
    "\n",
    "x_mild_baseline = np.reshape(ciCOH_mild_baseline, (-1))\n",
    "x_mild_reach = np.reshape(ciCOH_mild_reach, (-1))\n",
    "x_mild_return = np.reshape(ciCOH_mild_return, (-1))\n",
    "\n",
    "\n",
    "x_mild_baseline = x_mild_baseline[abs(x_mild_baseline)>=lowweight]\n",
    "x_mild_reach = x_mild_reach[abs(x_mild_reach)>=lowweight]\n",
    "x_mild_return = x_mild_return[abs(x_mild_return)>=lowweight]\n",
    "\n",
    "\n",
    "n_bins = 20\n",
    "\n",
    "fig, axs = plt.subplots(3, 1, tight_layout=True)\n",
    "\n",
    "# We can set the number of bins with the `bins` kwarg\n",
    "axs[0].hist(x_mild_baseline, bins=n_bins, label = 'baseline')\n",
    "axs[1].hist(x_mild_reach, bins=n_bins, label = 'reach')\n",
    "axs[2].hist(x_mild_return, bins=n_bins, label = 'return')\n",
    "\n",
    "\n",
    "axs[0].legend()\n",
    "axs[1].legend()\n",
    "axs[2].legend()\n",
    "\n",
    "left, right = axs[0].set_xlim()\n",
    "axs[1].set_xlim(left = left, right=right)\n",
    "axs[2].set_xlim(left = left, right=right)\n",
    "\n",
    "title = 'Hist ' + cond + '>' + str(lowweight)\n",
    "fig.suptitle(title, x = 0.55, y= 1,weight = 'bold')\n",
    "plt.savefig(os.path.join(savefolder, savefile_prefix_origin + title + '.png'))"
   ]
  },
  {
   "cell_type": "code",
   "execution_count": 23,
   "metadata": {},
   "outputs": [
    {
     "data": {
      "image/png": "[encoded data removed]",
      "text/plain": [
       "<Figure size 432x288 with 3 Axes>"
      ]
     },
     "metadata": {
      "needs_background": "light"
     },
     "output_type": "display_data"
    }
   ],
   "source": [
    "cond = 'mild'\n",
    "\n",
    "x_mild_baseline = np.reshape(abs(ciCOH_mild_baseline), (-1))\n",
    "x_mild_reach = np.reshape(abs(ciCOH_mild_reach), (-1))\n",
    "x_mild_return = np.reshape(abs(ciCOH_mild_return), (-1))\n",
    "\n",
    "\n",
    "x_mild_baseline = x_mild_baseline[abs(x_mild_baseline)>=lowweight]\n",
    "x_mild_reach = x_mild_reach[abs(x_mild_reach)>=lowweight]\n",
    "x_mild_return = x_mild_return[abs(x_mild_return)>=lowweight]\n",
    "\n",
    "\n",
    "n_bins = 20\n",
    "\n",
    "fig, axs = plt.subplots(3, 1, tight_layout=True)\n",
    "\n",
    "# We can set the number of bins with the `bins` kwarg\n",
    "axs[0].hist(x_mild_baseline, bins=n_bins, label = 'baseline')\n",
    "axs[1].hist(x_mild_reach, bins=n_bins, label = 'reach')\n",
    "axs[2].hist(x_mild_return, bins=n_bins, label = 'return')\n",
    "\n",
    "\n",
    "axs[0].legend()\n",
    "axs[1].legend()\n",
    "axs[2].legend()\n",
    "\n",
    "left, right = axs[0].set_xlim()\n",
    "axs[1].set_xlim(left = left, right=right)\n",
    "axs[2].set_xlim(left = left, right=right)\n",
    "\n",
    "title = 'Hist of abs ' + cond + '>' + str(lowweight)\n",
    "fig.suptitle(title, x = 0.55, y= 1,weight = 'bold')\n",
    "plt.savefig(os.path.join(savefolder, savefile_prefix_origin + title + '.png'))"
   ]
  }
 ],
 "metadata": {
  "kernelspec": {
   "display_name": "Python 3",
   "language": "python",
   "name": "python3"
  },
  "language_info": {
   "codemirror_mode": {
    "name": "ipython",
    "version": 3
   },
   "file_extension": ".py",
   "mimetype": "text/x-python",
   "name": "python",
   "nbconvert_exporter": "python",
   "pygments_lexer": "ipython3",
   "version": "3.6.10"
  },
  "toc": {
   "base_numbering": 1,
   "nav_menu": {
    "height": "248px",
    "width": "255px"
   },
   "number_sections": false,
   "sideBar": true,
   "skip_h1_title": true,
   "title_cell": "Table of Contents",
   "title_sidebar": "",
   "toc_cell": false,
   "toc_position": {
    "height": "calc(100% - 180px)",
    "left": "10px",
    "top": "150px",
    "width": "165px"
   },
   "toc_section_display": true,
   "toc_window_display": true
  }
 },
 "nbformat": 4,
 "nbformat_minor": 2
}
