{
 "cells": [
  {
   "cell_type": "markdown",
   "metadata": {
    "toc": true
   },
   "source": [
    "<h1>Table of Contents<span class=\"tocSkip\"></span></h1>\n",
    "<div class=\"toc\"><ul class=\"toc-item\"><li><span><a href=\"#Import-Packages\" data-toc-modified-id=\"Import-Packages-1\">Import Packages</a></span></li></ul></div>"
   ]
  },
  {
   "cell_type": "markdown",
   "metadata": {},
   "source": [
    "## Import Packages "
   ]
  },
  {
   "cell_type": "code",
   "execution_count": 1,
   "metadata": {},
   "outputs": [],
   "source": [
    "import os, sys\n",
    "import numpy as np\n",
    "import pandas as pd\n",
    "\n",
    "import pickle\n",
    "\n",
    "import matplotlib.pyplot as plt\n",
    "\n",
    "from igraph.drawing.text import TextDrawer\n",
    "import cairo"
   ]
  },
  {
   "cell_type": "code",
   "execution_count": null,
   "metadata": {},
   "outputs": [],
   "source": [
    "# import_nbmodule used for import package in .ipynb\n",
    "import import_nbmodule\n",
    "\n",
    "# extract the exp folder path\n",
    "currfolder = os.getcwd()\n",
    "codefolder = currfolder[0 : currfolder.find('code')+len('code')]\n",
    "\n",
    "\n",
    "# import graphVisual in connAnalyTool/graphVisual.pynb \n",
    "from connAnalyTool import graphVisual\n",
    "\n",
    "\n",
    "# import threshold_ciCOH_normal function in simulated/ciCOH_threshold.pynb \n",
    "from simulated.ciCOH_threshold import threshold_ciCOH_normal"
   ]
  },
  {
   "cell_type": "code",
   "execution_count": null,
   "metadata": {},
   "outputs": [],
   "source": [
    "def ciCOH_visual_save(ciCOH, chnInf_brainarea, chnInf_coord, chnInf_recchni, lowweight, savefile, texts, \n",
    "                      edgeWider = False, edgeWiderMul = 2):\n",
    "    \"\"\"\n",
    "        \n",
    "        Args:\n",
    "            \n",
    "            ciCOH (np.sdarray): ciCOH matrix (nchns, nchns)\n",
    "            \n",
    "            chnInf_brainarea (list): a list of string representing brain area for each channel, len(chn_area) = nchns\n",
    "            \n",
    "            chnInf_coord (numpy.ndarray): x, y coordinates for each channel, shape = (nchns, 2)\n",
    "            \n",
    "            chnInf_recchni(list): showed recording chni for each channel, shape = (nchns, )\n",
    "            \n",
    "            lowweight: the threshold lowweight, only weight>lowweight is treated as connection\n",
    "            \n",
    "            savefile: file to save the visualized figure\n",
    "            \n",
    "            texts: dict, the texts shown with positions, e.g. {'VPLo': [20, 40, 20], 'VLo': [20, 120, 20]}\n",
    "            \n",
    "            edgeWider: whether to wider the edger (default: False)\n",
    "            \n",
    "            edgeWiderMul: if edgeWider = True, this value is used for wider the edge width\n",
    "            \n",
    "        Output:\n",
    "            the visualizaton of ciCOH is saved in savefile\n",
    "            \n",
    "    \"\"\"\n",
    "    \n",
    "    weight = abs(ciCOH)\n",
    "\n",
    "    # weight > lowweight\n",
    "    weight[np.where(weight<lowweight)] =0\n",
    "    \n",
    "    graph = graphVisual.graph_create(weight, vsarea = chnInf_brainarea, \n",
    "                                     vscoord = chnInf_coord, vschni = chnInf_recchni)\n",
    "\n",
    "    # set graph visualization style\n",
    "    visual_style = dict()\n",
    "    if edgeWider:\n",
    "        visual_style['edge_width'] = [w * edgeWiderMul for w in graph.es['weight']]\n",
    "    \n",
    "    visual_style = graphVisual.graph_style(graph, visual_style)\n",
    "    \n",
    "\n",
    "    igplot = graphVisual.graph_plot(graph, visual_style, texts = texts)\n",
    "    \n",
    "    igplot.save(savefile)\n",
    "    \n",
    "    return igplot"
   ]
  },
  {
   "cell_type": "code",
   "execution_count": null,
   "metadata": {},
   "outputs": [],
   "source": [
    "def unwanted_chandata_del(ciCOH, areas_unwanted, chnInf_recchni, chnInf_brainarea, chnInf_coord):\n",
    "    \"\"\"\n",
    "        delete unwanted channels from ciCOH matrix\n",
    "        \n",
    "        @paras:\n",
    "            ciCOH:\n",
    "            \n",
    "            areas_unwanted:\n",
    "            \n",
    "            chnInf_recchni(list): showed recording chni for each channel, shape = (nchns, )\n",
    "            \n",
    "            chnInf_brainarea (list): a list of string representing brain area for each channel, len(chn_area) = nchns\n",
    "            \n",
    "            chnInf_coord (numpy.ndarray): x, y coordinates for each channel, shape = (nchns, 2) \n",
    "        \n",
    "    \"\"\"\n",
    "    \n",
    "    chns_unwanted = []\n",
    "    for area_unwanted in areas_unwanted:\n",
    "        for i, area in enumerate(chnInf_brainarea):\n",
    "            if area == area_unwanted:\n",
    "                chns_unwanted.append(i)\n",
    "    \n",
    "    nchns = ciCOH.shape[0]\n",
    "    ciCOH = np.delete(ciCOH, chns_unwanted, axis = 0)\n",
    "    ciCOH = np.delete(ciCOH, chns_unwanted, axis = 1)\n",
    "    \n",
    "    \n",
    "    chnInf_recchni = [i for j, i in enumerate(chnInf_recchni) if j not in chns_unwanted]\n",
    "    chnInf_brainarea = [i for j, i in enumerate(chnInf_brainarea) if j not in chns_unwanted]\n",
    "    chnInf_coord = [i for j, i in enumerate(chnInf_coord) if j not in chns_unwanted]\n",
    "\n",
    "    return ciCOH, chnInf_recchni, chnInf_brainarea, chnInf_coord"
   ]
  }
 ],
 "metadata": {
  "kernelspec": {
   "display_name": "Python 3",
   "language": "python",
   "name": "python3"
  },
  "language_info": {
   "codemirror_mode": {
    "name": "ipython",
    "version": 3
   },
   "file_extension": ".py",
   "mimetype": "text/x-python",
   "name": "python",
   "nbconvert_exporter": "python",
   "pygments_lexer": "ipython3",
   "version": "3.6.10"
  },
  "toc": {
   "base_numbering": 1,
   "nav_menu": {},
   "number_sections": false,
   "sideBar": false,
   "skip_h1_title": false,
   "title_cell": "Table of Contents",
   "title_sidebar": "Contents",
   "toc_cell": true,
   "toc_position": {},
   "toc_section_display": true,
   "toc_window_display": true
  }
 },
 "nbformat": 4,
 "nbformat_minor": 4
}
