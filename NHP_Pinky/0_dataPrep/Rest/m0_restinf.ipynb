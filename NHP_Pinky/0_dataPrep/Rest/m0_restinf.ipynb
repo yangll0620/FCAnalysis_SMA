{
 "cells": [
  {
   "cell_type": "markdown",
   "metadata": {},
   "source": [
    "# Functionality:\n",
    "extract rest inf with the same date of skb task"
   ]
  },
  {
   "cell_type": "markdown",
   "metadata": {},
   "source": [
    "## Import Packages "
   ]
  },
  {
   "cell_type": "code",
   "execution_count": 1,
   "metadata": {},
   "outputs": [],
   "source": [
    "import os, sys\n",
    "import numpy as np\n",
    "import glob\n",
    "import scipy.io as sio\n",
    "import pandas as pd\n",
    "\n",
    "from numpy.fft import fft, fftfreq\n",
    "from scipy.signal import spectrogram\n",
    "from datetime import datetime\n",
    "\n",
    "import matplotlib.pyplot as plt"
   ]
  },
  {
   "cell_type": "code",
   "execution_count": 2,
   "metadata": {},
   "outputs": [
    {
     "name": "stdout",
     "output_type": "stream",
     "text": [
      "importing Jupyter notebook from /home/lingling/yang7003@umn.edu/NMRC_umn/Projects/FCAnalysis/exp/code/util/folder_extract.ipynb\n",
      "importing Jupyter notebook from /home/lingling/yang7003@umn.edu/NMRC_umn/Projects/FCAnalysis/exp/code/util/parsePDCondition.ipynb\n"
     ]
    }
   ],
   "source": [
    "# extract the exp folder path\n",
    "currfolder = os.getcwd()\n",
    "codefolder = currfolder[0 : currfolder.find('code')+len('code')]\n",
    "\n",
    "# add path the exp folder\n",
    "sys.path.append(codefolder)\n",
    "\n",
    "# import_nbmodule used for import package in .ipynb\n",
    "import import_nbmodule\n",
    "\n",
    "# import functions in util folder\n",
    "from util.folder_extract import exp_subfolders, code_corresfolder\n",
    "from util.parsePDCondition import parsePDCondition_Pinky"
   ]
  },
  {
   "cell_type": "markdown",
   "metadata": {},
   "source": [
    "## exp subfolders"
   ]
  },
  {
   "cell_type": "code",
   "execution_count": 3,
   "metadata": {},
   "outputs": [],
   "source": [
    "datafolder, _, pipelinefolder, _= exp_subfolders()"
   ]
  },
  {
   "cell_type": "markdown",
   "metadata": {},
   "source": [
    "## code_corresfolder"
   ]
  },
  {
   "cell_type": "code",
   "execution_count": 4,
   "metadata": {},
   "outputs": [
    {
     "data": {
      "application/javascript": [
       "IPython.notebook.kernel.execute('nb_name = \"' + IPython.notebook.notebook_name + '\"')\n"
      ],
      "text/plain": [
       "<IPython.core.display.Javascript object>"
      ]
     },
     "metadata": {},
     "output_type": "display_data"
    }
   ],
   "source": [
    "%%javascript\n",
    "IPython.notebook.kernel.execute('nb_name = \"' + IPython.notebook.notebook_name + '\"')"
   ]
  },
  {
   "cell_type": "code",
   "execution_count": 5,
   "metadata": {},
   "outputs": [],
   "source": [
    "nb_name = nb_name[0: nb_name.find('.ipynb')]\n",
    "\n",
    "# corresfolder\n",
    "corresfolder = code_corresfolder(os.getcwd(), nb_name)"
   ]
  },
  {
   "cell_type": "markdown",
   "metadata": {},
   "source": [
    "## global parameter &save setup"
   ]
  },
  {
   "cell_type": "code",
   "execution_count": 6,
   "metadata": {},
   "outputs": [],
   "source": [
    "animal = 'Pinky'"
   ]
  },
  {
   "cell_type": "code",
   "execution_count": 7,
   "metadata": {},
   "outputs": [],
   "source": [
    "savefolder = corresfolder\n",
    "savefilename = animal + '_restinf.csv'\n",
    "savefile = os.path.join(savefolder, savefilename)"
   ]
  },
  {
   "cell_type": "markdown",
   "metadata": {},
   "source": [
    "## read mastersheet & skbinf "
   ]
  },
  {
   "cell_type": "code",
   "execution_count": 8,
   "metadata": {},
   "outputs": [],
   "source": [
    "# read mastersheet file\n",
    "file_mastersheet = os.path.join(datafolder, 'pinky_mastersheet.xlsx')\n",
    "df_master = pd.read_excel(file_mastersheet, sheet_name='MasterList')\n",
    "\n",
    "\n",
    "# extract outputfolder, task, and tdtblock\n",
    "master_outputfolder = df_master['OutputFolderName']\n",
    "master_task = df_master['Brief Description']\n",
    "master_tdtblock = df_master['TDT Block']"
   ]
  },
  {
   "cell_type": "code",
   "execution_count": 9,
   "metadata": {},
   "outputs": [],
   "source": [
    "# read skbinf file\n",
    "file_skbinf = os.path.join(datafolder, 'pinky_skbinf.csv')\n",
    "df_skbinf = pd.read_csv(file_skbinf,\n",
    "                        dtype={'dateofexp': str, 'bktdt': int})\n",
    "\n",
    "\n",
    "# skbinf_dateofexp(str), skbinf_bktdt (int)\n",
    "skbinf_dateofexp, skbinf_bktdt = df_skbinf['dateofexp'], df_skbinf['bktdt']\n",
    "\n",
    "# Marked Yes under YingUsed\n",
    "skbinf_yingused, skbinf_extremelyhighValue = df_skbinf['YingUsed'], df_skbinf['ExtramelyHigh']"
   ]
  },
  {
   "cell_type": "markdown",
   "metadata": {},
   "source": [
    "## extract rest inf with the same date of skb task"
   ]
  },
  {
   "cell_type": "code",
   "execution_count": 10,
   "metadata": {},
   "outputs": [],
   "source": [
    "## deal with each date of exp for yingusd without high value\n",
    "rest_dateofexp, rest_bktdt, rest_pdCondition = [], [], []\n",
    "for date in skbinf_dateofexp[(skbinf_yingused == 'Yes') & (skbinf_extremelyhighValue != 'Yes')]:\n",
    "    \n",
    "    # dateofexp(datetime object)\n",
    "    dateofexp = datetime.strptime(date, '%y%m%d')\n",
    "    \n",
    "    # date of exp subfolder\n",
    "    subfolder_dateofexp = animal + '_' + dateofexp.strftime('%m%d%y')\n",
    "    \n",
    "    # extract the tdt block number of resting in dateofexp\n",
    "    mask = (master_outputfolder == subfolder_dateofexp) & (master_task == 'Resting')\n",
    "    bktdt = int(master_tdtblock[mask])\n",
    "    \n",
    "    \n",
    "    # append to rest_dateofexp, rest_bktdt\n",
    "    rest_dateofexp.append(dateofexp.strftime('%y%m%d'))\n",
    "    rest_bktdt.append(bktdt)\n",
    "    rest_pdCondition.append(parsePDCondition_Pinky(dateofexp))\n",
    "    \n",
    "    del dateofexp, subfolder_dateofexp, mask, bktdt"
   ]
  },
  {
   "cell_type": "markdown",
   "metadata": {},
   "source": [
    "## save"
   ]
  },
  {
   "cell_type": "code",
   "execution_count": 11,
   "metadata": {},
   "outputs": [
    {
     "name": "stdout",
     "output_type": "stream",
     "text": [
      "save to /home/lingling/yang7003@umn.edu/NMRC_umn/Projects/FCAnalysis/exp/pipeline/NHP_Pinky/0_dataPrep/0_restinf/Pinky_restinf.csv\n"
     ]
    }
   ],
   "source": [
    "df = pd.DataFrame({'dateofexp': rest_dateofexp,\n",
    "                   'bktdt': rest_bktdt,\n",
    "                   'pdCondition': rest_pdCondition})\n",
    "df.to_csv(savefile)\n",
    "print('save to ' + savefile)"
   ]
  }
 ],
 "metadata": {
  "kernelspec": {
   "display_name": "Python 3",
   "language": "python",
   "name": "python3"
  },
  "language_info": {
   "codemirror_mode": {
    "name": "ipython",
    "version": 3
   },
   "file_extension": ".py",
   "mimetype": "text/x-python",
   "name": "python",
   "nbconvert_exporter": "python",
   "pygments_lexer": "ipython3",
   "version": "3.6.6"
  },
  "toc": {
   "base_numbering": 1,
   "nav_menu": {},
   "number_sections": false,
   "sideBar": true,
   "skip_h1_title": true,
   "title_cell": "Table of Contents",
   "title_sidebar": "",
   "toc_cell": false,
   "toc_position": {
    "height": "calc(100% - 180px)",
    "left": "10px",
    "top": "150px",
    "width": "370.6px"
   },
   "toc_section_display": true,
   "toc_window_display": true
  }
 },
 "nbformat": 4,
 "nbformat_minor": 2
}
