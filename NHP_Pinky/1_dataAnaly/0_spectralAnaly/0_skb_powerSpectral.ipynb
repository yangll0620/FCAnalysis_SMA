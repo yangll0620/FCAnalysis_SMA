{
 "cells": [
  {
   "cell_type": "markdown",
   "metadata": {},
   "source": [
    "# Functionality:"
   ]
  },
  {
   "cell_type": "markdown",
   "metadata": {},
   "source": [
    "## Import Packages "
   ]
  },
  {
   "cell_type": "code",
   "execution_count": 1,
   "metadata": {},
   "outputs": [],
   "source": [
    "import os, sys\n",
    "import numpy as np\n",
    "import glob\n",
    "import scipy.io as sio\n",
    "import pandas as pd\n",
    "\n",
    "from numpy.fft import fft, fftfreq\n",
    "from scipy.signal import spectrogram\n",
    "\n",
    "import matplotlib.pyplot as plt"
   ]
  },
  {
   "cell_type": "code",
   "execution_count": 2,
   "metadata": {},
   "outputs": [
    {
     "name": "stdout",
     "output_type": "stream",
     "text": [
      "importing Jupyter notebook from /home/lingling/yang7003@umn.edu/NMRC_umn/Projects/FCAnalysis/exp/code/util/folder_extract.ipynb\n"
     ]
    }
   ],
   "source": [
    "# extract the exp folder path\n",
    "currfolder = os.getcwd()\n",
    "codefolder = currfolder[0 : currfolder.find('code')+len('code')]\n",
    "\n",
    "# add path the exp folder\n",
    "sys.path.append(codefolder)\n",
    "\n",
    "# import_nbmodule used for import package in .ipynb\n",
    "import import_nbmodule\n",
    "\n",
    "# import animal_folder function in util/folder_extract.pynb \n",
    "from util.folder_extract import exp_subfolders, code_corresfolder"
   ]
  },
  {
   "cell_type": "markdown",
   "metadata": {},
   "source": [
    "## exp subfolders"
   ]
  },
  {
   "cell_type": "code",
   "execution_count": 3,
   "metadata": {},
   "outputs": [],
   "source": [
    "_, _, pipelinefolder, _= exp_subfolders()\n"
   ]
  },
  {
   "cell_type": "markdown",
   "metadata": {},
   "source": [
    "## code_corresfolder"
   ]
  },
  {
   "cell_type": "code",
   "execution_count": 4,
   "metadata": {},
   "outputs": [
    {
     "data": {
      "application/javascript": [
       "IPython.notebook.kernel.execute('nb_name = \"' + IPython.notebook.notebook_name + '\"')\n"
      ],
      "text/plain": [
       "<IPython.core.display.Javascript object>"
      ]
     },
     "metadata": {},
     "output_type": "display_data"
    }
   ],
   "source": [
    "%%javascript\n",
    "IPython.notebook.kernel.execute('nb_name = \"' + IPython.notebook.notebook_name + '\"')"
   ]
  },
  {
   "cell_type": "code",
   "execution_count": 5,
   "metadata": {},
   "outputs": [],
   "source": [
    "nb_name = nb_name[0: nb_name.find('.ipynb')]\n",
    "\n",
    "# corresfolder\n",
    "corresfolder = code_corresfolder(os.getcwd(), nb_name)"
   ]
  },
  {
   "cell_type": "markdown",
   "metadata": {},
   "source": [
    "## global parameters"
   ]
  },
  {
   "cell_type": "code",
   "execution_count": 6,
   "metadata": {},
   "outputs": [],
   "source": [
    "epochfolder = os.path.join(pipelinefolder, 'NHP_Pinky', '0_dataPrep', 'STKtrialextract_0')\n",
    "savefolder = corresfolder"
   ]
  },
  {
   "cell_type": "code",
   "execution_count": 7,
   "metadata": {},
   "outputs": [],
   "source": [
    "# trial selection based on reach time and return time\n",
    "criteria_reachtime = np.array([0.45, 0.8])\n",
    "criteria_returntime = np.array([0.5, 0.75])"
   ]
  },
  {
   "cell_type": "code",
   "execution_count": 8,
   "metadata": {},
   "outputs": [],
   "source": [
    "# analyzed frequency range [1 100]Hz\n",
    "freqs = np.asarray([i for i in range(1, 101)])"
   ]
  },
  {
   "cell_type": "markdown",
   "metadata": {},
   "source": [
    "## extract Channel Information\n",
    "\n",
    "load channel information from pipeline/1_dataAnaly/FCAnaly/1_simulatedLocs"
   ]
  },
  {
   "cell_type": "code",
   "execution_count": 9,
   "metadata": {},
   "outputs": [],
   "source": [
    "## load channel information ##\n",
    "chnInf_folder = os.path.join(pipelinefolder,'NHP_Pinky','1_dataAnaly','FCAnaly', '1_simulatedLocs_M1ThaSMA')\n",
    "\n",
    "chnInf_file = os.path.join(chnInf_folder, 'chn_brainArea_simCoord_M1ThaSMA.csv')\n",
    "\n",
    "df = pd.read_csv(chnInf_file, header = 0)"
   ]
  },
  {
   "cell_type": "code",
   "execution_count": 10,
   "metadata": {},
   "outputs": [],
   "source": [
    "# channel matchni and recording chni \n",
    "chnInf_matchni, chnInf_recchni = df['mat_chni'], df['recording_chni']\n",
    "\n",
    "chnInf_brainarea = df['brainarea']\n",
    "\n",
    "x, y = df['simulated_x'].to_numpy(), df['simulated_y'].to_numpy()\n",
    "chnInf_coord = np.concatenate((np.expand_dims(x, axis = 1), np.expand_dims(y, axis = 1)), axis = 1)\n",
    "\n",
    "\n",
    "\n",
    "\n",
    "#########################  \n",
    "# Remove nonused channels \n",
    "#########################\n",
    "\n",
    "# extract the indices in which the corresponding channels are not used\n",
    "idx_mask = ~chnInf_brainarea.isnull()\n",
    "idx_notused = [i for i, isnan in enumerate(idx_mask) if isnan == False]\n",
    "\n",
    "chnInf_matchni = chnInf_matchni[idx_mask].to_numpy()\n",
    "\n",
    "chnInf_recchni = chnInf_recchni[idx_mask].to_numpy()\n",
    "\n",
    "chnInf_brainarea = chnInf_brainarea[idx_mask].tolist()\n",
    "\n",
    "chnInf_coord = chnInf_coord[idx_mask]"
   ]
  },
  {
   "cell_type": "code",
   "execution_count": 11,
   "metadata": {},
   "outputs": [],
   "source": [
    "# extract the channel number of M1 in mat data\n",
    "chnsmat_M1 = list()\n",
    "for i, brainarea in enumerate(chnInf_brainarea):\n",
    "    if brainarea == 'M1':\n",
    "        chnsmat_M1.append(chnInf_matchni[i])"
   ]
  },
  {
   "cell_type": "markdown",
   "metadata": {},
   "source": [
    "## Power Calculation"
   ]
  },
  {
   "cell_type": "markdown",
   "metadata": {},
   "source": [
    "### power_1file()"
   ]
  },
  {
   "cell_type": "code",
   "execution_count": 26,
   "metadata": {
    "code_folding": []
   },
   "outputs": [],
   "source": [
    "def power_1file(filename, chns, freqs, criteria_reachtime, criteria_returntime):\n",
    "    \"\"\" \n",
    "    \n",
    "        calculate the power of one file, trials selection based on reach time and return time, \n",
    "                    one trial is extract as [t_targeton - 0.2, t_mouth]s\n",
    "        \n",
    "        Args:\n",
    "        \n",
    "            filename: file name \n",
    "            \n",
    "            chns: channel number, <class 'numpy.ndarray'>, shape = (nchns, )\n",
    "            \n",
    "            freqs: frequencies at which power will be calcualted, <class 'numpy.ndarray'>, shape = (nfreqs, )\n",
    "            \n",
    "            criteria_reachtime (np.ndarray): the trial selection criteria of reach time, \n",
    "                                            e.g criteria_reachtime = np.array([0.45, 0.8])\n",
    "            \n",
    "            criteria_returntime (np.nadrray): the trial selection criteria of reach time, \n",
    "                                            e.g. criteria_returntime = np.array([0.5, 0.75])\n",
    "            \n",
    "            \n",
    "        Return:\n",
    "            freqs_powers: calculated powers at freqs, shape = (nfreqs, 2), one sample = [freq, power]\n",
    "            \n",
    "    \"\"\"\n",
    "    \n",
    "    ### load mat file and extract data ###\n",
    "    dat = sio.loadmat(filename, \n",
    "                      variable_names = ['idxevent', 'fs', 'lfptrial', 'idxevent_varNames'], \n",
    "                      squeeze_me = True,\n",
    "                      mat_dtype = True)\n",
    "\n",
    "\n",
    "    # extract idxevent: numpy.ndarray(shape = (ntrials, 5)), idxevent_varNames: numpy.ndarray(nshape = (5,))\n",
    "    idxevent, idxevent_varNames = dat['idxevent'], dat['idxevent_varNames']\n",
    "    # extract fs\n",
    "    fs = dat['fs']\n",
    "    # extract lfp trial: nchns * ntemporals * ntrials\n",
    "    lfptrial = dat['lfptrial']\n",
    "\n",
    "    \n",
    "    \n",
    "    \n",
    "    ### extract the column index of each event and the phase ###\n",
    "    coli_targeton = np.squeeze(np.where(idxevent_varNames == 'TargetTime'))\n",
    "    coli_reachon = np.squeeze(np.where(idxevent_varNames == 'ReachTimeix'))\n",
    "    coli_touch = np.squeeze(np.where(idxevent_varNames == 'TouchTimeix'))\n",
    "    coli_returnon = np.squeeze(np.where(idxevent_varNames == 'ReturnTimeix'))\n",
    "    coli_mouth = np.squeeze(np.where(idxevent_varNames == 'MouthTimeix'))\n",
    "\n",
    "    # column indices of reach and return phases\n",
    "    cols_reachphase = [coli_reachon] + [coli_touch]\n",
    "    cols_returnphase = [coli_returnon] + [coli_mouth]\n",
    "    \n",
    "    \n",
    "    \n",
    "    \n",
    "    ### calculate the power of each frequency in freqs from all the trials ###\n",
    "    ntrials, _= idxevent.shape\n",
    "    # dictionary powers_dict for storing power of each frequency\n",
    "    powers_dict = dict()\n",
    "    for triali in range(ntrials):\n",
    "        \n",
    "        ### remove the trials with reach time or return time not in criteria ###\n",
    "        # reach time, and return time\n",
    "        reachtime = (int(idxevent[triali, cols_reachphase[1]]) - int(idxevent[triali, cols_reachphase[0]]))/fs\n",
    "        returntime = (int(idxevent[triali, cols_returnphase[1]]) - int(idxevent[triali, cols_returnphase[0]]))/fs\n",
    "\n",
    "        # if reach time is not in criteria_reachtime\n",
    "        if(not(criteria_reachtime[0]<reachtime<criteria_reachtime[1])):\n",
    "            continue;\n",
    "        # if return time is not in criteria_returntime\n",
    "        if (not(criteria_returntime[0]<returntime<criteria_returntime[1])):\n",
    "            continue;\n",
    "           \n",
    "            \n",
    "        \n",
    "        ### data extraction part ###\n",
    "        # start and end indices over time of specific phase for triali [t_targeton - 0.2, t_mouth]s\n",
    "        idxtime_str, idxtime_end = int(idxevent[triali, coli_reachon]), int(idxevent[triali, coli_mouth])\n",
    "\n",
    "        # extract lfp data of chns for time frequency analysis: shape = (nchns, ntemporals)\n",
    "        lfp = lfptrial[chns, idxtime_str:idxtime_end, triali]\n",
    "\n",
    "        # average across all the channels: shape = (ntemporals,)\n",
    "        avglfp = np.mean(lfp, axis = 0)\n",
    "\n",
    "        \n",
    "        \n",
    "        ### power calculation part ###\n",
    "        # nfft: the length for fft\n",
    "        nfft = len(avglfp)\n",
    "\n",
    "        # fft\n",
    "        fft_lfp = fft(avglfp)\n",
    "\n",
    "        # power\n",
    "        power_lfp = np.square(np.abs(fft_lfp))/nfft\n",
    "\n",
    "        # sample frequencies of Discrete Fourier Transform \n",
    "        freqs_fft = fftfreq(nfft, 1/fs)\n",
    "\n",
    "        # ignore the negative frequencies\n",
    "        mask_f = freqs_fft > 0\n",
    "        freqs_fft = freqs_fft[mask_f]\n",
    "        power_lfp = power_lfp[mask_f]\n",
    "        \n",
    "\n",
    "        \n",
    "        ### round power to the nearest frequency in freqs_all ### \n",
    "        # index of the nearest frequency for all the frequency in freqs\n",
    "        idx_round = [np.abs(freqs - freq_fft).argmin() for freq_fft in freqs_fft if freq_fft <= freqs[-1] + 0.5]\n",
    "\n",
    "        # add power of each nearest frequency into dictionary powers_dict\n",
    "        for idx in idx_round:\n",
    "            if idx in powers_dict.keys():\n",
    "                powers_dict[idx] = powers_dict[idx] + [power_lfp[idx]]\n",
    "            else:\n",
    "                powers_dict[idx] = [power_lfp[idx]]\n",
    "    \n",
    "    \n",
    "        \n",
    "        ### delete temporal variables ###\n",
    "        del reachtime, returntime\n",
    "        del idxtime_str, idxtime_end, lfp, avglfp\n",
    "        del nfft, fft_lfp, power_lfp, freqs_fft, mask_f\n",
    "        del idx_round, idx\n",
    "    \n",
    "    \n",
    "    \n",
    "\n",
    "    ### power average across all trials ###\n",
    "    freqs_powers = np.empty(shape=[0,2])\n",
    "    for idx, freq in enumerate(freqs):\n",
    "\n",
    "        if idx in powers_dict.keys():\n",
    "\n",
    "            # calculate the mean power\n",
    "            power = np.mean(powers_dict[idx])\n",
    "\n",
    "        else:\n",
    "            # no power for freq\n",
    "            power = -1\n",
    "\n",
    "        newentry = np.expand_dims(np.array([freq, power]), axis = 0)\n",
    "\n",
    "        # add to powers_freqs\n",
    "        freqs_powers = np.append(freqs_powers, newentry, axis = 0)\n",
    "\n",
    "        del power, newentry\n",
    "\n",
    "    freqs_powers = np.asarray(freqs_powers)\n",
    "    \n",
    "    return freqs_powers"
   ]
  },
  {
   "cell_type": "markdown",
   "metadata": {},
   "source": [
    "### power_allfiles()"
   ]
  },
  {
   "cell_type": "code",
   "execution_count": 27,
   "metadata": {
    "code_folding": []
   },
   "outputs": [],
   "source": [
    "def power_allfiles(epochfolder, condition, freqs, chns, criteria_reachtime, criteria_returntime):\n",
    "    \n",
    "    \"\"\" \n",
    "    \n",
    "        return the mean power of all file in one condition ('mild' or 'normal') in the datfolder\n",
    "        \n",
    "        Args:\n",
    "        \n",
    "            epochfolder: epoch data folder\n",
    "            \n",
    "            condition: 'mild' or 'normal'\n",
    "            \n",
    "            freqs_all: frequencies at which power will be calcualted, <class 'numpy.ndarray'>, shape = (nfreqs, )\n",
    "            \n",
    "        Return:\n",
    "            powers_allfiles (np.ndarray): calculated powers at freqs of all files, shape = (nfreqs, nfiles)\n",
    "            \n",
    "            avgpower_allfiles (np.ndarray): calculated average powers at freqs, shape = (nfreqs,)\n",
    "            \n",
    "    \n",
    "    \n",
    "    \"\"\"\n",
    "\n",
    "    # condition file pattern\n",
    "    filepatt = os.path.join(epochfolder, \"*\" + condition + \"*.mat\") \n",
    "\n",
    "    # extract all .mat files in normal in epoch folder\n",
    "    files = glob.glob(filepatt)\n",
    "    \n",
    "    nfreqs, nfiles = len(freqs), len(files)\n",
    "    \n",
    "    # powers_freqs_allfiles store the powers of all files, shape = (nfreqs, nfiles) \n",
    "    powers_allfiles = np.zeros((nfreqs, nfiles))\n",
    "    \n",
    "    # add power_freqs of each file into powers_freqs_allfiles\n",
    "    for filei, filename in enumerate(files):\n",
    "        \n",
    "        # the power of one file, freqs_powers: (nfreqs, 2)\n",
    "        freqs_powers = power_1file(filename, chns, freqs, criteria_reachtime, criteria_returntime) \n",
    "        \n",
    "        # assign to power_allfiles\n",
    "        powers_allfiles[:,0] = freqs_powers[:,1]\n",
    "        \n",
    "        del freqs_powers\n",
    "     \n",
    "    \n",
    "    # average across all files\n",
    "    avgpower_allfiles = np.zeros((nfreqs))\n",
    "    for freqi in range(nfreqs):\n",
    "        \n",
    "        powers = powers_allfiles[freqi]\n",
    "        \n",
    "        # ignore the power of value -1\n",
    "        powers = powers[powers != -1]\n",
    "        \n",
    "        \n",
    "        avgpower_allfiles[freqi] = np.mean(powers) \n",
    "        \n",
    "        del powers\n",
    "    \n",
    "    \n",
    "    # return\n",
    "    return powers_allfiles, avgpower_allfiles"
   ]
  },
  {
   "cell_type": "code",
   "execution_count": 28,
   "metadata": {},
   "outputs": [],
   "source": [
    "# powers of all the files and the averaged power in normal condition\n",
    "condition = 'normal'\n",
    "powers_normal, avgpower_normal = power_allfiles(epochfolder = epochfolder, condition = condition, freqs = freqs, chns = chnsmat_M1, criteria_reachtime = criteria_reachtime, criteria_returntime = criteria_reachtime)"
   ]
  },
  {
   "cell_type": "code",
   "execution_count": 29,
   "metadata": {},
   "outputs": [],
   "source": [
    "# powers of all the files and the averaged power in mild condition\n",
    "condition = 'mild'\n",
    "powers_mild, avgpower_mild = power_allfiles(epochfolder = epochfolder, condition = condition, freqs = freqs, chns = chnsmat_M1, criteria_reachtime = criteria_reachtime, criteria_returntime = criteria_reachtime)"
   ]
  },
  {
   "cell_type": "markdown",
   "metadata": {},
   "source": [
    "## Plot"
   ]
  },
  {
   "cell_type": "code",
   "execution_count": 30,
   "metadata": {},
   "outputs": [
    {
     "data": {
      "image/png": "[encoded data removed]",
      "text/plain": [
       "<Figure size 432x288 with 1 Axes>"
      ]
     },
     "metadata": {
      "needs_background": "light"
     },
     "output_type": "display_data"
    }
   ],
   "source": [
    "logpower = np.log2(avgpower_normal)\n",
    "condition = 'normal'\n",
    "plt.plot(freqs[5:40,], avgpower_normal[5:40,])\n",
    "plt.xlabel('frequency')\n",
    "plt.ylabel('power')\n",
    "plt.title(condition)\n",
    "plt.savefig(os.path.join(savefolder, 'powerSpectral_' + condition + '.png'))"
   ]
  },
  {
   "cell_type": "code",
   "execution_count": 31,
   "metadata": {},
   "outputs": [
    {
     "data": {
      "image/png": "[encoded data removed]",
      "text/plain": [
       "<Figure size 432x288 with 1 Axes>"
      ]
     },
     "metadata": {
      "needs_background": "light"
     },
     "output_type": "display_data"
    }
   ],
   "source": [
    "logpower = np.log10(avgpower_mild)\n",
    "condition = 'mild'\n",
    "plt.plot(freqs[5:40,], avgpower_mild[5:40,])\n",
    "plt.xlabel('frequency')\n",
    "plt.ylabel('power')\n",
    "plt.title(condition)\n",
    "plt.savefig(os.path.join(savefolder, 'powerSpectral_' + condition + '.png'))"
   ]
  }
 ],
 "metadata": {
  "kernelspec": {
   "display_name": "Python 2",
   "language": "python",
   "name": "python2"
  },
  "language_info": {
   "codemirror_mode": {
    "name": "ipython",
    "version": 3
   },
   "file_extension": ".py",
   "mimetype": "text/x-python",
   "name": "python",
   "nbconvert_exporter": "python",
   "pygments_lexer": "ipython3",
   "version": "3.6.8"
  },
  "toc": {
   "base_numbering": 1,
   "nav_menu": {},
   "number_sections": false,
   "sideBar": true,
   "skip_h1_title": true,
   "title_cell": "Table of Contents",
   "title_sidebar": "",
   "toc_cell": false,
   "toc_position": {
    "height": "calc(100% - 180px)",
    "left": "10px",
    "top": "150px",
    "width": "370.6px"
   },
   "toc_section_display": true,
   "toc_window_display": true
  }
 },
 "nbformat": 4,
 "nbformat_minor": 2
}
