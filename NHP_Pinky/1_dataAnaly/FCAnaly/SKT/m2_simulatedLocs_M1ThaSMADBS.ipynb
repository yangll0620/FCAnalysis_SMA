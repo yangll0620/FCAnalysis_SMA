{
 "cells": [
  {
   "cell_type": "markdown",
   "metadata": {},
   "source": [
    "# Functionality: generate simulated 2-d locations of all channels\n"
   ]
  },
  {
   "cell_type": "markdown",
   "metadata": {},
   "source": [
    "## Packages import"
   ]
  },
  {
   "cell_type": "code",
   "execution_count": 8,
   "metadata": {},
   "outputs": [],
   "source": [
    "import numpy as np\n",
    "import matplotlib.pyplot as plt\n",
    "from math import pi\n",
    "from decimal import Decimal\n",
    "import glob\n",
    "\n",
    "import pandas as pd\n",
    "\n",
    "import pickle\n",
    "import os, sys\n",
    "\n",
    "import IPython"
   ]
  },
  {
   "cell_type": "code",
   "execution_count": 2,
   "metadata": {},
   "outputs": [
    {
     "name": "stdout",
     "output_type": "stream",
     "text": [
      "importing Jupyter notebook from /home/lingling/Insync/yang7003@umn.edu/NMRC_umn/Projects/FCAnalysis/exp/code/util/folder_extract.ipynb\n",
      "importing Jupyter notebook from /home/lingling/Insync/yang7003@umn.edu/NMRC_umn/Projects/FCAnalysis/exp/code/util/gen_pointcluster.ipynb\n"
     ]
    }
   ],
   "source": [
    "# import_nbmodule used for import package in .ipynb\n",
    "import import_nbmodule\n",
    "\n",
    "# extract the exp folder path\n",
    "currfolder = os.getcwd()\n",
    "codefolder = currfolder[0 : currfolder.find('code')+len('code')]\n",
    "\n",
    "# add path the exp folder\n",
    "sys.path.append(codefolder)\n",
    "\n",
    "# importfunction in util/folder_extract.pynb \n",
    "from util.folder_extract import exp_subfolders, code_corresfolder\n",
    "\n",
    "from util.gen_pointcluster import genpointcluster_circle, genpointcluster_less4"
   ]
  },
  {
   "cell_type": "markdown",
   "metadata": {},
   "source": [
    "## exp subfolders"
   ]
  },
  {
   "cell_type": "code",
   "execution_count": 3,
   "metadata": {},
   "outputs": [],
   "source": [
    "datafolder, codefolder, pipelinefolder, _= exp_subfolders()"
   ]
  },
  {
   "cell_type": "markdown",
   "metadata": {},
   "source": [
    "## nb_name"
   ]
  },
  {
   "cell_type": "code",
   "execution_count": 4,
   "metadata": {},
   "outputs": [
    {
     "data": {
      "application/javascript": [
       "IPython.notebook.kernel.execute('nb_name = \"' + IPython.notebook.notebook_name + '\"')\n"
      ],
      "text/plain": [
       "<IPython.core.display.Javascript object>"
      ]
     },
     "metadata": {},
     "output_type": "display_data"
    }
   ],
   "source": [
    "%%javascript\n",
    "IPython.notebook.kernel.execute('nb_name = \"' + IPython.notebook.notebook_name + '\"')"
   ]
  },
  {
   "cell_type": "code",
   "execution_count": 5,
   "metadata": {},
   "outputs": [],
   "source": [
    "nb_name = nb_name[0: nb_name.find('.ipynb')]"
   ]
  },
  {
   "cell_type": "markdown",
   "metadata": {},
   "source": [
    "## Load chn_brainarea information"
   ]
  },
  {
   "cell_type": "code",
   "execution_count": 16,
   "metadata": {},
   "outputs": [],
   "source": [
    "inputfolder = os.path.join(pipelinefolder,'NHP_Pinky','1_dataAnaly', 'FCAnaly', 'SKT','m1_STKData_calcciCOH_reachPhase_Fre9-11Hz')\n",
    "\n",
    "files = glob.glob(os.path.join(inputfolder, '*.pickle'))\n",
    "ciCOHfile = files[0]\n",
    "\n",
    "\n",
    "# load dictionary ciCOH\n",
    "dic_ciCOH = pickle.load(open(ciCOHfile, \"rb\" ))"
   ]
  },
  {
   "cell_type": "code",
   "execution_count": 18,
   "metadata": {},
   "outputs": [],
   "source": [
    "brainarea = dic_ciCOH['brainareas']"
   ]
  },
  {
   "cell_type": "code",
   "execution_count": 20,
   "metadata": {},
   "outputs": [
    {
     "name": "stdout",
     "output_type": "stream",
     "text": [
      "['M1' 'M1' 'M1' 'M1' 'M1' 'M1' 'M1' 'M1' 'M1' 'M1' 'M1' 'M1' 'M1' 'M1'\n",
      " 'M1' 'M1' 'M1' 'M1' 'M1' 'M1' 'M1' 'M1' 'M1' 'M1' 'M1' 'M1' 'M1' 'M1'\n",
      " 'M1' 'M1' 'M1' 'M1' 'M1' 'M1' 'M1' 'M1' 'M1' 'M1' 'M1' 'M1' 'M1' 'M1'\n",
      " 'M1' 'M1' 'M1' 'M1' 'M1' 'M1' 'M1' 'M1' 'M1' 'M1' 'M1' 'M1' 'M1' 'M1'\n",
      " 'M1' 'M1' 'M1' 'M1' 'M1' 'M1' 'M1' 'M1' 'M1' 'M1' 'M1' 'M1' 'M1' 'M1'\n",
      " 'M1' 'M1' 'M1' 'M1' 'M1' 'M1' 'M1' 'M1' 'M1' 'M1' 'M1' 'M1' 'M1' 'M1'\n",
      " 'M1' 'M1' 'M1' 'M1' 'M1' 'M1' 'M1' 'M1' 'M1' 'M1' 'M1' 'M1' 'lSMA' 'lSMA'\n",
      " 'lVA' 'lVA' 'lVPLo' 'lSMA' 'lCd' 'lVLo' 'lVPLo' 'lSMA' 'lCd' 'lVLo'\n",
      " 'lVPLo' 'rSMA' 'rMC' 'rVLo' 'rVLo' 'rVPLo' 'rSMA' 'rMC' 'rVA' 'rVPLo'\n",
      " 'rSMA' 'rSMA' 'rVA' 'rVA' 'rVPLo' 'STN5-6' 'GP6-7']\n"
     ]
    }
   ],
   "source": [
    "print(brainarea)"
   ]
  },
  {
   "cell_type": "markdown",
   "metadata": {},
   "source": [
    "## Simulated Coordinates"
   ]
  },
  {
   "cell_type": "code",
   "execution_count": 21,
   "metadata": {},
   "outputs": [],
   "source": [
    "# simulated x, y coordinates (np.ndarray, (npoints,2)) of all channels\n",
    "chnInf_simulatedCoord = np.zeros((len(brainarea), 2))"
   ]
  },
  {
   "cell_type": "markdown",
   "metadata": {},
   "source": [
    "### Simulate coordinates of M1 channels"
   ]
  },
  {
   "cell_type": "code",
   "execution_count": 22,
   "metadata": {},
   "outputs": [],
   "source": [
    "chnInf_simulatedCoord[brainarea == 'M1', :] = genpointcluster_circle(rs = [0.02, 0.04, 0.06, 0.08], ns = [3, 17, 31, 45], center = [0, 0])"
   ]
  },
  {
   "cell_type": "markdown",
   "metadata": {},
   "source": [
    "### Simulate coordinates of ThaSMA channels "
   ]
  },
  {
   "cell_type": "code",
   "execution_count": 23,
   "metadata": {},
   "outputs": [],
   "source": [
    "x0, y0 = -0.15, -0.15\n",
    "\n",
    "x_space, y_space = 0.1, 0.05\n",
    "\n",
    "y_min = y0"
   ]
  },
  {
   "cell_type": "markdown",
   "metadata": {},
   "source": [
    "#### first layer:SMA"
   ]
  },
  {
   "cell_type": "code",
   "execution_count": 24,
   "metadata": {},
   "outputs": [],
   "source": [
    "\"\"\"\n",
    "    first layer: SMA\n",
    "\"\"\"\n",
    "\n",
    "## lSMA ##\n",
    "\n",
    "area = 'lSMA'\n",
    "\n",
    "# parameters setup for lSMA\n",
    "x_lSMA, y_lSMA = x0, y0\n",
    "xy_lefttop = (x_lSMA, y_lSMA)\n",
    "\n",
    "# generate coord_points of lSMA\n",
    "nchn_area = len(brainarea[brainarea == area])\n",
    "simulatedCoord = genpointcluster_less4(npoints = nchn_area, xy_lefttop = xy_lefttop, space_x = 0.02, space_y = 0.02)\n",
    "\n",
    "# assign to chnInf_simulatedCoord\n",
    "chnInf_simulatedCoord[brainarea == area, :] = simulatedCoord\n",
    "\n",
    "# y_min\n",
    "if np.round(np.min(simulatedCoord[:,1]) * 100) /100 < y_min:\n",
    "    y_min = np.round(np.min(simulatedCoord[:,1]) * 100) /100\n",
    "\n",
    "del area, nchn_area, xy_lefttop, simulatedCoord\n",
    "\n",
    "\n",
    "\n",
    "## rSMA ##\n",
    "\n",
    "area = 'rSMA'\n",
    "\n",
    "# parameters setup for rSMA\n",
    "x_rSMA, y_rSMA = x_lSMA + x_space, y_lSMA\n",
    "xy_lefttop = (x_rSMA, y_rSMA)\n",
    "\n",
    "# generate coord_points of rSMA\n",
    "nchn_area = len(brainarea[brainarea == area])\n",
    "simulatedCoord = genpointcluster_less4(npoints = nchn_area, xy_lefttop = xy_lefttop, space_x = 0.02, space_y = 0.02)\n",
    "\n",
    "# assign to chnInf_simulatedCoord\n",
    "chnInf_simulatedCoord[brainarea == area, :] = simulatedCoord\n",
    "\n",
    "# y_min\n",
    "if np.round(np.min(simulatedCoord[:,1]) * 100) /100 < y_min:\n",
    "    y_min = np.round(np.min(simulatedCoord[:,1]) * 100) /100\n",
    "\n",
    "del area, nchn_area, xy_lefttop, simulatedCoord"
   ]
  },
  {
   "cell_type": "markdown",
   "metadata": {},
   "source": [
    "#### second layer: rMC"
   ]
  },
  {
   "cell_type": "code",
   "execution_count": 25,
   "metadata": {},
   "outputs": [],
   "source": [
    "\"\"\"\n",
    "    second layer: rMC\n",
    "\"\"\"\n",
    "\n",
    "## rMC ##\n",
    "\n",
    "area = 'rMC'\n",
    "\n",
    "# parameters setup for rMC\n",
    "x_rMC, y_rMC = x0 + x_space, y_min - y_space\n",
    "xy_lefttop = (x_rMC, y_rMC)\n",
    "\n",
    "# generate coord_points of rMC\n",
    "nchn_area = len(brainarea[brainarea == area])\n",
    "simulatedCoord = genpointcluster_less4(npoints = nchn_area, xy_lefttop = xy_lefttop, space_x = 0.02, space_y = 0.02)\n",
    "\n",
    "# assign to chnInf_simulatedCoord\n",
    "chnInf_simulatedCoord[brainarea == area, :] = simulatedCoord\n",
    "\n",
    "# y_min\n",
    "if np.round(np.min(simulatedCoord[:,1]) * 100) /100 < y_min:\n",
    "    y_min = np.round(np.min(simulatedCoord[:,1]) * 100) /100\n",
    "\n",
    "del area, nchn_area, xy_lefttop, simulatedCoord"
   ]
  },
  {
   "cell_type": "markdown",
   "metadata": {},
   "source": [
    "#### third layer: VA"
   ]
  },
  {
   "cell_type": "code",
   "execution_count": 26,
   "metadata": {},
   "outputs": [],
   "source": [
    "\"\"\"\n",
    "    third layer: VA\n",
    "\"\"\"\n",
    "\n",
    "## lVA ##\n",
    "\n",
    "area = 'lVA'\n",
    "\n",
    "# parameters setup for lVA\n",
    "x_lVA, y_lVA = x0, y_min - y_space\n",
    "xy_lefttop = (x_lVA, y_lVA)\n",
    "\n",
    "# generate coord_points of lVA\n",
    "nchn_area = len(brainarea[brainarea == area])\n",
    "simulatedCoord = genpointcluster_less4(npoints = nchn_area, xy_lefttop = xy_lefttop, space_x = 0.02, space_y = 0.02)\n",
    "\n",
    "# assign to chnInf_simulatedCoord\n",
    "chnInf_simulatedCoord[brainarea == area, :] = simulatedCoord\n",
    "\n",
    "# y_min\n",
    "if np.round(np.min(simulatedCoord[:,1]) * 100) /100 < y_min:\n",
    "    y_min = np.round(np.min(simulatedCoord[:,1]) * 100) /100\n",
    "\n",
    "del area, nchn_area, xy_lefttop, simulatedCoord\n",
    "\n",
    "\n",
    "## rVA ##\n",
    "\n",
    "area = 'rVA'\n",
    "\n",
    "# parameters setup for rVA\n",
    "x_rVA, y_rVA = x_lVA + x_space, y_lVA\n",
    "xy_lefttop = (x_rVA, y_rVA)\n",
    "\n",
    "# generate coord_points of rVA\n",
    "nchn_area = len(brainarea[brainarea == area])\n",
    "simulatedCoord = genpointcluster_less4(npoints = nchn_area, xy_lefttop = xy_lefttop, space_x = 0.02, space_y = 0.02)\n",
    "\n",
    "# assign to chnInf_simulatedCoord\n",
    "chnInf_simulatedCoord[brainarea == area, :] = simulatedCoord\n",
    "\n",
    "# y_min\n",
    "if np.round(np.min(simulatedCoord[:,1]) * 100) /100 < y_min:\n",
    "    y_min = np.round(np.min(simulatedCoord[:,1]) * 100) /100\n",
    "\n",
    "del area, nchn_area, xy_lefttop, simulatedCoord"
   ]
  },
  {
   "cell_type": "markdown",
   "metadata": {},
   "source": [
    "#### fourth layer: VLo"
   ]
  },
  {
   "cell_type": "code",
   "execution_count": 27,
   "metadata": {},
   "outputs": [],
   "source": [
    "\"\"\"\n",
    "    fourth layer: VLo\n",
    "\"\"\"\n",
    "\n",
    "## lVLo ##\n",
    "\n",
    "area = 'lVLo'\n",
    "\n",
    "# parameters setup for lVLo\n",
    "x_lVLo, y_lVLo = x0, y_min - y_space\n",
    "xy_lefttop = (x_lVLo, y_lVLo)\n",
    "\n",
    "# generate coord_points of lVLo\n",
    "nchn_area = len(brainarea[brainarea == area])\n",
    "simulatedCoord = genpointcluster_less4(npoints = nchn_area, xy_lefttop = xy_lefttop, space_x = 0.02, space_y = 0.02)\n",
    "\n",
    "# assign to chnInf_simulatedCoord\n",
    "chnInf_simulatedCoord[brainarea == area, :] = simulatedCoord\n",
    "\n",
    "# y_min\n",
    "if np.round(np.min(simulatedCoord[:,1]) * 100) /100 < y_min:\n",
    "    y_min = np.round(np.min(simulatedCoord[:,1]) * 100) /100\n",
    "\n",
    "del area, nchn_area, xy_lefttop, simulatedCoord\n",
    "\n",
    "\n",
    "\n",
    "## rVLo ##\n",
    "\n",
    "area = 'rVLo'\n",
    "\n",
    "# parameters setup for rVLo\n",
    "x_rVLo, y_rVLo = x_lVLo + x_space, y_lVLo\n",
    "xy_lefttop = (x_rVLo, y_rVLo)\n",
    "\n",
    "# generate coord_points of rVLo\n",
    "nchn_area = len(brainarea[brainarea == area])\n",
    "simulatedCoord = genpointcluster_less4(npoints = nchn_area, xy_lefttop = xy_lefttop, space_x = 0.02, space_y = 0.02)\n",
    "\n",
    "# assign to chnInf_simulatedCoord\n",
    "chnInf_simulatedCoord[brainarea == area, :] = simulatedCoord\n",
    "\n",
    "# y_min\n",
    "if np.round(np.min(simulatedCoord[:,1]) * 100) /100 < y_min:\n",
    "    y_min = np.round(np.min(simulatedCoord[:,1]) * 100) /100\n",
    "\n",
    "del area, nchn_area, xy_lefttop, simulatedCoord"
   ]
  },
  {
   "cell_type": "markdown",
   "metadata": {},
   "source": [
    "#### fifth layer: VPLo"
   ]
  },
  {
   "cell_type": "code",
   "execution_count": 28,
   "metadata": {},
   "outputs": [],
   "source": [
    "\"\"\"\n",
    "    fifth layer: VPLo\n",
    "\"\"\"\n",
    "\n",
    "## lVPLo ##\n",
    "\n",
    "area = 'lVPLo'\n",
    "\n",
    "# parameters setup for lVPLo\n",
    "x_lVPLo, y_lVPLo = x0, y_min - y_space\n",
    "xy_lefttop = (x_lVPLo, y_lVPLo)\n",
    "\n",
    "# generate coord_points of lVPLo\n",
    "nchn_area = len(brainarea[brainarea == area])\n",
    "simulatedCoord = genpointcluster_less4(npoints = nchn_area, xy_lefttop = xy_lefttop, space_x = 0.02, space_y = 0.02)\n",
    "\n",
    "# assign to chnInf_simulatedCoord\n",
    "chnInf_simulatedCoord[brainarea == area, :] = simulatedCoord\n",
    "\n",
    "# y_min\n",
    "if np.round(np.min(simulatedCoord[:,1]) * 100) /100 < y_min:\n",
    "    y_min = np.round(np.min(simulatedCoord[:,1]) * 100) /100\n",
    "\n",
    "del area, nchn_area, xy_lefttop, simulatedCoord\n",
    "\n",
    "\n",
    "\n",
    "## rVPLo ##\n",
    "\n",
    "area = 'rVPLo'\n",
    "\n",
    "# parameters setup for rVPLo\n",
    "x_rVPLo, y_rVPLo = x_lVPLo + x_space, y_lVPLo\n",
    "xy_lefttop = (x_rVPLo, y_rVPLo)\n",
    "\n",
    "# generate coord_points of rVPLo\n",
    "nchn_area = len(brainarea[brainarea == area])\n",
    "simulatedCoord = genpointcluster_less4(npoints = nchn_area, xy_lefttop = xy_lefttop, space_x = 0.02, space_y = 0.02)\n",
    "\n",
    "# assign to chnInf_simulatedCoord\n",
    "chnInf_simulatedCoord[brainarea == area, :] = simulatedCoord\n",
    "\n",
    "# y_min\n",
    "if np.round(np.min(simulatedCoord[:,1]) * 100) /100 < y_min:\n",
    "    y_min = np.round(np.min(simulatedCoord[:,1]) * 100) /100\n",
    "\n",
    "del area, nchn_area, xy_lefttop, simulatedCoord"
   ]
  },
  {
   "cell_type": "markdown",
   "metadata": {},
   "source": [
    "#### Sixth layer: lCd"
   ]
  },
  {
   "cell_type": "code",
   "execution_count": 29,
   "metadata": {},
   "outputs": [],
   "source": [
    "\"\"\"\n",
    "    sixth layer: lCd\n",
    "\"\"\"\n",
    "\n",
    "## lCd ##\n",
    "\n",
    "area = 'lCd'\n",
    "\n",
    "# parameters setup for rCd\n",
    "x_rCd, y_rCd = x0, y_min - y_space\n",
    "xy_lefttop = (x_rCd, y_rCd)\n",
    "\n",
    "# generate coord_points of rCd\n",
    "nchn_area = len(brainarea[brainarea == area])\n",
    "simulatedCoord = genpointcluster_less4(npoints = nchn_area, xy_lefttop = xy_lefttop, space_x = 0.02, space_y = 0.02)\n",
    "\n",
    "# assign to chnInf_simulatedCoord\n",
    "chnInf_simulatedCoord[brainarea == area, :] = simulatedCoord\n",
    "\n",
    "# y_min\n",
    "if np.round(np.min(simulatedCoord[:,1]) * 100) /100 < y_min:\n",
    "    y_min = np.round(np.min(simulatedCoord[:,1]) * 100) /100\n",
    "\n",
    "del area, nchn_area, xy_lefttop, simulatedCoord"
   ]
  },
  {
   "cell_type": "markdown",
   "metadata": {},
   "source": [
    "### Simulate coordinates of STN and DBS channels"
   ]
  },
  {
   "cell_type": "code",
   "execution_count": 57,
   "metadata": {},
   "outputs": [],
   "source": [
    "# STN\n",
    "area = 'STN'\n",
    "\n",
    "\n",
    "# parameters setup for STN\n",
    "x_STN, y_STN = 0.02, -0.3\n",
    "\n",
    "xy_lefttop = (x_STN, y_STN)\n",
    "\n",
    "# generate coord_points\n",
    "idx_area = [i for i, barea in enumerate(brainarea) if area in barea]\n",
    "nchn_area = len(idx_area)\n",
    "simulatedCoord = genpointcluster_less4(npoints = nchn_area, xy_lefttop = xy_lefttop, space_x = 0.02, space_y = 0.02)\n",
    "\n",
    "\n",
    "# assign to chnInf_simulatedCoord\n",
    "chnInf_simulatedCoord[idx_area, :] = simulatedCoord\n",
    "\n",
    "del area, nchn_area, xy_lefttop, simulatedCoord"
   ]
  },
  {
   "cell_type": "code",
   "execution_count": 58,
   "metadata": {},
   "outputs": [],
   "source": [
    "# GP\n",
    "area = 'GP'\n",
    "\n",
    "\n",
    "# parameters setup for STN\n",
    "x_STN, y_STN = 0.05, -0.2\n",
    "\n",
    "xy_lefttop = (x_STN, y_STN)\n",
    "\n",
    "# generate coord_points\n",
    "idx_area = [i for i, barea in enumerate(brainarea) if area in barea]\n",
    "nchn_area = len(idx_area)\n",
    "simulatedCoord = genpointcluster_less4(npoints = nchn_area, xy_lefttop = xy_lefttop, space_x = 0.02, space_y = 0.02)\n",
    "\n",
    "\n",
    "# assign to chnInf_simulatedCoord\n",
    "chnInf_simulatedCoord[idx_area, :] = simulatedCoord\n",
    "\n",
    "del area, nchn_area, xy_lefttop, simulatedCoord"
   ]
  },
  {
   "cell_type": "code",
   "execution_count": 49,
   "metadata": {},
   "outputs": [
    {
     "name": "stdout",
     "output_type": "stream",
     "text": [
      "[[ 0.02        0.        ]\n",
      " [-0.01        0.01732051]\n",
      " [-0.01       -0.01732051]\n",
      " [ 0.04        0.        ]\n",
      " [ 0.03729889  0.01444967]\n",
      " [ 0.02956036  0.02694783]\n",
      " [ 0.01782953  0.03580653]\n",
      " [ 0.00369073  0.03982937]\n",
      " [-0.01094652  0.03847303]\n",
      " [-0.02410539  0.03192069]\n",
      " [-0.03400869  0.02105729]\n",
      " [-0.03931892  0.00734998]\n",
      " [-0.03931892 -0.00734998]\n",
      " [-0.03400869 -0.02105729]\n",
      " [-0.02410539 -0.03192069]\n",
      " [-0.01094652 -0.03847303]\n",
      " [ 0.00369073 -0.03982937]\n",
      " [ 0.01782953 -0.03580653]\n",
      " [ 0.02956036 -0.02694783]\n",
      " [ 0.03729889 -0.01444967]\n",
      " [ 0.06        0.        ]\n",
      " [ 0.0587718   0.01207791]\n",
      " [ 0.05513747  0.02366135]\n",
      " [ 0.04924581  0.03427609]\n",
      " [ 0.04133802  0.04348757]\n",
      " [ 0.03173784  0.05091866]\n",
      " [ 0.02083832  0.05626513]\n",
      " [ 0.00908567  0.0593081 ]\n",
      " [-0.00303895  0.05992299]\n",
      " [-0.01503915  0.05808463]\n",
      " [-0.02642365  0.05386827]\n",
      " [-0.03672636  0.04744654]\n",
      " [-0.04552549  0.03908235]\n",
      " [-0.0524608   0.02911812]\n",
      " [-0.05724836  0.01796179]\n",
      " [-0.05969216  0.0060701 ]\n",
      " [-0.05969216 -0.0060701 ]\n",
      " [-0.05724836 -0.01796179]\n",
      " [-0.0524608  -0.02911812]\n",
      " [-0.04552549 -0.03908235]\n",
      " [-0.03672636 -0.04744654]\n",
      " [-0.02642365 -0.05386827]\n",
      " [-0.01503915 -0.05808463]\n",
      " [-0.00303895 -0.05992299]\n",
      " [ 0.00908567 -0.0593081 ]\n",
      " [ 0.02083832 -0.05626513]\n",
      " [ 0.03173784 -0.05091866]\n",
      " [ 0.04133802 -0.04348757]\n",
      " [ 0.04924581 -0.03427609]\n",
      " [ 0.05513747 -0.02366135]\n",
      " [ 0.0587718  -0.01207791]\n",
      " [ 0.08        0.        ]\n",
      " [ 0.07922145  0.01113385]\n",
      " [ 0.07690094  0.02205099]\n",
      " [ 0.07308364  0.03253893]\n",
      " [ 0.06784385  0.04239354]\n",
      " [ 0.06128356  0.05142301]\n",
      " [ 0.05353045  0.05945159]\n",
      " [ 0.04473543  0.06632301]\n",
      " [ 0.03506969  0.07190352]\n",
      " [ 0.02472136  0.07608452]\n",
      " [ 0.01389185  0.07878462]\n",
      " [ 0.00279196  0.07995127]\n",
      " [-0.00836228  0.07956175]\n",
      " [-0.01935375  0.07762366]\n",
      " [-0.02996853  0.07417471]\n",
      " [-0.04        0.06928203]\n",
      " [-0.04925292  0.06304086]\n",
      " [-0.05754718  0.05557267]\n",
      " [-0.06472136  0.04702282]\n",
      " [-0.07063581  0.03755773]\n",
      " [-0.07517541  0.02736161]\n",
      " [-0.07825181  0.01663294]\n",
      " [-0.07980512  0.00558052]\n",
      " [-0.07980512 -0.00558052]\n",
      " [-0.07825181 -0.01663294]\n",
      " [-0.07517541 -0.02736161]\n",
      " [-0.07063581 -0.03755773]\n",
      " [-0.06472136 -0.04702282]\n",
      " [-0.05754718 -0.05557267]\n",
      " [-0.04925292 -0.06304086]\n",
      " [-0.04       -0.06928203]\n",
      " [-0.02996853 -0.07417471]\n",
      " [-0.01935375 -0.07762366]\n",
      " [-0.00836228 -0.07956175]\n",
      " [ 0.00279196 -0.07995127]\n",
      " [ 0.01389185 -0.07878462]\n",
      " [ 0.02472136 -0.07608452]\n",
      " [ 0.03506969 -0.07190352]\n",
      " [ 0.04473543 -0.06632301]\n",
      " [ 0.05353045 -0.05945159]\n",
      " [ 0.06128356 -0.05142301]\n",
      " [ 0.06784385 -0.04239354]\n",
      " [ 0.07308364 -0.03253893]\n",
      " [ 0.07690094 -0.02205099]\n",
      " [ 0.07922145 -0.01113385]\n",
      " [-0.15       -0.15      ]\n",
      " [-0.13       -0.15      ]\n",
      " [-0.15       -0.27      ]\n",
      " [-0.13       -0.27      ]\n",
      " [-0.15       -0.39      ]\n",
      " [-0.15       -0.17      ]\n",
      " [-0.15       -0.46      ]\n",
      " [-0.15       -0.34      ]\n",
      " [-0.13       -0.39      ]\n",
      " [-0.13       -0.17      ]\n",
      " [-0.13       -0.46      ]\n",
      " [-0.13       -0.34      ]\n",
      " [-0.14       -0.41      ]\n",
      " [-0.05       -0.15      ]\n",
      " [-0.05       -0.22      ]\n",
      " [-0.05       -0.34      ]\n",
      " [-0.03       -0.34      ]\n",
      " [-0.05       -0.39      ]\n",
      " [-0.03       -0.15      ]\n",
      " [-0.03       -0.22      ]\n",
      " [-0.05       -0.27      ]\n",
      " [-0.03       -0.39      ]\n",
      " [-0.05       -0.17      ]\n",
      " [-0.03       -0.17      ]\n",
      " [-0.03       -0.27      ]\n",
      " [-0.04       -0.29      ]\n",
      " [-0.04       -0.41      ]\n",
      " [ 0.05       -0.2       ]\n",
      " [ 0.05       -0.25      ]]\n"
     ]
    }
   ],
   "source": [
    "print(chnInf_simulatedCoord)"
   ]
  },
  {
   "cell_type": "markdown",
   "metadata": {},
   "source": [
    "## Save "
   ]
  },
  {
   "cell_type": "code",
   "execution_count": 60,
   "metadata": {},
   "outputs": [],
   "source": [
    "# save folder is the corresponding folder in pipelinefolder\n",
    "savefolder = code_corresfolder(os.getcwd(), nb_name)\n",
    "\n",
    "filename = 'chn_brainArea_simCoord_M1ThaSMADBS.csv'\n",
    "\n",
    "savefile = os.path.join(savefolder, filename)"
   ]
  },
  {
   "cell_type": "code",
   "execution_count": 68,
   "metadata": {},
   "outputs": [],
   "source": [
    "# assign chnInf_simulatedCoord\n",
    "simulated_xy = dict()\n",
    "simulated_xy['brainarea'] = brainarea\n",
    "simulated_xy['simulated_x'], simulated_xy['simulated_y'] = chnInf_simulatedCoord[:,0], chnInf_simulatedCoord[:,1]"
   ]
  },
  {
   "cell_type": "code",
   "execution_count": 69,
   "metadata": {
    "code_folding": []
   },
   "outputs": [],
   "source": [
    "df = pd.DataFrame(simulated_xy)\n",
    "df.to_csv(savefile, index = False)"
   ]
  },
  {
   "cell_type": "markdown",
   "metadata": {},
   "source": [
    "\n",
    "## Plot"
   ]
  },
  {
   "cell_type": "code",
   "execution_count": 59,
   "metadata": {},
   "outputs": [
    {
     "data": {
      "text/plain": [
       "<matplotlib.collections.PathCollection at 0x7ff644955430>"
      ]
     },
     "execution_count": 59,
     "metadata": {},
     "output_type": "execute_result"
    },
    {
     "data": {
      "image/png": "[encoded data removed]",
      "text/plain": [
       "<Figure size 432x288 with 1 Axes>"
      ]
     },
     "metadata": {
      "needs_background": "light"
     },
     "output_type": "display_data"
    }
   ],
   "source": [
    "fig, ax = plt.subplots()\n",
    "\n",
    "ax.scatter(chnInf_simulatedCoord[:,0], chnInf_simulatedCoord[:,1])"
   ]
  }
 ],
 "metadata": {
  "kernelspec": {
   "display_name": "Python 3",
   "language": "python",
   "name": "python3"
  },
  "language_info": {
   "codemirror_mode": {
    "name": "ipython",
    "version": 3
   },
   "file_extension": ".py",
   "mimetype": "text/x-python",
   "name": "python",
   "nbconvert_exporter": "python",
   "pygments_lexer": "ipython3",
   "version": "3.8.1"
  },
  "toc": {
   "base_numbering": 1,
   "nav_menu": {},
   "number_sections": false,
   "sideBar": true,
   "skip_h1_title": true,
   "title_cell": "Table of Contents",
   "title_sidebar": "",
   "toc_cell": false,
   "toc_position": {
    "height": "calc(100% - 180px)",
    "left": "10px",
    "top": "150px",
    "width": "370.594px"
   },
   "toc_section_display": true,
   "toc_window_display": true
  }
 },
 "nbformat": 4,
 "nbformat_minor": 2
}
