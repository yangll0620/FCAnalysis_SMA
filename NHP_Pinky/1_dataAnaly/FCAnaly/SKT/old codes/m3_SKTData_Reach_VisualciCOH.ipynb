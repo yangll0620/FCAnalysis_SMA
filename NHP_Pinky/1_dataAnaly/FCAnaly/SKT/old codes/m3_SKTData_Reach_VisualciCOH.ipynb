{
 "cells": [
  {
   "cell_type": "markdown",
   "metadata": {},
   "source": [
    "# Functionality: visualization of functional connectivity\n",
    "\n",
    "<ul>\n",
    "    <li>visualize the ciCOH in mild and normal state</li>\n",
    "</ul>"
   ]
  },
  {
   "cell_type": "markdown",
   "metadata": {},
   "source": [
    "## Import Packages "
   ]
  },
  {
   "cell_type": "code",
   "execution_count": 1,
   "metadata": {},
   "outputs": [],
   "source": [
    "import os, sys\n",
    "import numpy as np\n",
    "import pandas as pd\n",
    "\n",
    "import pickle\n",
    "\n",
    "from igraph.drawing.text import TextDrawer\n",
    "import cairo"
   ]
  },
  {
   "cell_type": "code",
   "execution_count": 2,
   "metadata": {},
   "outputs": [
    {
     "name": "stdout",
     "output_type": "stream",
     "text": [
      "importing Jupyter notebook from /home/lingling/yang7003@umn.edu/NMRC_umn/Projects/FCAnalysis/exp/code/util/folder_extract.ipynb\n",
      "importing Jupyter notebook from /home/lingling/yang7003@umn.edu/NMRC_umn/Projects/FCAnalysis/exp/code/connAnalyTool/graphVisual.ipynb\n"
     ]
    }
   ],
   "source": [
    "# import_nbmodule used for import package in .ipynb\n",
    "import import_nbmodule\n",
    "\n",
    "# extract the exp folder path\n",
    "currfolder = os.getcwd()\n",
    "codefolder = currfolder[0 : currfolder.find('code')+len('code')]\n",
    "\n",
    "# add path the exp folder\n",
    "sys.path.append(codefolder)\n",
    "\n",
    "\n",
    "# import animal_folder function in util/folder_extract.pynb \n",
    "from util.folder_extract import exp_subfolders, code_corresfolder\n",
    "\n",
    "# import graphVisual in connAnalyTool/graphVisual.pynb \n",
    "from connAnalyTool import graphVisual"
   ]
  },
  {
   "cell_type": "markdown",
   "metadata": {},
   "source": [
    "## exp subfolders & code_corresfolder"
   ]
  },
  {
   "cell_type": "code",
   "execution_count": 3,
   "metadata": {},
   "outputs": [],
   "source": [
    "_, _, pipelinefolder, _ = exp_subfolders()"
   ]
  },
  {
   "cell_type": "code",
   "execution_count": 4,
   "metadata": {},
   "outputs": [
    {
     "data": {
      "application/javascript": [
       "IPython.notebook.kernel.execute('nb_name = \"' + IPython.notebook.notebook_name + '\"')\n"
      ],
      "text/plain": [
       "<IPython.core.display.Javascript object>"
      ]
     },
     "metadata": {},
     "output_type": "display_data"
    }
   ],
   "source": [
    "%%javascript\n",
    "IPython.notebook.kernel.execute('nb_name = \"' + IPython.notebook.notebook_name + '\"')"
   ]
  },
  {
   "cell_type": "code",
   "execution_count": 5,
   "metadata": {},
   "outputs": [],
   "source": [
    "nb_name = nb_name[0: nb_name.find('.ipynb')]\n",
    "\n",
    "# corresfolder\n",
    "corresfolder = code_corresfolder(os.getcwd(), nb_name)"
   ]
  },
  {
   "cell_type": "markdown",
   "metadata": {},
   "source": [
    "## global parameters"
   ]
  },
  {
   "cell_type": "code",
   "execution_count": 6,
   "metadata": {},
   "outputs": [],
   "source": [
    "# threshold lowweight\n",
    "lowweight = 0.25\n",
    "\n",
    "# frequency\n",
    "freq = [9, 11]\n",
    "strfreq = 'freq' + str(freq[0]) + '_' + str(freq[1])\n",
    "\n",
    "\n",
    "# eventphase\n",
    "eventphase = 'reach'\n",
    "\n",
    "# area to show\n",
    "helmes_show = \"left_right\" # left_right, left or right"
   ]
  },
  {
   "cell_type": "code",
   "execution_count": 30,
   "metadata": {},
   "outputs": [],
   "source": [
    "### text setup for brain areas ###\n",
    "texts_area = dict()\n",
    "\n",
    "# position of area [x, y, fontsize]\n",
    "\n",
    "texts_area['Cd'] = [10, 30, 20]\n",
    "\n",
    "texts_area['VPLo'] = [10, 100, 20]\n",
    "\n",
    "texts_area['VLo'] = [10, 155, 20]\n",
    "\n",
    "texts_area['VA'] = [10, 225, 20]\n",
    "\n",
    "texts_area['MC'] = [10, 275, 20]\n",
    "\n",
    "texts_area['SMA'] = [10, 345, 20]\n",
    "\n",
    "texts_area['M1'] = [10, 510, 20]\n",
    "\n",
    "\n",
    "texts_area['STN C5-6'] = [280, 150, 20]\n",
    "texts_area['GP C6-7'] = [375, 265, 20]\n",
    "\n",
    "pos_title = [275, 55, 25]"
   ]
  },
  {
   "cell_type": "markdown",
   "metadata": {},
   "source": [
    "## input setup"
   ]
  },
  {
   "cell_type": "code",
   "execution_count": 8,
   "metadata": {},
   "outputs": [],
   "source": [
    "inputfolder_ciCOH = os.path.join(pipelinefolder, 'NHP_Pinky','1_dataAnaly', 'FCAnaly', 'SKT', 'm1_STKData_calcciCOH_reachPhase_Fre9-11Hz')\n",
    "filename_ciCOH = 'ciCOH_STK_freq9_11reach.pickle'\n",
    "\n",
    "ciCOHfile = os.path.join(inputfolder_ciCOH, filename_ciCOH)"
   ]
  },
  {
   "cell_type": "code",
   "execution_count": 9,
   "metadata": {},
   "outputs": [],
   "source": [
    "chnInf_folder = os.path.join(pipelinefolder, 'NHP_Pinky','1_dataAnaly', 'FCAnaly', 'SKT', 'm1_simulatedLocs_M1ThaSMADBS')\n",
    "\n",
    "chnInf_file = os.path.join(chnInf_folder, 'chn_brainArea_simCoord_M1ThaSMADBS.csv')"
   ]
  },
  {
   "cell_type": "markdown",
   "metadata": {},
   "source": [
    "## savefile setup"
   ]
  },
  {
   "cell_type": "code",
   "execution_count": 10,
   "metadata": {},
   "outputs": [],
   "source": [
    "if helmes_show == \"left_right\":\n",
    "    tag_showleft, tag_showright = True, True\n",
    "elif helmes_show == \"left\":\n",
    "    tag_showleft, tag_showright = True, False\n",
    "elif helmes_show == \"right\":\n",
    "    tag_showleft, tag_showright = False, True"
   ]
  },
  {
   "cell_type": "code",
   "execution_count": 11,
   "metadata": {},
   "outputs": [],
   "source": [
    "title_pre = eventphase + \":\""
   ]
  },
  {
   "cell_type": "code",
   "execution_count": 12,
   "metadata": {},
   "outputs": [],
   "source": [
    "savefolder = corresfolder\n",
    "savefile_prefix = 'ciCOH_' + helmes_show + eventphase + '_' + strfreq + '_lowweight' + str(lowweight)"
   ]
  },
  {
   "cell_type": "markdown",
   "metadata": {},
   "source": [
    "## extract Channel Information"
   ]
  },
  {
   "cell_type": "code",
   "execution_count": 13,
   "metadata": {},
   "outputs": [],
   "source": [
    "### load channel information ###\n",
    "df = pd.read_csv(chnInf_file, header = 0)\n",
    "\n",
    "\n",
    "chnInf_brainarea = df['brainarea'].to_numpy()\n",
    "\n",
    "x, y = df['simulated_x'].to_numpy(), df['simulated_y'].to_numpy()\n",
    "chnInf_coord = np.concatenate((np.expand_dims(x, axis = 1), np.expand_dims(y, axis = 1)), axis = 1)"
   ]
  },
  {
   "cell_type": "markdown",
   "metadata": {},
   "source": [
    "## extract ciCOH"
   ]
  },
  {
   "cell_type": "code",
   "execution_count": 14,
   "metadata": {},
   "outputs": [],
   "source": [
    "# load dictionary ciCOH\n",
    "dic_ciCOH = pickle.load(open(ciCOHfile, \"rb\" ))\n",
    "\n",
    "# ciCOH_normal, ciCOH_mild: np.ndarray, shape = (nchns, nchns, ntrials)\n",
    "ciCOH_normal, ciCOH_mild = dic_ciCOH['ciCOH_normal'], dic_ciCOH['ciCOH_mild']"
   ]
  },
  {
   "cell_type": "markdown",
   "metadata": {},
   "source": [
    "## ciCOH Visual"
   ]
  },
  {
   "cell_type": "code",
   "execution_count": 15,
   "metadata": {},
   "outputs": [],
   "source": [
    "def ciCOH_visual_save(ciCOH, chn_area, chn_coord, str_recchnishow, lowweight, tobesavedfile, texts):\n",
    "    \"\"\"\n",
    "        \n",
    "        Args:\n",
    "            \n",
    "            ciCOH (np.sdarray): ciCOH Tensor for each trial (nchns, nchns)\n",
    "            \n",
    "            chn_area (list): a list of string representing brain area for each channel, len(chn_area) = nchns\n",
    "            \n",
    "            chn_coord (numpy.ndarray): x, y coordinates for each channel, shape = (nchns, 2)\n",
    "            \n",
    "            chn_recchni(list): showed recording chni for each channel, shape = (nchns, )\n",
    "            \n",
    "            lowweight: the threshold lowweight, only weight>lowweight is treated as connection\n",
    "            \n",
    "            tobesavedfile: file to save the visualized figure\n",
    "            \n",
    "            texts:\n",
    "            \n",
    "        Output:\n",
    "            the visualizaton of ciCOH is saved in tobesavedfile\n",
    "            \n",
    "    \"\"\"\n",
    "    \n",
    "    \n",
    "    weight = abs(ciCOH)\n",
    "    \n",
    "    # change nan to 0\n",
    "    ijs_nan = np.where(np.isnan(weight))\n",
    "\n",
    "    for k in range(len(ijs_nan[0])):\n",
    "        i_nan, j_nan = ijs_nan[0][k], ijs_nan[1][k]\n",
    "        weight[i_nan][j_nan] = 0\n",
    "\n",
    "    # weight > lowweight\n",
    "    weight[np.where(weight<lowweight)] =0\n",
    "    \n",
    "    graph = graphVisual.graph_create(weight, vsarea = chn_area, vscoord = chn_coord, vschni = str_recchnishow)\n",
    "\n",
    "    # set graph visualization style\n",
    "    visual_style = graphVisual.graph_style(graph)\n",
    "    \n",
    "\n",
    "    igplot = graphVisual.graph_plot(graph, visual_style, texts = texts)\n",
    "    \n",
    "    igplot.save(tobesavedfile)\n",
    "    \n",
    "    return igplot"
   ]
  },
  {
   "cell_type": "markdown",
   "metadata": {},
   "source": [
    "### remove data in the left hemesphere and Cd"
   ]
  },
  {
   "cell_type": "code",
   "execution_count": 16,
   "metadata": {},
   "outputs": [],
   "source": [
    "# idx_left\n",
    "idx_left = []"
   ]
  },
  {
   "cell_type": "code",
   "execution_count": 17,
   "metadata": {},
   "outputs": [],
   "source": [
    "## remove the data in the left hemesphere \n",
    "if tag_showleft == False:\n",
    "\n",
    "    for idx, area in enumerate(chnInf_brainarea.tolist()):\n",
    "        if area[0] == 'l':\n",
    "            idx_left.append(idx)"
   ]
  },
  {
   "cell_type": "code",
   "execution_count": 18,
   "metadata": {},
   "outputs": [],
   "source": [
    "#  remove the chnsarea row of the left hemesphere    \n",
    "chn_area = np.delete(chnInf_brainarea, idx_left, axis =0).tolist()\n",
    "\n",
    "#  remove the chnInf_coord row of the left hemesphere       \n",
    "chn_coord = np.delete(chnInf_coord, idx_left, axis = 0)"
   ]
  },
  {
   "cell_type": "markdown",
   "metadata": {},
   "source": [
    "### normal"
   ]
  },
  {
   "cell_type": "code",
   "execution_count": 31,
   "metadata": {},
   "outputs": [
    {
     "name": "stdout",
     "output_type": "stream",
     "text": [
      "Figure saved to /home/lingling/yang7003@umn.edu/NMRC_umn/Projects/FCAnalysis/exp/pipeline/NHP_Pinky/1_dataAnaly/FCAnaly/SKT/m3_SKTData_Reach_VisualciCOH/ciCOH_left_rightreach_freq9_11_lowweight0.25_normal.png\n"
     ]
    }
   ],
   "source": [
    "\"\"\"\n",
    "    normal condition\n",
    "\"\"\"\n",
    "\n",
    "ciCOH = ciCOH_normal\n",
    "condition = 'normal'\n",
    "\n",
    "# remove the data in the left hemesphere\n",
    "ciCOH = np.delete(ciCOH, idx_left, axis = 0)\n",
    "ciCOH = np.delete(ciCOH, idx_left, axis = 1)\n",
    "\n",
    "\n",
    "str_recchnishow = ['']*ciCOH.shape[0]\n",
    "\n",
    "# save file config\n",
    "savefilename = savefile_prefix + '_' + condition + '.png'\n",
    "savefile = os.path.join(savefolder, savefilename)\n",
    "\n",
    "# printed text config\n",
    "texts = texts_area.copy()\n",
    "title = title_pre + condition.capitalize()  + ' - Freq [' + str(freq[0]) + ' ' + str(freq[1]) + ']'\n",
    "texts[title] = pos_title\n",
    "\n",
    "\n",
    "\n",
    "# visualize and save\n",
    "igplot = ciCOH_visual_save(ciCOH, \n",
    "                           chn_area = chn_area, \n",
    "                           chn_coord = chn_coord,\n",
    "                           str_recchnishow = str_recchnishow,\n",
    "                           lowweight = lowweight,  \n",
    "                           tobesavedfile = savefile, \n",
    "                           texts = texts)\n",
    "\n",
    "igplot.show()\n",
    "\n",
    "print(\"Figure saved to \" + savefile)\n",
    "del ciCOH, condition\n",
    "del str_recchnishow, savefilename, savefile, texts, title, igplot"
   ]
  },
  {
   "cell_type": "markdown",
   "metadata": {},
   "source": [
    "### mild"
   ]
  },
  {
   "cell_type": "code",
   "execution_count": 32,
   "metadata": {},
   "outputs": [
    {
     "name": "stdout",
     "output_type": "stream",
     "text": [
      "Figure saved to /home/lingling/yang7003@umn.edu/NMRC_umn/Projects/FCAnalysis/exp/pipeline/NHP_Pinky/1_dataAnaly/FCAnaly/SKT/m3_SKTData_Reach_VisualciCOH/ciCOH_left_rightreach_freq9_11_lowweight0.25_mild.png\n"
     ]
    }
   ],
   "source": [
    "\"\"\"\n",
    "    mild condition\n",
    "\"\"\"\n",
    "\n",
    "ciCOH = ciCOH_mild\n",
    "condition = 'mild'\n",
    "\n",
    "# remove the data in the left hemesphere\n",
    "ciCOH = np.delete(ciCOH, idx_left, axis = 0)\n",
    "ciCOH = np.delete(ciCOH, idx_left, axis = 1)\n",
    "\n",
    "\n",
    "str_recchnishow = ['']*ciCOH.shape[0]\n",
    "\n",
    "# save file config\n",
    "savefilename = savefile_prefix + '_' + condition + '.png'\n",
    "savefile = os.path.join(savefolder, savefilename)\n",
    "\n",
    "# printed text config\n",
    "texts = texts_area.copy()\n",
    "title = title_pre + condition.capitalize()  + ' - Freq [' + str(freq[0]) + ' ' + str(freq[1]) + ']'\n",
    "texts[title] = pos_title\n",
    "\n",
    "\n",
    "\n",
    "# visualize and save\n",
    "igplot = ciCOH_visual_save(ciCOH, \n",
    "                           chn_area = chn_area, \n",
    "                           chn_coord = chn_coord,\n",
    "                           str_recchnishow = str_recchnishow,\n",
    "                           lowweight = lowweight,  \n",
    "                           tobesavedfile = savefile, \n",
    "                           texts = texts)\n",
    "\n",
    "igplot.show()\n",
    "\n",
    "print(\"Figure saved to \" + savefile)\n",
    "del ciCOH, condition\n",
    "del str_recchnishow, savefilename, savefile, texts, title, igplot"
   ]
  },
  {
   "cell_type": "code",
   "execution_count": null,
   "metadata": {},
   "outputs": [],
   "source": []
  }
 ],
 "metadata": {
  "kernelspec": {
   "display_name": "Python 3",
   "language": "python",
   "name": "python3"
  },
  "language_info": {
   "codemirror_mode": {
    "name": "ipython",
    "version": 3
   },
   "file_extension": ".py",
   "mimetype": "text/x-python",
   "name": "python",
   "nbconvert_exporter": "python",
   "pygments_lexer": "ipython3",
   "version": "3.6.10"
  },
  "toc": {
   "base_numbering": 1,
   "nav_menu": {},
   "number_sections": true,
   "sideBar": true,
   "skip_h1_title": true,
   "title_cell": "Table of Contents",
   "title_sidebar": "Contents",
   "toc_cell": false,
   "toc_position": {},
   "toc_section_display": true,
   "toc_window_display": false
  }
 },
 "nbformat": 4,
 "nbformat_minor": 4
}
