{
 "cells": [
  {
   "cell_type": "markdown",
   "metadata": {},
   "source": [
    "# Functionality: visualization of ciCOH Hist"
   ]
  },
  {
   "cell_type": "markdown",
   "metadata": {},
   "source": [
    "## Import Packages "
   ]
  },
  {
   "cell_type": "code",
   "execution_count": 1,
   "metadata": {
    "scrolled": true
   },
   "outputs": [],
   "source": [
    "import os, sys\n",
    "import numpy as np\n",
    "import pandas as pd\n",
    "\n",
    "import pickle\n",
    "\n",
    "import matplotlib.pyplot as plt\n",
    "\n",
    "from igraph.drawing.text import TextDrawer\n",
    "import cairo"
   ]
  },
  {
   "cell_type": "code",
   "execution_count": 2,
   "metadata": {},
   "outputs": [
    {
     "name": "stdout",
     "output_type": "stream",
     "text": [
      "importing Jupyter notebook from /Users/linglingyang/yang7003@umn.edu/NMRC_umn/Projects/FCAnalysis/exp/code/util/folder_extract.ipynb\n",
      "importing Jupyter notebook from /Users/linglingyang/yang7003@umn.edu/NMRC_umn/Projects/FCAnalysis/exp/code/connAnalyTool/graphVisual.ipynb\n"
     ]
    }
   ],
   "source": [
    "# import_nbmodule used for import package in .ipynb\n",
    "import import_nbmodule\n",
    "\n",
    "# extract the exp folder path\n",
    "currfolder = os.getcwd()\n",
    "codefolder = currfolder[0 : currfolder.find('code')+len('code')]\n",
    "\n",
    "# add path the exp folder\n",
    "sys.path.append(codefolder)\n",
    "\n",
    "\n",
    "# import animal_folder function in util/folder_extract.pynb \n",
    "from util.folder_extract import exp_subfolders, code_corresfolder\n",
    "\n",
    "# import graphVisual in connAnalyTool/graphVisual.pynb \n",
    "from connAnalyTool import graphVisual"
   ]
  },
  {
   "cell_type": "markdown",
   "metadata": {},
   "source": [
    "## Preparasion"
   ]
  },
  {
   "cell_type": "markdown",
   "metadata": {},
   "source": [
    "### exp subfolders & code_corresfolder"
   ]
  },
  {
   "cell_type": "code",
   "execution_count": 3,
   "metadata": {},
   "outputs": [
    {
     "data": {
      "application/javascript": [
       "IPython.notebook.kernel.execute('nb_name = \"' + IPython.notebook.notebook_name + '\"')\n"
      ],
      "text/plain": [
       "<IPython.core.display.Javascript object>"
      ]
     },
     "metadata": {},
     "output_type": "display_data"
    }
   ],
   "source": [
    "%%javascript\n",
    "IPython.notebook.kernel.execute('nb_name = \"' + IPython.notebook.notebook_name + '\"')"
   ]
  },
  {
   "cell_type": "code",
   "execution_count": 4,
   "metadata": {},
   "outputs": [],
   "source": [
    "nb_name = nb_name[0: nb_name.find('.ipynb')]\n",
    "\n",
    "# corresfolder\n",
    "corresfolder,correparentfolder = code_corresfolder(os.getcwd(), nb_name)"
   ]
  },
  {
   "cell_type": "markdown",
   "metadata": {},
   "source": [
    "### global parameters"
   ]
  },
  {
   "cell_type": "code",
   "execution_count": 5,
   "metadata": {},
   "outputs": [],
   "source": [
    "# frequency\n",
    "freq = [29, 31]\n",
    "strfreq = 'freq' + str(freq[0]) + '_' + str(freq[1])"
   ]
  },
  {
   "cell_type": "code",
   "execution_count": 6,
   "metadata": {},
   "outputs": [],
   "source": [
    "### text setup for brain areas ###\n",
    "texts_area = dict()\n",
    "\n",
    "texts_area['VPLo'] = [20, 40, 20]\n",
    "\n",
    "texts_area['VLo'] = [20, 120, 20]\n",
    "\n",
    "texts_area['VA'] = [20, 200, 20]\n",
    "\n",
    "texts_area['SMA'] = [20, 320, 20]\n",
    "\n",
    "texts_area['M1'] = [20, 500, 20]\n",
    "\n",
    "texts_area['STN'] = [280, 140, 20]\n",
    "\n",
    "texts_area['GP'] = [360, 250, 20]"
   ]
  },
  {
   "cell_type": "code",
   "execution_count": 7,
   "metadata": {},
   "outputs": [],
   "source": [
    "areas_unwanted = ['lCd','rMC']"
   ]
  },
  {
   "cell_type": "markdown",
   "metadata": {},
   "source": [
    "### input setup"
   ]
  },
  {
   "cell_type": "code",
   "execution_count": 12,
   "metadata": {},
   "outputs": [],
   "source": [
    "inputfolder_baseline = os.path.join(correparentfolder, 'm1_SKT_calcciCOH_baseline' \n",
    "                           + '_Fre' + str(freq[0]) + '-' + str(freq[1]) +'Hz')\n",
    "inputfolder_reach = os.path.join(correparentfolder, 'm1_SKT_calcciCOH_reach' \n",
    "                           + '_Fre' + str(freq[0]) + '-' + str(freq[1]) +'Hz')\n",
    "inputfolder_return = os.path.join(correparentfolder, 'm1_SKT_calcciCOH_return' \n",
    "                           + '_Fre' + str(freq[0]) + '-' + str(freq[1]) +'Hz')\n",
    "\n",
    "filename_baseline = 'ciCOH_STK_baseline' + '_freq_' + str(freq[0]) + '_' + str(freq[1]) + '.pickle'\n",
    "filename_reach = 'ciCOH_STK_reach' + '_freq_' + str(freq[0]) + '_' + str(freq[1]) + '.pickle'\n",
    "filename_return = 'ciCOH_STK_return' + '_freq_' + str(freq[0]) + '_' + str(freq[1]) + '.pickle'\n",
    "\n",
    "file_baseline = os.path.join(inputfolder_baseline, filename_baseline)\n",
    "file_reach = os.path.join(inputfolder_reach, filename_reach)\n",
    "file_return = os.path.join(inputfolder_return, filename_return)"
   ]
  },
  {
   "cell_type": "markdown",
   "metadata": {},
   "source": [
    "### save setup"
   ]
  },
  {
   "cell_type": "code",
   "execution_count": 10,
   "metadata": {},
   "outputs": [],
   "source": [
    "savefolder = corresfolder\n",
    "savefile_prefix_origin = 'ciCOH_Hist' + '_' + strfreq "
   ]
  },
  {
   "cell_type": "markdown",
   "metadata": {},
   "source": [
    "## Load ciCOH and Channel"
   ]
  },
  {
   "cell_type": "code",
   "execution_count": 13,
   "metadata": {},
   "outputs": [],
   "source": [
    "fp = open(file_baseline, 'rb')\n",
    "ciCOH_baseline = pickle.load(fp)\n",
    "\n",
    "fp = open(file_reach, 'rb')\n",
    "ciCOH_reach = pickle.load(fp)\n",
    "\n",
    "fp = open(file_return, 'rb')\n",
    "ciCOH_return = pickle.load(fp)"
   ]
  },
  {
   "cell_type": "code",
   "execution_count": 14,
   "metadata": {},
   "outputs": [],
   "source": [
    "# ciCOH\n",
    "ciCOH_normal_baseline, ciCOH_mild_baseline = ciCOH_baseline['normal'], ciCOH_baseline['mild']\n",
    "ciCOH_normal_reach, ciCOH_mild_reach = ciCOH_reach['normal'], ciCOH_reach['mild']\n",
    "ciCOH_normal_return, ciCOH_mild_return = ciCOH_return['normal'], ciCOH_return['mild']\n",
    "\n",
    "# channel information\n",
    "chnInf_recchni, chnInf_matchni = ciCOH_baseline['chnInf_recchni'], ciCOH_baseline['chnInf_matchni']\n",
    "chnInf_brainarea, chnInf_coord = ciCOH_baseline['chnInf_brainarea'], ciCOH_baseline['chnInf_coord']"
   ]
  },
  {
   "cell_type": "markdown",
   "metadata": {},
   "source": [
    "## Del unwanted channels"
   ]
  },
  {
   "cell_type": "code",
   "execution_count": 15,
   "metadata": {},
   "outputs": [],
   "source": [
    "def unwanted_chandata_del(ciCOH, areas_unwanted, chnInf_recchni, chnInf_brainarea, chnInf_coord):\n",
    "    \n",
    "    chns_unwanted = []\n",
    "    for area_unwanted in areas_unwanted:\n",
    "        for i, area in enumerate(chnInf_brainarea):\n",
    "            if area == area_unwanted:\n",
    "                chns_unwanted.append(i)\n",
    "    \n",
    "    nchns = ciCOH.shape[0]\n",
    "    ciCOH = np.delete(ciCOH, chns_unwanted, axis = 0)\n",
    "    ciCOH = np.delete(ciCOH, chns_unwanted, axis = 1)\n",
    "    \n",
    "    \n",
    "    chnInf_recchni = [i for j, i in enumerate(chnInf_recchni) if j not in chns_unwanted]\n",
    "    chnInf_brainarea = [i for j, i in enumerate(chnInf_brainarea) if j not in chns_unwanted]\n",
    "    chnInf_coord = [i for j, i in enumerate(chnInf_coord) if j not in chns_unwanted]\n",
    "\n",
    "    return ciCOH"
   ]
  },
  {
   "cell_type": "code",
   "execution_count": 22,
   "metadata": {},
   "outputs": [],
   "source": [
    "ciCOH_normal_baseline = \\\n",
    "        unwanted_chandata_del(ciCOH_normal_baseline, areas_unwanted, chnInf_recchni, chnInf_brainarea, chnInf_coord)\n",
    "ciCOH_mild_baseline = \\\n",
    "        unwanted_chandata_del(ciCOH_mild_baseline, areas_unwanted, chnInf_recchni, chnInf_brainarea, chnInf_coord)\n",
    "\n",
    "\n",
    "ciCOH_normal_reach = \\\n",
    "        unwanted_chandata_del(ciCOH_normal_reach, areas_unwanted, chnInf_recchni, chnInf_brainarea, chnInf_coord)\n",
    "ciCOH_mild_reach = \\\n",
    "        unwanted_chandata_del(ciCOH_mild_reach, areas_unwanted, chnInf_recchni, chnInf_brainarea, chnInf_coord)\n",
    "\n",
    "\n",
    "\n",
    "ciCOH_normal_return = \\\n",
    "        unwanted_chandata_del(ciCOH_normal_return, areas_unwanted, chnInf_recchni, chnInf_brainarea, chnInf_coord)\n",
    "ciCOH_mild_return = \\\n",
    "        unwanted_chandata_del(ciCOH_mild_return, areas_unwanted, chnInf_recchni, chnInf_brainarea, chnInf_coord)\n"
   ]
  },
  {
   "cell_type": "markdown",
   "metadata": {},
   "source": [
    "## Hist"
   ]
  },
  {
   "cell_type": "markdown",
   "metadata": {},
   "source": [
    "### normal"
   ]
  },
  {
   "cell_type": "code",
   "execution_count": 98,
   "metadata": {},
   "outputs": [
    {
     "data": {
      "image/png": "[encoded data removed]",
      "text/plain": [
       "<Figure size 432x288 with 3 Axes>"
      ]
     },
     "metadata": {
      "needs_background": "light"
     },
     "output_type": "display_data"
    }
   ],
   "source": [
    "cond = 'normal'\n",
    "\n",
    "x_normal_baseline = np.reshape(ciCOH_normal_baseline, (-1))\n",
    "x_normal_reach = np.reshape(ciCOH_normal_reach, (-1))\n",
    "x_normal_return = np.reshape(ciCOH_normal_return, (-1))\n",
    "\n",
    "\n",
    "n_bins = 20\n",
    "\n",
    "fig, axs = plt.subplots(3, 1, tight_layout=True)\n",
    "\n",
    "# We can set the number of bins with the `bins` kwarg\n",
    "axs[0].hist(x_normal_baseline, bins=n_bins, label = 'baseline')\n",
    "axs[1].hist(x_normal_reach, bins=n_bins, label = 'reach')\n",
    "axs[2].hist(x_normal_return, bins=n_bins, label = 'return')\n",
    "\n",
    "\n",
    "axs[0].legend()\n",
    "axs[1].legend()\n",
    "axs[2].legend()\n",
    "\n",
    "left, right = axs[0].set_xlim()\n",
    "axs[1].set_xlim(left = left, right=right)\n",
    "axs[2].set_xlim(left = left, right=right)\n",
    "\n",
    "title = 'Hist ' + cond \n",
    "fig.suptitle(title, x = 0.55, y= 1,weight = 'bold')\n",
    "plt.savefig(os.path.join(savefolder, title + '.png'))"
   ]
  },
  {
   "cell_type": "code",
   "execution_count": 99,
   "metadata": {},
   "outputs": [
    {
     "data": {
      "image/png": "[encoded data removed]",
      "text/plain": [
       "<Figure size 432x288 with 3 Axes>"
      ]
     },
     "metadata": {
      "needs_background": "light"
     },
     "output_type": "display_data"
    }
   ],
   "source": [
    "cond = 'normal'\n",
    "\n",
    "x_normal_baseline = np.reshape(ciCOH_normal_baseline, (-1))\n",
    "x_normal_reach = np.reshape(ciCOH_normal_reach, (-1))\n",
    "x_normal_return = np.reshape(ciCOH_normal_return, (-1))\n",
    "\n",
    "\n",
    "x_normal_baseline = x_normal_baseline[abs(x_normal_baseline)>=0.05]\n",
    "x_normal_reach = x_normal_reach[abs(x_normal_reach)>=0.05]\n",
    "x_normal_return = x_normal_return[abs(x_normal_return)>=0.05]\n",
    "\n",
    "\n",
    "n_bins = 20\n",
    "\n",
    "fig, axs = plt.subplots(3, 1, tight_layout=True)\n",
    "\n",
    "# We can set the number of bins with the `bins` kwarg\n",
    "axs[0].hist(x_normal_baseline, bins=n_bins, label = 'baseline')\n",
    "axs[1].hist(x_normal_reach, bins=n_bins, label = 'reach')\n",
    "axs[2].hist(x_normal_return, bins=n_bins, label = 'return')\n",
    "\n",
    "\n",
    "axs[0].legend()\n",
    "axs[1].legend()\n",
    "axs[2].legend()\n",
    "\n",
    "left, right = axs[0].set_xlim()\n",
    "axs[1].set_xlim(left = left, right=right)\n",
    "axs[2].set_xlim(left = left, right=right)\n",
    "\n",
    "\n",
    "title = 'Hist ' + cond + '>0.05'\n",
    "fig.suptitle(title, x = 0.55, y= 1,weight = 'bold')\n",
    "plt.savefig(os.path.join(savefolder, title + '.png'))"
   ]
  },
  {
   "cell_type": "code",
   "execution_count": 104,
   "metadata": {},
   "outputs": [
    {
     "data": {
      "image/png": "[encoded data removed]",
      "text/plain": [
       "<Figure size 432x288 with 3 Axes>"
      ]
     },
     "metadata": {
      "needs_background": "light"
     },
     "output_type": "display_data"
    }
   ],
   "source": [
    "cond = 'normal'\n",
    "\n",
    "x_normal_baseline = np.reshape(abs(ciCOH_normal_baseline), (-1))\n",
    "x_normal_reach = np.reshape(abs(ciCOH_normal_reach), (-1))\n",
    "x_normal_return = np.reshape(abs(ciCOH_normal_return), (-1))\n",
    "\n",
    "\n",
    "x_normal_baseline = x_normal_baseline[abs(x_normal_baseline)>=0.05]\n",
    "x_normal_reach = x_normal_reach[abs(x_normal_reach)>=0.05]\n",
    "x_normal_return = x_normal_return[abs(x_normal_return)>=0.05]\n",
    "\n",
    "\n",
    "n_bins = 20\n",
    "\n",
    "fig, axs = plt.subplots(3, 1, tight_layout=True)\n",
    "\n",
    "# We can set the number of bins with the `bins` kwarg\n",
    "axs[0].hist(x_normal_baseline, bins=n_bins, label = 'baseline')\n",
    "axs[1].hist(x_normal_reach, bins=n_bins, label = 'reach')\n",
    "axs[2].hist(x_normal_return, bins=n_bins, label = 'return')\n",
    "\n",
    "\n",
    "axs[0].legend()\n",
    "axs[1].legend()\n",
    "axs[2].legend()\n",
    "\n",
    "left, right = axs[0].set_xlim()\n",
    "axs[1].set_xlim(left = left, right=right)\n",
    "axs[2].set_xlim(left = left, right=right)\n",
    "\n",
    "\n",
    "title = 'Hist abs of ' + cond + '>0.05'\n",
    "fig.suptitle(title, x = 0.55, y= 1,weight = 'bold')\n",
    "plt.savefig(os.path.join(savefolder, title + '.png'))"
   ]
  },
  {
   "cell_type": "markdown",
   "metadata": {},
   "source": [
    "### mild"
   ]
  },
  {
   "cell_type": "code",
   "execution_count": 100,
   "metadata": {},
   "outputs": [
    {
     "data": {
      "image/png": "[encoded data removed]",
      "text/plain": [
       "<Figure size 432x288 with 3 Axes>"
      ]
     },
     "metadata": {
      "needs_background": "light"
     },
     "output_type": "display_data"
    }
   ],
   "source": [
    "cond = 'mild'\n",
    "\n",
    "x_mild_baseline = np.reshape(ciCOH_mild_baseline, (-1))\n",
    "x_mild_reach = np.reshape(ciCOH_mild_reach, (-1))\n",
    "x_mild_return = np.reshape(ciCOH_mild_return, (-1))\n",
    "\n",
    "\n",
    "n_bins = 20\n",
    "\n",
    "fig, axs = plt.subplots(3, 1, tight_layout=True)\n",
    "\n",
    "# We can set the number of bins with the `bins` kwarg\n",
    "axs[0].hist(x_mild_baseline, bins=n_bins, label = 'baseline')\n",
    "axs[1].hist(x_mild_reach, bins=n_bins, label = 'reach')\n",
    "axs[2].hist(x_mild_return, bins=n_bins, label = 'return')\n",
    "\n",
    "\n",
    "axs[0].legend()\n",
    "axs[1].legend()\n",
    "axs[2].legend()\n",
    "\n",
    "left, right = axs[0].set_xlim()\n",
    "axs[1].set_xlim(left = left, right=right)\n",
    "axs[2].set_xlim(left = left, right=right)\n",
    "\n",
    "title = 'Hist ' + cond \n",
    "fig.suptitle(title, x = 0.55, y= 1,weight = 'bold')\n",
    "plt.savefig(os.path.join(savefolder, title + '.png'))"
   ]
  },
  {
   "cell_type": "code",
   "execution_count": 101,
   "metadata": {},
   "outputs": [
    {
     "data": {
      "image/png": "[encoded data removed]",
      "text/plain": [
       "<Figure size 432x288 with 3 Axes>"
      ]
     },
     "metadata": {
      "needs_background": "light"
     },
     "output_type": "display_data"
    }
   ],
   "source": [
    "cond = 'mild'\n",
    "\n",
    "x_mild_baseline = np.reshape(ciCOH_mild_baseline, (-1))\n",
    "x_mild_reach = np.reshape(ciCOH_mild_reach, (-1))\n",
    "x_mild_return = np.reshape(ciCOH_mild_return, (-1))\n",
    "\n",
    "\n",
    "x_mild_baseline = x_mild_baseline[abs(x_mild_baseline)>=0.05]\n",
    "x_mild_reach = x_mild_reach[abs(x_mild_reach)>=0.05]\n",
    "x_mild_return = x_mild_return[abs(x_mild_return)>=0.05]\n",
    "\n",
    "\n",
    "n_bins = 20\n",
    "\n",
    "fig, axs = plt.subplots(3, 1, tight_layout=True)\n",
    "\n",
    "# We can set the number of bins with the `bins` kwarg\n",
    "axs[0].hist(x_mild_baseline, bins=n_bins, label = 'baseline')\n",
    "axs[1].hist(x_mild_reach, bins=n_bins, label = 'reach')\n",
    "axs[2].hist(x_mild_return, bins=n_bins, label = 'return')\n",
    "\n",
    "\n",
    "axs[0].legend()\n",
    "axs[1].legend()\n",
    "axs[2].legend()\n",
    "\n",
    "left, right = axs[0].set_xlim()\n",
    "axs[1].set_xlim(left = left, right=right)\n",
    "axs[2].set_xlim(left = left, right=right)\n",
    "\n",
    "title = 'Hist ' + cond + '>0.05'\n",
    "fig.suptitle(title, x = 0.55, y= 1,weight = 'bold')\n",
    "plt.savefig(os.path.join(savefolder, title + '.png'))"
   ]
  },
  {
   "cell_type": "code",
   "execution_count": 103,
   "metadata": {},
   "outputs": [
    {
     "data": {
      "image/png": "[encoded data removed]",
      "text/plain": [
       "<Figure size 432x288 with 3 Axes>"
      ]
     },
     "metadata": {
      "needs_background": "light"
     },
     "output_type": "display_data"
    }
   ],
   "source": [
    "cond = 'mild'\n",
    "\n",
    "x_mild_baseline = np.reshape(abs(ciCOH_mild_baseline), (-1))\n",
    "x_mild_reach = np.reshape(abs(ciCOH_mild_reach), (-1))\n",
    "x_mild_return = np.reshape(abs(ciCOH_mild_return), (-1))\n",
    "\n",
    "\n",
    "x_mild_baseline = x_mild_baseline[abs(x_mild_baseline)>=0.05]\n",
    "x_mild_reach = x_mild_reach[abs(x_mild_reach)>=0.05]\n",
    "x_mild_return = x_mild_return[abs(x_mild_return)>=0.05]\n",
    "\n",
    "\n",
    "n_bins = 20\n",
    "\n",
    "fig, axs = plt.subplots(3, 1, tight_layout=True)\n",
    "\n",
    "# We can set the number of bins with the `bins` kwarg\n",
    "axs[0].hist(x_mild_baseline, bins=n_bins, label = 'baseline')\n",
    "axs[1].hist(x_mild_reach, bins=n_bins, label = 'reach')\n",
    "axs[2].hist(x_mild_return, bins=n_bins, label = 'return')\n",
    "\n",
    "\n",
    "axs[0].legend()\n",
    "axs[1].legend()\n",
    "axs[2].legend()\n",
    "\n",
    "left, right = axs[0].set_xlim()\n",
    "axs[1].set_xlim(left = left, right=right)\n",
    "axs[2].set_xlim(left = left, right=right)\n",
    "\n",
    "title = 'Hist of abs ' + cond + '>0.05'\n",
    "fig.suptitle(title, x = 0.55, y= 1,weight = 'bold')\n",
    "plt.savefig(os.path.join(savefolder, title + '.png'))"
   ]
  }
 ],
 "metadata": {
  "kernelspec": {
   "display_name": "Python 3",
   "language": "python",
   "name": "python3"
  },
  "language_info": {
   "codemirror_mode": {
    "name": "ipython",
    "version": 3
   },
   "file_extension": ".py",
   "mimetype": "text/x-python",
   "name": "python",
   "nbconvert_exporter": "python",
   "pygments_lexer": "ipython3",
   "version": "3.6.10"
  },
  "toc": {
   "base_numbering": 1,
   "nav_menu": {
    "height": "248px",
    "width": "255px"
   },
   "number_sections": false,
   "sideBar": true,
   "skip_h1_title": true,
   "title_cell": "Table of Contents",
   "title_sidebar": "",
   "toc_cell": false,
   "toc_position": {
    "height": "calc(100% - 180px)",
    "left": "10px",
    "top": "150px",
    "width": "165px"
   },
   "toc_section_display": true,
   "toc_window_display": true
  }
 },
 "nbformat": 4,
 "nbformat_minor": 2
}
