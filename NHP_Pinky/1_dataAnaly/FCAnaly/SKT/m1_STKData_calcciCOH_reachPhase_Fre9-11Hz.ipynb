{
 "cells": [
  {
   "cell_type": "markdown",
   "metadata": {},
   "source": [
    "# Calculate ciCOH Values: \n",
    "\n",
    "* For both normal and mild LFP data \n",
    "\n",
    "* Reach phase [reachonset touch] in single kluverboard task\n",
    "\n",
    "* [9 11]Hz"
   ]
  },
  {
   "cell_type": "markdown",
   "metadata": {},
   "source": [
    "## Import Packages"
   ]
  },
  {
   "cell_type": "code",
   "execution_count": 1,
   "metadata": {},
   "outputs": [],
   "source": [
    "import os, sys\n",
    "import scipy.io as sio\n",
    "import glob\n",
    "import numpy as np\n",
    "import matplotlib.pyplot as plt\n",
    "import pickle \n",
    "%matplotlib inline"
   ]
  },
  {
   "cell_type": "code",
   "execution_count": 2,
   "metadata": {},
   "outputs": [
    {
     "name": "stdout",
     "output_type": "stream",
     "text": [
      "importing Jupyter notebook from /home/lingling/yang7003@umn.edu/NMRC_umn/Projects/FCAnalysis/exp/code/util/folder_extract.ipynb\n",
      "importing Jupyter notebook from /home/lingling/yang7003@umn.edu/NMRC_umn/Projects/FCAnalysis/exp/code/connAnalyTool/synchronization_indices.ipynb\n"
     ]
    }
   ],
   "source": [
    "# extract the exp folder path\n",
    "currfolder = os.getcwd()\n",
    "codefolder = currfolder[0 : currfolder.find('code')+len('code')]\n",
    "\n",
    "# add path the exp folder\n",
    "sys.path.append(codefolder)\n",
    "\n",
    "# import_nbmodule used for import package in .ipynb\n",
    "import import_nbmodule\n",
    "\n",
    "# import util/folder_extract.pynb \n",
    "from util.folder_extract import exp_subfolders, code_corresfolder\n",
    "\n",
    "# import ciCoherence_overtime in connAnalyTool/synchronization_indices.ipynb\n",
    "from connAnalyTool.synchronization_indices import ciCoherence_acrosstrials\n",
    "from connAnalyTool.synchronization_indices import ciCoherence_overtime"
   ]
  },
  {
   "cell_type": "markdown",
   "metadata": {},
   "source": [
    "## exp subfolders & code_corresfolder"
   ]
  },
  {
   "cell_type": "code",
   "execution_count": 3,
   "metadata": {},
   "outputs": [],
   "source": [
    "_, _, pipelinefolder, _= exp_subfolders()"
   ]
  },
  {
   "cell_type": "code",
   "execution_count": 4,
   "metadata": {},
   "outputs": [
    {
     "data": {
      "application/javascript": [
       "IPython.notebook.kernel.execute('nb_name = \"' + IPython.notebook.notebook_name + '\"')\n"
      ],
      "text/plain": [
       "<IPython.core.display.Javascript object>"
      ]
     },
     "metadata": {},
     "output_type": "display_data"
    }
   ],
   "source": [
    "%%javascript\n",
    "IPython.notebook.kernel.execute('nb_name = \"' + IPython.notebook.notebook_name + '\"')"
   ]
  },
  {
   "cell_type": "code",
   "execution_count": 5,
   "metadata": {},
   "outputs": [],
   "source": [
    "nb_name = nb_name[0: nb_name.find('.ipynb')]\n",
    "\n",
    "# corresfolder\n",
    "corresfolder = code_corresfolder(os.getcwd(), nb_name)"
   ]
  },
  {
   "cell_type": "markdown",
   "metadata": {},
   "source": [
    "## input setup"
   ]
  },
  {
   "cell_type": "code",
   "execution_count": 6,
   "metadata": {},
   "outputs": [],
   "source": [
    "inputfolder = os.path.join(pipelinefolder, 'NHP_Pinky', '1_dataAnaly', 'FCAnaly', 'SKT', 'm0_STKData_narrowfiltered9_11')"
   ]
  },
  {
   "cell_type": "markdown",
   "metadata": {},
   "source": [
    "## global parameters"
   ]
  },
  {
   "cell_type": "code",
   "execution_count": 7,
   "metadata": {},
   "outputs": [],
   "source": [
    "freq = [9, 11]\n",
    "\n",
    "eventphase = 'reach'\n",
    "\n",
    "animal = 'Pinky'\n",
    "\n",
    "tdur_min, tdur_max = 0.5, 1\n",
    "tdur_reach = tdur_min"
   ]
  },
  {
   "cell_type": "code",
   "execution_count": 8,
   "metadata": {},
   "outputs": [],
   "source": [
    "leadSTN_chns, leadGP_chns = [5,6], [6, 7]"
   ]
  },
  {
   "cell_type": "code",
   "execution_count": 9,
   "metadata": {},
   "outputs": [],
   "source": [
    "coli_target, coli_reachonset, coli_touch, coli_returnonset, coli_mouth = 0, 1, 2, 3, 4\n",
    "\n",
    "\n",
    "if eventphase == 'reach':\n",
    "    cols = [coli_reachonset, coli_touch]\n",
    "    \n",
    "elif eventphase == 'return':\n",
    "    cols = [coli_returnonset, coli_mouth]"
   ]
  },
  {
   "cell_type": "markdown",
   "metadata": {},
   "source": [
    "## save file setup"
   ]
  },
  {
   "cell_type": "code",
   "execution_count": 10,
   "metadata": {},
   "outputs": [],
   "source": [
    "savefolder = corresfolder\n",
    "savefilename =  'ciCOH_STK_freq' + str(freq[0]) + '_' + str(freq[1]) + eventphase +'.pickle'\n",
    "savefile_ciCOH = os.path.join(savefolder, savefilename)"
   ]
  },
  {
   "cell_type": "markdown",
   "metadata": {},
   "source": [
    "## extract lfp \n",
    "from all the files in mild or normal condition"
   ]
  },
  {
   "cell_type": "markdown",
   "metadata": {},
   "source": [
    "### extract lfpnormal_alltrials, lfpmild_alltrials"
   ]
  },
  {
   "cell_type": "code",
   "execution_count": null,
   "metadata": {},
   "outputs": [],
   "source": [
    "## glob all .mat files (both mild and normal files)\n",
    "files = glob.glob(os.path.join(inputfolder, '*.mat'))\n",
    "\n",
    "### combine the trials from all the files that last longer than tdur_min and less than tdur_max ###\n",
    "for filei, file in enumerate(files):\n",
    "    \n",
    "    # load the stk trial data in alpha band with idxevent, idxevent_varNames, fs\n",
    "    matdat = sio.loadmat(file, \n",
    "                         variable_names = ['lfpdata', 'chnsarea_Cell', 'chnsarea_vNames',\n",
    "                                           'idxevent_Matrix' ,'idxevent_vNames','fs'], \n",
    "                         struct_as_record = False, squeeze_me = True)\n",
    "    # fs: sample rate\n",
    "    fs = matdat['fs'] \n",
    "    # idxevent (np.ndarray, ntrials * 5) indices for targetonset, reachonset, reach, return and mouth\n",
    "    idxevent, idxevent_varNames = matdat['idxevent_Matrix'], matdat['idxevent_vNames'] \n",
    "    # chnsarea, and chnsarea_varNames: channel and brain area information\n",
    "    chnsarea, chnsarea_varNames = matdat['chnsarea_Cell'], matdat['chnsarea_vNames']         \n",
    "    # lfp\n",
    "    lfp = matdat['lfpdata']\n",
    "    \n",
    "    \n",
    "    if 'idx_notused' not in locals():\n",
    "        # remove channels not used for any brain area    \n",
    "        coli_brainarea = np.where(chnsarea_varNames =='brainarea')[0][0]\n",
    "        brainareas = chnsarea[coli_brainarea] # brainareas column\n",
    "        idx_notused = [] \n",
    "        for idx, area in enumerate(brainareas):\n",
    "            if isinstance(area, str) is not True:\n",
    "                idx_notused.append(idx)\n",
    "        # remove the chnsarea row of the not used idx\n",
    "        chnsarea_used = np.copy(chnsarea)\n",
    "        for i in range(chnsarea.shape[0]):\n",
    "            chnsarea_used[i] = np.delete(chnsarea[i], idx_notused)\n",
    "            \n",
    "        del coli_brainarea, brainareas, idx, area, i\n",
    "            \n",
    "        \n",
    "        idxdur_min, idxdur_max = int(np.round(tdur_min * fs)), int(np.round(tdur_max * fs))\n",
    "        idxdur_reach = int(np.round(tdur_reach * fs))\n",
    "    \n",
    "    # remove the lfp data, chnsarea of the not used idx        \n",
    "    lfp = np.delete(lfp, idx_notused, 0)\n",
    "    \n",
    "    if len(lfp.shape) == 2: # only has one trial\n",
    "        lfp = np.expand_dims(lfp, axis = 2)\n",
    "        idxevent = np.expand_dims(idxevent, axis = 0)\n",
    "    \n",
    "    ntrials = lfp.shape[2]\n",
    "    \n",
    "    # deal each trial in lfp of one file\n",
    "    for triali in range(ntrials):\n",
    "        \n",
    "        # start and end indices over time of specific phase for triali \n",
    "        idxtime_str, idxtime_end = int(idxevent[triali][cols[0]]), int(idxevent[triali][cols[1]])    \n",
    "        \n",
    "        # remove trials of reach phase longer than tdur_max and shorter than tdur_min\n",
    "        if idxtime_end - idxtime_str < idxdur_min or idxtime_end - idxtime_str > idxdur_max:\n",
    "            continue;\n",
    "            \n",
    "            \n",
    "        # extract lfp data in specific phase of one trial (n_chns * n_times)\n",
    "        lfp_1trial = np.expand_dims(lfp[:, idxtime_str:idxtime_str + idxdur_reach, triali], axis=2)       \n",
    "        \n",
    "        # mild case\n",
    "        if 'mild' in file and 'normal' not in file:\n",
    "            \n",
    "            # append new trial to lfpmild_alltrials\n",
    "            if 'lfpmild_alltrials' not in locals():\n",
    "                lfpmild_alltrials = lfp_1trial\n",
    "            else:\n",
    "                lfpmild_alltrials = np.concatenate((lfpmild_alltrials, lfp_1trial), axis = 2)\n",
    "                \n",
    "        # normal case\n",
    "        if 'normal' in file and 'mild' not in file:\n",
    "            \n",
    "            # append new trial to lfpnormal_alltrials\n",
    "            if 'lfpnormal_alltrials' not in locals():\n",
    "                lfpnormal_alltrials = lfp_1trial\n",
    "            else:\n",
    "                lfpnormal_alltrials = np.concatenate((lfpnormal_alltrials, lfp_1trial), axis = 2)\n",
    "                \n",
    "        del lfp_1trial, idxtime_str, idxtime_end\n",
    "    \n",
    "    del matdat, fs, idxevent, idxevent_varNames,chnsarea,  lfp\n",
    "        \n",
    "chnsarea = chnsarea_used\n",
    "\n",
    "del chnsarea_used, idx_notused"
   ]
  },
  {
   "cell_type": "markdown",
   "metadata": {},
   "source": [
    "### biploar dbs lead"
   ]
  },
  {
   "cell_type": "code",
   "execution_count": null,
   "metadata": {},
   "outputs": [],
   "source": [
    "coli_brainarea = np.where(chnsarea_varNames =='brainarea')[0][0]\n",
    "brainareas = chnsarea[coli_brainarea]"
   ]
  },
  {
   "cell_type": "markdown",
   "metadata": {},
   "source": [
    "#### bipolar STN "
   ]
  },
  {
   "cell_type": "code",
   "execution_count": null,
   "metadata": {},
   "outputs": [],
   "source": [
    "dbarea = 'STN'\n",
    "lead_chns = leadSTN_chns\n",
    "\n",
    "\n",
    "# get all the idx in dbarea\n",
    "chns_dbarea =  np.where(brainareas == dbarea)[0]\n",
    "# get the chni number for the bipolar lead\n",
    "chni1, chni2 = chns_dbarea[lead_chns[0]-1], chns_dbarea[lead_chns[1]-1]"
   ]
  },
  {
   "cell_type": "code",
   "execution_count": null,
   "metadata": {},
   "outputs": [],
   "source": [
    "###### extract the bipolar STN in normal ##############\n",
    "lfp_alltrials = lfpnormal_alltrials\n",
    "\n",
    "\n",
    "# get the bipolar lfp by substrating \n",
    "lfp_bi = np.expand_dims(lfp_alltrials[chni1, :, :] - lfp_alltrials[chni2, :, :], axis = 0)\n",
    "\n",
    "# remove all the lfp in the db area and add the bipolar lfp\n",
    "lfp_alltrials = np.delete(lfp_alltrials, chns_dbarea, 0)\n",
    "\n",
    "\n",
    "# add the bipolar lfp in dbarea\n",
    "lfp_alltrials = np.concatenate((lfp_alltrials, lfp_bi),axis = 0)\n",
    "\n",
    "lfpnormal_alltrials = lfp_alltrials\n",
    "\n",
    "del lfp_alltrials, lfp_bi\n",
    "\n",
    "\n",
    "\n",
    "\n",
    "##### extract the bipolar STN in mild ##########\n",
    "lfp_alltrials = lfpmild_alltrials\n",
    "\n",
    "# get the bipolar lfp by substrating \n",
    "lfp_bi = np.expand_dims(lfp_alltrials[chni1, :, :] - lfp_alltrials[chni2, :, :], axis = 0)\n",
    "\n",
    "# remove all the lfp in the db area and add the bipolar lfp\n",
    "lfp_alltrials = np.delete(lfp_alltrials, chns_dbarea, 0)\n",
    "\n",
    "\n",
    "# add the bipolar lfp in dbarea\n",
    "lfp_alltrials = np.concatenate((lfp_alltrials, lfp_bi),axis = 0)\n",
    "\n",
    "lfpmild_alltrials = lfp_alltrials\n",
    "\n",
    "del lfp_alltrials, lfp_bi"
   ]
  },
  {
   "cell_type": "code",
   "execution_count": null,
   "metadata": {},
   "outputs": [],
   "source": [
    "# remove the brainarea in dbarea\n",
    "brainareas = np.delete(brainareas, chns_dbarea)\n",
    "\n",
    "# add the \n",
    "brainareas = np.append(brainareas, dbarea + str(lead_chns[0]) + '-' + str(lead_chns[1]))\n",
    "\n",
    "del chns_dbarea, chni1, chni2,dbarea, lead_chns"
   ]
  },
  {
   "cell_type": "markdown",
   "metadata": {},
   "source": [
    "#### bipolar GP"
   ]
  },
  {
   "cell_type": "code",
   "execution_count": null,
   "metadata": {},
   "outputs": [],
   "source": [
    "dbarea = 'GP'\n",
    "lead_chns = leadGP_chns\n",
    "\n",
    "\n",
    "# get the all the idx in dbarea\n",
    "chns_dbarea =  np.where(brainareas == dbarea)[0]\n",
    "# get the chni number for the bipolar lead\n",
    "chni1, chni2 = chns_dbarea[lead_chns[0]-1], chns_dbarea[lead_chns[1]-1]"
   ]
  },
  {
   "cell_type": "code",
   "execution_count": null,
   "metadata": {},
   "outputs": [],
   "source": [
    "###### extract the bipolar GP in normal ##############\n",
    "lfp_alltrials = lfpnormal_alltrials\n",
    "\n",
    "\n",
    "# get the bipolar lfp by substrating \n",
    "lfp_bi = np.expand_dims(lfp_alltrials[chni1, :, :] - lfp_alltrials[chni2, :, :], axis = 0)\n",
    "\n",
    "# remove all the lfp in the db area and add the bipolar lfp\n",
    "lfp_alltrials = np.delete(lfp_alltrials, chns_dbarea, 0)\n",
    "\n",
    "\n",
    "# add the bipolar lfp in dbarea\n",
    "lfp_alltrials = np.concatenate((lfp_alltrials, lfp_bi),axis = 0)\n",
    "\n",
    "lfpnormal_alltrials = lfp_alltrials\n",
    "\n",
    "del lfp_alltrials, lfp_bi\n",
    "\n",
    "\n",
    "\n",
    "\n",
    "##### extract the bipolar GP in mild ##########\n",
    "lfp_alltrials = lfpmild_alltrials\n",
    "\n",
    "# get the bipolar lfp by substrating \n",
    "lfp_bi = np.expand_dims(lfp_alltrials[chni1, :, :] - lfp_alltrials[chni2, :, :], axis = 0)\n",
    "\n",
    "# remove all the lfp in the db area and add the bipolar lfp\n",
    "lfp_alltrials = np.delete(lfp_alltrials, chns_dbarea, 0)\n",
    "\n",
    "\n",
    "# add the bipolar lfp in dbarea\n",
    "lfp_alltrials = np.concatenate((lfp_alltrials, lfp_bi),axis = 0)\n",
    "\n",
    "lfpmild_alltrials = lfp_alltrials\n",
    "\n",
    "del lfp_alltrials, lfp_bi"
   ]
  },
  {
   "cell_type": "code",
   "execution_count": null,
   "metadata": {},
   "outputs": [],
   "source": [
    "# remove the brainarea in dbarea\n",
    "brainareas = np.delete(brainareas, chns_dbarea)\n",
    "\n",
    "# add the \n",
    "brainareas = np.append(brainareas, dbarea + str(lead_chns[0]) + '-' + str(lead_chns[1]))\n",
    "\n",
    "del chns_dbarea, chni1, chni2,dbarea, lead_chns"
   ]
  },
  {
   "cell_type": "markdown",
   "metadata": {},
   "source": [
    "## calculate ciCOH across trials"
   ]
  },
  {
   "cell_type": "code",
   "execution_count": null,
   "metadata": {},
   "outputs": [],
   "source": [
    "lfpnormal_alltrials = lfpnormal_alltrials[:,:,0:53]"
   ]
  },
  {
   "cell_type": "markdown",
   "metadata": {},
   "source": [
    "#### ciCOH normal"
   ]
  },
  {
   "cell_type": "code",
   "execution_count": null,
   "metadata": {},
   "outputs": [],
   "source": [
    "lfp_alltrials = lfpnormal_alltrials\n",
    "\n",
    "\n",
    "### calculate ciCOH between each pair of channels ###\n",
    "\n",
    "nchns = lfp_alltrials.shape[0]\n",
    "# initial ciCOH_alltrials array for all trials\n",
    "ciCOH_alltrials = np.zeros((nchns, nchns))\n",
    "for chni in range(nchns-1):\n",
    "\n",
    "    # signal of channel chni\n",
    "    signal1 = lfp_alltrials[chni, :, :]\n",
    "\n",
    "    for chnj in range(chni+1, nchns):\n",
    "\n",
    "        # signal of channel chnij\n",
    "        signal2 = lfp_alltrials[chnj, :, :]\n",
    "\n",
    "        # ciCOH_alltrials assignment\n",
    "        ciCOH_alltrials[chni, chnj] =  np.mean(ciCoherence_acrosstrials(signal1, signal2))\n",
    "\n",
    "        # symmetrical\n",
    "        ciCOH_alltrials[chnj, chni] = ciCOH_alltrials[chni, chnj]\n",
    "\n",
    "        del signal2\n",
    "    del signal1\n",
    "\n",
    "ciCOH_normal = ciCOH_alltrials\n",
    "del ciCOH_alltrials, nchns"
   ]
  },
  {
   "cell_type": "markdown",
   "metadata": {},
   "source": [
    "#### ciCOH mild"
   ]
  },
  {
   "cell_type": "code",
   "execution_count": null,
   "metadata": {},
   "outputs": [],
   "source": [
    "lfp_alltrials = lfpmild_alltrials\n",
    "\n",
    "### calculate ciCOH between each pair of channels ###\n",
    "\n",
    "nchns = lfp_alltrials.shape[0]\n",
    "# initial ciCOH_alltrials array for all trials\n",
    "ciCOH_alltrials = np.zeros((nchns, nchns))\n",
    "for chni in range(nchns-1):\n",
    "\n",
    "    # signal of channel chni\n",
    "    signal1 = lfp_alltrials[chni, :, :]\n",
    "\n",
    "    for chnj in range(chni+1, nchns):\n",
    "\n",
    "        # signal of channel chnij\n",
    "        signal2 = lfp_alltrials[chnj, :, :]\n",
    "\n",
    "        # ciCOH_alltrials assignment\n",
    "        ciCOH_alltrials[chni, chnj] =  np.mean(ciCoherence_acrosstrials(signal1, signal2))\n",
    "\n",
    "        # symmetrical\n",
    "        ciCOH_alltrials[chnj, chni] = ciCOH_alltrials[chni, chnj]\n",
    "\n",
    "        del signal2\n",
    "    del signal1\n",
    "\n",
    "ciCOH_mild = ciCOH_alltrials\n",
    "del ciCOH_alltrials, nchns"
   ]
  },
  {
   "cell_type": "markdown",
   "metadata": {},
   "source": [
    "## save"
   ]
  },
  {
   "cell_type": "code",
   "execution_count": null,
   "metadata": {},
   "outputs": [],
   "source": [
    "# create ciCOH results dictionary\n",
    "dic_ciCOH = {\"ciCOH_normal\": ciCOH_normal, \"ciCOH_mild\": ciCOH_mild, \"brainareas\": brainareas} "
   ]
  },
  {
   "cell_type": "code",
   "execution_count": null,
   "metadata": {},
   "outputs": [],
   "source": [
    "## save dic_ciCOH\n",
    "pickle.dump(dic_ciCOH, open(savefile_ciCOH, \"wb\" ) )"
   ]
  },
  {
   "cell_type": "markdown",
   "metadata": {},
   "source": [
    "## plot section"
   ]
  },
  {
   "cell_type": "code",
   "execution_count": null,
   "metadata": {},
   "outputs": [],
   "source": [
    "plt.imshow(dic_ciCOH['ciCOH_mild']);\n",
    "plt.colorbar()\n",
    "plt.title('mild')\n",
    "plt.show()"
   ]
  },
  {
   "cell_type": "code",
   "execution_count": null,
   "metadata": {},
   "outputs": [],
   "source": [
    "plt.imshow(dic_ciCOH['ciCOH_normal'])\n",
    "plt.title('normal')\n",
    "plt.colorbar()\n",
    "plt.show()"
   ]
  }
 ],
 "metadata": {
  "kernelspec": {
   "display_name": "Python 3",
   "language": "python",
   "name": "python3"
  },
  "language_info": {
   "codemirror_mode": {
    "name": "ipython",
    "version": 3
   },
   "file_extension": ".py",
   "mimetype": "text/x-python",
   "name": "python",
   "nbconvert_exporter": "python",
   "pygments_lexer": "ipython3",
   "version": "3.6.6"
  },
  "toc": {
   "base_numbering": 1,
   "nav_menu": {},
   "number_sections": false,
   "sideBar": true,
   "skip_h1_title": true,
   "title_cell": "Table of Contents",
   "title_sidebar": "",
   "toc_cell": false,
   "toc_position": {
    "height": "calc(100% - 180px)",
    "left": "10px",
    "top": "150px",
    "width": "165px"
   },
   "toc_section_display": true,
   "toc_window_display": true
  }
 },
 "nbformat": 4,
 "nbformat_minor": 2
}
