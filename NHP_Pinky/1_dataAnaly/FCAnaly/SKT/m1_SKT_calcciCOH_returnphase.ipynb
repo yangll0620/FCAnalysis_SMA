{
 "cells": [
  {
   "cell_type": "markdown",
   "metadata": {},
   "source": [
    "# Functionality of this notebook: \n",
    "\n",
    "* calculate the ciCOH for normal and mild LFP data \n",
    "\n",
    "* stk is short for single target kluver\n",
    "\n",
    "* load folder"
   ]
  },
  {
   "cell_type": "markdown",
   "metadata": {},
   "source": [
    "## Import Packages"
   ]
  },
  {
   "cell_type": "code",
   "execution_count": 1,
   "metadata": {},
   "outputs": [],
   "source": [
    "import os, sys\n",
    "import scipy.io as sio\n",
    "import glob\n",
    "import numpy as np\n",
    "import matplotlib.pyplot as plt\n",
    "import random\n",
    "import pandas as pd\n",
    "%matplotlib inline"
   ]
  },
  {
   "cell_type": "code",
   "execution_count": 2,
   "metadata": {},
   "outputs": [
    {
     "name": "stdout",
     "output_type": "stream",
     "text": [
      "importing Jupyter notebook from /Users/linglingyang/yang7003@umn.edu/NMRC_umn/Projects/FCAnalysis/exp/code/util/folder_extract.ipynb\n",
      "importing Jupyter notebook from /Users/linglingyang/yang7003@umn.edu/NMRC_umn/Projects/FCAnalysis/exp/code/connAnalyTool/synchronization_indices.ipynb\n"
     ]
    }
   ],
   "source": [
    "# extract the exp folder path\n",
    "currfolder = os.getcwd()\n",
    "codefolder = currfolder[0 : currfolder.find('code')+len('code')]\n",
    "\n",
    "# add path the exp folder\n",
    "sys.path.append(codefolder)\n",
    "\n",
    "# import_nbmodule used for import package in .ipynb\n",
    "import import_nbmodule\n",
    "\n",
    "# import util/folder_extract.pynb \n",
    "from util.folder_extract import exp_subfolders, code_corresfolder\n",
    "\n",
    "# import ciCoherence_overtime in connAnalyTool/synchronization_indices.ipynb\n",
    "from connAnalyTool.synchronization_indices import ciCoherence_acrosstrials\n",
    "from connAnalyTool.synchronization_indices import ciCoherence_overtime"
   ]
  },
  {
   "cell_type": "markdown",
   "metadata": {},
   "source": [
    "## exp subfolders & code_corresfolder"
   ]
  },
  {
   "cell_type": "code",
   "execution_count": 3,
   "metadata": {},
   "outputs": [],
   "source": [
    "_, _, pipelinefolder, _= exp_subfolders()"
   ]
  },
  {
   "cell_type": "code",
   "execution_count": 4,
   "metadata": {},
   "outputs": [
    {
     "data": {
      "application/javascript": [
       "IPython.notebook.kernel.execute('nb_name = \"' + IPython.notebook.notebook_name + '\"')\n"
      ],
      "text/plain": [
       "<IPython.core.display.Javascript object>"
      ]
     },
     "metadata": {},
     "output_type": "display_data"
    }
   ],
   "source": [
    "%%javascript\n",
    "IPython.notebook.kernel.execute('nb_name = \"' + IPython.notebook.notebook_name + '\"')"
   ]
  },
  {
   "cell_type": "code",
   "execution_count": 5,
   "metadata": {},
   "outputs": [],
   "source": [
    "nb_name = nb_name[0: nb_name.find('.ipynb')]\n",
    "\n",
    "# corresfolder\n",
    "corresfolder, correparentfolder = code_corresfolder(os.getcwd(), nb_name)"
   ]
  },
  {
   "cell_type": "markdown",
   "metadata": {},
   "source": [
    "## global parameters"
   ]
  },
  {
   "cell_type": "code",
   "execution_count": 6,
   "metadata": {},
   "outputs": [],
   "source": [
    "eventphase = 'return'\n",
    "\n",
    "freq = [17, 19]\n",
    "\n",
    "animal = 'Pinky'\n",
    "\n",
    "leadSTN_chns, leadGP_chns = [5,6], [6, 7] # start from 0"
   ]
  },
  {
   "cell_type": "code",
   "execution_count": 7,
   "metadata": {},
   "outputs": [],
   "source": [
    "coli_target, coli_reachonset, coli_touch, coli_returnonset, coli_mouth = 0, 1, 2, 3, 4\n",
    "cols = [coli_returnonset, coli_mouth]"
   ]
  },
  {
   "cell_type": "code",
   "execution_count": 8,
   "metadata": {},
   "outputs": [],
   "source": [
    "tdur_min = 0.5\n",
    "tdur_max = 1"
   ]
  },
  {
   "cell_type": "markdown",
   "metadata": {},
   "source": [
    "## Input step"
   ]
  },
  {
   "cell_type": "code",
   "execution_count": 9,
   "metadata": {},
   "outputs": [],
   "source": [
    "inputfolder = os.path.join(pipelinefolder, 'NHP_Pinky/0_dataPrep/SKT/m3_STKData_narrowfiltered17_19')"
   ]
  },
  {
   "cell_type": "code",
   "execution_count": 10,
   "metadata": {},
   "outputs": [],
   "source": [
    "chnInf_folder = correparentfolder\n",
    "chnInf_file = os.path.join(chnInf_folder, 'chn_brainArea_simCoord_M1ThaSMADBS.csv')"
   ]
  },
  {
   "cell_type": "markdown",
   "metadata": {},
   "source": [
    "## save file setup"
   ]
  },
  {
   "cell_type": "code",
   "execution_count": 11,
   "metadata": {},
   "outputs": [],
   "source": [
    "savefolder = corresfolder\n",
    "savefilename =  'ciCOH_' + eventphase + '_freq[' + str(freq[0]) + ' ' + str(freq[1]) +'].pickle'\n",
    "savefile_ciCOH = os.path.join(savefolder, savefilename)"
   ]
  },
  {
   "cell_type": "markdown",
   "metadata": {},
   "source": [
    "## Extract all phase lfp"
   ]
  },
  {
   "cell_type": "code",
   "execution_count": 12,
   "metadata": {},
   "outputs": [],
   "source": [
    "def phaselfp_1file_extract(file, cols):\n",
    "    \"\"\"\n",
    "        return all the phase lfp data from all the trials in one file\n",
    "    \"\"\"\n",
    "    \n",
    "    matdat = sio.loadmat(file, variable_names = ['lfpdata', 'idxevent_Matrix', 'fs'], \n",
    "                         struct_as_record = False, squeeze_me = True)\n",
    "\n",
    "    # fs: sample rate\n",
    "    fs = matdat['fs'] \n",
    "\n",
    "    # idxevent (n_trials * 5): indices for targetonset, reachonset, reach, return and mouth\n",
    "    idxevent = matdat['idxevent_Matrix']\n",
    "        \n",
    "    # lfp: nchns * ntemp * ntrials\n",
    "    lfp = matdat['lfpdata']\n",
    "    \n",
    "     # idxdur_min, idxdur_max\n",
    "    idxdur_min, idxdur_max = int(np.round(tdur_min * fs)), int(np.round(tdur_max * fs))\n",
    "    \n",
    "    if(len(lfp.shape) ==2 or len(idxevent.shape) == 1):\n",
    "        # only has one trial \n",
    "        \n",
    "        if(len(lfp.shape) ==2):\n",
    "            lfp = np.expand_dims(lfp, axis = 2)\n",
    "            \n",
    "        if(len(idxevent.shape) == 1):\n",
    "            idxevent = np.expand_dims(idxevent, axis = 0)\n",
    "        \n",
    "    \n",
    "    ntrials = idxevent.shape[0]\n",
    "    for triali in range(ntrials):\n",
    "        \n",
    "        # start and end indices over time of specific phase for triali \n",
    "        idxtime_str, idxtime_end = int(idxevent[triali, cols[0]]), int(idxevent[triali, cols[1]])\n",
    "\n",
    "        # remove trials of return phase longer than tdur_max and shorter than tdur_min\n",
    "        if idxtime_end - idxtime_str < idxdur_min or idxtime_end - idxtime_str > idxdur_max:\n",
    "            continue;\n",
    "            \n",
    "            \n",
    "        # extract lfp data in specific phase of one trial (n_chns * n_times)\n",
    "        phaselfp_1trial = lfp[:, idxtime_str:idxtime_str + idxdur_min , triali]\n",
    "        phaselfp_1trial = np.expand_dims(phaselfp_1trial, axis = 2)\n",
    "        \n",
    "        if 'phaselfp_alltrials'  not in locals():\n",
    "            phaselfp_alltrials = phaselfp_1trial\n",
    "        else:\n",
    "            phaselfp_alltrials = np.concatenate((phaselfp_alltrials, phaselfp_1trial), axis = 2)\n",
    "    \n",
    "    \n",
    "    if 'phaselfp_alltrials'  not in locals():\n",
    "        phaselfp_alltrials = []\n",
    "    \n",
    "    return phaselfp_alltrials"
   ]
  },
  {
   "cell_type": "code",
   "execution_count": 13,
   "metadata": {},
   "outputs": [],
   "source": [
    "files = glob.glob(os.path.join(inputfolder, '*.mat'))\n",
    "\n",
    "# delete phaselfp_normal and phaselfp_mild if exist inside this function\n",
    "if 'phaselfp_normal' in locals():\n",
    "    del phaselfp_normal\n",
    "\n",
    "if 'phaselfp_mild' in locals():\n",
    "    del phaselfp_mild\n",
    "    \n",
    "for file in files:\n",
    "    \n",
    "    phaselfp_lfile = phaselfp_1file_extract(file, cols);\n",
    "    \n",
    "    # normal case\n",
    "    if 'normal' in file and 'mild' not in file:\n",
    "        if 'phaselfp_normal'  not in locals():\n",
    "            phaselfp_normal = phaselfp_lfile\n",
    "        else:\n",
    "            phaselfp_normal = np.concatenate((phaselfp_normal, phaselfp_lfile), axis = 2)\n",
    "        \n",
    "        \n",
    "        \n",
    "    # mild case\n",
    "    if 'mild' in file and 'normal' not in file:\n",
    "        if 'phaselfp_mild'  not in locals():\n",
    "            phaselfp_mild = phaselfp_lfile\n",
    "        else:\n",
    "            phaselfp_mild = np.concatenate((phaselfp_mild, phaselfp_lfile), axis = 2)\n",
    "            \n",
    "            \n",
    "    del phaselfp_lfile"
   ]
  },
  {
   "cell_type": "markdown",
   "metadata": {},
   "source": [
    "### balance mild and normal trials number"
   ]
  },
  {
   "cell_type": "code",
   "execution_count": 14,
   "metadata": {},
   "outputs": [],
   "source": [
    "if phaselfp_mild.shape[2] < phaselfp_normal.shape[2]:\n",
    "    ntrials_ba = phaselfp_mild.shape[2]\n",
    "else:\n",
    "    ntrials_ba = phaselfp_normal.shape[2]\n",
    "\n",
    "idx_batrials_normal = random.sample(range(0, phaselfp_normal.shape[2]), ntrials_ba) \n",
    "idx_batrials_mild = random.sample(range(0, phaselfp_mild.shape[2]), ntrials_ba) \n",
    "\n",
    "\n",
    "# balance trials\n",
    "phaselfp_normal_ba = phaselfp_normal[:,:,idx_batrials_normal]\n",
    "phaselfp_mild_ba = phaselfp_mild[:,:,idx_batrials_mild]"
   ]
  },
  {
   "cell_type": "markdown",
   "metadata": {},
   "source": [
    "### Bipolar DBS"
   ]
  },
  {
   "cell_type": "code",
   "execution_count": 16,
   "metadata": {},
   "outputs": [],
   "source": [
    "# STN channel numbers\n",
    "ch1_STN, ch2_STN = leadSTN_chns[0] + 128, leadSTN_chns[1] + 128\n",
    "\n",
    "# get the bipolar lfp by substrating \n",
    "lfpSTN_normal = np.expand_dims(phaselfp_normal_ba[ch1_STN, :, :] - phaselfp_normal_ba[ch2_STN, :, :], axis = 0)\n",
    "lfpSTN_mild = np.expand_dims(phaselfp_mild_ba[ch1_STN, :, :] - phaselfp_mild_ba[ch2_STN, :, :], axis = 0)"
   ]
  },
  {
   "cell_type": "code",
   "execution_count": 17,
   "metadata": {},
   "outputs": [],
   "source": [
    "# GP channel numbers\n",
    "ch1_GP, ch2_GP = leadGP_chns[0] + 128, leadGP_chns[1] + 128\n",
    "\n",
    "# get the bipolar lfp by substrating \n",
    "lfpGP_normal = np.expand_dims(phaselfp_normal_ba[ch1_GP, :, :] - phaselfp_normal_ba[ch2_GP, :, :], axis = 0)\n",
    "lfpGP_mild = np.expand_dims(phaselfp_mild_ba[ch1_GP, :, :] - phaselfp_mild_ba[ch2_GP, :, :], axis = 0)"
   ]
  },
  {
   "cell_type": "markdown",
   "metadata": {},
   "source": [
    "### channel information"
   ]
  },
  {
   "cell_type": "code",
   "execution_count": 18,
   "metadata": {},
   "outputs": [],
   "source": [
    "### load channel information ###\n",
    "df = pd.read_csv(chnInf_file, header = 0)\n",
    "\n",
    "\n",
    "###  channel matchni and recording chni  ###\n",
    "chnInf_matchni, chnInf_recchni = df['mat_chni'], df['recording_chni']\n",
    "\n",
    "chnInf_brainarea = df['brainarea']\n",
    "\n",
    "x, y = df['simulated_x'].to_numpy(), df['simulated_y'].to_numpy()\n",
    "chnInf_coord = np.concatenate((np.expand_dims(x, axis = 1), np.expand_dims(y, axis = 1)), axis = 1)\n",
    "\n",
    "\n",
    "\n",
    "### Remove nonused channels ###\n",
    "\n",
    "# extract the indices in which the corresponding channels are not used\n",
    "idx_mask = ~chnInf_brainarea.isnull()\n",
    "idx_notused = [i for i, isnan in enumerate(idx_mask) if isnan == False]\n",
    "\n",
    "\n",
    "chnInf_recchni = chnInf_recchni[idx_mask].to_numpy()\n",
    "chnInf_matchni = chnInf_matchni[idx_mask].to_numpy()\n",
    "chnInf_brainarea = chnInf_brainarea[idx_mask].tolist()\n",
    "chnInf_coord = chnInf_coord[idx_mask]"
   ]
  },
  {
   "cell_type": "markdown",
   "metadata": {},
   "source": [
    "### remove the data of the noused channels"
   ]
  },
  {
   "cell_type": "code",
   "execution_count": 19,
   "metadata": {},
   "outputs": [],
   "source": [
    "if phaselfp_normal_ba.shape[0] == phaselfp_mild_ba.shape[0]:\n",
    "    nchns = phaselfp_normal_ba.shape[0]\n",
    "\n",
    "\n",
    "# # extract the idx whose channels are not used\n",
    "matchni_notused = np.arange(0, nchns, 1).tolist()\n",
    "\n",
    "for idx, matchni in enumerate(chnInf_matchni):\n",
    "    if 'STN' in chnInf_brainarea[idx] or 'GP' in chnInf_brainarea[idx]:\n",
    "        continue\n",
    "        \n",
    "    matchni_notused.remove(matchni)"
   ]
  },
  {
   "cell_type": "code",
   "execution_count": 20,
   "metadata": {},
   "outputs": [
    {
     "name": "stdout",
     "output_type": "stream",
     "text": [
      "(123, 250, 50)\n",
      "(125, 250, 50)\n"
     ]
    }
   ],
   "source": [
    "print(phaselfp_mild_ba.shape)\n",
    "\n",
    "# remove the data of the channel not used\n",
    "phaselfp_normal_ba = np.delete(phaselfp_normal_ba, matchni_notused, axis = 0)\n",
    "\n",
    "# remove the data of the channel not used\n",
    "phaselfp_mild_ba = np.delete(phaselfp_mild_ba, matchni_notused, axis = 0)\n",
    "\n",
    "print(phaselfp_mild_ba.shape)\n",
    "\n",
    "# add bipolar STN and GP lfp data\n",
    "phaselfp_normal_ba = np.concatenate((phaselfp_normal_ba, lfpSTN_normal, lfpGP_normal), axis = 0)\n",
    "phaselfp_mild_ba = np.concatenate((phaselfp_mild_ba, lfpSTN_mild, lfpGP_mild), axis = 0)\n",
    "\n",
    "print(phaselfp_mild_ba.shape)"
   ]
  },
  {
   "cell_type": "markdown",
   "metadata": {},
   "source": [
    "## Calc ciCOH"
   ]
  },
  {
   "cell_type": "code",
   "execution_count": 29,
   "metadata": {},
   "outputs": [],
   "source": [
    "def calciCOH_lfp(lfp):\n",
    "    \n",
    "    \"\"\"\n",
    "        return the ciCOH extracted from lfp data\n",
    "        \n",
    "        Args:\n",
    "        \n",
    "            lfp: local field potential data (nchns * ntemporals * ntrials)\n",
    "            \n",
    "        Return:\n",
    "            ciCOH_alltrials: ciCOH values for all trials extracted from lfp data (nchns * nchns * ntrials)\n",
    "    \"\"\"\n",
    " \n",
    "    \n",
    "    ### calculate ciCOH between each pair of channels ###\n",
    "    \n",
    "    nchns, ntemp, ntrials = lfp.shape\n",
    "    \n",
    "    ciCOH_alltrials = np.zeros((nchns, nchns, ntemp))\n",
    "    for chni in range(nchns-1):\n",
    "\n",
    "        # signal of channel chni\n",
    "        signal1 = lfp[chni, :, :]\n",
    "        signal1 = np.transpose(signal1) \n",
    "\n",
    "        for chnj in range(chni+1, nchns):\n",
    "\n",
    "            # signal of channel chnij\n",
    "            signal2 = lfp[chnj, :, :]\n",
    "            signal2 = np.transpose(signal2)\n",
    "\n",
    "            # ciCOH_alltrials assignment\n",
    "            ciCOH_alltrials[chni, chnj, :] =  ciCoherence_acrosstrials(signal1, signal2)\n",
    "\n",
    "            # symmetrical\n",
    "            ciCOH_alltrials[chnj, chni, :] = ciCOH_alltrials[chni, chnj, :]\n",
    "\n",
    "            del signal2\n",
    "        del signal1\n",
    "\n",
    "\n",
    "    # return\n",
    "    return ciCOH_alltrials"
   ]
  },
  {
   "cell_type": "code",
   "execution_count": 33,
   "metadata": {},
   "outputs": [],
   "source": [
    "ciCOH_temp_normal = calciCOH_lfp(phaselfp_normal_ba)\n",
    "ciCOH_temp_mild = calciCOH_lfp(phaselfp_mild_ba)"
   ]
  },
  {
   "cell_type": "code",
   "execution_count": 35,
   "metadata": {},
   "outputs": [
    {
     "name": "stderr",
     "output_type": "stream",
     "text": [
      "/Users/linglingyang/miniconda3/envs/general/lib/python3.6/site-packages/numpy/core/_methods.py:151: RuntimeWarning: invalid value encountered in reduce\n",
      "  ret = umr_sum(arr, axis, dtype, out, keepdims)\n"
     ]
    }
   ],
   "source": [
    "ciCOH_normal, ciCOH_mild = np.mean(ciCOH_temp_normal,axis = 2), np.mean(ciCOH_temp_mild, 2)"
   ]
  },
  {
   "cell_type": "markdown",
   "metadata": {},
   "source": [
    "## Save"
   ]
  },
  {
   "cell_type": "code",
   "execution_count": 36,
   "metadata": {},
   "outputs": [],
   "source": [
    "ciCOH = dict()\n",
    "ciCOH['normal'], ciCOH['mild'] = ciCOH_normal, ciCOH_mild\n",
    "ciCOH['chnInf_recchni'], ciCOH['chnInf_matchni'] = chnInf_recchni, chnInf_matchni\n",
    "ciCOH['chnInf_brainarea'], ciCOH['chnInf_coord'] = chnInf_brainarea, chnInf_coord"
   ]
  },
  {
   "cell_type": "code",
   "execution_count": 2,
   "metadata": {},
   "outputs": [
    {
     "ename": "NameError",
     "evalue": "name 'savefolder' is not defined",
     "output_type": "error",
     "traceback": [
      "\u001b[0;31m---------------------------------------------------------------------------\u001b[0m",
      "\u001b[0;31mNameError\u001b[0m                                 Traceback (most recent call last)",
      "\u001b[0;32m<ipython-input-2-b0c1d9e816cd>\u001b[0m in \u001b[0;36m<module>\u001b[0;34m\u001b[0m\n\u001b[0;32m----> 1\u001b[0;31m \u001b[0;32mwith\u001b[0m \u001b[0mopen\u001b[0m\u001b[0;34m(\u001b[0m\u001b[0mos\u001b[0m\u001b[0;34m.\u001b[0m\u001b[0mpath\u001b[0m\u001b[0;34m.\u001b[0m\u001b[0mjoin\u001b[0m\u001b[0;34m(\u001b[0m\u001b[0msavefolder\u001b[0m\u001b[0;34m,\u001b[0m \u001b[0msavefilename\u001b[0m\u001b[0;34m)\u001b[0m\u001b[0;34m,\u001b[0m \u001b[0;34m'wb'\u001b[0m\u001b[0;34m)\u001b[0m \u001b[0;32mas\u001b[0m \u001b[0mfp\u001b[0m\u001b[0;34m:\u001b[0m\u001b[0;34m\u001b[0m\u001b[0;34m\u001b[0m\u001b[0m\n\u001b[0m\u001b[1;32m      2\u001b[0m     \u001b[0mpickle\u001b[0m\u001b[0;34m.\u001b[0m\u001b[0mdump\u001b[0m\u001b[0;34m(\u001b[0m\u001b[0mciCOH\u001b[0m\u001b[0;34m,\u001b[0m \u001b[0mfp\u001b[0m\u001b[0;34m,\u001b[0m \u001b[0mprotocol\u001b[0m\u001b[0;34m=\u001b[0m\u001b[0mpickle\u001b[0m\u001b[0;34m.\u001b[0m\u001b[0mHIGHEST_PROTOCOL\u001b[0m\u001b[0;34m)\u001b[0m\u001b[0;34m\u001b[0m\u001b[0;34m\u001b[0m\u001b[0m\n",
      "\u001b[0;31mNameError\u001b[0m: name 'savefolder' is not defined"
     ]
    }
   ],
   "source": [
    "with open(os.path.join(savefolder, savefilename), 'wb') as fp:\n",
    "    pickle.dump(ciCOH, fp, protocol=pickle.HIGHEST_PROTOCOL)"
   ]
  }
 ],
 "metadata": {
  "kernelspec": {
   "display_name": "Python 3",
   "language": "python",
   "name": "python3"
  },
  "language_info": {
   "codemirror_mode": {
    "name": "ipython",
    "version": 3
   },
   "file_extension": ".py",
   "mimetype": "text/x-python",
   "name": "python",
   "nbconvert_exporter": "python",
   "pygments_lexer": "ipython3",
   "version": "3.6.10"
  },
  "toc": {
   "base_numbering": 1,
   "nav_menu": {},
   "number_sections": false,
   "sideBar": true,
   "skip_h1_title": true,
   "title_cell": "Table of Contents",
   "title_sidebar": "",
   "toc_cell": false,
   "toc_position": {
    "height": "calc(100% - 180px)",
    "left": "10px",
    "top": "150px",
    "width": "370.594px"
   },
   "toc_section_display": true,
   "toc_window_display": true
  }
 },
 "nbformat": 4,
 "nbformat_minor": 2
}
