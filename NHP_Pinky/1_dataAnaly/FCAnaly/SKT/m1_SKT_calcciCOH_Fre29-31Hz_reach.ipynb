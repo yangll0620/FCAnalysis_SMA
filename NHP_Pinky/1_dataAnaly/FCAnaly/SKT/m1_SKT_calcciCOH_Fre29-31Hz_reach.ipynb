{
 "cells": [
  {
   "cell_type": "markdown",
   "metadata": {},
   "source": [
    "# Calculate ciCOH Values: \n",
    "\n",
    "* For both normal and mild LFP data \n",
    "\n",
    "* Return phase [reachonset Touch] in single kluverboard task\n",
    "\n",
    "* [29 31]Hz"
   ]
  },
  {
   "cell_type": "markdown",
   "metadata": {},
   "source": [
    "## Import Packages"
   ]
  },
  {
   "cell_type": "code",
   "execution_count": 1,
   "metadata": {},
   "outputs": [],
   "source": [
    "import os, sys\n",
    "import scipy.io as sio\n",
    "import glob\n",
    "import numpy as np\n",
    "import matplotlib.pyplot as plt\n",
    "import pickle \n",
    "import random\n",
    "import pandas as pd\n",
    "%matplotlib inline"
   ]
  },
  {
   "cell_type": "code",
   "execution_count": 2,
   "metadata": {},
   "outputs": [
    {
     "name": "stdout",
     "output_type": "stream",
     "text": [
      "importing Jupyter notebook from /home/lingling/Insync/yang7003@umn.edu/NMRC_umn/Projects/FCAnalysis/exp/code/util/folder_extract.ipynb\n",
      "importing Jupyter notebook from /home/lingling/Insync/yang7003@umn.edu/NMRC_umn/Projects/FCAnalysis/exp/code/connAnalyTool/synchronization_indices.ipynb\n"
     ]
    }
   ],
   "source": [
    "# extract the exp folder path\n",
    "currfolder = os.getcwd()\n",
    "codefolder = currfolder[0 : currfolder.find('code')+len('code')]\n",
    "\n",
    "# add path the exp folder\n",
    "sys.path.append(codefolder)\n",
    "\n",
    "# import_nbmodule used for import package in .ipynb\n",
    "import import_nbmodule\n",
    "\n",
    "# import util/folder_extract.pynb \n",
    "from util.folder_extract import exp_subfolders, code_corresfolder\n",
    "\n",
    "# import ciCoherence_overtime in connAnalyTool/synchronization_indices.ipynb\n",
    "from connAnalyTool.synchronization_indices import ciCoherence_acrosstrials\n",
    "from connAnalyTool.synchronization_indices import ciCoherence_overtime"
   ]
  },
  {
   "cell_type": "markdown",
   "metadata": {},
   "source": [
    "## Preparation"
   ]
  },
  {
   "cell_type": "markdown",
   "metadata": {},
   "source": [
    "### exp subfolders & code_corresfolder"
   ]
  },
  {
   "cell_type": "code",
   "execution_count": 3,
   "metadata": {},
   "outputs": [],
   "source": [
    "_, _, pipelinefolder, _= exp_subfolders()"
   ]
  },
  {
   "cell_type": "code",
   "execution_count": 4,
   "metadata": {},
   "outputs": [
    {
     "data": {
      "application/javascript": [
       "IPython.notebook.kernel.execute('nb_name = \"' + IPython.notebook.notebook_name + '\"')\n"
      ],
      "text/plain": [
       "<IPython.core.display.Javascript object>"
      ]
     },
     "metadata": {},
     "output_type": "display_data"
    }
   ],
   "source": [
    "%%javascript\n",
    "IPython.notebook.kernel.execute('nb_name = \"' + IPython.notebook.notebook_name + '\"')"
   ]
  },
  {
   "cell_type": "code",
   "execution_count": 5,
   "metadata": {},
   "outputs": [],
   "source": [
    "nb_name = nb_name[0: nb_name.find('.ipynb')]\n",
    "\n",
    "# corresfolder\n",
    "corresfolder, correparentfolder = code_corresfolder(os.getcwd(), nb_name)"
   ]
  },
  {
   "cell_type": "markdown",
   "metadata": {},
   "source": [
    "### Global parameters"
   ]
  },
  {
   "cell_type": "code",
   "execution_count": 6,
   "metadata": {},
   "outputs": [],
   "source": [
    "freq = [29, 31]\n",
    "\n",
    "eventphase = 'reach'\n",
    "\n",
    "animal = 'Pinky'\n",
    "\n",
    "tdur_min, tdur_max = 0.5, 1\n",
    "tdur_reach = tdur_min\n",
    "\n",
    "sameDates4SKTRest = True"
   ]
  },
  {
   "cell_type": "code",
   "execution_count": 7,
   "metadata": {},
   "outputs": [],
   "source": [
    "coli_target, coli_reachonset, coli_touch, coli_returnonset, coli_mouth = 0, 1, 2, 3, 4\n",
    "\n",
    "\n",
    "if eventphase == 'reach':\n",
    "    cols = [coli_reachonset, coli_touch]\n",
    "    \n",
    "elif eventphase == 'return':\n",
    "    cols = [coli_returnonset, coli_mouth]"
   ]
  },
  {
   "cell_type": "markdown",
   "metadata": {},
   "source": [
    "### Input setup"
   ]
  },
  {
   "cell_type": "code",
   "execution_count": 8,
   "metadata": {},
   "outputs": [],
   "source": [
    "inputfolder = os.path.join(pipelinefolder, 'NHP_Pinky', '0_dataPrep', 'SKT', \n",
    "                           'm3_STKData_narrowfiltered' + str(freq[0]) + '_' + str(freq[1]))"
   ]
  },
  {
   "cell_type": "code",
   "execution_count": 9,
   "metadata": {},
   "outputs": [],
   "source": [
    "variablesinLoadfile = ['lfpdata', 'idxevent_Matrix', 'idxevent_vNames', 'fs', \n",
    "                   'chans_m1', 'GMChnAreas']"
   ]
  },
  {
   "cell_type": "code",
   "execution_count": 10,
   "metadata": {},
   "outputs": [],
   "source": [
    "chnInf_folder = correparentfolder\n",
    "chnInf_file = os.path.join(chnInf_folder, 'chn_brainArea_simCoord_M1ThaSMADBS.csv')"
   ]
  },
  {
   "cell_type": "code",
   "execution_count": 11,
   "metadata": {},
   "outputs": [],
   "source": [
    "if sameDates4SKTRest:\n",
    "    \n",
    "    sameDatesInfFile = os.path.join(pipelinefolder, 'NHP_Pinky', '0_dataPrep', 'Pinky_sameDatesUsedforSTKRest.csv')"
   ]
  },
  {
   "cell_type": "markdown",
   "metadata": {},
   "source": [
    "### Save setup"
   ]
  },
  {
   "cell_type": "code",
   "execution_count": 12,
   "metadata": {},
   "outputs": [],
   "source": [
    "savefolder = corresfolder\n",
    "savefilename =  'ciCOH_STK_' + 'freq_' + str(freq[0]) + '_' + str(freq[1]) + '_' + eventphase \n",
    "\n",
    "\n",
    "if sameDates4SKTRest:\n",
    "    savefilename = savefilename + '_samedays'"
   ]
  },
  {
   "cell_type": "markdown",
   "metadata": {},
   "source": [
    "## Extract lfp & chnInf "
   ]
  },
  {
   "cell_type": "markdown",
   "metadata": {},
   "source": [
    "### Extract lfp"
   ]
  },
  {
   "cell_type": "code",
   "execution_count": 13,
   "metadata": {},
   "outputs": [],
   "source": [
    "def lfpallfiles_extract(files):\n",
    "    if 'lfpdata' in locals():\n",
    "        del lfpdata\n",
    "        \n",
    "        \n",
    "    for filei, file in enumerate(files):\n",
    "    \n",
    "        # load the stk trial data in alpha band with idxevent, idxevent_varNames, fs\n",
    "        matdat = sio.loadmat(file, \n",
    "                             variable_names = variablesinLoadfile, \n",
    "                             struct_as_record = False, squeeze_me = True)\n",
    "        # fs: sample rate\n",
    "        fs = matdat['fs'] \n",
    "                \n",
    "        \n",
    "        ### extract the noused channels, only calculate once\n",
    "        if filei == 0:\n",
    "            GMChnAreas = matdat['GMChnAreas'].tolist()\n",
    "            chni_notused = []\n",
    "            for chni, area in enumerate(GMChnAreas):\n",
    "                if len(area) == 0:\n",
    "                    # this channel is not used for any area\n",
    "                    chni_notused.append(chni)\n",
    "                    \n",
    "            # remove the used channels from GMChnAreas and chans_GM\n",
    "            chans_GM = [*range(101, 133,1)]\n",
    "            for idx in sorted(chni_notused, reverse=True):\n",
    "                del GMChnAreas[idx]\n",
    "                del chans_GM[idx]\n",
    "                \n",
    "            # chnInf_recchni\n",
    "            recchni_used = matdat['chans_m1'].tolist() + chans_GM + [*range(0, 7,1)] + [*range(0, 7,1)]\n",
    "        \n",
    "\n",
    "        ### dealing lfp data\n",
    "            \n",
    "        lfp = matdat['lfpdata']\n",
    "        \n",
    "        # idxevent (np.ndarray, ntrials * 5) indices for targetonset, reachonset, reach, return and mouth\n",
    "        idxevent = matdat['idxevent_Matrix']\n",
    "        \n",
    "\n",
    "        idxdur_min, idxdur_max = int(np.round(tdur_min * fs)), int(np.round(tdur_max * fs))\n",
    "        idxdur_reach = int(np.round(tdur_reach * fs))\n",
    "\n",
    "        if len(lfp.shape) == 2: # only has one trial\n",
    "            lfp = np.expand_dims(lfp, axis = 2)\n",
    "            idxevent = np.expand_dims(idxevent, axis = 0)\n",
    "\n",
    "        ntrials = lfp.shape[2]\n",
    "\n",
    "        # deal each trial in lfp of one file\n",
    "        for triali in range(ntrials):\n",
    "\n",
    "            # start and end indices over time of specific phase for triali \n",
    "            idxtime_str, idxtime_end = int(idxevent[triali][cols[0]]), int(idxevent[triali][cols[1]])    \n",
    "\n",
    "            # remove trials of return phase longer than tdur_max and shorter than tdur_min\n",
    "            if idxtime_end - idxtime_str < idxdur_min or idxtime_end - idxtime_str > idxdur_max:\n",
    "                continue;\n",
    "\n",
    "\n",
    "            # extract lfp data in specific phase of one trial (n_chns * n_times)\n",
    "            lfp_1trial = np.expand_dims(lfp[:, idxtime_str:idxtime_str + idxdur_reach, triali], axis=2)       \n",
    "\n",
    "\n",
    "            # append new trial to lfpdata\n",
    "            if 'lfpdata' not in locals():\n",
    "                lfpdata = lfp_1trial\n",
    "            else:\n",
    "                lfpdata = np.concatenate((lfpdata, lfp_1trial), axis = 2)\n",
    "\n",
    "            del lfp_1trial, idxtime_str, idxtime_end\n",
    "\n",
    "        del matdat, fs, idxevent, lfp\n",
    "        \n",
    "        \n",
    "        \n",
    "    return lfpdata, recchni_used"
   ]
  },
  {
   "cell_type": "code",
   "execution_count": 15,
   "metadata": {},
   "outputs": [],
   "source": [
    "files_normal = glob.glob(os.path.join(inputfolder, '*_normal_*'))\n",
    "files_mild = glob.glob(os.path.join(inputfolder, '*_mild_*'))\n",
    "\n",
    "\n",
    "if sameDates4SKTRest: ## extract only the file with the dates used in datestrings_rest\n",
    "    \n",
    "    df = pd.read_csv(sameDatesInfFile)\n",
    "    \n",
    "    datestrings_rest = df['datestrings_skt']\n",
    "    \n",
    "    \n",
    "    \n",
    "    files = files_normal\n",
    "    files_used = []\n",
    "    for file in files:\n",
    "\n",
    "        # extract the date string for the file, format '_20170915_'\n",
    "        idx = file.find('_bktdt')\n",
    "        datestring = '_' + file[idx-6:idx] + '_'\n",
    "\n",
    "        # if the date in datestrings_rest\n",
    "        if datestring in set(datestrings_rest):\n",
    "            files_used.append(file)\n",
    "\n",
    "    files_normal = files_used\n",
    "    del files_used\n",
    "\n",
    "\n",
    "    files = files_mild\n",
    "    files_used = []\n",
    "    for file in files:\n",
    "\n",
    "        # extract the date string for the file, format '_20170915_'\n",
    "        idx = file.find('_bktdt')\n",
    "        datestring = '_' + file[idx-6:idx] + '_'\n",
    "\n",
    "        # if the date in datestrings_rest\n",
    "        if datestring in set(datestrings_rest):\n",
    "            files_used.append(file)\n",
    "\n",
    "    files_mild = files_used\n",
    "    del files_used"
   ]
  },
  {
   "cell_type": "code",
   "execution_count": 17,
   "metadata": {},
   "outputs": [],
   "source": [
    "# lfptrials_normal, lfptrials_mild: nchns * ntemp * ntrials\n",
    "lfptrials_normal, recchni_used = lfpallfiles_extract(files_normal)\n",
    "lfptrials_mild, _ = lfpallfiles_extract(files_mild)"
   ]
  },
  {
   "cell_type": "code",
   "execution_count": 18,
   "metadata": {},
   "outputs": [
    {
     "name": "stdout",
     "output_type": "stream",
     "text": [
      "(93, 250, 121)\n",
      "(93, 250, 106)\n"
     ]
    }
   ],
   "source": [
    "print(lfptrials_mild.shape)\n",
    "print(lfptrials_normal.shape)"
   ]
  },
  {
   "cell_type": "markdown",
   "metadata": {},
   "source": [
    "### Extract chnInf using recchni_used"
   ]
  },
  {
   "cell_type": "code",
   "execution_count": 19,
   "metadata": {},
   "outputs": [],
   "source": [
    "### load channel information ###\n",
    "df = pd.read_csv(chnInf_file, header = 0)"
   ]
  },
  {
   "cell_type": "code",
   "execution_count": 20,
   "metadata": {},
   "outputs": [],
   "source": [
    "# recording chni \n",
    "recording_chni = df['recording_chni'].tolist()\n",
    "\n",
    "chnInf_brainarea = df['brainarea']\n",
    "chnInf_matchni = df['mat_chni']\n",
    "\n",
    "# coord\n",
    "x, y = df['simulated_x'].to_numpy(), df['simulated_y'].to_numpy()\n",
    "chnInf_coord = np.concatenate((np.expand_dims(x, axis = 1), np.expand_dims(y, axis = 1)), axis = 1)"
   ]
  },
  {
   "cell_type": "code",
   "execution_count": 21,
   "metadata": {},
   "outputs": [],
   "source": [
    "### extract the idx_used in list recording_chni\n",
    "idx_used = []\n",
    "# get the idx_used for m1 and GM (i.e. except stn and gp) in list recording_chni\n",
    "for i, rechni in enumerate(recchni_used[0:-14]):\n",
    "    idx_used.append(recording_chni.index(rechni))\n",
    "    \n",
    "# get idx of stn and gp (i.e. the last 14 channels)\n",
    "idx_used = idx_used + [*range(len(recording_chni)-14, len(recording_chni))]"
   ]
  },
  {
   "cell_type": "code",
   "execution_count": 22,
   "metadata": {},
   "outputs": [],
   "source": [
    "# get chnInf for used channels\n",
    "chnInf_brainarea = chnInf_brainarea[idx_used].tolist()\n",
    "chnInf_coord = chnInf_coord[idx_used,:]\n",
    "chnInf_matchni = chnInf_matchni[idx_used]\n",
    "\n",
    "chnInf_recchni = recchni_used"
   ]
  },
  {
   "cell_type": "markdown",
   "metadata": {},
   "source": [
    "## Calculate ciCOH"
   ]
  },
  {
   "cell_type": "markdown",
   "metadata": {},
   "source": [
    "### balance mild and normal trials"
   ]
  },
  {
   "cell_type": "code",
   "execution_count": 23,
   "metadata": {},
   "outputs": [],
   "source": [
    "# select the smaller trial number\n",
    "ntrials_normal, ntrials_mild = lfptrials_normal.shape[2], lfptrials_mild.shape[2]\n",
    "ntrials = min([ntrials_normal, ntrials_mild])\n",
    "\n",
    "# balance trials\n",
    "lfptrials_normal = lfptrials_normal[:,:,0:ntrials]\n",
    "lfptrials_mild = lfptrials_mild[:,:,0:ntrials]"
   ]
  },
  {
   "cell_type": "markdown",
   "metadata": {},
   "source": [
    "###  normal ciCOH"
   ]
  },
  {
   "cell_type": "code",
   "execution_count": 24,
   "metadata": {},
   "outputs": [],
   "source": [
    "lfptrials = lfptrials_normal\n",
    "\n",
    "### calculate ciCOH\n",
    "nchns = lfptrials.shape[0]\n",
    "ciCOH = np.zeros((nchns, nchns))\n",
    "\n",
    "for chni in range(nchns-1):\n",
    "    \n",
    "    # signal of channel chni\n",
    "    signal1 = lfptrials[chni, :, :]\n",
    "    \n",
    "    for chnj in range(chni+1, nchns):\n",
    "        \n",
    "         # signal of channel chnij\n",
    "        signal2 = lfptrials[chnj, :, :]\n",
    "        \n",
    "        # ciCOH assignment\n",
    "        ciCOH[chni, chnj] =  np.mean(ciCoherence_acrosstrials(signal1, signal2))\n",
    "\n",
    "        # symmetrical\n",
    "        ciCOH[chnj, chni] = ciCOH[chni, chnj]\n",
    "\n",
    "        del signal2\n",
    "    del signal1\n",
    "    \n",
    "ciCOH_normal = ciCOH\n",
    "del ciCOH, lfptrials, nchns"
   ]
  },
  {
   "cell_type": "markdown",
   "metadata": {},
   "source": [
    "### mild ciCOH"
   ]
  },
  {
   "cell_type": "code",
   "execution_count": 25,
   "metadata": {},
   "outputs": [],
   "source": [
    "lfptrials = lfptrials_mild\n",
    "\n",
    "### calculate ciCOH\n",
    "nchns = lfptrials.shape[0]\n",
    "ciCOH = np.zeros((nchns, nchns))\n",
    "\n",
    "for chni in range(nchns-1):\n",
    "    \n",
    "    # signal of channel chni\n",
    "    signal1 = lfptrials[chni, :, :]\n",
    "    \n",
    "    for chnj in range(chni+1, nchns):\n",
    "        \n",
    "         # signal of channel chnij\n",
    "        signal2 = lfptrials[chnj, :, :]\n",
    "        \n",
    "        # ciCOH assignment\n",
    "        ciCOH[chni, chnj] =  np.mean(ciCoherence_acrosstrials(signal1, signal2))\n",
    "\n",
    "        # symmetrical\n",
    "        ciCOH[chnj, chni] = ciCOH[chni, chnj]\n",
    "\n",
    "        del signal2\n",
    "    del signal1\n",
    "    \n",
    "ciCOH_mild = ciCOH\n",
    "del ciCOH, lfptrials, nchns"
   ]
  },
  {
   "cell_type": "markdown",
   "metadata": {},
   "source": [
    "## save"
   ]
  },
  {
   "cell_type": "code",
   "execution_count": 26,
   "metadata": {},
   "outputs": [],
   "source": [
    "ciCOH = dict()\n",
    "ciCOH['normal'], ciCOH['mild'] = ciCOH_normal, ciCOH_mild\n",
    "ciCOH['chnInf_recchni'], ciCOH['chnInf_matchni'] = chnInf_recchni, chnInf_matchni\n",
    "ciCOH['chnInf_brainarea'], ciCOH['chnInf_coord'] = chnInf_brainarea, chnInf_coord "
   ]
  },
  {
   "cell_type": "code",
   "execution_count": 27,
   "metadata": {},
   "outputs": [],
   "source": [
    "try:\n",
    "    import cPickle as pickle\n",
    "except ImportError:  # python 3.x\n",
    "    import pickle\n",
    "\n",
    "with open(os.path.join(savefolder, savefilename + '.pickle'), 'wb') as fp:\n",
    "    pickle.dump(ciCOH, fp, protocol=pickle.HIGHEST_PROTOCOL)"
   ]
  },
  {
   "cell_type": "code",
   "execution_count": 28,
   "metadata": {},
   "outputs": [
    {
     "data": {
      "text/plain": [
       "'/home/lingling/Insync/yang7003@umn.edu/NMRC_umn/Projects/FCAnalysis/exp/pipeline/NHP_Pinky/1_dataAnaly/FCAnaly/SKT/m1_SKT_calcciCOH_Fre29-31Hz_reach/ciCOH_STK_freq_29_31_reach_samedays.pickle'"
      ]
     },
     "execution_count": 28,
     "metadata": {},
     "output_type": "execute_result"
    }
   ],
   "source": [
    "os.path.join(savefolder, savefilename + '.pickle')"
   ]
  },
  {
   "cell_type": "markdown",
   "metadata": {},
   "source": [
    "## plot section"
   ]
  },
  {
   "cell_type": "code",
   "execution_count": 29,
   "metadata": {},
   "outputs": [
    {
     "data": {
      "image/png": "[encoded data removed]",
      "text/plain": [
       "<Figure size 432x288 with 2 Axes>"
      ]
     },
     "metadata": {
      "needs_background": "light"
     },
     "output_type": "display_data"
    }
   ],
   "source": [
    "plt.imshow(ciCOH['mild']);\n",
    "plt.colorbar()\n",
    "plt.title('mild')\n",
    "plt.show()"
   ]
  },
  {
   "cell_type": "code",
   "execution_count": 30,
   "metadata": {},
   "outputs": [
    {
     "data": {
      "image/png": "[encoded data removed]",
      "text/plain": [
       "<Figure size 432x288 with 2 Axes>"
      ]
     },
     "metadata": {
      "needs_background": "light"
     },
     "output_type": "display_data"
    }
   ],
   "source": [
    "plt.imshow(ciCOH['normal'])\n",
    "plt.title('normal')\n",
    "plt.colorbar()\n",
    "plt.show()"
   ]
  }
 ],
 "metadata": {
  "kernelspec": {
   "display_name": "Python 3",
   "language": "python",
   "name": "python3"
  },
  "language_info": {
   "codemirror_mode": {
    "name": "ipython",
    "version": 3
   },
   "file_extension": ".py",
   "mimetype": "text/x-python",
   "name": "python",
   "nbconvert_exporter": "python",
   "pygments_lexer": "ipython3",
   "version": "3.8.1"
  },
  "toc": {
   "base_numbering": 1,
   "nav_menu": {},
   "number_sections": false,
   "sideBar": true,
   "skip_h1_title": true,
   "title_cell": "",
   "title_sidebar": "",
   "toc_cell": false,
   "toc_position": {
    "height": "calc(100% - 180px)",
    "left": "10px",
    "top": "150px",
    "width": "313px"
   },
   "toc_section_display": true,
   "toc_window_display": true
  }
 },
 "nbformat": 4,
 "nbformat_minor": 2
}
