{
 "cells": [
  {
   "cell_type": "markdown",
   "metadata": {},
   "source": [
    "# Calculate ciCOH Values: \n",
    "\n",
    "* For both normal and mild LFP data \n",
    "\n",
    "* Reach phase [reachonset touch] in single kluverboard task\n",
    "\n",
    "* [9 11]Hz"
   ]
  },
  {
   "cell_type": "markdown",
   "metadata": {},
   "source": [
    "## Import Packages"
   ]
  },
  {
   "cell_type": "code",
   "execution_count": 1,
   "metadata": {},
   "outputs": [],
   "source": [
    "import os, sys\n",
    "import scipy.io as sio\n",
    "import glob\n",
    "import numpy as np\n",
    "import matplotlib.pyplot as plt\n",
    "import pickle \n",
    "import random\n",
    "import pandas as pd\n",
    "%matplotlib inline"
   ]
  },
  {
   "cell_type": "code",
   "execution_count": 2,
   "metadata": {},
   "outputs": [
    {
     "name": "stdout",
     "output_type": "stream",
     "text": [
      "importing Jupyter notebook from /Users/linglingyang/yang7003@umn.edu/NMRC_umn/Projects/FCAnalysis/exp/code/util/folder_extract.ipynb\n",
      "importing Jupyter notebook from /Users/linglingyang/yang7003@umn.edu/NMRC_umn/Projects/FCAnalysis/exp/code/connAnalyTool/synchronization_indices.ipynb\n"
     ]
    }
   ],
   "source": [
    "# extract the exp folder path\n",
    "currfolder = os.getcwd()\n",
    "codefolder = currfolder[0 : currfolder.find('code')+len('code')]\n",
    "\n",
    "# add path the exp folder\n",
    "sys.path.append(codefolder)\n",
    "\n",
    "# import_nbmodule used for import package in .ipynb\n",
    "import import_nbmodule\n",
    "\n",
    "# import util/folder_extract.pynb \n",
    "from util.folder_extract import exp_subfolders, code_corresfolder\n",
    "\n",
    "# import ciCoherence_overtime in connAnalyTool/synchronization_indices.ipynb\n",
    "from connAnalyTool.synchronization_indices import ciCoherence_acrosstrials\n",
    "from connAnalyTool.synchronization_indices import ciCoherence_overtime"
   ]
  },
  {
   "cell_type": "markdown",
   "metadata": {},
   "source": [
    "## exp subfolders & code_corresfolder"
   ]
  },
  {
   "cell_type": "code",
   "execution_count": 3,
   "metadata": {},
   "outputs": [],
   "source": [
    "_, _, pipelinefolder, _= exp_subfolders()"
   ]
  },
  {
   "cell_type": "code",
   "execution_count": 4,
   "metadata": {},
   "outputs": [
    {
     "data": {
      "application/javascript": [
       "IPython.notebook.kernel.execute('nb_name = \"' + IPython.notebook.notebook_name + '\"')\n"
      ],
      "text/plain": [
       "<IPython.core.display.Javascript object>"
      ]
     },
     "metadata": {},
     "output_type": "display_data"
    }
   ],
   "source": [
    "%%javascript\n",
    "IPython.notebook.kernel.execute('nb_name = \"' + IPython.notebook.notebook_name + '\"')"
   ]
  },
  {
   "cell_type": "code",
   "execution_count": 5,
   "metadata": {},
   "outputs": [],
   "source": [
    "nb_name = nb_name[0: nb_name.find('.ipynb')]\n",
    "\n",
    "# corresfolder\n",
    "corresfolder, correparentfolder = code_corresfolder(os.getcwd(), nb_name)"
   ]
  },
  {
   "cell_type": "markdown",
   "metadata": {},
   "source": [
    "## global parameters"
   ]
  },
  {
   "cell_type": "code",
   "execution_count": 6,
   "metadata": {},
   "outputs": [],
   "source": [
    "freq = [9, 11]\n",
    "\n",
    "eventphase = 'reach'\n",
    "\n",
    "animal = 'Pinky'\n",
    "\n",
    "tdur_min, tdur_max = 0.5, 1\n",
    "tdur_reach = tdur_min"
   ]
  },
  {
   "cell_type": "code",
   "execution_count": 7,
   "metadata": {},
   "outputs": [],
   "source": [
    "leadSTN_chns, leadGP_chns = [5,6], [6, 7] # start from 0"
   ]
  },
  {
   "cell_type": "code",
   "execution_count": 8,
   "metadata": {},
   "outputs": [],
   "source": [
    "coli_target, coli_reachonset, coli_touch, coli_returnonset, coli_mouth = 0, 1, 2, 3, 4\n",
    "\n",
    "\n",
    "if eventphase == 'reach':\n",
    "    cols = [coli_reachonset, coli_touch]\n",
    "    \n",
    "elif eventphase == 'return':\n",
    "    cols = [coli_returnonset, coli_mouth]"
   ]
  },
  {
   "cell_type": "markdown",
   "metadata": {},
   "source": [
    "## input setup"
   ]
  },
  {
   "cell_type": "code",
   "execution_count": 16,
   "metadata": {},
   "outputs": [],
   "source": [
    "inputfolder = os.path.join(correparentfolder, 'old metadata/m0_STKData_narrowfiltered9_11')"
   ]
  },
  {
   "cell_type": "code",
   "execution_count": 17,
   "metadata": {},
   "outputs": [],
   "source": [
    "chnInf_folder = correparentfolder\n",
    "chnInf_file = os.path.join(chnInf_folder, 'chn_brainArea_simCoord_M1ThaSMADBS.csv')"
   ]
  },
  {
   "cell_type": "markdown",
   "metadata": {},
   "source": [
    "## save file setup"
   ]
  },
  {
   "cell_type": "code",
   "execution_count": 11,
   "metadata": {},
   "outputs": [],
   "source": [
    "savefolder = corresfolder\n",
    "savefilename =  'ciCOH_STK_' + eventphase + '_' + 'freq_' + str(freq[0]) + '_' + str(freq[1])  +'.pickle'\n",
    "savefile_ciCOH = os.path.join(savefolder, savefilename)"
   ]
  },
  {
   "cell_type": "markdown",
   "metadata": {},
   "source": [
    "## extract lfp \n",
    "from all the files in mild or normal condition"
   ]
  },
  {
   "cell_type": "markdown",
   "metadata": {},
   "source": [
    "### extract lfpnormal_alltrials, lfpmild_alltrials"
   ]
  },
  {
   "cell_type": "code",
   "execution_count": 18,
   "metadata": {},
   "outputs": [],
   "source": [
    "## glob all .mat files (both mild and normal files)\n",
    "files = glob.glob(os.path.join(inputfolder, '*.mat'))\n",
    "\n",
    "\n",
    "### combine the trials from all the files that last longer than tdur_min and less than tdur_max ###\n",
    "if 'lfpmild_alltrials' in locals():\n",
    "    del lfpmild_alltrials\n",
    "if 'lfpnormal_alltrials'in locals():\n",
    "    del lfpnormal_alltrials\n",
    "    \n",
    "for filei, file in enumerate(files):\n",
    "    \n",
    "    # load the stk trial data in alpha band with idxevent, idxevent_varNames, fs\n",
    "    matdat = sio.loadmat(file, \n",
    "                         variable_names = ['lfpdata', \n",
    "                                           'idxevent_Matrix' ,'fs'], \n",
    "                         struct_as_record = False, squeeze_me = True)\n",
    "    # fs: sample rate\n",
    "    fs = matdat['fs'] \n",
    "    # idxevent (np.ndarray, ntrials * 5) indices for targetonset, reachonset, reach, return and mouth\n",
    "    idxevent = matdat['idxevent_Matrix']\n",
    "        \n",
    "    # lfp\n",
    "    lfp = matdat['lfpdata']\n",
    "             \n",
    "    idxdur_min, idxdur_max = int(np.round(tdur_min * fs)), int(np.round(tdur_max * fs))\n",
    "    idxdur_reach = int(np.round(tdur_reach * fs))\n",
    "    \n",
    "    if len(lfp.shape) == 2: # only has one trial\n",
    "        lfp = np.expand_dims(lfp, axis = 2)\n",
    "        idxevent = np.expand_dims(idxevent, axis = 0)\n",
    "    \n",
    "    ntrials = lfp.shape[2]\n",
    "    \n",
    "    # deal each trial in lfp of one file\n",
    "    for triali in range(ntrials):\n",
    "        \n",
    "        # start and end indices over time of specific phase for triali \n",
    "        idxtime_str, idxtime_end = int(idxevent[triali][cols[0]]), int(idxevent[triali][cols[1]])    \n",
    "        \n",
    "        # remove trials of reach phase longer than tdur_max and shorter than tdur_min\n",
    "        if idxtime_end - idxtime_str < idxdur_min or idxtime_end - idxtime_str > idxdur_max:\n",
    "            continue;\n",
    "            \n",
    "            \n",
    "        # extract lfp data in specific phase of one trial (n_chns * n_times)\n",
    "        lfp_1trial = np.expand_dims(lfp[:, idxtime_str:idxtime_str + idxdur_reach, triali], axis=2)       \n",
    "        \n",
    "        # mild case\n",
    "        if 'mild' in file and 'normal' not in file:\n",
    "            \n",
    "            # append new trial to lfpmild_alltrials\n",
    "            if 'lfpmild_alltrials' not in locals():\n",
    "                lfpmild_alltrials = lfp_1trial\n",
    "            else:\n",
    "                lfpmild_alltrials = np.concatenate((lfpmild_alltrials, lfp_1trial), axis = 2)\n",
    "                \n",
    "        # normal case\n",
    "        if 'normal' in file and 'mild' not in file:\n",
    "            \n",
    "            # append new trial to lfpnormal_alltrials\n",
    "            if 'lfpnormal_alltrials' not in locals():\n",
    "                lfpnormal_alltrials = lfp_1trial\n",
    "            else:\n",
    "                lfpnormal_alltrials = np.concatenate((lfpnormal_alltrials, lfp_1trial), axis = 2)\n",
    "                \n",
    "        del lfp_1trial, idxtime_str, idxtime_end\n",
    "    \n",
    "    del matdat, fs, idxevent, lfp"
   ]
  },
  {
   "cell_type": "markdown",
   "metadata": {},
   "source": [
    "### balance mild and normal trials number"
   ]
  },
  {
   "cell_type": "code",
   "execution_count": 19,
   "metadata": {},
   "outputs": [],
   "source": [
    "if lfpmild_alltrials.shape[2] < lfpnormal_alltrials.shape[2]:\n",
    "    ntrials_ba = lfpmild_alltrials.shape[2]\n",
    "else:\n",
    "    ntrials_ba = lfpnormal_alltrials.shape[2]\n",
    "\n",
    "# idx_batrials_normal = random.sample(range(0, lfpnormal_alltrials.shape[2]), ntrials_ba) \n",
    "# idx_batrials_mild = random.sample(range(0, lfpmild_alltrials.shape[2]), ntrials_ba) \n",
    "\n",
    "\n",
    "# balance trials\n",
    "phaselfp_normal_ba = lfpnormal_alltrials[:,:,0:ntrials_ba]\n",
    "phaselfp_mild_ba = lfpmild_alltrials[:,:,0:ntrials_ba]"
   ]
  },
  {
   "cell_type": "code",
   "execution_count": 20,
   "metadata": {},
   "outputs": [
    {
     "name": "stdout",
     "output_type": "stream",
     "text": [
      "(144, 250, 53)\n",
      "(144, 250, 53)\n"
     ]
    }
   ],
   "source": [
    "print(phaselfp_normal_ba.shape)\n",
    "print(phaselfp_mild_ba.shape)"
   ]
  },
  {
   "cell_type": "markdown",
   "metadata": {},
   "source": [
    "### biploar dbs "
   ]
  },
  {
   "cell_type": "code",
   "execution_count": 21,
   "metadata": {},
   "outputs": [],
   "source": [
    "# STN channel numbers\n",
    "ch1_STN, ch2_STN = leadSTN_chns[0] + 128, leadSTN_chns[1] + 128\n",
    "\n",
    "# get the bipolar lfp by substrating \n",
    "lfpSTN_normal = np.expand_dims(phaselfp_normal_ba[ch1_STN, :, :] - phaselfp_normal_ba[ch2_STN, :, :], axis = 0)\n",
    "lfpSTN_mild = np.expand_dims(phaselfp_mild_ba[ch1_STN, :, :] - phaselfp_mild_ba[ch2_STN, :, :], axis = 0)"
   ]
  },
  {
   "cell_type": "code",
   "execution_count": 22,
   "metadata": {},
   "outputs": [],
   "source": [
    "# GP channel numbers\n",
    "ch1_GP, ch2_GP = leadGP_chns[0] + 128, leadGP_chns[1] + 128\n",
    "\n",
    "# get the bipolar lfp by substrating \n",
    "lfpGP_normal = np.expand_dims(phaselfp_normal_ba[ch1_GP, :, :] - phaselfp_normal_ba[ch2_GP, :, :], axis = 0)\n",
    "lfpGP_mild = np.expand_dims(phaselfp_mild_ba[ch1_GP, :, :] - phaselfp_mild_ba[ch2_GP, :, :], axis = 0)"
   ]
  },
  {
   "cell_type": "markdown",
   "metadata": {},
   "source": [
    "### channel information"
   ]
  },
  {
   "cell_type": "code",
   "execution_count": 23,
   "metadata": {},
   "outputs": [],
   "source": [
    "### load channel information ###\n",
    "df = pd.read_csv(chnInf_file, header = 0)\n",
    "\n",
    "\n",
    "###  channel matchni and recording chni  ###\n",
    "chnInf_matchni, chnInf_recchni = df['mat_chni'], df['recording_chni']\n",
    "\n",
    "chnInf_brainarea = df['brainarea']\n",
    "\n",
    "x, y = df['simulated_x'].to_numpy(), df['simulated_y'].to_numpy()\n",
    "chnInf_coord = np.concatenate((np.expand_dims(x, axis = 1), np.expand_dims(y, axis = 1)), axis = 1)\n",
    "\n",
    "\n",
    "\n",
    "### Remove nonused channels ###\n",
    "\n",
    "# extract the indices in which the corresponding channels are not used\n",
    "idx_mask = ~chnInf_brainarea.isnull()\n",
    "idx_notused = [i for i, isnan in enumerate(idx_mask) if isnan == False]\n",
    "\n",
    "\n",
    "chnInf_recchni = chnInf_recchni[idx_mask].to_numpy()\n",
    "chnInf_matchni = chnInf_matchni[idx_mask].to_numpy()\n",
    "chnInf_brainarea = chnInf_brainarea[idx_mask].tolist()\n",
    "chnInf_coord = chnInf_coord[idx_mask]"
   ]
  },
  {
   "cell_type": "markdown",
   "metadata": {},
   "source": [
    "### remove the data of the noused channels"
   ]
  },
  {
   "cell_type": "code",
   "execution_count": 24,
   "metadata": {},
   "outputs": [],
   "source": [
    "if phaselfp_normal_ba.shape[0] == phaselfp_mild_ba.shape[0]:\n",
    "    nchns = phaselfp_normal_ba.shape[0]\n",
    "\n",
    "\n",
    "# # extract the idx whose channels are not used\n",
    "matchni_notused = np.arange(0, nchns, 1).tolist()\n",
    "\n",
    "for idx, matchni in enumerate(chnInf_matchni):\n",
    "    if 'STN' in chnInf_brainarea[idx] or 'GP' in chnInf_brainarea[idx]:\n",
    "        continue\n",
    "        \n",
    "    matchni_notused.remove(matchni)"
   ]
  },
  {
   "cell_type": "code",
   "execution_count": 25,
   "metadata": {},
   "outputs": [
    {
     "name": "stdout",
     "output_type": "stream",
     "text": [
      "(144, 250, 53)\n",
      "(123, 250, 53)\n",
      "(125, 250, 53)\n"
     ]
    }
   ],
   "source": [
    "print(phaselfp_mild_ba.shape)\n",
    "\n",
    "# remove the data of the channel not used\n",
    "phaselfp_normal_ba = np.delete(phaselfp_normal_ba, matchni_notused, axis = 0)\n",
    "\n",
    "# remove the data of the channel not used\n",
    "phaselfp_mild_ba = np.delete(phaselfp_mild_ba, matchni_notused, axis = 0)\n",
    "\n",
    "print(phaselfp_mild_ba.shape)\n",
    "\n",
    "# add bipolar STN and GP lfp data\n",
    "phaselfp_normal_ba = np.concatenate((phaselfp_normal_ba, lfpSTN_normal, lfpGP_normal), axis = 0)\n",
    "phaselfp_mild_ba = np.concatenate((phaselfp_mild_ba, lfpSTN_mild, lfpGP_mild), axis = 0)\n",
    "\n",
    "print(phaselfp_mild_ba.shape)"
   ]
  },
  {
   "cell_type": "markdown",
   "metadata": {},
   "source": [
    "## calculate ciCOH across trials"
   ]
  },
  {
   "cell_type": "markdown",
   "metadata": {},
   "source": [
    "#### ciCOH normal"
   ]
  },
  {
   "cell_type": "code",
   "execution_count": 26,
   "metadata": {},
   "outputs": [
    {
     "name": "stderr",
     "output_type": "stream",
     "text": [
      "/Users/linglingyang/yang7003@umn.edu/NMRC_umn/Projects/FCAnalysis/exp/code/connAnalyTool/synchronization_indices.ipynb:41: RuntimeWarning: invalid value encountered in true_divide\n",
      "  \"### 1. ciCoherence_acrosstrials\\n\",\n",
      "/Users/linglingyang/yang7003@umn.edu/NMRC_umn/Projects/FCAnalysis/exp/code/connAnalyTool/synchronization_indices.ipynb:42: RuntimeWarning: invalid value encountered in sqrt\n",
      "  \"\\n\",\n",
      "/Users/linglingyang/yang7003@umn.edu/NMRC_umn/Projects/FCAnalysis/exp/code/connAnalyTool/synchronization_indices.ipynb:42: RuntimeWarning: divide by zero encountered in true_divide\n",
      "  \"\\n\",\n",
      "/Users/linglingyang/miniconda3/envs/general/lib/python3.6/site-packages/numpy/core/_methods.py:151: RuntimeWarning: invalid value encountered in reduce\n",
      "  ret = umr_sum(arr, axis, dtype, out, keepdims)\n"
     ]
    }
   ],
   "source": [
    "lfp_alltrials = lfpnormal_alltrials\n",
    "\n",
    "\n",
    "### calculate ciCOH between each pair of channels ###\n",
    "\n",
    "nchns = lfp_alltrials.shape[0]\n",
    "# initial ciCOH_alltrials array for all trials\n",
    "ciCOH_alltrials = np.zeros((nchns, nchns))\n",
    "for chni in range(nchns-1):\n",
    "\n",
    "    # signal of channel chni\n",
    "    signal1 = lfp_alltrials[chni, :, :]\n",
    "\n",
    "    for chnj in range(chni+1, nchns):\n",
    "\n",
    "        # signal of channel chnij\n",
    "        signal2 = lfp_alltrials[chnj, :, :]\n",
    "\n",
    "        # ciCOH_alltrials assignment\n",
    "        ciCOH_alltrials[chni, chnj] =  np.mean(ciCoherence_acrosstrials(signal1, signal2))\n",
    "\n",
    "        # symmetrical\n",
    "        ciCOH_alltrials[chnj, chni] = ciCOH_alltrials[chni, chnj]\n",
    "\n",
    "        del signal2\n",
    "    del signal1\n",
    "\n",
    "ciCOH_normal = ciCOH_alltrials\n",
    "del ciCOH_alltrials, nchns"
   ]
  },
  {
   "cell_type": "markdown",
   "metadata": {},
   "source": [
    "#### ciCOH mild"
   ]
  },
  {
   "cell_type": "code",
   "execution_count": 27,
   "metadata": {},
   "outputs": [],
   "source": [
    "lfp_alltrials = lfpmild_alltrials\n",
    "\n",
    "### calculate ciCOH between each pair of channels ###\n",
    "\n",
    "nchns = lfp_alltrials.shape[0]\n",
    "# initial ciCOH_alltrials array for all trials\n",
    "ciCOH_alltrials = np.zeros((nchns, nchns))\n",
    "for chni in range(nchns-1):\n",
    "\n",
    "    # signal of channel chni\n",
    "    signal1 = lfp_alltrials[chni, :, :]\n",
    "\n",
    "    for chnj in range(chni+1, nchns):\n",
    "\n",
    "        # signal of channel chnij\n",
    "        signal2 = lfp_alltrials[chnj, :, :]\n",
    "\n",
    "        # ciCOH_alltrials assignment\n",
    "        ciCOH_alltrials[chni, chnj] =  np.mean(ciCoherence_acrosstrials(signal1, signal2))\n",
    "\n",
    "        # symmetrical\n",
    "        ciCOH_alltrials[chnj, chni] = ciCOH_alltrials[chni, chnj]\n",
    "\n",
    "        del signal2\n",
    "    del signal1\n",
    "\n",
    "ciCOH_mild = ciCOH_alltrials\n",
    "del ciCOH_alltrials, nchns"
   ]
  },
  {
   "cell_type": "markdown",
   "metadata": {},
   "source": [
    "## save"
   ]
  },
  {
   "cell_type": "code",
   "execution_count": 28,
   "metadata": {},
   "outputs": [],
   "source": [
    "ciCOH = dict()\n",
    "ciCOH['normal'], ciCOH['mild'] = ciCOH_normal, ciCOH_mild\n",
    "ciCOH['chnInf_recchni'], ciCOH['chnInf_matchni'] = chnInf_recchni, chnInf_matchni\n",
    "ciCOH['chnInf_brainarea'], ciCOH['chnInf_coord'] = chnInf_brainarea, chnInf_coord "
   ]
  },
  {
   "cell_type": "code",
   "execution_count": 29,
   "metadata": {},
   "outputs": [],
   "source": [
    "## save dic_ciCOH\n",
    "pickle.dump(ciCOH, open(savefile_ciCOH, \"wb\" ) )"
   ]
  },
  {
   "cell_type": "markdown",
   "metadata": {},
   "source": [
    "## plot section"
   ]
  },
  {
   "cell_type": "code",
   "execution_count": null,
   "metadata": {},
   "outputs": [],
   "source": [
    "plt.imshow(ciCOH['mild']);\n",
    "plt.colorbar()\n",
    "plt.title('mild')\n",
    "plt.show()"
   ]
  },
  {
   "cell_type": "code",
   "execution_count": null,
   "metadata": {},
   "outputs": [],
   "source": [
    "plt.imshow(ciCOH['normal'])\n",
    "plt.title('normal')\n",
    "plt.colorbar()\n",
    "plt.show()"
   ]
  }
 ],
 "metadata": {
  "kernelspec": {
   "display_name": "Python 3",
   "language": "python",
   "name": "python3"
  },
  "language_info": {
   "codemirror_mode": {
    "name": "ipython",
    "version": 3
   },
   "file_extension": ".py",
   "mimetype": "text/x-python",
   "name": "python",
   "nbconvert_exporter": "python",
   "pygments_lexer": "ipython3",
   "version": "3.6.10"
  },
  "toc": {
   "base_numbering": 1,
   "nav_menu": {},
   "number_sections": false,
   "sideBar": true,
   "skip_h1_title": true,
   "title_cell": "Table of Contents",
   "title_sidebar": "",
   "toc_cell": false,
   "toc_position": {
    "height": "calc(100% - 180px)",
    "left": "10px",
    "top": "150px",
    "width": "165px"
   },
   "toc_section_display": true,
   "toc_window_display": true
  }
 },
 "nbformat": 4,
 "nbformat_minor": 2
}
