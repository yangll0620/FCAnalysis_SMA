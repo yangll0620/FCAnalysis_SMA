{
 "cells": [
  {
   "cell_type": "markdown",
   "metadata": {},
   "source": [
    "# Functionality: visualization of functional connectivity\n",
    "\n",
    "<ul>\n",
    "    <li>visualize the ciCOH in mild and normal state</li>\n",
    "</ul>"
   ]
  },
  {
   "cell_type": "markdown",
   "metadata": {},
   "source": [
    "## Import Packages "
   ]
  },
  {
   "cell_type": "code",
   "execution_count": 1,
   "metadata": {
    "scrolled": true
   },
   "outputs": [],
   "source": [
    "import os, sys\n",
    "import numpy as np\n",
    "import pandas as pd\n",
    "\n",
    "import pickle\n",
    "\n",
    "from igraph.drawing.text import TextDrawer\n",
    "import cairo"
   ]
  },
  {
   "cell_type": "code",
   "execution_count": 34,
   "metadata": {},
   "outputs": [],
   "source": [
    "# import_nbmodule used for import package in .ipynb\n",
    "import import_nbmodule\n",
    "\n",
    "# extract the exp folder path\n",
    "currfolder = os.getcwd()\n",
    "codefolder = currfolder[0 : currfolder.find('code')+len('code')]\n",
    "\n",
    "# add path the exp folder\n",
    "sys.path.append(codefolder)\n",
    "\n",
    "\n",
    "# import animal_folder function in util/folder_extract.pynb \n",
    "from util.folder_extract import exp_subfolders, code_corresfolder\n",
    "\n",
    "# import graphVisual in connAnalyTool/graphVisual.pynb \n",
    "from connAnalyTool import graphVisual\n",
    "\n",
    "\n",
    "from simulated import ciCOH_threshold"
   ]
  },
  {
   "cell_type": "markdown",
   "metadata": {},
   "source": [
    "## Preparison"
   ]
  },
  {
   "cell_type": "markdown",
   "metadata": {},
   "source": [
    "### exp subfolders & code_corresfolder"
   ]
  },
  {
   "cell_type": "code",
   "execution_count": 3,
   "metadata": {},
   "outputs": [
    {
     "data": {
      "application/javascript": [
       "IPython.notebook.kernel.execute('nb_name = \"' + IPython.notebook.notebook_name + '\"')\n"
      ],
      "text/plain": [
       "<IPython.core.display.Javascript object>"
      ]
     },
     "metadata": {},
     "output_type": "display_data"
    }
   ],
   "source": [
    "%%javascript\n",
    "IPython.notebook.kernel.execute('nb_name = \"' + IPython.notebook.notebook_name + '\"')"
   ]
  },
  {
   "cell_type": "code",
   "execution_count": 4,
   "metadata": {},
   "outputs": [],
   "source": [
    "nb_name = nb_name[0: nb_name.find('.ipynb')]\n",
    "\n",
    "# corresfolder\n",
    "corresfolder,correparentfolder = code_corresfolder(os.getcwd(), nb_name)"
   ]
  },
  {
   "cell_type": "markdown",
   "metadata": {},
   "source": [
    "### global parameters"
   ]
  },
  {
   "cell_type": "code",
   "execution_count": 5,
   "metadata": {},
   "outputs": [],
   "source": [
    "# frequency\n",
    "freq = [26, 28]\n",
    "strfreq = 'freq' + str(freq[0]) + '_' + str(freq[1])\n",
    "\n",
    "\n",
    "# eventphase\n",
    "event = 'rest'\n",
    "\n",
    "\n",
    "sameDates4SKTRest = True"
   ]
  },
  {
   "cell_type": "code",
   "execution_count": 6,
   "metadata": {},
   "outputs": [],
   "source": [
    "### text setup for brain areas ###\n",
    "texts_area = dict()\n",
    "\n",
    "texts_area['VPLo'] = [20, 40, 20]\n",
    "\n",
    "texts_area['VLo'] = [20, 120, 20]\n",
    "\n",
    "texts_area['VA'] = [20, 200, 20]\n",
    "\n",
    "texts_area['SMA'] = [20, 320, 20]\n",
    "\n",
    "texts_area['M1'] = [20, 500, 20]\n",
    "\n",
    "texts_area['STN'] = [280, 140, 20]\n",
    "\n",
    "texts_area['GP'] = [360, 250, 20]"
   ]
  },
  {
   "cell_type": "code",
   "execution_count": 7,
   "metadata": {},
   "outputs": [],
   "source": [
    "areas_unwanted = ['lCd','rMC']"
   ]
  },
  {
   "cell_type": "code",
   "execution_count": 8,
   "metadata": {},
   "outputs": [],
   "source": [
    "WithinM1NoShow = False\n",
    "STNConnectOnly = False\n",
    "GPConnectOnly = False\n",
    "CorticalConnectOnly = False\n",
    "halfs = False"
   ]
  },
  {
   "cell_type": "markdown",
   "metadata": {},
   "source": [
    "### input setup"
   ]
  },
  {
   "cell_type": "code",
   "execution_count": 9,
   "metadata": {},
   "outputs": [],
   "source": [
    "inputfolder = os.path.join(correparentfolder, 'm1_calcciCOH_rest')\n",
    "filename =  'ciCOH_rest' + '_freq' + str(freq[0]) + '_' + str(freq[1])\n",
    "\n",
    "if halfs:\n",
    "    filename = filename + '_halfs'\n",
    "    \n",
    "if sameDates4SKTRest:\n",
    "    filename = filename + '_samedays'\n",
    "\n",
    "file = os.path.join(inputfolder, filename + '.pickle')"
   ]
  },
  {
   "cell_type": "markdown",
   "metadata": {},
   "source": [
    "### save setup"
   ]
  },
  {
   "cell_type": "code",
   "execution_count": 10,
   "metadata": {},
   "outputs": [],
   "source": [
    "savefolder = corresfolder\n",
    "savefile_prefix_origin = 'ciCOH_' + event + '_' + strfreq\n",
    "\n",
    "if halfs:\n",
    "    savefile_prefix_origin = savefile_prefix_origin + 'halfs'\n",
    "\n",
    "    \n",
    "    \n",
    "if sameDates4SKTRest:\n",
    "    filename = savefile_prefix_origin + '_samedays'"
   ]
  },
  {
   "cell_type": "markdown",
   "metadata": {},
   "source": [
    "## Load ciCOH and Channel"
   ]
  },
  {
   "cell_type": "code",
   "execution_count": 11,
   "metadata": {},
   "outputs": [],
   "source": [
    "fp = open(file, 'rb')\n",
    "ciCOH = pickle.load(fp)"
   ]
  },
  {
   "cell_type": "code",
   "execution_count": 12,
   "metadata": {},
   "outputs": [],
   "source": [
    "# ciCOH\n",
    "ciCOH_normal, ciCOH_mild  = ciCOH['normal'], ciCOH['mild'], \n",
    "#ciCOH_moderate = ciCOH['moderate']\n",
    "\n",
    "# channel information\n",
    "chnInf_recchni, chnInf_matchni = ciCOH['chnInf_recchni'], ciCOH['chnInf_matchni']\n",
    "chnInf_brainarea, chnInf_coord = ciCOH['chnInf_brainarea'], ciCOH['chnInf_coord']"
   ]
  },
  {
   "cell_type": "markdown",
   "metadata": {},
   "source": [
    "## Del unwanted channels"
   ]
  },
  {
   "cell_type": "code",
   "execution_count": 13,
   "metadata": {},
   "outputs": [],
   "source": [
    "def unwanted_chandata_del(ciCOH, areas_unwanted, chnInf_recchni, chnInf_brainarea, chnInf_coord):\n",
    "    \n",
    "    chns_unwanted = []\n",
    "    for area_unwanted in areas_unwanted:\n",
    "        for i, area in enumerate(chnInf_brainarea):\n",
    "            if area == area_unwanted:\n",
    "                chns_unwanted.append(i)\n",
    "    \n",
    "    nchns = ciCOH.shape[0]\n",
    "    ciCOH = np.delete(ciCOH, chns_unwanted, axis = 0)\n",
    "    ciCOH = np.delete(ciCOH, chns_unwanted, axis = 1)\n",
    "    \n",
    "    \n",
    "    chnInf_recchni = [i for j, i in enumerate(chnInf_recchni) if j not in chns_unwanted]\n",
    "    chnInf_brainarea = [i for j, i in enumerate(chnInf_brainarea) if j not in chns_unwanted]\n",
    "    chnInf_coord = [i for j, i in enumerate(chnInf_coord) if j not in chns_unwanted]\n",
    "\n",
    "    return ciCOH, chnInf_recchni, chnInf_brainarea, chnInf_coord"
   ]
  },
  {
   "cell_type": "code",
   "execution_count": 14,
   "metadata": {},
   "outputs": [],
   "source": [
    "ciCOH_normal, chnInf_recchni, chnInf_brainarea, chnInf_coord = \\\n",
    "        unwanted_chandata_del(ciCOH_normal, areas_unwanted, chnInf_recchni, chnInf_brainarea, chnInf_coord)\n",
    "\n",
    "ciCOH_mild, chnInf_recchni, chnInf_brainarea, chnInf_coord = \\\n",
    "        unwanted_chandata_del(ciCOH_mild, areas_unwanted, chnInf_recchni, chnInf_brainarea, chnInf_coord)\n",
    "\n",
    "#ciCOH_moderate, chnInf_recchni, chnInf_brainarea, chnInf_coord = \\\n",
    "#        unwanted_chandata_del(ciCOH_moderate, areas_unwanted, chnInf_recchni, chnInf_brainarea, chnInf_coord)"
   ]
  },
  {
   "cell_type": "code",
   "execution_count": 15,
   "metadata": {},
   "outputs": [],
   "source": [
    "ciCOH_normal_origin, ciCOH_mild_origin  = ciCOH_normal, ciCOH_mild\n",
    "#ciCOH_moderate_origin = ciCOH_moderate"
   ]
  },
  {
   "cell_type": "markdown",
   "metadata": {},
   "source": [
    "## Show Selection "
   ]
  },
  {
   "cell_type": "markdown",
   "metadata": {},
   "source": [
    "### Only Show Cortical Areas"
   ]
  },
  {
   "cell_type": "code",
   "execution_count": 16,
   "metadata": {},
   "outputs": [],
   "source": [
    "if CorticalConnectOnly:\n",
    "    ciCOH_normal, ciCOH_mild, ciCOH_moderate = ciCOH_normal_origin, ciCOH_mild_origin, ciCOH_moderate_origin\n",
    "    \n",
    "    indices = [idx for idx, area in enumerate(chnInf_brainarea) if area != 'M1' and 'SMA' not in area]\n",
    "    \n",
    "    # only keep the ciCOH values within M1 and SMA\n",
    "    ciCOH_normal[indices, :] = 0\n",
    "    ciCOH_normal[:, indices] = 0\n",
    "    \n",
    "    ciCOH_mild[indices, :] = 0\n",
    "    ciCOH_mild[:, indices] = 0\n",
    "    \n",
    "    ciCOH_moderate[indices, :] = 0\n",
    "    ciCOH_moderate[:, indices] = 0\n",
    "    \n",
    "    \n",
    "    ciCOH_normal_onlyCortical, ciCOH_mild_onlyCortical, ciCOH_moderate_onlyCortical = ciCOH_normal, ciCOH_mild, ciCOH_moderate\n",
    "    \n",
    "    del ciCOH_normal, ciCOH_mild, ciCOH_moderate"
   ]
  },
  {
   "cell_type": "markdown",
   "metadata": {},
   "source": [
    "### Not Show Connections inside M1"
   ]
  },
  {
   "cell_type": "code",
   "execution_count": 17,
   "metadata": {},
   "outputs": [],
   "source": [
    "if WithinM1NoShow:\n",
    "    \n",
    "    ciCOH_normal, ciCOH_mild, ciCOH_moderate = ciCOH_normal_origin, ciCOH_mild_origin, ciCOH_moderate_origin\n",
    "    \n",
    "    indices = [idx for idx, area in enumerate(chnInf_brainarea) if area == 'M1']\n",
    "    \n",
    "    for chni in indices:\n",
    "        for chnj in indices:\n",
    "            ciCOH_normal[chni,chnj] = 0\n",
    "            ciCOH_mild[chni,chnj] = 0\n",
    "            ciCOH_moderate[chni,chnj] = 0\n",
    "    \n",
    "    savefile_prefix = savefile_prefix + '_noWithinM1'\n",
    "    ciCOH_normal_noWithinM1, ciCOH_mild_noWithinM1, ciCOH_moderate_noWithinM1 = ciCOH_normal, ciCOH_mild, ciCOH_moderate\n",
    "    \n",
    "    del ciCOH_normal, ciCOH_mild, ciCOH_moderate"
   ]
  },
  {
   "cell_type": "markdown",
   "metadata": {},
   "source": [
    "### Only show DBS Connections"
   ]
  },
  {
   "cell_type": "code",
   "execution_count": 18,
   "metadata": {},
   "outputs": [],
   "source": [
    "if STNConnectOnly:\n",
    "    \n",
    "    indices = [idx for idx, area in enumerate(chnInf_brainarea) if area == 'STN']\n",
    "    \n",
    "    # only keep the ciCOH values for STN\n",
    "    ciCOH_normal, ciCOH_mild = np.zeros(ciCOH_normal_origin.shape), np.zeros(ciCOH_mild_origin.shape)\n",
    "    ciCOH_moderate = np.zeros(ciCOH_moderate_origin.shape)\n",
    "    \n",
    "    ciCOH_normal[indices, :] = ciCOH_normal_origin[indices,:]\n",
    "    ciCOH_normal[:, indices] = ciCOH_normal_origin[:,indices]\n",
    "    \n",
    "    ciCOH_mild[indices, :] = ciCOH_mild_origin[indices,:] \n",
    "    ciCOH_mild[:, indices] = ciCOH_mild_origin[:,indices]\n",
    "    \n",
    "    ciCOH_moderate[indices, :] = ciCOH_moderate_origin[indices,:] \n",
    "    ciCOH_moderate[:, indices] = ciCOH_moderate_origin[:,indices]\n",
    "    \n",
    "    \n",
    "    ciCOH_normal_onlySTN, ciCOH_mild_onlySTN, ciCOH_moderate_onlySTN = ciCOH_normal, ciCOH_mild, ciCOH_moderate\n",
    "    \n",
    "    del ciCOH_normal, ciCOH_mild, ciCOH_moderate"
   ]
  },
  {
   "cell_type": "code",
   "execution_count": 19,
   "metadata": {},
   "outputs": [],
   "source": [
    "if GPConnectOnly:\n",
    "    \n",
    "    indices = [idx for idx, area in enumerate(chnInf_brainarea) if area == 'GP']\n",
    "    \n",
    "    # only keep the ciCOH values for GP\n",
    "    ciCOH_normal, ciCOH_mild = np.zeros(ciCOH_normal_origin.shape), np.zeros(ciCOH_mild_origin.shape)\n",
    "    ciCOH_moderate = np.zeros(ciCOH_moderate_origin.shape)\n",
    "    \n",
    "    ciCOH_normal[indices, :] = ciCOH_normal_origin[indices,:]\n",
    "    ciCOH_normal[:, indices] = ciCOH_normal_origin[:,indices]\n",
    "    \n",
    "    ciCOH_mild[indices, :] = ciCOH_mild_origin[indices,:] \n",
    "    ciCOH_mild[:, indices] = ciCOH_mild_origin[:,indices]\n",
    "    \n",
    "    ciCOH_moderate[indices, :] = ciCOH_moderate_origin[indices,:] \n",
    "    ciCOH_moderate[:, indices] = ciCOH_moderate_origin[:,indices]\n",
    "    \n",
    "    \n",
    "    ciCOH_normal_onlyGP, ciCOH_mild_onlyGP, ciCOH_moderate_onlyGP = ciCOH_normal, ciCOH_mild, ciCOH_moderate\n",
    "    \n",
    "    del ciCOH_normal, ciCOH_mild, ciCOH_moderate"
   ]
  },
  {
   "cell_type": "markdown",
   "metadata": {},
   "source": [
    "## ciCOH Visual"
   ]
  },
  {
   "cell_type": "code",
   "execution_count": 26,
   "metadata": {},
   "outputs": [],
   "source": [
    "def ciCOH_visual_save(ciCOH, chn_area, chn_coord, str_recchnishow, lowweight, tobesavedfile, texts, threds = None):\n",
    "    \"\"\"\n",
    "        \n",
    "        Args:\n",
    "            \n",
    "            ciCOH (np.sdarray): ciCOH matrix (nchns, nchns)\n",
    "            \n",
    "            chn_area (list): a list of string representing brain area for each channel, len(chn_area) = nchns\n",
    "            \n",
    "            chn_coord (numpy.ndarray): x, y coordinates for each channel, shape = (nchns, 2)\n",
    "            \n",
    "            chn_recchni(list): showed recording chni for each channel, shape = (nchns, )\n",
    "            \n",
    "            lowweight: the threshold lowweight, only weight>lowweight is treated as connection\n",
    "            \n",
    "            tobesavedfile: file to save the visualized figure\n",
    "            \n",
    "            texts:\n",
    "            \n",
    "        Output:\n",
    "            the visualizaton of ciCOH is saved in tobesavedfile\n",
    "            \n",
    "    \"\"\"\n",
    "    \n",
    "    weight = abs(ciCOH)\n",
    "\n",
    "    # weight > lowweight\n",
    "    weight[np.where(weight<lowweight)] =0\n",
    "    \n",
    "    \n",
    "    # create new graph\n",
    "    graph = graphVisual.graph_create(weight, vsarea = chn_area, vscoord = chn_coord, vschni = str_recchnishow)\n",
    "\n",
    "    \n",
    "    # set graph visualization style\n",
    "    visual_style = dict()\n",
    "    if threds is not None:\n",
    "        colors_opt = ['gray', '#ff7f0e','blue' ,'#d62728']\n",
    "        \n",
    "        colors = ['black'] * len(graph.es['weight'])\n",
    "        for i, w in enumerate(graph.es['weight']):\n",
    "            if w > threds[2]: \n",
    "                colors[i] = colors_opt[3]\n",
    "            elif w > threds[1]:\n",
    "                colors[i] = colors_opt[2]\n",
    "            elif w > threds[0]:\n",
    "                colors[i] = colors_opt[1]\n",
    "                \n",
    "        visual_style['edge_color'] = colors\n",
    "\n",
    "    visual_style = graphVisual.graph_style(graph, visual_style)\n",
    "    \n",
    "\n",
    "     # plot graph\n",
    "    igplot = graphVisual.graph_plot(graph, visual_style, texts = texts)\n",
    "    \n",
    "    # save graph\n",
    "    igplot.save(tobesavedfile)\n",
    "    \n",
    "    return igplot"
   ]
  },
  {
   "cell_type": "markdown",
   "metadata": {},
   "source": [
    "## Save"
   ]
  },
  {
   "cell_type": "code",
   "execution_count": 21,
   "metadata": {},
   "outputs": [],
   "source": [
    "# threshold lowweight\n",
    "lowweight = 0.15"
   ]
  },
  {
   "cell_type": "code",
   "execution_count": 22,
   "metadata": {},
   "outputs": [],
   "source": [
    "savefile_prefix = savefile_prefix_origin\n",
    "\n",
    "if STNConnectOnly:\n",
    "    ciCOH_normal, ciCOH_mild, ciCOH_moderate = ciCOH_normal_onlySTN, ciCOH_mild_onlySTN, ciCOH_moderate_onlySTN\n",
    "    savefile_prefix = savefile_prefix_origin + '_onlySTN'\n",
    "\n",
    "if GPConnectOnly:\n",
    "    ciCOH_normal, ciCOH_mild, ciCOH_moderate = ciCOH_normal_onlyGP, ciCOH_mild_onlyGP, ciCOH_moderate_onlyGP\n",
    "    savefile_prefix = savefile_prefix_origin + '_onlyGP'\n",
    "    \n",
    "if CorticalConnectOnly:\n",
    "    ciCOH_normal, ciCOH_mild, ciCOH_moderate = ciCOH_normal_onlyCortical, ciCOH_mild_onlyCortical, ciCOH_moderate_onlyCortical\n",
    "    savefile_prefix = savefile_prefix_origin + '_onlyCortical'"
   ]
  },
  {
   "cell_type": "code",
   "execution_count": 25,
   "metadata": {},
   "outputs": [],
   "source": [
    "xmax = max(np.amax(abs(ciCOH_normal)), np.amax(abs(ciCOH_mild)))\n",
    "threds = [lowweight, lowweight + (xmax - lowweight)/3, lowweight + (xmax - lowweight) * 2/3]\n",
    "threds = np.around(threds, decimals=2)"
   ]
  },
  {
   "cell_type": "code",
   "execution_count": 35,
   "metadata": {},
   "outputs": [
    {
     "name": "stdout",
     "output_type": "stream",
     "text": [
      "7921\n"
     ]
    },
    {
     "ename": "NameError",
     "evalue": "name 'ntrials' is not defined",
     "output_type": "error",
     "traceback": [
      "\u001b[0;31m---------------------------------------------------------------------------\u001b[0m",
      "\u001b[0;31mNameError\u001b[0m                                 Traceback (most recent call last)",
      "\u001b[0;32m<ipython-input-35-124fea4fc507>\u001b[0m in \u001b[0;36m<module>\u001b[0;34m\u001b[0m\n\u001b[1;32m      2\u001b[0m \u001b[0;34m\u001b[0m\u001b[0m\n\u001b[1;32m      3\u001b[0m \u001b[0mprint\u001b[0m\u001b[0;34m(\u001b[0m\u001b[0mntimes\u001b[0m\u001b[0;34m)\u001b[0m\u001b[0;34m\u001b[0m\u001b[0;34m\u001b[0m\u001b[0m\n\u001b[0;32m----> 4\u001b[0;31m \u001b[0mprint\u001b[0m\u001b[0;34m(\u001b[0m\u001b[0mntrials\u001b[0m\u001b[0;34m)\u001b[0m\u001b[0;34m\u001b[0m\u001b[0;34m\u001b[0m\u001b[0m\n\u001b[0m",
      "\u001b[0;31mNameError\u001b[0m: name 'ntrials' is not defined"
     ]
    }
   ],
   "source": []
  },
  {
   "cell_type": "code",
   "execution_count": null,
   "metadata": {},
   "outputs": [],
   "source": [
    "ciCOH_threshold.threshold_ciCOH_sin(ntimes = ntimes, ntrials = )"
   ]
  },
  {
   "cell_type": "markdown",
   "metadata": {},
   "source": [
    "### normal"
   ]
  },
  {
   "cell_type": "code",
   "execution_count": 27,
   "metadata": {},
   "outputs": [
    {
     "name": "stdout",
     "output_type": "stream",
     "text": [
      "Figure saved to /home/lingling/Insync/yang7003@umn.edu/NMRC_umn/Projects/FCAnalysis/exp/pipeline/NHP_Pinky/1_dataAnaly/FCAnaly/Rest/m2_visual_ciCOH_rest/ciCOH_rest_freq26_28_lowweight0.15_normal.png\n"
     ]
    }
   ],
   "source": [
    "\"\"\"\n",
    "    normal condition\n",
    "\"\"\"\n",
    "\n",
    "\n",
    "# save file config\n",
    "savefilename = savefile_prefix + '_lowweight' + str(lowweight) + '_normal' + '.png'\n",
    "savefile = os.path.join(savefolder, savefilename)\n",
    "\n",
    "# printed text config\n",
    "texts = texts_area.copy()\n",
    "\n",
    "\n",
    "# visualize and save\n",
    "igplot = ciCOH_visual_save(ciCOH_normal, \n",
    "                           chn_area = chnInf_brainarea, \n",
    "                           chn_coord = chnInf_coord,\n",
    "                           str_recchnishow = chnInf_recchni,\n",
    "                           lowweight = lowweight,  \n",
    "                           tobesavedfile = savefile, \n",
    "                           texts = texts,\n",
    "                           threds = threds)\n",
    "\n",
    "igplot.show()\n",
    "\n",
    "print(\"Figure saved to \" + savefile)\n",
    "\n",
    "del savefilename, savefile, texts, igplot"
   ]
  },
  {
   "cell_type": "markdown",
   "metadata": {},
   "source": [
    "### mild"
   ]
  },
  {
   "cell_type": "code",
   "execution_count": 30,
   "metadata": {},
   "outputs": [
    {
     "name": "stdout",
     "output_type": "stream",
     "text": [
      "Figure saved to /home/lingling/Insync/yang7003@umn.edu/NMRC_umn/Projects/FCAnalysis/exp/pipeline/NHP_Pinky/1_dataAnaly/FCAnaly/Rest/m2_visual_ciCOH_rest/ciCOH_rest_freq26_28_lowweight0.15_mild.png\n"
     ]
    }
   ],
   "source": [
    "\"\"\"\n",
    "    mild condition\n",
    "\"\"\"\n",
    "\n",
    "\n",
    "condition = 'mild'\n",
    "\n",
    "\n",
    "# save file config\n",
    "savefilename = savefile_prefix + '_lowweight' + str(lowweight) + '_' + condition + '.png'\n",
    "savefile = os.path.join(savefolder, savefilename)\n",
    "\n",
    "# printed text config\n",
    "texts = texts_area.copy()\n",
    "\n",
    "\n",
    "# visualize and save\n",
    "igplot = ciCOH_visual_save(ciCOH_mild, \n",
    "                           chn_area = chnInf_brainarea, \n",
    "                           chn_coord = chnInf_coord,\n",
    "                           str_recchnishow = chnInf_recchni,\n",
    "                           lowweight = lowweight,  \n",
    "                           tobesavedfile = savefile, \n",
    "                           texts = texts,\n",
    "                           threds = threds)\n",
    "\n",
    "igplot.show()\n",
    "\n",
    "print(\"Figure saved to \" + savefile)"
   ]
  },
  {
   "cell_type": "markdown",
   "metadata": {},
   "source": [
    "### moderate"
   ]
  },
  {
   "cell_type": "code",
   "execution_count": null,
   "metadata": {},
   "outputs": [],
   "source": [
    "\"\"\"\n",
    "    moderate condition\n",
    "\"\"\"\n",
    "\n",
    "Moderate = False\n",
    "\n",
    "if Moderate:\n",
    "\n",
    "    condition = 'moderate'\n",
    "    ciCOH = ciCOH_moderate\n",
    "\n",
    "    # save file config\n",
    "    savefilename = savefile_prefix + '_lowweight' + str(lowweight) + '_' + condition + '.png'\n",
    "    savefile = os.path.join(savefolder, savefilename)\n",
    "\n",
    "    # printed text config\n",
    "    texts = texts_area.copy()\n",
    "\n",
    "\n",
    "    # visualize and save\n",
    "    igplot = ciCOH_visual_save(ciCOH, \n",
    "                               chn_area = chnInf_brainarea, \n",
    "                               chn_coord = chnInf_coord,\n",
    "                               str_recchnishow = chnInf_recchni,\n",
    "                               lowweight = lowweight,  \n",
    "                               tobesavedfile = savefile, \n",
    "                               texts = texts)\n",
    "\n",
    "    igplot.show()\n",
    "\n",
    "    print(\"Figure saved to \" + savefile)\n",
    "\n",
    "    del condition, ciCOH, savefilename, savefile, texts"
   ]
  },
  {
   "cell_type": "code",
   "execution_count": null,
   "metadata": {},
   "outputs": [],
   "source": []
  }
 ],
 "metadata": {
  "kernelspec": {
   "display_name": "Python 3",
   "language": "python",
   "name": "python3"
  },
  "language_info": {
   "codemirror_mode": {
    "name": "ipython",
    "version": 3
   },
   "file_extension": ".py",
   "mimetype": "text/x-python",
   "name": "python",
   "nbconvert_exporter": "python",
   "pygments_lexer": "ipython3",
   "version": "3.8.1"
  },
  "toc": {
   "base_numbering": 1,
   "nav_menu": {
    "height": "248px",
    "width": "255px"
   },
   "number_sections": false,
   "sideBar": true,
   "skip_h1_title": true,
   "title_cell": "Table of Contents",
   "title_sidebar": "",
   "toc_cell": false,
   "toc_position": {
    "height": "calc(100% - 180px)",
    "left": "10px",
    "top": "150px",
    "width": "292.997px"
   },
   "toc_section_display": true,
   "toc_window_display": true
  }
 },
 "nbformat": 4,
 "nbformat_minor": 2
}
