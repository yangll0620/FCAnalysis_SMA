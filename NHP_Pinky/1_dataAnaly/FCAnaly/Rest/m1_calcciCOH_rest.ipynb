{
 "cells": [
  {
   "cell_type": "markdown",
   "metadata": {},
   "source": [
    "# Functionality of this notebook: \n",
    "\n",
    "* calculate the ciCOH for normal and mild LFP data in rest"
   ]
  },
  {
   "cell_type": "markdown",
   "metadata": {},
   "source": [
    "## Import Packages"
   ]
  },
  {
   "cell_type": "code",
   "execution_count": 35,
   "metadata": {},
   "outputs": [],
   "source": [
    "import os, sys\n",
    "import scipy.io as sio\n",
    "import glob\n",
    "import numpy as np\n",
    "import matplotlib.pyplot as plt\n",
    "import pickle \n",
    "import math\n",
    "%matplotlib inline"
   ]
  },
  {
   "cell_type": "code",
   "execution_count": 36,
   "metadata": {},
   "outputs": [],
   "source": [
    "# extract the exp folder path\n",
    "currfolder = os.getcwd()\n",
    "codefolder = currfolder[0 : currfolder.find('code')+len('code')]\n",
    "\n",
    "# add path the exp folder\n",
    "sys.path.append(codefolder)\n",
    "\n",
    "# import_nbmodule used for import package in .ipynb\n",
    "import import_nbmodule\n",
    "\n",
    "# import util/folder_extract.pynb \n",
    "from util.folder_extract import exp_subfolders, code_corresfolder\n",
    "\n",
    "# import ciCoherence_overtime in connAnalyTool/synchronization_indices.ipynb\n",
    "from connAnalyTool.synchronization_indices import ciCoherence_acrosstrials\n",
    "from connAnalyTool.synchronization_indices import ciCoherence_overtime"
   ]
  },
  {
   "cell_type": "markdown",
   "metadata": {},
   "source": [
    "## exp subfolders & code_corresfolder"
   ]
  },
  {
   "cell_type": "code",
   "execution_count": 37,
   "metadata": {},
   "outputs": [],
   "source": [
    "_, _, pipelinefolder, _= exp_subfolders()"
   ]
  },
  {
   "cell_type": "code",
   "execution_count": 38,
   "metadata": {},
   "outputs": [
    {
     "data": {
      "application/javascript": [
       "IPython.notebook.kernel.execute('nb_name = \"' + IPython.notebook.notebook_name + '\"')\n"
      ],
      "text/plain": [
       "<IPython.core.display.Javascript object>"
      ]
     },
     "metadata": {},
     "output_type": "display_data"
    }
   ],
   "source": [
    "%%javascript\n",
    "IPython.notebook.kernel.execute('nb_name = \"' + IPython.notebook.notebook_name + '\"')"
   ]
  },
  {
   "cell_type": "code",
   "execution_count": 39,
   "metadata": {},
   "outputs": [],
   "source": [
    "nb_name = nb_name[0: nb_name.find('.ipynb')]\n",
    "\n",
    "# corresfolder\n",
    "corresfolder = code_corresfolder(os.getcwd(), nb_name)"
   ]
  },
  {
   "cell_type": "markdown",
   "metadata": {},
   "source": [
    "## input setup"
   ]
  },
  {
   "cell_type": "code",
   "execution_count": 40,
   "metadata": {},
   "outputs": [],
   "source": [
    "inputfolder = os.path.join(pipelinefolder, 'NHP_Pinky', '1_dataAnaly', 'FCAnaly', 'Rest', 'm0_restDataGM_narrowfiltered9_11')"
   ]
  },
  {
   "cell_type": "code",
   "execution_count": 41,
   "metadata": {},
   "outputs": [],
   "source": [
    "filenames = ['Pinky_narrowFiltered9_11-PreprodRestdataGM_mild_110917_bktdt4.mat',\n",
    "             'Pinky_narrowFiltered9_11-PreprodRestdataGM_normal_041417_bktdt6.mat',\n",
    "             'Pinky_narrowFiltered9_11-PreprodRestdataGM_normal_042117_bktdt1.mat']"
   ]
  },
  {
   "cell_type": "markdown",
   "metadata": {},
   "source": [
    "## global parameters"
   ]
  },
  {
   "cell_type": "code",
   "execution_count": 42,
   "metadata": {},
   "outputs": [],
   "source": [
    "freq = [9, 11]\n",
    "\n",
    "# time duration used for calculating ciCOH\n",
    "ts = np.asarray([60, 60*4]);\n",
    "\n",
    "# time window duration and the shift duration\n",
    "t_win, t_shift = 10, 5"
   ]
  },
  {
   "cell_type": "markdown",
   "metadata": {},
   "source": [
    "## Save Setup"
   ]
  },
  {
   "cell_type": "code",
   "execution_count": 43,
   "metadata": {},
   "outputs": [],
   "source": [
    "savefolder = corresfolder\n",
    "savefilename_prefix =  'ciCOH_rest' + '_freq' + str(freq[0]) + '_' + str(freq[1]) + '_'"
   ]
  },
  {
   "cell_type": "markdown",
   "metadata": {},
   "source": [
    "## load data"
   ]
  },
  {
   "cell_type": "markdown",
   "metadata": {},
   "source": [
    "### <span style=\"color:red\"> should modified as forloop </span>"
   ]
  },
  {
   "cell_type": "code",
   "execution_count": 44,
   "metadata": {},
   "outputs": [],
   "source": [
    "filei = 1"
   ]
  },
  {
   "cell_type": "code",
   "execution_count": 45,
   "metadata": {},
   "outputs": [],
   "source": [
    "filename = filenames[filei]\n",
    "file = os.path.join(inputfolder, filename)"
   ]
  },
  {
   "cell_type": "code",
   "execution_count": 46,
   "metadata": {},
   "outputs": [],
   "source": [
    "# load \n",
    "matdat = sio.loadmat(file, variable_names = ['lfpdata', 'fs', 'chnsarea_vNames', 'chnsarea_Cell'], \n",
    "                     struct_as_record = False, squeeze_me = True)"
   ]
  },
  {
   "cell_type": "code",
   "execution_count": 47,
   "metadata": {},
   "outputs": [],
   "source": [
    "# fs: sample rate\n",
    "fs = matdat['fs'] \n",
    "\n",
    "# chnsarea information: chnsarea_Cell + chnsarea_vNames = T_chnsarea (matlab table obj)\n",
    "chnsarea_Cell, chnsarea_vNames = matdat['chnsarea_Cell'], matdat['chnsarea_vNames']\n",
    "\n",
    "# lfp (np.ndarray): ntemporal * nchns\n",
    "lfpdata = matdat['lfpdata']"
   ]
  },
  {
   "cell_type": "code",
   "execution_count": 48,
   "metadata": {},
   "outputs": [
    {
     "name": "stdout",
     "output_type": "stream",
     "text": [
      "[array([ 1,  2,  3,  4,  5,  6,  7,  8,  9, 10, 11, 12, 13, 14, 15, 16, 17,\n",
      "       18, 19, 20, 21, 22, 23, 24, 25, 26, 27], dtype=uint8)\n",
      " array(['lSMA', 'lSMA', 'lSMA', 'lSMA', 'rSMA', 'rSMA', 'rSMA', 'rSMA',\n",
      "       'rMC', 'rMC', 'lVA', 'lVA', 'rVA', 'rVA', 'rVA', 'lVLo', 'lVLo',\n",
      "       'rVLo', 'rVLo', 'lVPLo', 'lVPLo', 'lVPLo', 'rVPLo', 'rVPLo',\n",
      "       'rVPLo', 'lCd', 'lCd'], dtype=object)\n",
      " array([101, 102, 107, 112, 117, 122, 127, 128, 118, 123, 103, 104, 124,\n",
      "       130, 131, 110, 115, 119, 120, 106, 111, 116, 121, 126, 132, 108,\n",
      "       113], dtype=uint8)]\n"
     ]
    }
   ],
   "source": [
    "print(chnsarea_Cell)"
   ]
  },
  {
   "cell_type": "markdown",
   "metadata": {},
   "source": [
    "## Calculate ciCOH"
   ]
  },
  {
   "cell_type": "markdown",
   "metadata": {},
   "source": [
    "### preprocessing: \n",
    "select temporal inteval and segment into time-windows"
   ]
  },
  {
   "cell_type": "code",
   "execution_count": 25,
   "metadata": {},
   "outputs": [],
   "source": [
    "# get the epoch of ts time for using, before and after were discarded to avoid any transient activity\n",
    "idx_temporal = (ts * fs).astype(int);\n",
    "lfp = lfpdata[idx_temporal[0]:idx_temporal[1],:]"
   ]
  },
  {
   "cell_type": "code",
   "execution_count": 26,
   "metadata": {},
   "outputs": [],
   "source": [
    "###  segment to t_win duration time-window\n",
    "nwintempo, nshift = int(t_win * fs), int(t_shift * fs)\n",
    "ntempo, nchns = lfp.shape\n",
    "# nwins: total number of segmented time-window\n",
    "nwins = math.floor((ntempo - nwintempo + 1) / nshift)\n",
    "\n",
    "lfpwins = np.empty([nwintempo, nchns, nwins])\n",
    "for wini in range(nwins):\n",
    "    idx_start = wini * nshift\n",
    "    idx_end = idx_start + nwintempo\n",
    "    lfpwins[:,:,wini] = lfp[idx_start:idx_end, :]"
   ]
  },
  {
   "cell_type": "markdown",
   "metadata": {},
   "source": [
    "### calculate ciCOH for all time-window"
   ]
  },
  {
   "cell_type": "code",
   "execution_count": 27,
   "metadata": {},
   "outputs": [],
   "source": [
    "### calculate ciCOH\n",
    "ntempo, nchns, nwins = lfpwins.shape\n",
    "ciCOH_allWins = np.zeros((nchns, nchns, nwins))\n",
    "for wini in range(nwins):\n",
    "    for chni in range(nchns -1):\n",
    "        signal1 = lfpwins[:, chni, wini]\n",
    "        \n",
    "        for chnj in range(chni+1, nchns):\n",
    "            signal2 = lfpwins[:, chnj, wini]\n",
    "            \n",
    "            # ciCOH_allWins assignment\n",
    "            ciCOH_allWins[chni, chnj, wini] = ciCoherence_overtime(signal1, signal2)\n",
    "            \n",
    "            # symmetrical\n",
    "            ciCOH_allWins[chnj, chni, wini] = ciCOH_allWins[chni, chnj, wini]\n",
    "            \n",
    "            del signal2\n",
    "        del signal1"
   ]
  },
  {
   "cell_type": "code",
   "execution_count": 28,
   "metadata": {},
   "outputs": [],
   "source": [
    "ciCOH = np.mean(ciCOH_allWins, axis = 2)"
   ]
  },
  {
   "cell_type": "markdown",
   "metadata": {},
   "source": [
    "## save ciCOH"
   ]
  },
  {
   "cell_type": "code",
   "execution_count": 33,
   "metadata": {},
   "outputs": [],
   "source": [
    "if 'normal' in filename:\n",
    "    idx = filename.find('normal')\n",
    "if 'mild' in filename:\n",
    "    idx = filename.find('mild')\n",
    "savefile = os.path.join(savefolder, savefilename_prefix + filename[idx:])"
   ]
  },
  {
   "cell_type": "code",
   "execution_count": 34,
   "metadata": {},
   "outputs": [],
   "source": [
    "## save ciCOH\n",
    "np.save (savefile, ciCOH)"
   ]
  }
 ],
 "metadata": {
  "kernelspec": {
   "display_name": "Python 3",
   "language": "python",
   "name": "python3"
  },
  "language_info": {
   "codemirror_mode": {
    "name": "ipython",
    "version": 3
   },
   "file_extension": ".py",
   "mimetype": "text/x-python",
   "name": "python",
   "nbconvert_exporter": "python",
   "pygments_lexer": "ipython3",
   "version": "3.6.6"
  },
  "toc": {
   "base_numbering": 1,
   "nav_menu": {},
   "number_sections": false,
   "sideBar": true,
   "skip_h1_title": true,
   "title_cell": "Table of Contents",
   "title_sidebar": "",
   "toc_cell": false,
   "toc_position": {
    "height": "calc(100% - 180px)",
    "left": "10px",
    "top": "150px",
    "width": "165px"
   },
   "toc_section_display": true,
   "toc_window_display": false
  }
 },
 "nbformat": 4,
 "nbformat_minor": 2
}
