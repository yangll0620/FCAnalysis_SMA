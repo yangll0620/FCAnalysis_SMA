{
 "cells": [
  {
   "cell_type": "markdown",
   "metadata": {},
   "source": [
    "# Functionality of this notebook: \n",
    "\n",
    "* calculate the ciCOH for normal and mild LFP data in rest"
   ]
  },
  {
   "cell_type": "markdown",
   "metadata": {},
   "source": [
    "## Import Packages"
   ]
  },
  {
   "cell_type": "code",
   "execution_count": null,
   "metadata": {},
   "outputs": [],
   "source": [
    "import os, sys\n",
    "import scipy.io as sio\n",
    "import glob\n",
    "import numpy as np\n",
    "import matplotlib.pyplot as plt\n",
    "import pickle \n",
    "import math\n",
    "import pandas as pd\n",
    "%matplotlib inline"
   ]
  },
  {
   "cell_type": "code",
   "execution_count": null,
   "metadata": {},
   "outputs": [],
   "source": [
    "# extract the exp folder path\n",
    "currfolder = os.getcwd()\n",
    "codefolder = currfolder[0 : currfolder.find('code')+len('code')]\n",
    "\n",
    "# add path the exp folder\n",
    "sys.path.append(codefolder)\n",
    "\n",
    "# import_nbmodule used for import package in .ipynb\n",
    "import import_nbmodule\n",
    "\n",
    "# import util/folder_extract.pynb \n",
    "from util.folder_extract import exp_subfolders, code_corresfolder\n",
    "\n",
    "# import ciCoherence_overtime in connAnalyTool/synchronization_indices.ipynb\n",
    "from connAnalyTool.synchronization_indices import ciCoherence_acrosstrials\n",
    "from connAnalyTool.synchronization_indices import ciCoherence_overtime"
   ]
  },
  {
   "cell_type": "markdown",
   "metadata": {},
   "source": [
    "## exp subfolders & code_corresfolder"
   ]
  },
  {
   "cell_type": "code",
   "execution_count": null,
   "metadata": {},
   "outputs": [],
   "source": [
    "_, _, pipelinefolder, _= exp_subfolders()"
   ]
  },
  {
   "cell_type": "code",
   "execution_count": null,
   "metadata": {},
   "outputs": [],
   "source": [
    "%%javascript\n",
    "IPython.notebook.kernel.execute('nb_name = \"' + IPython.notebook.notebook_name + '\"')"
   ]
  },
  {
   "cell_type": "code",
   "execution_count": null,
   "metadata": {},
   "outputs": [],
   "source": [
    "nb_name = nb_name[0: nb_name.find('.ipynb')]\n",
    "\n",
    "# corresfolder\n",
    "corresfolder, correparentfolder = code_corresfolder(os.getcwd(), nb_name)"
   ]
  },
  {
   "cell_type": "markdown",
   "metadata": {},
   "source": [
    "## input setup"
   ]
  },
  {
   "cell_type": "code",
   "execution_count": null,
   "metadata": {},
   "outputs": [],
   "source": [
    "inputfolder = os.path.join(pipelinefolder, 'NHP_Pinky', '0_dataPrep', 'Rest', 'm5_restData_segNarrowedDownsample')"
   ]
  },
  {
   "cell_type": "code",
   "execution_count": null,
   "metadata": {},
   "outputs": [],
   "source": [
    "variablesinLoadfile = ['lfpsegs_m1', 'lfpsegs_GM', 'lfpsegs_stn', 'lfpsegs_gp', 'fs', \n",
    "                   'chans_m1', 'GMChnAreas', 'segsRemain']"
   ]
  },
  {
   "cell_type": "code",
   "execution_count": null,
   "metadata": {},
   "outputs": [],
   "source": [
    "chnInf_folder = correparentfolder\n",
    "chnInf_file = os.path.join(chnInf_folder, 'chn_brainArea_simCoord_M1ThaSMADBS.csv')"
   ]
  },
  {
   "cell_type": "markdown",
   "metadata": {},
   "source": [
    "## global parameters"
   ]
  },
  {
   "cell_type": "code",
   "execution_count": null,
   "metadata": {},
   "outputs": [],
   "source": [
    "freq = [26, 28]\n",
    "\n",
    "halfs = True"
   ]
  },
  {
   "cell_type": "markdown",
   "metadata": {},
   "source": [
    "## Save Setup"
   ]
  },
  {
   "cell_type": "code",
   "execution_count": null,
   "metadata": {},
   "outputs": [],
   "source": [
    "savefolder = corresfolder\n",
    "savefilename =  'ciCOH_rest' + '_freq' + str(freq[0]) + '_' + str(freq[1])"
   ]
  },
  {
   "cell_type": "markdown",
   "metadata": {},
   "source": [
    "## extract lfp"
   ]
  },
  {
   "cell_type": "code",
   "execution_count": null,
   "metadata": {},
   "outputs": [],
   "source": [
    "def lfpallfiles_extract(files):\n",
    "    if 'lfpdata' in locals():\n",
    "        del lfpdata\n",
    "    \n",
    "    for i, file in enumerate(files):\n",
    "        \n",
    "        ### load data\n",
    "        matdat = sio.loadmat(file, variable_names = variablesinLoadfile, \n",
    "                             struct_as_record = False, squeeze_me = True) \n",
    "\n",
    "        # fs: sample rate\n",
    "        fs = matdat['fs'] \n",
    "        \n",
    "        \n",
    "        ### extract the noused channels, only calculate once\n",
    "        if i == 0:\n",
    "            GMChnAreas = matdat['GMChnAreas'].tolist()\n",
    "            chni_notused = []\n",
    "            for chni, area in enumerate(GMChnAreas):\n",
    "                if len(area) == 0:\n",
    "                    # this channel is not used for any area\n",
    "                    chni_notused.append(chni)\n",
    "                    \n",
    "            # remove the used channels from GMChnAreas and chans_GM\n",
    "            chans_GM = [*range(101, 133,1)]\n",
    "            for idx in sorted(chni_notused, reverse=True):\n",
    "                del GMChnAreas[idx]\n",
    "                del chans_GM[idx]\n",
    "                \n",
    "            # chnInf_recchni\n",
    "            recchni_used = matdat['chans_m1'].tolist() + chans_GM + [*range(0, 7,1)] + [*range(0, 7,1)]\n",
    "             \n",
    "        \n",
    "\n",
    "        ### dealing lfp data\n",
    "        \n",
    "        # lfp (np.ndarray): ntemporal * nchns\n",
    "        lfp_m1,  lfp_GM = matdat['lfpsegs_m1'],  matdat['lfpsegs_GM']\n",
    "        lfp_stn, lfp_gp = matdat['lfpsegs_stn'], matdat['lfpsegs_gp']\n",
    "        \n",
    "        \n",
    "        # remove the lfp_GM data of the channel not used\n",
    "        lfp_GM = np.delete(lfp_GM, chni_notused, axis = 1) \n",
    "        \n",
    "\n",
    "        # combine the data of all the channels\n",
    "        lfpdata_1file = np.concatenate((lfp_m1, lfp_GM, lfp_stn, lfp_gp), axis = 1)\n",
    "        \n",
    "        # concatenate to lfpdata for all files\n",
    "        if 'lfpdata' not in locals():\n",
    "            lfpdata = lfpdata_1file\n",
    "        else:\n",
    "            lfpdata = np.concatenate((lfpdata, lfpdata_1file), axis = 2)\n",
    "                \n",
    "                \n",
    "    \n",
    "    return lfpdata, recchni_used"
   ]
  },
  {
   "cell_type": "code",
   "execution_count": null,
   "metadata": {},
   "outputs": [],
   "source": [
    "files_normal = glob.glob(os.path.join(inputfolder, '*normal*'))\n",
    "files_mild = glob.glob(os.path.join(inputfolder, '*mild*'))\n",
    "files_moderate = glob.glob(os.path.join(inputfolder, '*moderate*'))"
   ]
  },
  {
   "cell_type": "code",
   "execution_count": null,
   "metadata": {},
   "outputs": [],
   "source": [
    "lfpwins_normal, recchni_used = lfpallfiles_extract(files_normal)\n",
    "lfpwins_mild, _ = lfpallfiles_extract(files_mild)\n",
    "lfpwins_moderate, _ = lfpallfiles_extract(files_moderate)"
   ]
  },
  {
   "cell_type": "code",
   "execution_count": null,
   "metadata": {},
   "outputs": [],
   "source": [
    "if halfs:\n",
    "    lfpwins_normal_2s, lfpwins_mild_2s, lfpwins_moderate_2s = lfpwins_normal, lfpwins_mild, lfpwins_moderate\n",
    "    \n",
    "    lfpwins_normal = lfpwins_normal_2s[0:250, :,:]\n",
    "    lfpwins_mild = lfpwins_mild_2s[0:250, :,:]\n",
    "    lfpwins_moderate = lfpwins_moderate_2s[0:250, :,:]\n",
    "    \n",
    "    savefilename = savefilename + '_halfs'"
   ]
  },
  {
   "cell_type": "markdown",
   "metadata": {},
   "source": [
    "## Extract chnInf using recchni_used"
   ]
  },
  {
   "cell_type": "code",
   "execution_count": null,
   "metadata": {},
   "outputs": [],
   "source": [
    "### load channel information ###\n",
    "df = pd.read_csv(chnInf_file, header = 0)"
   ]
  },
  {
   "cell_type": "code",
   "execution_count": null,
   "metadata": {},
   "outputs": [],
   "source": [
    "# recording chni \n",
    "recording_chni = df['recording_chni'].tolist()\n",
    "\n",
    "chnInf_brainarea = df['brainarea']\n",
    "chnInf_matchni = df['mat_chni']\n",
    "\n",
    "# coord\n",
    "x, y = df['simulated_x'].to_numpy(), df['simulated_y'].to_numpy()\n",
    "chnInf_coord = np.concatenate((np.expand_dims(x, axis = 1), np.expand_dims(y, axis = 1)), axis = 1)"
   ]
  },
  {
   "cell_type": "code",
   "execution_count": null,
   "metadata": {},
   "outputs": [],
   "source": [
    "### extract the idx_used in list recording_chni\n",
    "idx_used = []\n",
    "# get the idx_used for m1 and GM (i.e. except stn and gp) in list recording_chni\n",
    "for i, rechni in enumerate(recchni_used[0:-14]):\n",
    "    idx_used.append(recording_chni.index(rechni))\n",
    "    \n",
    "# get idx of stn and gp (i.e. the last 14 channels)\n",
    "idx_used = idx_used + [*range(len(recording_chni)-14, len(recording_chni))]"
   ]
  },
  {
   "cell_type": "code",
   "execution_count": null,
   "metadata": {},
   "outputs": [],
   "source": [
    "# get chnInf for used channels\n",
    "chnInf_brainarea = chnInf_brainarea[idx_used].tolist()\n",
    "chnInf_coord = chnInf_coord[idx_used,:]\n",
    "chnInf_matchni = chnInf_matchni[idx_used]\n",
    "\n",
    "chnInf_recchni = recchni_used"
   ]
  },
  {
   "cell_type": "markdown",
   "metadata": {},
   "source": [
    "## Calculate ciCOH"
   ]
  },
  {
   "cell_type": "markdown",
   "metadata": {},
   "source": [
    "### balance mild and normal trials"
   ]
  },
  {
   "cell_type": "code",
   "execution_count": null,
   "metadata": {},
   "outputs": [],
   "source": [
    "# select the smaller trial number\n",
    "ntrials_normal, ntrials_mild,  ntrials_moderate = lfpwins_normal.shape[2], lfpwins_mild.shape[2], lfpwins_moderate.shape[2]\n",
    "ntrials = min([ntrials_normal, ntrials_mild,  ntrials_moderate])\n",
    "\n",
    "# balance trials\n",
    "lfpwins_normal = lfpwins_normal[:,:,0:ntrials]\n",
    "lfpwins_mild = lfpwins_mild[:,:,0:ntrials]\n",
    "lfpwins_moderate = lfpwins_moderate[:,:,0:ntrials]"
   ]
  },
  {
   "cell_type": "markdown",
   "metadata": {},
   "source": [
    "###  normal ciCOH"
   ]
  },
  {
   "cell_type": "code",
   "execution_count": null,
   "metadata": {},
   "outputs": [],
   "source": [
    "lfpwins_allfiles = lfpwins_normal\n",
    "\n",
    "### calculate ciCOH\n",
    "ntempo, nchns, nwins = lfpwins_allfiles.shape\n",
    "ciCOH_allWins = np.zeros((nchns, nchns, nwins))\n",
    "for wini in range(nwins):\n",
    "    print(\"wini = \" + str(wini) + \"/\" + str(nwins))\n",
    "    for chni in range(nchns -1):\n",
    "        signal1 = lfpwins_allfiles[:, chni, wini]\n",
    "        \n",
    "        for chnj in range(chni+1, nchns):\n",
    "            signal2 = lfpwins_allfiles[:, chnj, wini]\n",
    "            \n",
    "            # ciCOH_allWins assignment\n",
    "            ciCOH_allWins[chni, chnj, wini] = ciCoherence_overtime(signal1, signal2)\n",
    "            \n",
    "            # symmetrical\n",
    "            ciCOH_allWins[chnj, chni, wini] = ciCOH_allWins[chni, chnj, wini]\n",
    "            \n",
    "            del signal2\n",
    "        del signal1"
   ]
  },
  {
   "cell_type": "code",
   "execution_count": null,
   "metadata": {},
   "outputs": [],
   "source": [
    "ciCOH = np.mean(ciCOH_allWins, axis = 2)\n",
    "ciCOH_normal = ciCOH\n",
    "del ciCOH, ciCOH_allWins"
   ]
  },
  {
   "cell_type": "markdown",
   "metadata": {},
   "source": [
    "### mild ciCOH"
   ]
  },
  {
   "cell_type": "code",
   "execution_count": null,
   "metadata": {},
   "outputs": [],
   "source": [
    "lfpwins_allfiles = lfpwins_mild\n",
    "\n",
    "### calculate ciCOH\n",
    "ntempo, nchns, nwins = lfpwins_allfiles.shape\n",
    "ciCOH_allWins = np.zeros((nchns, nchns, nwins))\n",
    "for wini in range(nwins):\n",
    "    print(\"wini = \" + str(wini) + \"/\" + str(nwins))\n",
    "    for chni in range(nchns -1):\n",
    "        signal1 = lfpwins_allfiles[:, chni, wini]\n",
    "        \n",
    "        for chnj in range(chni+1, nchns):\n",
    "            signal2 = lfpwins_allfiles[:, chnj, wini]\n",
    "            \n",
    "            # ciCOH_allWins assignment\n",
    "            ciCOH_allWins[chni, chnj, wini] = ciCoherence_overtime(signal1, signal2)\n",
    "            \n",
    "            # symmetrical\n",
    "            ciCOH_allWins[chnj, chni, wini] = ciCOH_allWins[chni, chnj, wini]\n",
    "            \n",
    "            del signal2\n",
    "        del signal1"
   ]
  },
  {
   "cell_type": "code",
   "execution_count": null,
   "metadata": {},
   "outputs": [],
   "source": [
    "ciCOH = np.mean(ciCOH_allWins, axis = 2)\n",
    "ciCOH_mild = ciCOH\n",
    "del ciCOH, ciCOH_allWins"
   ]
  },
  {
   "cell_type": "markdown",
   "metadata": {},
   "source": [
    "### Moderate ciCOH"
   ]
  },
  {
   "cell_type": "code",
   "execution_count": null,
   "metadata": {},
   "outputs": [],
   "source": [
    "lfpwins_allfiles = lfpwins_moderate\n",
    "\n",
    "### calculate ciCOH\n",
    "ntempo, nchns, nwins = lfpwins_allfiles.shape\n",
    "ciCOH_allWins = np.zeros((nchns, nchns, nwins))\n",
    "for wini in range(nwins):\n",
    "    print(\"wini = \" + str(wini) + \"/\" + str(nwins))\n",
    "    for chni in range(nchns -1):\n",
    "        signal1 = lfpwins_allfiles[:, chni, wini]\n",
    "        \n",
    "        for chnj in range(chni+1, nchns):\n",
    "            signal2 = lfpwins_allfiles[:, chnj, wini]\n",
    "            \n",
    "            # ciCOH_allWins assignment\n",
    "            ciCOH_allWins[chni, chnj, wini] = ciCoherence_overtime(signal1, signal2)\n",
    "            \n",
    "            # symmetrical\n",
    "            ciCOH_allWins[chnj, chni, wini] = ciCOH_allWins[chni, chnj, wini]\n",
    "            \n",
    "            del signal2\n",
    "        del signal1"
   ]
  },
  {
   "cell_type": "code",
   "execution_count": null,
   "metadata": {},
   "outputs": [],
   "source": [
    "ciCOH = np.mean(ciCOH_allWins, axis = 2)\n",
    "ciCOH_moderate = ciCOH\n",
    "del ciCOH, ciCOH_allWins"
   ]
  },
  {
   "cell_type": "markdown",
   "metadata": {},
   "source": [
    "## save ciCOH"
   ]
  },
  {
   "cell_type": "code",
   "execution_count": null,
   "metadata": {},
   "outputs": [],
   "source": [
    "ciCOH = dict()\n",
    "ciCOH['normal'], ciCOH['mild'], ciCOH['moderate'] = ciCOH_normal, ciCOH_mild, ciCOH_moderate\n",
    "ciCOH['chnInf_recchni'], ciCOH['chnInf_matchni'] = chnInf_recchni, chnInf_matchni\n",
    "ciCOH['chnInf_brainarea'], ciCOH['chnInf_coord'] = chnInf_brainarea, chnInf_coord"
   ]
  },
  {
   "cell_type": "code",
   "execution_count": null,
   "metadata": {},
   "outputs": [],
   "source": [
    "try:\n",
    "    import cPickle as pickle\n",
    "except ImportError:  # python 3.x\n",
    "    import pickle\n",
    "\n",
    "with open(os.path.join(savefolder, savefilename + '.pickle'), 'wb') as fp:\n",
    "    pickle.dump(ciCOH, fp, protocol=pickle.HIGHEST_PROTOCOL)"
   ]
  },
  {
   "cell_type": "code",
   "execution_count": null,
   "metadata": {},
   "outputs": [],
   "source": [
    "os.path.join(savefolder, savefilename)"
   ]
  },
  {
   "cell_type": "code",
   "execution_count": null,
   "metadata": {},
   "outputs": [],
   "source": []
  }
 ],
 "metadata": {
  "kernelspec": {
   "display_name": "Python 3",
   "language": "python",
   "name": "python3"
  },
  "language_info": {
   "codemirror_mode": {
    "name": "ipython",
    "version": 3
   },
   "file_extension": ".py",
   "mimetype": "text/x-python",
   "name": "python",
   "nbconvert_exporter": "python",
   "pygments_lexer": "ipython3",
   "version": "3.6.10"
  },
  "toc": {
   "base_numbering": 1,
   "nav_menu": {
    "height": "238px",
    "width": "482px"
   },
   "number_sections": false,
   "sideBar": true,
   "skip_h1_title": true,
   "title_cell": "Table of Contents",
   "title_sidebar": "",
   "toc_cell": false,
   "toc_position": {
    "height": "calc(100% - 180px)",
    "left": "10px",
    "top": "150px",
    "width": "165px"
   },
   "toc_section_display": true,
   "toc_window_display": false
  }
 },
 "nbformat": 4,
 "nbformat_minor": 2
}
