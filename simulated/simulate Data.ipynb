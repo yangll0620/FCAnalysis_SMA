{
 "cells": [
  {
   "cell_type": "markdown",
   "metadata": {},
   "source": [
    "# Functionality\n",
    "\n",
    "Simulated data for validation the usage of ciCOH\n",
    "\n",
    "* using Samplings from normal distributions for no connections\n",
    "\n",
    "* using sinusoidal signals for connections\n",
    "\n",
    "* using a linear mix equation for volume conduction"
   ]
  },
  {
   "cell_type": "markdown",
   "metadata": {},
   "source": [
    "## Import Packages"
   ]
  },
  {
   "cell_type": "code",
   "execution_count": 1,
   "metadata": {},
   "outputs": [],
   "source": [
    "import os, sys\n",
    "import scipy.io as sio\n",
    "import glob\n",
    "import numpy as np\n",
    "import matplotlib.pyplot as plt\n",
    "import pickle \n",
    "import random\n",
    "import pandas as pd\n",
    "%matplotlib inline\n",
    "plt.rc('text', usetex=True)\n",
    "\n",
    "from scipy.stats import norm\n",
    "from numpy.random import normal"
   ]
  },
  {
   "cell_type": "code",
   "execution_count": 2,
   "metadata": {},
   "outputs": [
    {
     "name": "stdout",
     "output_type": "stream",
     "text": [
      "importing Jupyter notebook from /home/lingling/Insync/yang7003@umn.edu/NMRC_umn/Projects/FCAnalysis/exp/code/simulated/simulated_timeseries.ipynb\n",
      "importing Jupyter notebook from /home/lingling/Insync/yang7003@umn.edu/NMRC_umn/Projects/FCAnalysis/exp/code/simulated/addnoise.ipynb\n"
     ]
    }
   ],
   "source": [
    "# extract the exp folder path\n",
    "currfolder = os.getcwd()\n",
    "codefolder = currfolder[0 : currfolder.find('code')+len('code')]\n",
    "\n",
    "# add path the exp folder\n",
    "sys.path.append(codefolder)\n",
    "\n",
    "# import_nbmodule used for import package in .ipynb\n",
    "import import_nbmodule\n",
    "\n",
    "# import util/folder_extract.pynb \n",
    "from util.folder_extract import exp_subfolders, code_corresfolder\n",
    "\n",
    "# import ciCoherence_overtime in connAnalyTool/synchronization_indices.ipynb\n",
    "from connAnalyTool.synchronization_indices import ciCoherence_acrosstrials\n",
    "from connAnalyTool.synchronization_indices import ciCoherence_overtime\n",
    "\n",
    "from simulated.simulated_timeseries import gen_series_noconnection_sin, gen_ciCOH_population_sin"
   ]
  },
  {
   "cell_type": "markdown",
   "metadata": {},
   "source": [
    "## Preparation"
   ]
  },
  {
   "cell_type": "markdown",
   "metadata": {},
   "source": [
    "### exp subfolders & code_corresfolder"
   ]
  },
  {
   "cell_type": "code",
   "execution_count": 3,
   "metadata": {},
   "outputs": [],
   "source": [
    "_, _, pipelinefolder, _= exp_subfolders()"
   ]
  },
  {
   "cell_type": "code",
   "execution_count": 4,
   "metadata": {},
   "outputs": [
    {
     "data": {
      "application/javascript": [
       "IPython.notebook.kernel.execute('nb_name = \"' + IPython.notebook.notebook_name + '\"')\n"
      ],
      "text/plain": [
       "<IPython.core.display.Javascript object>"
      ]
     },
     "metadata": {},
     "output_type": "display_data"
    }
   ],
   "source": [
    "%%javascript\n",
    "IPython.notebook.kernel.execute('nb_name = \"' + IPython.notebook.notebook_name + '\"')"
   ]
  },
  {
   "cell_type": "code",
   "execution_count": 5,
   "metadata": {},
   "outputs": [],
   "source": [
    "nb_name = nb_name[0: nb_name.find('.ipynb')]\n",
    "\n",
    "# corresfolder\n",
    "corresfolder, correparentfolder = code_corresfolder(os.getcwd(), nb_name)"
   ]
  },
  {
   "cell_type": "markdown",
   "metadata": {},
   "source": [
    "### Global parameters"
   ]
  },
  {
   "cell_type": "code",
   "execution_count": 6,
   "metadata": {},
   "outputs": [],
   "source": [
    "ntemp, ntrials = 500, 200\n",
    "\n",
    "# repeat ntimes\n",
    "ntimes = 1000\n",
    "\n",
    "f = 30\n",
    "\n",
    "\n",
    "t = 1\n",
    "\n",
    "\n",
    "Desired_SNR_dB = 20"
   ]
  },
  {
   "cell_type": "markdown",
   "metadata": {},
   "source": [
    "### Save setup"
   ]
  },
  {
   "cell_type": "code",
   "execution_count": null,
   "metadata": {},
   "outputs": [],
   "source": [
    "savefolder = corresfolder"
   ]
  },
  {
   "cell_type": "markdown",
   "metadata": {},
   "source": [
    "## No Connection"
   ]
  },
  {
   "cell_type": "markdown",
   "metadata": {},
   "source": [
    "### ciCOH"
   ]
  },
  {
   "cell_type": "code",
   "execution_count": null,
   "metadata": {},
   "outputs": [],
   "source": [
    "# generate the ciCOH population \n",
    "ciCOHs_noConn = gen_ciCOH_population_sin(ntimes = ntimes, ntrials = ntrials, ntemp = ntemp, f =f, t = t, Desired_SNR_dB = 20)"
   ]
  },
  {
   "cell_type": "code",
   "execution_count": null,
   "metadata": {},
   "outputs": [],
   "source": [
    "#---- plot ciCOHs_noConn  ----#\n",
    "ciCOHs = ciCOHs_noConn\n",
    "\n",
    "plt.hist(ciCOHs, bins=10, density=True, alpha=0.6, color='g')\n",
    "\n",
    "# Fit a normal distribution to the data:\n",
    "mu, std = norm.fit(ciCOHs)\n",
    "\n",
    "# Plot the PDF.\n",
    "xmin, xmax = plt.xlim()\n",
    "x = np.linspace(xmin, xmax, 100)\n",
    "p = norm.pdf(x, mu, std)\n",
    "plt.plot(x, p, 'k', linewidth=2)\n",
    "\n",
    "# lot the 2*std lines\n",
    "plt.plot([mu + 2 * std, mu + 2 * std], np.array(plt.ylim())/2, 'b--') \n",
    "plt.plot([mu - 2 * std, mu - 2 * std], np.array(plt.ylim())/2, 'b--', label = '95\\%')\n",
    "\n",
    "# plot the 3*std lines\n",
    "plt.plot([mu + 3 * std, mu + 3 * std], np.array(plt.ylim())/2, 'k--') \n",
    "plt.plot([mu - 3 * std, mu - 3 * std], np.array(plt.ylim())/2, 'k--', label = r'99\\%')\n",
    "\n",
    "plt.legend(ncol=2)\n",
    "\n",
    "\n",
    "\n",
    "\n",
    "# Plot statistical analysis:  mu, std and 95% \n",
    "\n",
    "# the content of statistical analysis text\n",
    "eq1 = r\"\\begin{eqnarray*}\" + \\\n",
    "  r\"\\mu = \" + str(np.around(mu, decimals=2)) + \"\\\\\"\\\n",
    "  r\"\\std = \" + str(np.around(std, decimals=4)) + \"\\\\\"\\\n",
    "  r\"\\95 \\%= \" + str(np.around(mu + 2*std, decimals=4)) + \"\\\\\"\\\n",
    "  r\"\\99 \\%= \" + str(np.around(mu + 3*std, decimals=4)) +\\\n",
    "  r\"\\end{eqnarray*}\"\n",
    "\n",
    "\n",
    "# the plot position of mu, std, and 95% text\n",
    "ymin, ymax = plt.ylim()\n",
    "xmin, xmax = plt.xlim()\n",
    "pos_x = xmin + (xmax - xmin)* 3/4\n",
    "pos_y = ymin + (ymax -ymin) * 4/5\n",
    "plt.text(pos_x, pos_y, eq1, {'fontsize': 12}, va=\"top\", ha=\"left\")\n",
    "\n",
    "\n",
    "#plt.show()\n",
    "plt.savefig(os.path.join(savefolder,  \"sin_noConn_ciCOHsDistribution.png\"))\n",
    "\n",
    "del ciCOHs\n",
    "del mu, std, xmin, xmax, p\n",
    "del eq1\n",
    "del ymin, ymax, pos_x, pos_y"
   ]
  },
  {
   "cell_type": "markdown",
   "metadata": {},
   "source": [
    "### A trial Example"
   ]
  },
  {
   "cell_type": "code",
   "execution_count": null,
   "metadata": {},
   "outputs": [],
   "source": [
    "# generate 2 sinusoidal time series without connection sig1_noConn, sig2_noConn: ntrials * ntemp\n",
    "sig1_noConn, sig2_noConn = gen_series_noconnection_sin(ntrials, ntemp, f, t = t, Desired_SNR_dB = 20)"
   ]
  },
  {
   "cell_type": "code",
   "execution_count": null,
   "metadata": {},
   "outputs": [],
   "source": [
    "#---- plot one trial Example ---#\n",
    "npoints = 125\n",
    "ts = np.linspace(0, t, ntemp)\n",
    "\n",
    "\n",
    "fig, ax = plt.subplots()\n",
    "\n",
    "plt.subplot(211)\n",
    "\n",
    "plt.plot(ts[0:npoints], sig1_noConn[0, 0:npoints], 'k', label = 'signal 1') \n",
    "plt.plot(ts[0:npoints], sig2_noConn[0, 0:npoints], 'b', label = 'signal 2')\n",
    "\n",
    "title = \"An example of time series without connections\"\n",
    "plt.title(title, size=15)\n",
    "\n",
    "bottom, top = plt.ylim()\n",
    "plt.ylim([bottom, top + (top - bottom)* 0.2])\n",
    "\n",
    "plt.ylabel('trial 1')\n",
    "plt.legend(ncol = 2, loc = 1)\n",
    "\n",
    "plt.gca().set_xticklabels([])\n",
    "\n",
    "\n",
    "plt.subplot(212)\n",
    "plt.plot(ts[0:npoints], sig1_noConn[1, 0:npoints], 'k', label = 'signal 1') \n",
    "plt.plot(ts[0:npoints], sig2_noConn[1, 0:npoints], 'b', label = 'signal 2')\n",
    "\n",
    "plt.xlabel('time (s)', size=15)\n",
    "plt.axis('tight')\n",
    "plt.ylabel('trial 2')\n",
    "\n",
    "\n",
    "\n",
    "#plt.show()\n",
    "plt.savefig(os.path.join(savefolder,  \"sin_noConn_Example.png.png\"))"
   ]
  },
  {
   "cell_type": "markdown",
   "metadata": {},
   "source": [
    "## with Connection"
   ]
  },
  {
   "cell_type": "code",
   "execution_count": null,
   "metadata": {},
   "outputs": [],
   "source": [
    "### functioon add Gaussian Noise\n",
    "def GaussianNoise_SNR(signal, Desired_SNR_dB):\n",
    "    \"\"\"\n",
    "        add desired SNR (dB) gaussian noise to signal\n",
    "        SNR(dB) = 10 * log10(power_signal/power_noise)\n",
    "\n",
    "        @ parameter:\n",
    "            signal: (n_times,)\n",
    "            Desired_SNR_dB: desired SNR in dB\n",
    "        \n",
    "        @ return \n",
    "            signal_noisy: (n_times,)\n",
    "    \"\"\"\n",
    "    \n",
    "    n_times = signal.shape[0]\n",
    "    noise = np.random.normal(loc=0.0, scale=1.0, size=(n_times,))\n",
    "\n",
    "    power_signal = np.dot(abs(signal), abs(signal))/n_times\n",
    "    power_noise = np.dot(abs(noise), abs(noise))/n_times \n",
    "\n",
    "    k = (power_signal * pow(10,(-Desired_SNR_dB/10)))/power_noise # scale factor\n",
    "    noise_new = np.sqrt(k) * noise\n",
    "\n",
    "    signal_noisy = signal + noise_new\n",
    "\n",
    "    return signal_noisy"
   ]
  },
  {
   "cell_type": "markdown",
   "metadata": {},
   "source": [
    "### Gen series "
   ]
  },
  {
   "cell_type": "code",
   "execution_count": null,
   "metadata": {},
   "outputs": [],
   "source": [
    "ts = np.linspace(0,t, ntemp)\n",
    "\n",
    "\n",
    "# generated s1, s2 and s3 signals: ntimes * ntrials * ntemp\n",
    "sigs1, sigs2 = np.empty(shape=(0, ntrials, ntemp)), np.empty(shape=(0, ntrials, ntemp))\n",
    "sigs3 = np.empty(shape=(0, ntrials, ntemp))\n",
    "for timei in range(ntimes):\n",
    "    \n",
    "    if timei % 100 ==0:\n",
    "        print(\"timei = \" + str(timei) + \"/\" + str(ntimes))\n",
    "    \n",
    "    # generated s1, s2 and s3 signals: ntrials * ntemp\n",
    "    sig1, sig2, sig3 = np.empty(shape=[0,ntemp]), np.empty(shape=[0,ntemp]), np.empty(shape=[0,ntemp])\n",
    "    phi1 = normal(loc=np.pi, scale=1.0)\n",
    "    phi2 = normal(loc=np.pi, scale=1.0)\n",
    "    for triali in range(ntrials):\n",
    "        \n",
    "        s1 = np.sin(2 * np.pi * f * ts)\n",
    "        s2 = np.sin(2 * np.pi * f * ts + phi1)\n",
    "        s3 = 2 * np.sin(2 * np.pi * f * ts + phi2)\n",
    "\n",
    "        # add normal distribution noise\n",
    "        s1 = GaussianNoise_SNR(s1, Desired_SNR_dB = Desired_SNR_dB)\n",
    "        s2 = GaussianNoise_SNR(s2, Desired_SNR_dB = Desired_SNR_dB)\n",
    "        s3 = GaussianNoise_SNR(s3, Desired_SNR_dB = Desired_SNR_dB)\n",
    "\n",
    "        # append the time serie of the new trial\n",
    "        sig1 = np.append(sig1, np.expand_dims(s1, axis = 0), axis=0)\n",
    "        sig2 = np.append(sig2, np.expand_dims(s2, axis = 0), axis=0)\n",
    "        sig3 = np.append(sig3, np.expand_dims(s3, axis = 0), axis=0)\n",
    "        \n",
    "        del s1, s2, s3\n",
    "        \n",
    "    # append the time serie of the new trial\n",
    "    sigs1 = np.append(sigs1, np.expand_dims(sig1, axis = 0), axis=0)\n",
    "    sigs2 = np.append(sigs2, np.expand_dims(sig2, axis = 0), axis=0)\n",
    "    sigs3 = np.append(sigs3, np.expand_dims(sig3, axis = 0), axis=0)\n",
    "    \n",
    "    del sig1, sig2, sig3\n",
    "    \n",
    "sigs1_conn, sigs2_conn, sigs3_conn = sigs1, sigs2, sigs3\n",
    "\n",
    "del sigs1, sigs2, sigs3, ts"
   ]
  },
  {
   "cell_type": "markdown",
   "metadata": {},
   "source": [
    "###  An Example"
   ]
  },
  {
   "cell_type": "code",
   "execution_count": null,
   "metadata": {},
   "outputs": [],
   "source": [
    "sigs1_conn.shape\n",
    "\n",
    "#---- plot one trial Example ---#\n",
    "npoints = 125\n",
    "ts = np.linspace(0, t, ntemp)\n",
    "\n",
    "timei = 0\n",
    "\n",
    "fig, ax = plt.subplots()\n",
    "\n",
    "\n",
    "triali = 0\n",
    "plt.subplot(211)\n",
    "plt.plot(ts[0:npoints], sigs1_conn[timei, triali, 0:npoints], 'k', label = 'signal 1') \n",
    "plt.plot(ts[0:npoints], sigs2_conn[timei, triali, 0:npoints], 'b', label = 'signal 2')\n",
    "plt.plot(ts[0:npoints], sigs3_conn[timei, triali, 0:npoints], 'r', label = 'signal 3')\n",
    "\n",
    "title = \"An example of time series without connections\"\n",
    "plt.title(title, size=15)\n",
    "\n",
    "bottom, top = plt.ylim()\n",
    "plt.ylim([bottom, top + (top - bottom)* 0.2])\n",
    "\n",
    "plt.ylabel('trial 1')\n",
    "plt.legend(ncol = 3, loc = 1)\n",
    "\n",
    "plt.gca().set_xticklabels([])\n",
    "\n",
    "\n",
    "triali = 1\n",
    "plt.subplot(212)\n",
    "plt.plot(ts[0:npoints], sigs1_conn[timei, triali, 0:npoints], 'k', label = 'signal 1') \n",
    "plt.plot(ts[0:npoints], sigs2_conn[timei, triali, 0:npoints], 'b', label = 'signal 2')\n",
    "plt.plot(ts[0:npoints], sigs3_conn[timei, triali, 0:npoints], 'r', label = 'signal 3')\n",
    "\n",
    "plt.xlabel('time (s)', size=15)\n",
    "plt.axis('tight')\n",
    "plt.ylabel('trial 2')\n",
    "\n",
    "\n",
    "\n",
    "#plt.show()\n",
    "plt.savefig(os.path.join(savefolder,  \"sin_conn_Example.png.png\"))\n",
    "\n",
    "del npoints, ts, fig, ax, triali, timei"
   ]
  },
  {
   "cell_type": "markdown",
   "metadata": {},
   "source": [
    "### ciCOH "
   ]
  },
  {
   "cell_type": "code",
   "execution_count": null,
   "metadata": {},
   "outputs": [],
   "source": [
    "#-- calc ciCOH for conn ---#\n",
    "sigs1, sigs2, sigs3 = sigs1_conn, sigs2_conn, sigs3_conn \n",
    "\n",
    "ciCOHs_12, ciCOHs_13 = [], []\n",
    "for timei in range(ntimes):\n",
    "    \n",
    "    if timei % 100 ==0:\n",
    "        print(\"timei = \" + str(timei) + \"/\" + str(ntimes))\n",
    "    \n",
    "    sig1, sig2, sig3 = sigs1[timei, :, :], sigs2[timei, :, :], sigs3[timei, :, :]\n",
    "        \n",
    "    # calculate ciCOH\n",
    "    ciCOH_12 = np.mean(ciCoherence_acrosstrials(sig1, sig2))\n",
    "    ciCOH_13 = np.mean(ciCoherence_acrosstrials(sig1, sig3))\n",
    "    ciCOHs_12.append(ciCOH_12)\n",
    "    ciCOHs_13.append(ciCOH_13)\n",
    "        \n",
    "    \n",
    "    del sig1, sig2, sig3, ciCOH_12, ciCOH_13\n",
    "    \n",
    "ciCOHs_conn_sin12, ciCOHs_conn_sin13 = ciCOHs_12, ciCOHs_13\n",
    "del ciCOHs_12, ciCOHs_13, sigs1, sigs2, sigs3"
   ]
  },
  {
   "cell_type": "markdown",
   "metadata": {},
   "source": [
    "### plot ciCOH"
   ]
  },
  {
   "cell_type": "code",
   "execution_count": null,
   "metadata": {},
   "outputs": [],
   "source": [
    "#--- plot ciCOH_conn --- # \n",
    "\n",
    "alpha1 = 0.05\n",
    "alpha2 = 0.01\n",
    "\n",
    "\n",
    "plt.figure()\n",
    "\n",
    "\n",
    "### ciCOHs_12\n",
    "\n",
    "ciCOHs = ciCOHs_conn_sin12\n",
    "ciCOHs = abs(np.array(ciCOHs))\n",
    "\n",
    "# P(ciCOH >v_thred) = 1- alpha\n",
    "v1_thred = np.percentile(abs(ciCOHs), alpha1 * 100)\n",
    "v2_thred = np.percentile(abs(ciCOHs), alpha2 * 100)\n",
    "\n",
    "# Fit a normal distribution to the data:\n",
    "mu, std = norm.fit(abs(ciCOHs))\n",
    "\n",
    "# Plot the histogram \n",
    "plt.subplot(211)\n",
    "plt.hist(ciCOHs, bins=25, density = True, alpha=0.6, color='g')\n",
    "\n",
    "eq1 = r\"\\begin{eqnarray*}\" + \\\n",
    "      r\"\\\\95 \\% > \" + str(np.around(v1_thred, decimals=3)) + \\\n",
    "      r\"\\\\99 \\% > \" + str(np.around(v2_thred, decimals=3)) + \\\n",
    "      r\"\\end{eqnarray*}\"\n",
    "\n",
    "bottom, top = plt.ylim()\n",
    "plt.text(0.2, bottom + (top - bottom) * 0.5, eq1, {'fontsize': 12}, va=\"top\", ha=\"left\")\n",
    "plt.text(0.4, bottom + (top - bottom) * 0.9, r\"s1 and s2\", {'fontsize': 12}, va=\"top\", size=12, weight=\"bold\")\n",
    "plt.xticks([])\n",
    "\n",
    "\n",
    "title = \"Histogram of abs(ciCOH) data\"\n",
    "plt.title(title, size=15)\n",
    "\n",
    "del ciCOHs, mu, std, v1_thred, v2_thred, eq1, bottom, top, title\n",
    "\n",
    "\n",
    "\n",
    "### ciCOHs_13\n",
    "\n",
    "ciCOHs = ciCOHs_conn_sin13\n",
    "ciCOHs = abs(np.array(ciCOHs))\n",
    "\n",
    "# P(ciCOH >v_thred) = 1- alpha\n",
    "v1_thred = np.percentile(abs(ciCOHs), alpha1 * 100)\n",
    "v2_thred = np.percentile(abs(ciCOHs), alpha2 * 100)\n",
    "\n",
    "# Fit a normal distribution to the data:\n",
    "mu, std = norm.fit(abs(ciCOHs))\n",
    "\n",
    "plt.subplot(212)\n",
    "plt.hist(ciCOHs, bins=25, density = True, color = 'g', alpha = 0.6)\n",
    "\n",
    "\n",
    "eq1 = r\"\\begin{eqnarray*}\" + \\\n",
    "      r\"\\\\95 \\% > \" + str(np.around(v1_thred, decimals=3)) + \\\n",
    "      r\"\\\\99 \\% > \" + str(np.around(v2_thred, decimals=3)) + \\\n",
    "      r\"\\end{eqnarray*}\"\n",
    "\n",
    "\n",
    "bottom, top = plt.ylim()\n",
    "\n",
    "\n",
    "plt.text(0.2, bottom + (top - bottom) * 0.5, eq1, {'fontsize': 12}, va=\"top\", ha=\"left\")\n",
    "plt.text(0.4, bottom + (top - bottom) * 0.9, r\"s1 and s3\", {'fontsize': 12}, va=\"top\", size=12, weight=\"bold\")\n",
    "\n",
    "\n",
    "plt.xlabel('ciCOH Values', size=15)\n",
    "plt.text(-0.18, bottom + (top - bottom) * 0.7,'Probability Density', size=15, rotation='vertical')\n",
    "\n",
    "#plt.show()\n",
    "plt.savefig(os.path.join(savefolder,  \"sin_conn_ciCOHDistribution.png\"))\n",
    "\n",
    "del ciCOHs, mu, std, v1_thred, v2_thred, eq1, bottom, top"
   ]
  },
  {
   "cell_type": "markdown",
   "metadata": {},
   "source": [
    "## Volume Conduction"
   ]
  },
  {
   "cell_type": "markdown",
   "metadata": {},
   "source": [
    "### no Conn"
   ]
  },
  {
   "cell_type": "code",
   "execution_count": null,
   "metadata": {},
   "outputs": [],
   "source": [
    "sigs1, sigs2 = np.zeros((ntimes, ntrials, ntemp)), np.empty((ntimes, ntrials, ntemp))\n",
    "\n",
    "for timei in range(ntimes):\n",
    "\n",
    "    if timei  % 100 ==0:\n",
    "        print(\"run the sinc simulation at timei = \" + str(timei) + \"/\" + str(ntimes))\n",
    "\n",
    "    # generate 2 sinusoidal time series without connection sig1_noConn, sig2_noConn: ntrials * ntemp\n",
    "    sig1, sig2 = gen_series_noconnection_sin(ntrials = ntrials, ntemp = ntemp, f = f, t = t, \n",
    "                                         Desired_SNR_dB = Desired_SNR_dB)\n",
    "    \n",
    "    sigs1[timei, :, :] = sig1\n",
    "    sigs2[timei, :, :] = sig2\n",
    "    \n",
    "    del sig1, sig2\n",
    "\n",
    "sigs1_noconn, sigs2_noconn = sigs1, sigs2\n",
    "del sigs1, sigs2"
   ]
  },
  {
   "cell_type": "code",
   "execution_count": null,
   "metadata": {},
   "outputs": [],
   "source": [
    "alpha = 0.9\n",
    "sigs1_new = sigs1_noconn  + sigs2_noconn * alpha\n",
    "sigs2_new = sigs2_noconn  + sigs1_noconn * alpha"
   ]
  },
  {
   "cell_type": "code",
   "execution_count": null,
   "metadata": {},
   "outputs": [],
   "source": [
    "x, y = x_noConn[timei, :, :], y_noConn[timei, :, :] \n",
    "\n",
    "x_new, y_new = x[:, 201:500] + alpha * y[:, 1:300],  y[:, 201:500] + alpha * x{:, 1:300}\n",
    "\n",
    "x.shape"
   ]
  },
  {
   "cell_type": "code",
   "execution_count": null,
   "metadata": {},
   "outputs": [],
   "source": [
    "### no connection ####\n",
    "\n",
    "x_noConn, y_noConn = sigs1_noconn, sigs2_noconn\n",
    "ciCOH_ori, ciCOH_new = [], []\n",
    "for timei in range(x_noConn.shape[0]):\n",
    "\n",
    "    x, y = x_noConn[timei, :, :], y_noConn[timei, :, :] \n",
    "    x_new, y_new = x[:, 201:500] + alpha * y[:, 1:300],  y[:, 201:500] + alpha * x[:, 1:300]\n",
    "    x, y = x[:, 201:500], y[:, 201:500]\n",
    "    \n",
    "    # calculate ciCOH\n",
    "    ciCOH_ori = np.append(ciCOH_ori, np.mean(ciCoherence_acrosstrials(x, y)))\n",
    "    ciCOH_new = np.append(ciCOH_new, np.mean(ciCoherence_acrosstrials(x_new, y_new)))\n",
    "\n",
    "    del x,  y, x_new, y_new\n",
    "    \n",
    "ciCOH_noConn_ori, ciCOH_noConn_new = ciCOH_ori, ciCOH_new\n",
    "del ciCOH_ori, ciCOH_new"
   ]
  },
  {
   "cell_type": "code",
   "execution_count": null,
   "metadata": {},
   "outputs": [],
   "source": [
    "from scipy.stats import norm\n",
    "import matplotlib.pyplot as plt\n",
    "plt.rc('text', usetex=False)\n",
    "\n",
    "fig, ax = plt.subplots()\n",
    "plt.plot(np.abs(ciCOH_noConn_ori), np.abs(ciCOH_noConn_new), '.')\n",
    "\n",
    "\n",
    "ax.set(xlabel='x and y', ylabel='xnew and ynew',\n",
    "       title='ciCOH values')\n",
    "\n",
    "plt.savefig(os.path.join(savefolder,  \"volume_noconn.png\"))"
   ]
  },
  {
   "cell_type": "markdown",
   "metadata": {},
   "source": [
    "### Conn"
   ]
  },
  {
   "cell_type": "code",
   "execution_count": null,
   "metadata": {},
   "outputs": [],
   "source": [
    "### connection ####\n",
    "\n",
    "x_Conn, y_Conn = sigs1_sin, sigs2_sin\n",
    "ciCOH_ori, ciCOH_new = [], []\n",
    "for timei in range(x_Conn.shape[0]):\n",
    "\n",
    "    x, y = x_Conn[timei, :, :], y_Conn[timei, :, :] \n",
    "    x_new, y_new = x + alpha * y,  y + alpha * x\n",
    "\n",
    "    # calculate ciCOH\n",
    "    ciCOH_ori = np.append(ciCOH_ori, np.mean(ciCoherence_acrosstrials(x, y)))\n",
    "    ciCOH_new = np.append(ciCOH_new, np.mean(ciCoherence_acrosstrials(x_new, y_new)))\n",
    "\n",
    "    del x,  y, x_new, y_new\n",
    "    \n",
    "ciCOH_Conn_ori, ciCOH_Conn_new = ciCOH_ori, ciCOH_new\n",
    "del ciCOH_ori, ciCOH_new"
   ]
  },
  {
   "cell_type": "markdown",
   "metadata": {},
   "source": [
    "### plot"
   ]
  },
  {
   "cell_type": "code",
   "execution_count": null,
   "metadata": {},
   "outputs": [],
   "source": [
    "ax"
   ]
  },
  {
   "cell_type": "code",
   "execution_count": null,
   "metadata": {},
   "outputs": [],
   "source": [
    "from scipy.stats import norm\n",
    "import matplotlib.pyplot as plt\n",
    "\n",
    "plt.plot(ciCOH_Conn_ori, ciCOH_Conn_new, '.')\n",
    "plt.xlabel('ciCOH values between two time series with no connections')\n",
    "plt.ylabel('ciCOH values between two new generated time series')\n",
    "\n",
    "plt.savefig(os.path.join(savefolder,  \"volume_conn.png\"))"
   ]
  }
 ],
 "metadata": {
  "kernelspec": {
   "display_name": "Python 3",
   "language": "python",
   "name": "python3"
  },
  "language_info": {
   "codemirror_mode": {
    "name": "ipython",
    "version": 3
   },
   "file_extension": ".py",
   "mimetype": "text/x-python",
   "name": "python",
   "nbconvert_exporter": "python",
   "pygments_lexer": "ipython3",
   "version": "3.7.3"
  },
  "toc": {
   "base_numbering": 1,
   "nav_menu": {},
   "number_sections": false,
   "sideBar": true,
   "skip_h1_title": true,
   "title_cell": "",
   "title_sidebar": "",
   "toc_cell": false,
   "toc_position": {
    "height": "calc(100% - 180px)",
    "left": "10px",
    "top": "150px",
    "width": "312.969px"
   },
   "toc_section_display": true,
   "toc_window_display": true
  }
 },
 "nbformat": 4,
 "nbformat_minor": 2
}
