{
 "cells": [
  {
   "cell_type": "markdown",
   "metadata": {
    "toc": true
   },
   "source": [
    "<h1>Table of Contents<span class=\"tocSkip\"></span></h1>\n",
    "<div class=\"toc\"><ul class=\"toc-item\"><li><span><a href=\"#Packages-Import\" data-toc-modified-id=\"Packages-Import-1\">Packages Import</a></span></li><li><span><a href=\"#ciCOH-threshold-with-Normal-Distribution\" data-toc-modified-id=\"ciCOH-threshold-with-Normal-Distribution-2\">ciCOH threshold with Normal Distribution</a></span></li></ul></div>"
   ]
  },
  {
   "cell_type": "markdown",
   "metadata": {},
   "source": [
    "## Packages Import"
   ]
  },
  {
   "cell_type": "code",
   "execution_count": 2,
   "metadata": {},
   "outputs": [],
   "source": [
    "import os, sys\n",
    "import numpy as np\n",
    "from numpy.random import normal\n",
    "from scipy.stats import norm\n",
    "import matplotlib.pyplot as plt"
   ]
  },
  {
   "cell_type": "code",
   "execution_count": 3,
   "metadata": {},
   "outputs": [
    {
     "name": "stdout",
     "output_type": "stream",
     "text": [
      "importing Jupyter notebook from /Users/linglingyang/yang7003@umn.edu/NMRC_umn/Projects/FCAnalysis/exp/code/connAnalyTool/synchronization_indices.ipynb\n"
     ]
    }
   ],
   "source": [
    "# extract the exp folder path\n",
    "currfolder = os.getcwd()\n",
    "codefolder = currfolder[0 : currfolder.find('code')+len('code')]\n",
    "\n",
    "# add path the exp folder\n",
    "sys.path.append(codefolder)\n",
    "\n",
    "# import_nbmodule used for import package in .ipynb\n",
    "import import_nbmodule\n",
    "\n",
    "# import ciCoherence_overtime in connAnalyTool/synchronization_indices.ipynb\n",
    "from connAnalyTool.synchronization_indices import ciCoherence_acrosstrials"
   ]
  },
  {
   "cell_type": "markdown",
   "metadata": {},
   "source": [
    "##  ciCOH threshold with Normal Distribution"
   ]
  },
  {
   "cell_type": "code",
   "execution_count": 4,
   "metadata": {},
   "outputs": [],
   "source": [
    "def threshold_ciCOH_normal(ntimes, ntrials, ntemp, alpha = 0.05, ploton = True):\n",
    "    \"\"\"\n",
    "        using normal distribution to simulated the no connections and identify the threshold for has connection\n",
    "        \n",
    "        @paras:\n",
    "            ntimes: the repeated time (can be set nchns * nchns)\n",
    "            ntrials: the number of trials \n",
    "            ntemp: the length of the temporal data\n",
    "            alpha: the critirial (5%, or 1%)\n",
    "            ploton: show a figure if True\n",
    "        \n",
    "        @return:\n",
    "            threshold\n",
    "    \"\"\"\n",
    "\n",
    "    ## generate time series with Normal Distribution (no connection)\n",
    "    mu, sigma = 0, 1\n",
    "    sigs1, sigs2 = normal(mu, sigma, (ntimes, ntrials, ntemp)), normal(mu, sigma, (ntimes, ntrials, ntemp)) \n",
    "\n",
    "\n",
    "    ## calculate the ciCOH of the simulated time series\n",
    "    ciCOHs = []\n",
    "    for timei in range(ntimes):\n",
    "\n",
    "        sig1, sig2 = sigs1[timei, :, :], sigs2[timei, :, :]\n",
    "\n",
    "        # calculate ciCOH\n",
    "        ciCOH = np.mean(ciCoherence_acrosstrials(sig1, sig2))\n",
    "        ciCOHs.append(ciCOH)\n",
    "\n",
    "        del ciCOH, sig1, sig2 \n",
    "\n",
    "\n",
    "    ## return the threshold\n",
    "    # Fit a normal distribution to the data:\n",
    "    mu, std = norm.fit(ciCOHs)\n",
    "\n",
    "    if alpha == 0.05:\n",
    "        threshold = np.around(mu + 2*std, decimals=4)\n",
    "    if alpha == 0.01:\n",
    "        threshold = np.around(mu + 3*std, decimals=4)\n",
    "\n",
    "        \n",
    "    ## plot the ciCOH distribution of the simulated data \n",
    "    if ploton:\n",
    "        plt.rc('text', usetex=True)\n",
    "\n",
    "        # Plot the histogram.\n",
    "        plt.hist(ciCOHs, bins=25, density=True, alpha=0.6, color='g')\n",
    "\n",
    "        # Plot the PDF.\n",
    "        xmin, xmax = plt.xlim()\n",
    "        x = np.linspace(xmin, xmax, 100)\n",
    "        p = norm.pdf(x, mu, std)\n",
    "        plt.plot(x, p, 'k', linewidth=2)\n",
    "\n",
    "\n",
    "        # plot the 2*std lines\n",
    "        plt.plot([mu + 2 * std, mu + 2 * std], np.array(plt.ylim())/2, 'b--', \n",
    "                 [mu - 2 * std, mu - 2 * std], np.array(plt.ylim())/2, 'b--')\n",
    "\n",
    "        # plot the 3*std lines\n",
    "        plt.plot([mu + 3 * std, mu + 3 * std], np.array(plt.ylim())/2, 'k--', \n",
    "                 [mu - 3 * std, mu - 3 * std], np.array(plt.ylim())/2, 'k--')\n",
    "\n",
    "\n",
    "        eq1 = r\"\\begin{eqnarray*}\" + \\\n",
    "              r\"\\mu = \" + str(np.around(mu, decimals=2)) + \"\\\\\"\\\n",
    "              r\"\\std = \" + str(np.around(std, decimals=4)) + \"\\\\\"\\\n",
    "              r\"\\95 \\%= \" + str(np.around(mu + 2*std, decimals=4)) + \"\\\\\"\\\n",
    "              r\"\\99 \\%= \" + str(np.around(mu + 3*std, decimals=4)) +\\\n",
    "              r\"\\end{eqnarray*}\"\n",
    "\n",
    "        ymin, ymax = plt.ylim()\n",
    "        plt.text(0.008, (ymin + ymax*3)/4, eq1, {'fontsize': 12}, va=\"top\", ha=\"left\")\n",
    "\n",
    "        title = \"Probability distribution fit of ciCOH data\"\n",
    "        plt.title(title, size=15)\n",
    "\n",
    "        plt.show()\n",
    "    \n",
    "    return threshold"
   ]
  },
  {
   "cell_type": "code",
   "execution_count": 20,
   "metadata": {},
   "outputs": [
    {
     "data": {
      "image/png": "[encoded data removed]",
      "text/plain": [
       "<Figure size 432x288 with 1 Axes>"
      ]
     },
     "metadata": {
      "needs_background": "light"
     },
     "output_type": "display_data"
    }
   ],
   "source": [
    "if __name__ == '__main__':\n",
    "    threshold = threshold_ciCOH_normal(ntimes=1000, ntrials = 93, ntemp = 250, ploton = True )"
   ]
  },
  {
   "cell_type": "code",
   "execution_count": 6,
   "metadata": {},
   "outputs": [
    {
     "data": {
      "image/png": "[encoded data removed]",
      "text/plain": [
       "<Figure size 432x288 with 1 Axes>"
      ]
     },
     "metadata": {
      "needs_background": "light"
     },
     "output_type": "display_data"
    }
   ],
   "source": [
    "threshold = threshold_ciCOH_normal(ntimes=1000, ntrials = 26, ntemp = 250, ploton = True )"
   ]
  }
 ],
 "metadata": {
  "kernelspec": {
   "display_name": "Python 3",
   "language": "python",
   "name": "python3"
  },
  "language_info": {
   "codemirror_mode": {
    "name": "ipython",
    "version": 3
   },
   "file_extension": ".py",
   "mimetype": "text/x-python",
   "name": "python",
   "nbconvert_exporter": "python",
   "pygments_lexer": "ipython3",
   "version": "3.6.10"
  },
  "toc": {
   "base_numbering": 1,
   "nav_menu": {},
   "number_sections": false,
   "sideBar": true,
   "skip_h1_title": false,
   "title_cell": "Table of Contents",
   "title_sidebar": "Contents",
   "toc_cell": true,
   "toc_position": {
    "height": "calc(100% - 180px)",
    "left": "10px",
    "top": "150px",
    "width": "384px"
   },
   "toc_section_display": true,
   "toc_window_display": true
  }
 },
 "nbformat": 4,
 "nbformat_minor": 4
}
