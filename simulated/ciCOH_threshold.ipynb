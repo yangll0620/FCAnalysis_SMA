{
 "cells": [
  {
   "cell_type": "markdown",
   "metadata": {
    "toc": true
   },
   "source": [
    "<h1>Table of Contents<span class=\"tocSkip\"></span></h1>\n",
    "<div class=\"toc\"><ul class=\"toc-item\"><li><span><a href=\"#Packages-Import\" data-toc-modified-id=\"Packages-Import-1\">Packages Import</a></span></li><li><span><a href=\"#plot-ciCOH-distributions\" data-toc-modified-id=\"plot-ciCOH-distributions-2\">plot ciCOH distributions</a></span></li><li><span><a href=\"#identify-threshold\" data-toc-modified-id=\"identify-threshold-3\">identify threshold</a></span><ul class=\"toc-item\"><li><span><a href=\"#sinu-func\" data-toc-modified-id=\"sinu-func-3.1\">sinu func</a></span></li><li><span><a href=\"#Normal-Distribution\" data-toc-modified-id=\"Normal-Distribution-3.2\">Normal Distribution</a></span></li></ul></li><li><span><a href=\"#Test-Part\" data-toc-modified-id=\"Test-Part-4\">Test Part</a></span></li></ul></div>"
   ]
  },
  {
   "cell_type": "markdown",
   "metadata": {},
   "source": [
    "## Packages Import"
   ]
  },
  {
   "cell_type": "code",
   "execution_count": null,
   "metadata": {},
   "outputs": [],
   "source": [
    "import os, sys\n",
    "import numpy as np\n",
    "from numpy.random import normal\n",
    "from scipy import stats\n",
    "from scipy.stats import norm\n",
    "import matplotlib.pyplot as plt\n",
    "plt.rc('text', usetex = True)"
   ]
  },
  {
   "cell_type": "code",
   "execution_count": null,
   "metadata": {},
   "outputs": [],
   "source": [
    "# extract the exp folder path\n",
    "currfolder = os.getcwd()\n",
    "codefolder = currfolder[0 : currfolder.find('code')+len('code')]\n",
    "\n",
    "# add path the exp folder\n",
    "sys.path.append(codefolder)\n",
    "\n",
    "# import_nbmodule used for import package in .ipynb\n",
    "import import_nbmodule\n",
    "\n",
    "\n",
    "from simulated.simulated_timeseries import gen_ciCOH_population_sin"
   ]
  },
  {
   "cell_type": "markdown",
   "metadata": {},
   "source": [
    "## plot ciCOH distributions"
   ]
  },
  {
   "cell_type": "code",
   "execution_count": null,
   "metadata": {
    "code_folding": []
   },
   "outputs": [],
   "source": [
    "def _plot_ciCOH_distributions(ciCOHs, text_title = \"ciCOH distribution\"):\n",
    "    \"\"\"\n",
    "    \n",
    "        inputs:\n",
    "            ciCOHs: a vector of ciCOH values (ntimes, )\n",
    "    \"\"\"\n",
    "    \n",
    "    \n",
    "\n",
    "    # Plot the histogram.\n",
    "    plt.hist(ciCOHs, bins=10, density=True, alpha=0.6, color='g')\n",
    "\n",
    "    # Fit a normal distribution to the data:\n",
    "    mu, std = norm.fit(ciCOHs)\n",
    "\n",
    "    # Plot the PDF.\n",
    "    xmin, xmax = plt.xlim()\n",
    "    x = np.linspace(xmin, xmax, 100)\n",
    "    p = norm.pdf(x, mu, std)\n",
    "    plt.plot(x, p, 'k', linewidth=2)\n",
    "\n",
    "\n",
    "    # lot the 2*std lines\n",
    "    plt.plot([mu + 2 * std, mu + 2 * std], np.array(plt.ylim())/2, 'b--', \n",
    "             [mu - 2 * std, mu - 2 * std], np.array(plt.ylim())/2, 'b--')\n",
    "\n",
    "    # plot the 3*std lines\n",
    "    plt.plot([mu + 3 * std, mu + 3 * std], np.array(plt.ylim())/2, 'k--', \n",
    "             [mu - 3 * std, mu - 3 * std], np.array(plt.ylim())/2, 'k--')\n",
    "\n",
    "\n",
    "\n",
    "    \n",
    "    # Plot statistical analysis:  mu, std and 95% \n",
    "    \n",
    "    # the content of statistical analysis text\n",
    "    eq1 = r\"\\begin{eqnarray*}\" + \\\n",
    "      r\"\\mu = \" + str(np.around(mu, decimals=2)) + \"\\\\\"\\\n",
    "      r\"\\std = \" + str(np.around(std, decimals=4)) + \"\\\\\"\\\n",
    "      r\"\\95 \\%= \" + str(np.around(mu + 2*std, decimals=4)) + \"\\\\\"\\\n",
    "      r\"\\99 \\%= \" + str(np.around(mu + 3*std, decimals=4)) +\\\n",
    "      r\"\\end{eqnarray*}\"\n",
    "    \n",
    "    # the plot position of mu, std, and 95% text\n",
    "    ymin, ymax = plt.ylim()\n",
    "    xmin, xmax = plt.xlim()\n",
    "    pos_x = xmin + (xmax - xmin)* 4/5\n",
    "    pos_y = ymin + (ymax -ymin) * 4/5\n",
    "    plt.text(pos_x, pos_y, eq1, {'fontsize': 12}, va=\"top\", ha=\"left\")\n",
    "    \n",
    "    \n",
    "    # Plot title\n",
    "    plt.title(text_title)\n",
    "\n",
    "    \n",
    "    plt.show()"
   ]
  },
  {
   "cell_type": "markdown",
   "metadata": {},
   "source": [
    "## identify threshold"
   ]
  },
  {
   "cell_type": "markdown",
   "metadata": {},
   "source": [
    "###  sinu func"
   ]
  },
  {
   "cell_type": "code",
   "execution_count": null,
   "metadata": {
    "code_folding": []
   },
   "outputs": [],
   "source": [
    "def threshold_ciCOH_sin(ntimes, ntrials, ntemp, f, t = 1, alpha = 0.05, ploton = True):\n",
    "    \n",
    "        \"\"\"\n",
    "        using sinc function to simulated the no connections and identify the threshold for has connection\n",
    "        \n",
    "        @paras:\n",
    "            ntimes: the repeated time (can be set nchns * nchns)\n",
    "            \n",
    "            ntrials: the number of trials \n",
    "            \n",
    "            ntemp: the length of the temporal data\n",
    "            \n",
    "            f: the frequency of the two time series (Hz)\n",
    "            \n",
    "            t: the total time duration for the time series (default 1s)\n",
    "            \n",
    "            alpha: the critirial (5%, or 1%)\n",
    "            \n",
    "            ploton: show a figure if True\n",
    "        \n",
    "        @return:\n",
    "            threshold: the ciCOH threshold value (a scalar)\n",
    "            \n",
    "            \n",
    "        Example Usage:\n",
    "        \n",
    "            thres = threshold_ciCOH_sin(ntimes = 1000, ntrials = 100, ntemp = 500, f = 30, t = 1, alpha = 0.01, ploton = True)\n",
    "            \n",
    "        \"\"\"\n",
    "        \n",
    "        print(\"identifying the ciCOH threshold using sinc.....\")\n",
    "        \n",
    "        # generate the ciCOH population \n",
    "        ciCOHs = gen_ciCOH_population_sin(ntimes = ntimes, ntrials = ntrials, ntemp = ntemp, f = f, t = t, Desired_SNR_dB = 20)\n",
    "        \n",
    "        \n",
    "        \n",
    "        ### Identify the threshold\n",
    "        \n",
    "        mu, std = norm.fit(ciCOHs) # Fit a normal distribution to the data\n",
    "        if alpha == 0.05:\n",
    "            threshold = np.around(mu + 2*std, decimals=2)\n",
    "        \n",
    "        elif alpha == 0.01:\n",
    "            threshold = np.around(mu + 3*std, decimals=2)\n",
    "\n",
    "        \n",
    "        \n",
    "        \n",
    "        ### plot the ciCOH distribution of ciCOHs of the simulated data \n",
    "        if ploton:\n",
    "            text_title = \"ntrials = \" +  str(ntrials) + \", ntemp = \" + str(ntemp) +\\\n",
    "                        \",f = \"  + str(f) + \"Hz, ntimes = \" + str(ntimes)\n",
    "            \n",
    "            _plot_ciCOH_distributions(ciCOHs, text_title = text_title)\n",
    "            \n",
    "            \n",
    "    \n",
    "        print(\"threshold = \" + str(threshold) + \", mu = \" + str(mu) + \", std = \" + str(std))\n",
    "            \n",
    "            \n",
    "        return threshold, mu, std"
   ]
  },
  {
   "cell_type": "code",
   "execution_count": null,
   "metadata": {
    "code_folding": []
   },
   "outputs": [],
   "source": [
    "## Multiple comparison correction\n",
    "def corr_threshold_ciCOH_sin_BH(ciCOHs_actual, ntimes, ntrials, ntemp, false_rate = 0.25, mu = None, std = None, f = 10, t = 1):\n",
    "    \"\"\"\n",
    "    \n",
    "        control the false discovery reate using Benjamini-Hochberg procedure\n",
    "        \n",
    "        \n",
    "        @paras:\n",
    "            \n",
    "            ciCOHs_actual:the ciCOH values (nvalues, )\n",
    "            \n",
    "            ntimes: the repeated time (can be set nchns * nchns)\n",
    "            \n",
    "            ntrials: the number of trials \n",
    "            \n",
    "            ntemp: the length of the temporal data\n",
    "            \n",
    "            mu, std: the mean and std values of the null hypothesis no connection probability distribution\n",
    "            \n",
    "            f: the frequency of the two time series (Hz)\n",
    "            \n",
    "            t: the total time duration for the time series (default 1s)\n",
    "            \n",
    "            \n",
    "            \n",
    "        ref:\n",
    "            http://www.biostathandbook.com/multiplecomparisons.html\n",
    "        \n",
    "    \"\"\"\n",
    "    \n",
    "            \n",
    "    print(\"identifying the ciCOH corrected threshold using sinc and Benjamini-Hochberg procedure....\")\n",
    "\n",
    "    if mu is None or std is None:\n",
    "    \n",
    "        # generate the ciCOH population \n",
    "        ciCOHs_simulated = gen_ciCOH_population_sin(ntimes = ntimes, ntrials = ntrials, ntemp= ntemp, f = f, t = 1, Desired_SNR_dB = 20)\n",
    "\n",
    "        # evaluate the null hypothesis distribution mean and std using Normal distribution\n",
    "        mu, std = norm.fit(ciCOHs_simulated)\n",
    "\n",
    "    \n",
    "    \n",
    "    ### BH corrected\n",
    "    \n",
    "    ciCOHs_actual = abs(ciCOHs_actual)\n",
    "    \n",
    "    # calculate the pvalue for each abs(ciCOH) value\n",
    "    pvalues = stats.norm.sf(ciCOHs_actual, loc = mu, scale = std) * 2\n",
    "    \n",
    "    # sort the pvalues\n",
    "    ind = np.argsort(pvalues)\n",
    "    pvalues_sorted = pvalues[ind]\n",
    "    ciCOHs_sorted = ciCOHs_actual[ind];\n",
    "    \n",
    "    # generate the Benjamini-Hochberg critical values\n",
    "    criticalvalue_bh = np.array([*range(1, len(pvalues) + 1, 1)])/len(pvalues) * false_rate\n",
    "\n",
    "    # find the index which has the largest P value what pvalue < criticalvalue_bh\n",
    "    for i in range(len(pvalues_sorted)):\n",
    "        if(pvalues_sorted[i] >= criticalvalue_bh[i]):\n",
    "            break\n",
    "    \n",
    "    \n",
    "    \n",
    "    corrected_threshold = ciCOHs_sorted[i-1]\n",
    "    \n",
    "    print(\"corrected threshold = \" + str(corrected_threshold))\n",
    "    \n",
    "    return corrected_threshold, mu, std\n",
    "        "
   ]
  },
  {
   "cell_type": "markdown",
   "metadata": {},
   "source": [
    "###  Normal Distribution"
   ]
  },
  {
   "cell_type": "code",
   "execution_count": null,
   "metadata": {
    "code_folding": [
     0
    ]
   },
   "outputs": [],
   "source": [
    "def threshold_ciCOH_normal(ntimes, ntrials, ntemp, alpha = 0.05, ploton = True):\n",
    "    \"\"\"\n",
    "        using normal distribution to simulated the no connections and identify the threshold for has connection\n",
    "        \n",
    "        @paras:\n",
    "            ntimes: the repeated time (can be set nchns * nchns)\n",
    "            ntrials: the number of trials \n",
    "            ntemp: the length of the temporal data\n",
    "            alpha: the critirial (5%, or 1%)\n",
    "            ploton: show a figure if True\n",
    "        \n",
    "        @return:\n",
    "            threshold\n",
    "    \"\"\"\n",
    "\n",
    "    ## generate time series with Normal Distribution (no connection)\n",
    "    mu, sigma = 0, 1\n",
    "    sigs1, sigs2 = normal(mu, sigma, (ntimes, ntrials, ntemp)), normal(mu, sigma, (ntimes, ntrials, ntemp)) \n",
    "\n",
    "\n",
    "    ## calculate the ciCOH of the simulated time series\n",
    "    ciCOHs = []\n",
    "    for timei in range(ntimes):\n",
    "\n",
    "        sig1, sig2 = sigs1[timei, :, :], sigs2[timei, :, :]\n",
    "\n",
    "        # calculate ciCOH\n",
    "        ciCOH = np.mean(ciCoherence_acrosstrials(sig1, sig2))\n",
    "        ciCOHs.append(ciCOH)\n",
    "\n",
    "        del ciCOH, sig1, sig2 \n",
    "\n",
    "\n",
    "    ## return the threshold\n",
    "    # Fit a normal distribution to the data:\n",
    "    mu, std = norm.fit(ciCOHs)\n",
    "\n",
    "    if alpha == 0.05:\n",
    "        threshold = np.around(mu + 2*std, decimals=4)\n",
    "    if alpha == 0.01:\n",
    "        threshold = np.around(mu + 3*std, decimals=4)\n",
    "\n",
    "        \n",
    "    ## plot the ciCOH distribution of the simulated data \n",
    "    if ploton:\n",
    "        _plot_ciCOH_distributions(ciCOHs)\n",
    "        \n",
    "    return threshold"
   ]
  },
  {
   "cell_type": "markdown",
   "metadata": {},
   "source": [
    "## Test Part"
   ]
  },
  {
   "cell_type": "code",
   "execution_count": null,
   "metadata": {},
   "outputs": [],
   "source": [
    "if False:\n",
    "    thres = threshold_ciCOH_sin(ntimes = 1000, ntrials = 100, ntemp = 500, f = 20, t = 1, alpha = 0.05, ploton = True)\n",
    "    \n",
    "    \n",
    "    print(thres)"
   ]
  }
 ],
 "metadata": {
  "kernelspec": {
   "display_name": "Python 3",
   "language": "python",
   "name": "python3"
  },
  "language_info": {
   "codemirror_mode": {
    "name": "ipython",
    "version": 3
   },
   "file_extension": ".py",
   "mimetype": "text/x-python",
   "name": "python",
   "nbconvert_exporter": "python",
   "pygments_lexer": "ipython3",
   "version": "3.8.5"
  },
  "toc": {
   "base_numbering": 1,
   "nav_menu": {},
   "number_sections": false,
   "sideBar": true,
   "skip_h1_title": false,
   "title_cell": "Table of Contents",
   "title_sidebar": "Contents",
   "toc_cell": true,
   "toc_position": {
    "height": "calc(100% - 180px)",
    "left": "10px",
    "top": "150px",
    "width": "383.949px"
   },
   "toc_section_display": true,
   "toc_window_display": true
  }
 },
 "nbformat": 4,
 "nbformat_minor": 4
}
