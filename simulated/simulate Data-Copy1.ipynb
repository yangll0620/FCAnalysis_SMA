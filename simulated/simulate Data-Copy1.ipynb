{
 "cells": [
  {
   "cell_type": "markdown",
   "metadata": {},
   "source": [
    "# Functionality\n",
    "\n",
    "Simulated data for validation the usage of ciCOH\n",
    "\n",
    "* using Samplings from normal distributions for no connections\n",
    "\n",
    "* using sinusoidal signals for connections\n",
    "\n",
    "* using a linear mix equation for volume conduction"
   ]
  },
  {
   "cell_type": "markdown",
   "metadata": {},
   "source": [
    "## Import Packages"
   ]
  },
  {
   "cell_type": "code",
   "execution_count": 3,
   "metadata": {},
   "outputs": [],
   "source": [
    "import os, sys\n",
    "import scipy.io as sio\n",
    "import glob\n",
    "import numpy as np\n",
    "import matplotlib.pyplot as plt\n",
    "import pickle \n",
    "import random\n",
    "import pandas as pd\n",
    "%matplotlib inline\n",
    "\n",
    "from scipy.stats import norm"
   ]
  },
  {
   "cell_type": "code",
   "execution_count": 4,
   "metadata": {},
   "outputs": [
    {
     "name": "stdout",
     "output_type": "stream",
     "text": [
      "importing Jupyter notebook from /home/lingling/Insync/yang7003@umn.edu/NMRC_umn/Projects/FCAnalysis/exp/code/simulated/simulated_timeseries.ipynb\n",
      "importing Jupyter notebook from /home/lingling/Insync/yang7003@umn.edu/NMRC_umn/Projects/FCAnalysis/exp/code/simulated/addnoise.ipynb\n"
     ]
    }
   ],
   "source": [
    "# extract the exp folder path\n",
    "currfolder = os.getcwd()\n",
    "codefolder = currfolder[0 : currfolder.find('code')+len('code')]\n",
    "\n",
    "# add path the exp folder\n",
    "sys.path.append(codefolder)\n",
    "\n",
    "# import_nbmodule used for import package in .ipynb\n",
    "import import_nbmodule\n",
    "\n",
    "# import util/folder_extract.pynb \n",
    "from util.folder_extract import exp_subfolders, code_corresfolder\n",
    "\n",
    "# import ciCoherence_overtime in connAnalyTool/synchronization_indices.ipynb\n",
    "from connAnalyTool.synchronization_indices import ciCoherence_acrosstrials\n",
    "from connAnalyTool.synchronization_indices import ciCoherence_overtime\n",
    "\n",
    "from simulated.simulated_timeseries import gen_series_noconnection_sin, gen_ciCOH_population_sin"
   ]
  },
  {
   "cell_type": "markdown",
   "metadata": {},
   "source": [
    "## Preparation"
   ]
  },
  {
   "cell_type": "markdown",
   "metadata": {},
   "source": [
    "### exp subfolders & code_corresfolder"
   ]
  },
  {
   "cell_type": "code",
   "execution_count": null,
   "metadata": {},
   "outputs": [],
   "source": [
    "_, _, pipelinefolder, _= exp_subfolders()"
   ]
  },
  {
   "cell_type": "code",
   "execution_count": null,
   "metadata": {},
   "outputs": [],
   "source": [
    "%%javascript\n",
    "IPython.notebook.kernel.execute('nb_name = \"' + IPython.notebook.notebook_name + '\"')"
   ]
  },
  {
   "cell_type": "code",
   "execution_count": null,
   "metadata": {},
   "outputs": [],
   "source": [
    "nb_name = nb_name[0: nb_name.find('.ipynb')]\n",
    "\n",
    "# corresfolder\n",
    "corresfolder, correparentfolder = code_corresfolder(os.getcwd(), nb_name)"
   ]
  },
  {
   "cell_type": "markdown",
   "metadata": {},
   "source": [
    "### Global parameters"
   ]
  },
  {
   "cell_type": "code",
   "execution_count": null,
   "metadata": {},
   "outputs": [],
   "source": [
    "ntemp, ntrials = 500, 93\n",
    "\n",
    "# repeat ntimes\n",
    "ntimes = 1000\n",
    "\n",
    "f = 30\n",
    "\n",
    "t = 1"
   ]
  },
  {
   "cell_type": "markdown",
   "metadata": {},
   "source": [
    "### Save setup"
   ]
  },
  {
   "cell_type": "code",
   "execution_count": null,
   "metadata": {},
   "outputs": [],
   "source": [
    "savefolder = corresfolder"
   ]
  },
  {
   "cell_type": "markdown",
   "metadata": {},
   "source": [
    "##  Simulated Data with Normal Distribution (no connection)"
   ]
  },
  {
   "cell_type": "code",
   "execution_count": null,
   "metadata": {},
   "outputs": [],
   "source": [
    "mu, sigma = 0, 1"
   ]
  },
  {
   "cell_type": "markdown",
   "metadata": {},
   "source": [
    "### A trial Example"
   ]
  },
  {
   "cell_type": "code",
   "execution_count": null,
   "metadata": {},
   "outputs": [],
   "source": [
    "import matplotlib.pyplot as plt\n",
    "from numpy.random import normal\n",
    "\n",
    "# generated s signals: \n",
    "sig = normal(mu, sigma, (ntemp,))\n",
    "    \n",
    "# plot\n",
    "plt.rc('text', usetex=True)\n",
    "\n",
    "plt.plot(sig)\n",
    "\n",
    "title = \"One trial of generated time series from normal distribution\"\n",
    "plt.title(title, size=15)\n",
    "\n",
    "#plt.show()\n",
    "plt.savefig(os.path.join(savefolder,  \"normal_oneTrialExample.png\"))\n",
    "             \n",
    "sig_normal = sig"
   ]
  },
  {
   "cell_type": "markdown",
   "metadata": {},
   "source": [
    "### generate time series "
   ]
  },
  {
   "cell_type": "code",
   "execution_count": null,
   "metadata": {},
   "outputs": [],
   "source": [
    "sigs1_normal, sigs2_normal = normal(mu, sigma, (ntimes, ntrials, ntemp)), normal(mu, sigma, (ntimes, ntrials, ntemp)) "
   ]
  },
  {
   "cell_type": "markdown",
   "metadata": {},
   "source": [
    "### Calc ciCOH"
   ]
  },
  {
   "cell_type": "code",
   "execution_count": null,
   "metadata": {},
   "outputs": [],
   "source": [
    "import numpy as np\n",
    "from numpy.random import normal\n",
    "\n",
    "sigs1, sigs2 = sigs1_normal, sigs2_normal\n",
    "\n",
    "ciCOHs = []\n",
    "for timei in range(ntimes):\n",
    "\n",
    "    sig1, sig2 = sigs1[timei, :, :], sigs2[timei, :, :]\n",
    "    \n",
    "    # calculate ciCOH\n",
    "    ciCOH = np.mean(ciCoherence_acrosstrials(sig1, sig2))\n",
    "    ciCOHs.append(ciCOH)\n",
    "    \n",
    "    del ciCOH, sig1, sig2 \n",
    "    \n",
    "ciCOHs_normal = ciCOHs\n",
    "del ciCOHs"
   ]
  },
  {
   "cell_type": "markdown",
   "metadata": {},
   "source": [
    "### plot ciCOH"
   ]
  },
  {
   "cell_type": "code",
   "execution_count": null,
   "metadata": {},
   "outputs": [],
   "source": [
    "from scipy.stats import norm\n",
    "import matplotlib.pyplot as plt\n",
    "\n",
    "ciCOHs = ciCOHs_normal\n",
    "\n",
    "plt.rc('text', usetex=True)\n",
    "\n",
    "# Fit a normal distribution to the data:\n",
    "mu, std = norm.fit(ciCOHs)\n",
    "\n",
    "# Plot the histogram.\n",
    "plt.hist(ciCOHs, bins=25, density=True, alpha=0.6, color='g')\n",
    "\n",
    "# Plot the PDF.\n",
    "xmin, xmax = plt.xlim()\n",
    "x = np.linspace(xmin, xmax, 100)\n",
    "p = norm.pdf(x, mu, std)\n",
    "plt.plot(x, p, 'k', linewidth=2)\n",
    "\n",
    "\n",
    "# plot the 2*std lines\n",
    "plt.plot([mu + 2 * std, mu + 2 * std], np.array(plt.ylim())/2, 'b--', \n",
    "         [mu - 2 * std, mu - 2 * std], np.array(plt.ylim())/2, 'b--')\n",
    "\n",
    "# plot the 3*std lines\n",
    "plt.plot([mu + 3 * std, mu + 3 * std], np.array(plt.ylim())/2, 'k--', \n",
    "         [mu - 3 * std, mu - 3 * std], np.array(plt.ylim())/2, 'k--')\n",
    "\n",
    "\n",
    "eq1 = r\"\\begin{eqnarray*}\" + \\\n",
    "      r\"\\mu = \" + str(np.around(mu, decimals=2)) + \"\\\\\"\\\n",
    "      r\"\\std = \" + str(np.around(std, decimals=4)) + \"\\\\\"\\\n",
    "      r\"\\95 \\%= \" + str(np.around(mu + 2*std, decimals=4)) + \"\\\\\"\\\n",
    "      r\"\\99 \\%= \" + str(np.around(mu + 3*std, decimals=4)) +\\\n",
    "      r\"\\end{eqnarray*}\"\n",
    "\n",
    "plt.text(0.008, 90, eq1, {'fontsize': 12}, va=\"top\", ha=\"left\")\n",
    "\n",
    "title = \"Probability distribution fit of ciCOH data\"\n",
    "plt.title(title, size=15)\n",
    "\n",
    "#plt.show()\n",
    "plt.savefig(os.path.join(savefolder,  \"normal_ciCOHpdf.png\"))\n",
    "\n",
    "del ciCOHs"
   ]
  },
  {
   "cell_type": "markdown",
   "metadata": {},
   "source": [
    "## Sinusoidal Signal"
   ]
  },
  {
   "cell_type": "markdown",
   "metadata": {},
   "source": [
    "### no Connection"
   ]
  },
  {
   "cell_type": "code",
   "execution_count": null,
   "metadata": {},
   "outputs": [],
   "source": [
    "sig1_noConn, sig2_noConn = gen_series_noconnection_sin(ntrials, ntemp, f, t = 1, Desired_SNR_dB = 20)"
   ]
  },
  {
   "cell_type": "code",
   "execution_count": 5,
   "metadata": {},
   "outputs": [
    {
     "name": "stdout",
     "output_type": "stream",
     "text": [
      "importing Jupyter notebook from /home/lingling/Insync/yang7003@umn.edu/NMRC_umn/Projects/FCAnalysis/exp/code/simulated/ciCOH_threshold.ipynb\n"
     ]
    },
    {
     "ename": "SyntaxError",
     "evalue": "positional argument follows keyword argument (<string>, line 37)",
     "output_type": "error",
     "traceback": [
      "Traceback \u001b[0;36m(most recent call last)\u001b[0m:\n",
      "  File \u001b[1;32m\"/home/lingling/anaconda3/envs/general/lib/python3.8/site-packages/IPython/core/interactiveshell.py\"\u001b[0m, line \u001b[1;32m3331\u001b[0m, in \u001b[1;35mrun_code\u001b[0m\n    exec(code_obj, self.user_global_ns, self.user_ns)\n",
      "  File \u001b[1;32m\"<ipython-input-5-7fc8a9d8d2f1>\"\u001b[0m, line \u001b[1;32m1\u001b[0m, in \u001b[1;35m<module>\u001b[0m\n    from simulated.ciCOH_threshold import threshold_ciCOH_sin\n",
      "  File \u001b[1;32m\"<frozen importlib._bootstrap>\"\u001b[0m, line \u001b[1;32m991\u001b[0m, in \u001b[1;35m_find_and_load\u001b[0m\n",
      "  File \u001b[1;32m\"<frozen importlib._bootstrap>\"\u001b[0m, line \u001b[1;32m975\u001b[0m, in \u001b[1;35m_find_and_load_unlocked\u001b[0m\n",
      "  File \u001b[1;32m\"<frozen importlib._bootstrap>\"\u001b[0m, line \u001b[1;32m655\u001b[0m, in \u001b[1;35m_load_unlocked\u001b[0m\n",
      "  File \u001b[1;32m\"<frozen importlib._bootstrap>\"\u001b[0m, line \u001b[1;32m618\u001b[0m, in \u001b[1;35m_load_backward_compatible\u001b[0m\n",
      "\u001b[0;36m  File \u001b[0;32m\"/home/lingling/anaconda3/envs/general/lib/python3.8/site-packages/import_nbmodule/import_nbmodule.py\"\u001b[0;36m, line \u001b[0;32m85\u001b[0;36m, in \u001b[0;35mload_module\u001b[0;36m\u001b[0m\n\u001b[0;31m    exec(code, mod.__dict__)\u001b[0m\n",
      "\u001b[0;36m  File \u001b[0;32m\"<string>\"\u001b[0;36m, line \u001b[0;32m37\u001b[0m\n\u001b[0;31mSyntaxError\u001b[0m\u001b[0;31m:\u001b[0m positional argument follows keyword argument\n"
     ]
    }
   ],
   "source": [
    "from simulated.ciCOH_threshold import threshold_ciCOH_sin\n",
    "threshold_ciCOH_sin(ntimes = ntimes , ntrials = ntrials, ntemp = ntemp, f = f, t = t, alpha = 0.05, ploton = True)"
   ]
  },
  {
   "cell_type": "code",
   "execution_count": null,
   "metadata": {},
   "outputs": [],
   "source": [
    "ntemp, ntrials = 500, 200\n",
    "\n",
    "# repeat ntimes\n",
    "ntimes = 1000\n",
    "\n",
    "# generate the ciCOH population \n",
    "ciCOHs = gen_ciCOH_population_sin(ntimes = ntimes, ntrials = ntrials, ntemp = ntemp, f =f, t = t, Desired_SNR_dB = 20)"
   ]
  },
  {
   "cell_type": "code",
   "execution_count": null,
   "metadata": {},
   "outputs": [],
   "source": [
    "plt.hist(ciCOHs, bins=10, density=True, alpha=0.6, color='g')\n",
    "\n",
    "# Fit a normal distribution to the data:\n",
    "mu, std = norm.fit(ciCOHs)\n",
    "\n",
    "# Plot the PDF.\n",
    "xmin, xmax = plt.xlim()\n",
    "x = np.linspace(xmin, xmax, 100)\n",
    "p = norm.pdf(x, mu, std)\n",
    "plt.plot(x, p, 'k', linewidth=2)\n",
    "\n",
    "\n",
    "# lot the 2*std lines\n",
    "plt.plot([mu + 2 * std, mu + 2 * std], np.array(plt.ylim())/2, 'b--', \n",
    "         [mu - 2 * std, mu - 2 * std], np.array(plt.ylim())/2, 'b--')\n",
    "\n",
    "# plot the 3*std lines\n",
    "plt.plot([mu + 3 * std, mu + 3 * std], np.array(plt.ylim())/2, 'k--', \n",
    "         [mu - 3 * std, mu - 3 * std], np.array(plt.ylim())/2, 'k--')\n",
    "\n",
    "\n",
    "\n",
    "\n",
    "# Plot statistical analysis:  mu, std and 95% \n",
    "\n",
    "# the content of statistical analysis text\n",
    "eq1 = r\"\\begin{eqnarray*}\" + \\\n",
    "  r\"\\mu = \" + str(np.around(mu, decimals=2)) + \"\\\\\"\\\n",
    "  r\"\\std = \" + str(np.around(std, decimals=4)) + \"\\\\\"\\\n",
    "  r\"\\95 \\%= \" + str(np.around(mu + 2*std, decimals=4)) + \"\\\\\"\\\n",
    "  r\"\\99 \\%= \" + str(np.around(mu + 3*std, decimals=4)) +\\\n",
    "  r\"\\end{eqnarray*}\"\n",
    "\n",
    "# the plot position of mu, std, and 95% text\n",
    "ymin, ymax = plt.ylim()\n",
    "xmin, xmax = plt.xlim()\n",
    "pos_x = xmin + (xmax - xmin)* 4/5\n",
    "pos_y = ymin + (ymax -ymin) * 4/5\n",
    "plt.text(pos_x, pos_y, eq1, {'fontsize': 12}, va=\"top\", ha=\"left\")"
   ]
  },
  {
   "cell_type": "code",
   "execution_count": null,
   "metadata": {},
   "outputs": [],
   "source": [
    "from simulated.ciCOH_threshold import threshold_ciCOH_sin\n",
    "threshold_ciCOH_sin(ntimes, ntrials, ntemp, f, t = 1, alpha = 0.05, ploton = False)"
   ]
  },
  {
   "cell_type": "markdown",
   "metadata": {},
   "source": [
    "## Sinusoidal Distribution (with Connection)"
   ]
  },
  {
   "cell_type": "markdown",
   "metadata": {},
   "source": [
    "### functioon add Gaussian Noise"
   ]
  },
  {
   "cell_type": "code",
   "execution_count": null,
   "metadata": {},
   "outputs": [],
   "source": [
    "import numpy as np\n",
    "\n",
    "def GaussianNoise_SNR(signal, Desired_SNR_dB):\n",
    "    \"\"\"\n",
    "        add desired SNR (dB) gaussian noise to signal\n",
    "        SNR(dB) = 10 * log10(power_signal/power_noise)\n",
    "\n",
    "        @ parameter:\n",
    "            signal: (n_times,)\n",
    "            Desired_SNR_dB: desired SNR in dB\n",
    "        \n",
    "        @ return \n",
    "            signal_noisy: (n_times,)\n",
    "    \"\"\"\n",
    "    \n",
    "    n_times = signal.shape[0]\n",
    "    noise = np.random.normal(loc=0.0, scale=1.0, size=(n_times,))\n",
    "\n",
    "    power_signal = np.dot(abs(signal), abs(signal))/n_times\n",
    "    power_noise = np.dot(abs(noise), abs(noise))/n_times \n",
    "\n",
    "    k = (power_signal * pow(10,(-Desired_SNR_dB/10)))/power_noise # scale factor\n",
    "    noise_new = np.sqrt(k) * noise\n",
    "\n",
    "    signal_noisy = signal + noise_new\n",
    "\n",
    "    return signal_noisy"
   ]
  },
  {
   "cell_type": "code",
   "execution_count": null,
   "metadata": {},
   "outputs": [],
   "source": []
  },
  {
   "cell_type": "markdown",
   "metadata": {},
   "source": [
    "### A trial example"
   ]
  },
  {
   "cell_type": "code",
   "execution_count": null,
   "metadata": {},
   "outputs": [],
   "source": [
    "Desired_SNR_dB = 20\n",
    "\n",
    "f = 30\n",
    "\n",
    "t = np.linspace(0, 0.5, ntemp)\n",
    "\n",
    "import matplotlib.pylab as plt\n",
    "from numpy.random import normal\n",
    "plt.rc('text', usetex=True)\n",
    "\n",
    "phi1 = normal(loc=np.pi, scale=1.0)\n",
    "phi2 = normal(loc=np.pi/2, scale=1.0)\n",
    "\n",
    "s1 = np.sin(2 * np.pi * f* t)\n",
    "s2 = np.sin(2 * np.pi * f * t + phi1)\n",
    "s3 = 1.5 * np.sin(2 * np.pi * f* t + phi2)\n",
    "\n",
    "\n",
    "# add normal distribution noise\n",
    "s1 = GaussianNoise_SNR(s1, Desired_SNR_dB = Desired_SNR_dB)\n",
    "s2 = GaussianNoise_SNR(s2, Desired_SNR_dB = Desired_SNR_dB)\n",
    "s3 = GaussianNoise_SNR(s3, Desired_SNR_dB = Desired_SNR_dB)\n",
    "\n",
    "npoints = 125\n",
    "fig, ax = plt.subplots()\n",
    "\n",
    "plt.plot(t[0:npoints], s1[0:npoints], 'k', t[0:npoints], s2[0:npoints], 'b',t[0:npoints], s3[0:npoints], 'r')\n",
    "\n",
    "\n",
    "plt.xlabel('time (s)', size=15)\n",
    "plt.ylabel('signal', size=15)\n",
    "plt.axis('tight')\n",
    "plt.ylim(-1.8, 2.1)\n",
    "\n",
    "\n",
    "# legend\n",
    "eq1 = r\"\\begin{eqnarray*}\" + r\"\\sin(2\\pi ft)\" +  r\"\\end{eqnarray*}\"\n",
    "eq2 = r\"\\begin{eqnarray*}\" + r\"\\sin(2\\pi ft + \\phi_1)\" +  r\"\\end{eqnarray*}\"\n",
    "eq3 = r\"\\begin{eqnarray*}\" + r\"\\sin(2\\pi ft + \\phi_2)\" +  r\"\\end{eqnarray*}\"\n",
    "plt.legend((eq1, eq2, eq3), ncol = 3, loc = 1)\n",
    "\n",
    "\n",
    "title = \"One trial of generated sinusoidal time series with connections\"\n",
    "plt.title(title, size=15)\n",
    "\n",
    "#plt.show()\n",
    "plt.savefig(os.path.join(savefolder,  \"sin_TimeSeries_Exampe.png\"))\n",
    "\n",
    "s1_1trial_sin, s2_1trial_sin, s3_1trial_sin = s1, s2, s3"
   ]
  },
  {
   "cell_type": "markdown",
   "metadata": {},
   "source": [
    "### generate time series"
   ]
  },
  {
   "cell_type": "code",
   "execution_count": null,
   "metadata": {},
   "outputs": [],
   "source": [
    "Desired_SNR_dB = 20\n",
    "\n",
    "f = 30\n",
    "\n",
    "t = np.linspace(0, 0.5, ntemp)\n",
    "\n",
    "\n",
    "# generated s1, s2 and s3 signals: ntimes * ntrials * ntemp\n",
    "sigs1, sigs2 = np.empty(shape=(0, ntrials, ntemp)), np.empty(shape=(0, ntrials, ntemp))\n",
    "sigs3 = np.empty(shape=(0, ntrials, ntemp))\n",
    "for timei in range(ntimes):\n",
    "    \n",
    "    if timei % 20 ==0:\n",
    "        print(\"timei = \" + str(timei) + \"/\" + str(ntimes))\n",
    "    \n",
    "    # generated s1, s2 and s3 signals: ntrials * ntemp\n",
    "    sig1, sig2, sig3 = np.empty(shape=[0,ntemp]), np.empty(shape=[0,ntemp]), np.empty(shape=[0,ntemp])\n",
    "    phi1 = normal(loc=np.pi, scale=1.0)\n",
    "    phi2 = normal(loc=np.pi/2, scale=1.0)\n",
    "    for triali in range(ntrials):\n",
    "        \n",
    "        s1 = np.sin(2 * np.pi * f * t)\n",
    "        s2 = np.sin(2 * np.pi * f * t + phi1)\n",
    "        s3 = 1.5 * np.sin(2 * np.pi * f * t + phi2)\n",
    "\n",
    "        # add normal distribution noise\n",
    "        s1 = GaussianNoise_SNR(s1, Desired_SNR_dB = Desired_SNR_dB)\n",
    "        s2 = GaussianNoise_SNR(s2, Desired_SNR_dB = Desired_SNR_dB)\n",
    "        s3 = GaussianNoise_SNR(s3, Desired_SNR_dB = Desired_SNR_dB)\n",
    "\n",
    "        # append the time serie of the new trial\n",
    "        sig1 = np.append(sig1, np.expand_dims(s1, axis = 0), axis=0)\n",
    "        sig2 = np.append(sig2, np.expand_dims(s2, axis = 0), axis=0)\n",
    "        sig3 = np.append(sig3, np.expand_dims(s3, axis = 0), axis=0)\n",
    "        \n",
    "        del s1, s2, s3\n",
    "        \n",
    "    # append the time serie of the new trial\n",
    "    sigs1 = np.append(sigs1, np.expand_dims(sig1, axis = 0), axis=0)\n",
    "    sigs2 = np.append(sigs2, np.expand_dims(sig2, axis = 0), axis=0)\n",
    "    sigs3 = np.append(sigs3, np.expand_dims(sig3, axis = 0), axis=0)\n",
    "    \n",
    "    del sig1, sig2, sig3\n",
    "    \n",
    "sigs1_sin, sigs2_sin, sigs3_sin = sigs1, sigs2, sigs3\n",
    "\n",
    "del sigs1, sigs2, sigs3"
   ]
  },
  {
   "cell_type": "markdown",
   "metadata": {},
   "source": [
    "### Calc ciCOH "
   ]
  },
  {
   "cell_type": "code",
   "execution_count": null,
   "metadata": {},
   "outputs": [],
   "source": [
    "import matplotlib.pylab as plt\n",
    "from numpy.random import normal\n",
    "\n",
    "sigs1, sigs2, sigs3 = sigs1_sin, sigs2_sin, sigs3_sin\n",
    "\n",
    "ciCOHs_12, ciCOHs_13 = [], []\n",
    "for timei in range(ntimes):\n",
    "    \n",
    "    if timei % 100 ==0:\n",
    "        print(\"timei = \" + str(timei) + \"/\" + str(ntimes))\n",
    "    \n",
    "    sig1, sig2, sig3 = sigs1[timei, :, :], sigs2[timei, :, :], sigs3[timei, :, :]\n",
    "        \n",
    "    # calculate ciCOH\n",
    "    ciCOH_12 = np.mean(ciCoherence_acrosstrials(sig1, sig2))\n",
    "    ciCOH_13 = np.mean(ciCoherence_acrosstrials(sig1, sig3))\n",
    "    ciCOHs_12.append(ciCOH_12)\n",
    "    ciCOHs_13.append(ciCOH_13)\n",
    "        \n",
    "    \n",
    "    del sig1, sig2, sig3, ciCOH_12, ciCOH_13\n",
    "    \n",
    "ciCOHs_sin12, ciCOHs_sin13 = ciCOHs_12, ciCOHs_13\n",
    "del ciCOHs_12, ciCOHs_13, sigs1, sigs2, sigs3"
   ]
  },
  {
   "cell_type": "markdown",
   "metadata": {},
   "source": [
    "### plot ciCOH"
   ]
  },
  {
   "cell_type": "code",
   "execution_count": null,
   "metadata": {},
   "outputs": [],
   "source": [
    "from scipy.stats import norm\n",
    "import matplotlib.pyplot as plt\n",
    "\n",
    "\n",
    "plt.rc('text', usetex=True)\n",
    "plt.figure()\n",
    "\n",
    "\n",
    "\n",
    "### ciCOHs_12\n",
    "\n",
    "ciCOHs = ciCOHs_sin12\n",
    "ciCOHs = abs(np.array(ciCOHs))\n",
    "\n",
    "# Fit a normal distribution to the data:\n",
    "mu, std = norm.fit(abs(ciCOHs))\n",
    "\n",
    "# Plot the histogram \n",
    "plt.subplot(211)\n",
    "plt.hist(ciCOHs, bins=25, density = True, alpha=0.6, color='g')\n",
    "\n",
    "eq1 = r\"\\begin{eqnarray*}\" + \\\n",
    "      r\"\\min = \" + str(np.around(np.min(ciCOHs), decimals=3)) + \\\n",
    "      r\"\\end{eqnarray*}\"\n",
    "\n",
    "\n",
    "bottom, top = plt.ylim()\n",
    "plt.text(0.2, bottom + (top - bottom) * 0.5, eq1, {'fontsize': 12}, va=\"top\", ha=\"left\")\n",
    "plt.text(0.4, bottom + (top - bottom) * 0.9, r\"s1 and s2\", {'fontsize': 12}, va=\"top\", size=12, weight=\"bold\")\n",
    "plt.xticks([])\n",
    "\n",
    "\n",
    "title = \"Histogram of abs(ciCOH) data\"\n",
    "plt.title(title, size=15)\n",
    "\n",
    "del ciCOHs\n",
    "\n",
    "\n",
    "\n",
    "### ciCOHs_13\n",
    "\n",
    "ciCOHs = ciCOHs_sin13\n",
    "ciCOHs = abs(np.array(ciCOHs))\n",
    "\n",
    "# Fit a normal distribution to the data:\n",
    "mu, std = norm.fit(abs(ciCOHs))\n",
    "\n",
    "plt.subplot(212)\n",
    "plt.hist(ciCOHs, bins=25, density = True, color = 'g', alpha = 0.6)\n",
    "\n",
    "\n",
    "eq1 = r\"\\begin{eqnarray*}\" + \\\n",
    "      r\"\\min = \" + str(np.around(np.min(ciCOHs), decimals=3)) + \\\n",
    "      r\"\\end{eqnarray*}\"\n",
    "\n",
    "\n",
    "bottom, top = plt.ylim()\n",
    "\n",
    "\n",
    "plt.text(0.2, bottom + (top - bottom) * 0.5, eq1, {'fontsize': 12}, va=\"top\", ha=\"left\")\n",
    "plt.text(0.4, bottom + (top - bottom) * 0.9, r\"s1 and s3\", {'fontsize': 12}, va=\"top\", size=12, weight=\"bold\")\n",
    "\n",
    "\n",
    "plt.xlabel('ciCOH Values', size=15)\n",
    "plt.text(-0.18, bottom + (top - bottom) * 0.7,'Probability Density', size=15, rotation='vertical')\n",
    "\n",
    "#plt.show()\n",
    "plt.savefig(os.path.join(savefolder,  \"sin_ciCOHHist.png\"))\n",
    "\n",
    "del ciCOHs"
   ]
  },
  {
   "cell_type": "markdown",
   "metadata": {},
   "source": [
    "## Volume Conduction"
   ]
  },
  {
   "cell_type": "code",
   "execution_count": null,
   "metadata": {},
   "outputs": [],
   "source": [
    "alpha = 0.5"
   ]
  },
  {
   "cell_type": "code",
   "execution_count": null,
   "metadata": {},
   "outputs": [],
   "source": [
    "### no connection ####\n",
    "\n",
    "x_noConn, y_noConn = sigs1_normal, sigs2_normal\n",
    "ciCOH_ori, ciCOH_new = [], []\n",
    "for timei in range(x_noConn.shape[0]):\n",
    "\n",
    "    x, y = x_noConn[timei, :, :], y_noConn[timei, :, :] \n",
    "    x_new, y_new = x + alpha * y,  y + alpha * x\n",
    "\n",
    "    # calculate ciCOH\n",
    "    ciCOH_ori = np.append(ciCOH_ori, np.mean(ciCoherence_acrosstrials(x, y)))\n",
    "    ciCOH_new = np.append(ciCOH_new, np.mean(ciCoherence_acrosstrials(x_new, y_new)))\n",
    "\n",
    "    del x,  y, x_new, y_new\n",
    "    \n",
    "ciCOH_noConn_ori, ciCOH_noConn_new = ciCOH_ori, ciCOH_new\n",
    "del ciCOH_ori, ciCOH_new"
   ]
  },
  {
   "cell_type": "code",
   "execution_count": null,
   "metadata": {},
   "outputs": [],
   "source": [
    "### connection ####\n",
    "\n",
    "x_Conn, y_Conn = sigs1_sin, sigs2_sin\n",
    "ciCOH_ori, ciCOH_new = [], []\n",
    "for timei in range(x_Conn.shape[0]):\n",
    "\n",
    "    x, y = x_Conn[timei, :, :], y_Conn[timei, :, :] \n",
    "    x_new, y_new = x + alpha * y,  y + alpha * x\n",
    "\n",
    "    # calculate ciCOH\n",
    "    ciCOH_ori = np.append(ciCOH_ori, np.mean(ciCoherence_acrosstrials(x, y)))\n",
    "    ciCOH_new = np.append(ciCOH_new, np.mean(ciCoherence_acrosstrials(x_new, y_new)))\n",
    "\n",
    "    del x,  y, x_new, y_new\n",
    "    \n",
    "ciCOH_Conn_ori, ciCOH_Conn_new = ciCOH_ori, ciCOH_new\n",
    "del ciCOH_ori, ciCOH_new"
   ]
  },
  {
   "cell_type": "markdown",
   "metadata": {},
   "source": [
    "### plot"
   ]
  },
  {
   "cell_type": "code",
   "execution_count": null,
   "metadata": {},
   "outputs": [],
   "source": [
    "from scipy.stats import norm\n",
    "import matplotlib.pyplot as plt\n",
    "\n",
    "fig, ax = plt.subplots()\n",
    "plt.plot(ciCOH_noConn_ori, ciCOH_noConn_new, '.')\n",
    "\n",
    "\n",
    "ax.set(xlabel='x and y', ylabel='xnew and ynew',\n",
    "       title='ciCOH values')\n",
    "\n",
    "plt.savefig(os.path.join(savefolder,  \"volume_noconn.png\"))"
   ]
  },
  {
   "cell_type": "code",
   "execution_count": null,
   "metadata": {},
   "outputs": [],
   "source": [
    "ax"
   ]
  },
  {
   "cell_type": "code",
   "execution_count": null,
   "metadata": {},
   "outputs": [],
   "source": [
    "from scipy.stats import norm\n",
    "import matplotlib.pyplot as plt\n",
    "\n",
    "plt.plot(ciCOH_Conn_ori, ciCOH_Conn_new, '.')\n",
    "plt.xlabel('ciCOH values between two time series with no connections')\n",
    "plt.ylabel('ciCOH values between two new generated time series')\n",
    "\n",
    "plt.savefig(os.path.join(savefolder,  \"volume_conn.png\"))"
   ]
  }
 ],
 "metadata": {
  "kernelspec": {
   "display_name": "Python 3",
   "language": "python",
   "name": "python3"
  },
  "language_info": {
   "codemirror_mode": {
    "name": "ipython",
    "version": 3
   },
   "file_extension": ".py",
   "mimetype": "text/x-python",
   "name": "python",
   "nbconvert_exporter": "python",
   "pygments_lexer": "ipython3",
   "version": "3.8.1"
  },
  "toc": {
   "base_numbering": 1,
   "nav_menu": {},
   "number_sections": false,
   "sideBar": true,
   "skip_h1_title": true,
   "title_cell": "",
   "title_sidebar": "",
   "toc_cell": false,
   "toc_position": {
    "height": "calc(100% - 180px)",
    "left": "10px",
    "top": "150px",
    "width": "312.969px"
   },
   "toc_section_display": true,
   "toc_window_display": true
  }
 },
 "nbformat": 4,
 "nbformat_minor": 2
}
