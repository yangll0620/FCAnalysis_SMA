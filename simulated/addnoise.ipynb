{
 "cells": [
  {
   "cell_type": "code",
   "execution_count": null,
   "metadata": {},
   "outputs": [],
   "source": [
    "import numpy as np\n",
    "\n",
    "def add_gaussiannoise_SNR(signal, Desired_SNR_dB):\n",
    "    \"\"\"\n",
    "        add desired SNR (dB) gaussian noise to signal\n",
    "        SNR(dB) = 10 * log10(power_signal/power_noise)\n",
    "\n",
    "        @ parameter:\n",
    "            signal: (n_times,)\n",
    "            Desired_SNR_dB: desired SNR in dB\n",
    "        \n",
    "        @ return \n",
    "            signal_noisy: (n_times,)\n",
    "    \"\"\"\n",
    "    \n",
    "    n_times = signal.shape[0]\n",
    "    noise = np.random.normal(loc=0.0, scale=1.0, size=(n_times,))\n",
    "\n",
    "    power_signal = np.dot(abs(signal), abs(signal))/n_times\n",
    "    power_noise = np.dot(abs(noise), abs(noise))/n_times \n",
    "\n",
    "    k = (power_signal * pow(10,(-Desired_SNR_dB/10)))/power_noise # scale factor\n",
    "    noise_new = np.sqrt(k) * noise\n",
    "\n",
    "    signal_noisy = signal + noise_new\n",
    "\n",
    "    return signal_noisy"
   ]
  }
 ],
 "metadata": {
  "kernelspec": {
   "display_name": "Python 3",
   "language": "python",
   "name": "python3"
  },
  "language_info": {
   "codemirror_mode": {
    "name": "ipython",
    "version": 3
   },
   "file_extension": ".py",
   "mimetype": "text/x-python",
   "name": "python",
   "nbconvert_exporter": "python",
   "pygments_lexer": "ipython3",
   "version": "3.8.1"
  },
  "toc": {
   "base_numbering": 1,
   "nav_menu": {},
   "number_sections": false,
   "sideBar": true,
   "skip_h1_title": true,
   "title_cell": "Table of Contents",
   "title_sidebar": "Contents",
   "toc_cell": false,
   "toc_position": {},
   "toc_section_display": true,
   "toc_window_display": false
  }
 },
 "nbformat": 4,
 "nbformat_minor": 4
}
