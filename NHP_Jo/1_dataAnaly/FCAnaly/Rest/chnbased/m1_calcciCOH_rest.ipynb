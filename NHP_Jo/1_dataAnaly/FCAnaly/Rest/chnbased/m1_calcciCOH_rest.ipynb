{
 "cells": [
  {
   "cell_type": "markdown",
   "metadata": {},
   "source": [
    "# Functionality of this notebook: \n",
    "\n",
    "* calculate the ciCOH for normal and mild LFP data in rest"
   ]
  },
  {
   "cell_type": "markdown",
   "metadata": {},
   "source": [
    "## Import Packages"
   ]
  },
  {
   "cell_type": "code",
   "execution_count": 1,
   "metadata": {},
   "outputs": [],
   "source": [
    "import os, sys\n",
    "import scipy.io as sio\n",
    "import glob\n",
    "import numpy as np\n",
    "import matplotlib.pyplot as plt\n",
    "import pickle \n",
    "import math\n",
    "import pandas as pd\n",
    "%matplotlib inline"
   ]
  },
  {
   "cell_type": "code",
   "execution_count": 2,
   "metadata": {},
   "outputs": [
    {
     "name": "stdout",
     "output_type": "stream",
     "text": [
      "importing Jupyter notebook from /home/lingling/Insync/yang7003@umn.edu/NMRC_umn/Projects/FCAnalysis/exp/code/util/folder_extract.ipynb\n",
      "importing Jupyter notebook from /home/lingling/Insync/yang7003@umn.edu/NMRC_umn/Projects/FCAnalysis/exp/code/connAnalyTool/synchronization_indices.ipynb\n"
     ]
    }
   ],
   "source": [
    "# extract the exp folder path\n",
    "currfolder = os.getcwd()\n",
    "codefolder = currfolder[0 : currfolder.find('code')+len('code')]\n",
    "\n",
    "# add path the exp folder\n",
    "sys.path.append(codefolder)\n",
    "\n",
    "# import_nbmodule used for import package in .ipynb\n",
    "import import_nbmodule\n",
    "\n",
    "# import util/folder_extract.pynb \n",
    "from util.folder_extract import exp_subfolders, code_corresfolder\n",
    "\n",
    "# import ciCoherence_overtime in connAnalyTool/synchronization_indices.ipynb\n",
    "from connAnalyTool.synchronization_indices import ciCoherence_acrosstrials\n",
    "from connAnalyTool.synchronization_indices import ciCoherence_overtime"
   ]
  },
  {
   "cell_type": "markdown",
   "metadata": {},
   "source": [
    "## exp subfolders & code_corresfolder"
   ]
  },
  {
   "cell_type": "code",
   "execution_count": 3,
   "metadata": {},
   "outputs": [],
   "source": [
    "_, _, pipelinefolder, _= exp_subfolders()"
   ]
  },
  {
   "cell_type": "code",
   "execution_count": 4,
   "metadata": {},
   "outputs": [
    {
     "data": {
      "application/javascript": [
       "IPython.notebook.kernel.execute('nb_name = \"' + IPython.notebook.notebook_name + '\"')\n"
      ],
      "text/plain": [
       "<IPython.core.display.Javascript object>"
      ]
     },
     "metadata": {},
     "output_type": "display_data"
    }
   ],
   "source": [
    "%%javascript\n",
    "IPython.notebook.kernel.execute('nb_name = \"' + IPython.notebook.notebook_name + '\"')"
   ]
  },
  {
   "cell_type": "code",
   "execution_count": 5,
   "metadata": {},
   "outputs": [],
   "source": [
    "nb_name = nb_name[0: nb_name.find('.ipynb')]\n",
    "\n",
    "# corresfolder\n",
    "corresfolder, correparentfolder = code_corresfolder(os.getcwd(), nb_name)"
   ]
  },
  {
   "cell_type": "markdown",
   "metadata": {},
   "source": [
    "## global parameters"
   ]
  },
  {
   "cell_type": "code",
   "execution_count": 6,
   "metadata": {},
   "outputs": [],
   "source": [
    "freq = [16, 18]\n",
    "\n",
    "halfs = False\n",
    "\n",
    "sameDates4SKTRest = False"
   ]
  },
  {
   "cell_type": "markdown",
   "metadata": {},
   "source": [
    "## input setup"
   ]
  },
  {
   "cell_type": "code",
   "execution_count": 7,
   "metadata": {},
   "outputs": [],
   "source": [
    "inputfolder = os.path.join(pipelinefolder, 'NHP_Jo', '0_dataPrep', 'Rest', \n",
    "                           'm4_restData_filtered' + str(freq[0]) + '_' + str(freq[1]) + '_segDownsample')"
   ]
  },
  {
   "cell_type": "code",
   "execution_count": 8,
   "metadata": {},
   "outputs": [],
   "source": [
    "variablesinLoadfile = ['lfpsegs_m1', 'lfpsegs_stn', 'lfpsegs_gp', 'fs', 'segsRemain']"
   ]
  },
  {
   "cell_type": "code",
   "execution_count": 9,
   "metadata": {},
   "outputs": [],
   "source": [
    "chnInf_folder = correparentfolder\n",
    "chnInf_file = os.path.join(chnInf_folder, 'chn_brainArea_simCoord_M1DBS.csv')"
   ]
  },
  {
   "cell_type": "code",
   "execution_count": 10,
   "metadata": {},
   "outputs": [],
   "source": [
    "if sameDates4SKTRest:\n",
    "    \n",
    "    sameDatesInfFile = os.path.join(pipelinefolder, 'NHP_Jo', '0_dataPrep', 'Jo_sameDatesUsedforSTKRest.csv')"
   ]
  },
  {
   "cell_type": "markdown",
   "metadata": {},
   "source": [
    "## Save Setup"
   ]
  },
  {
   "cell_type": "code",
   "execution_count": 11,
   "metadata": {},
   "outputs": [],
   "source": [
    "savefolder = corresfolder\n",
    "savefilename =  'ciCOH_rest' + '_freq' + str(freq[0]) + '_' + str(freq[1])\n",
    "\n",
    "if sameDates4SKTRest:\n",
    "    savefilename = savefilename + '_samedays'"
   ]
  },
  {
   "cell_type": "markdown",
   "metadata": {},
   "source": [
    "## extract lfp"
   ]
  },
  {
   "cell_type": "code",
   "execution_count": 12,
   "metadata": {},
   "outputs": [],
   "source": [
    "def lfpallfiles_extract(files):\n",
    "    if 'lfpdata' in locals():\n",
    "        del lfpdata\n",
    "    \n",
    "    for i, file in enumerate(files):\n",
    "        \n",
    "        ### load data\n",
    "        matdat = sio.loadmat(file, variable_names = variablesinLoadfile, \n",
    "                             struct_as_record = False, squeeze_me = True) \n",
    "\n",
    "        # fs: sample rate\n",
    "        fs = matdat['fs'] \n",
    "    \n",
    "\n",
    "        ### dealing lfp data\n",
    "        \n",
    "        # lfp (np.ndarray): ntemporal * nchns\n",
    "        lfp_m1 = matdat['lfpsegs_m1']\n",
    "        lfp_stn, lfp_gp = matdat['lfpsegs_stn'], matdat['lfpsegs_gp']\n",
    "        \n",
    "        \n",
    "\n",
    "        # combine the data of all the channels\n",
    "        lfpdata_1file = np.concatenate((lfp_m1, lfp_stn, lfp_gp), axis = 1)\n",
    "        \n",
    "        # concatenate to lfpdata for all files\n",
    "        if 'lfpdata' not in locals():\n",
    "            lfpdata = lfpdata_1file\n",
    "        else:\n",
    "            lfpdata = np.concatenate((lfpdata, lfpdata_1file), axis = 2)\n",
    "                \n",
    "                \n",
    "    \n",
    "    return lfpdata"
   ]
  },
  {
   "cell_type": "code",
   "execution_count": 13,
   "metadata": {},
   "outputs": [],
   "source": [
    "files_normal = glob.glob(os.path.join(inputfolder, '*_normal_*'))\n",
    "files_mild = glob.glob(os.path.join(inputfolder, '*_mild_*'))"
   ]
  },
  {
   "cell_type": "code",
   "execution_count": 14,
   "metadata": {},
   "outputs": [
    {
     "name": "stdout",
     "output_type": "stream",
     "text": [
      "3\n",
      "2\n"
     ]
    }
   ],
   "source": [
    "print(len(files_normal))\n",
    "print(len(files_mild))"
   ]
  },
  {
   "cell_type": "code",
   "execution_count": 15,
   "metadata": {},
   "outputs": [],
   "source": [
    "lfpwins_normal = lfpallfiles_extract(files_normal)\n",
    "lfpwins_mild = lfpallfiles_extract(files_mild)"
   ]
  },
  {
   "cell_type": "code",
   "execution_count": 16,
   "metadata": {},
   "outputs": [],
   "source": [
    "if halfs:\n",
    "    lfpwins_normal_2s, lfpwins_mild_2s, lfpwins_moderate_2s = lfpwins_normal, lfpwins_mild, lfpwins_moderate\n",
    "    \n",
    "    lfpwins_normal = lfpwins_normal_2s[0:250, :,:]\n",
    "    lfpwins_mild = lfpwins_mild_2s[0:250, :,:]\n",
    "    lfpwins_moderate = lfpwins_moderate_2s[0:250, :,:]\n",
    "    \n",
    "    savefilename = savefilename + '_halfs'"
   ]
  },
  {
   "cell_type": "code",
   "execution_count": 17,
   "metadata": {},
   "outputs": [
    {
     "name": "stdout",
     "output_type": "stream",
     "text": [
      "(1000, 110, 172)\n",
      "(1000, 110, 155)\n"
     ]
    }
   ],
   "source": [
    "print(lfpwins_normal.shape)\n",
    "print(lfpwins_mild.shape)"
   ]
  },
  {
   "cell_type": "markdown",
   "metadata": {},
   "source": [
    "## Extract chnInf using recchni_used"
   ]
  },
  {
   "cell_type": "code",
   "execution_count": 18,
   "metadata": {},
   "outputs": [],
   "source": [
    "### load channel information ###\n",
    "df = pd.read_csv(chnInf_file, header = 0)"
   ]
  },
  {
   "cell_type": "code",
   "execution_count": 19,
   "metadata": {},
   "outputs": [],
   "source": [
    "# recording chni \n",
    "chnInf_recchni = df['recording_chni'].tolist()\n",
    "\n",
    "chnInf_brainarea = df['brainarea'].tolist()\n",
    "chnInf_matchni = df['mat_chni']\n",
    "\n",
    "\n",
    "# coord\n",
    "x, y = df['simulated_x'].to_numpy(), df['simulated_y'].to_numpy()\n",
    "chnInf_coord = np.concatenate((np.expand_dims(x, axis = 1), np.expand_dims(y, axis = 1)), axis = 1)"
   ]
  },
  {
   "cell_type": "markdown",
   "metadata": {},
   "source": [
    "## Calculate ciCOH"
   ]
  },
  {
   "cell_type": "markdown",
   "metadata": {},
   "source": [
    "### balance mild and normal trials"
   ]
  },
  {
   "cell_type": "code",
   "execution_count": 20,
   "metadata": {},
   "outputs": [],
   "source": [
    "# select the smaller trial number\n",
    "ntrials_normal, ntrials_mild = lfpwins_normal.shape[2], lfpwins_mild.shape[2]\n",
    "#ntrials_moderate = lfpwins_moderate.shape[2]\n",
    "ntrials = min([ntrials_normal, ntrials_mild])\n",
    "\n",
    "# balance trials\n",
    "lfpwins_normal = lfpwins_normal[:,:,0:ntrials]\n",
    "lfpwins_mild = lfpwins_mild[:,:,0:ntrials]\n",
    "#lfpwins_moderate = lfpwins_moderate[:,:,0:ntrials]"
   ]
  },
  {
   "cell_type": "markdown",
   "metadata": {},
   "source": [
    "###  normal ciCOH"
   ]
  },
  {
   "cell_type": "code",
   "execution_count": 21,
   "metadata": {},
   "outputs": [
    {
     "name": "stdout",
     "output_type": "stream",
     "text": [
      "wini = 0/155\n",
      "wini = 10/155\n",
      "wini = 20/155\n",
      "wini = 30/155\n",
      "wini = 40/155\n",
      "wini = 50/155\n",
      "wini = 60/155\n",
      "wini = 70/155\n",
      "wini = 80/155\n",
      "wini = 90/155\n",
      "wini = 100/155\n",
      "wini = 110/155\n",
      "wini = 120/155\n",
      "wini = 130/155\n",
      "wini = 140/155\n",
      "wini = 150/155\n"
     ]
    }
   ],
   "source": [
    "lfpwins_allfiles = lfpwins_normal\n",
    "\n",
    "### calculate ciCOH\n",
    "ntempo, nchns, nwins = lfpwins_allfiles.shape\n",
    "ciCOH_allWins = np.zeros((nchns, nchns, nwins))\n",
    "for wini in range(nwins):\n",
    "    \n",
    "    if wini % 10 == 0:\n",
    "        print(\"wini = \" + str(wini) + \"/\" + str(nwins))\n",
    "    \n",
    "    for chni in range(nchns -1):\n",
    "        signal1 = lfpwins_allfiles[:, chni, wini]\n",
    "        \n",
    "        for chnj in range(chni+1, nchns):\n",
    "            signal2 = lfpwins_allfiles[:, chnj, wini]\n",
    "            \n",
    "            # ciCOH_allWins assignment\n",
    "            ciCOH_allWins[chni, chnj, wini] = ciCoherence_overtime(signal1, signal2)\n",
    "            \n",
    "            # symmetrical\n",
    "            ciCOH_allWins[chnj, chni, wini] = ciCOH_allWins[chni, chnj, wini]\n",
    "            \n",
    "            del signal2\n",
    "        del signal1"
   ]
  },
  {
   "cell_type": "code",
   "execution_count": 22,
   "metadata": {},
   "outputs": [],
   "source": [
    "ciCOH = np.mean(ciCOH_allWins, axis = 2)\n",
    "ciCOH_normal = ciCOH\n",
    "del ciCOH, ciCOH_allWins"
   ]
  },
  {
   "cell_type": "markdown",
   "metadata": {},
   "source": [
    "### mild ciCOH"
   ]
  },
  {
   "cell_type": "code",
   "execution_count": 23,
   "metadata": {},
   "outputs": [
    {
     "name": "stdout",
     "output_type": "stream",
     "text": [
      "wini = 0/155\n",
      "wini = 10/155\n",
      "wini = 20/155\n",
      "wini = 30/155\n",
      "wini = 40/155\n",
      "wini = 50/155\n",
      "wini = 60/155\n",
      "wini = 70/155\n",
      "wini = 80/155\n",
      "wini = 90/155\n",
      "wini = 100/155\n",
      "wini = 110/155\n",
      "wini = 120/155\n",
      "wini = 130/155\n",
      "wini = 140/155\n",
      "wini = 150/155\n"
     ]
    }
   ],
   "source": [
    "lfpwins_allfiles = lfpwins_mild\n",
    "\n",
    "### calculate ciCOH\n",
    "ntempo, nchns, nwins = lfpwins_allfiles.shape\n",
    "ciCOH_allWins = np.zeros((nchns, nchns, nwins))\n",
    "for wini in range(nwins):\n",
    "    \n",
    "    if wini%10 ==0:\n",
    "        print(\"wini = \" + str(wini) + \"/\" + str(nwins))\n",
    "        \n",
    "    for chni in range(nchns -1):\n",
    "        signal1 = lfpwins_allfiles[:, chni, wini]\n",
    "        \n",
    "        for chnj in range(chni+1, nchns):\n",
    "            signal2 = lfpwins_allfiles[:, chnj, wini]\n",
    "            \n",
    "            # ciCOH_allWins assignment\n",
    "            ciCOH_allWins[chni, chnj, wini] = ciCoherence_overtime(signal1, signal2)\n",
    "            \n",
    "            # symmetrical\n",
    "            ciCOH_allWins[chnj, chni, wini] = ciCOH_allWins[chni, chnj, wini]\n",
    "            \n",
    "            del signal2\n",
    "        del signal1"
   ]
  },
  {
   "cell_type": "code",
   "execution_count": 24,
   "metadata": {},
   "outputs": [],
   "source": [
    "ciCOH = np.mean(ciCOH_allWins, axis = 2)\n",
    "ciCOH_mild = ciCOH\n",
    "del ciCOH, ciCOH_allWins"
   ]
  },
  {
   "cell_type": "markdown",
   "metadata": {},
   "source": [
    "## save ciCOH"
   ]
  },
  {
   "cell_type": "code",
   "execution_count": 25,
   "metadata": {},
   "outputs": [],
   "source": [
    "ciCOH = dict()\n",
    "ciCOH['normal'], ciCOH['mild']  = ciCOH_normal, ciCOH_mild, \n",
    "#ciCOH['moderate'] = ciCOH_moderate\n",
    "ciCOH['chnInf_recchni'], ciCOH['chnInf_matchni'] = chnInf_recchni, chnInf_matchni\n",
    "ciCOH['chnInf_brainarea'], ciCOH['chnInf_coord'] = chnInf_brainarea, chnInf_coord\n",
    "ciCOH['ntrials'] = ntrials"
   ]
  },
  {
   "cell_type": "code",
   "execution_count": 26,
   "metadata": {},
   "outputs": [],
   "source": [
    "try:\n",
    "    import cPickle as pickle\n",
    "except ImportError:  # python 3.x\n",
    "    import pickle\n",
    "\n",
    "with open(os.path.join(savefolder, savefilename + '.pickle'), 'wb') as fp:\n",
    "    pickle.dump(ciCOH, fp, protocol=pickle.HIGHEST_PROTOCOL)"
   ]
  },
  {
   "cell_type": "code",
   "execution_count": 27,
   "metadata": {},
   "outputs": [
    {
     "data": {
      "text/plain": [
       "'/home/lingling/Insync/yang7003@umn.edu/NMRC_umn/Projects/FCAnalysis/exp/pipeline/NHP_Jo/1_dataAnaly/FCAnaly/Rest/m1_calcciCOH_rest/ciCOH_rest_freq16_18'"
      ]
     },
     "execution_count": 27,
     "metadata": {},
     "output_type": "execute_result"
    }
   ],
   "source": [
    "os.path.join(savefolder, savefilename)"
   ]
  }
 ],
 "metadata": {
  "kernelspec": {
   "display_name": "Python 3",
   "language": "python",
   "name": "python3"
  },
  "language_info": {
   "codemirror_mode": {
    "name": "ipython",
    "version": 3
   },
   "file_extension": ".py",
   "mimetype": "text/x-python",
   "name": "python",
   "nbconvert_exporter": "python",
   "pygments_lexer": "ipython3",
   "version": "3.8.1"
  },
  "toc": {
   "base_numbering": 1,
   "nav_menu": {
    "height": "238px",
    "width": "482px"
   },
   "number_sections": false,
   "sideBar": true,
   "skip_h1_title": true,
   "title_cell": "Table of Contents",
   "title_sidebar": "",
   "toc_cell": false,
   "toc_position": {
    "height": "calc(100% - 180px)",
    "left": "10px",
    "top": "150px",
    "width": "165px"
   },
   "toc_section_display": true,
   "toc_window_display": false
  }
 },
 "nbformat": 4,
 "nbformat_minor": 2
}
