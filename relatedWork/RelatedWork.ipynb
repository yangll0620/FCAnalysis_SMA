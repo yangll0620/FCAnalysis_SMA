{
 "cells": [
  {
   "cell_type": "markdown",
   "metadata": {},
   "source": [
    "# Related Functional Connectivity Work"
   ]
  },
  {
   "cell_type": "markdown",
   "metadata": {},
   "source": [
    "## Increased FC Work"
   ]
  },
  {
   "cell_type": "markdown",
   "metadata": {},
   "source": [
    "1. D. Stoffers et.al (NeuroImage 2008) Increased cortico-cortical functional connectivity in early-stage Parkinson's disease: An MEG study\n",
    "\n",
    "    * Results:\n",
    "\n",
    "        * Increased resting-state cortico-cortical functional connectivity in the 8–10 Hz alpha range is a feature of PD from the earliest clinical stages onward. \n",
    "\n",
    "2. María A. Fernández‐Seara et.atl (Human Brain Mapping 2015) Resting state functional connectivity of the subthalamic nucleus in Parkinson's disease assessed using arterial spin‐labeled perfusion fMRI\n",
    "\n",
    "    * Conditions\n",
    "       * fMRI\n",
    "       * 24 early‐to‐moderate PD patients and 34 age‐matched healthy controls\n",
    "    * Results\n",
    "        * In PD patients, connectivity of the STN was increased with two cortical areas involved in motor and cognitive processes."
   ]
  },
  {
   "cell_type": "markdown",
   "metadata": {},
   "source": [
    "## Decreased FC Work"
   ]
  },
  {
   "cell_type": "markdown",
   "metadata": {},
   "source": [
    "1. Helmich et.al (Cerebral Cortex 2010) Spatial Remapping of Cortico-striatal Connectivity in Parkinson's Disease.\n",
    "\n",
    "    * Objectives & Methods:\n",
    "\n",
    "        * used multiple regression analyses of resting-state functional magnetic resonance imaging data to quantify functional connectivity across different networks. \n",
    "\n",
    "    * Results:\n",
    "\n",
    "        * PD patients showed decreased coupling between the posterior putamen and the inferior parietal cortex\n",
    "\n",
    "2. Dubbelink et.al (Neurology 2014) Functional connectivity and cognitive decline over 3 years in Parkinson disease\n",
    "\n",
    "    * Conditions \n",
    "        * resting-state fMRI\n",
    "        * 55 patients vs 15 controls\n",
    "    * Results \n",
    "        * Widespread decreases of resting-state functional connectivity in patients with PD in comparison to controls"
   ]
  }
 ],
 "metadata": {
  "kernelspec": {
   "display_name": "Python 3",
   "language": "python",
   "name": "python3"
  },
  "language_info": {
   "codemirror_mode": {
    "name": "ipython",
    "version": 3
   },
   "file_extension": ".py",
   "mimetype": "text/x-python",
   "name": "python",
   "nbconvert_exporter": "python",
   "pygments_lexer": "ipython3",
   "version": "3.6.8"
  },
  "toc": {
   "base_numbering": 1,
   "nav_menu": {},
   "number_sections": false,
   "sideBar": true,
   "skip_h1_title": true,
   "title_cell": "Table of Contents",
   "title_sidebar": "",
   "toc_cell": false,
   "toc_position": {},
   "toc_section_display": true,
   "toc_window_display": true
  }
 },
 "nbformat": 4,
 "nbformat_minor": 2
}
